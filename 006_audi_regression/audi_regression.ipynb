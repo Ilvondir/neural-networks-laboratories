{
 "cells": [
  {
   "cell_type": "code",
   "execution_count": 6,
   "id": "initial_id",
   "metadata": {
    "collapsed": true,
    "ExecuteTime": {
     "end_time": "2024-03-24T18:52:36.934224400Z",
     "start_time": "2024-03-24T18:52:36.900764200Z"
    }
   },
   "outputs": [],
   "source": [
    "import pandas as pd\n",
    "from keras import Sequential\n",
    "from keras.src.callbacks import ModelCheckpoint\n",
    "from keras.src.layers import Dense\n",
    "from sklearn.metrics import mean_absolute_error\n",
    "from sklearn.preprocessing import StandardScaler\n",
    "import plotly.graph_objects as go"
   ]
  },
  {
   "cell_type": "code",
   "execution_count": 7,
   "outputs": [
    {
     "data": {
      "text/plain": "       year  mileage  tax   mpg  engineSize  transmission_Automatic  \\\n0      2017    15735  150  55.4         1.4                       0   \n1      2016    36203   20  64.2         2.0                       1   \n2      2016    29946   30  55.4         1.4                       0   \n3      2017    25952  145  67.3         2.0                       1   \n4      2019     1998  145  49.6         1.0                       0   \n...     ...      ...  ...   ...         ...                     ...   \n10663  2020     4018  145  49.6         1.0                       0   \n10664  2020     1978  150  49.6         1.0                       0   \n10665  2020      609  150  49.6         1.0                       0   \n10666  2017     8646  150  47.9         1.4                       1   \n10667  2016    11855  150  47.9         1.4                       0   \n\n       transmission_Manual  transmission_Semi-Auto  fuelType_Diesel  \\\n0                        1                       0                0   \n1                        0                       0                1   \n2                        1                       0                0   \n3                        0                       0                1   \n4                        1                       0                0   \n...                    ...                     ...              ...   \n10663                    1                       0                0   \n10664                    1                       0                0   \n10665                    1                       0                0   \n10666                    0                       0                0   \n10667                    1                       0                0   \n\n       fuelType_Hybrid  fuelType_Petrol  \n0                    0                1  \n1                    0                0  \n2                    0                1  \n3                    0                0  \n4                    0                1  \n...                ...              ...  \n10663                0                1  \n10664                0                1  \n10665                0                1  \n10666                0                1  \n10667                0                1  \n\n[10668 rows x 11 columns]",
      "text/html": "<div>\n<style scoped>\n    .dataframe tbody tr th:only-of-type {\n        vertical-align: middle;\n    }\n\n    .dataframe tbody tr th {\n        vertical-align: top;\n    }\n\n    .dataframe thead th {\n        text-align: right;\n    }\n</style>\n<table border=\"1\" class=\"dataframe\">\n  <thead>\n    <tr style=\"text-align: right;\">\n      <th></th>\n      <th>year</th>\n      <th>mileage</th>\n      <th>tax</th>\n      <th>mpg</th>\n      <th>engineSize</th>\n      <th>transmission_Automatic</th>\n      <th>transmission_Manual</th>\n      <th>transmission_Semi-Auto</th>\n      <th>fuelType_Diesel</th>\n      <th>fuelType_Hybrid</th>\n      <th>fuelType_Petrol</th>\n    </tr>\n  </thead>\n  <tbody>\n    <tr>\n      <th>0</th>\n      <td>2017</td>\n      <td>15735</td>\n      <td>150</td>\n      <td>55.4</td>\n      <td>1.4</td>\n      <td>0</td>\n      <td>1</td>\n      <td>0</td>\n      <td>0</td>\n      <td>0</td>\n      <td>1</td>\n    </tr>\n    <tr>\n      <th>1</th>\n      <td>2016</td>\n      <td>36203</td>\n      <td>20</td>\n      <td>64.2</td>\n      <td>2.0</td>\n      <td>1</td>\n      <td>0</td>\n      <td>0</td>\n      <td>1</td>\n      <td>0</td>\n      <td>0</td>\n    </tr>\n    <tr>\n      <th>2</th>\n      <td>2016</td>\n      <td>29946</td>\n      <td>30</td>\n      <td>55.4</td>\n      <td>1.4</td>\n      <td>0</td>\n      <td>1</td>\n      <td>0</td>\n      <td>0</td>\n      <td>0</td>\n      <td>1</td>\n    </tr>\n    <tr>\n      <th>3</th>\n      <td>2017</td>\n      <td>25952</td>\n      <td>145</td>\n      <td>67.3</td>\n      <td>2.0</td>\n      <td>1</td>\n      <td>0</td>\n      <td>0</td>\n      <td>1</td>\n      <td>0</td>\n      <td>0</td>\n    </tr>\n    <tr>\n      <th>4</th>\n      <td>2019</td>\n      <td>1998</td>\n      <td>145</td>\n      <td>49.6</td>\n      <td>1.0</td>\n      <td>0</td>\n      <td>1</td>\n      <td>0</td>\n      <td>0</td>\n      <td>0</td>\n      <td>1</td>\n    </tr>\n    <tr>\n      <th>...</th>\n      <td>...</td>\n      <td>...</td>\n      <td>...</td>\n      <td>...</td>\n      <td>...</td>\n      <td>...</td>\n      <td>...</td>\n      <td>...</td>\n      <td>...</td>\n      <td>...</td>\n      <td>...</td>\n    </tr>\n    <tr>\n      <th>10663</th>\n      <td>2020</td>\n      <td>4018</td>\n      <td>145</td>\n      <td>49.6</td>\n      <td>1.0</td>\n      <td>0</td>\n      <td>1</td>\n      <td>0</td>\n      <td>0</td>\n      <td>0</td>\n      <td>1</td>\n    </tr>\n    <tr>\n      <th>10664</th>\n      <td>2020</td>\n      <td>1978</td>\n      <td>150</td>\n      <td>49.6</td>\n      <td>1.0</td>\n      <td>0</td>\n      <td>1</td>\n      <td>0</td>\n      <td>0</td>\n      <td>0</td>\n      <td>1</td>\n    </tr>\n    <tr>\n      <th>10665</th>\n      <td>2020</td>\n      <td>609</td>\n      <td>150</td>\n      <td>49.6</td>\n      <td>1.0</td>\n      <td>0</td>\n      <td>1</td>\n      <td>0</td>\n      <td>0</td>\n      <td>0</td>\n      <td>1</td>\n    </tr>\n    <tr>\n      <th>10666</th>\n      <td>2017</td>\n      <td>8646</td>\n      <td>150</td>\n      <td>47.9</td>\n      <td>1.4</td>\n      <td>1</td>\n      <td>0</td>\n      <td>0</td>\n      <td>0</td>\n      <td>0</td>\n      <td>1</td>\n    </tr>\n    <tr>\n      <th>10667</th>\n      <td>2016</td>\n      <td>11855</td>\n      <td>150</td>\n      <td>47.9</td>\n      <td>1.4</td>\n      <td>0</td>\n      <td>1</td>\n      <td>0</td>\n      <td>0</td>\n      <td>0</td>\n      <td>1</td>\n    </tr>\n  </tbody>\n</table>\n<p>10668 rows × 11 columns</p>\n</div>"
     },
     "execution_count": 7,
     "metadata": {},
     "output_type": "execute_result"
    }
   ],
   "source": [
    "data = pd.read_csv(\"audi.csv\").drop(\"model\", axis=1)\n",
    "\n",
    "test_labels = data[\"price\"][-1000:-1]\n",
    "labels = data[\"price\"][0:-1000]\n",
    "\n",
    "data = data.drop(\"price\", axis=1)\n",
    "data = pd.get_dummies(data, columns=[\"transmission\"], dtype=int)\n",
    "data = pd.get_dummies(data, columns=[\"fuelType\"], dtype=int)\n",
    "data"
   ],
   "metadata": {
    "collapsed": false,
    "ExecuteTime": {
     "end_time": "2024-03-24T18:52:37.977514200Z",
     "start_time": "2024-03-24T18:52:37.873487Z"
    }
   },
   "id": "29989647aad079ee"
  },
  {
   "cell_type": "code",
   "execution_count": 8,
   "outputs": [],
   "source": [
    "scaler = StandardScaler()\n",
    "test_data = data[-1000:-1]\n",
    "data = data[:-1000]\n",
    "\n",
    "data = scaler.fit_transform(data)\n",
    "test_data = scaler.transform(test_data)"
   ],
   "metadata": {
    "collapsed": false,
    "ExecuteTime": {
     "end_time": "2024-03-24T18:52:40.882765400Z",
     "start_time": "2024-03-24T18:52:40.848584700Z"
    }
   },
   "id": "74cd038a020ddbd3"
  },
  {
   "cell_type": "code",
   "execution_count": 25,
   "outputs": [
    {
     "name": "stdout",
     "output_type": "stream",
     "text": [
      "Model: \"sequential_4\"\n",
      "_________________________________________________________________\n",
      " Layer (type)                Output Shape              Param #   \n",
      "=================================================================\n",
      " dense_10 (Dense)            (None, 1024)              12288     \n",
      "                                                                 \n",
      " dense_11 (Dense)            (None, 512)               524800    \n",
      "                                                                 \n",
      " dense_12 (Dense)            (None, 256)               131328    \n",
      "                                                                 \n",
      " dense_13 (Dense)            (None, 1)                 257       \n",
      "                                                                 \n",
      "=================================================================\n",
      "Total params: 668673 (2.55 MB)\n",
      "Trainable params: 668673 (2.55 MB)\n",
      "Non-trainable params: 0 (0.00 Byte)\n",
      "_________________________________________________________________\n"
     ]
    }
   ],
   "source": [
    "model = Sequential()\n",
    "model.add(Dense(units=1024, input_shape=(11,)))\n",
    "model.add(Dense(units=512, activation=\"relu\"))\n",
    "model.add(Dense(units=256, activation=\"relu\"))\n",
    "model.add(Dense(units=1))\n",
    "model.summary()"
   ],
   "metadata": {
    "collapsed": false,
    "ExecuteTime": {
     "end_time": "2024-03-24T18:58:32.045297500Z",
     "start_time": "2024-03-24T18:58:31.701599900Z"
    }
   },
   "id": "cd5f20655064e245"
  },
  {
   "cell_type": "code",
   "execution_count": 26,
   "outputs": [
    {
     "name": "stdout",
     "output_type": "stream",
     "text": [
      "Epoch 1/50\n",
      "226/227 [============================>.] - ETA: 0s - loss: 240387856.0000 - mae: 11709.8496\n",
      "Epoch 1: val_mae improved from inf to 6893.55078, saving model to best_model_audi.keras\n",
      "227/227 [==============================] - 6s 19ms/step - loss: 239904192.0000 - mae: 11694.1611 - val_loss: 75211328.0000 - val_mae: 6893.5508\n",
      "Epoch 2/50\n",
      "226/227 [============================>.] - ETA: 0s - loss: 40937100.0000 - mae: 4522.2783\n",
      "Epoch 2: val_mae improved from 6893.55078 to 3684.52466, saving model to best_model_audi.keras\n",
      "227/227 [==============================] - 4s 19ms/step - loss: 40841228.0000 - mae: 4514.9995 - val_loss: 32200304.0000 - val_mae: 3684.5247\n",
      "Epoch 3/50\n",
      "226/227 [============================>.] - ETA: 0s - loss: 22771928.0000 - mae: 3125.4646\n",
      "Epoch 3: val_mae improved from 3684.52466 to 3333.25854, saving model to best_model_audi.keras\n",
      "227/227 [==============================] - 4s 19ms/step - loss: 22729794.0000 - mae: 3121.9304 - val_loss: 29137962.0000 - val_mae: 3333.2585\n",
      "Epoch 4/50\n",
      "225/227 [============================>.] - ETA: 0s - loss: 20769268.0000 - mae: 2930.2222\n",
      "Epoch 4: val_mae improved from 3333.25854 to 3278.28516, saving model to best_model_audi.keras\n",
      "227/227 [==============================] - 5s 20ms/step - loss: 20858906.0000 - mae: 2932.3337 - val_loss: 27408550.0000 - val_mae: 3278.2852\n",
      "Epoch 5/50\n",
      "225/227 [============================>.] - ETA: 0s - loss: 19321328.0000 - mae: 2832.0188\n",
      "Epoch 5: val_mae did not improve from 3278.28516\n",
      "227/227 [==============================] - 5s 20ms/step - loss: 19378616.0000 - mae: 2835.5471 - val_loss: 27803068.0000 - val_mae: 3285.4119\n",
      "Epoch 6/50\n",
      "227/227 [==============================] - ETA: 0s - loss: 18585982.0000 - mae: 2798.8794\n",
      "Epoch 6: val_mae improved from 3278.28516 to 3069.59253, saving model to best_model_audi.keras\n",
      "227/227 [==============================] - 4s 18ms/step - loss: 18585982.0000 - mae: 2798.8794 - val_loss: 24893782.0000 - val_mae: 3069.5925\n",
      "Epoch 7/50\n",
      "226/227 [============================>.] - ETA: 0s - loss: 17435892.0000 - mae: 2720.3196\n",
      "Epoch 7: val_mae improved from 3069.59253 to 2960.78662, saving model to best_model_audi.keras\n",
      "227/227 [==============================] - 6s 29ms/step - loss: 17700756.0000 - mae: 2724.9651 - val_loss: 23132132.0000 - val_mae: 2960.7866\n",
      "Epoch 8/50\n",
      "226/227 [============================>.] - ETA: 0s - loss: 17236962.0000 - mae: 2705.6216\n",
      "Epoch 8: val_mae improved from 2960.78662 to 2876.19849, saving model to best_model_audi.keras\n",
      "227/227 [==============================] - 5s 23ms/step - loss: 17223250.0000 - mae: 2706.2935 - val_loss: 21512250.0000 - val_mae: 2876.1985\n",
      "Epoch 9/50\n",
      "226/227 [============================>.] - ETA: 0s - loss: 16685987.0000 - mae: 2691.5117\n",
      "Epoch 9: val_mae improved from 2876.19849 to 2866.48999, saving model to best_model_audi.keras\n",
      "227/227 [==============================] - 5s 23ms/step - loss: 16659053.0000 - mae: 2689.6702 - val_loss: 21348790.0000 - val_mae: 2866.4900\n",
      "Epoch 10/50\n",
      "227/227 [==============================] - ETA: 0s - loss: 16136223.0000 - mae: 2654.3699\n",
      "Epoch 10: val_mae did not improve from 2866.48999\n",
      "227/227 [==============================] - 6s 25ms/step - loss: 16136223.0000 - mae: 2654.3699 - val_loss: 20952892.0000 - val_mae: 2887.9031\n",
      "Epoch 11/50\n",
      "225/227 [============================>.] - ETA: 0s - loss: 15952077.0000 - mae: 2657.7437\n",
      "Epoch 11: val_mae improved from 2866.48999 to 2831.92603, saving model to best_model_audi.keras\n",
      "227/227 [==============================] - 5s 23ms/step - loss: 15929741.0000 - mae: 2655.1462 - val_loss: 20766298.0000 - val_mae: 2831.9260\n",
      "Epoch 12/50\n",
      "226/227 [============================>.] - ETA: 0s - loss: 15744254.0000 - mae: 2631.8682\n",
      "Epoch 12: val_mae improved from 2831.92603 to 2802.53076, saving model to best_model_audi.keras\n",
      "227/227 [==============================] - 5s 23ms/step - loss: 15759403.0000 - mae: 2634.8113 - val_loss: 19617892.0000 - val_mae: 2802.5308\n",
      "Epoch 13/50\n",
      "225/227 [============================>.] - ETA: 0s - loss: 15437385.0000 - mae: 2631.7173\n",
      "Epoch 13: val_mae improved from 2802.53076 to 2743.11401, saving model to best_model_audi.keras\n",
      "227/227 [==============================] - 5s 23ms/step - loss: 15393750.0000 - mae: 2630.3169 - val_loss: 18704174.0000 - val_mae: 2743.1140\n",
      "Epoch 14/50\n",
      "225/227 [============================>.] - ETA: 0s - loss: 15017769.0000 - mae: 2609.8193\n",
      "Epoch 14: val_mae improved from 2743.11401 to 2669.43359, saving model to best_model_audi.keras\n",
      "227/227 [==============================] - 5s 22ms/step - loss: 15146548.0000 - mae: 2614.3120 - val_loss: 18328052.0000 - val_mae: 2669.4336\n",
      "Epoch 15/50\n",
      "226/227 [============================>.] - ETA: 0s - loss: 14878087.0000 - mae: 2611.0889\n",
      "Epoch 15: val_mae improved from 2669.43359 to 2581.15796, saving model to best_model_audi.keras\n",
      "227/227 [==============================] - 6s 26ms/step - loss: 14858780.0000 - mae: 2610.2205 - val_loss: 17299578.0000 - val_mae: 2581.1580\n",
      "Epoch 16/50\n",
      "224/227 [============================>.] - ETA: 0s - loss: 15079321.0000 - mae: 2609.8284\n",
      "Epoch 16: val_mae did not improve from 2581.15796\n",
      "227/227 [==============================] - 5s 21ms/step - loss: 15015724.0000 - mae: 2606.5730 - val_loss: 18399224.0000 - val_mae: 2672.4651\n",
      "Epoch 17/50\n",
      "226/227 [============================>.] - ETA: 0s - loss: 14560248.0000 - mae: 2579.3159\n",
      "Epoch 17: val_mae did not improve from 2581.15796\n",
      "227/227 [==============================] - 6s 25ms/step - loss: 14532549.0000 - mae: 2576.3923 - val_loss: 18689332.0000 - val_mae: 2690.2202\n",
      "Epoch 18/50\n",
      "227/227 [==============================] - ETA: 0s - loss: 14415538.0000 - mae: 2568.9668\n",
      "Epoch 18: val_mae did not improve from 2581.15796\n",
      "227/227 [==============================] - 5s 22ms/step - loss: 14415538.0000 - mae: 2568.9668 - val_loss: 17593966.0000 - val_mae: 2754.9048\n",
      "Epoch 19/50\n",
      "226/227 [============================>.] - ETA: 0s - loss: 14491464.0000 - mae: 2611.4663\n",
      "Epoch 19: val_mae did not improve from 2581.15796\n",
      "227/227 [==============================] - 6s 25ms/step - loss: 14470237.0000 - mae: 2609.5686 - val_loss: 17560726.0000 - val_mae: 2667.6182\n",
      "Epoch 20/50\n",
      "227/227 [==============================] - ETA: 0s - loss: 14137080.0000 - mae: 2555.3269\n",
      "Epoch 20: val_mae did not improve from 2581.15796\n",
      "227/227 [==============================] - 6s 25ms/step - loss: 14137080.0000 - mae: 2555.3269 - val_loss: 16943370.0000 - val_mae: 2612.7021\n",
      "Epoch 21/50\n",
      "224/227 [============================>.] - ETA: 0s - loss: 13994646.0000 - mae: 2548.9163\n",
      "Epoch 21: val_mae did not improve from 2581.15796\n",
      "227/227 [==============================] - 5s 24ms/step - loss: 13994144.0000 - mae: 2548.3843 - val_loss: 16720836.0000 - val_mae: 2607.6411\n",
      "Epoch 22/50\n",
      "225/227 [============================>.] - ETA: 0s - loss: 13865912.0000 - mae: 2551.0586\n",
      "Epoch 22: val_mae did not improve from 2581.15796\n",
      "227/227 [==============================] - 7s 29ms/step - loss: 13843863.0000 - mae: 2550.9392 - val_loss: 16872402.0000 - val_mae: 2607.8101\n",
      "Epoch 23/50\n",
      "227/227 [==============================] - ETA: 0s - loss: 13661902.0000 - mae: 2522.0930\n",
      "Epoch 23: val_mae did not improve from 2581.15796\n",
      "227/227 [==============================] - 8s 36ms/step - loss: 13661902.0000 - mae: 2522.0930 - val_loss: 15917083.0000 - val_mae: 2583.5344\n",
      "Epoch 24/50\n",
      "226/227 [============================>.] - ETA: 0s - loss: 13533926.0000 - mae: 2500.2285\n",
      "Epoch 24: val_mae improved from 2581.15796 to 2430.60645, saving model to best_model_audi.keras\n",
      "227/227 [==============================] - 8s 34ms/step - loss: 13520893.0000 - mae: 2500.3169 - val_loss: 14524550.0000 - val_mae: 2430.6064\n",
      "Epoch 25/50\n",
      "224/227 [============================>.] - ETA: 0s - loss: 13626495.0000 - mae: 2514.7039\n",
      "Epoch 25: val_mae did not improve from 2430.60645\n",
      "227/227 [==============================] - 6s 25ms/step - loss: 13607549.0000 - mae: 2511.5815 - val_loss: 15185473.0000 - val_mae: 2468.9329\n",
      "Epoch 26/50\n",
      "227/227 [==============================] - ETA: 0s - loss: 13269375.0000 - mae: 2490.2405\n",
      "Epoch 26: val_mae did not improve from 2430.60645\n",
      "227/227 [==============================] - 7s 29ms/step - loss: 13269375.0000 - mae: 2490.2405 - val_loss: 16370297.0000 - val_mae: 2596.7517\n",
      "Epoch 27/50\n",
      "227/227 [==============================] - ETA: 0s - loss: 13481419.0000 - mae: 2521.6602\n",
      "Epoch 27: val_mae did not improve from 2430.60645\n",
      "227/227 [==============================] - 7s 29ms/step - loss: 13481419.0000 - mae: 2521.6602 - val_loss: 14933284.0000 - val_mae: 2463.0098\n",
      "Epoch 28/50\n",
      "227/227 [==============================] - ETA: 0s - loss: 12996365.0000 - mae: 2460.8167\n",
      "Epoch 28: val_mae did not improve from 2430.60645\n",
      "227/227 [==============================] - 7s 29ms/step - loss: 12996365.0000 - mae: 2460.8167 - val_loss: 16168053.0000 - val_mae: 2528.5154\n",
      "Epoch 29/50\n",
      "227/227 [==============================] - ETA: 0s - loss: 12825955.0000 - mae: 2431.8669\n",
      "Epoch 29: val_mae improved from 2430.60645 to 2394.18140, saving model to best_model_audi.keras\n",
      "227/227 [==============================] - 8s 35ms/step - loss: 12825955.0000 - mae: 2431.8669 - val_loss: 14501584.0000 - val_mae: 2394.1814\n",
      "Epoch 30/50\n",
      "225/227 [============================>.] - ETA: 0s - loss: 12829850.0000 - mae: 2454.6235\n",
      "Epoch 30: val_mae did not improve from 2394.18140\n",
      "227/227 [==============================] - 8s 36ms/step - loss: 12854931.0000 - mae: 2456.4526 - val_loss: 14833451.0000 - val_mae: 2429.7812\n",
      "Epoch 31/50\n",
      "226/227 [============================>.] - ETA: 0s - loss: 12732199.0000 - mae: 2430.8940\n",
      "Epoch 31: val_mae did not improve from 2394.18140\n",
      "227/227 [==============================] - 6s 28ms/step - loss: 12711489.0000 - mae: 2428.6040 - val_loss: 14632603.0000 - val_mae: 2431.4048\n",
      "Epoch 32/50\n",
      "226/227 [============================>.] - ETA: 0s - loss: 12572511.0000 - mae: 2427.2632\n",
      "Epoch 32: val_mae improved from 2394.18140 to 2371.55029, saving model to best_model_audi.keras\n",
      "227/227 [==============================] - 8s 33ms/step - loss: 12565552.0000 - mae: 2427.7615 - val_loss: 14141477.0000 - val_mae: 2371.5503\n",
      "Epoch 33/50\n",
      "227/227 [==============================] - ETA: 0s - loss: 12330304.0000 - mae: 2401.4766\n",
      "Epoch 33: val_mae did not improve from 2371.55029\n",
      "227/227 [==============================] - 6s 27ms/step - loss: 12330304.0000 - mae: 2401.4766 - val_loss: 15532339.0000 - val_mae: 2493.3286\n",
      "Epoch 34/50\n",
      "227/227 [==============================] - ETA: 0s - loss: 12337205.0000 - mae: 2408.6445\n",
      "Epoch 34: val_mae did not improve from 2371.55029\n",
      "227/227 [==============================] - 9s 38ms/step - loss: 12337205.0000 - mae: 2408.6445 - val_loss: 16300007.0000 - val_mae: 2568.8152\n",
      "Epoch 35/50\n",
      "227/227 [==============================] - ETA: 0s - loss: 12191901.0000 - mae: 2396.4556\n",
      "Epoch 35: val_mae did not improve from 2371.55029\n",
      "227/227 [==============================] - 9s 38ms/step - loss: 12191901.0000 - mae: 2396.4556 - val_loss: 14832480.0000 - val_mae: 2421.8450\n",
      "Epoch 36/50\n",
      "226/227 [============================>.] - ETA: 0s - loss: 11564023.0000 - mae: 2371.3474\n",
      "Epoch 36: val_mae did not improve from 2371.55029\n",
      "227/227 [==============================] - 10s 45ms/step - loss: 11561082.0000 - mae: 2371.3411 - val_loss: 14297596.0000 - val_mae: 2460.2078\n",
      "Epoch 37/50\n",
      "227/227 [==============================] - ETA: 0s - loss: 11573454.0000 - mae: 2368.2134\n",
      "Epoch 37: val_mae improved from 2371.55029 to 2370.17773, saving model to best_model_audi.keras\n",
      "227/227 [==============================] - 9s 38ms/step - loss: 11573454.0000 - mae: 2368.2134 - val_loss: 13701134.0000 - val_mae: 2370.1777\n",
      "Epoch 38/50\n",
      "226/227 [============================>.] - ETA: 0s - loss: 11575219.0000 - mae: 2386.8125\n",
      "Epoch 38: val_mae did not improve from 2370.17773\n",
      "227/227 [==============================] - 8s 34ms/step - loss: 11581984.0000 - mae: 2386.9382 - val_loss: 14282427.0000 - val_mae: 2436.7131\n",
      "Epoch 39/50\n",
      "227/227 [==============================] - ETA: 0s - loss: 11210481.0000 - mae: 2342.7944\n",
      "Epoch 39: val_mae did not improve from 2370.17773\n",
      "227/227 [==============================] - 10s 43ms/step - loss: 11210481.0000 - mae: 2342.7944 - val_loss: 14201013.0000 - val_mae: 2441.5376\n",
      "Epoch 40/50\n",
      "226/227 [============================>.] - ETA: 0s - loss: 11253697.0000 - mae: 2348.3438\n",
      "Epoch 40: val_mae did not improve from 2370.17773\n",
      "227/227 [==============================] - 6s 28ms/step - loss: 11259275.0000 - mae: 2349.1340 - val_loss: 14128805.0000 - val_mae: 2409.1362\n",
      "Epoch 41/50\n",
      "224/227 [============================>.] - ETA: 0s - loss: 11506688.0000 - mae: 2374.4019\n",
      "Epoch 41: val_mae did not improve from 2370.17773\n",
      "227/227 [==============================] - 5s 21ms/step - loss: 11515033.0000 - mae: 2377.9856 - val_loss: 13777198.0000 - val_mae: 2384.3677\n",
      "Epoch 42/50\n",
      "226/227 [============================>.] - ETA: 0s - loss: 11118870.0000 - mae: 2331.6707\n",
      "Epoch 42: val_mae did not improve from 2370.17773\n",
      "227/227 [==============================] - 5s 21ms/step - loss: 11105767.0000 - mae: 2330.0100 - val_loss: 13692245.0000 - val_mae: 2411.5535\n",
      "Epoch 43/50\n",
      "226/227 [============================>.] - ETA: 0s - loss: 10974601.0000 - mae: 2332.0515\n",
      "Epoch 43: val_mae did not improve from 2370.17773\n",
      "227/227 [==============================] - 4s 17ms/step - loss: 11061269.0000 - mae: 2334.2358 - val_loss: 13303218.0000 - val_mae: 2385.2173\n",
      "Epoch 44/50\n",
      "226/227 [============================>.] - ETA: 0s - loss: 10906140.0000 - mae: 2337.3430\n",
      "Epoch 44: val_mae did not improve from 2370.17773\n",
      "227/227 [==============================] - 3s 15ms/step - loss: 10899250.0000 - mae: 2336.6194 - val_loss: 15413787.0000 - val_mae: 2581.3003\n",
      "Epoch 45/50\n",
      "227/227 [==============================] - ETA: 0s - loss: 11312664.0000 - mae: 2354.7341\n",
      "Epoch 45: val_mae did not improve from 2370.17773\n",
      "227/227 [==============================] - 3s 15ms/step - loss: 11312664.0000 - mae: 2354.7341 - val_loss: 13975842.0000 - val_mae: 2412.5073\n",
      "Epoch 46/50\n",
      "225/227 [============================>.] - ETA: 0s - loss: 11081265.0000 - mae: 2351.1628\n",
      "Epoch 46: val_mae did not improve from 2370.17773\n",
      "227/227 [==============================] - 4s 17ms/step - loss: 11101290.0000 - mae: 2353.7419 - val_loss: 13383910.0000 - val_mae: 2375.5405\n",
      "Epoch 47/50\n",
      "226/227 [============================>.] - ETA: 0s - loss: 11155336.0000 - mae: 2342.5393\n",
      "Epoch 47: val_mae improved from 2370.17773 to 2348.33276, saving model to best_model_audi.keras\n",
      "227/227 [==============================] - 4s 19ms/step - loss: 11147755.0000 - mae: 2341.8506 - val_loss: 13163368.0000 - val_mae: 2348.3328\n",
      "Epoch 48/50\n",
      "226/227 [============================>.] - ETA: 0s - loss: 11070258.0000 - mae: 2330.6545\n",
      "Epoch 48: val_mae improved from 2348.33276 to 2317.43433, saving model to best_model_audi.keras\n",
      "227/227 [==============================] - 5s 23ms/step - loss: 11091858.0000 - mae: 2333.3638 - val_loss: 12961134.0000 - val_mae: 2317.4343\n",
      "Epoch 49/50\n",
      "227/227 [==============================] - ETA: 0s - loss: 11152223.0000 - mae: 2332.4690\n",
      "Epoch 49: val_mae did not improve from 2317.43433\n",
      "227/227 [==============================] - 4s 18ms/step - loss: 11152223.0000 - mae: 2332.4690 - val_loss: 13541334.0000 - val_mae: 2455.2004\n",
      "Epoch 50/50\n",
      "225/227 [============================>.] - ETA: 0s - loss: 11075249.0000 - mae: 2333.6807\n",
      "Epoch 50: val_mae did not improve from 2317.43433\n",
      "227/227 [==============================] - 4s 18ms/step - loss: 11039903.0000 - mae: 2331.2566 - val_loss: 13426474.0000 - val_mae: 2374.7026\n"
     ]
    }
   ],
   "source": [
    "mc = ModelCheckpoint(\"best_model_audi.keras\", monitor=\"val_mae\", save_best_only=True, mode=\"min\", verbose=1)\n",
    "\n",
    "model.compile(optimizer=\"adam\",\n",
    "              loss=\"mse\",\n",
    "              metrics=[\"mae\"])\n",
    "\n",
    "history = model.fit(data, labels, validation_split=0.25, callbacks=[mc], epochs=50, batch_size=32)\n",
    "\n",
    "model.save(\"model_after_training_audi.keras\")"
   ],
   "metadata": {
    "collapsed": false,
    "ExecuteTime": {
     "end_time": "2024-03-24T19:03:30.597515500Z",
     "start_time": "2024-03-24T18:58:34.292465700Z"
    }
   },
   "id": "674a3914d31669b1"
  },
  {
   "cell_type": "code",
   "execution_count": 27,
   "outputs": [
    {
     "data": {
      "application/vnd.plotly.v1+json": {
       "data": [
        {
         "name": "mae",
         "x": [
          0,
          1,
          2,
          3,
          4,
          5,
          6,
          7,
          8,
          9,
          10,
          11,
          12,
          13,
          14,
          15,
          16,
          17,
          18,
          19,
          20,
          21,
          22,
          23,
          24,
          25,
          26,
          27,
          28,
          29,
          30,
          31,
          32,
          33,
          34,
          35,
          36,
          37,
          38,
          39,
          40,
          41,
          42,
          43,
          44,
          45,
          46,
          47,
          48,
          49
         ],
         "y": [
          11694.1611328125,
          4514.99951171875,
          3121.930419921875,
          2932.333740234375,
          2835.547119140625,
          2798.87939453125,
          2724.965087890625,
          2706.29345703125,
          2689.670166015625,
          2654.369873046875,
          2655.146240234375,
          2634.811279296875,
          2630.31689453125,
          2614.31201171875,
          2610.220458984375,
          2606.572998046875,
          2576.392333984375,
          2568.966796875,
          2609.568603515625,
          2555.326904296875,
          2548.38427734375,
          2550.939208984375,
          2522.093017578125,
          2500.31689453125,
          2511.58154296875,
          2490.240478515625,
          2521.66015625,
          2460.816650390625,
          2431.866943359375,
          2456.45263671875,
          2428.60400390625,
          2427.761474609375,
          2401.4765625,
          2408.64453125,
          2396.45556640625,
          2371.341064453125,
          2368.21337890625,
          2386.938232421875,
          2342.79443359375,
          2349.134033203125,
          2377.985595703125,
          2330.010009765625,
          2334.23583984375,
          2336.619384765625,
          2354.734130859375,
          2353.741943359375,
          2341.8505859375,
          2333.36376953125,
          2332.468994140625,
          2331.256591796875
         ],
         "type": "scatter"
        },
        {
         "name": "val_mae",
         "x": [
          0,
          1,
          2,
          3,
          4,
          5,
          6,
          7,
          8,
          9,
          10,
          11,
          12,
          13,
          14,
          15,
          16,
          17,
          18,
          19,
          20,
          21,
          22,
          23,
          24,
          25,
          26,
          27,
          28,
          29,
          30,
          31,
          32,
          33,
          34,
          35,
          36,
          37,
          38,
          39,
          40,
          41,
          42,
          43,
          44,
          45,
          46,
          47,
          48,
          49
         ],
         "y": [
          6893.55078125,
          3684.524658203125,
          3333.258544921875,
          3278.28515625,
          3285.411865234375,
          3069.592529296875,
          2960.78662109375,
          2876.198486328125,
          2866.489990234375,
          2887.903076171875,
          2831.926025390625,
          2802.53076171875,
          2743.114013671875,
          2669.43359375,
          2581.157958984375,
          2672.465087890625,
          2690.22021484375,
          2754.90478515625,
          2667.6181640625,
          2612.7021484375,
          2607.64111328125,
          2607.81005859375,
          2583.534423828125,
          2430.6064453125,
          2468.932861328125,
          2596.751708984375,
          2463.009765625,
          2528.515380859375,
          2394.181396484375,
          2429.78125,
          2431.40478515625,
          2371.55029296875,
          2493.32861328125,
          2568.815185546875,
          2421.844970703125,
          2460.207763671875,
          2370.177734375,
          2436.713134765625,
          2441.53759765625,
          2409.13623046875,
          2384.36767578125,
          2411.553466796875,
          2385.21728515625,
          2581.30029296875,
          2412.50732421875,
          2375.54052734375,
          2348.332763671875,
          2317.434326171875,
          2455.200439453125,
          2374.70263671875
         ],
         "type": "scatter"
        }
       ],
       "layout": {
        "template": {
         "data": {
          "histogram2dcontour": [
           {
            "type": "histogram2dcontour",
            "colorbar": {
             "outlinewidth": 0,
             "ticks": ""
            },
            "colorscale": [
             [
              0.0,
              "#0d0887"
             ],
             [
              0.1111111111111111,
              "#46039f"
             ],
             [
              0.2222222222222222,
              "#7201a8"
             ],
             [
              0.3333333333333333,
              "#9c179e"
             ],
             [
              0.4444444444444444,
              "#bd3786"
             ],
             [
              0.5555555555555556,
              "#d8576b"
             ],
             [
              0.6666666666666666,
              "#ed7953"
             ],
             [
              0.7777777777777778,
              "#fb9f3a"
             ],
             [
              0.8888888888888888,
              "#fdca26"
             ],
             [
              1.0,
              "#f0f921"
             ]
            ]
           }
          ],
          "choropleth": [
           {
            "type": "choropleth",
            "colorbar": {
             "outlinewidth": 0,
             "ticks": ""
            }
           }
          ],
          "histogram2d": [
           {
            "type": "histogram2d",
            "colorbar": {
             "outlinewidth": 0,
             "ticks": ""
            },
            "colorscale": [
             [
              0.0,
              "#0d0887"
             ],
             [
              0.1111111111111111,
              "#46039f"
             ],
             [
              0.2222222222222222,
              "#7201a8"
             ],
             [
              0.3333333333333333,
              "#9c179e"
             ],
             [
              0.4444444444444444,
              "#bd3786"
             ],
             [
              0.5555555555555556,
              "#d8576b"
             ],
             [
              0.6666666666666666,
              "#ed7953"
             ],
             [
              0.7777777777777778,
              "#fb9f3a"
             ],
             [
              0.8888888888888888,
              "#fdca26"
             ],
             [
              1.0,
              "#f0f921"
             ]
            ]
           }
          ],
          "heatmap": [
           {
            "type": "heatmap",
            "colorbar": {
             "outlinewidth": 0,
             "ticks": ""
            },
            "colorscale": [
             [
              0.0,
              "#0d0887"
             ],
             [
              0.1111111111111111,
              "#46039f"
             ],
             [
              0.2222222222222222,
              "#7201a8"
             ],
             [
              0.3333333333333333,
              "#9c179e"
             ],
             [
              0.4444444444444444,
              "#bd3786"
             ],
             [
              0.5555555555555556,
              "#d8576b"
             ],
             [
              0.6666666666666666,
              "#ed7953"
             ],
             [
              0.7777777777777778,
              "#fb9f3a"
             ],
             [
              0.8888888888888888,
              "#fdca26"
             ],
             [
              1.0,
              "#f0f921"
             ]
            ]
           }
          ],
          "heatmapgl": [
           {
            "type": "heatmapgl",
            "colorbar": {
             "outlinewidth": 0,
             "ticks": ""
            },
            "colorscale": [
             [
              0.0,
              "#0d0887"
             ],
             [
              0.1111111111111111,
              "#46039f"
             ],
             [
              0.2222222222222222,
              "#7201a8"
             ],
             [
              0.3333333333333333,
              "#9c179e"
             ],
             [
              0.4444444444444444,
              "#bd3786"
             ],
             [
              0.5555555555555556,
              "#d8576b"
             ],
             [
              0.6666666666666666,
              "#ed7953"
             ],
             [
              0.7777777777777778,
              "#fb9f3a"
             ],
             [
              0.8888888888888888,
              "#fdca26"
             ],
             [
              1.0,
              "#f0f921"
             ]
            ]
           }
          ],
          "contourcarpet": [
           {
            "type": "contourcarpet",
            "colorbar": {
             "outlinewidth": 0,
             "ticks": ""
            }
           }
          ],
          "contour": [
           {
            "type": "contour",
            "colorbar": {
             "outlinewidth": 0,
             "ticks": ""
            },
            "colorscale": [
             [
              0.0,
              "#0d0887"
             ],
             [
              0.1111111111111111,
              "#46039f"
             ],
             [
              0.2222222222222222,
              "#7201a8"
             ],
             [
              0.3333333333333333,
              "#9c179e"
             ],
             [
              0.4444444444444444,
              "#bd3786"
             ],
             [
              0.5555555555555556,
              "#d8576b"
             ],
             [
              0.6666666666666666,
              "#ed7953"
             ],
             [
              0.7777777777777778,
              "#fb9f3a"
             ],
             [
              0.8888888888888888,
              "#fdca26"
             ],
             [
              1.0,
              "#f0f921"
             ]
            ]
           }
          ],
          "surface": [
           {
            "type": "surface",
            "colorbar": {
             "outlinewidth": 0,
             "ticks": ""
            },
            "colorscale": [
             [
              0.0,
              "#0d0887"
             ],
             [
              0.1111111111111111,
              "#46039f"
             ],
             [
              0.2222222222222222,
              "#7201a8"
             ],
             [
              0.3333333333333333,
              "#9c179e"
             ],
             [
              0.4444444444444444,
              "#bd3786"
             ],
             [
              0.5555555555555556,
              "#d8576b"
             ],
             [
              0.6666666666666666,
              "#ed7953"
             ],
             [
              0.7777777777777778,
              "#fb9f3a"
             ],
             [
              0.8888888888888888,
              "#fdca26"
             ],
             [
              1.0,
              "#f0f921"
             ]
            ]
           }
          ],
          "mesh3d": [
           {
            "type": "mesh3d",
            "colorbar": {
             "outlinewidth": 0,
             "ticks": ""
            }
           }
          ],
          "scatter": [
           {
            "fillpattern": {
             "fillmode": "overlay",
             "size": 10,
             "solidity": 0.2
            },
            "type": "scatter"
           }
          ],
          "parcoords": [
           {
            "type": "parcoords",
            "line": {
             "colorbar": {
              "outlinewidth": 0,
              "ticks": ""
             }
            }
           }
          ],
          "scatterpolargl": [
           {
            "type": "scatterpolargl",
            "marker": {
             "colorbar": {
              "outlinewidth": 0,
              "ticks": ""
             }
            }
           }
          ],
          "bar": [
           {
            "error_x": {
             "color": "#2a3f5f"
            },
            "error_y": {
             "color": "#2a3f5f"
            },
            "marker": {
             "line": {
              "color": "#E5ECF6",
              "width": 0.5
             },
             "pattern": {
              "fillmode": "overlay",
              "size": 10,
              "solidity": 0.2
             }
            },
            "type": "bar"
           }
          ],
          "scattergeo": [
           {
            "type": "scattergeo",
            "marker": {
             "colorbar": {
              "outlinewidth": 0,
              "ticks": ""
             }
            }
           }
          ],
          "scatterpolar": [
           {
            "type": "scatterpolar",
            "marker": {
             "colorbar": {
              "outlinewidth": 0,
              "ticks": ""
             }
            }
           }
          ],
          "histogram": [
           {
            "marker": {
             "pattern": {
              "fillmode": "overlay",
              "size": 10,
              "solidity": 0.2
             }
            },
            "type": "histogram"
           }
          ],
          "scattergl": [
           {
            "type": "scattergl",
            "marker": {
             "colorbar": {
              "outlinewidth": 0,
              "ticks": ""
             }
            }
           }
          ],
          "scatter3d": [
           {
            "type": "scatter3d",
            "line": {
             "colorbar": {
              "outlinewidth": 0,
              "ticks": ""
             }
            },
            "marker": {
             "colorbar": {
              "outlinewidth": 0,
              "ticks": ""
             }
            }
           }
          ],
          "scattermapbox": [
           {
            "type": "scattermapbox",
            "marker": {
             "colorbar": {
              "outlinewidth": 0,
              "ticks": ""
             }
            }
           }
          ],
          "scatterternary": [
           {
            "type": "scatterternary",
            "marker": {
             "colorbar": {
              "outlinewidth": 0,
              "ticks": ""
             }
            }
           }
          ],
          "scattercarpet": [
           {
            "type": "scattercarpet",
            "marker": {
             "colorbar": {
              "outlinewidth": 0,
              "ticks": ""
             }
            }
           }
          ],
          "carpet": [
           {
            "aaxis": {
             "endlinecolor": "#2a3f5f",
             "gridcolor": "white",
             "linecolor": "white",
             "minorgridcolor": "white",
             "startlinecolor": "#2a3f5f"
            },
            "baxis": {
             "endlinecolor": "#2a3f5f",
             "gridcolor": "white",
             "linecolor": "white",
             "minorgridcolor": "white",
             "startlinecolor": "#2a3f5f"
            },
            "type": "carpet"
           }
          ],
          "table": [
           {
            "cells": {
             "fill": {
              "color": "#EBF0F8"
             },
             "line": {
              "color": "white"
             }
            },
            "header": {
             "fill": {
              "color": "#C8D4E3"
             },
             "line": {
              "color": "white"
             }
            },
            "type": "table"
           }
          ],
          "barpolar": [
           {
            "marker": {
             "line": {
              "color": "#E5ECF6",
              "width": 0.5
             },
             "pattern": {
              "fillmode": "overlay",
              "size": 10,
              "solidity": 0.2
             }
            },
            "type": "barpolar"
           }
          ],
          "pie": [
           {
            "automargin": true,
            "type": "pie"
           }
          ]
         },
         "layout": {
          "autotypenumbers": "strict",
          "colorway": [
           "#636efa",
           "#EF553B",
           "#00cc96",
           "#ab63fa",
           "#FFA15A",
           "#19d3f3",
           "#FF6692",
           "#B6E880",
           "#FF97FF",
           "#FECB52"
          ],
          "font": {
           "color": "#2a3f5f"
          },
          "hovermode": "closest",
          "hoverlabel": {
           "align": "left"
          },
          "paper_bgcolor": "white",
          "plot_bgcolor": "#E5ECF6",
          "polar": {
           "bgcolor": "#E5ECF6",
           "angularaxis": {
            "gridcolor": "white",
            "linecolor": "white",
            "ticks": ""
           },
           "radialaxis": {
            "gridcolor": "white",
            "linecolor": "white",
            "ticks": ""
           }
          },
          "ternary": {
           "bgcolor": "#E5ECF6",
           "aaxis": {
            "gridcolor": "white",
            "linecolor": "white",
            "ticks": ""
           },
           "baxis": {
            "gridcolor": "white",
            "linecolor": "white",
            "ticks": ""
           },
           "caxis": {
            "gridcolor": "white",
            "linecolor": "white",
            "ticks": ""
           }
          },
          "coloraxis": {
           "colorbar": {
            "outlinewidth": 0,
            "ticks": ""
           }
          },
          "colorscale": {
           "sequential": [
            [
             0.0,
             "#0d0887"
            ],
            [
             0.1111111111111111,
             "#46039f"
            ],
            [
             0.2222222222222222,
             "#7201a8"
            ],
            [
             0.3333333333333333,
             "#9c179e"
            ],
            [
             0.4444444444444444,
             "#bd3786"
            ],
            [
             0.5555555555555556,
             "#d8576b"
            ],
            [
             0.6666666666666666,
             "#ed7953"
            ],
            [
             0.7777777777777778,
             "#fb9f3a"
            ],
            [
             0.8888888888888888,
             "#fdca26"
            ],
            [
             1.0,
             "#f0f921"
            ]
           ],
           "sequentialminus": [
            [
             0.0,
             "#0d0887"
            ],
            [
             0.1111111111111111,
             "#46039f"
            ],
            [
             0.2222222222222222,
             "#7201a8"
            ],
            [
             0.3333333333333333,
             "#9c179e"
            ],
            [
             0.4444444444444444,
             "#bd3786"
            ],
            [
             0.5555555555555556,
             "#d8576b"
            ],
            [
             0.6666666666666666,
             "#ed7953"
            ],
            [
             0.7777777777777778,
             "#fb9f3a"
            ],
            [
             0.8888888888888888,
             "#fdca26"
            ],
            [
             1.0,
             "#f0f921"
            ]
           ],
           "diverging": [
            [
             0,
             "#8e0152"
            ],
            [
             0.1,
             "#c51b7d"
            ],
            [
             0.2,
             "#de77ae"
            ],
            [
             0.3,
             "#f1b6da"
            ],
            [
             0.4,
             "#fde0ef"
            ],
            [
             0.5,
             "#f7f7f7"
            ],
            [
             0.6,
             "#e6f5d0"
            ],
            [
             0.7,
             "#b8e186"
            ],
            [
             0.8,
             "#7fbc41"
            ],
            [
             0.9,
             "#4d9221"
            ],
            [
             1,
             "#276419"
            ]
           ]
          },
          "xaxis": {
           "gridcolor": "white",
           "linecolor": "white",
           "ticks": "",
           "title": {
            "standoff": 15
           },
           "zerolinecolor": "white",
           "automargin": true,
           "zerolinewidth": 2
          },
          "yaxis": {
           "gridcolor": "white",
           "linecolor": "white",
           "ticks": "",
           "title": {
            "standoff": 15
           },
           "zerolinecolor": "white",
           "automargin": true,
           "zerolinewidth": 2
          },
          "scene": {
           "xaxis": {
            "backgroundcolor": "#E5ECF6",
            "gridcolor": "white",
            "linecolor": "white",
            "showbackground": true,
            "ticks": "",
            "zerolinecolor": "white",
            "gridwidth": 2
           },
           "yaxis": {
            "backgroundcolor": "#E5ECF6",
            "gridcolor": "white",
            "linecolor": "white",
            "showbackground": true,
            "ticks": "",
            "zerolinecolor": "white",
            "gridwidth": 2
           },
           "zaxis": {
            "backgroundcolor": "#E5ECF6",
            "gridcolor": "white",
            "linecolor": "white",
            "showbackground": true,
            "ticks": "",
            "zerolinecolor": "white",
            "gridwidth": 2
           }
          },
          "shapedefaults": {
           "line": {
            "color": "#2a3f5f"
           }
          },
          "annotationdefaults": {
           "arrowcolor": "#2a3f5f",
           "arrowhead": 0,
           "arrowwidth": 1
          },
          "geo": {
           "bgcolor": "white",
           "landcolor": "#E5ECF6",
           "subunitcolor": "white",
           "showland": true,
           "showlakes": true,
           "lakecolor": "white"
          },
          "title": {
           "x": 0.05
          },
          "mapbox": {
           "style": "light"
          }
         }
        }
       },
       "config": {
        "plotlyServerURL": "https://plot.ly"
       }
      },
      "text/html": "<div>                            <div id=\"1444b61b-e6a4-49a7-a820-811c7882d853\" class=\"plotly-graph-div\" style=\"height:525px; width:100%;\"></div>            <script type=\"text/javascript\">                require([\"plotly\"], function(Plotly) {                    window.PLOTLYENV=window.PLOTLYENV || {};                                    if (document.getElementById(\"1444b61b-e6a4-49a7-a820-811c7882d853\")) {                    Plotly.newPlot(                        \"1444b61b-e6a4-49a7-a820-811c7882d853\",                        [{\"name\":\"mae\",\"x\":[0,1,2,3,4,5,6,7,8,9,10,11,12,13,14,15,16,17,18,19,20,21,22,23,24,25,26,27,28,29,30,31,32,33,34,35,36,37,38,39,40,41,42,43,44,45,46,47,48,49],\"y\":[11694.1611328125,4514.99951171875,3121.930419921875,2932.333740234375,2835.547119140625,2798.87939453125,2724.965087890625,2706.29345703125,2689.670166015625,2654.369873046875,2655.146240234375,2634.811279296875,2630.31689453125,2614.31201171875,2610.220458984375,2606.572998046875,2576.392333984375,2568.966796875,2609.568603515625,2555.326904296875,2548.38427734375,2550.939208984375,2522.093017578125,2500.31689453125,2511.58154296875,2490.240478515625,2521.66015625,2460.816650390625,2431.866943359375,2456.45263671875,2428.60400390625,2427.761474609375,2401.4765625,2408.64453125,2396.45556640625,2371.341064453125,2368.21337890625,2386.938232421875,2342.79443359375,2349.134033203125,2377.985595703125,2330.010009765625,2334.23583984375,2336.619384765625,2354.734130859375,2353.741943359375,2341.8505859375,2333.36376953125,2332.468994140625,2331.256591796875],\"type\":\"scatter\"},{\"name\":\"val_mae\",\"x\":[0,1,2,3,4,5,6,7,8,9,10,11,12,13,14,15,16,17,18,19,20,21,22,23,24,25,26,27,28,29,30,31,32,33,34,35,36,37,38,39,40,41,42,43,44,45,46,47,48,49],\"y\":[6893.55078125,3684.524658203125,3333.258544921875,3278.28515625,3285.411865234375,3069.592529296875,2960.78662109375,2876.198486328125,2866.489990234375,2887.903076171875,2831.926025390625,2802.53076171875,2743.114013671875,2669.43359375,2581.157958984375,2672.465087890625,2690.22021484375,2754.90478515625,2667.6181640625,2612.7021484375,2607.64111328125,2607.81005859375,2583.534423828125,2430.6064453125,2468.932861328125,2596.751708984375,2463.009765625,2528.515380859375,2394.181396484375,2429.78125,2431.40478515625,2371.55029296875,2493.32861328125,2568.815185546875,2421.844970703125,2460.207763671875,2370.177734375,2436.713134765625,2441.53759765625,2409.13623046875,2384.36767578125,2411.553466796875,2385.21728515625,2581.30029296875,2412.50732421875,2375.54052734375,2348.332763671875,2317.434326171875,2455.200439453125,2374.70263671875],\"type\":\"scatter\"}],                        {\"template\":{\"data\":{\"histogram2dcontour\":[{\"type\":\"histogram2dcontour\",\"colorbar\":{\"outlinewidth\":0,\"ticks\":\"\"},\"colorscale\":[[0.0,\"#0d0887\"],[0.1111111111111111,\"#46039f\"],[0.2222222222222222,\"#7201a8\"],[0.3333333333333333,\"#9c179e\"],[0.4444444444444444,\"#bd3786\"],[0.5555555555555556,\"#d8576b\"],[0.6666666666666666,\"#ed7953\"],[0.7777777777777778,\"#fb9f3a\"],[0.8888888888888888,\"#fdca26\"],[1.0,\"#f0f921\"]]}],\"choropleth\":[{\"type\":\"choropleth\",\"colorbar\":{\"outlinewidth\":0,\"ticks\":\"\"}}],\"histogram2d\":[{\"type\":\"histogram2d\",\"colorbar\":{\"outlinewidth\":0,\"ticks\":\"\"},\"colorscale\":[[0.0,\"#0d0887\"],[0.1111111111111111,\"#46039f\"],[0.2222222222222222,\"#7201a8\"],[0.3333333333333333,\"#9c179e\"],[0.4444444444444444,\"#bd3786\"],[0.5555555555555556,\"#d8576b\"],[0.6666666666666666,\"#ed7953\"],[0.7777777777777778,\"#fb9f3a\"],[0.8888888888888888,\"#fdca26\"],[1.0,\"#f0f921\"]]}],\"heatmap\":[{\"type\":\"heatmap\",\"colorbar\":{\"outlinewidth\":0,\"ticks\":\"\"},\"colorscale\":[[0.0,\"#0d0887\"],[0.1111111111111111,\"#46039f\"],[0.2222222222222222,\"#7201a8\"],[0.3333333333333333,\"#9c179e\"],[0.4444444444444444,\"#bd3786\"],[0.5555555555555556,\"#d8576b\"],[0.6666666666666666,\"#ed7953\"],[0.7777777777777778,\"#fb9f3a\"],[0.8888888888888888,\"#fdca26\"],[1.0,\"#f0f921\"]]}],\"heatmapgl\":[{\"type\":\"heatmapgl\",\"colorbar\":{\"outlinewidth\":0,\"ticks\":\"\"},\"colorscale\":[[0.0,\"#0d0887\"],[0.1111111111111111,\"#46039f\"],[0.2222222222222222,\"#7201a8\"],[0.3333333333333333,\"#9c179e\"],[0.4444444444444444,\"#bd3786\"],[0.5555555555555556,\"#d8576b\"],[0.6666666666666666,\"#ed7953\"],[0.7777777777777778,\"#fb9f3a\"],[0.8888888888888888,\"#fdca26\"],[1.0,\"#f0f921\"]]}],\"contourcarpet\":[{\"type\":\"contourcarpet\",\"colorbar\":{\"outlinewidth\":0,\"ticks\":\"\"}}],\"contour\":[{\"type\":\"contour\",\"colorbar\":{\"outlinewidth\":0,\"ticks\":\"\"},\"colorscale\":[[0.0,\"#0d0887\"],[0.1111111111111111,\"#46039f\"],[0.2222222222222222,\"#7201a8\"],[0.3333333333333333,\"#9c179e\"],[0.4444444444444444,\"#bd3786\"],[0.5555555555555556,\"#d8576b\"],[0.6666666666666666,\"#ed7953\"],[0.7777777777777778,\"#fb9f3a\"],[0.8888888888888888,\"#fdca26\"],[1.0,\"#f0f921\"]]}],\"surface\":[{\"type\":\"surface\",\"colorbar\":{\"outlinewidth\":0,\"ticks\":\"\"},\"colorscale\":[[0.0,\"#0d0887\"],[0.1111111111111111,\"#46039f\"],[0.2222222222222222,\"#7201a8\"],[0.3333333333333333,\"#9c179e\"],[0.4444444444444444,\"#bd3786\"],[0.5555555555555556,\"#d8576b\"],[0.6666666666666666,\"#ed7953\"],[0.7777777777777778,\"#fb9f3a\"],[0.8888888888888888,\"#fdca26\"],[1.0,\"#f0f921\"]]}],\"mesh3d\":[{\"type\":\"mesh3d\",\"colorbar\":{\"outlinewidth\":0,\"ticks\":\"\"}}],\"scatter\":[{\"fillpattern\":{\"fillmode\":\"overlay\",\"size\":10,\"solidity\":0.2},\"type\":\"scatter\"}],\"parcoords\":[{\"type\":\"parcoords\",\"line\":{\"colorbar\":{\"outlinewidth\":0,\"ticks\":\"\"}}}],\"scatterpolargl\":[{\"type\":\"scatterpolargl\",\"marker\":{\"colorbar\":{\"outlinewidth\":0,\"ticks\":\"\"}}}],\"bar\":[{\"error_x\":{\"color\":\"#2a3f5f\"},\"error_y\":{\"color\":\"#2a3f5f\"},\"marker\":{\"line\":{\"color\":\"#E5ECF6\",\"width\":0.5},\"pattern\":{\"fillmode\":\"overlay\",\"size\":10,\"solidity\":0.2}},\"type\":\"bar\"}],\"scattergeo\":[{\"type\":\"scattergeo\",\"marker\":{\"colorbar\":{\"outlinewidth\":0,\"ticks\":\"\"}}}],\"scatterpolar\":[{\"type\":\"scatterpolar\",\"marker\":{\"colorbar\":{\"outlinewidth\":0,\"ticks\":\"\"}}}],\"histogram\":[{\"marker\":{\"pattern\":{\"fillmode\":\"overlay\",\"size\":10,\"solidity\":0.2}},\"type\":\"histogram\"}],\"scattergl\":[{\"type\":\"scattergl\",\"marker\":{\"colorbar\":{\"outlinewidth\":0,\"ticks\":\"\"}}}],\"scatter3d\":[{\"type\":\"scatter3d\",\"line\":{\"colorbar\":{\"outlinewidth\":0,\"ticks\":\"\"}},\"marker\":{\"colorbar\":{\"outlinewidth\":0,\"ticks\":\"\"}}}],\"scattermapbox\":[{\"type\":\"scattermapbox\",\"marker\":{\"colorbar\":{\"outlinewidth\":0,\"ticks\":\"\"}}}],\"scatterternary\":[{\"type\":\"scatterternary\",\"marker\":{\"colorbar\":{\"outlinewidth\":0,\"ticks\":\"\"}}}],\"scattercarpet\":[{\"type\":\"scattercarpet\",\"marker\":{\"colorbar\":{\"outlinewidth\":0,\"ticks\":\"\"}}}],\"carpet\":[{\"aaxis\":{\"endlinecolor\":\"#2a3f5f\",\"gridcolor\":\"white\",\"linecolor\":\"white\",\"minorgridcolor\":\"white\",\"startlinecolor\":\"#2a3f5f\"},\"baxis\":{\"endlinecolor\":\"#2a3f5f\",\"gridcolor\":\"white\",\"linecolor\":\"white\",\"minorgridcolor\":\"white\",\"startlinecolor\":\"#2a3f5f\"},\"type\":\"carpet\"}],\"table\":[{\"cells\":{\"fill\":{\"color\":\"#EBF0F8\"},\"line\":{\"color\":\"white\"}},\"header\":{\"fill\":{\"color\":\"#C8D4E3\"},\"line\":{\"color\":\"white\"}},\"type\":\"table\"}],\"barpolar\":[{\"marker\":{\"line\":{\"color\":\"#E5ECF6\",\"width\":0.5},\"pattern\":{\"fillmode\":\"overlay\",\"size\":10,\"solidity\":0.2}},\"type\":\"barpolar\"}],\"pie\":[{\"automargin\":true,\"type\":\"pie\"}]},\"layout\":{\"autotypenumbers\":\"strict\",\"colorway\":[\"#636efa\",\"#EF553B\",\"#00cc96\",\"#ab63fa\",\"#FFA15A\",\"#19d3f3\",\"#FF6692\",\"#B6E880\",\"#FF97FF\",\"#FECB52\"],\"font\":{\"color\":\"#2a3f5f\"},\"hovermode\":\"closest\",\"hoverlabel\":{\"align\":\"left\"},\"paper_bgcolor\":\"white\",\"plot_bgcolor\":\"#E5ECF6\",\"polar\":{\"bgcolor\":\"#E5ECF6\",\"angularaxis\":{\"gridcolor\":\"white\",\"linecolor\":\"white\",\"ticks\":\"\"},\"radialaxis\":{\"gridcolor\":\"white\",\"linecolor\":\"white\",\"ticks\":\"\"}},\"ternary\":{\"bgcolor\":\"#E5ECF6\",\"aaxis\":{\"gridcolor\":\"white\",\"linecolor\":\"white\",\"ticks\":\"\"},\"baxis\":{\"gridcolor\":\"white\",\"linecolor\":\"white\",\"ticks\":\"\"},\"caxis\":{\"gridcolor\":\"white\",\"linecolor\":\"white\",\"ticks\":\"\"}},\"coloraxis\":{\"colorbar\":{\"outlinewidth\":0,\"ticks\":\"\"}},\"colorscale\":{\"sequential\":[[0.0,\"#0d0887\"],[0.1111111111111111,\"#46039f\"],[0.2222222222222222,\"#7201a8\"],[0.3333333333333333,\"#9c179e\"],[0.4444444444444444,\"#bd3786\"],[0.5555555555555556,\"#d8576b\"],[0.6666666666666666,\"#ed7953\"],[0.7777777777777778,\"#fb9f3a\"],[0.8888888888888888,\"#fdca26\"],[1.0,\"#f0f921\"]],\"sequentialminus\":[[0.0,\"#0d0887\"],[0.1111111111111111,\"#46039f\"],[0.2222222222222222,\"#7201a8\"],[0.3333333333333333,\"#9c179e\"],[0.4444444444444444,\"#bd3786\"],[0.5555555555555556,\"#d8576b\"],[0.6666666666666666,\"#ed7953\"],[0.7777777777777778,\"#fb9f3a\"],[0.8888888888888888,\"#fdca26\"],[1.0,\"#f0f921\"]],\"diverging\":[[0,\"#8e0152\"],[0.1,\"#c51b7d\"],[0.2,\"#de77ae\"],[0.3,\"#f1b6da\"],[0.4,\"#fde0ef\"],[0.5,\"#f7f7f7\"],[0.6,\"#e6f5d0\"],[0.7,\"#b8e186\"],[0.8,\"#7fbc41\"],[0.9,\"#4d9221\"],[1,\"#276419\"]]},\"xaxis\":{\"gridcolor\":\"white\",\"linecolor\":\"white\",\"ticks\":\"\",\"title\":{\"standoff\":15},\"zerolinecolor\":\"white\",\"automargin\":true,\"zerolinewidth\":2},\"yaxis\":{\"gridcolor\":\"white\",\"linecolor\":\"white\",\"ticks\":\"\",\"title\":{\"standoff\":15},\"zerolinecolor\":\"white\",\"automargin\":true,\"zerolinewidth\":2},\"scene\":{\"xaxis\":{\"backgroundcolor\":\"#E5ECF6\",\"gridcolor\":\"white\",\"linecolor\":\"white\",\"showbackground\":true,\"ticks\":\"\",\"zerolinecolor\":\"white\",\"gridwidth\":2},\"yaxis\":{\"backgroundcolor\":\"#E5ECF6\",\"gridcolor\":\"white\",\"linecolor\":\"white\",\"showbackground\":true,\"ticks\":\"\",\"zerolinecolor\":\"white\",\"gridwidth\":2},\"zaxis\":{\"backgroundcolor\":\"#E5ECF6\",\"gridcolor\":\"white\",\"linecolor\":\"white\",\"showbackground\":true,\"ticks\":\"\",\"zerolinecolor\":\"white\",\"gridwidth\":2}},\"shapedefaults\":{\"line\":{\"color\":\"#2a3f5f\"}},\"annotationdefaults\":{\"arrowcolor\":\"#2a3f5f\",\"arrowhead\":0,\"arrowwidth\":1},\"geo\":{\"bgcolor\":\"white\",\"landcolor\":\"#E5ECF6\",\"subunitcolor\":\"white\",\"showland\":true,\"showlakes\":true,\"lakecolor\":\"white\"},\"title\":{\"x\":0.05},\"mapbox\":{\"style\":\"light\"}}}},                        {\"responsive\": true}                    ).then(function(){\n                            \nvar gd = document.getElementById('1444b61b-e6a4-49a7-a820-811c7882d853');\nvar x = new MutationObserver(function (mutations, observer) {{\n        var display = window.getComputedStyle(gd).display;\n        if (!display || display === 'none') {{\n            console.log([gd, 'removed!']);\n            Plotly.purge(gd);\n            observer.disconnect();\n        }}\n}});\n\n// Listen for the removal of the full notebook cells\nvar notebookContainer = gd.closest('#notebook-container');\nif (notebookContainer) {{\n    x.observe(notebookContainer, {childList: true});\n}}\n\n// Listen for the clearing of the current output cell\nvar outputEl = gd.closest('.output');\nif (outputEl) {{\n    x.observe(outputEl, {childList: true});\n}}\n\n                        })                };                });            </script>        </div>"
     },
     "metadata": {},
     "output_type": "display_data"
    },
    {
     "data": {
      "application/vnd.plotly.v1+json": {
       "data": [
        {
         "name": "loss",
         "x": [
          0,
          1,
          2,
          3,
          4,
          5,
          6,
          7,
          8,
          9,
          10,
          11,
          12,
          13,
          14,
          15,
          16,
          17,
          18,
          19,
          20,
          21,
          22,
          23,
          24,
          25,
          26,
          27,
          28,
          29,
          30,
          31,
          32,
          33,
          34,
          35,
          36,
          37,
          38,
          39,
          40,
          41,
          42,
          43,
          44,
          45,
          46,
          47,
          48,
          49
         ],
         "y": [
          2.39904192E8,
          4.0841228E7,
          2.2729794E7,
          2.0858906E7,
          1.9378616E7,
          1.8585982E7,
          1.7700756E7,
          1.722325E7,
          1.6659053E7,
          1.6136223E7,
          1.5929741E7,
          1.5759403E7,
          1.539375E7,
          1.5146548E7,
          1.485878E7,
          1.5015724E7,
          1.4532549E7,
          1.4415538E7,
          1.4470237E7,
          1.413708E7,
          1.3994144E7,
          1.3843863E7,
          1.3661902E7,
          1.3520893E7,
          1.3607549E7,
          1.3269375E7,
          1.3481419E7,
          1.2996365E7,
          1.2825955E7,
          1.2854931E7,
          1.2711489E7,
          1.2565552E7,
          1.2330304E7,
          1.2337205E7,
          1.2191901E7,
          1.1561082E7,
          1.1573454E7,
          1.1581984E7,
          1.1210481E7,
          1.1259275E7,
          1.1515033E7,
          1.1105767E7,
          1.1061269E7,
          1.089925E7,
          1.1312664E7,
          1.110129E7,
          1.1147755E7,
          1.1091858E7,
          1.1152223E7,
          1.1039903E7
         ],
         "type": "scatter"
        },
        {
         "name": "val_loss",
         "x": [
          0,
          1,
          2,
          3,
          4,
          5,
          6,
          7,
          8,
          9,
          10,
          11,
          12,
          13,
          14,
          15,
          16,
          17,
          18,
          19,
          20,
          21,
          22,
          23,
          24,
          25,
          26,
          27,
          28,
          29,
          30,
          31,
          32,
          33,
          34,
          35,
          36,
          37,
          38,
          39,
          40,
          41,
          42,
          43,
          44,
          45,
          46,
          47,
          48,
          49
         ],
         "y": [
          7.5211328E7,
          3.2200304E7,
          2.9137962E7,
          2.740855E7,
          2.7803068E7,
          2.4893782E7,
          2.3132132E7,
          2.151225E7,
          2.134879E7,
          2.0952892E7,
          2.0766298E7,
          1.9617892E7,
          1.8704174E7,
          1.8328052E7,
          1.7299578E7,
          1.8399224E7,
          1.8689332E7,
          1.7593966E7,
          1.7560726E7,
          1.694337E7,
          1.6720836E7,
          1.6872402E7,
          1.5917083E7,
          1.452455E7,
          1.5185473E7,
          1.6370297E7,
          1.4933284E7,
          1.6168053E7,
          1.4501584E7,
          1.4833451E7,
          1.4632603E7,
          1.4141477E7,
          1.5532339E7,
          1.6300007E7,
          1.483248E7,
          1.4297596E7,
          1.3701134E7,
          1.4282427E7,
          1.4201013E7,
          1.4128805E7,
          1.3777198E7,
          1.3692245E7,
          1.3303218E7,
          1.5413787E7,
          1.3975842E7,
          1.338391E7,
          1.3163368E7,
          1.2961134E7,
          1.3541334E7,
          1.3426474E7
         ],
         "type": "scatter"
        }
       ],
       "layout": {
        "template": {
         "data": {
          "histogram2dcontour": [
           {
            "type": "histogram2dcontour",
            "colorbar": {
             "outlinewidth": 0,
             "ticks": ""
            },
            "colorscale": [
             [
              0.0,
              "#0d0887"
             ],
             [
              0.1111111111111111,
              "#46039f"
             ],
             [
              0.2222222222222222,
              "#7201a8"
             ],
             [
              0.3333333333333333,
              "#9c179e"
             ],
             [
              0.4444444444444444,
              "#bd3786"
             ],
             [
              0.5555555555555556,
              "#d8576b"
             ],
             [
              0.6666666666666666,
              "#ed7953"
             ],
             [
              0.7777777777777778,
              "#fb9f3a"
             ],
             [
              0.8888888888888888,
              "#fdca26"
             ],
             [
              1.0,
              "#f0f921"
             ]
            ]
           }
          ],
          "choropleth": [
           {
            "type": "choropleth",
            "colorbar": {
             "outlinewidth": 0,
             "ticks": ""
            }
           }
          ],
          "histogram2d": [
           {
            "type": "histogram2d",
            "colorbar": {
             "outlinewidth": 0,
             "ticks": ""
            },
            "colorscale": [
             [
              0.0,
              "#0d0887"
             ],
             [
              0.1111111111111111,
              "#46039f"
             ],
             [
              0.2222222222222222,
              "#7201a8"
             ],
             [
              0.3333333333333333,
              "#9c179e"
             ],
             [
              0.4444444444444444,
              "#bd3786"
             ],
             [
              0.5555555555555556,
              "#d8576b"
             ],
             [
              0.6666666666666666,
              "#ed7953"
             ],
             [
              0.7777777777777778,
              "#fb9f3a"
             ],
             [
              0.8888888888888888,
              "#fdca26"
             ],
             [
              1.0,
              "#f0f921"
             ]
            ]
           }
          ],
          "heatmap": [
           {
            "type": "heatmap",
            "colorbar": {
             "outlinewidth": 0,
             "ticks": ""
            },
            "colorscale": [
             [
              0.0,
              "#0d0887"
             ],
             [
              0.1111111111111111,
              "#46039f"
             ],
             [
              0.2222222222222222,
              "#7201a8"
             ],
             [
              0.3333333333333333,
              "#9c179e"
             ],
             [
              0.4444444444444444,
              "#bd3786"
             ],
             [
              0.5555555555555556,
              "#d8576b"
             ],
             [
              0.6666666666666666,
              "#ed7953"
             ],
             [
              0.7777777777777778,
              "#fb9f3a"
             ],
             [
              0.8888888888888888,
              "#fdca26"
             ],
             [
              1.0,
              "#f0f921"
             ]
            ]
           }
          ],
          "heatmapgl": [
           {
            "type": "heatmapgl",
            "colorbar": {
             "outlinewidth": 0,
             "ticks": ""
            },
            "colorscale": [
             [
              0.0,
              "#0d0887"
             ],
             [
              0.1111111111111111,
              "#46039f"
             ],
             [
              0.2222222222222222,
              "#7201a8"
             ],
             [
              0.3333333333333333,
              "#9c179e"
             ],
             [
              0.4444444444444444,
              "#bd3786"
             ],
             [
              0.5555555555555556,
              "#d8576b"
             ],
             [
              0.6666666666666666,
              "#ed7953"
             ],
             [
              0.7777777777777778,
              "#fb9f3a"
             ],
             [
              0.8888888888888888,
              "#fdca26"
             ],
             [
              1.0,
              "#f0f921"
             ]
            ]
           }
          ],
          "contourcarpet": [
           {
            "type": "contourcarpet",
            "colorbar": {
             "outlinewidth": 0,
             "ticks": ""
            }
           }
          ],
          "contour": [
           {
            "type": "contour",
            "colorbar": {
             "outlinewidth": 0,
             "ticks": ""
            },
            "colorscale": [
             [
              0.0,
              "#0d0887"
             ],
             [
              0.1111111111111111,
              "#46039f"
             ],
             [
              0.2222222222222222,
              "#7201a8"
             ],
             [
              0.3333333333333333,
              "#9c179e"
             ],
             [
              0.4444444444444444,
              "#bd3786"
             ],
             [
              0.5555555555555556,
              "#d8576b"
             ],
             [
              0.6666666666666666,
              "#ed7953"
             ],
             [
              0.7777777777777778,
              "#fb9f3a"
             ],
             [
              0.8888888888888888,
              "#fdca26"
             ],
             [
              1.0,
              "#f0f921"
             ]
            ]
           }
          ],
          "surface": [
           {
            "type": "surface",
            "colorbar": {
             "outlinewidth": 0,
             "ticks": ""
            },
            "colorscale": [
             [
              0.0,
              "#0d0887"
             ],
             [
              0.1111111111111111,
              "#46039f"
             ],
             [
              0.2222222222222222,
              "#7201a8"
             ],
             [
              0.3333333333333333,
              "#9c179e"
             ],
             [
              0.4444444444444444,
              "#bd3786"
             ],
             [
              0.5555555555555556,
              "#d8576b"
             ],
             [
              0.6666666666666666,
              "#ed7953"
             ],
             [
              0.7777777777777778,
              "#fb9f3a"
             ],
             [
              0.8888888888888888,
              "#fdca26"
             ],
             [
              1.0,
              "#f0f921"
             ]
            ]
           }
          ],
          "mesh3d": [
           {
            "type": "mesh3d",
            "colorbar": {
             "outlinewidth": 0,
             "ticks": ""
            }
           }
          ],
          "scatter": [
           {
            "fillpattern": {
             "fillmode": "overlay",
             "size": 10,
             "solidity": 0.2
            },
            "type": "scatter"
           }
          ],
          "parcoords": [
           {
            "type": "parcoords",
            "line": {
             "colorbar": {
              "outlinewidth": 0,
              "ticks": ""
             }
            }
           }
          ],
          "scatterpolargl": [
           {
            "type": "scatterpolargl",
            "marker": {
             "colorbar": {
              "outlinewidth": 0,
              "ticks": ""
             }
            }
           }
          ],
          "bar": [
           {
            "error_x": {
             "color": "#2a3f5f"
            },
            "error_y": {
             "color": "#2a3f5f"
            },
            "marker": {
             "line": {
              "color": "#E5ECF6",
              "width": 0.5
             },
             "pattern": {
              "fillmode": "overlay",
              "size": 10,
              "solidity": 0.2
             }
            },
            "type": "bar"
           }
          ],
          "scattergeo": [
           {
            "type": "scattergeo",
            "marker": {
             "colorbar": {
              "outlinewidth": 0,
              "ticks": ""
             }
            }
           }
          ],
          "scatterpolar": [
           {
            "type": "scatterpolar",
            "marker": {
             "colorbar": {
              "outlinewidth": 0,
              "ticks": ""
             }
            }
           }
          ],
          "histogram": [
           {
            "marker": {
             "pattern": {
              "fillmode": "overlay",
              "size": 10,
              "solidity": 0.2
             }
            },
            "type": "histogram"
           }
          ],
          "scattergl": [
           {
            "type": "scattergl",
            "marker": {
             "colorbar": {
              "outlinewidth": 0,
              "ticks": ""
             }
            }
           }
          ],
          "scatter3d": [
           {
            "type": "scatter3d",
            "line": {
             "colorbar": {
              "outlinewidth": 0,
              "ticks": ""
             }
            },
            "marker": {
             "colorbar": {
              "outlinewidth": 0,
              "ticks": ""
             }
            }
           }
          ],
          "scattermapbox": [
           {
            "type": "scattermapbox",
            "marker": {
             "colorbar": {
              "outlinewidth": 0,
              "ticks": ""
             }
            }
           }
          ],
          "scatterternary": [
           {
            "type": "scatterternary",
            "marker": {
             "colorbar": {
              "outlinewidth": 0,
              "ticks": ""
             }
            }
           }
          ],
          "scattercarpet": [
           {
            "type": "scattercarpet",
            "marker": {
             "colorbar": {
              "outlinewidth": 0,
              "ticks": ""
             }
            }
           }
          ],
          "carpet": [
           {
            "aaxis": {
             "endlinecolor": "#2a3f5f",
             "gridcolor": "white",
             "linecolor": "white",
             "minorgridcolor": "white",
             "startlinecolor": "#2a3f5f"
            },
            "baxis": {
             "endlinecolor": "#2a3f5f",
             "gridcolor": "white",
             "linecolor": "white",
             "minorgridcolor": "white",
             "startlinecolor": "#2a3f5f"
            },
            "type": "carpet"
           }
          ],
          "table": [
           {
            "cells": {
             "fill": {
              "color": "#EBF0F8"
             },
             "line": {
              "color": "white"
             }
            },
            "header": {
             "fill": {
              "color": "#C8D4E3"
             },
             "line": {
              "color": "white"
             }
            },
            "type": "table"
           }
          ],
          "barpolar": [
           {
            "marker": {
             "line": {
              "color": "#E5ECF6",
              "width": 0.5
             },
             "pattern": {
              "fillmode": "overlay",
              "size": 10,
              "solidity": 0.2
             }
            },
            "type": "barpolar"
           }
          ],
          "pie": [
           {
            "automargin": true,
            "type": "pie"
           }
          ]
         },
         "layout": {
          "autotypenumbers": "strict",
          "colorway": [
           "#636efa",
           "#EF553B",
           "#00cc96",
           "#ab63fa",
           "#FFA15A",
           "#19d3f3",
           "#FF6692",
           "#B6E880",
           "#FF97FF",
           "#FECB52"
          ],
          "font": {
           "color": "#2a3f5f"
          },
          "hovermode": "closest",
          "hoverlabel": {
           "align": "left"
          },
          "paper_bgcolor": "white",
          "plot_bgcolor": "#E5ECF6",
          "polar": {
           "bgcolor": "#E5ECF6",
           "angularaxis": {
            "gridcolor": "white",
            "linecolor": "white",
            "ticks": ""
           },
           "radialaxis": {
            "gridcolor": "white",
            "linecolor": "white",
            "ticks": ""
           }
          },
          "ternary": {
           "bgcolor": "#E5ECF6",
           "aaxis": {
            "gridcolor": "white",
            "linecolor": "white",
            "ticks": ""
           },
           "baxis": {
            "gridcolor": "white",
            "linecolor": "white",
            "ticks": ""
           },
           "caxis": {
            "gridcolor": "white",
            "linecolor": "white",
            "ticks": ""
           }
          },
          "coloraxis": {
           "colorbar": {
            "outlinewidth": 0,
            "ticks": ""
           }
          },
          "colorscale": {
           "sequential": [
            [
             0.0,
             "#0d0887"
            ],
            [
             0.1111111111111111,
             "#46039f"
            ],
            [
             0.2222222222222222,
             "#7201a8"
            ],
            [
             0.3333333333333333,
             "#9c179e"
            ],
            [
             0.4444444444444444,
             "#bd3786"
            ],
            [
             0.5555555555555556,
             "#d8576b"
            ],
            [
             0.6666666666666666,
             "#ed7953"
            ],
            [
             0.7777777777777778,
             "#fb9f3a"
            ],
            [
             0.8888888888888888,
             "#fdca26"
            ],
            [
             1.0,
             "#f0f921"
            ]
           ],
           "sequentialminus": [
            [
             0.0,
             "#0d0887"
            ],
            [
             0.1111111111111111,
             "#46039f"
            ],
            [
             0.2222222222222222,
             "#7201a8"
            ],
            [
             0.3333333333333333,
             "#9c179e"
            ],
            [
             0.4444444444444444,
             "#bd3786"
            ],
            [
             0.5555555555555556,
             "#d8576b"
            ],
            [
             0.6666666666666666,
             "#ed7953"
            ],
            [
             0.7777777777777778,
             "#fb9f3a"
            ],
            [
             0.8888888888888888,
             "#fdca26"
            ],
            [
             1.0,
             "#f0f921"
            ]
           ],
           "diverging": [
            [
             0,
             "#8e0152"
            ],
            [
             0.1,
             "#c51b7d"
            ],
            [
             0.2,
             "#de77ae"
            ],
            [
             0.3,
             "#f1b6da"
            ],
            [
             0.4,
             "#fde0ef"
            ],
            [
             0.5,
             "#f7f7f7"
            ],
            [
             0.6,
             "#e6f5d0"
            ],
            [
             0.7,
             "#b8e186"
            ],
            [
             0.8,
             "#7fbc41"
            ],
            [
             0.9,
             "#4d9221"
            ],
            [
             1,
             "#276419"
            ]
           ]
          },
          "xaxis": {
           "gridcolor": "white",
           "linecolor": "white",
           "ticks": "",
           "title": {
            "standoff": 15
           },
           "zerolinecolor": "white",
           "automargin": true,
           "zerolinewidth": 2
          },
          "yaxis": {
           "gridcolor": "white",
           "linecolor": "white",
           "ticks": "",
           "title": {
            "standoff": 15
           },
           "zerolinecolor": "white",
           "automargin": true,
           "zerolinewidth": 2
          },
          "scene": {
           "xaxis": {
            "backgroundcolor": "#E5ECF6",
            "gridcolor": "white",
            "linecolor": "white",
            "showbackground": true,
            "ticks": "",
            "zerolinecolor": "white",
            "gridwidth": 2
           },
           "yaxis": {
            "backgroundcolor": "#E5ECF6",
            "gridcolor": "white",
            "linecolor": "white",
            "showbackground": true,
            "ticks": "",
            "zerolinecolor": "white",
            "gridwidth": 2
           },
           "zaxis": {
            "backgroundcolor": "#E5ECF6",
            "gridcolor": "white",
            "linecolor": "white",
            "showbackground": true,
            "ticks": "",
            "zerolinecolor": "white",
            "gridwidth": 2
           }
          },
          "shapedefaults": {
           "line": {
            "color": "#2a3f5f"
           }
          },
          "annotationdefaults": {
           "arrowcolor": "#2a3f5f",
           "arrowhead": 0,
           "arrowwidth": 1
          },
          "geo": {
           "bgcolor": "white",
           "landcolor": "#E5ECF6",
           "subunitcolor": "white",
           "showland": true,
           "showlakes": true,
           "lakecolor": "white"
          },
          "title": {
           "x": 0.05
          },
          "mapbox": {
           "style": "light"
          }
         }
        }
       },
       "config": {
        "plotlyServerURL": "https://plot.ly"
       }
      },
      "text/html": "<div>                            <div id=\"e2e8b7fc-1c19-45e9-b8e6-1746f71edfb8\" class=\"plotly-graph-div\" style=\"height:525px; width:100%;\"></div>            <script type=\"text/javascript\">                require([\"plotly\"], function(Plotly) {                    window.PLOTLYENV=window.PLOTLYENV || {};                                    if (document.getElementById(\"e2e8b7fc-1c19-45e9-b8e6-1746f71edfb8\")) {                    Plotly.newPlot(                        \"e2e8b7fc-1c19-45e9-b8e6-1746f71edfb8\",                        [{\"name\":\"loss\",\"x\":[0,1,2,3,4,5,6,7,8,9,10,11,12,13,14,15,16,17,18,19,20,21,22,23,24,25,26,27,28,29,30,31,32,33,34,35,36,37,38,39,40,41,42,43,44,45,46,47,48,49],\"y\":[239904192.0,40841228.0,22729794.0,20858906.0,19378616.0,18585982.0,17700756.0,17223250.0,16659053.0,16136223.0,15929741.0,15759403.0,15393750.0,15146548.0,14858780.0,15015724.0,14532549.0,14415538.0,14470237.0,14137080.0,13994144.0,13843863.0,13661902.0,13520893.0,13607549.0,13269375.0,13481419.0,12996365.0,12825955.0,12854931.0,12711489.0,12565552.0,12330304.0,12337205.0,12191901.0,11561082.0,11573454.0,11581984.0,11210481.0,11259275.0,11515033.0,11105767.0,11061269.0,10899250.0,11312664.0,11101290.0,11147755.0,11091858.0,11152223.0,11039903.0],\"type\":\"scatter\"},{\"name\":\"val_loss\",\"x\":[0,1,2,3,4,5,6,7,8,9,10,11,12,13,14,15,16,17,18,19,20,21,22,23,24,25,26,27,28,29,30,31,32,33,34,35,36,37,38,39,40,41,42,43,44,45,46,47,48,49],\"y\":[75211328.0,32200304.0,29137962.0,27408550.0,27803068.0,24893782.0,23132132.0,21512250.0,21348790.0,20952892.0,20766298.0,19617892.0,18704174.0,18328052.0,17299578.0,18399224.0,18689332.0,17593966.0,17560726.0,16943370.0,16720836.0,16872402.0,15917083.0,14524550.0,15185473.0,16370297.0,14933284.0,16168053.0,14501584.0,14833451.0,14632603.0,14141477.0,15532339.0,16300007.0,14832480.0,14297596.0,13701134.0,14282427.0,14201013.0,14128805.0,13777198.0,13692245.0,13303218.0,15413787.0,13975842.0,13383910.0,13163368.0,12961134.0,13541334.0,13426474.0],\"type\":\"scatter\"}],                        {\"template\":{\"data\":{\"histogram2dcontour\":[{\"type\":\"histogram2dcontour\",\"colorbar\":{\"outlinewidth\":0,\"ticks\":\"\"},\"colorscale\":[[0.0,\"#0d0887\"],[0.1111111111111111,\"#46039f\"],[0.2222222222222222,\"#7201a8\"],[0.3333333333333333,\"#9c179e\"],[0.4444444444444444,\"#bd3786\"],[0.5555555555555556,\"#d8576b\"],[0.6666666666666666,\"#ed7953\"],[0.7777777777777778,\"#fb9f3a\"],[0.8888888888888888,\"#fdca26\"],[1.0,\"#f0f921\"]]}],\"choropleth\":[{\"type\":\"choropleth\",\"colorbar\":{\"outlinewidth\":0,\"ticks\":\"\"}}],\"histogram2d\":[{\"type\":\"histogram2d\",\"colorbar\":{\"outlinewidth\":0,\"ticks\":\"\"},\"colorscale\":[[0.0,\"#0d0887\"],[0.1111111111111111,\"#46039f\"],[0.2222222222222222,\"#7201a8\"],[0.3333333333333333,\"#9c179e\"],[0.4444444444444444,\"#bd3786\"],[0.5555555555555556,\"#d8576b\"],[0.6666666666666666,\"#ed7953\"],[0.7777777777777778,\"#fb9f3a\"],[0.8888888888888888,\"#fdca26\"],[1.0,\"#f0f921\"]]}],\"heatmap\":[{\"type\":\"heatmap\",\"colorbar\":{\"outlinewidth\":0,\"ticks\":\"\"},\"colorscale\":[[0.0,\"#0d0887\"],[0.1111111111111111,\"#46039f\"],[0.2222222222222222,\"#7201a8\"],[0.3333333333333333,\"#9c179e\"],[0.4444444444444444,\"#bd3786\"],[0.5555555555555556,\"#d8576b\"],[0.6666666666666666,\"#ed7953\"],[0.7777777777777778,\"#fb9f3a\"],[0.8888888888888888,\"#fdca26\"],[1.0,\"#f0f921\"]]}],\"heatmapgl\":[{\"type\":\"heatmapgl\",\"colorbar\":{\"outlinewidth\":0,\"ticks\":\"\"},\"colorscale\":[[0.0,\"#0d0887\"],[0.1111111111111111,\"#46039f\"],[0.2222222222222222,\"#7201a8\"],[0.3333333333333333,\"#9c179e\"],[0.4444444444444444,\"#bd3786\"],[0.5555555555555556,\"#d8576b\"],[0.6666666666666666,\"#ed7953\"],[0.7777777777777778,\"#fb9f3a\"],[0.8888888888888888,\"#fdca26\"],[1.0,\"#f0f921\"]]}],\"contourcarpet\":[{\"type\":\"contourcarpet\",\"colorbar\":{\"outlinewidth\":0,\"ticks\":\"\"}}],\"contour\":[{\"type\":\"contour\",\"colorbar\":{\"outlinewidth\":0,\"ticks\":\"\"},\"colorscale\":[[0.0,\"#0d0887\"],[0.1111111111111111,\"#46039f\"],[0.2222222222222222,\"#7201a8\"],[0.3333333333333333,\"#9c179e\"],[0.4444444444444444,\"#bd3786\"],[0.5555555555555556,\"#d8576b\"],[0.6666666666666666,\"#ed7953\"],[0.7777777777777778,\"#fb9f3a\"],[0.8888888888888888,\"#fdca26\"],[1.0,\"#f0f921\"]]}],\"surface\":[{\"type\":\"surface\",\"colorbar\":{\"outlinewidth\":0,\"ticks\":\"\"},\"colorscale\":[[0.0,\"#0d0887\"],[0.1111111111111111,\"#46039f\"],[0.2222222222222222,\"#7201a8\"],[0.3333333333333333,\"#9c179e\"],[0.4444444444444444,\"#bd3786\"],[0.5555555555555556,\"#d8576b\"],[0.6666666666666666,\"#ed7953\"],[0.7777777777777778,\"#fb9f3a\"],[0.8888888888888888,\"#fdca26\"],[1.0,\"#f0f921\"]]}],\"mesh3d\":[{\"type\":\"mesh3d\",\"colorbar\":{\"outlinewidth\":0,\"ticks\":\"\"}}],\"scatter\":[{\"fillpattern\":{\"fillmode\":\"overlay\",\"size\":10,\"solidity\":0.2},\"type\":\"scatter\"}],\"parcoords\":[{\"type\":\"parcoords\",\"line\":{\"colorbar\":{\"outlinewidth\":0,\"ticks\":\"\"}}}],\"scatterpolargl\":[{\"type\":\"scatterpolargl\",\"marker\":{\"colorbar\":{\"outlinewidth\":0,\"ticks\":\"\"}}}],\"bar\":[{\"error_x\":{\"color\":\"#2a3f5f\"},\"error_y\":{\"color\":\"#2a3f5f\"},\"marker\":{\"line\":{\"color\":\"#E5ECF6\",\"width\":0.5},\"pattern\":{\"fillmode\":\"overlay\",\"size\":10,\"solidity\":0.2}},\"type\":\"bar\"}],\"scattergeo\":[{\"type\":\"scattergeo\",\"marker\":{\"colorbar\":{\"outlinewidth\":0,\"ticks\":\"\"}}}],\"scatterpolar\":[{\"type\":\"scatterpolar\",\"marker\":{\"colorbar\":{\"outlinewidth\":0,\"ticks\":\"\"}}}],\"histogram\":[{\"marker\":{\"pattern\":{\"fillmode\":\"overlay\",\"size\":10,\"solidity\":0.2}},\"type\":\"histogram\"}],\"scattergl\":[{\"type\":\"scattergl\",\"marker\":{\"colorbar\":{\"outlinewidth\":0,\"ticks\":\"\"}}}],\"scatter3d\":[{\"type\":\"scatter3d\",\"line\":{\"colorbar\":{\"outlinewidth\":0,\"ticks\":\"\"}},\"marker\":{\"colorbar\":{\"outlinewidth\":0,\"ticks\":\"\"}}}],\"scattermapbox\":[{\"type\":\"scattermapbox\",\"marker\":{\"colorbar\":{\"outlinewidth\":0,\"ticks\":\"\"}}}],\"scatterternary\":[{\"type\":\"scatterternary\",\"marker\":{\"colorbar\":{\"outlinewidth\":0,\"ticks\":\"\"}}}],\"scattercarpet\":[{\"type\":\"scattercarpet\",\"marker\":{\"colorbar\":{\"outlinewidth\":0,\"ticks\":\"\"}}}],\"carpet\":[{\"aaxis\":{\"endlinecolor\":\"#2a3f5f\",\"gridcolor\":\"white\",\"linecolor\":\"white\",\"minorgridcolor\":\"white\",\"startlinecolor\":\"#2a3f5f\"},\"baxis\":{\"endlinecolor\":\"#2a3f5f\",\"gridcolor\":\"white\",\"linecolor\":\"white\",\"minorgridcolor\":\"white\",\"startlinecolor\":\"#2a3f5f\"},\"type\":\"carpet\"}],\"table\":[{\"cells\":{\"fill\":{\"color\":\"#EBF0F8\"},\"line\":{\"color\":\"white\"}},\"header\":{\"fill\":{\"color\":\"#C8D4E3\"},\"line\":{\"color\":\"white\"}},\"type\":\"table\"}],\"barpolar\":[{\"marker\":{\"line\":{\"color\":\"#E5ECF6\",\"width\":0.5},\"pattern\":{\"fillmode\":\"overlay\",\"size\":10,\"solidity\":0.2}},\"type\":\"barpolar\"}],\"pie\":[{\"automargin\":true,\"type\":\"pie\"}]},\"layout\":{\"autotypenumbers\":\"strict\",\"colorway\":[\"#636efa\",\"#EF553B\",\"#00cc96\",\"#ab63fa\",\"#FFA15A\",\"#19d3f3\",\"#FF6692\",\"#B6E880\",\"#FF97FF\",\"#FECB52\"],\"font\":{\"color\":\"#2a3f5f\"},\"hovermode\":\"closest\",\"hoverlabel\":{\"align\":\"left\"},\"paper_bgcolor\":\"white\",\"plot_bgcolor\":\"#E5ECF6\",\"polar\":{\"bgcolor\":\"#E5ECF6\",\"angularaxis\":{\"gridcolor\":\"white\",\"linecolor\":\"white\",\"ticks\":\"\"},\"radialaxis\":{\"gridcolor\":\"white\",\"linecolor\":\"white\",\"ticks\":\"\"}},\"ternary\":{\"bgcolor\":\"#E5ECF6\",\"aaxis\":{\"gridcolor\":\"white\",\"linecolor\":\"white\",\"ticks\":\"\"},\"baxis\":{\"gridcolor\":\"white\",\"linecolor\":\"white\",\"ticks\":\"\"},\"caxis\":{\"gridcolor\":\"white\",\"linecolor\":\"white\",\"ticks\":\"\"}},\"coloraxis\":{\"colorbar\":{\"outlinewidth\":0,\"ticks\":\"\"}},\"colorscale\":{\"sequential\":[[0.0,\"#0d0887\"],[0.1111111111111111,\"#46039f\"],[0.2222222222222222,\"#7201a8\"],[0.3333333333333333,\"#9c179e\"],[0.4444444444444444,\"#bd3786\"],[0.5555555555555556,\"#d8576b\"],[0.6666666666666666,\"#ed7953\"],[0.7777777777777778,\"#fb9f3a\"],[0.8888888888888888,\"#fdca26\"],[1.0,\"#f0f921\"]],\"sequentialminus\":[[0.0,\"#0d0887\"],[0.1111111111111111,\"#46039f\"],[0.2222222222222222,\"#7201a8\"],[0.3333333333333333,\"#9c179e\"],[0.4444444444444444,\"#bd3786\"],[0.5555555555555556,\"#d8576b\"],[0.6666666666666666,\"#ed7953\"],[0.7777777777777778,\"#fb9f3a\"],[0.8888888888888888,\"#fdca26\"],[1.0,\"#f0f921\"]],\"diverging\":[[0,\"#8e0152\"],[0.1,\"#c51b7d\"],[0.2,\"#de77ae\"],[0.3,\"#f1b6da\"],[0.4,\"#fde0ef\"],[0.5,\"#f7f7f7\"],[0.6,\"#e6f5d0\"],[0.7,\"#b8e186\"],[0.8,\"#7fbc41\"],[0.9,\"#4d9221\"],[1,\"#276419\"]]},\"xaxis\":{\"gridcolor\":\"white\",\"linecolor\":\"white\",\"ticks\":\"\",\"title\":{\"standoff\":15},\"zerolinecolor\":\"white\",\"automargin\":true,\"zerolinewidth\":2},\"yaxis\":{\"gridcolor\":\"white\",\"linecolor\":\"white\",\"ticks\":\"\",\"title\":{\"standoff\":15},\"zerolinecolor\":\"white\",\"automargin\":true,\"zerolinewidth\":2},\"scene\":{\"xaxis\":{\"backgroundcolor\":\"#E5ECF6\",\"gridcolor\":\"white\",\"linecolor\":\"white\",\"showbackground\":true,\"ticks\":\"\",\"zerolinecolor\":\"white\",\"gridwidth\":2},\"yaxis\":{\"backgroundcolor\":\"#E5ECF6\",\"gridcolor\":\"white\",\"linecolor\":\"white\",\"showbackground\":true,\"ticks\":\"\",\"zerolinecolor\":\"white\",\"gridwidth\":2},\"zaxis\":{\"backgroundcolor\":\"#E5ECF6\",\"gridcolor\":\"white\",\"linecolor\":\"white\",\"showbackground\":true,\"ticks\":\"\",\"zerolinecolor\":\"white\",\"gridwidth\":2}},\"shapedefaults\":{\"line\":{\"color\":\"#2a3f5f\"}},\"annotationdefaults\":{\"arrowcolor\":\"#2a3f5f\",\"arrowhead\":0,\"arrowwidth\":1},\"geo\":{\"bgcolor\":\"white\",\"landcolor\":\"#E5ECF6\",\"subunitcolor\":\"white\",\"showland\":true,\"showlakes\":true,\"lakecolor\":\"white\"},\"title\":{\"x\":0.05},\"mapbox\":{\"style\":\"light\"}}}},                        {\"responsive\": true}                    ).then(function(){\n                            \nvar gd = document.getElementById('e2e8b7fc-1c19-45e9-b8e6-1746f71edfb8');\nvar x = new MutationObserver(function (mutations, observer) {{\n        var display = window.getComputedStyle(gd).display;\n        if (!display || display === 'none') {{\n            console.log([gd, 'removed!']);\n            Plotly.purge(gd);\n            observer.disconnect();\n        }}\n}});\n\n// Listen for the removal of the full notebook cells\nvar notebookContainer = gd.closest('#notebook-container');\nif (notebookContainer) {{\n    x.observe(notebookContainer, {childList: true});\n}}\n\n// Listen for the clearing of the current output cell\nvar outputEl = gd.closest('.output');\nif (outputEl) {{\n    x.observe(outputEl, {childList: true});\n}}\n\n                        })                };                });            </script>        </div>"
     },
     "metadata": {},
     "output_type": "display_data"
    }
   ],
   "source": [
    "def draw_history(history):\n",
    "    fig = go.Figure()\n",
    "    fig.add_trace(go.Scatter(x=history.epoch, y=history.history[\"mae\"], name=\"mae\"))\n",
    "    fig.add_trace(go.Scatter(x=history.epoch, y=history.history[\"val_mae\"], name=\"val_mae\"))\n",
    "    fig.show()\n",
    "\n",
    "    fig = go.Figure()\n",
    "    fig.add_trace(go.Scatter(x=history.epoch, y=history.history[\"loss\"], name=\"loss\"))\n",
    "    fig.add_trace(go.Scatter(x=history.epoch, y=history.history[\"val_loss\"], name=\"val_loss\"))\n",
    "    fig.show()\n",
    "\n",
    "\n",
    "draw_history(history)"
   ],
   "metadata": {
    "collapsed": false,
    "ExecuteTime": {
     "end_time": "2024-03-24T19:04:39.893468100Z",
     "start_time": "2024-03-24T19:04:39.832027400Z"
    }
   },
   "id": "e0f259814b11dc08"
  },
  {
   "cell_type": "code",
   "execution_count": 28,
   "outputs": [
    {
     "name": "stdout",
     "output_type": "stream",
     "text": [
      "Mean absolute error: 2658.2598189009323\n"
     ]
    },
    {
     "data": {
      "text/plain": "     price   predictions        error\n0    25999  23930.607422  2068.392578\n1    11999  13785.469727  1786.469727\n2    12499  11853.554688   645.445312\n3     9099  12168.666992  3069.666992\n4     9999  10143.379883   144.379883\n..     ...           ...          ...\n994  12695  10698.752930  1996.247070\n995  16999  20576.761719  3577.761719\n996  16999  20742.777344  3743.777344\n997  17199  20832.496094  3633.496094\n998  19499  20050.269531   551.269531\n\n[999 rows x 3 columns]",
      "text/html": "<div>\n<style scoped>\n    .dataframe tbody tr th:only-of-type {\n        vertical-align: middle;\n    }\n\n    .dataframe tbody tr th {\n        vertical-align: top;\n    }\n\n    .dataframe thead th {\n        text-align: right;\n    }\n</style>\n<table border=\"1\" class=\"dataframe\">\n  <thead>\n    <tr style=\"text-align: right;\">\n      <th></th>\n      <th>price</th>\n      <th>predictions</th>\n      <th>error</th>\n    </tr>\n  </thead>\n  <tbody>\n    <tr>\n      <th>0</th>\n      <td>25999</td>\n      <td>23930.607422</td>\n      <td>2068.392578</td>\n    </tr>\n    <tr>\n      <th>1</th>\n      <td>11999</td>\n      <td>13785.469727</td>\n      <td>1786.469727</td>\n    </tr>\n    <tr>\n      <th>2</th>\n      <td>12499</td>\n      <td>11853.554688</td>\n      <td>645.445312</td>\n    </tr>\n    <tr>\n      <th>3</th>\n      <td>9099</td>\n      <td>12168.666992</td>\n      <td>3069.666992</td>\n    </tr>\n    <tr>\n      <th>4</th>\n      <td>9999</td>\n      <td>10143.379883</td>\n      <td>144.379883</td>\n    </tr>\n    <tr>\n      <th>...</th>\n      <td>...</td>\n      <td>...</td>\n      <td>...</td>\n    </tr>\n    <tr>\n      <th>994</th>\n      <td>12695</td>\n      <td>10698.752930</td>\n      <td>1996.247070</td>\n    </tr>\n    <tr>\n      <th>995</th>\n      <td>16999</td>\n      <td>20576.761719</td>\n      <td>3577.761719</td>\n    </tr>\n    <tr>\n      <th>996</th>\n      <td>16999</td>\n      <td>20742.777344</td>\n      <td>3743.777344</td>\n    </tr>\n    <tr>\n      <th>997</th>\n      <td>17199</td>\n      <td>20832.496094</td>\n      <td>3633.496094</td>\n    </tr>\n    <tr>\n      <th>998</th>\n      <td>19499</td>\n      <td>20050.269531</td>\n      <td>551.269531</td>\n    </tr>\n  </tbody>\n</table>\n<p>999 rows × 3 columns</p>\n</div>"
     },
     "execution_count": 28,
     "metadata": {},
     "output_type": "execute_result"
    }
   ],
   "source": [
    "model.load_weights(\"model_after_training_audi.keras\")\n",
    "\n",
    "preds = model.predict(test_data, verbose=0)\n",
    "\n",
    "df = pd.DataFrame(\n",
    "    {\"price\": test_labels, \"predictions\": preds.ravel(), \"error\": abs(test_labels - preds.ravel())}\n",
    ").reset_index().drop(\"index\", axis=1)\n",
    "\n",
    "print(f\"Mean absolute error: {mean_absolute_error(df['price'], df['predictions'])}\")\n",
    "\n",
    "df"
   ],
   "metadata": {
    "collapsed": false,
    "ExecuteTime": {
     "end_time": "2024-03-24T19:05:01.783309200Z",
     "start_time": "2024-03-24T19:05:00.622731900Z"
    }
   },
   "id": "4c945fe0e2b7b3b8"
  }
 ],
 "metadata": {
  "kernelspec": {
   "display_name": "Python 3",
   "language": "python",
   "name": "python3"
  },
  "language_info": {
   "codemirror_mode": {
    "name": "ipython",
    "version": 2
   },
   "file_extension": ".py",
   "mimetype": "text/x-python",
   "name": "python",
   "nbconvert_exporter": "python",
   "pygments_lexer": "ipython2",
   "version": "2.7.6"
  }
 },
 "nbformat": 4,
 "nbformat_minor": 5
}
