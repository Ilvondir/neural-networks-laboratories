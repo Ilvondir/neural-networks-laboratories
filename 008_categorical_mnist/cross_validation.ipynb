{
 "cells": [
  {
   "cell_type": "code",
   "execution_count": 131,
   "id": "initial_id",
   "metadata": {
    "collapsed": true,
    "ExecuteTime": {
     "end_time": "2024-03-24T20:29:45.274938400Z",
     "start_time": "2024-03-24T20:29:45.223334300Z"
    }
   },
   "outputs": [],
   "source": [
    "import pandas as pd\n",
    "import numpy as np\n",
    "from keras import Sequential\n",
    "from keras.src.datasets import mnist\n",
    "import matplotlib.pyplot as plt\n",
    "from keras.src.layers import Dense, Flatten\n",
    "from keras.src.utils import to_categorical\n"
   ]
  },
  {
   "cell_type": "code",
   "execution_count": 132,
   "outputs": [
    {
     "name": "stdout",
     "output_type": "stream",
     "text": [
      "Before concatenate:\n",
      "(60000, 28, 28)\n",
      "(60000,)\n",
      "(10000, 28, 28)\n",
      "(10000,)\n",
      "After concatenate:\n",
      "(70000, 28, 28)\n",
      "(70000, 10)\n"
     ]
    }
   ],
   "source": [
    "(data, labels), (test_data, test_labels) = mnist.load_data()\n",
    "\n",
    "print(\"Before concatenate:\")\n",
    "print(data.shape)\n",
    "print(labels.shape)\n",
    "print(test_data.shape)\n",
    "print(test_labels.shape)\n",
    "data = np.concatenate([data, test_data], axis=0)\n",
    "labels = np.concatenate([labels, test_labels], axis=0)\n",
    "data = data / 255.0\n",
    "labels = to_categorical(labels)\n",
    "\n",
    "print(\"After concatenate:\")\n",
    "print(data.shape)\n",
    "print(labels.shape)"
   ],
   "metadata": {
    "collapsed": false,
    "ExecuteTime": {
     "end_time": "2024-03-24T20:29:46.057892700Z",
     "start_time": "2024-03-24T20:29:45.245830600Z"
    }
   },
   "id": "7e14e10bf15797fd"
  },
  {
   "cell_type": "code",
   "execution_count": 133,
   "outputs": [
    {
     "name": "stdout",
     "output_type": "stream",
     "text": [
      "This is [0. 1. 0. 0. 0. 0. 0. 0. 0. 0.].\n"
     ]
    },
    {
     "data": {
      "text/plain": "<Figure size 640x480 with 1 Axes>",
      "image/png": "[encoded data removed]"
     },
     "metadata": {},
     "output_type": "display_data"
    }
   ],
   "source": [
    "id_to_show = 14001  # max 69999\n",
    "\n",
    "plt.imshow(data[id_to_show], cmap=\"gray_r\")\n",
    "print(f\"This is {labels[id_to_show]}.\")"
   ],
   "metadata": {
    "collapsed": false,
    "ExecuteTime": {
     "end_time": "2024-03-24T20:29:46.387278800Z",
     "start_time": "2024-03-24T20:29:46.051884Z"
    }
   },
   "id": "d353fb7fb978d193"
  },
  {
   "cell_type": "code",
   "execution_count": 134,
   "outputs": [],
   "source": [
    "NUMBER_OF_OUTPUT_DATASETS = 5\n",
    "cluster_len = len(data) // NUMBER_OF_OUTPUT_DATASETS\n",
    "\n",
    "set_of_datasets = []\n",
    "set_of_labels = []\n",
    "\n",
    "for i in range(NUMBER_OF_OUTPUT_DATASETS):\n",
    "    cluster = np.array(data[cluster_len * i:cluster_len * i + cluster_len])\n",
    "    labs = np.array(labels[cluster_len * i:cluster_len * i + cluster_len])\n",
    "\n",
    "    set_of_datasets.append(cluster)\n",
    "    set_of_labels.append(labs)"
   ],
   "metadata": {
    "collapsed": false,
    "ExecuteTime": {
     "end_time": "2024-03-24T20:29:46.593515300Z",
     "start_time": "2024-03-24T20:29:46.395707100Z"
    }
   },
   "id": "201cad45131b7508"
  },
  {
   "cell_type": "code",
   "execution_count": 135,
   "outputs": [],
   "source": [
    "def build_model():\n",
    "    model = Sequential()\n",
    "    model.add(Flatten(input_shape=(28, 28)))\n",
    "    model.add(Dense(units=10, activation=\"softmax\"))\n",
    "\n",
    "    model.compile(loss=\"categorical_crossentropy\", metrics=[\"accuracy\"], optimizer=\"adam\")\n",
    "\n",
    "    return model"
   ],
   "metadata": {
    "collapsed": false,
    "ExecuteTime": {
     "end_time": "2024-03-24T20:29:46.627502200Z",
     "start_time": "2024-03-24T20:29:46.595119800Z"
    }
   },
   "id": "881f40cfeea85102"
  },
  {
   "cell_type": "code",
   "execution_count": 153,
   "outputs": [
    {
     "name": "stdout",
     "output_type": "stream",
     "text": [
      "Epoch 1/4\n",
      "1750/1750 [==============================] - 9s 4ms/step - loss: 0.4751 - accuracy: 0.8772 - val_loss: 0.2840 - val_accuracy: 0.9231\n",
      "Epoch 2/4\n",
      "1750/1750 [==============================] - 6s 3ms/step - loss: 0.3043 - accuracy: 0.9148 - val_loss: 0.2539 - val_accuracy: 0.9289\n",
      "Epoch 3/4\n",
      "1750/1750 [==============================] - 8s 4ms/step - loss: 0.2831 - accuracy: 0.9207 - val_loss: 0.2393 - val_accuracy: 0.9325\n",
      "Epoch 4/4\n",
      "1750/1750 [==============================] - 8s 5ms/step - loss: 0.2720 - accuracy: 0.9239 - val_loss: 0.2308 - val_accuracy: 0.9364\n",
      "Epoch 1/4\n",
      "1750/1750 [==============================] - 9s 4ms/step - loss: 0.4812 - accuracy: 0.8745 - val_loss: 0.2883 - val_accuracy: 0.9220\n",
      "Epoch 2/4\n",
      "1750/1750 [==============================] - 7s 4ms/step - loss: 0.3040 - accuracy: 0.9153 - val_loss: 0.2534 - val_accuracy: 0.9293\n",
      "Epoch 3/4\n",
      "1750/1750 [==============================] - 6s 3ms/step - loss: 0.2819 - accuracy: 0.9211 - val_loss: 0.2390 - val_accuracy: 0.9346\n",
      "Epoch 4/4\n",
      "1750/1750 [==============================] - 6s 3ms/step - loss: 0.2709 - accuracy: 0.9234 - val_loss: 0.2301 - val_accuracy: 0.9385\n",
      "Epoch 1/4\n",
      "1750/1750 [==============================] - 7s 4ms/step - loss: 0.4689 - accuracy: 0.8786 - val_loss: 0.2831 - val_accuracy: 0.9216\n",
      "Epoch 2/4\n",
      "1750/1750 [==============================] - 6s 3ms/step - loss: 0.3001 - accuracy: 0.9163 - val_loss: 0.2552 - val_accuracy: 0.9271\n",
      "Epoch 3/4\n",
      "1750/1750 [==============================] - 6s 3ms/step - loss: 0.2797 - accuracy: 0.9226 - val_loss: 0.2393 - val_accuracy: 0.9322\n",
      "Epoch 4/4\n",
      "1750/1750 [==============================] - 6s 3ms/step - loss: 0.2686 - accuracy: 0.9263 - val_loss: 0.2322 - val_accuracy: 0.9361\n",
      "Epoch 1/4\n",
      "1750/1750 [==============================] - 7s 4ms/step - loss: 0.4646 - accuracy: 0.8812 - val_loss: 0.2831 - val_accuracy: 0.9245\n",
      "Epoch 2/4\n",
      "1750/1750 [==============================] - 6s 3ms/step - loss: 0.2986 - accuracy: 0.9166 - val_loss: 0.2502 - val_accuracy: 0.9320\n",
      "Epoch 3/4\n",
      "1750/1750 [==============================] - 6s 3ms/step - loss: 0.2779 - accuracy: 0.9225 - val_loss: 0.2397 - val_accuracy: 0.9358\n",
      "Epoch 4/4\n",
      "1750/1750 [==============================] - 6s 3ms/step - loss: 0.2675 - accuracy: 0.9253 - val_loss: 0.2304 - val_accuracy: 0.9361\n",
      "Epoch 1/4\n",
      "1750/1750 [==============================] - 7s 4ms/step - loss: 0.4822 - accuracy: 0.8753 - val_loss: 0.2959 - val_accuracy: 0.9182\n",
      "Epoch 2/4\n",
      "1750/1750 [==============================] - 6s 3ms/step - loss: 0.3117 - accuracy: 0.9139 - val_loss: 0.2674 - val_accuracy: 0.9264\n",
      "Epoch 3/4\n",
      "1750/1750 [==============================] - 6s 3ms/step - loss: 0.2899 - accuracy: 0.9184 - val_loss: 0.2625 - val_accuracy: 0.9260\n",
      "Epoch 4/4\n",
      "1750/1750 [==============================] - 6s 3ms/step - loss: 0.2792 - accuracy: 0.9226 - val_loss: 0.2533 - val_accuracy: 0.9287\n"
     ]
    },
    {
     "data": {
      "text/plain": "     i  accuracy      loss  val_accuracy  val_loss\n0  0.0  0.923929  0.272040      0.936429  0.230795\n1  1.0  0.923429  0.270942      0.938500  0.230113\n2  2.0  0.926286  0.268595      0.936071  0.232171\n3  3.0  0.925286  0.267467      0.936071  0.230372\n4  4.0  0.922607  0.279156      0.928714  0.253297",
      "text/html": "<div>\n<style scoped>\n    .dataframe tbody tr th:only-of-type {\n        vertical-align: middle;\n    }\n\n    .dataframe tbody tr th {\n        vertical-align: top;\n    }\n\n    .dataframe thead th {\n        text-align: right;\n    }\n</style>\n<table border=\"1\" class=\"dataframe\">\n  <thead>\n    <tr style=\"text-align: right;\">\n      <th></th>\n      <th>i</th>\n      <th>accuracy</th>\n      <th>loss</th>\n      <th>val_accuracy</th>\n      <th>val_loss</th>\n    </tr>\n  </thead>\n  <tbody>\n    <tr>\n      <th>0</th>\n      <td>0.0</td>\n      <td>0.923929</td>\n      <td>0.272040</td>\n      <td>0.936429</td>\n      <td>0.230795</td>\n    </tr>\n    <tr>\n      <th>1</th>\n      <td>1.0</td>\n      <td>0.923429</td>\n      <td>0.270942</td>\n      <td>0.938500</td>\n      <td>0.230113</td>\n    </tr>\n    <tr>\n      <th>2</th>\n      <td>2.0</td>\n      <td>0.926286</td>\n      <td>0.268595</td>\n      <td>0.936071</td>\n      <td>0.232171</td>\n    </tr>\n    <tr>\n      <th>3</th>\n      <td>3.0</td>\n      <td>0.925286</td>\n      <td>0.267467</td>\n      <td>0.936071</td>\n      <td>0.230372</td>\n    </tr>\n    <tr>\n      <th>4</th>\n      <td>4.0</td>\n      <td>0.922607</td>\n      <td>0.279156</td>\n      <td>0.928714</td>\n      <td>0.253297</td>\n    </tr>\n  </tbody>\n</table>\n</div>"
     },
     "execution_count": 153,
     "metadata": {},
     "output_type": "execute_result"
    }
   ],
   "source": [
    "models = []\n",
    "\n",
    "\n",
    "def cv(set_of_datasets, set_of_labels):\n",
    "    results = pd.DataFrame(columns=[\"i\", \"accuracy\", \"loss\", \"val_accuracy\", \"val_loss\"])\n",
    "\n",
    "    for j in range(NUMBER_OF_OUTPUT_DATASETS):\n",
    "        model = build_model()\n",
    "        valid_data = set_of_datasets[i]\n",
    "        valid_labels = set_of_labels[i]\n",
    "        train_data = np.concatenate([set_of_datasets[d] for d in range(len(set_of_datasets)) if d != j], axis=0)\n",
    "        train_labels = np.concatenate([set_of_labels[d] for d in range(len(set_of_labels)) if d != j], axis=0)\n",
    "\n",
    "        r = model.fit(train_data, train_labels, epochs=4, batch_size=32,\n",
    "                      validation_data=(valid_data, valid_labels))\n",
    "\n",
    "        res = [j, r.history[\"accuracy\"][-1], r.history[\"loss\"][-1], r.history[\"val_accuracy\"][-1],\n",
    "               r.history[\"val_loss\"][-1]]\n",
    "        results.loc[len(results)] = res\n",
    "\n",
    "        models.append(model)\n",
    "\n",
    "    return results\n",
    "\n",
    "\n",
    "cv(set_of_datasets, set_of_labels)"
   ],
   "metadata": {
    "collapsed": false,
    "ExecuteTime": {
     "end_time": "2024-03-24T20:49:54.828834Z",
     "start_time": "2024-03-24T20:47:41.461223400Z"
    }
   },
   "id": "480af01d03619153"
  },
  {
   "cell_type": "code",
   "execution_count": 154,
   "outputs": [
    {
     "name": "stdout",
     "output_type": "stream",
     "text": [
      "2188/2188 [==============================] - 7s 3ms/step - loss: 0.2650 - accuracy: 0.9267\n",
      "[0.2650378942489624, 0.926714301109314]\n",
      "2188/2188 [==============================] - 7s 3ms/step - loss: 0.2648 - accuracy: 0.9278\n",
      "[0.2648119628429413, 0.9277714490890503]\n",
      "2188/2188 [==============================] - 7s 3ms/step - loss: 0.2672 - accuracy: 0.9266\n",
      "[0.26716041564941406, 0.9265857338905334]\n",
      "2188/2188 [==============================] - 7s 3ms/step - loss: 0.2650 - accuracy: 0.9270\n",
      "[0.2650032639503479, 0.926971435546875]\n",
      "2188/2188 [==============================] - 7s 3ms/step - loss: 0.2668 - accuracy: 0.9252\n",
      "[0.2668169438838959, 0.9252428412437439]\n"
     ]
    }
   ],
   "source": [
    "for m in models:\n",
    "    print(m.evaluate(data, labels))"
   ],
   "metadata": {
    "collapsed": false,
    "ExecuteTime": {
     "end_time": "2024-03-24T20:50:32.895017600Z",
     "start_time": "2024-03-24T20:49:56.134693200Z"
    }
   },
   "id": "6e4dca875d40c0e9"
  }
 ],
 "metadata": {
  "kernelspec": {
   "display_name": "Python 3",
   "language": "python",
   "name": "python3"
  },
  "language_info": {
   "codemirror_mode": {
    "name": "ipython",
    "version": 2
   },
   "file_extension": ".py",
   "mimetype": "text/x-python",
   "name": "python",
   "nbconvert_exporter": "python",
   "pygments_lexer": "ipython2",
   "version": "2.7.6"
  }
 },
 "nbformat": 4,
 "nbformat_minor": 5
}
