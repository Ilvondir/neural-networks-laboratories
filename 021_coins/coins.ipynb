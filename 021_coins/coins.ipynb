{
 "cells": [
  {
   "cell_type": "code",
   "execution_count": null,
   "id": "initial_id",
   "metadata": {
    "collapsed": true
   },
   "outputs": [],
   "source": [
    "import numpy as np\n",
    "import pandas as pd\n",
    "from keras.src.applications import VGG16\n",
    "from keras.src.callbacks import ModelCheckpoint\n",
    "from keras.src.layers import Flatten, Dense\n",
    "import os\n",
    "import matplotlib.pyplot as plt\n",
    "from sklearn.metrics import accuracy_score, confusion_matrix\n",
    "from tensorflow.keras.preprocessing import image\n",
    "import plotly.graph_objects as go\n",
    "import plotly.express as px\n",
    "from keras import Sequential\n",
    "from keras.src.preprocessing.image import ImageDataGenerator"
   ]
  },
  {
   "cell_type": "code",
   "execution_count": null,
   "outputs": [],
   "source": [
    "paths = [\"./data/train\", \"./data/validation\", \"./data/test\"]"
   ],
   "metadata": {
    "collapsed": false
   },
   "id": "7a18047999046045"
  },
  {
   "cell_type": "code",
   "execution_count": null,
   "outputs": [],
   "source": [
    "datagen = ImageDataGenerator(rescale=1. / 255.)\n",
    "\n",
    "train_generator = datagen.flow_from_directory(paths[0],\n",
    "                                              target_size=(150, 150),\n",
    "                                              batch_size=64,\n",
    "                                              class_mode=\"categorical\")\n",
    "\n",
    "validation_generator = datagen.flow_from_directory(paths[1],\n",
    "                                                   target_size=(150, 150),\n",
    "                                                   batch_size=64,\n",
    "                                                   class_mode=\"categorical\")\n",
    "\n",
    "test_generator = datagen.flow_from_directory(paths[2],\n",
    "                                             target_size=(150, 150),\n",
    "                                             batch_size=1,\n",
    "                                             class_mode=\"categorical\",\n",
    "                                             shuffle=False)"
   ],
   "metadata": {
    "collapsed": false
   },
   "id": "7a499e00c76810bb"
  },
  {
   "cell_type": "code",
   "execution_count": null,
   "outputs": [],
   "source": [
    "def display_images_from_class(id):\n",
    "    fnames = [f\"{paths[0]}/{id}/{names}\" for names in os.listdir(paths[0] + f\"/{id}\")]\n",
    "\n",
    "    print(len(fnames))\n",
    "\n",
    "    rows = (len(fnames) // 5) + 1\n",
    "\n",
    "    plt.figure(figsize=(25, 25))\n",
    "    i = 1\n",
    "\n",
    "    for fname in fnames:\n",
    "        img = image.load_img(fname, target_size=(150, 150))\n",
    "        print(f\"{fname}\")\n",
    "\n",
    "        plt.subplot(rows, 5, i)\n",
    "        plt.imshow(img)\n",
    "\n",
    "        i += 1\n",
    "\n",
    "\n",
    "display_images_from_class(140)"
   ],
   "metadata": {
    "collapsed": false
   },
   "id": "5552664801bfd40d"
  },
  {
   "cell_type": "code",
   "execution_count": null,
   "outputs": [],
   "source": [
    "model = Sequential()\n",
    "\n",
    "transfer = VGG16(input_shape=(150, 150, 3), weights='imagenet', include_top=False)\n",
    "transfer.trainable = False\n",
    "\n",
    "model.add(transfer)\n",
    "model.add(Flatten())\n",
    "model.add(Dense(units=len(train_generator.class_indices), activation='softmax'))\n",
    "\n",
    "model.summary()\n",
    "\n",
    "model.compile(optimizer=\"adam\", loss=\"categorical_crossentropy\", metrics=[\"accuracy\"])\n",
    "\n",
    "mc = ModelCheckpoint(\"min_loss_model.keras\", monitor=\"val_loss\", save_best_only=True, mode=\"min\", verbose=1)\n",
    "history = model.fit(train_generator, epochs=10, validation_data=validation_generator, callbacks=[mc])"
   ],
   "metadata": {
    "collapsed": false
   },
   "id": "16b301281679128e"
  },
  {
   "cell_type": "code",
   "execution_count": null,
   "outputs": [],
   "source": [
    "def draw_history(r):\n",
    "    fig = go.Figure()\n",
    "    fig.add_trace(go.Scatter(x=r.epoch, y=r.history['accuracy'], name=\"accuracy\"))\n",
    "    fig.add_trace(go.Scatter(x=r.epoch, y=r.history['val_accuracy'], name=\"val_accuracy\"))\n",
    "    fig.show()\n",
    "\n",
    "    fig = go.Figure()\n",
    "    fig.add_trace(go.Scatter(x=r.epoch, y=r.history['loss'], name=\"loss\"))\n",
    "    fig.add_trace(go.Scatter(x=r.epoch, y=r.history['val_loss'], name=\"val_loss\"))\n",
    "    fig.show()\n",
    "\n",
    "# draw_history(history)"
   ],
   "metadata": {
    "collapsed": false
   },
   "id": "eb42ce6d68bcbce6"
  },
  {
   "cell_type": "code",
   "execution_count": null,
   "outputs": [],
   "source": [],
   "metadata": {
    "collapsed": false
   },
   "id": "8d2807fd06fd0952"
  },
  {
   "cell_type": "code",
   "execution_count": null,
   "outputs": [],
   "source": [
    "model.load_weights(\"min_loss_model.keras\")\n",
    "preds = model.predict(test_generator)\n",
    "\n",
    "results = pd.DataFrame({\n",
    "    \"file\": test_generator.filepaths,\n",
    "    \"true\": test_generator.classes,\n",
    "    \"pred\": np.argmax(preds, axis=1)\n",
    "})\n",
    "\n",
    "results"
   ],
   "metadata": {
    "collapsed": false
   },
   "id": "d1b4c37ddc871459"
  },
  {
   "cell_type": "code",
   "execution_count": null,
   "outputs": [],
   "source": [
    "print(f\"Accuracy: {accuracy_score(results['true'], results['pred'])}\")\n",
    "\n",
    "cm = confusion_matrix(results['true'], results['pred'])\n",
    "px.imshow(cm, text_auto=True)"
   ],
   "metadata": {
    "collapsed": false
   },
   "id": "7f0ac157e1143e40"
  },
  {
   "cell_type": "code",
   "execution_count": null,
   "outputs": [],
   "source": [
    "my_generator = datagen.flow_from_directory(\"./data/my\",\n",
    "                                           target_size=(150, 150),\n",
    "                                           batch_size=1,\n",
    "                                           shuffle=False,\n",
    "                                           class_mode=\"categorical\")\n",
    "\n",
    "preds = model.predict(my_generator)\n",
    "\n",
    "results = pd.DataFrame({\n",
    "    \"file\": my_generator.filenames,\n",
    "    \"pred\": np.argmax(preds, axis=1)\n",
    "})\n",
    "\n",
    "print(results)"
   ],
   "metadata": {
    "collapsed": false
   },
   "id": "46b9b7e6b546b794"
  }
 ],
 "metadata": {
  "kernelspec": {
   "display_name": "Python 3",
   "language": "python",
   "name": "python3"
  },
  "language_info": {
   "codemirror_mode": {
    "name": "ipython",
    "version": 2
   },
   "file_extension": ".py",
   "mimetype": "text/x-python",
   "name": "python",
   "nbconvert_exporter": "python",
   "pygments_lexer": "ipython2",
   "version": "2.7.6"
  }
 },
 "nbformat": 4,
 "nbformat_minor": 5
}
