{
 "cells": [
  {
   "cell_type": "code",
   "execution_count": null,
   "id": "initial_id",
   "metadata": {
    "collapsed": true
   },
   "outputs": [],
   "source": [
    "import re\n",
    "import string\n",
    "import nltk\n",
    "import pandas as pd\n",
    "from keras import Sequential\n",
    "from keras.src.layers import Dense\n",
    "from nltk import PorterStemmer\n",
    "from sklearn.feature_extraction.text import CountVectorizer\n",
    "from sklearn.model_selection import train_test_split\n",
    "import plotly.graph_objects as go\n",
    "from sklearn.metrics import accuracy_score, confusion_matrix\n",
    "import plotly.express as px"
   ]
  },
  {
   "cell_type": "code",
   "execution_count": null,
   "outputs": [],
   "source": [
    "data = pd.read_csv('SMSSpamCollection.csv', sep=\"\\t\", header=None)\n",
    "data.columns = [\"category\", \"sms\"]\n",
    "data"
   ],
   "metadata": {
    "collapsed": false
   },
   "id": "9c1ddae231b2cc3d"
  },
  {
   "cell_type": "code",
   "execution_count": null,
   "outputs": [],
   "source": [
    "print(\"0: good\\n1: spam\")\n",
    "data[\"label\"] = data[\"category\"].apply(lambda c: int(c == \"spam\"))\n",
    "data"
   ],
   "metadata": {
    "collapsed": false
   },
   "id": "89998ac873d73c1"
  },
  {
   "cell_type": "code",
   "execution_count": null,
   "outputs": [],
   "source": [
    "stopwords = nltk.corpus.stopwords.words(\"english\")\n",
    "ps = PorterStemmer()\n",
    "\n",
    "\n",
    "def clean_text(text):\n",
    "    tokens = re.split(r\"\\s\", text)\n",
    "    text = \"\".join(ps.stem(word) + \" \" for word in tokens if word.lower() not in stopwords)\n",
    "    text = \"\".join([c for c in text if c not in string.punctuation])\n",
    "    return text\n",
    "\n",
    "\n",
    "data[\"sms\"] = data[\"sms\"].apply(lambda text: clean_text(text))\n",
    "\n",
    "data"
   ],
   "metadata": {
    "collapsed": false
   },
   "id": "c2a40f028e27646c"
  },
  {
   "cell_type": "code",
   "execution_count": null,
   "outputs": [],
   "source": [
    "cv = CountVectorizer()\n",
    "\n",
    "data_to_train = cv.fit_transform(data[\"sms\"])\n",
    "data_to_train = pd.DataFrame(data_to_train.toarray())\n",
    "\n",
    "train_data, test_data, train_labels, test_labels = train_test_split(data_to_train, data[\"label\"], test_size=0.2)"
   ],
   "metadata": {
    "collapsed": false
   },
   "id": "276b3a291dd40200"
  },
  {
   "cell_type": "code",
   "execution_count": null,
   "outputs": [],
   "source": [
    "model = Sequential()\n",
    "model.add(Dense(units=1, input_shape=(data_to_train.shape[1],), activation='sigmoid'))\n",
    "\n",
    "model.summary()"
   ],
   "metadata": {
    "collapsed": false
   },
   "id": "4c55b2f8fdc0a405"
  },
  {
   "cell_type": "code",
   "execution_count": null,
   "outputs": [],
   "source": [
    "model.compile(optimizer=\"adam\", loss=\"binary_crossentropy\", metrics=[\"accuracy\"])\n",
    "\n",
    "r = model.fit(train_data, train_labels, epochs=10, validation_data=(test_data, test_labels))"
   ],
   "metadata": {
    "collapsed": false
   },
   "id": "571407a1ebb38645"
  },
  {
   "cell_type": "code",
   "execution_count": null,
   "outputs": [],
   "source": [
    "def draw_history(r):\n",
    "    fig = go.Figure()\n",
    "    fig.add_trace(go.Scatter(x=r.epoch, y=r.history['accuracy'], name=\"accuracy\"))\n",
    "    fig.add_trace(go.Scatter(x=r.epoch, y=r.history['val_accuracy'], name=\"val_accuracy\"))\n",
    "    fig.show()\n",
    "\n",
    "    fig = go.Figure()\n",
    "    fig.add_trace(go.Scatter(x=r.epoch, y=r.history['loss'], name=\"loss\"))\n",
    "    fig.add_trace(go.Scatter(x=r.epoch, y=r.history['val_loss'], name=\"val_loss\"))\n",
    "    fig.show()\n",
    "\n",
    "\n",
    "draw_history(r)"
   ],
   "metadata": {
    "collapsed": false
   },
   "id": "d0444de5c32417e8"
  },
  {
   "cell_type": "code",
   "execution_count": null,
   "outputs": [],
   "source": [
    "preds = model.predict(data_to_train).round()\n",
    "\n",
    "df = pd.DataFrame({\n",
    "    \"true\": data[\"label\"],\n",
    "    \"pred\": preds.ravel()\n",
    "})\n",
    "\n",
    "df"
   ],
   "metadata": {
    "collapsed": false
   },
   "id": "9702a413b42db837"
  },
  {
   "cell_type": "code",
   "execution_count": null,
   "outputs": [],
   "source": [
    "print(f\"Accuracy: {accuracy_score(df['true'], df['pred'])}\")\n",
    "\n",
    "cm = confusion_matrix(df['true'], df['pred'])\n",
    "px.imshow(cm, text_auto=True, x=[\"p_good\", \"p_spam\"], y=[\"t_good\", \"t_spam\"])"
   ],
   "metadata": {
    "collapsed": false
   },
   "id": "4ba457a00cc03ebc"
  },
  {
   "cell_type": "code",
   "execution_count": null,
   "outputs": [],
   "source": [
    "text = input(\"Enter text to predict:\")\n",
    "text = clean_text(text)\n",
    "print(text)\n",
    "to_p = cv.transform([text])\n",
    "p = model.predict(to_p, verbose=0)\n",
    "\n",
    "print(f\"Sigmoid = {p[0, 0]}, class = {p[0, 0].round()}\")"
   ],
   "metadata": {
    "collapsed": false
   },
   "id": "3722250ea8f0e18"
  }
 ],
 "metadata": {
  "kernelspec": {
   "display_name": "Python 3",
   "language": "python",
   "name": "python3"
  },
  "language_info": {
   "codemirror_mode": {
    "name": "ipython",
    "version": 2
   },
   "file_extension": ".py",
   "mimetype": "text/x-python",
   "name": "python",
   "nbconvert_exporter": "python",
   "pygments_lexer": "ipython2",
   "version": "2.7.6"
  }
 },
 "nbformat": 4,
 "nbformat_minor": 5
}
