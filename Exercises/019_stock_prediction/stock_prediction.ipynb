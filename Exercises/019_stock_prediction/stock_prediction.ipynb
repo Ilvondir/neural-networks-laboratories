{
 "cells": [
  {
   "cell_type": "code",
   "execution_count": null,
   "id": "initial_id",
   "metadata": {
    "collapsed": true
   },
   "outputs": [],
   "source": [
    "import numpy as np\n",
    "import pandas as pd\n",
    "from keras import Sequential\n",
    "from keras.src.layers import LSTM, Dense\n",
    "from keras.src.optimizers import Adam\n",
    "from sklearn.preprocessing import StandardScaler\n",
    "import plotly.graph_objects as go\n",
    "import plotly.express as px"
   ]
  },
  {
   "cell_type": "code",
   "execution_count": null,
   "outputs": [],
   "source": [
    "df = pd.read_csv(\"SBUX.csv\")\n",
    "df = df.drop(\"Adj Close\", axis=1)\n",
    "df.columns = [name.lower() for name in df.columns]\n",
    "df = df.loc[len(df) // 1.5:len(df) // 1.2]\n",
    "df.head(10)"
   ],
   "metadata": {
    "collapsed": false
   },
   "id": "aff19a138235eb7e"
  },
  {
   "cell_type": "code",
   "execution_count": null,
   "outputs": [],
   "source": [
    "# Start with only 1 price (close)\n",
    "# This is wrong method!\n",
    "series = df['close'].values.reshape(-1, 1)\n",
    "N = len(series)"
   ],
   "metadata": {
    "collapsed": false
   },
   "id": "66ef3cd33225758"
  },
  {
   "cell_type": "code",
   "execution_count": null,
   "outputs": [],
   "source": [
    "ss = StandardScaler()\n",
    "ss.fit(series[-N // 2:])\n",
    "series = ss.transform(series).flatten()"
   ],
   "metadata": {
    "collapsed": false
   },
   "id": "bc50b8ad84184231"
  },
  {
   "cell_type": "code",
   "execution_count": null,
   "outputs": [],
   "source": [
    "T = 10\n",
    "D = 1\n",
    "X = []\n",
    "Y = []\n",
    "\n",
    "for i in range(N - T):\n",
    "    x = series[i:i + T]\n",
    "    y = series[i + T]\n",
    "    X.append(x)\n",
    "    Y.append(y)\n",
    "\n",
    "X = np.array(X).reshape(-1, T, D)\n",
    "Y = np.array(Y)\n",
    "N = len(X)\n",
    "print(f\"X.shape: {X.shape}\\nY.shape: {Y.shape}\")"
   ],
   "metadata": {
    "collapsed": false
   },
   "id": "fb1fe4041202c1bb"
  },
  {
   "cell_type": "code",
   "execution_count": null,
   "outputs": [],
   "source": [
    "# Autoregressive RNN model\n",
    "model = Sequential()\n",
    "model.add(LSTM(units=5, input_shape=(T, D)))\n",
    "model.add(Dense(units=1))\n",
    "\n",
    "model.compile(loss='mse', optimizer=Adam(learning_rate=0.1))\n",
    "\n",
    "r = model.fit(X[:-N // 2], Y[:-N // 2], epochs=80, validation_data=(X[-N // 2:], Y[-N // 2:]), batch_size=16)"
   ],
   "metadata": {
    "collapsed": false
   },
   "id": "b683f055300bea27"
  },
  {
   "cell_type": "code",
   "execution_count": null,
   "outputs": [],
   "source": [
    "def draw_loss(history):\n",
    "    fig = go.Figure()\n",
    "    fig.add_trace(go.Scatter(x=history.epoch, y=history.history['loss'], name='loss'))\n",
    "    fig.add_trace(go.Scatter(x=history.epoch, y=history.history['val_loss'], name='val_loss'))\n",
    "    fig.show()\n",
    "\n",
    "\n",
    "draw_loss(r)"
   ],
   "metadata": {
    "collapsed": false
   },
   "id": "644fd8de73e1ba9e"
  },
  {
   "cell_type": "code",
   "execution_count": null,
   "outputs": [],
   "source": [
    "# One-step forecast\n",
    "outputs = model.predict(X)\n",
    "\n",
    "fig = px.line(Y)\n",
    "fig.add_scatter(y=outputs.ravel())\n",
    "fig.show()"
   ],
   "metadata": {
    "collapsed": false
   },
   "id": "d9376714a1464391"
  },
  {
   "cell_type": "code",
   "execution_count": null,
   "outputs": [],
   "source": [
    "# Multistep forecast\n",
    "predictions = []\n",
    "last_x = X[-N // 2]\n",
    "\n",
    "while len(predictions) < 750:\n",
    "    p = model.predict(last_x.reshape(-1, T, D), verbose=0)[0, 0]\n",
    "    predictions.append(p)\n",
    "    last_x = np.roll(last_x, -1)\n",
    "    last_x[-1] = p\n",
    "\n",
    "fig = px.line(Y[-N // 2:])\n",
    "fig.add_scatter(y=predictions)\n",
    "fig.show()"
   ],
   "metadata": {
    "collapsed": false
   },
   "id": "b5b6e5c853874de4"
  },
  {
   "cell_type": "code",
   "execution_count": null,
   "outputs": [],
   "source": [
    "# Find Stock Return\n",
    "df['prev_close'] = df['close'].shift(1)\n",
    "df['return'] = (df['close'] - df['prev_close']) / df['prev_close']\n",
    "px.histogram(df['return'])"
   ],
   "metadata": {
    "collapsed": false
   },
   "id": "6cb09e5fdadd515e"
  },
  {
   "cell_type": "code",
   "execution_count": null,
   "outputs": [],
   "source": [
    "# Try to predict Stock Return\n",
    "series = df['return'].values[1:].reshape(-1, 1)\n",
    "ss = StandardScaler()\n",
    "ss.fit(series[: - len(series) // 2])\n",
    "series = ss.transform(series).flatten()"
   ],
   "metadata": {
    "collapsed": false
   },
   "id": "ed140563aa2d7973"
  },
  {
   "cell_type": "code",
   "execution_count": null,
   "outputs": [],
   "source": [
    "T = 10\n",
    "D = 1\n",
    "X = []\n",
    "Y = []\n",
    "\n",
    "for i in range(len(series) - T):\n",
    "    x = series[i:i + T]\n",
    "    y = series[i + T]\n",
    "    X.append(x)\n",
    "    Y.append(y)\n",
    "\n",
    "X = np.array(X).reshape(-1, T, D)\n",
    "Y = np.array(Y)\n",
    "N = len(X)"
   ],
   "metadata": {
    "collapsed": false
   },
   "id": "9e6d2201b87d4aa4"
  },
  {
   "cell_type": "code",
   "execution_count": null,
   "outputs": [],
   "source": [
    "# Autoregressive RNN model\n",
    "model = Sequential()\n",
    "model.add(LSTM(units=5, input_shape=(T, D)))\n",
    "model.add(Dense(units=1))\n",
    "\n",
    "model.compile(loss='mse', optimizer=Adam(learning_rate=0.01))\n",
    "\n",
    "r = model.fit(X[:-N // 2], Y[:-N // 2], epochs=80, validation_data=(X[-N // 2:], Y[-N // 2:]), batch_size=16)"
   ],
   "metadata": {
    "collapsed": false
   },
   "id": "a75c8f8c9263543f"
  },
  {
   "cell_type": "code",
   "execution_count": null,
   "outputs": [],
   "source": [
    "# One-step forecast\n",
    "outputs = model.predict(X)\n",
    "\n",
    "fig = px.line(outputs.ravel())\n",
    "fig.add_scatter(y=Y, name='true')\n",
    "fig.show()"
   ],
   "metadata": {
    "collapsed": false
   },
   "id": "e5e0346516296120"
  },
  {
   "cell_type": "code",
   "execution_count": null,
   "outputs": [],
   "source": [
    "# Multistep forecast\n",
    "predictions = []\n",
    "last_x = X[-N // 2]\n",
    "\n",
    "while len(predictions) < 750:\n",
    "    p = model.predict(last_x.reshape(-1, T, D), verbose=0)[0, 0]\n",
    "    predictions.append(p)\n",
    "    last_x = np.roll(last_x, -1)\n",
    "    last_x[-1] = p\n",
    "\n",
    "fig = px.line(predictions)\n",
    "fig.add_scatter(y=Y[-N // 2:], name='true')\n",
    "fig.show()"
   ],
   "metadata": {
    "collapsed": false
   },
   "id": "acba8b87ac74d21"
  },
  {
   "cell_type": "code",
   "execution_count": null,
   "outputs": [],
   "source": [
    "# Now, we will change this regression problem into binary classification\n",
    "# Model will predict only income or loss\n",
    "data = df[['open', 'high', 'low', 'close', 'volume']].values\n",
    "labels = df[\"return\"].values\n",
    "labels"
   ],
   "metadata": {
    "collapsed": false
   },
   "id": "4cec2d2a6d6e5ad1"
  },
  {
   "cell_type": "code",
   "execution_count": null,
   "outputs": [],
   "source": [
    "T = 10\n",
    "D = data.shape[1]\n",
    "N = len(data) - T"
   ],
   "metadata": {
    "collapsed": false
   },
   "id": "a25e30173d0e5083"
  },
  {
   "cell_type": "code",
   "execution_count": null,
   "outputs": [],
   "source": [
    "train_N = len(data) * 2 // 3\n",
    "ss = StandardScaler()\n",
    "ss.fit(data[:train_N + T])\n",
    "data = ss.transform(data)"
   ],
   "metadata": {
    "collapsed": false
   },
   "id": "4a9aa677b9efb422"
  },
  {
   "cell_type": "code",
   "execution_count": null,
   "outputs": [],
   "source": [
    "X_train = np.zeros((train_N, T, D))\n",
    "Y_train = np.zeros(train_N)\n",
    "\n",
    "for t in range(train_N):\n",
    "    X_train[t, :, :] = data[t: t + T]\n",
    "    Y_train[t] = (labels[t + T] > 0)"
   ],
   "metadata": {
    "collapsed": false
   },
   "id": "8f72500ba89398f3"
  },
  {
   "cell_type": "code",
   "execution_count": null,
   "outputs": [],
   "source": [
    "X_test = np.zeros((N - train_N, T, D))\n",
    "Y_test = np.zeros(N - train_N)\n",
    "\n",
    "for u in range(N - train_N):\n",
    "    # This is last 1/3 of data\n",
    "    t = train_N + u\n",
    "    X_test[u, :, :] = data[t: t + T]\n",
    "    Y_test[u] = (labels[t + T] > 0)"
   ],
   "metadata": {
    "collapsed": false
   },
   "id": "9cfbb61b04095ae"
  },
  {
   "cell_type": "code",
   "execution_count": null,
   "outputs": [],
   "source": [
    "model = Sequential()\n",
    "model.add(LSTM(units=50, input_shape=(T, D)))\n",
    "model.add(Dense(units=1, activation='sigmoid'))\n",
    "\n",
    "model.compile(loss='binary_crossentropy', optimizer=Adam(learning_rate=0.001), metrics=['accuracy'])"
   ],
   "metadata": {
    "collapsed": false
   },
   "id": "d6f6fae6778d28b8"
  },
  {
   "cell_type": "code",
   "execution_count": null,
   "outputs": [],
   "source": [
    "r = model.fit(X_train, Y_train, epochs=300, batch_size=32, validation_data=(X_test, Y_test))"
   ],
   "metadata": {
    "collapsed": false
   },
   "id": "6bb8afc2a0f85033"
  },
  {
   "cell_type": "code",
   "execution_count": null,
   "outputs": [],
   "source": [
    "def draw_accuracy(history):\n",
    "    fig = go.Figure()\n",
    "    fig.add_trace(go.Scatter(x=history.epoch, y=history.history['accuracy'], name='accuracy'))\n",
    "    fig.add_trace(go.Scatter(x=history.epoch, y=history.history['val_accuracy'], name='val_accuracy'))\n",
    "    fig.show()\n",
    "\n",
    "\n",
    "draw_loss(r)\n",
    "draw_accuracy(r)"
   ],
   "metadata": {
    "collapsed": false
   },
   "id": "ab8a1282cc7b75dd"
  }
 ],
 "metadata": {
  "kernelspec": {
   "display_name": "Python 3",
   "language": "python",
   "name": "python3"
  },
  "language_info": {
   "codemirror_mode": {
    "name": "ipython",
    "version": 2
   },
   "file_extension": ".py",
   "mimetype": "text/x-python",
   "name": "python",
   "nbconvert_exporter": "python",
   "pygments_lexer": "ipython2",
   "version": "2.7.6"
  }
 },
 "nbformat": 4,
 "nbformat_minor": 5
}
