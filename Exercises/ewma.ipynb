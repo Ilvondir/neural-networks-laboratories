{
 "cells": [
  {
   "cell_type": "markdown",
   "source": [
    "# EWMA (Exponentially Weighted Moving Average)"
   ],
   "metadata": {
    "collapsed": false
   },
   "id": "34c3f6374bb1f6d7"
  },
  {
   "cell_type": "code",
   "execution_count": null,
   "outputs": [],
   "source": [
    "import pandas as pd\n",
    "import plotly.graph_objects as go"
   ],
   "metadata": {
    "collapsed": false
   },
   "id": "a9b63da93e11bd08"
  },
  {
   "cell_type": "code",
   "execution_count": null,
   "id": "initial_id",
   "metadata": {
    "collapsed": true
   },
   "outputs": [],
   "source": [
    "data = pd.read_csv('TSLA.csv')\n",
    "data = pd.DataFrame(data[[\"Date\", \"Adj Close\"]])\n",
    "data.columns = [\"date\", \"price\"]\n",
    "data = data[pd.to_datetime(data[\"date\"]).dt.year >= 2020]\n",
    "data"
   ]
  },
  {
   "cell_type": "code",
   "execution_count": null,
   "outputs": [],
   "source": [
    "# EWMA\n",
    "X = data[\"price\"]\n",
    "Y = []\n",
    "alpha = 0.25\n",
    "\n",
    "for p in X:\n",
    "    y_len = len(Y)\n",
    "    if y_len == 0:\n",
    "        Y.append(p)\n",
    "    else:\n",
    "        Y.append(alpha * p + (1 - alpha) * Y[-1])"
   ],
   "metadata": {
    "collapsed": false
   },
   "id": "bb5652d58ed67641"
  },
  {
   "cell_type": "code",
   "execution_count": null,
   "outputs": [],
   "source": [
    "# s = data[\"price\"].ewm(alpha=0.3, adjust=False).mean()\n",
    "# s"
   ],
   "metadata": {
    "collapsed": false
   },
   "id": "583bf478cf5e7995"
  },
  {
   "cell_type": "code",
   "execution_count": null,
   "outputs": [],
   "source": [
    "fig = go.Figure()\n",
    "fig.add_trace(go.Scatter(x=data[\"date\"], y=data[\"price\"], name=\"Original price\"))\n",
    "fig.add_trace(go.Scatter(x=data[\"date\"], y=Y, name=\"EWMA (a=0.25)\"))\n",
    "# fig.add_trace(go.Scatter(x=data[\"date\"], y=ser, name=\"Pandas ewm (a=0.3)\"))\n",
    "fig.show()"
   ],
   "metadata": {
    "collapsed": false
   },
   "id": "7311702ab47819ac"
  }
 ],
 "metadata": {
  "kernelspec": {
   "display_name": "Python 3",
   "language": "python",
   "name": "python3"
  },
  "language_info": {
   "codemirror_mode": {
    "name": "ipython",
    "version": 2
   },
   "file_extension": ".py",
   "mimetype": "text/x-python",
   "name": "python",
   "nbconvert_exporter": "python",
   "pygments_lexer": "ipython2",
   "version": "2.7.6"
  }
 },
 "nbformat": 4,
 "nbformat_minor": 5
}
