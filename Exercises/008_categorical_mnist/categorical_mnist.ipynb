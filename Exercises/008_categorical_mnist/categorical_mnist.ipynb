{
 "cells": [
  {
   "cell_type": "code",
   "execution_count": null,
   "id": "initial_id",
   "metadata": {
    "collapsed": true
   },
   "outputs": [],
   "source": [
    "import numpy as np\n",
    "import pandas as pd\n",
    "from keras.src.callbacks import ModelCheckpoint\n",
    "from keras.src.datasets import mnist\n",
    "import plotly.express as px\n",
    "from keras.src.layers import Dense, Flatten\n",
    "from keras.src.models.cloning import Sequential\n",
    "from keras.src.utils import to_categorical\n",
    "import plotly.graph_objects as go\n",
    "from sklearn.metrics import confusion_matrix, accuracy_score"
   ]
  },
  {
   "cell_type": "code",
   "execution_count": null,
   "outputs": [],
   "source": [
    "(data, labels), (test_data, test_labels) = mnist.load_data()\n",
    "\n",
    "print(f\"Data shape: {data.shape}\")\n",
    "print(f\"Test data shape: {test_data.shape}\")"
   ],
   "metadata": {
    "collapsed": false
   },
   "id": "ce5f433e9f35fab"
  },
  {
   "cell_type": "code",
   "execution_count": null,
   "outputs": [],
   "source": [
    "idx = 5553\n",
    "\n",
    "print(f\"Number: {labels[idx]}\")\n",
    "px.imshow(data[idx], color_continuous_scale='gray_r')"
   ],
   "metadata": {
    "collapsed": false
   },
   "id": "41ee09ed9f7257e4"
  },
  {
   "cell_type": "code",
   "execution_count": null,
   "outputs": [],
   "source": [
    "model = Sequential()\n",
    "model.add(Flatten(input_shape=(28, 28)))\n",
    "model.add(Dense(units=32))\n",
    "model.add(Dense(units=16))\n",
    "model.add(Dense(units=10, activation=\"softmax\"))\n",
    "\n",
    "model.summary()"
   ],
   "metadata": {
    "collapsed": false
   },
   "id": "ae66b4820dd14aee"
  },
  {
   "cell_type": "code",
   "execution_count": null,
   "outputs": [],
   "source": [
    "mc = ModelCheckpoint(\"best_model_mnist.keras\", monitor=\"val_accuracy\", save_best_only=True, mode=\"max\", verbose=1)\n",
    "\n",
    "model.compile(optimizer=\"adam\",\n",
    "              loss=\"categorical_crossentropy\",\n",
    "              metrics=[\"accuracy\"])\n",
    "\n",
    "history = model.fit(data, to_categorical(labels), epochs=10, batch_size=32, validation_split=0.05, callbacks=[mc])\n",
    "\n",
    "model.save(\"model_after_training.keras\")"
   ],
   "metadata": {
    "collapsed": false
   },
   "id": "2c2aa7ad32049314"
  },
  {
   "cell_type": "code",
   "execution_count": null,
   "outputs": [],
   "source": [
    "def draw_history(history):\n",
    "    fig = go.Figure()\n",
    "    fig.add_trace(go.Scatter(x=history.epoch, y=history.history[\"accuracy\"], name=\"accuracy\"))\n",
    "    fig.add_trace(go.Scatter(x=history.epoch, y=history.history[\"val_accuracy\"], name=\"val_accuracy\"))\n",
    "    fig.show()\n",
    "\n",
    "    fig = go.Figure()\n",
    "    fig.add_trace(go.Scatter(x=history.epoch, y=history.history[\"loss\"], name=\"loss\"))\n",
    "    fig.add_trace(go.Scatter(x=history.epoch, y=history.history[\"val_loss\"], name=\"val_loss\"))\n",
    "    fig.show()\n",
    "\n",
    "\n",
    "draw_history(history)"
   ],
   "metadata": {
    "collapsed": false
   },
   "id": "78552a8490b01633"
  },
  {
   "cell_type": "code",
   "execution_count": null,
   "outputs": [],
   "source": [
    "# model.load_weights(\"best_model_mnist.keras\")\n",
    "\n",
    "preds = model.predict(test_data)\n",
    "preds = np.argmax(preds, axis=1)\n",
    "\n",
    "df = pd.DataFrame({\n",
    "    \"true\": test_labels,\n",
    "    \"preds\": preds\n",
    "})\n",
    "\n",
    "df"
   ],
   "metadata": {
    "collapsed": false
   },
   "id": "b630f67bbcc7cf76"
  },
  {
   "cell_type": "code",
   "execution_count": null,
   "outputs": [],
   "source": [
    "print(f\"Accuracy: {accuracy_score(df['true'], df['preds']) * 100}%\")\n",
    "\n",
    "cm = confusion_matrix(df[\"true\"], df[\"preds\"])\n",
    "px.imshow(cm, text_auto=True)"
   ],
   "metadata": {
    "collapsed": false
   },
   "id": "1abc3b9ecc0a30a1"
  }
 ],
 "metadata": {
  "kernelspec": {
   "display_name": "Python 3",
   "language": "python",
   "name": "python3"
  },
  "language_info": {
   "codemirror_mode": {
    "name": "ipython",
    "version": 2
   },
   "file_extension": ".py",
   "mimetype": "text/x-python",
   "name": "python",
   "nbconvert_exporter": "python",
   "pygments_lexer": "ipython2",
   "version": "2.7.6"
  }
 },
 "nbformat": 4,
 "nbformat_minor": 5
}
