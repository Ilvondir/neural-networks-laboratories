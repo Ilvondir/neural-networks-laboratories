{
 "cells": [
  {
   "cell_type": "code",
   "execution_count": 8,
   "id": "initial_id",
   "metadata": {
    "collapsed": true,
    "ExecuteTime": {
     "end_time": "2024-01-12T14:53:09.427258Z",
     "start_time": "2024-01-12T14:53:08.961507Z"
    }
   },
   "outputs": [
    {
     "name": "stdout",
     "output_type": "stream",
     "text": [
      "0.0\n",
      "5.0\n",
      "0.0\n",
      "4.0\n",
      "0.0\n"
     ]
    },
    {
     "data": {
      "application/vnd.plotly.v1+json": {
       "data": [
        {
         "hovertemplate": "input=%{x}<br>output=%{y}<extra></extra>",
         "legendgroup": "",
         "line": {
          "color": "#636efa",
          "dash": "solid"
         },
         "marker": {
          "symbol": "circle"
         },
         "mode": "lines",
         "name": "",
         "orientation": "v",
         "showlegend": false,
         "x": [
          -1.8947396546034778,
          -1.885232043889502,
          -1.4211793644014485,
          -1.3728092250464445,
          -1.2592101605106356,
          -1.1537268623825014,
          -1.0680203120034215,
          -1.007523351320308,
          -0.7495403694420028,
          -0.7016125369769893,
          -0.6644822906653896,
          -0.6572267332717842,
          -0.6455561458717727,
          -0.640964695013162,
          -0.5845939750120103,
          -0.5426695683543477,
          -0.4465901931372312,
          -0.4339888889651497,
          -0.3945777793219698,
          -0.3606913873295161,
          -0.3238046669901017,
          -0.2657462643583666,
          -0.21588953921585952,
          -0.2001259784897056,
          -0.14475115851420103,
          -0.1237082355329438,
          -0.09367495442339435,
          -0.05175112520508293,
          -0.008973194656045826,
          0.12365086204239942,
          0.1665454725484348,
          0.22498373234224428,
          0.23269553561710846,
          0.315872007248241,
          0.47337046793377924,
          0.5328376121478773,
          0.5999584356716634,
          0.6755140227672307,
          0.9564182248418096,
          1.0024731859802407,
          1.0315867850537743,
          1.1792180376761319,
          1.3030013979485437,
          1.3687422026798164,
          1.464278094703551,
          1.532019977375738,
          1.6965071657915705,
          1.716173142968285,
          2.4076208635628547,
          2.4975308054407868
         ],
         "xaxis": "x",
         "y": [
          0.0,
          0.0,
          0.0,
          0.0,
          0.0,
          0.0,
          0.0,
          0.0,
          0.0,
          0.0,
          0.0,
          0.0,
          0.0,
          0.0,
          0.0,
          0.0,
          0.0,
          0.0,
          0.0,
          0.0,
          0.0,
          0.0,
          0.0,
          0.0,
          0.0,
          0.0,
          0.0,
          0.0,
          0.0,
          0.12365086204239942,
          0.1665454725484348,
          0.22498373234224428,
          0.23269553561710846,
          0.315872007248241,
          0.47337046793377924,
          0.5328376121478773,
          0.5999584356716634,
          0.6755140227672307,
          0.9564182248418096,
          1.0024731859802407,
          1.0315867850537743,
          1.1792180376761319,
          1.3030013979485437,
          1.3687422026798164,
          1.464278094703551,
          1.532019977375738,
          1.6965071657915705,
          1.716173142968285,
          2.4076208635628547,
          2.4975308054407868
         ],
         "yaxis": "y",
         "type": "scatter"
        }
       ],
       "layout": {
        "template": {
         "data": {
          "histogram2dcontour": [
           {
            "type": "histogram2dcontour",
            "colorbar": {
             "outlinewidth": 0,
             "ticks": ""
            },
            "colorscale": [
             [
              0.0,
              "#0d0887"
             ],
             [
              0.1111111111111111,
              "#46039f"
             ],
             [
              0.2222222222222222,
              "#7201a8"
             ],
             [
              0.3333333333333333,
              "#9c179e"
             ],
             [
              0.4444444444444444,
              "#bd3786"
             ],
             [
              0.5555555555555556,
              "#d8576b"
             ],
             [
              0.6666666666666666,
              "#ed7953"
             ],
             [
              0.7777777777777778,
              "#fb9f3a"
             ],
             [
              0.8888888888888888,
              "#fdca26"
             ],
             [
              1.0,
              "#f0f921"
             ]
            ]
           }
          ],
          "choropleth": [
           {
            "type": "choropleth",
            "colorbar": {
             "outlinewidth": 0,
             "ticks": ""
            }
           }
          ],
          "histogram2d": [
           {
            "type": "histogram2d",
            "colorbar": {
             "outlinewidth": 0,
             "ticks": ""
            },
            "colorscale": [
             [
              0.0,
              "#0d0887"
             ],
             [
              0.1111111111111111,
              "#46039f"
             ],
             [
              0.2222222222222222,
              "#7201a8"
             ],
             [
              0.3333333333333333,
              "#9c179e"
             ],
             [
              0.4444444444444444,
              "#bd3786"
             ],
             [
              0.5555555555555556,
              "#d8576b"
             ],
             [
              0.6666666666666666,
              "#ed7953"
             ],
             [
              0.7777777777777778,
              "#fb9f3a"
             ],
             [
              0.8888888888888888,
              "#fdca26"
             ],
             [
              1.0,
              "#f0f921"
             ]
            ]
           }
          ],
          "heatmap": [
           {
            "type": "heatmap",
            "colorbar": {
             "outlinewidth": 0,
             "ticks": ""
            },
            "colorscale": [
             [
              0.0,
              "#0d0887"
             ],
             [
              0.1111111111111111,
              "#46039f"
             ],
             [
              0.2222222222222222,
              "#7201a8"
             ],
             [
              0.3333333333333333,
              "#9c179e"
             ],
             [
              0.4444444444444444,
              "#bd3786"
             ],
             [
              0.5555555555555556,
              "#d8576b"
             ],
             [
              0.6666666666666666,
              "#ed7953"
             ],
             [
              0.7777777777777778,
              "#fb9f3a"
             ],
             [
              0.8888888888888888,
              "#fdca26"
             ],
             [
              1.0,
              "#f0f921"
             ]
            ]
           }
          ],
          "heatmapgl": [
           {
            "type": "heatmapgl",
            "colorbar": {
             "outlinewidth": 0,
             "ticks": ""
            },
            "colorscale": [
             [
              0.0,
              "#0d0887"
             ],
             [
              0.1111111111111111,
              "#46039f"
             ],
             [
              0.2222222222222222,
              "#7201a8"
             ],
             [
              0.3333333333333333,
              "#9c179e"
             ],
             [
              0.4444444444444444,
              "#bd3786"
             ],
             [
              0.5555555555555556,
              "#d8576b"
             ],
             [
              0.6666666666666666,
              "#ed7953"
             ],
             [
              0.7777777777777778,
              "#fb9f3a"
             ],
             [
              0.8888888888888888,
              "#fdca26"
             ],
             [
              1.0,
              "#f0f921"
             ]
            ]
           }
          ],
          "contourcarpet": [
           {
            "type": "contourcarpet",
            "colorbar": {
             "outlinewidth": 0,
             "ticks": ""
            }
           }
          ],
          "contour": [
           {
            "type": "contour",
            "colorbar": {
             "outlinewidth": 0,
             "ticks": ""
            },
            "colorscale": [
             [
              0.0,
              "#0d0887"
             ],
             [
              0.1111111111111111,
              "#46039f"
             ],
             [
              0.2222222222222222,
              "#7201a8"
             ],
             [
              0.3333333333333333,
              "#9c179e"
             ],
             [
              0.4444444444444444,
              "#bd3786"
             ],
             [
              0.5555555555555556,
              "#d8576b"
             ],
             [
              0.6666666666666666,
              "#ed7953"
             ],
             [
              0.7777777777777778,
              "#fb9f3a"
             ],
             [
              0.8888888888888888,
              "#fdca26"
             ],
             [
              1.0,
              "#f0f921"
             ]
            ]
           }
          ],
          "surface": [
           {
            "type": "surface",
            "colorbar": {
             "outlinewidth": 0,
             "ticks": ""
            },
            "colorscale": [
             [
              0.0,
              "#0d0887"
             ],
             [
              0.1111111111111111,
              "#46039f"
             ],
             [
              0.2222222222222222,
              "#7201a8"
             ],
             [
              0.3333333333333333,
              "#9c179e"
             ],
             [
              0.4444444444444444,
              "#bd3786"
             ],
             [
              0.5555555555555556,
              "#d8576b"
             ],
             [
              0.6666666666666666,
              "#ed7953"
             ],
             [
              0.7777777777777778,
              "#fb9f3a"
             ],
             [
              0.8888888888888888,
              "#fdca26"
             ],
             [
              1.0,
              "#f0f921"
             ]
            ]
           }
          ],
          "mesh3d": [
           {
            "type": "mesh3d",
            "colorbar": {
             "outlinewidth": 0,
             "ticks": ""
            }
           }
          ],
          "scatter": [
           {
            "fillpattern": {
             "fillmode": "overlay",
             "size": 10,
             "solidity": 0.2
            },
            "type": "scatter"
           }
          ],
          "parcoords": [
           {
            "type": "parcoords",
            "line": {
             "colorbar": {
              "outlinewidth": 0,
              "ticks": ""
             }
            }
           }
          ],
          "scatterpolargl": [
           {
            "type": "scatterpolargl",
            "marker": {
             "colorbar": {
              "outlinewidth": 0,
              "ticks": ""
             }
            }
           }
          ],
          "bar": [
           {
            "error_x": {
             "color": "#2a3f5f"
            },
            "error_y": {
             "color": "#2a3f5f"
            },
            "marker": {
             "line": {
              "color": "#E5ECF6",
              "width": 0.5
             },
             "pattern": {
              "fillmode": "overlay",
              "size": 10,
              "solidity": 0.2
             }
            },
            "type": "bar"
           }
          ],
          "scattergeo": [
           {
            "type": "scattergeo",
            "marker": {
             "colorbar": {
              "outlinewidth": 0,
              "ticks": ""
             }
            }
           }
          ],
          "scatterpolar": [
           {
            "type": "scatterpolar",
            "marker": {
             "colorbar": {
              "outlinewidth": 0,
              "ticks": ""
             }
            }
           }
          ],
          "histogram": [
           {
            "marker": {
             "pattern": {
              "fillmode": "overlay",
              "size": 10,
              "solidity": 0.2
             }
            },
            "type": "histogram"
           }
          ],
          "scattergl": [
           {
            "type": "scattergl",
            "marker": {
             "colorbar": {
              "outlinewidth": 0,
              "ticks": ""
             }
            }
           }
          ],
          "scatter3d": [
           {
            "type": "scatter3d",
            "line": {
             "colorbar": {
              "outlinewidth": 0,
              "ticks": ""
             }
            },
            "marker": {
             "colorbar": {
              "outlinewidth": 0,
              "ticks": ""
             }
            }
           }
          ],
          "scattermapbox": [
           {
            "type": "scattermapbox",
            "marker": {
             "colorbar": {
              "outlinewidth": 0,
              "ticks": ""
             }
            }
           }
          ],
          "scatterternary": [
           {
            "type": "scatterternary",
            "marker": {
             "colorbar": {
              "outlinewidth": 0,
              "ticks": ""
             }
            }
           }
          ],
          "scattercarpet": [
           {
            "type": "scattercarpet",
            "marker": {
             "colorbar": {
              "outlinewidth": 0,
              "ticks": ""
             }
            }
           }
          ],
          "carpet": [
           {
            "aaxis": {
             "endlinecolor": "#2a3f5f",
             "gridcolor": "white",
             "linecolor": "white",
             "minorgridcolor": "white",
             "startlinecolor": "#2a3f5f"
            },
            "baxis": {
             "endlinecolor": "#2a3f5f",
             "gridcolor": "white",
             "linecolor": "white",
             "minorgridcolor": "white",
             "startlinecolor": "#2a3f5f"
            },
            "type": "carpet"
           }
          ],
          "table": [
           {
            "cells": {
             "fill": {
              "color": "#EBF0F8"
             },
             "line": {
              "color": "white"
             }
            },
            "header": {
             "fill": {
              "color": "#C8D4E3"
             },
             "line": {
              "color": "white"
             }
            },
            "type": "table"
           }
          ],
          "barpolar": [
           {
            "marker": {
             "line": {
              "color": "#E5ECF6",
              "width": 0.5
             },
             "pattern": {
              "fillmode": "overlay",
              "size": 10,
              "solidity": 0.2
             }
            },
            "type": "barpolar"
           }
          ],
          "pie": [
           {
            "automargin": true,
            "type": "pie"
           }
          ]
         },
         "layout": {
          "autotypenumbers": "strict",
          "colorway": [
           "#636efa",
           "#EF553B",
           "#00cc96",
           "#ab63fa",
           "#FFA15A",
           "#19d3f3",
           "#FF6692",
           "#B6E880",
           "#FF97FF",
           "#FECB52"
          ],
          "font": {
           "color": "#2a3f5f"
          },
          "hovermode": "closest",
          "hoverlabel": {
           "align": "left"
          },
          "paper_bgcolor": "white",
          "plot_bgcolor": "#E5ECF6",
          "polar": {
           "bgcolor": "#E5ECF6",
           "angularaxis": {
            "gridcolor": "white",
            "linecolor": "white",
            "ticks": ""
           },
           "radialaxis": {
            "gridcolor": "white",
            "linecolor": "white",
            "ticks": ""
           }
          },
          "ternary": {
           "bgcolor": "#E5ECF6",
           "aaxis": {
            "gridcolor": "white",
            "linecolor": "white",
            "ticks": ""
           },
           "baxis": {
            "gridcolor": "white",
            "linecolor": "white",
            "ticks": ""
           },
           "caxis": {
            "gridcolor": "white",
            "linecolor": "white",
            "ticks": ""
           }
          },
          "coloraxis": {
           "colorbar": {
            "outlinewidth": 0,
            "ticks": ""
           }
          },
          "colorscale": {
           "sequential": [
            [
             0.0,
             "#0d0887"
            ],
            [
             0.1111111111111111,
             "#46039f"
            ],
            [
             0.2222222222222222,
             "#7201a8"
            ],
            [
             0.3333333333333333,
             "#9c179e"
            ],
            [
             0.4444444444444444,
             "#bd3786"
            ],
            [
             0.5555555555555556,
             "#d8576b"
            ],
            [
             0.6666666666666666,
             "#ed7953"
            ],
            [
             0.7777777777777778,
             "#fb9f3a"
            ],
            [
             0.8888888888888888,
             "#fdca26"
            ],
            [
             1.0,
             "#f0f921"
            ]
           ],
           "sequentialminus": [
            [
             0.0,
             "#0d0887"
            ],
            [
             0.1111111111111111,
             "#46039f"
            ],
            [
             0.2222222222222222,
             "#7201a8"
            ],
            [
             0.3333333333333333,
             "#9c179e"
            ],
            [
             0.4444444444444444,
             "#bd3786"
            ],
            [
             0.5555555555555556,
             "#d8576b"
            ],
            [
             0.6666666666666666,
             "#ed7953"
            ],
            [
             0.7777777777777778,
             "#fb9f3a"
            ],
            [
             0.8888888888888888,
             "#fdca26"
            ],
            [
             1.0,
             "#f0f921"
            ]
           ],
           "diverging": [
            [
             0,
             "#8e0152"
            ],
            [
             0.1,
             "#c51b7d"
            ],
            [
             0.2,
             "#de77ae"
            ],
            [
             0.3,
             "#f1b6da"
            ],
            [
             0.4,
             "#fde0ef"
            ],
            [
             0.5,
             "#f7f7f7"
            ],
            [
             0.6,
             "#e6f5d0"
            ],
            [
             0.7,
             "#b8e186"
            ],
            [
             0.8,
             "#7fbc41"
            ],
            [
             0.9,
             "#4d9221"
            ],
            [
             1,
             "#276419"
            ]
           ]
          },
          "xaxis": {
           "gridcolor": "white",
           "linecolor": "white",
           "ticks": "",
           "title": {
            "standoff": 15
           },
           "zerolinecolor": "white",
           "automargin": true,
           "zerolinewidth": 2
          },
          "yaxis": {
           "gridcolor": "white",
           "linecolor": "white",
           "ticks": "",
           "title": {
            "standoff": 15
           },
           "zerolinecolor": "white",
           "automargin": true,
           "zerolinewidth": 2
          },
          "scene": {
           "xaxis": {
            "backgroundcolor": "#E5ECF6",
            "gridcolor": "white",
            "linecolor": "white",
            "showbackground": true,
            "ticks": "",
            "zerolinecolor": "white",
            "gridwidth": 2
           },
           "yaxis": {
            "backgroundcolor": "#E5ECF6",
            "gridcolor": "white",
            "linecolor": "white",
            "showbackground": true,
            "ticks": "",
            "zerolinecolor": "white",
            "gridwidth": 2
           },
           "zaxis": {
            "backgroundcolor": "#E5ECF6",
            "gridcolor": "white",
            "linecolor": "white",
            "showbackground": true,
            "ticks": "",
            "zerolinecolor": "white",
            "gridwidth": 2
           }
          },
          "shapedefaults": {
           "line": {
            "color": "#2a3f5f"
           }
          },
          "annotationdefaults": {
           "arrowcolor": "#2a3f5f",
           "arrowhead": 0,
           "arrowwidth": 1
          },
          "geo": {
           "bgcolor": "white",
           "landcolor": "#E5ECF6",
           "subunitcolor": "white",
           "showland": true,
           "showlakes": true,
           "lakecolor": "white"
          },
          "title": {
           "x": 0.05
          },
          "mapbox": {
           "style": "light"
          }
         }
        },
        "xaxis": {
         "anchor": "y",
         "domain": [
          0.0,
          1.0
         ],
         "title": {
          "text": "input"
         }
        },
        "yaxis": {
         "anchor": "x",
         "domain": [
          0.0,
          1.0
         ],
         "title": {
          "text": "output"
         }
        },
        "legend": {
         "tracegroupgap": 0
        },
        "title": {
         "text": "ReLU function"
        },
        "height": 400,
        "width": 700
       },
       "config": {
        "plotlyServerURL": "https://plot.ly"
       }
      },
      "text/html": "<div>                            <div id=\"a7824e9a-371f-4668-805c-fb3cd4d15a4b\" class=\"plotly-graph-div\" style=\"height:400px; width:700px;\"></div>            <script type=\"text/javascript\">                require([\"plotly\"], function(Plotly) {                    window.PLOTLYENV=window.PLOTLYENV || {};                                    if (document.getElementById(\"a7824e9a-371f-4668-805c-fb3cd4d15a4b\")) {                    Plotly.newPlot(                        \"a7824e9a-371f-4668-805c-fb3cd4d15a4b\",                        [{\"hovertemplate\":\"input=%{x}\\u003cbr\\u003eoutput=%{y}\\u003cextra\\u003e\\u003c\\u002fextra\\u003e\",\"legendgroup\":\"\",\"line\":{\"color\":\"#636efa\",\"dash\":\"solid\"},\"marker\":{\"symbol\":\"circle\"},\"mode\":\"lines\",\"name\":\"\",\"orientation\":\"v\",\"showlegend\":false,\"x\":[-1.8947396546034778,-1.885232043889502,-1.4211793644014485,-1.3728092250464445,-1.2592101605106356,-1.1537268623825014,-1.0680203120034215,-1.007523351320308,-0.7495403694420028,-0.7016125369769893,-0.6644822906653896,-0.6572267332717842,-0.6455561458717727,-0.640964695013162,-0.5845939750120103,-0.5426695683543477,-0.4465901931372312,-0.4339888889651497,-0.3945777793219698,-0.3606913873295161,-0.3238046669901017,-0.2657462643583666,-0.21588953921585952,-0.2001259784897056,-0.14475115851420103,-0.1237082355329438,-0.09367495442339435,-0.05175112520508293,-0.008973194656045826,0.12365086204239942,0.1665454725484348,0.22498373234224428,0.23269553561710846,0.315872007248241,0.47337046793377924,0.5328376121478773,0.5999584356716634,0.6755140227672307,0.9564182248418096,1.0024731859802407,1.0315867850537743,1.1792180376761319,1.3030013979485437,1.3687422026798164,1.464278094703551,1.532019977375738,1.6965071657915705,1.716173142968285,2.4076208635628547,2.4975308054407868],\"xaxis\":\"x\",\"y\":[0.0,0.0,0.0,0.0,0.0,0.0,0.0,0.0,0.0,0.0,0.0,0.0,0.0,0.0,0.0,0.0,0.0,0.0,0.0,0.0,0.0,0.0,0.0,0.0,0.0,0.0,0.0,0.0,0.0,0.12365086204239942,0.1665454725484348,0.22498373234224428,0.23269553561710846,0.315872007248241,0.47337046793377924,0.5328376121478773,0.5999584356716634,0.6755140227672307,0.9564182248418096,1.0024731859802407,1.0315867850537743,1.1792180376761319,1.3030013979485437,1.3687422026798164,1.464278094703551,1.532019977375738,1.6965071657915705,1.716173142968285,2.4076208635628547,2.4975308054407868],\"yaxis\":\"y\",\"type\":\"scatter\"}],                        {\"template\":{\"data\":{\"histogram2dcontour\":[{\"type\":\"histogram2dcontour\",\"colorbar\":{\"outlinewidth\":0,\"ticks\":\"\"},\"colorscale\":[[0.0,\"#0d0887\"],[0.1111111111111111,\"#46039f\"],[0.2222222222222222,\"#7201a8\"],[0.3333333333333333,\"#9c179e\"],[0.4444444444444444,\"#bd3786\"],[0.5555555555555556,\"#d8576b\"],[0.6666666666666666,\"#ed7953\"],[0.7777777777777778,\"#fb9f3a\"],[0.8888888888888888,\"#fdca26\"],[1.0,\"#f0f921\"]]}],\"choropleth\":[{\"type\":\"choropleth\",\"colorbar\":{\"outlinewidth\":0,\"ticks\":\"\"}}],\"histogram2d\":[{\"type\":\"histogram2d\",\"colorbar\":{\"outlinewidth\":0,\"ticks\":\"\"},\"colorscale\":[[0.0,\"#0d0887\"],[0.1111111111111111,\"#46039f\"],[0.2222222222222222,\"#7201a8\"],[0.3333333333333333,\"#9c179e\"],[0.4444444444444444,\"#bd3786\"],[0.5555555555555556,\"#d8576b\"],[0.6666666666666666,\"#ed7953\"],[0.7777777777777778,\"#fb9f3a\"],[0.8888888888888888,\"#fdca26\"],[1.0,\"#f0f921\"]]}],\"heatmap\":[{\"type\":\"heatmap\",\"colorbar\":{\"outlinewidth\":0,\"ticks\":\"\"},\"colorscale\":[[0.0,\"#0d0887\"],[0.1111111111111111,\"#46039f\"],[0.2222222222222222,\"#7201a8\"],[0.3333333333333333,\"#9c179e\"],[0.4444444444444444,\"#bd3786\"],[0.5555555555555556,\"#d8576b\"],[0.6666666666666666,\"#ed7953\"],[0.7777777777777778,\"#fb9f3a\"],[0.8888888888888888,\"#fdca26\"],[1.0,\"#f0f921\"]]}],\"heatmapgl\":[{\"type\":\"heatmapgl\",\"colorbar\":{\"outlinewidth\":0,\"ticks\":\"\"},\"colorscale\":[[0.0,\"#0d0887\"],[0.1111111111111111,\"#46039f\"],[0.2222222222222222,\"#7201a8\"],[0.3333333333333333,\"#9c179e\"],[0.4444444444444444,\"#bd3786\"],[0.5555555555555556,\"#d8576b\"],[0.6666666666666666,\"#ed7953\"],[0.7777777777777778,\"#fb9f3a\"],[0.8888888888888888,\"#fdca26\"],[1.0,\"#f0f921\"]]}],\"contourcarpet\":[{\"type\":\"contourcarpet\",\"colorbar\":{\"outlinewidth\":0,\"ticks\":\"\"}}],\"contour\":[{\"type\":\"contour\",\"colorbar\":{\"outlinewidth\":0,\"ticks\":\"\"},\"colorscale\":[[0.0,\"#0d0887\"],[0.1111111111111111,\"#46039f\"],[0.2222222222222222,\"#7201a8\"],[0.3333333333333333,\"#9c179e\"],[0.4444444444444444,\"#bd3786\"],[0.5555555555555556,\"#d8576b\"],[0.6666666666666666,\"#ed7953\"],[0.7777777777777778,\"#fb9f3a\"],[0.8888888888888888,\"#fdca26\"],[1.0,\"#f0f921\"]]}],\"surface\":[{\"type\":\"surface\",\"colorbar\":{\"outlinewidth\":0,\"ticks\":\"\"},\"colorscale\":[[0.0,\"#0d0887\"],[0.1111111111111111,\"#46039f\"],[0.2222222222222222,\"#7201a8\"],[0.3333333333333333,\"#9c179e\"],[0.4444444444444444,\"#bd3786\"],[0.5555555555555556,\"#d8576b\"],[0.6666666666666666,\"#ed7953\"],[0.7777777777777778,\"#fb9f3a\"],[0.8888888888888888,\"#fdca26\"],[1.0,\"#f0f921\"]]}],\"mesh3d\":[{\"type\":\"mesh3d\",\"colorbar\":{\"outlinewidth\":0,\"ticks\":\"\"}}],\"scatter\":[{\"fillpattern\":{\"fillmode\":\"overlay\",\"size\":10,\"solidity\":0.2},\"type\":\"scatter\"}],\"parcoords\":[{\"type\":\"parcoords\",\"line\":{\"colorbar\":{\"outlinewidth\":0,\"ticks\":\"\"}}}],\"scatterpolargl\":[{\"type\":\"scatterpolargl\",\"marker\":{\"colorbar\":{\"outlinewidth\":0,\"ticks\":\"\"}}}],\"bar\":[{\"error_x\":{\"color\":\"#2a3f5f\"},\"error_y\":{\"color\":\"#2a3f5f\"},\"marker\":{\"line\":{\"color\":\"#E5ECF6\",\"width\":0.5},\"pattern\":{\"fillmode\":\"overlay\",\"size\":10,\"solidity\":0.2}},\"type\":\"bar\"}],\"scattergeo\":[{\"type\":\"scattergeo\",\"marker\":{\"colorbar\":{\"outlinewidth\":0,\"ticks\":\"\"}}}],\"scatterpolar\":[{\"type\":\"scatterpolar\",\"marker\":{\"colorbar\":{\"outlinewidth\":0,\"ticks\":\"\"}}}],\"histogram\":[{\"marker\":{\"pattern\":{\"fillmode\":\"overlay\",\"size\":10,\"solidity\":0.2}},\"type\":\"histogram\"}],\"scattergl\":[{\"type\":\"scattergl\",\"marker\":{\"colorbar\":{\"outlinewidth\":0,\"ticks\":\"\"}}}],\"scatter3d\":[{\"type\":\"scatter3d\",\"line\":{\"colorbar\":{\"outlinewidth\":0,\"ticks\":\"\"}},\"marker\":{\"colorbar\":{\"outlinewidth\":0,\"ticks\":\"\"}}}],\"scattermapbox\":[{\"type\":\"scattermapbox\",\"marker\":{\"colorbar\":{\"outlinewidth\":0,\"ticks\":\"\"}}}],\"scatterternary\":[{\"type\":\"scatterternary\",\"marker\":{\"colorbar\":{\"outlinewidth\":0,\"ticks\":\"\"}}}],\"scattercarpet\":[{\"type\":\"scattercarpet\",\"marker\":{\"colorbar\":{\"outlinewidth\":0,\"ticks\":\"\"}}}],\"carpet\":[{\"aaxis\":{\"endlinecolor\":\"#2a3f5f\",\"gridcolor\":\"white\",\"linecolor\":\"white\",\"minorgridcolor\":\"white\",\"startlinecolor\":\"#2a3f5f\"},\"baxis\":{\"endlinecolor\":\"#2a3f5f\",\"gridcolor\":\"white\",\"linecolor\":\"white\",\"minorgridcolor\":\"white\",\"startlinecolor\":\"#2a3f5f\"},\"type\":\"carpet\"}],\"table\":[{\"cells\":{\"fill\":{\"color\":\"#EBF0F8\"},\"line\":{\"color\":\"white\"}},\"header\":{\"fill\":{\"color\":\"#C8D4E3\"},\"line\":{\"color\":\"white\"}},\"type\":\"table\"}],\"barpolar\":[{\"marker\":{\"line\":{\"color\":\"#E5ECF6\",\"width\":0.5},\"pattern\":{\"fillmode\":\"overlay\",\"size\":10,\"solidity\":0.2}},\"type\":\"barpolar\"}],\"pie\":[{\"automargin\":true,\"type\":\"pie\"}]},\"layout\":{\"autotypenumbers\":\"strict\",\"colorway\":[\"#636efa\",\"#EF553B\",\"#00cc96\",\"#ab63fa\",\"#FFA15A\",\"#19d3f3\",\"#FF6692\",\"#B6E880\",\"#FF97FF\",\"#FECB52\"],\"font\":{\"color\":\"#2a3f5f\"},\"hovermode\":\"closest\",\"hoverlabel\":{\"align\":\"left\"},\"paper_bgcolor\":\"white\",\"plot_bgcolor\":\"#E5ECF6\",\"polar\":{\"bgcolor\":\"#E5ECF6\",\"angularaxis\":{\"gridcolor\":\"white\",\"linecolor\":\"white\",\"ticks\":\"\"},\"radialaxis\":{\"gridcolor\":\"white\",\"linecolor\":\"white\",\"ticks\":\"\"}},\"ternary\":{\"bgcolor\":\"#E5ECF6\",\"aaxis\":{\"gridcolor\":\"white\",\"linecolor\":\"white\",\"ticks\":\"\"},\"baxis\":{\"gridcolor\":\"white\",\"linecolor\":\"white\",\"ticks\":\"\"},\"caxis\":{\"gridcolor\":\"white\",\"linecolor\":\"white\",\"ticks\":\"\"}},\"coloraxis\":{\"colorbar\":{\"outlinewidth\":0,\"ticks\":\"\"}},\"colorscale\":{\"sequential\":[[0.0,\"#0d0887\"],[0.1111111111111111,\"#46039f\"],[0.2222222222222222,\"#7201a8\"],[0.3333333333333333,\"#9c179e\"],[0.4444444444444444,\"#bd3786\"],[0.5555555555555556,\"#d8576b\"],[0.6666666666666666,\"#ed7953\"],[0.7777777777777778,\"#fb9f3a\"],[0.8888888888888888,\"#fdca26\"],[1.0,\"#f0f921\"]],\"sequentialminus\":[[0.0,\"#0d0887\"],[0.1111111111111111,\"#46039f\"],[0.2222222222222222,\"#7201a8\"],[0.3333333333333333,\"#9c179e\"],[0.4444444444444444,\"#bd3786\"],[0.5555555555555556,\"#d8576b\"],[0.6666666666666666,\"#ed7953\"],[0.7777777777777778,\"#fb9f3a\"],[0.8888888888888888,\"#fdca26\"],[1.0,\"#f0f921\"]],\"diverging\":[[0,\"#8e0152\"],[0.1,\"#c51b7d\"],[0.2,\"#de77ae\"],[0.3,\"#f1b6da\"],[0.4,\"#fde0ef\"],[0.5,\"#f7f7f7\"],[0.6,\"#e6f5d0\"],[0.7,\"#b8e186\"],[0.8,\"#7fbc41\"],[0.9,\"#4d9221\"],[1,\"#276419\"]]},\"xaxis\":{\"gridcolor\":\"white\",\"linecolor\":\"white\",\"ticks\":\"\",\"title\":{\"standoff\":15},\"zerolinecolor\":\"white\",\"automargin\":true,\"zerolinewidth\":2},\"yaxis\":{\"gridcolor\":\"white\",\"linecolor\":\"white\",\"ticks\":\"\",\"title\":{\"standoff\":15},\"zerolinecolor\":\"white\",\"automargin\":true,\"zerolinewidth\":2},\"scene\":{\"xaxis\":{\"backgroundcolor\":\"#E5ECF6\",\"gridcolor\":\"white\",\"linecolor\":\"white\",\"showbackground\":true,\"ticks\":\"\",\"zerolinecolor\":\"white\",\"gridwidth\":2},\"yaxis\":{\"backgroundcolor\":\"#E5ECF6\",\"gridcolor\":\"white\",\"linecolor\":\"white\",\"showbackground\":true,\"ticks\":\"\",\"zerolinecolor\":\"white\",\"gridwidth\":2},\"zaxis\":{\"backgroundcolor\":\"#E5ECF6\",\"gridcolor\":\"white\",\"linecolor\":\"white\",\"showbackground\":true,\"ticks\":\"\",\"zerolinecolor\":\"white\",\"gridwidth\":2}},\"shapedefaults\":{\"line\":{\"color\":\"#2a3f5f\"}},\"annotationdefaults\":{\"arrowcolor\":\"#2a3f5f\",\"arrowhead\":0,\"arrowwidth\":1},\"geo\":{\"bgcolor\":\"white\",\"landcolor\":\"#E5ECF6\",\"subunitcolor\":\"white\",\"showland\":true,\"showlakes\":true,\"lakecolor\":\"white\"},\"title\":{\"x\":0.05},\"mapbox\":{\"style\":\"light\"}}},\"xaxis\":{\"anchor\":\"y\",\"domain\":[0.0,1.0],\"title\":{\"text\":\"input\"}},\"yaxis\":{\"anchor\":\"x\",\"domain\":[0.0,1.0],\"title\":{\"text\":\"output\"}},\"legend\":{\"tracegroupgap\":0},\"title\":{\"text\":\"ReLU function\"},\"height\":400,\"width\":700},                        {\"responsive\": true}                    ).then(function(){\n                            \nvar gd = document.getElementById('a7824e9a-371f-4668-805c-fb3cd4d15a4b');\nvar x = new MutationObserver(function (mutations, observer) {{\n        var display = window.getComputedStyle(gd).display;\n        if (!display || display === 'none') {{\n            console.log([gd, 'removed!']);\n            Plotly.purge(gd);\n            observer.disconnect();\n        }}\n}});\n\n// Listen for the removal of the full notebook cells\nvar notebookContainer = gd.closest('#notebook-container');\nif (notebookContainer) {{\n    x.observe(notebookContainer, {childList: true});\n}}\n\n// Listen for the clearing of the current output cell\nvar outputEl = gd.closest('.output');\nif (outputEl) {{\n    x.observe(outputEl, {childList: true});\n}}\n\n                        })                };                });            </script>        </div>"
     },
     "metadata": {},
     "output_type": "display_data"
    }
   ],
   "source": [
    "import numpy as np\n",
    "import pandas as pd\n",
    "import matplotlib.pyplot as plt\n",
    "import plotly.graph_objects as go\n",
    "import plotly.express as px\n",
    "import math\n",
    "\n",
    "np.set_printoptions(precision=6)\n",
    "\n",
    "\n",
    "def max_relu(x):\n",
    "    return max(x, 0.0)\n",
    "\n",
    "\n",
    "for i in [-8., 5., -1., 4., -10.]:\n",
    "    print(max_relu(i))\n",
    "\n",
    "data = np.random.randn(50)\n",
    "data = sorted(data)\n",
    "\n",
    "max_relu_data = np.array([max_relu(x) for x in data])\n",
    "\n",
    "df = pd.DataFrame({'input': data, 'output': max_relu_data})\n",
    "df.head()\n",
    "\n",
    "px.line(df, x='input', y='output', width=700, height=400, title='ReLU function')"
   ]
  },
  {
   "cell_type": "code",
   "execution_count": 11,
   "outputs": [
    {
     "name": "stdout",
     "output_type": "stream",
     "text": [
      "0.0066928509242848554\n",
      "0.04742587317756678\n",
      "0.2689414213699951\n",
      "0.5\n",
      "0.7310585786300049\n",
      "0.9525741268224334\n",
      "0.9933071490757153\n"
     ]
    },
    {
     "data": {
      "application/vnd.plotly.v1+json": {
       "data": [
        {
         "hovertemplate": "input=%{x}<br>output=%{y}<extra></extra>",
         "legendgroup": "",
         "line": {
          "color": "#636efa",
          "dash": "solid"
         },
         "marker": {
          "symbol": "circle"
         },
         "mode": "lines",
         "name": "",
         "orientation": "v",
         "showlegend": false,
         "x": [
          -8.230825537324677,
          -8.210193799603159,
          -7.861169389160581,
          -7.499600120426358,
          -7.494030435114819,
          -7.409551895639513,
          -7.258027354209431,
          -7.22056020227652,
          -7.175983394702959,
          -6.815007742054466,
          -6.592757308868228,
          -6.451806658720589,
          -6.266490300186188,
          -6.180044465761983,
          -6.054150502755478,
          -5.970346467484575,
          -5.88270475100965,
          -5.757759243178122,
          -5.59053652501784,
          -5.497986921423835,
          -5.480668691949865,
          -5.459147945264881,
          -5.4426616521268025,
          -5.429903418818088,
          -5.387817454552012,
          -5.311867289219837,
          -5.311739905492466,
          -5.243890162175385,
          -5.24213224376713,
          -5.167528057062643,
          -5.112892702894936,
          -5.089351555031993,
          -5.025359497555445,
          -4.997884821891632,
          -4.968041851971679,
          -4.927325362345705,
          -4.908712365438985,
          -4.907875027422304,
          -4.845018599094793,
          -4.772175223226787,
          -4.731433252027863,
          -4.720134009727022,
          -4.569301634605129,
          -4.555597214748369,
          -4.520766038156409,
          -4.506554338793419,
          -4.503025287222009,
          -4.3433644793889705,
          -4.340107055954137,
          -4.320273338925251,
          -4.299498774887034,
          -4.287393957099009,
          -4.264522013282967,
          -4.228902151170248,
          -4.222617327926656,
          -4.206417296722528,
          -4.099373416318262,
          -4.08863714940534,
          -3.9661685026026525,
          -3.8626489102144674,
          -3.8402995800775632,
          -3.77601592059004,
          -3.7543130130462083,
          -3.737021849181554,
          -3.702854599595345,
          -3.6960634302848026,
          -3.681133254009694,
          -3.6749626109916202,
          -3.612591961539185,
          -3.6017065555469303,
          -3.594812680927695,
          -3.587960747336089,
          -3.5817271780576814,
          -3.552949167209534,
          -3.5375150971094573,
          -3.5126310117741824,
          -3.438719834516445,
          -3.428045453636418,
          -3.422774549456669,
          -3.386862197995727,
          -3.36537392517064,
          -3.335930608898055,
          -3.281902174982817,
          -3.2742082414008378,
          -3.254043806524007,
          -3.2397818193242753,
          -3.1295942754637665,
          -3.046871545853331,
          -2.988401456844006,
          -2.970394284575256,
          -2.9617622837401205,
          -2.9466489411030676,
          -2.9278370420680826,
          -2.926539858442991,
          -2.91851167369987,
          -2.8889596446613517,
          -2.8875090685810934,
          -2.85159563947119,
          -2.8419210704041227,
          -2.8331981730749143,
          -2.7838238438333973,
          -2.748838881296153,
          -2.7221533268026965,
          -2.7155912783318623,
          -2.7093370681694653,
          -2.6972457739032523,
          -2.668654997103265,
          -2.6576258590593813,
          -2.655003112921851,
          -2.6416775627077067,
          -2.63017180327137,
          -2.6111289018681307,
          -2.5231814614642007,
          -2.5199823147505804,
          -2.493175462175182,
          -2.4714865716244017,
          -2.448577906080472,
          -2.4285476702986157,
          -2.4175379965802954,
          -2.395123507135445,
          -2.3930399068480335,
          -2.3843327843440143,
          -2.3787771113378904,
          -2.3587837090696078,
          -2.350308203843735,
          -2.336325463154044,
          -2.290926514302182,
          -2.289111313712143,
          -2.2750118435972153,
          -2.2650731126727015,
          -2.217520255802108,
          -2.214600810959456,
          -2.178736200878271,
          -2.1558730017284784,
          -2.1529367655369778,
          -2.1465350691086966,
          -2.101871477053466,
          -2.0935678786641985,
          -2.090067988221564,
          -2.08803740455493,
          -2.0543684462898613,
          -2.0484505386933005,
          -2.0046170782671235,
          -2.0000413539948,
          -1.965023891145043,
          -1.9502657661810714,
          -1.9204221330535822,
          -1.9156458213749599,
          -1.8795464180917272,
          -1.8192805858356833,
          -1.7924495652286152,
          -1.7725273154782522,
          -1.772078802398783,
          -1.7518217977598276,
          -1.7352409498161019,
          -1.7274881462990315,
          -1.7123009413008785,
          -1.69524377552918,
          -1.674387491705656,
          -1.6671012808765955,
          -1.6587723213445842,
          -1.639795725532347,
          -1.6299952422476855,
          -1.6279717312027369,
          -1.6194802487091882,
          -1.6110270517746148,
          -1.5838959771610353,
          -1.559113234356087,
          -1.5402009201678544,
          -1.5312570430402026,
          -1.5309418357248323,
          -1.5238612777986158,
          -1.500229736267952,
          -1.4860060011447436,
          -1.4767667024901547,
          -1.4742878061200613,
          -1.4545803761110756,
          -1.448754424133564,
          -1.445158581102635,
          -1.4195788878089337,
          -1.4181721314416615,
          -1.4071882637435773,
          -1.4012547070038257,
          -1.382625099630231,
          -1.3634304367416443,
          -1.3323502878376017,
          -1.3322608275024752,
          -1.3177611193329997,
          -1.291252587783954,
          -1.2859128674780678,
          -1.223919517487489,
          -1.1860640534842568,
          -1.1822239101519718,
          -1.1761814009298204,
          -1.1614588392923872,
          -1.158301639755629,
          -1.1443683694693583,
          -1.144176434339718,
          -1.1340545292017832,
          -1.1315401829091343,
          -1.115384022730494,
          -1.1103653186129654,
          -1.1022700502644915,
          -1.0985332115293118,
          -1.0963913826303715,
          -1.074371442658589,
          -1.0734488236241946,
          -1.0464171846751467,
          -1.02755214651094,
          -0.9670253988763782,
          -0.957440513386546,
          -0.9537425024289956,
          -0.9457305111202405,
          -0.9290953181399263,
          -0.8984445887992447,
          -0.8815056810544244,
          -0.826787311736962,
          -0.757997815477342,
          -0.7040397822667708,
          -0.7021492568384484,
          -0.6893657126813604,
          -0.6456990883296252,
          -0.6371873037451332,
          -0.6282992514822066,
          -0.6160281919923416,
          -0.6139248523038927,
          -0.5600206650580882,
          -0.5573778179168404,
          -0.5522795251271145,
          -0.5455038423657078,
          -0.5266793181036051,
          -0.5036691951023846,
          -0.5008357411330271,
          -0.500476819306836,
          -0.42742661613942323,
          -0.4160543347052146,
          -0.41373388680600065,
          -0.4071793910913515,
          -0.4035464705121322,
          -0.40087690464102305,
          -0.40052397992844835,
          -0.38154430521334093,
          -0.332298839866394,
          -0.31101190308198223,
          -0.29642477263845973,
          -0.29151748892446966,
          -0.2839094024052503,
          -0.2773042240810669,
          -0.2686323029005637,
          -0.2353211557281826,
          -0.2304257258217031,
          -0.21310434845679324,
          -0.19384009435301985,
          -0.18977285251163672,
          -0.17783478819367304,
          -0.16875562392589663,
          -0.16648984300467698,
          -0.15006949509335393,
          -0.14025602107897733,
          -0.09414872213052833,
          -0.09135220281387776,
          -0.06442761203448318,
          0.017864333844702034,
          0.020811931095412,
          0.032747717866695926,
          0.03775760830078453,
          0.06353369834172876,
          0.07404351368426594,
          0.07426501978614877,
          0.0810999474079982,
          0.12530803282779454,
          0.132055016870758,
          0.13875761874330206,
          0.1429819311509642,
          0.14427898800866834,
          0.1645110470361476,
          0.16815404212356383,
          0.1769068963886634,
          0.1854044045136167,
          0.185902143384234,
          0.27081718647391595,
          0.2788853510607258,
          0.28251465982215657,
          0.2836704832718319,
          0.284568164121906,
          0.2969036647127783,
          0.30738886661423565,
          0.37003490198392514,
          0.3724232076115722,
          0.37288840822574365,
          0.3900000640073206,
          0.395468917608771,
          0.4055065747653668,
          0.4989890722490653,
          0.5076754150518261,
          0.5460044287063147,
          0.5587470602294766,
          0.5712589179067098,
          0.5781412164891188,
          0.5816300363702603,
          0.5837700847586405,
          0.5875376381900695,
          0.6031643621728524,
          0.6203810751145074,
          0.6562689022969501,
          0.668815791563281,
          0.6772993988515522,
          0.6999772533414587,
          0.7112258644262889,
          0.7138074305204924,
          0.719117193395504,
          0.7223820755437025,
          0.7301768486913223,
          0.7377832372690634,
          0.7507457653621092,
          0.7843926294570079,
          0.7997582021281671,
          0.81859938468018,
          0.8258918797300056,
          0.8279743513957432,
          0.858163209100638,
          0.8809968302144107,
          0.9111491768497797,
          0.9226485575440689,
          0.9311928789875792,
          0.9661636893524658,
          0.9816286355773794,
          1.0074674770447176,
          1.0269361452622638,
          1.042911308906833,
          1.0551732011938977,
          1.0867409250263798,
          1.099778146100034,
          1.1263557530947583,
          1.1492051209879792,
          1.1648101181966657,
          1.1765823523923973,
          1.1892283971773212,
          1.2006400785200217,
          1.2010581010365735,
          1.2194560781684782,
          1.2342158917640769,
          1.2347774803815517,
          1.241251805998548,
          1.2462809952989524,
          1.2545327404936046,
          1.2801259017166151,
          1.287026002843104,
          1.3129782260371827,
          1.3275791043291205,
          1.337342752804389,
          1.3500766766118288,
          1.3585168795536011,
          1.3662983595816864,
          1.4064264661369912,
          1.4193181588368902,
          1.430304520891313,
          1.4320534493372117,
          1.43630088765609,
          1.468269418235058,
          1.4735699365372068,
          1.4738389266244554,
          1.513535889467106,
          1.5463017205845535,
          1.5499255067818065,
          1.5614366463150162,
          1.5758269629064077,
          1.595936765895177,
          1.6146058321836294,
          1.6344514235208218,
          1.6451760642845576,
          1.6638320668122628,
          1.6725236918934914,
          1.6889898165482782,
          1.7604851529562189,
          1.76917130295879,
          1.7721974996017873,
          1.8365105015261172,
          1.837642942250391,
          1.8542647874782956,
          1.8566164578163282,
          1.8928831411921117,
          1.9249513032430001,
          1.9565858283086484,
          2.038330394196169,
          2.049601834326765,
          2.067962485478421,
          2.0867855152379797,
          2.102406352396615,
          2.113873931457954,
          2.1163188935758313,
          2.1764254157859235,
          2.1820305814370764,
          2.185193694564152,
          2.199266910554912,
          2.199875350091431,
          2.2476219064643583,
          2.2600990445342446,
          2.2725802442097187,
          2.298098068481918,
          2.313780392895981,
          2.325487331290304,
          2.33819876761871,
          2.369273703007411,
          2.385803290277896,
          2.393415935164736,
          2.4036726716750687,
          2.437224413673821,
          2.4468252777326347,
          2.4485064429917798,
          2.485808462912427,
          2.4933649065984635,
          2.538073150469042,
          2.58499987210594,
          2.619008272815563,
          2.6776293112638507,
          2.6845611827132387,
          2.688472774775282,
          2.7005414945214223,
          2.7459073520696724,
          2.763679500732116,
          2.813085254974551,
          2.8261199331669404,
          2.862091714422415,
          2.8756828048029703,
          2.902176481153035,
          2.9070115261586738,
          2.9441512781922956,
          2.9530150922836143,
          2.97683341474653,
          2.99214246144881,
          3.0630589002006694,
          3.0735756377061394,
          3.0892308966727957,
          3.1252655362674044,
          3.1519216966212564,
          3.1834882476609425,
          3.2232047103555304,
          3.268294361006274,
          3.298382353843669,
          3.337435313918315,
          3.342546343809408,
          3.3476329820359427,
          3.3492150535239156,
          3.383874895859446,
          3.4065108006134013,
          3.4424692755418143,
          3.4432871687255826,
          3.4749773965882134,
          3.5110870291814242,
          3.520529930490042,
          3.540694551552174,
          3.5541561855916397,
          3.562849406237747,
          3.6194750295829046,
          3.631900218805747,
          3.63753888625913,
          3.657950952758453,
          3.659195772590413,
          3.6798277233529673,
          3.750811627123632,
          3.7852569709118145,
          3.815194200271982,
          3.829597768764271,
          4.027835232602765,
          4.0558743770055194,
          4.137169361637782,
          4.157861520292347,
          4.214156652272558,
          4.223352362995866,
          4.4558487856570625,
          4.4792145328248365,
          4.520868528765673,
          4.530716260941877,
          4.561809520814874,
          4.592120682624494,
          4.768278590500329,
          4.832122994007793,
          4.937752088961727,
          4.9590358241082395,
          4.968546476384179,
          5.156631544499441,
          5.157261417244488,
          5.162149608599094,
          5.2394397650357085,
          5.257525062451414,
          5.371754051991008,
          5.378987054203266,
          5.892640217701511,
          5.958458539711517,
          6.002926289198836,
          6.027974767166907,
          6.329479818641769,
          6.446716061284261,
          6.593712727028942,
          6.662403006904373,
          6.858130354917671,
          7.080497730695162,
          8.568697690138553,
          9.589125190741342
         ],
         "xaxis": "x",
         "y": [
          2.662454798286546E-4,
          2.717941361318817E-4,
          3.852744048045984E-4,
          5.529996037486323E-4,
          5.560865133311414E-4,
          6.050755967894774E-4,
          7.040004218723132E-4,
          7.308580321684797E-4,
          7.64148943359699E-4,
          0.0010959822067679017,
          0.0013683814958100377,
          0.0015751841627811003,
          0.0018952824887156037,
          0.0020660583589627783,
          0.0023425953360468313,
          0.0025468535852427527,
          0.002779489197247133,
          0.0031482376874911767,
          0.0037191408225967747,
          0.004078306026271724,
          0.004149254586518262,
          0.0042391347851998395,
          0.004309298013944792,
          0.004364387770325935,
          0.004551133410187221,
          0.004908495151541416,
          0.004909117384093353,
          0.00525194942858884,
          0.005261141430715514,
          0.00566634766619354,
          0.005982640156302911,
          0.006124276440004727,
          0.006526351383172123,
          0.006706927430854129,
          0.0069086949538424225,
          0.007193732668980587,
          0.007327893101175624,
          0.007333986574663492,
          0.007806057196187266,
          0.008390949662616533,
          0.008736824660291053,
          0.008835226837988458,
          0.010258860783121354,
          0.010398948228459546,
          0.010763570430810075,
          0.010915949477956146,
          0.010954117750988045,
          0.01282609465227269,
          0.012867404318153397,
          0.013121778237024843,
          0.013393539477628438,
          0.013554440172680187,
          0.01386368159349585,
          0.014359185636033332,
          0.014448406759841695,
          0.014680913339506729,
          0.0163125507694609,
          0.0164857273976486,
          0.018593612898362283,
          0.02057983711836633,
          0.02103517697302992,
          0.0224005191905131,
          0.022880744258037454,
          0.02327053256126241,
          0.02405990135536245,
          0.02421988142585377,
          0.024575248183654013,
          0.024723601301018656,
          0.026272928866243033,
          0.026552847223500823,
          0.026731621461848435,
          0.026910467768741377,
          0.027074184124966982,
          0.027842636172535757,
          0.02826345497203317,
          0.02895496903634353,
          0.031107044422918874,
          0.03143037908332765,
          0.031591235546952756,
          0.032708585957430085,
          0.03339531695073923,
          0.0343589179678931,
          0.036197296518825084,
          0.03646667512150782,
          0.037181850411140555,
          0.037695804177391365,
          0.04190289266999426,
          0.045352730104322087,
          0.0479526156871231,
          0.048781424230755974,
          0.04918352824602512,
          0.04989513114097529,
          0.050794509441509816,
          0.05085708886341402,
          0.05124601482335716,
          0.052702033522462687,
          0.05277449985664666,
          0.054598895167957615,
          0.05510043292542348,
          0.05555635156920097,
          0.058204590148605954,
          0.06015225930320994,
          0.06167872594832667,
          0.062059595086412546,
          0.06242464007114501,
          0.06313607239257066,
          0.06484848610974066,
          0.06552054653037162,
          0.06568131410081869,
          0.06650381494152859,
          0.06722167721949439,
          0.06842560844897204,
          0.07424896762225332,
          0.07446916408627921,
          0.07633799247586796,
          0.07788140864296571,
          0.07954260637887832,
          0.0810215376185599,
          0.08184507593599238,
          0.08354531010935083,
          0.08370498048118809,
          0.08437522857477596,
          0.08480543018425223,
          0.08637012413601454,
          0.08704127787554955,
          0.08815885267391711,
          0.09187721623834831,
          0.0920287811811517,
          0.09321372199784571,
          0.09405719564392195,
          0.09818816013894598,
          0.09844697235808574,
          0.10167630298021033,
          0.1037836872309549,
          0.10405711219365972,
          0.10465545199193733,
          0.10891505656179755,
          0.10972356300921166,
          0.11006591464384739,
          0.11026497071820958,
          0.11361171774568916,
          0.1142090393749231,
          0.11871901007982662,
          0.11919858018630633,
          0.12292437501038508,
          0.12452438198254161,
          0.12781450039608788,
          0.12834790104753238,
          0.13244098158198694,
          0.13952021934921452,
          0.14277266213076778,
          0.14522831406204462,
          0.14528400001280117,
          0.14781756339401225,
          0.14991843173149205,
          0.15090915543473346,
          0.15286551122625994,
          0.1550874767283094,
          0.15784008859861978,
          0.15881103611924755,
          0.15992686704136538,
          0.16249286015796344,
          0.16383101298876704,
          0.16410840319857503,
          0.16527656271914454,
          0.1664460697688665,
          0.17024442412079968,
          0.1737739289420868,
          0.17650606879769437,
          0.1778098398290104,
          0.17785592576984144,
          0.17889363020199228,
          0.182391261956919,
          0.18452196173058183,
          0.1859162865821226,
          0.1862917632168549,
          0.18929764242303168,
          0.19019333537297117,
          0.19074778357410963,
          0.19472760918637394,
          0.19494829565442653,
          0.19667791980132418,
          0.1976170838769869,
          0.2005877281374065,
          0.20368333207177458,
          0.20877086578842363,
          0.20878564373179376,
          0.21119102604439668,
          0.21564087280517008,
          0.21654540378215142,
          0.2272474239312338,
          0.233963615593876,
          0.23465256690680555,
          0.2357394850265658,
          0.23840230752168184,
          0.23897602302071,
          0.24151922616704835,
          0.24155438806432025,
          0.2434136282853682,
          0.2438769776168335,
          0.24686850342506864,
          0.24780278815186216,
          0.24931479704190146,
          0.25001482725664115,
          0.25041665104652383,
          0.2545726459160329,
          0.2547477667401643,
          0.2599136929798684,
          0.2635589467644288,
          0.27547380016950224,
          0.2773909392736287,
          0.27813279770251387,
          0.27974426072658154,
          0.2831082908822766,
          0.28937023970201625,
          0.29286586199153025,
          0.30432480442576293,
          0.31908111989265486,
          0.3309171654582131,
          0.33133588229487676,
          0.3341741884710397,
          0.3439593913780776,
          0.34588262967995875,
          0.34789627731716255,
          0.35068531524070573,
          0.3511644067538189,
          0.3635426782362228,
          0.3641543988726376,
          0.36533570362556045,
          0.36690817965976374,
          0.37129171680770257,
          0.3766787825641665,
          0.37734428663946956,
          0.3774286210356904,
          0.3947409990015141,
          0.3974612976285529,
          0.39801714399002847,
          0.3995886427030567,
          0.4004605612467763,
          0.4011016723691481,
          0.4011864545916387,
          0.40575448348864235,
          0.4176813853626395,
          0.4228677640398649,
          0.42643170897609134,
          0.42763240131010155,
          0.4294955957116187,
          0.4311148049724733,
          0.43324289343994327,
          0.4414396984833678,
          0.4426471117458852,
          0.44692462241263087,
          0.4516911447759567,
          0.45269865990048586,
          0.45565810156361436,
          0.4579109326279243,
          0.45847341745141373,
          0.46255287829001984,
          0.46499336274633507,
          0.4764801901653185,
          0.4771778184427313,
          0.4838986662147034,
          0.5044659646915516,
          0.5052027949818517,
          0.5081861978976451,
          0.5094382808049891,
          0.5158780839134551,
          0.5185024259870501,
          0.5185577264553038,
          0.5202638814334234,
          0.5312860808109996,
          0.5329658617949418,
          0.5346338534245777,
          0.5356847091403792,
          0.5360073067079052,
          0.5410352556918278,
          0.5419397338407704,
          0.544111740456454,
          0.5462187801673247,
          0.5463421487867007,
          0.5672935120434961,
          0.56927293174438,
          0.5701626181738,
          0.5704458611553522,
          0.5706658125954729,
          0.573685418009283,
          0.5762477854757222,
          0.5914674119556536,
          0.5920443807968385,
          0.5921567348796805,
          0.5962827147052471,
          0.5975985337256512,
          0.6000099519564598,
          0.6222217300334132,
          0.6242613795923897,
          0.6332080920740525,
          0.6361625846602225,
          0.6390536131104165,
          0.6406395882167467,
          0.6414423913732472,
          0.6419344406411849,
          0.6427999663231536,
          0.6463799282940828,
          0.6503052131970231,
          0.6584217517491712,
          0.6612379444304418,
          0.6631356849276712,
          0.6681827289218493,
          0.6706719744312469,
          0.6712419162817215,
          0.6724125874204832,
          0.6731313505082415,
          0.6748440796105327,
          0.6765109211942005,
          0.6793411759957786,
          0.6866260531051204,
          0.6899227558424584,
          0.6939389474936964,
          0.6954855893645923,
          0.6959264467973348,
          0.7022767532875233,
          0.707028746209287,
          0.7132352623082208,
          0.7155814600511952,
          0.7173172320990024,
          0.7243541796912698,
          0.727431253683181,
          0.7325242380325513,
          0.7363214726732618,
          0.7394113543626954,
          0.7417670577824069,
          0.7477675198897948,
          0.7502185345487008,
          0.7551657393685901,
          0.7593656991034328,
          0.7622056394050477,
          0.7643327452929156,
          0.766603035275381,
          0.768638630337773,
          0.76871296030752,
          0.7719678151232172,
          0.7745556020223436,
          0.7746536510689784,
          0.7757818340558463,
          0.7766554198016954,
          0.7780835139152878,
          0.7824712069185884,
          0.7836433839330423,
          0.7880110941189837,
          0.7904399083038584,
          0.7920526184731949,
          0.7941421636039888,
          0.7955185460475093,
          0.7967814394933771,
          0.8032016916282632,
          0.8052315029707235,
          0.8069487592143971,
          0.8072210653368024,
          0.8078811690092003,
          0.8127942036111454,
          0.8135993924773887,
          0.813640182841203,
          0.8195846344188557,
          0.8243789433905252,
          0.8249029724405683,
          0.826559405729027,
          0.8286127019965309,
          0.8314497257498767,
          0.8340498640460836,
          0.8367785270027287,
          0.838238015426755,
          0.8407517419801047,
          0.8419120048159083,
          0.8440912647252619,
          0.853270411767612,
          0.8543545842237291,
          0.8547307387768965,
          0.8625354876690591,
          0.8626697038069359,
          0.8646270607303898,
          0.8649020809872506,
          0.8690839151137081,
          0.8726895516914683,
          0.8761629855003207,
          0.8847631487468643,
          0.8859073801115007,
          0.8877500837335819,
          0.889612150731601,
          0.8911368436054864,
          0.8922443562703168,
          0.8924792002628431,
          0.8981124396381787,
          0.8986242053091305,
          0.8989119978231376,
          0.9001836598879673,
          0.9002383167190365,
          0.9044452081521096,
          0.9055181051518938,
          0.9065805438498872,
          0.9087193992984217,
          0.9100119127677873,
          0.9109660061319647,
          0.9119916202729093,
          0.9144540610266934,
          0.9157383074929778,
          0.9163238557960539,
          0.9171069346879203,
          0.919622162952635,
          0.9203289793235113,
          0.920452161252408,
          0.9231409327185884,
          0.9236753642737222,
          0.9267681608376198,
          0.9298899354405747,
          0.9320749458421336,
          0.9356936239800946,
          0.9361094644996429,
          0.9363430123872925,
          0.9370585887355983,
          0.9396817958712778,
          0.940681283413894,
          0.9433788443170362,
          0.9440710838038476,
          0.9459403637490736,
          0.9466311764249534,
          0.9479539233401045,
          0.9481919553099801,
          0.949986332434345,
          0.9504057968141608,
          0.9515164963552665,
          0.952217884469802,
          0.9553429800274382,
          0.9557895107590733,
          0.9564463379517851,
          0.9579229762361554,
          0.9589843752576396,
          0.9602081607456348,
          0.9616982339909547,
          0.9633249591286519,
          0.9643732742413973,
          0.9656909707470912,
          0.9658599065173614,
          0.9660272392286123,
          0.9660791223557522,
          0.9671967675332973,
          0.9679073954348625,
          0.9690057630083345,
          0.9690303178598412,
          0.9699673531647935,
          0.971001587868519,
          0.9712662971085343,
          0.9718237367252537,
          0.9721900160929514,
          0.9724240888160605,
          0.9739025853461886,
          0.9742165354941466,
          0.9743577932728207,
          0.9748628742578181,
          0.9748933608546814,
          0.9753934371103025,
          0.9770408435877304,
          0.977800957474953,
          0.9784415711057024,
          0.9787433105426938,
          0.9824988956075806,
          0.982974557208518,
          0.9842829819527643,
          0.9845999023872122,
          0.9854306199293633,
          0.9855620561478475,
          0.9885227947443824,
          0.9887848867131614,
          0.9892375208053704,
          0.9893418625963039,
          0.9896647873734814,
          0.9899702645649794,
          0.991576566056147,
          0.9920934281731755,
          0.9928803534817656,
          0.9930292398057593,
          0.9930947663951865,
          0.9942719268908559,
          0.9942755130647504,
          0.9943032681527817,
          0.9947247487979046,
          0.9948188058868047,
          0.9953755103850851,
          0.9954086856311373,
          0.9972479139677611,
          0.997422767419793,
          0.9975345840646621,
          0.9975954253156404,
          0.9982202123010507,
          0.9984167894918212,
          0.9986329234699448,
          0.9987235599188392,
          0.9989502263190494,
          0.9991593530056478,
          0.9998100762024871,
          0.9999315353947344
         ],
         "yaxis": "y",
         "type": "scatter"
        }
       ],
       "layout": {
        "template": {
         "data": {
          "histogram2dcontour": [
           {
            "type": "histogram2dcontour",
            "colorbar": {
             "outlinewidth": 0,
             "ticks": ""
            },
            "colorscale": [
             [
              0.0,
              "#0d0887"
             ],
             [
              0.1111111111111111,
              "#46039f"
             ],
             [
              0.2222222222222222,
              "#7201a8"
             ],
             [
              0.3333333333333333,
              "#9c179e"
             ],
             [
              0.4444444444444444,
              "#bd3786"
             ],
             [
              0.5555555555555556,
              "#d8576b"
             ],
             [
              0.6666666666666666,
              "#ed7953"
             ],
             [
              0.7777777777777778,
              "#fb9f3a"
             ],
             [
              0.8888888888888888,
              "#fdca26"
             ],
             [
              1.0,
              "#f0f921"
             ]
            ]
           }
          ],
          "choropleth": [
           {
            "type": "choropleth",
            "colorbar": {
             "outlinewidth": 0,
             "ticks": ""
            }
           }
          ],
          "histogram2d": [
           {
            "type": "histogram2d",
            "colorbar": {
             "outlinewidth": 0,
             "ticks": ""
            },
            "colorscale": [
             [
              0.0,
              "#0d0887"
             ],
             [
              0.1111111111111111,
              "#46039f"
             ],
             [
              0.2222222222222222,
              "#7201a8"
             ],
             [
              0.3333333333333333,
              "#9c179e"
             ],
             [
              0.4444444444444444,
              "#bd3786"
             ],
             [
              0.5555555555555556,
              "#d8576b"
             ],
             [
              0.6666666666666666,
              "#ed7953"
             ],
             [
              0.7777777777777778,
              "#fb9f3a"
             ],
             [
              0.8888888888888888,
              "#fdca26"
             ],
             [
              1.0,
              "#f0f921"
             ]
            ]
           }
          ],
          "heatmap": [
           {
            "type": "heatmap",
            "colorbar": {
             "outlinewidth": 0,
             "ticks": ""
            },
            "colorscale": [
             [
              0.0,
              "#0d0887"
             ],
             [
              0.1111111111111111,
              "#46039f"
             ],
             [
              0.2222222222222222,
              "#7201a8"
             ],
             [
              0.3333333333333333,
              "#9c179e"
             ],
             [
              0.4444444444444444,
              "#bd3786"
             ],
             [
              0.5555555555555556,
              "#d8576b"
             ],
             [
              0.6666666666666666,
              "#ed7953"
             ],
             [
              0.7777777777777778,
              "#fb9f3a"
             ],
             [
              0.8888888888888888,
              "#fdca26"
             ],
             [
              1.0,
              "#f0f921"
             ]
            ]
           }
          ],
          "heatmapgl": [
           {
            "type": "heatmapgl",
            "colorbar": {
             "outlinewidth": 0,
             "ticks": ""
            },
            "colorscale": [
             [
              0.0,
              "#0d0887"
             ],
             [
              0.1111111111111111,
              "#46039f"
             ],
             [
              0.2222222222222222,
              "#7201a8"
             ],
             [
              0.3333333333333333,
              "#9c179e"
             ],
             [
              0.4444444444444444,
              "#bd3786"
             ],
             [
              0.5555555555555556,
              "#d8576b"
             ],
             [
              0.6666666666666666,
              "#ed7953"
             ],
             [
              0.7777777777777778,
              "#fb9f3a"
             ],
             [
              0.8888888888888888,
              "#fdca26"
             ],
             [
              1.0,
              "#f0f921"
             ]
            ]
           }
          ],
          "contourcarpet": [
           {
            "type": "contourcarpet",
            "colorbar": {
             "outlinewidth": 0,
             "ticks": ""
            }
           }
          ],
          "contour": [
           {
            "type": "contour",
            "colorbar": {
             "outlinewidth": 0,
             "ticks": ""
            },
            "colorscale": [
             [
              0.0,
              "#0d0887"
             ],
             [
              0.1111111111111111,
              "#46039f"
             ],
             [
              0.2222222222222222,
              "#7201a8"
             ],
             [
              0.3333333333333333,
              "#9c179e"
             ],
             [
              0.4444444444444444,
              "#bd3786"
             ],
             [
              0.5555555555555556,
              "#d8576b"
             ],
             [
              0.6666666666666666,
              "#ed7953"
             ],
             [
              0.7777777777777778,
              "#fb9f3a"
             ],
             [
              0.8888888888888888,
              "#fdca26"
             ],
             [
              1.0,
              "#f0f921"
             ]
            ]
           }
          ],
          "surface": [
           {
            "type": "surface",
            "colorbar": {
             "outlinewidth": 0,
             "ticks": ""
            },
            "colorscale": [
             [
              0.0,
              "#0d0887"
             ],
             [
              0.1111111111111111,
              "#46039f"
             ],
             [
              0.2222222222222222,
              "#7201a8"
             ],
             [
              0.3333333333333333,
              "#9c179e"
             ],
             [
              0.4444444444444444,
              "#bd3786"
             ],
             [
              0.5555555555555556,
              "#d8576b"
             ],
             [
              0.6666666666666666,
              "#ed7953"
             ],
             [
              0.7777777777777778,
              "#fb9f3a"
             ],
             [
              0.8888888888888888,
              "#fdca26"
             ],
             [
              1.0,
              "#f0f921"
             ]
            ]
           }
          ],
          "mesh3d": [
           {
            "type": "mesh3d",
            "colorbar": {
             "outlinewidth": 0,
             "ticks": ""
            }
           }
          ],
          "scatter": [
           {
            "fillpattern": {
             "fillmode": "overlay",
             "size": 10,
             "solidity": 0.2
            },
            "type": "scatter"
           }
          ],
          "parcoords": [
           {
            "type": "parcoords",
            "line": {
             "colorbar": {
              "outlinewidth": 0,
              "ticks": ""
             }
            }
           }
          ],
          "scatterpolargl": [
           {
            "type": "scatterpolargl",
            "marker": {
             "colorbar": {
              "outlinewidth": 0,
              "ticks": ""
             }
            }
           }
          ],
          "bar": [
           {
            "error_x": {
             "color": "#2a3f5f"
            },
            "error_y": {
             "color": "#2a3f5f"
            },
            "marker": {
             "line": {
              "color": "#E5ECF6",
              "width": 0.5
             },
             "pattern": {
              "fillmode": "overlay",
              "size": 10,
              "solidity": 0.2
             }
            },
            "type": "bar"
           }
          ],
          "scattergeo": [
           {
            "type": "scattergeo",
            "marker": {
             "colorbar": {
              "outlinewidth": 0,
              "ticks": ""
             }
            }
           }
          ],
          "scatterpolar": [
           {
            "type": "scatterpolar",
            "marker": {
             "colorbar": {
              "outlinewidth": 0,
              "ticks": ""
             }
            }
           }
          ],
          "histogram": [
           {
            "marker": {
             "pattern": {
              "fillmode": "overlay",
              "size": 10,
              "solidity": 0.2
             }
            },
            "type": "histogram"
           }
          ],
          "scattergl": [
           {
            "type": "scattergl",
            "marker": {
             "colorbar": {
              "outlinewidth": 0,
              "ticks": ""
             }
            }
           }
          ],
          "scatter3d": [
           {
            "type": "scatter3d",
            "line": {
             "colorbar": {
              "outlinewidth": 0,
              "ticks": ""
             }
            },
            "marker": {
             "colorbar": {
              "outlinewidth": 0,
              "ticks": ""
             }
            }
           }
          ],
          "scattermapbox": [
           {
            "type": "scattermapbox",
            "marker": {
             "colorbar": {
              "outlinewidth": 0,
              "ticks": ""
             }
            }
           }
          ],
          "scatterternary": [
           {
            "type": "scatterternary",
            "marker": {
             "colorbar": {
              "outlinewidth": 0,
              "ticks": ""
             }
            }
           }
          ],
          "scattercarpet": [
           {
            "type": "scattercarpet",
            "marker": {
             "colorbar": {
              "outlinewidth": 0,
              "ticks": ""
             }
            }
           }
          ],
          "carpet": [
           {
            "aaxis": {
             "endlinecolor": "#2a3f5f",
             "gridcolor": "white",
             "linecolor": "white",
             "minorgridcolor": "white",
             "startlinecolor": "#2a3f5f"
            },
            "baxis": {
             "endlinecolor": "#2a3f5f",
             "gridcolor": "white",
             "linecolor": "white",
             "minorgridcolor": "white",
             "startlinecolor": "#2a3f5f"
            },
            "type": "carpet"
           }
          ],
          "table": [
           {
            "cells": {
             "fill": {
              "color": "#EBF0F8"
             },
             "line": {
              "color": "white"
             }
            },
            "header": {
             "fill": {
              "color": "#C8D4E3"
             },
             "line": {
              "color": "white"
             }
            },
            "type": "table"
           }
          ],
          "barpolar": [
           {
            "marker": {
             "line": {
              "color": "#E5ECF6",
              "width": 0.5
             },
             "pattern": {
              "fillmode": "overlay",
              "size": 10,
              "solidity": 0.2
             }
            },
            "type": "barpolar"
           }
          ],
          "pie": [
           {
            "automargin": true,
            "type": "pie"
           }
          ]
         },
         "layout": {
          "autotypenumbers": "strict",
          "colorway": [
           "#636efa",
           "#EF553B",
           "#00cc96",
           "#ab63fa",
           "#FFA15A",
           "#19d3f3",
           "#FF6692",
           "#B6E880",
           "#FF97FF",
           "#FECB52"
          ],
          "font": {
           "color": "#2a3f5f"
          },
          "hovermode": "closest",
          "hoverlabel": {
           "align": "left"
          },
          "paper_bgcolor": "white",
          "plot_bgcolor": "#E5ECF6",
          "polar": {
           "bgcolor": "#E5ECF6",
           "angularaxis": {
            "gridcolor": "white",
            "linecolor": "white",
            "ticks": ""
           },
           "radialaxis": {
            "gridcolor": "white",
            "linecolor": "white",
            "ticks": ""
           }
          },
          "ternary": {
           "bgcolor": "#E5ECF6",
           "aaxis": {
            "gridcolor": "white",
            "linecolor": "white",
            "ticks": ""
           },
           "baxis": {
            "gridcolor": "white",
            "linecolor": "white",
            "ticks": ""
           },
           "caxis": {
            "gridcolor": "white",
            "linecolor": "white",
            "ticks": ""
           }
          },
          "coloraxis": {
           "colorbar": {
            "outlinewidth": 0,
            "ticks": ""
           }
          },
          "colorscale": {
           "sequential": [
            [
             0.0,
             "#0d0887"
            ],
            [
             0.1111111111111111,
             "#46039f"
            ],
            [
             0.2222222222222222,
             "#7201a8"
            ],
            [
             0.3333333333333333,
             "#9c179e"
            ],
            [
             0.4444444444444444,
             "#bd3786"
            ],
            [
             0.5555555555555556,
             "#d8576b"
            ],
            [
             0.6666666666666666,
             "#ed7953"
            ],
            [
             0.7777777777777778,
             "#fb9f3a"
            ],
            [
             0.8888888888888888,
             "#fdca26"
            ],
            [
             1.0,
             "#f0f921"
            ]
           ],
           "sequentialminus": [
            [
             0.0,
             "#0d0887"
            ],
            [
             0.1111111111111111,
             "#46039f"
            ],
            [
             0.2222222222222222,
             "#7201a8"
            ],
            [
             0.3333333333333333,
             "#9c179e"
            ],
            [
             0.4444444444444444,
             "#bd3786"
            ],
            [
             0.5555555555555556,
             "#d8576b"
            ],
            [
             0.6666666666666666,
             "#ed7953"
            ],
            [
             0.7777777777777778,
             "#fb9f3a"
            ],
            [
             0.8888888888888888,
             "#fdca26"
            ],
            [
             1.0,
             "#f0f921"
            ]
           ],
           "diverging": [
            [
             0,
             "#8e0152"
            ],
            [
             0.1,
             "#c51b7d"
            ],
            [
             0.2,
             "#de77ae"
            ],
            [
             0.3,
             "#f1b6da"
            ],
            [
             0.4,
             "#fde0ef"
            ],
            [
             0.5,
             "#f7f7f7"
            ],
            [
             0.6,
             "#e6f5d0"
            ],
            [
             0.7,
             "#b8e186"
            ],
            [
             0.8,
             "#7fbc41"
            ],
            [
             0.9,
             "#4d9221"
            ],
            [
             1,
             "#276419"
            ]
           ]
          },
          "xaxis": {
           "gridcolor": "white",
           "linecolor": "white",
           "ticks": "",
           "title": {
            "standoff": 15
           },
           "zerolinecolor": "white",
           "automargin": true,
           "zerolinewidth": 2
          },
          "yaxis": {
           "gridcolor": "white",
           "linecolor": "white",
           "ticks": "",
           "title": {
            "standoff": 15
           },
           "zerolinecolor": "white",
           "automargin": true,
           "zerolinewidth": 2
          },
          "scene": {
           "xaxis": {
            "backgroundcolor": "#E5ECF6",
            "gridcolor": "white",
            "linecolor": "white",
            "showbackground": true,
            "ticks": "",
            "zerolinecolor": "white",
            "gridwidth": 2
           },
           "yaxis": {
            "backgroundcolor": "#E5ECF6",
            "gridcolor": "white",
            "linecolor": "white",
            "showbackground": true,
            "ticks": "",
            "zerolinecolor": "white",
            "gridwidth": 2
           },
           "zaxis": {
            "backgroundcolor": "#E5ECF6",
            "gridcolor": "white",
            "linecolor": "white",
            "showbackground": true,
            "ticks": "",
            "zerolinecolor": "white",
            "gridwidth": 2
           }
          },
          "shapedefaults": {
           "line": {
            "color": "#2a3f5f"
           }
          },
          "annotationdefaults": {
           "arrowcolor": "#2a3f5f",
           "arrowhead": 0,
           "arrowwidth": 1
          },
          "geo": {
           "bgcolor": "white",
           "landcolor": "#E5ECF6",
           "subunitcolor": "white",
           "showland": true,
           "showlakes": true,
           "lakecolor": "white"
          },
          "title": {
           "x": 0.05
          },
          "mapbox": {
           "style": "light"
          }
         }
        },
        "xaxis": {
         "anchor": "y",
         "domain": [
          0.0,
          1.0
         ],
         "title": {
          "text": "input"
         }
        },
        "yaxis": {
         "anchor": "x",
         "domain": [
          0.0,
          1.0
         ],
         "title": {
          "text": "output"
         }
        },
        "legend": {
         "tracegroupgap": 0
        },
        "title": {
         "text": "Sigmoid function"
        },
        "height": 400,
        "width": 700
       },
       "config": {
        "plotlyServerURL": "https://plot.ly"
       }
      },
      "text/html": "<div>                            <div id=\"486e7938-6fc7-4929-ab62-2d24d821e1e5\" class=\"plotly-graph-div\" style=\"height:400px; width:700px;\"></div>            <script type=\"text/javascript\">                require([\"plotly\"], function(Plotly) {                    window.PLOTLYENV=window.PLOTLYENV || {};                                    if (document.getElementById(\"486e7938-6fc7-4929-ab62-2d24d821e1e5\")) {                    Plotly.newPlot(                        \"486e7938-6fc7-4929-ab62-2d24d821e1e5\",                        [{\"hovertemplate\":\"input=%{x}\\u003cbr\\u003eoutput=%{y}\\u003cextra\\u003e\\u003c\\u002fextra\\u003e\",\"legendgroup\":\"\",\"line\":{\"color\":\"#636efa\",\"dash\":\"solid\"},\"marker\":{\"symbol\":\"circle\"},\"mode\":\"lines\",\"name\":\"\",\"orientation\":\"v\",\"showlegend\":false,\"x\":[-8.230825537324677,-8.210193799603159,-7.861169389160581,-7.499600120426358,-7.494030435114819,-7.409551895639513,-7.258027354209431,-7.22056020227652,-7.175983394702959,-6.815007742054466,-6.592757308868228,-6.451806658720589,-6.266490300186188,-6.180044465761983,-6.054150502755478,-5.970346467484575,-5.88270475100965,-5.757759243178122,-5.59053652501784,-5.497986921423835,-5.480668691949865,-5.459147945264881,-5.4426616521268025,-5.429903418818088,-5.387817454552012,-5.311867289219837,-5.311739905492466,-5.243890162175385,-5.24213224376713,-5.167528057062643,-5.112892702894936,-5.089351555031993,-5.025359497555445,-4.997884821891632,-4.968041851971679,-4.927325362345705,-4.908712365438985,-4.907875027422304,-4.845018599094793,-4.772175223226787,-4.731433252027863,-4.720134009727022,-4.569301634605129,-4.555597214748369,-4.520766038156409,-4.506554338793419,-4.503025287222009,-4.3433644793889705,-4.340107055954137,-4.320273338925251,-4.299498774887034,-4.287393957099009,-4.264522013282967,-4.228902151170248,-4.222617327926656,-4.206417296722528,-4.099373416318262,-4.08863714940534,-3.9661685026026525,-3.8626489102144674,-3.8402995800775632,-3.77601592059004,-3.7543130130462083,-3.737021849181554,-3.702854599595345,-3.6960634302848026,-3.681133254009694,-3.6749626109916202,-3.612591961539185,-3.6017065555469303,-3.594812680927695,-3.587960747336089,-3.5817271780576814,-3.552949167209534,-3.5375150971094573,-3.5126310117741824,-3.438719834516445,-3.428045453636418,-3.422774549456669,-3.386862197995727,-3.36537392517064,-3.335930608898055,-3.281902174982817,-3.2742082414008378,-3.254043806524007,-3.2397818193242753,-3.1295942754637665,-3.046871545853331,-2.988401456844006,-2.970394284575256,-2.9617622837401205,-2.9466489411030676,-2.9278370420680826,-2.926539858442991,-2.91851167369987,-2.8889596446613517,-2.8875090685810934,-2.85159563947119,-2.8419210704041227,-2.8331981730749143,-2.7838238438333973,-2.748838881296153,-2.7221533268026965,-2.7155912783318623,-2.7093370681694653,-2.6972457739032523,-2.668654997103265,-2.6576258590593813,-2.655003112921851,-2.6416775627077067,-2.63017180327137,-2.6111289018681307,-2.5231814614642007,-2.5199823147505804,-2.493175462175182,-2.4714865716244017,-2.448577906080472,-2.4285476702986157,-2.4175379965802954,-2.395123507135445,-2.3930399068480335,-2.3843327843440143,-2.3787771113378904,-2.3587837090696078,-2.350308203843735,-2.336325463154044,-2.290926514302182,-2.289111313712143,-2.2750118435972153,-2.2650731126727015,-2.217520255802108,-2.214600810959456,-2.178736200878271,-2.1558730017284784,-2.1529367655369778,-2.1465350691086966,-2.101871477053466,-2.0935678786641985,-2.090067988221564,-2.08803740455493,-2.0543684462898613,-2.0484505386933005,-2.0046170782671235,-2.0000413539948,-1.965023891145043,-1.9502657661810714,-1.9204221330535822,-1.9156458213749599,-1.8795464180917272,-1.8192805858356833,-1.7924495652286152,-1.7725273154782522,-1.772078802398783,-1.7518217977598276,-1.7352409498161019,-1.7274881462990315,-1.7123009413008785,-1.69524377552918,-1.674387491705656,-1.6671012808765955,-1.6587723213445842,-1.639795725532347,-1.6299952422476855,-1.6279717312027369,-1.6194802487091882,-1.6110270517746148,-1.5838959771610353,-1.559113234356087,-1.5402009201678544,-1.5312570430402026,-1.5309418357248323,-1.5238612777986158,-1.500229736267952,-1.4860060011447436,-1.4767667024901547,-1.4742878061200613,-1.4545803761110756,-1.448754424133564,-1.445158581102635,-1.4195788878089337,-1.4181721314416615,-1.4071882637435773,-1.4012547070038257,-1.382625099630231,-1.3634304367416443,-1.3323502878376017,-1.3322608275024752,-1.3177611193329997,-1.291252587783954,-1.2859128674780678,-1.223919517487489,-1.1860640534842568,-1.1822239101519718,-1.1761814009298204,-1.1614588392923872,-1.158301639755629,-1.1443683694693583,-1.144176434339718,-1.1340545292017832,-1.1315401829091343,-1.115384022730494,-1.1103653186129654,-1.1022700502644915,-1.0985332115293118,-1.0963913826303715,-1.074371442658589,-1.0734488236241946,-1.0464171846751467,-1.02755214651094,-0.9670253988763782,-0.957440513386546,-0.9537425024289956,-0.9457305111202405,-0.9290953181399263,-0.8984445887992447,-0.8815056810544244,-0.826787311736962,-0.757997815477342,-0.7040397822667708,-0.7021492568384484,-0.6893657126813604,-0.6456990883296252,-0.6371873037451332,-0.6282992514822066,-0.6160281919923416,-0.6139248523038927,-0.5600206650580882,-0.5573778179168404,-0.5522795251271145,-0.5455038423657078,-0.5266793181036051,-0.5036691951023846,-0.5008357411330271,-0.500476819306836,-0.42742661613942323,-0.4160543347052146,-0.41373388680600065,-0.4071793910913515,-0.4035464705121322,-0.40087690464102305,-0.40052397992844835,-0.38154430521334093,-0.332298839866394,-0.31101190308198223,-0.29642477263845973,-0.29151748892446966,-0.2839094024052503,-0.2773042240810669,-0.2686323029005637,-0.2353211557281826,-0.2304257258217031,-0.21310434845679324,-0.19384009435301985,-0.18977285251163672,-0.17783478819367304,-0.16875562392589663,-0.16648984300467698,-0.15006949509335393,-0.14025602107897733,-0.09414872213052833,-0.09135220281387776,-0.06442761203448318,0.017864333844702034,0.020811931095412,0.032747717866695926,0.03775760830078453,0.06353369834172876,0.07404351368426594,0.07426501978614877,0.0810999474079982,0.12530803282779454,0.132055016870758,0.13875761874330206,0.1429819311509642,0.14427898800866834,0.1645110470361476,0.16815404212356383,0.1769068963886634,0.1854044045136167,0.185902143384234,0.27081718647391595,0.2788853510607258,0.28251465982215657,0.2836704832718319,0.284568164121906,0.2969036647127783,0.30738886661423565,0.37003490198392514,0.3724232076115722,0.37288840822574365,0.3900000640073206,0.395468917608771,0.4055065747653668,0.4989890722490653,0.5076754150518261,0.5460044287063147,0.5587470602294766,0.5712589179067098,0.5781412164891188,0.5816300363702603,0.5837700847586405,0.5875376381900695,0.6031643621728524,0.6203810751145074,0.6562689022969501,0.668815791563281,0.6772993988515522,0.6999772533414587,0.7112258644262889,0.7138074305204924,0.719117193395504,0.7223820755437025,0.7301768486913223,0.7377832372690634,0.7507457653621092,0.7843926294570079,0.7997582021281671,0.81859938468018,0.8258918797300056,0.8279743513957432,0.858163209100638,0.8809968302144107,0.9111491768497797,0.9226485575440689,0.9311928789875792,0.9661636893524658,0.9816286355773794,1.0074674770447176,1.0269361452622638,1.042911308906833,1.0551732011938977,1.0867409250263798,1.099778146100034,1.1263557530947583,1.1492051209879792,1.1648101181966657,1.1765823523923973,1.1892283971773212,1.2006400785200217,1.2010581010365735,1.2194560781684782,1.2342158917640769,1.2347774803815517,1.241251805998548,1.2462809952989524,1.2545327404936046,1.2801259017166151,1.287026002843104,1.3129782260371827,1.3275791043291205,1.337342752804389,1.3500766766118288,1.3585168795536011,1.3662983595816864,1.4064264661369912,1.4193181588368902,1.430304520891313,1.4320534493372117,1.43630088765609,1.468269418235058,1.4735699365372068,1.4738389266244554,1.513535889467106,1.5463017205845535,1.5499255067818065,1.5614366463150162,1.5758269629064077,1.595936765895177,1.6146058321836294,1.6344514235208218,1.6451760642845576,1.6638320668122628,1.6725236918934914,1.6889898165482782,1.7604851529562189,1.76917130295879,1.7721974996017873,1.8365105015261172,1.837642942250391,1.8542647874782956,1.8566164578163282,1.8928831411921117,1.9249513032430001,1.9565858283086484,2.038330394196169,2.049601834326765,2.067962485478421,2.0867855152379797,2.102406352396615,2.113873931457954,2.1163188935758313,2.1764254157859235,2.1820305814370764,2.185193694564152,2.199266910554912,2.199875350091431,2.2476219064643583,2.2600990445342446,2.2725802442097187,2.298098068481918,2.313780392895981,2.325487331290304,2.33819876761871,2.369273703007411,2.385803290277896,2.393415935164736,2.4036726716750687,2.437224413673821,2.4468252777326347,2.4485064429917798,2.485808462912427,2.4933649065984635,2.538073150469042,2.58499987210594,2.619008272815563,2.6776293112638507,2.6845611827132387,2.688472774775282,2.7005414945214223,2.7459073520696724,2.763679500732116,2.813085254974551,2.8261199331669404,2.862091714422415,2.8756828048029703,2.902176481153035,2.9070115261586738,2.9441512781922956,2.9530150922836143,2.97683341474653,2.99214246144881,3.0630589002006694,3.0735756377061394,3.0892308966727957,3.1252655362674044,3.1519216966212564,3.1834882476609425,3.2232047103555304,3.268294361006274,3.298382353843669,3.337435313918315,3.342546343809408,3.3476329820359427,3.3492150535239156,3.383874895859446,3.4065108006134013,3.4424692755418143,3.4432871687255826,3.4749773965882134,3.5110870291814242,3.520529930490042,3.540694551552174,3.5541561855916397,3.562849406237747,3.6194750295829046,3.631900218805747,3.63753888625913,3.657950952758453,3.659195772590413,3.6798277233529673,3.750811627123632,3.7852569709118145,3.815194200271982,3.829597768764271,4.027835232602765,4.0558743770055194,4.137169361637782,4.157861520292347,4.214156652272558,4.223352362995866,4.4558487856570625,4.4792145328248365,4.520868528765673,4.530716260941877,4.561809520814874,4.592120682624494,4.768278590500329,4.832122994007793,4.937752088961727,4.9590358241082395,4.968546476384179,5.156631544499441,5.157261417244488,5.162149608599094,5.2394397650357085,5.257525062451414,5.371754051991008,5.378987054203266,5.892640217701511,5.958458539711517,6.002926289198836,6.027974767166907,6.329479818641769,6.446716061284261,6.593712727028942,6.662403006904373,6.858130354917671,7.080497730695162,8.568697690138553,9.589125190741342],\"xaxis\":\"x\",\"y\":[0.0002662454798286546,0.0002717941361318817,0.0003852744048045984,0.0005529996037486323,0.0005560865133311414,0.0006050755967894774,0.0007040004218723132,0.0007308580321684797,0.000764148943359699,0.0010959822067679017,0.0013683814958100377,0.0015751841627811003,0.0018952824887156037,0.0020660583589627783,0.0023425953360468313,0.0025468535852427527,0.002779489197247133,0.0031482376874911767,0.0037191408225967747,0.004078306026271724,0.004149254586518262,0.0042391347851998395,0.004309298013944792,0.004364387770325935,0.004551133410187221,0.004908495151541416,0.004909117384093353,0.00525194942858884,0.005261141430715514,0.00566634766619354,0.005982640156302911,0.006124276440004727,0.006526351383172123,0.006706927430854129,0.0069086949538424225,0.007193732668980587,0.007327893101175624,0.007333986574663492,0.007806057196187266,0.008390949662616533,0.008736824660291053,0.008835226837988458,0.010258860783121354,0.010398948228459546,0.010763570430810075,0.010915949477956146,0.010954117750988045,0.01282609465227269,0.012867404318153397,0.013121778237024843,0.013393539477628438,0.013554440172680187,0.01386368159349585,0.014359185636033332,0.014448406759841695,0.014680913339506729,0.0163125507694609,0.0164857273976486,0.018593612898362283,0.02057983711836633,0.02103517697302992,0.0224005191905131,0.022880744258037454,0.02327053256126241,0.02405990135536245,0.02421988142585377,0.024575248183654013,0.024723601301018656,0.026272928866243033,0.026552847223500823,0.026731621461848435,0.026910467768741377,0.027074184124966982,0.027842636172535757,0.02826345497203317,0.02895496903634353,0.031107044422918874,0.03143037908332765,0.031591235546952756,0.032708585957430085,0.03339531695073923,0.0343589179678931,0.036197296518825084,0.03646667512150782,0.037181850411140555,0.037695804177391365,0.04190289266999426,0.045352730104322087,0.0479526156871231,0.048781424230755974,0.04918352824602512,0.04989513114097529,0.050794509441509816,0.05085708886341402,0.05124601482335716,0.052702033522462687,0.05277449985664666,0.054598895167957615,0.05510043292542348,0.05555635156920097,0.058204590148605954,0.06015225930320994,0.06167872594832667,0.062059595086412546,0.06242464007114501,0.06313607239257066,0.06484848610974066,0.06552054653037162,0.06568131410081869,0.06650381494152859,0.06722167721949439,0.06842560844897204,0.07424896762225332,0.07446916408627921,0.07633799247586796,0.07788140864296571,0.07954260637887832,0.0810215376185599,0.08184507593599238,0.08354531010935083,0.08370498048118809,0.08437522857477596,0.08480543018425223,0.08637012413601454,0.08704127787554955,0.08815885267391711,0.09187721623834831,0.0920287811811517,0.09321372199784571,0.09405719564392195,0.09818816013894598,0.09844697235808574,0.10167630298021033,0.1037836872309549,0.10405711219365972,0.10465545199193733,0.10891505656179755,0.10972356300921166,0.11006591464384739,0.11026497071820958,0.11361171774568916,0.1142090393749231,0.11871901007982662,0.11919858018630633,0.12292437501038508,0.12452438198254161,0.12781450039608788,0.12834790104753238,0.13244098158198694,0.13952021934921452,0.14277266213076778,0.14522831406204462,0.14528400001280117,0.14781756339401225,0.14991843173149205,0.15090915543473346,0.15286551122625994,0.1550874767283094,0.15784008859861978,0.15881103611924755,0.15992686704136538,0.16249286015796344,0.16383101298876704,0.16410840319857503,0.16527656271914454,0.1664460697688665,0.17024442412079968,0.1737739289420868,0.17650606879769437,0.1778098398290104,0.17785592576984144,0.17889363020199228,0.182391261956919,0.18452196173058183,0.1859162865821226,0.1862917632168549,0.18929764242303168,0.19019333537297117,0.19074778357410963,0.19472760918637394,0.19494829565442653,0.19667791980132418,0.1976170838769869,0.2005877281374065,0.20368333207177458,0.20877086578842363,0.20878564373179376,0.21119102604439668,0.21564087280517008,0.21654540378215142,0.2272474239312338,0.233963615593876,0.23465256690680555,0.2357394850265658,0.23840230752168184,0.23897602302071,0.24151922616704835,0.24155438806432025,0.2434136282853682,0.2438769776168335,0.24686850342506864,0.24780278815186216,0.24931479704190146,0.25001482725664115,0.25041665104652383,0.2545726459160329,0.2547477667401643,0.2599136929798684,0.2635589467644288,0.27547380016950224,0.2773909392736287,0.27813279770251387,0.27974426072658154,0.2831082908822766,0.28937023970201625,0.29286586199153025,0.30432480442576293,0.31908111989265486,0.3309171654582131,0.33133588229487676,0.3341741884710397,0.3439593913780776,0.34588262967995875,0.34789627731716255,0.35068531524070573,0.3511644067538189,0.3635426782362228,0.3641543988726376,0.36533570362556045,0.36690817965976374,0.37129171680770257,0.3766787825641665,0.37734428663946956,0.3774286210356904,0.3947409990015141,0.3974612976285529,0.39801714399002847,0.3995886427030567,0.4004605612467763,0.4011016723691481,0.4011864545916387,0.40575448348864235,0.4176813853626395,0.4228677640398649,0.42643170897609134,0.42763240131010155,0.4294955957116187,0.4311148049724733,0.43324289343994327,0.4414396984833678,0.4426471117458852,0.44692462241263087,0.4516911447759567,0.45269865990048586,0.45565810156361436,0.4579109326279243,0.45847341745141373,0.46255287829001984,0.46499336274633507,0.4764801901653185,0.4771778184427313,0.4838986662147034,0.5044659646915516,0.5052027949818517,0.5081861978976451,0.5094382808049891,0.5158780839134551,0.5185024259870501,0.5185577264553038,0.5202638814334234,0.5312860808109996,0.5329658617949418,0.5346338534245777,0.5356847091403792,0.5360073067079052,0.5410352556918278,0.5419397338407704,0.544111740456454,0.5462187801673247,0.5463421487867007,0.5672935120434961,0.56927293174438,0.5701626181738,0.5704458611553522,0.5706658125954729,0.573685418009283,0.5762477854757222,0.5914674119556536,0.5920443807968385,0.5921567348796805,0.5962827147052471,0.5975985337256512,0.6000099519564598,0.6222217300334132,0.6242613795923897,0.6332080920740525,0.6361625846602225,0.6390536131104165,0.6406395882167467,0.6414423913732472,0.6419344406411849,0.6427999663231536,0.6463799282940828,0.6503052131970231,0.6584217517491712,0.6612379444304418,0.6631356849276712,0.6681827289218493,0.6706719744312469,0.6712419162817215,0.6724125874204832,0.6731313505082415,0.6748440796105327,0.6765109211942005,0.6793411759957786,0.6866260531051204,0.6899227558424584,0.6939389474936964,0.6954855893645923,0.6959264467973348,0.7022767532875233,0.707028746209287,0.7132352623082208,0.7155814600511952,0.7173172320990024,0.7243541796912698,0.727431253683181,0.7325242380325513,0.7363214726732618,0.7394113543626954,0.7417670577824069,0.7477675198897948,0.7502185345487008,0.7551657393685901,0.7593656991034328,0.7622056394050477,0.7643327452929156,0.766603035275381,0.768638630337773,0.76871296030752,0.7719678151232172,0.7745556020223436,0.7746536510689784,0.7757818340558463,0.7766554198016954,0.7780835139152878,0.7824712069185884,0.7836433839330423,0.7880110941189837,0.7904399083038584,0.7920526184731949,0.7941421636039888,0.7955185460475093,0.7967814394933771,0.8032016916282632,0.8052315029707235,0.8069487592143971,0.8072210653368024,0.8078811690092003,0.8127942036111454,0.8135993924773887,0.813640182841203,0.8195846344188557,0.8243789433905252,0.8249029724405683,0.826559405729027,0.8286127019965309,0.8314497257498767,0.8340498640460836,0.8367785270027287,0.838238015426755,0.8407517419801047,0.8419120048159083,0.8440912647252619,0.853270411767612,0.8543545842237291,0.8547307387768965,0.8625354876690591,0.8626697038069359,0.8646270607303898,0.8649020809872506,0.8690839151137081,0.8726895516914683,0.8761629855003207,0.8847631487468643,0.8859073801115007,0.8877500837335819,0.889612150731601,0.8911368436054864,0.8922443562703168,0.8924792002628431,0.8981124396381787,0.8986242053091305,0.8989119978231376,0.9001836598879673,0.9002383167190365,0.9044452081521096,0.9055181051518938,0.9065805438498872,0.9087193992984217,0.9100119127677873,0.9109660061319647,0.9119916202729093,0.9144540610266934,0.9157383074929778,0.9163238557960539,0.9171069346879203,0.919622162952635,0.9203289793235113,0.920452161252408,0.9231409327185884,0.9236753642737222,0.9267681608376198,0.9298899354405747,0.9320749458421336,0.9356936239800946,0.9361094644996429,0.9363430123872925,0.9370585887355983,0.9396817958712778,0.940681283413894,0.9433788443170362,0.9440710838038476,0.9459403637490736,0.9466311764249534,0.9479539233401045,0.9481919553099801,0.949986332434345,0.9504057968141608,0.9515164963552665,0.952217884469802,0.9553429800274382,0.9557895107590733,0.9564463379517851,0.9579229762361554,0.9589843752576396,0.9602081607456348,0.9616982339909547,0.9633249591286519,0.9643732742413973,0.9656909707470912,0.9658599065173614,0.9660272392286123,0.9660791223557522,0.9671967675332973,0.9679073954348625,0.9690057630083345,0.9690303178598412,0.9699673531647935,0.971001587868519,0.9712662971085343,0.9718237367252537,0.9721900160929514,0.9724240888160605,0.9739025853461886,0.9742165354941466,0.9743577932728207,0.9748628742578181,0.9748933608546814,0.9753934371103025,0.9770408435877304,0.977800957474953,0.9784415711057024,0.9787433105426938,0.9824988956075806,0.982974557208518,0.9842829819527643,0.9845999023872122,0.9854306199293633,0.9855620561478475,0.9885227947443824,0.9887848867131614,0.9892375208053704,0.9893418625963039,0.9896647873734814,0.9899702645649794,0.991576566056147,0.9920934281731755,0.9928803534817656,0.9930292398057593,0.9930947663951865,0.9942719268908559,0.9942755130647504,0.9943032681527817,0.9947247487979046,0.9948188058868047,0.9953755103850851,0.9954086856311373,0.9972479139677611,0.997422767419793,0.9975345840646621,0.9975954253156404,0.9982202123010507,0.9984167894918212,0.9986329234699448,0.9987235599188392,0.9989502263190494,0.9991593530056478,0.9998100762024871,0.9999315353947344],\"yaxis\":\"y\",\"type\":\"scatter\"}],                        {\"template\":{\"data\":{\"histogram2dcontour\":[{\"type\":\"histogram2dcontour\",\"colorbar\":{\"outlinewidth\":0,\"ticks\":\"\"},\"colorscale\":[[0.0,\"#0d0887\"],[0.1111111111111111,\"#46039f\"],[0.2222222222222222,\"#7201a8\"],[0.3333333333333333,\"#9c179e\"],[0.4444444444444444,\"#bd3786\"],[0.5555555555555556,\"#d8576b\"],[0.6666666666666666,\"#ed7953\"],[0.7777777777777778,\"#fb9f3a\"],[0.8888888888888888,\"#fdca26\"],[1.0,\"#f0f921\"]]}],\"choropleth\":[{\"type\":\"choropleth\",\"colorbar\":{\"outlinewidth\":0,\"ticks\":\"\"}}],\"histogram2d\":[{\"type\":\"histogram2d\",\"colorbar\":{\"outlinewidth\":0,\"ticks\":\"\"},\"colorscale\":[[0.0,\"#0d0887\"],[0.1111111111111111,\"#46039f\"],[0.2222222222222222,\"#7201a8\"],[0.3333333333333333,\"#9c179e\"],[0.4444444444444444,\"#bd3786\"],[0.5555555555555556,\"#d8576b\"],[0.6666666666666666,\"#ed7953\"],[0.7777777777777778,\"#fb9f3a\"],[0.8888888888888888,\"#fdca26\"],[1.0,\"#f0f921\"]]}],\"heatmap\":[{\"type\":\"heatmap\",\"colorbar\":{\"outlinewidth\":0,\"ticks\":\"\"},\"colorscale\":[[0.0,\"#0d0887\"],[0.1111111111111111,\"#46039f\"],[0.2222222222222222,\"#7201a8\"],[0.3333333333333333,\"#9c179e\"],[0.4444444444444444,\"#bd3786\"],[0.5555555555555556,\"#d8576b\"],[0.6666666666666666,\"#ed7953\"],[0.7777777777777778,\"#fb9f3a\"],[0.8888888888888888,\"#fdca26\"],[1.0,\"#f0f921\"]]}],\"heatmapgl\":[{\"type\":\"heatmapgl\",\"colorbar\":{\"outlinewidth\":0,\"ticks\":\"\"},\"colorscale\":[[0.0,\"#0d0887\"],[0.1111111111111111,\"#46039f\"],[0.2222222222222222,\"#7201a8\"],[0.3333333333333333,\"#9c179e\"],[0.4444444444444444,\"#bd3786\"],[0.5555555555555556,\"#d8576b\"],[0.6666666666666666,\"#ed7953\"],[0.7777777777777778,\"#fb9f3a\"],[0.8888888888888888,\"#fdca26\"],[1.0,\"#f0f921\"]]}],\"contourcarpet\":[{\"type\":\"contourcarpet\",\"colorbar\":{\"outlinewidth\":0,\"ticks\":\"\"}}],\"contour\":[{\"type\":\"contour\",\"colorbar\":{\"outlinewidth\":0,\"ticks\":\"\"},\"colorscale\":[[0.0,\"#0d0887\"],[0.1111111111111111,\"#46039f\"],[0.2222222222222222,\"#7201a8\"],[0.3333333333333333,\"#9c179e\"],[0.4444444444444444,\"#bd3786\"],[0.5555555555555556,\"#d8576b\"],[0.6666666666666666,\"#ed7953\"],[0.7777777777777778,\"#fb9f3a\"],[0.8888888888888888,\"#fdca26\"],[1.0,\"#f0f921\"]]}],\"surface\":[{\"type\":\"surface\",\"colorbar\":{\"outlinewidth\":0,\"ticks\":\"\"},\"colorscale\":[[0.0,\"#0d0887\"],[0.1111111111111111,\"#46039f\"],[0.2222222222222222,\"#7201a8\"],[0.3333333333333333,\"#9c179e\"],[0.4444444444444444,\"#bd3786\"],[0.5555555555555556,\"#d8576b\"],[0.6666666666666666,\"#ed7953\"],[0.7777777777777778,\"#fb9f3a\"],[0.8888888888888888,\"#fdca26\"],[1.0,\"#f0f921\"]]}],\"mesh3d\":[{\"type\":\"mesh3d\",\"colorbar\":{\"outlinewidth\":0,\"ticks\":\"\"}}],\"scatter\":[{\"fillpattern\":{\"fillmode\":\"overlay\",\"size\":10,\"solidity\":0.2},\"type\":\"scatter\"}],\"parcoords\":[{\"type\":\"parcoords\",\"line\":{\"colorbar\":{\"outlinewidth\":0,\"ticks\":\"\"}}}],\"scatterpolargl\":[{\"type\":\"scatterpolargl\",\"marker\":{\"colorbar\":{\"outlinewidth\":0,\"ticks\":\"\"}}}],\"bar\":[{\"error_x\":{\"color\":\"#2a3f5f\"},\"error_y\":{\"color\":\"#2a3f5f\"},\"marker\":{\"line\":{\"color\":\"#E5ECF6\",\"width\":0.5},\"pattern\":{\"fillmode\":\"overlay\",\"size\":10,\"solidity\":0.2}},\"type\":\"bar\"}],\"scattergeo\":[{\"type\":\"scattergeo\",\"marker\":{\"colorbar\":{\"outlinewidth\":0,\"ticks\":\"\"}}}],\"scatterpolar\":[{\"type\":\"scatterpolar\",\"marker\":{\"colorbar\":{\"outlinewidth\":0,\"ticks\":\"\"}}}],\"histogram\":[{\"marker\":{\"pattern\":{\"fillmode\":\"overlay\",\"size\":10,\"solidity\":0.2}},\"type\":\"histogram\"}],\"scattergl\":[{\"type\":\"scattergl\",\"marker\":{\"colorbar\":{\"outlinewidth\":0,\"ticks\":\"\"}}}],\"scatter3d\":[{\"type\":\"scatter3d\",\"line\":{\"colorbar\":{\"outlinewidth\":0,\"ticks\":\"\"}},\"marker\":{\"colorbar\":{\"outlinewidth\":0,\"ticks\":\"\"}}}],\"scattermapbox\":[{\"type\":\"scattermapbox\",\"marker\":{\"colorbar\":{\"outlinewidth\":0,\"ticks\":\"\"}}}],\"scatterternary\":[{\"type\":\"scatterternary\",\"marker\":{\"colorbar\":{\"outlinewidth\":0,\"ticks\":\"\"}}}],\"scattercarpet\":[{\"type\":\"scattercarpet\",\"marker\":{\"colorbar\":{\"outlinewidth\":0,\"ticks\":\"\"}}}],\"carpet\":[{\"aaxis\":{\"endlinecolor\":\"#2a3f5f\",\"gridcolor\":\"white\",\"linecolor\":\"white\",\"minorgridcolor\":\"white\",\"startlinecolor\":\"#2a3f5f\"},\"baxis\":{\"endlinecolor\":\"#2a3f5f\",\"gridcolor\":\"white\",\"linecolor\":\"white\",\"minorgridcolor\":\"white\",\"startlinecolor\":\"#2a3f5f\"},\"type\":\"carpet\"}],\"table\":[{\"cells\":{\"fill\":{\"color\":\"#EBF0F8\"},\"line\":{\"color\":\"white\"}},\"header\":{\"fill\":{\"color\":\"#C8D4E3\"},\"line\":{\"color\":\"white\"}},\"type\":\"table\"}],\"barpolar\":[{\"marker\":{\"line\":{\"color\":\"#E5ECF6\",\"width\":0.5},\"pattern\":{\"fillmode\":\"overlay\",\"size\":10,\"solidity\":0.2}},\"type\":\"barpolar\"}],\"pie\":[{\"automargin\":true,\"type\":\"pie\"}]},\"layout\":{\"autotypenumbers\":\"strict\",\"colorway\":[\"#636efa\",\"#EF553B\",\"#00cc96\",\"#ab63fa\",\"#FFA15A\",\"#19d3f3\",\"#FF6692\",\"#B6E880\",\"#FF97FF\",\"#FECB52\"],\"font\":{\"color\":\"#2a3f5f\"},\"hovermode\":\"closest\",\"hoverlabel\":{\"align\":\"left\"},\"paper_bgcolor\":\"white\",\"plot_bgcolor\":\"#E5ECF6\",\"polar\":{\"bgcolor\":\"#E5ECF6\",\"angularaxis\":{\"gridcolor\":\"white\",\"linecolor\":\"white\",\"ticks\":\"\"},\"radialaxis\":{\"gridcolor\":\"white\",\"linecolor\":\"white\",\"ticks\":\"\"}},\"ternary\":{\"bgcolor\":\"#E5ECF6\",\"aaxis\":{\"gridcolor\":\"white\",\"linecolor\":\"white\",\"ticks\":\"\"},\"baxis\":{\"gridcolor\":\"white\",\"linecolor\":\"white\",\"ticks\":\"\"},\"caxis\":{\"gridcolor\":\"white\",\"linecolor\":\"white\",\"ticks\":\"\"}},\"coloraxis\":{\"colorbar\":{\"outlinewidth\":0,\"ticks\":\"\"}},\"colorscale\":{\"sequential\":[[0.0,\"#0d0887\"],[0.1111111111111111,\"#46039f\"],[0.2222222222222222,\"#7201a8\"],[0.3333333333333333,\"#9c179e\"],[0.4444444444444444,\"#bd3786\"],[0.5555555555555556,\"#d8576b\"],[0.6666666666666666,\"#ed7953\"],[0.7777777777777778,\"#fb9f3a\"],[0.8888888888888888,\"#fdca26\"],[1.0,\"#f0f921\"]],\"sequentialminus\":[[0.0,\"#0d0887\"],[0.1111111111111111,\"#46039f\"],[0.2222222222222222,\"#7201a8\"],[0.3333333333333333,\"#9c179e\"],[0.4444444444444444,\"#bd3786\"],[0.5555555555555556,\"#d8576b\"],[0.6666666666666666,\"#ed7953\"],[0.7777777777777778,\"#fb9f3a\"],[0.8888888888888888,\"#fdca26\"],[1.0,\"#f0f921\"]],\"diverging\":[[0,\"#8e0152\"],[0.1,\"#c51b7d\"],[0.2,\"#de77ae\"],[0.3,\"#f1b6da\"],[0.4,\"#fde0ef\"],[0.5,\"#f7f7f7\"],[0.6,\"#e6f5d0\"],[0.7,\"#b8e186\"],[0.8,\"#7fbc41\"],[0.9,\"#4d9221\"],[1,\"#276419\"]]},\"xaxis\":{\"gridcolor\":\"white\",\"linecolor\":\"white\",\"ticks\":\"\",\"title\":{\"standoff\":15},\"zerolinecolor\":\"white\",\"automargin\":true,\"zerolinewidth\":2},\"yaxis\":{\"gridcolor\":\"white\",\"linecolor\":\"white\",\"ticks\":\"\",\"title\":{\"standoff\":15},\"zerolinecolor\":\"white\",\"automargin\":true,\"zerolinewidth\":2},\"scene\":{\"xaxis\":{\"backgroundcolor\":\"#E5ECF6\",\"gridcolor\":\"white\",\"linecolor\":\"white\",\"showbackground\":true,\"ticks\":\"\",\"zerolinecolor\":\"white\",\"gridwidth\":2},\"yaxis\":{\"backgroundcolor\":\"#E5ECF6\",\"gridcolor\":\"white\",\"linecolor\":\"white\",\"showbackground\":true,\"ticks\":\"\",\"zerolinecolor\":\"white\",\"gridwidth\":2},\"zaxis\":{\"backgroundcolor\":\"#E5ECF6\",\"gridcolor\":\"white\",\"linecolor\":\"white\",\"showbackground\":true,\"ticks\":\"\",\"zerolinecolor\":\"white\",\"gridwidth\":2}},\"shapedefaults\":{\"line\":{\"color\":\"#2a3f5f\"}},\"annotationdefaults\":{\"arrowcolor\":\"#2a3f5f\",\"arrowhead\":0,\"arrowwidth\":1},\"geo\":{\"bgcolor\":\"white\",\"landcolor\":\"#E5ECF6\",\"subunitcolor\":\"white\",\"showland\":true,\"showlakes\":true,\"lakecolor\":\"white\"},\"title\":{\"x\":0.05},\"mapbox\":{\"style\":\"light\"}}},\"xaxis\":{\"anchor\":\"y\",\"domain\":[0.0,1.0],\"title\":{\"text\":\"input\"}},\"yaxis\":{\"anchor\":\"x\",\"domain\":[0.0,1.0],\"title\":{\"text\":\"output\"}},\"legend\":{\"tracegroupgap\":0},\"title\":{\"text\":\"Sigmoid function\"},\"height\":400,\"width\":700},                        {\"responsive\": true}                    ).then(function(){\n                            \nvar gd = document.getElementById('486e7938-6fc7-4929-ab62-2d24d821e1e5');\nvar x = new MutationObserver(function (mutations, observer) {{\n        var display = window.getComputedStyle(gd).display;\n        if (!display || display === 'none') {{\n            console.log([gd, 'removed!']);\n            Plotly.purge(gd);\n            observer.disconnect();\n        }}\n}});\n\n// Listen for the removal of the full notebook cells\nvar notebookContainer = gd.closest('#notebook-container');\nif (notebookContainer) {{\n    x.observe(notebookContainer, {childList: true});\n}}\n\n// Listen for the clearing of the current output cell\nvar outputEl = gd.closest('.output');\nif (outputEl) {{\n    x.observe(outputEl, {childList: true});\n}}\n\n                        })                };                });            </script>        </div>"
     },
     "metadata": {},
     "output_type": "display_data"
    }
   ],
   "source": [
    "def sigmoid(x):\n",
    "    return 1 / (1 + np.exp(-x))\n",
    "\n",
    "\n",
    "for i in [-5., -3., -1., 0., 1., 3., 5.]:\n",
    "    print(sigmoid(i))\n",
    "\n",
    "data = 3 * np.random.randn(500)\n",
    "data = sorted(data)\n",
    "data\n",
    "\n",
    "sigmoid_data = [sigmoid(x) for x in sorted(data)]\n",
    "sigmoid_data\n",
    "\n",
    "df = pd.DataFrame({'input': data, 'output': sigmoid_data})\n",
    "df.head()\n",
    "\n",
    "px.line(df, x='input', y='output', width=700, height=400, title='Sigmoid function')"
   ],
   "metadata": {
    "collapsed": false,
    "ExecuteTime": {
     "end_time": "2024-01-12T14:54:24.570451200Z",
     "start_time": "2024-01-12T14:54:24.224916Z"
    }
   },
   "id": "9c61cdcd65c65daa"
  },
  {
   "cell_type": "code",
   "execution_count": 12,
   "outputs": [
    {
     "data": {
      "application/vnd.plotly.v1+json": {
       "data": [
        {
         "hovertemplate": "input=%{x}<br>output=%{y}<extra></extra>",
         "legendgroup": "",
         "line": {
          "color": "#636efa",
          "dash": "solid"
         },
         "marker": {
          "symbol": "circle"
         },
         "mode": "lines",
         "name": "",
         "orientation": "v",
         "showlegend": false,
         "x": [
          -5.927491783722723,
          -4.750603806460165,
          -3.899239519401588,
          -3.854147181739476,
          -3.231722430655098,
          -3.2207414860206223,
          -2.730304713228285,
          -2.6341566888789916,
          -2.5539808253777116,
          -2.427827667507437,
          -2.408724261934784,
          -2.3519480999060614,
          -2.039647378985213,
          -2.0083637857515466,
          -1.8780281404316408,
          -1.7960418672757377,
          -1.7931681528433092,
          -1.7832976198252695,
          -1.714038861157649,
          -1.680768725531306,
          -1.5609425382375992,
          -1.4347649204568418,
          -1.4284543853226537,
          -1.3033668736538542,
          -1.2305987555627607,
          -1.16333557529677,
          -1.1499985328724538,
          -1.0878303604899968,
          -1.0679879125646279,
          -1.0506573125574097,
          -1.0209992575620574,
          -1.0027638720092094,
          -0.9619030511668624,
          -0.956233294898596,
          -0.7766404723136113,
          -0.5818823825062256,
          -0.36969022398990187,
          -0.3392800857351031,
          -0.32267469285473416,
          -0.2737300045944426,
          -0.2733574743327474,
          -0.2153131865309457,
          -0.21418467525801313,
          -0.1555801684305713,
          -0.10118239225554987,
          -0.007782066091633782,
          0.020108151277008914,
          0.07975288904682896,
          0.08005674551597378,
          0.11924586249350654,
          0.1446561819461128,
          0.27120274909682146,
          0.2988966496889469,
          0.35625819040044604,
          0.3960236117388553,
          0.4183618741106523,
          0.4978709629763771,
          0.532637023804714,
          0.5376609608612409,
          0.5805278585075774,
          0.6045513965995996,
          0.7289146957346275,
          0.7349718289887403,
          0.7716841553362954,
          0.908244683389652,
          0.9117472755852133,
          0.931117294652364,
          1.007272904439529,
          1.017939038170394,
          1.0992325710212927,
          1.144261660045454,
          1.1652540049146252,
          1.2112267754742787,
          1.2768079872783822,
          1.3096762505294335,
          1.443015287262724,
          1.5439117703293181,
          1.5747210998060766,
          1.603467046025641,
          1.767002055317305,
          1.7679936627878312,
          1.7793400289577326,
          1.9322377992622755,
          1.9645244439727456,
          1.9723071318713827,
          2.0981158807049543,
          2.183545759140923,
          2.4339366125447643,
          2.5618387925495947,
          2.623135693432774,
          2.95311861401027,
          3.0351896425908853,
          3.1213776695515323,
          3.252089475935753,
          3.5855911727442633,
          3.6371618729828463,
          3.769478214281677,
          4.1480200334029735,
          4.338797171604746,
          4.641498658941571
         ],
         "xaxis": "x",
         "y": [
          -0.999985793962248,
          -0.9998504881929094,
          -0.9991796193619887,
          -0.9991022295706178,
          -0.9968860270139449,
          -0.9968169918281874,
          -0.9915340597993307,
          -0.989748233663913,
          -0.9879759281520364,
          -0.9845517916080787,
          -0.9839549712280438,
          -0.9820428718870644,
          -0.9667242186189413,
          -0.96461374854054,
          -0.9543163959136557,
          -0.9463945753090778,
          -0.946093922834519,
          -0.9450487151662413,
          -0.9371412064828205,
          -0.9329612389225858,
          -0.9155730209081945,
          -0.8926389388497792,
          -0.8913494182992645,
          -0.8625873936809014,
          -0.8427529131498778,
          -0.8221239507882676,
          -0.8177535919422322,
          -0.7960848875966835,
          -0.7887019600058095,
          -0.7820617755149075,
          -0.770273226026699,
          -0.7627524701416689,
          -0.7451245253921475,
          -0.7425920057329968,
          -0.6507741942508384,
          -0.5240322381789464,
          -0.35372072483248623,
          -0.3268345337421445,
          -0.3119233869113885,
          -0.26709218640412574,
          -0.26674619738429545,
          -0.2120464612238048,
          -0.21096843448439653,
          -0.15433692180178088,
          -0.10083850285376693,
          -0.007781909000031474,
          0.020105441553732294,
          0.07958422810593184,
          0.07988615274425552,
          0.11868385038295051,
          0.14365555979841788,
          0.2647436405634011,
          0.29030257156276906,
          0.3419138987325572,
          0.37654148008190447,
          0.39554950234616526,
          0.46044113447235413,
          0.48739426385530266,
          0.49121536011608197,
          0.5230489823989616,
          0.5402803202855966,
          0.622400922707494,
          0.6260976443421508,
          0.6479076901908164,
          0.7202886908672458,
          0.7219698347022563,
          0.7311143901508814,
          0.7646317106323102,
          0.7690257619489475,
          0.8002231908654376,
          0.8158441491747569,
          0.8227447573609421,
          0.8370471042549471,
          0.855632127515304,
          0.8641934722366592,
          0.8943030845891791,
          0.9127753488253297,
          0.9177734745674676,
          0.9221887742764392,
          0.9432799144015682,
          0.9433891101813255,
          0.9446241304952521,
          0.9589138998924629,
          0.9614335775176698,
          0.9620179184973725,
          0.9703420366465353,
          0.9749417611270045,
          0.9847379562213361,
          0.9881623107697908,
          0.9895209526341716,
          0.9945699598983615,
          0.9953900567708737,
          0.9961185666011352,
          0.9970101373263311,
          0.9984643526854018,
          0.9986147427742124,
          0.9989366607206771,
          0.9995011186958855,
          0.9996593372280423,
          0.9998140333357876
         ],
         "yaxis": "y",
         "type": "scatter"
        }
       ],
       "layout": {
        "template": {
         "data": {
          "histogram2dcontour": [
           {
            "type": "histogram2dcontour",
            "colorbar": {
             "outlinewidth": 0,
             "ticks": ""
            },
            "colorscale": [
             [
              0.0,
              "#0d0887"
             ],
             [
              0.1111111111111111,
              "#46039f"
             ],
             [
              0.2222222222222222,
              "#7201a8"
             ],
             [
              0.3333333333333333,
              "#9c179e"
             ],
             [
              0.4444444444444444,
              "#bd3786"
             ],
             [
              0.5555555555555556,
              "#d8576b"
             ],
             [
              0.6666666666666666,
              "#ed7953"
             ],
             [
              0.7777777777777778,
              "#fb9f3a"
             ],
             [
              0.8888888888888888,
              "#fdca26"
             ],
             [
              1.0,
              "#f0f921"
             ]
            ]
           }
          ],
          "choropleth": [
           {
            "type": "choropleth",
            "colorbar": {
             "outlinewidth": 0,
             "ticks": ""
            }
           }
          ],
          "histogram2d": [
           {
            "type": "histogram2d",
            "colorbar": {
             "outlinewidth": 0,
             "ticks": ""
            },
            "colorscale": [
             [
              0.0,
              "#0d0887"
             ],
             [
              0.1111111111111111,
              "#46039f"
             ],
             [
              0.2222222222222222,
              "#7201a8"
             ],
             [
              0.3333333333333333,
              "#9c179e"
             ],
             [
              0.4444444444444444,
              "#bd3786"
             ],
             [
              0.5555555555555556,
              "#d8576b"
             ],
             [
              0.6666666666666666,
              "#ed7953"
             ],
             [
              0.7777777777777778,
              "#fb9f3a"
             ],
             [
              0.8888888888888888,
              "#fdca26"
             ],
             [
              1.0,
              "#f0f921"
             ]
            ]
           }
          ],
          "heatmap": [
           {
            "type": "heatmap",
            "colorbar": {
             "outlinewidth": 0,
             "ticks": ""
            },
            "colorscale": [
             [
              0.0,
              "#0d0887"
             ],
             [
              0.1111111111111111,
              "#46039f"
             ],
             [
              0.2222222222222222,
              "#7201a8"
             ],
             [
              0.3333333333333333,
              "#9c179e"
             ],
             [
              0.4444444444444444,
              "#bd3786"
             ],
             [
              0.5555555555555556,
              "#d8576b"
             ],
             [
              0.6666666666666666,
              "#ed7953"
             ],
             [
              0.7777777777777778,
              "#fb9f3a"
             ],
             [
              0.8888888888888888,
              "#fdca26"
             ],
             [
              1.0,
              "#f0f921"
             ]
            ]
           }
          ],
          "heatmapgl": [
           {
            "type": "heatmapgl",
            "colorbar": {
             "outlinewidth": 0,
             "ticks": ""
            },
            "colorscale": [
             [
              0.0,
              "#0d0887"
             ],
             [
              0.1111111111111111,
              "#46039f"
             ],
             [
              0.2222222222222222,
              "#7201a8"
             ],
             [
              0.3333333333333333,
              "#9c179e"
             ],
             [
              0.4444444444444444,
              "#bd3786"
             ],
             [
              0.5555555555555556,
              "#d8576b"
             ],
             [
              0.6666666666666666,
              "#ed7953"
             ],
             [
              0.7777777777777778,
              "#fb9f3a"
             ],
             [
              0.8888888888888888,
              "#fdca26"
             ],
             [
              1.0,
              "#f0f921"
             ]
            ]
           }
          ],
          "contourcarpet": [
           {
            "type": "contourcarpet",
            "colorbar": {
             "outlinewidth": 0,
             "ticks": ""
            }
           }
          ],
          "contour": [
           {
            "type": "contour",
            "colorbar": {
             "outlinewidth": 0,
             "ticks": ""
            },
            "colorscale": [
             [
              0.0,
              "#0d0887"
             ],
             [
              0.1111111111111111,
              "#46039f"
             ],
             [
              0.2222222222222222,
              "#7201a8"
             ],
             [
              0.3333333333333333,
              "#9c179e"
             ],
             [
              0.4444444444444444,
              "#bd3786"
             ],
             [
              0.5555555555555556,
              "#d8576b"
             ],
             [
              0.6666666666666666,
              "#ed7953"
             ],
             [
              0.7777777777777778,
              "#fb9f3a"
             ],
             [
              0.8888888888888888,
              "#fdca26"
             ],
             [
              1.0,
              "#f0f921"
             ]
            ]
           }
          ],
          "surface": [
           {
            "type": "surface",
            "colorbar": {
             "outlinewidth": 0,
             "ticks": ""
            },
            "colorscale": [
             [
              0.0,
              "#0d0887"
             ],
             [
              0.1111111111111111,
              "#46039f"
             ],
             [
              0.2222222222222222,
              "#7201a8"
             ],
             [
              0.3333333333333333,
              "#9c179e"
             ],
             [
              0.4444444444444444,
              "#bd3786"
             ],
             [
              0.5555555555555556,
              "#d8576b"
             ],
             [
              0.6666666666666666,
              "#ed7953"
             ],
             [
              0.7777777777777778,
              "#fb9f3a"
             ],
             [
              0.8888888888888888,
              "#fdca26"
             ],
             [
              1.0,
              "#f0f921"
             ]
            ]
           }
          ],
          "mesh3d": [
           {
            "type": "mesh3d",
            "colorbar": {
             "outlinewidth": 0,
             "ticks": ""
            }
           }
          ],
          "scatter": [
           {
            "fillpattern": {
             "fillmode": "overlay",
             "size": 10,
             "solidity": 0.2
            },
            "type": "scatter"
           }
          ],
          "parcoords": [
           {
            "type": "parcoords",
            "line": {
             "colorbar": {
              "outlinewidth": 0,
              "ticks": ""
             }
            }
           }
          ],
          "scatterpolargl": [
           {
            "type": "scatterpolargl",
            "marker": {
             "colorbar": {
              "outlinewidth": 0,
              "ticks": ""
             }
            }
           }
          ],
          "bar": [
           {
            "error_x": {
             "color": "#2a3f5f"
            },
            "error_y": {
             "color": "#2a3f5f"
            },
            "marker": {
             "line": {
              "color": "#E5ECF6",
              "width": 0.5
             },
             "pattern": {
              "fillmode": "overlay",
              "size": 10,
              "solidity": 0.2
             }
            },
            "type": "bar"
           }
          ],
          "scattergeo": [
           {
            "type": "scattergeo",
            "marker": {
             "colorbar": {
              "outlinewidth": 0,
              "ticks": ""
             }
            }
           }
          ],
          "scatterpolar": [
           {
            "type": "scatterpolar",
            "marker": {
             "colorbar": {
              "outlinewidth": 0,
              "ticks": ""
             }
            }
           }
          ],
          "histogram": [
           {
            "marker": {
             "pattern": {
              "fillmode": "overlay",
              "size": 10,
              "solidity": 0.2
             }
            },
            "type": "histogram"
           }
          ],
          "scattergl": [
           {
            "type": "scattergl",
            "marker": {
             "colorbar": {
              "outlinewidth": 0,
              "ticks": ""
             }
            }
           }
          ],
          "scatter3d": [
           {
            "type": "scatter3d",
            "line": {
             "colorbar": {
              "outlinewidth": 0,
              "ticks": ""
             }
            },
            "marker": {
             "colorbar": {
              "outlinewidth": 0,
              "ticks": ""
             }
            }
           }
          ],
          "scattermapbox": [
           {
            "type": "scattermapbox",
            "marker": {
             "colorbar": {
              "outlinewidth": 0,
              "ticks": ""
             }
            }
           }
          ],
          "scatterternary": [
           {
            "type": "scatterternary",
            "marker": {
             "colorbar": {
              "outlinewidth": 0,
              "ticks": ""
             }
            }
           }
          ],
          "scattercarpet": [
           {
            "type": "scattercarpet",
            "marker": {
             "colorbar": {
              "outlinewidth": 0,
              "ticks": ""
             }
            }
           }
          ],
          "carpet": [
           {
            "aaxis": {
             "endlinecolor": "#2a3f5f",
             "gridcolor": "white",
             "linecolor": "white",
             "minorgridcolor": "white",
             "startlinecolor": "#2a3f5f"
            },
            "baxis": {
             "endlinecolor": "#2a3f5f",
             "gridcolor": "white",
             "linecolor": "white",
             "minorgridcolor": "white",
             "startlinecolor": "#2a3f5f"
            },
            "type": "carpet"
           }
          ],
          "table": [
           {
            "cells": {
             "fill": {
              "color": "#EBF0F8"
             },
             "line": {
              "color": "white"
             }
            },
            "header": {
             "fill": {
              "color": "#C8D4E3"
             },
             "line": {
              "color": "white"
             }
            },
            "type": "table"
           }
          ],
          "barpolar": [
           {
            "marker": {
             "line": {
              "color": "#E5ECF6",
              "width": 0.5
             },
             "pattern": {
              "fillmode": "overlay",
              "size": 10,
              "solidity": 0.2
             }
            },
            "type": "barpolar"
           }
          ],
          "pie": [
           {
            "automargin": true,
            "type": "pie"
           }
          ]
         },
         "layout": {
          "autotypenumbers": "strict",
          "colorway": [
           "#636efa",
           "#EF553B",
           "#00cc96",
           "#ab63fa",
           "#FFA15A",
           "#19d3f3",
           "#FF6692",
           "#B6E880",
           "#FF97FF",
           "#FECB52"
          ],
          "font": {
           "color": "#2a3f5f"
          },
          "hovermode": "closest",
          "hoverlabel": {
           "align": "left"
          },
          "paper_bgcolor": "white",
          "plot_bgcolor": "#E5ECF6",
          "polar": {
           "bgcolor": "#E5ECF6",
           "angularaxis": {
            "gridcolor": "white",
            "linecolor": "white",
            "ticks": ""
           },
           "radialaxis": {
            "gridcolor": "white",
            "linecolor": "white",
            "ticks": ""
           }
          },
          "ternary": {
           "bgcolor": "#E5ECF6",
           "aaxis": {
            "gridcolor": "white",
            "linecolor": "white",
            "ticks": ""
           },
           "baxis": {
            "gridcolor": "white",
            "linecolor": "white",
            "ticks": ""
           },
           "caxis": {
            "gridcolor": "white",
            "linecolor": "white",
            "ticks": ""
           }
          },
          "coloraxis": {
           "colorbar": {
            "outlinewidth": 0,
            "ticks": ""
           }
          },
          "colorscale": {
           "sequential": [
            [
             0.0,
             "#0d0887"
            ],
            [
             0.1111111111111111,
             "#46039f"
            ],
            [
             0.2222222222222222,
             "#7201a8"
            ],
            [
             0.3333333333333333,
             "#9c179e"
            ],
            [
             0.4444444444444444,
             "#bd3786"
            ],
            [
             0.5555555555555556,
             "#d8576b"
            ],
            [
             0.6666666666666666,
             "#ed7953"
            ],
            [
             0.7777777777777778,
             "#fb9f3a"
            ],
            [
             0.8888888888888888,
             "#fdca26"
            ],
            [
             1.0,
             "#f0f921"
            ]
           ],
           "sequentialminus": [
            [
             0.0,
             "#0d0887"
            ],
            [
             0.1111111111111111,
             "#46039f"
            ],
            [
             0.2222222222222222,
             "#7201a8"
            ],
            [
             0.3333333333333333,
             "#9c179e"
            ],
            [
             0.4444444444444444,
             "#bd3786"
            ],
            [
             0.5555555555555556,
             "#d8576b"
            ],
            [
             0.6666666666666666,
             "#ed7953"
            ],
            [
             0.7777777777777778,
             "#fb9f3a"
            ],
            [
             0.8888888888888888,
             "#fdca26"
            ],
            [
             1.0,
             "#f0f921"
            ]
           ],
           "diverging": [
            [
             0,
             "#8e0152"
            ],
            [
             0.1,
             "#c51b7d"
            ],
            [
             0.2,
             "#de77ae"
            ],
            [
             0.3,
             "#f1b6da"
            ],
            [
             0.4,
             "#fde0ef"
            ],
            [
             0.5,
             "#f7f7f7"
            ],
            [
             0.6,
             "#e6f5d0"
            ],
            [
             0.7,
             "#b8e186"
            ],
            [
             0.8,
             "#7fbc41"
            ],
            [
             0.9,
             "#4d9221"
            ],
            [
             1,
             "#276419"
            ]
           ]
          },
          "xaxis": {
           "gridcolor": "white",
           "linecolor": "white",
           "ticks": "",
           "title": {
            "standoff": 15
           },
           "zerolinecolor": "white",
           "automargin": true,
           "zerolinewidth": 2
          },
          "yaxis": {
           "gridcolor": "white",
           "linecolor": "white",
           "ticks": "",
           "title": {
            "standoff": 15
           },
           "zerolinecolor": "white",
           "automargin": true,
           "zerolinewidth": 2
          },
          "scene": {
           "xaxis": {
            "backgroundcolor": "#E5ECF6",
            "gridcolor": "white",
            "linecolor": "white",
            "showbackground": true,
            "ticks": "",
            "zerolinecolor": "white",
            "gridwidth": 2
           },
           "yaxis": {
            "backgroundcolor": "#E5ECF6",
            "gridcolor": "white",
            "linecolor": "white",
            "showbackground": true,
            "ticks": "",
            "zerolinecolor": "white",
            "gridwidth": 2
           },
           "zaxis": {
            "backgroundcolor": "#E5ECF6",
            "gridcolor": "white",
            "linecolor": "white",
            "showbackground": true,
            "ticks": "",
            "zerolinecolor": "white",
            "gridwidth": 2
           }
          },
          "shapedefaults": {
           "line": {
            "color": "#2a3f5f"
           }
          },
          "annotationdefaults": {
           "arrowcolor": "#2a3f5f",
           "arrowhead": 0,
           "arrowwidth": 1
          },
          "geo": {
           "bgcolor": "white",
           "landcolor": "#E5ECF6",
           "subunitcolor": "white",
           "showland": true,
           "showlakes": true,
           "lakecolor": "white"
          },
          "title": {
           "x": 0.05
          },
          "mapbox": {
           "style": "light"
          }
         }
        },
        "xaxis": {
         "anchor": "y",
         "domain": [
          0.0,
          1.0
         ],
         "title": {
          "text": "input"
         }
        },
        "yaxis": {
         "anchor": "x",
         "domain": [
          0.0,
          1.0
         ],
         "title": {
          "text": "output"
         }
        },
        "legend": {
         "tracegroupgap": 0
        },
        "title": {
         "text": "Tanh function"
        },
        "height": 400,
        "width": 700
       },
       "config": {
        "plotlyServerURL": "https://plot.ly"
       }
      },
      "text/html": "<div>                            <div id=\"19030c8e-de56-42a5-a800-6bbacf2fe496\" class=\"plotly-graph-div\" style=\"height:400px; width:700px;\"></div>            <script type=\"text/javascript\">                require([\"plotly\"], function(Plotly) {                    window.PLOTLYENV=window.PLOTLYENV || {};                                    if (document.getElementById(\"19030c8e-de56-42a5-a800-6bbacf2fe496\")) {                    Plotly.newPlot(                        \"19030c8e-de56-42a5-a800-6bbacf2fe496\",                        [{\"hovertemplate\":\"input=%{x}\\u003cbr\\u003eoutput=%{y}\\u003cextra\\u003e\\u003c\\u002fextra\\u003e\",\"legendgroup\":\"\",\"line\":{\"color\":\"#636efa\",\"dash\":\"solid\"},\"marker\":{\"symbol\":\"circle\"},\"mode\":\"lines\",\"name\":\"\",\"orientation\":\"v\",\"showlegend\":false,\"x\":[-5.927491783722723,-4.750603806460165,-3.899239519401588,-3.854147181739476,-3.231722430655098,-3.2207414860206223,-2.730304713228285,-2.6341566888789916,-2.5539808253777116,-2.427827667507437,-2.408724261934784,-2.3519480999060614,-2.039647378985213,-2.0083637857515466,-1.8780281404316408,-1.7960418672757377,-1.7931681528433092,-1.7832976198252695,-1.714038861157649,-1.680768725531306,-1.5609425382375992,-1.4347649204568418,-1.4284543853226537,-1.3033668736538542,-1.2305987555627607,-1.16333557529677,-1.1499985328724538,-1.0878303604899968,-1.0679879125646279,-1.0506573125574097,-1.0209992575620574,-1.0027638720092094,-0.9619030511668624,-0.956233294898596,-0.7766404723136113,-0.5818823825062256,-0.36969022398990187,-0.3392800857351031,-0.32267469285473416,-0.2737300045944426,-0.2733574743327474,-0.2153131865309457,-0.21418467525801313,-0.1555801684305713,-0.10118239225554987,-0.007782066091633782,0.020108151277008914,0.07975288904682896,0.08005674551597378,0.11924586249350654,0.1446561819461128,0.27120274909682146,0.2988966496889469,0.35625819040044604,0.3960236117388553,0.4183618741106523,0.4978709629763771,0.532637023804714,0.5376609608612409,0.5805278585075774,0.6045513965995996,0.7289146957346275,0.7349718289887403,0.7716841553362954,0.908244683389652,0.9117472755852133,0.931117294652364,1.007272904439529,1.017939038170394,1.0992325710212927,1.144261660045454,1.1652540049146252,1.2112267754742787,1.2768079872783822,1.3096762505294335,1.443015287262724,1.5439117703293181,1.5747210998060766,1.603467046025641,1.767002055317305,1.7679936627878312,1.7793400289577326,1.9322377992622755,1.9645244439727456,1.9723071318713827,2.0981158807049543,2.183545759140923,2.4339366125447643,2.5618387925495947,2.623135693432774,2.95311861401027,3.0351896425908853,3.1213776695515323,3.252089475935753,3.5855911727442633,3.6371618729828463,3.769478214281677,4.1480200334029735,4.338797171604746,4.641498658941571],\"xaxis\":\"x\",\"y\":[-0.999985793962248,-0.9998504881929094,-0.9991796193619887,-0.9991022295706178,-0.9968860270139449,-0.9968169918281874,-0.9915340597993307,-0.989748233663913,-0.9879759281520364,-0.9845517916080787,-0.9839549712280438,-0.9820428718870644,-0.9667242186189413,-0.96461374854054,-0.9543163959136557,-0.9463945753090778,-0.946093922834519,-0.9450487151662413,-0.9371412064828205,-0.9329612389225858,-0.9155730209081945,-0.8926389388497792,-0.8913494182992645,-0.8625873936809014,-0.8427529131498778,-0.8221239507882676,-0.8177535919422322,-0.7960848875966835,-0.7887019600058095,-0.7820617755149075,-0.770273226026699,-0.7627524701416689,-0.7451245253921475,-0.7425920057329968,-0.6507741942508384,-0.5240322381789464,-0.35372072483248623,-0.3268345337421445,-0.3119233869113885,-0.26709218640412574,-0.26674619738429545,-0.2120464612238048,-0.21096843448439653,-0.15433692180178088,-0.10083850285376693,-0.007781909000031474,0.020105441553732294,0.07958422810593184,0.07988615274425552,0.11868385038295051,0.14365555979841788,0.2647436405634011,0.29030257156276906,0.3419138987325572,0.37654148008190447,0.39554950234616526,0.46044113447235413,0.48739426385530266,0.49121536011608197,0.5230489823989616,0.5402803202855966,0.622400922707494,0.6260976443421508,0.6479076901908164,0.7202886908672458,0.7219698347022563,0.7311143901508814,0.7646317106323102,0.7690257619489475,0.8002231908654376,0.8158441491747569,0.8227447573609421,0.8370471042549471,0.855632127515304,0.8641934722366592,0.8943030845891791,0.9127753488253297,0.9177734745674676,0.9221887742764392,0.9432799144015682,0.9433891101813255,0.9446241304952521,0.9589138998924629,0.9614335775176698,0.9620179184973725,0.9703420366465353,0.9749417611270045,0.9847379562213361,0.9881623107697908,0.9895209526341716,0.9945699598983615,0.9953900567708737,0.9961185666011352,0.9970101373263311,0.9984643526854018,0.9986147427742124,0.9989366607206771,0.9995011186958855,0.9996593372280423,0.9998140333357876],\"yaxis\":\"y\",\"type\":\"scatter\"}],                        {\"template\":{\"data\":{\"histogram2dcontour\":[{\"type\":\"histogram2dcontour\",\"colorbar\":{\"outlinewidth\":0,\"ticks\":\"\"},\"colorscale\":[[0.0,\"#0d0887\"],[0.1111111111111111,\"#46039f\"],[0.2222222222222222,\"#7201a8\"],[0.3333333333333333,\"#9c179e\"],[0.4444444444444444,\"#bd3786\"],[0.5555555555555556,\"#d8576b\"],[0.6666666666666666,\"#ed7953\"],[0.7777777777777778,\"#fb9f3a\"],[0.8888888888888888,\"#fdca26\"],[1.0,\"#f0f921\"]]}],\"choropleth\":[{\"type\":\"choropleth\",\"colorbar\":{\"outlinewidth\":0,\"ticks\":\"\"}}],\"histogram2d\":[{\"type\":\"histogram2d\",\"colorbar\":{\"outlinewidth\":0,\"ticks\":\"\"},\"colorscale\":[[0.0,\"#0d0887\"],[0.1111111111111111,\"#46039f\"],[0.2222222222222222,\"#7201a8\"],[0.3333333333333333,\"#9c179e\"],[0.4444444444444444,\"#bd3786\"],[0.5555555555555556,\"#d8576b\"],[0.6666666666666666,\"#ed7953\"],[0.7777777777777778,\"#fb9f3a\"],[0.8888888888888888,\"#fdca26\"],[1.0,\"#f0f921\"]]}],\"heatmap\":[{\"type\":\"heatmap\",\"colorbar\":{\"outlinewidth\":0,\"ticks\":\"\"},\"colorscale\":[[0.0,\"#0d0887\"],[0.1111111111111111,\"#46039f\"],[0.2222222222222222,\"#7201a8\"],[0.3333333333333333,\"#9c179e\"],[0.4444444444444444,\"#bd3786\"],[0.5555555555555556,\"#d8576b\"],[0.6666666666666666,\"#ed7953\"],[0.7777777777777778,\"#fb9f3a\"],[0.8888888888888888,\"#fdca26\"],[1.0,\"#f0f921\"]]}],\"heatmapgl\":[{\"type\":\"heatmapgl\",\"colorbar\":{\"outlinewidth\":0,\"ticks\":\"\"},\"colorscale\":[[0.0,\"#0d0887\"],[0.1111111111111111,\"#46039f\"],[0.2222222222222222,\"#7201a8\"],[0.3333333333333333,\"#9c179e\"],[0.4444444444444444,\"#bd3786\"],[0.5555555555555556,\"#d8576b\"],[0.6666666666666666,\"#ed7953\"],[0.7777777777777778,\"#fb9f3a\"],[0.8888888888888888,\"#fdca26\"],[1.0,\"#f0f921\"]]}],\"contourcarpet\":[{\"type\":\"contourcarpet\",\"colorbar\":{\"outlinewidth\":0,\"ticks\":\"\"}}],\"contour\":[{\"type\":\"contour\",\"colorbar\":{\"outlinewidth\":0,\"ticks\":\"\"},\"colorscale\":[[0.0,\"#0d0887\"],[0.1111111111111111,\"#46039f\"],[0.2222222222222222,\"#7201a8\"],[0.3333333333333333,\"#9c179e\"],[0.4444444444444444,\"#bd3786\"],[0.5555555555555556,\"#d8576b\"],[0.6666666666666666,\"#ed7953\"],[0.7777777777777778,\"#fb9f3a\"],[0.8888888888888888,\"#fdca26\"],[1.0,\"#f0f921\"]]}],\"surface\":[{\"type\":\"surface\",\"colorbar\":{\"outlinewidth\":0,\"ticks\":\"\"},\"colorscale\":[[0.0,\"#0d0887\"],[0.1111111111111111,\"#46039f\"],[0.2222222222222222,\"#7201a8\"],[0.3333333333333333,\"#9c179e\"],[0.4444444444444444,\"#bd3786\"],[0.5555555555555556,\"#d8576b\"],[0.6666666666666666,\"#ed7953\"],[0.7777777777777778,\"#fb9f3a\"],[0.8888888888888888,\"#fdca26\"],[1.0,\"#f0f921\"]]}],\"mesh3d\":[{\"type\":\"mesh3d\",\"colorbar\":{\"outlinewidth\":0,\"ticks\":\"\"}}],\"scatter\":[{\"fillpattern\":{\"fillmode\":\"overlay\",\"size\":10,\"solidity\":0.2},\"type\":\"scatter\"}],\"parcoords\":[{\"type\":\"parcoords\",\"line\":{\"colorbar\":{\"outlinewidth\":0,\"ticks\":\"\"}}}],\"scatterpolargl\":[{\"type\":\"scatterpolargl\",\"marker\":{\"colorbar\":{\"outlinewidth\":0,\"ticks\":\"\"}}}],\"bar\":[{\"error_x\":{\"color\":\"#2a3f5f\"},\"error_y\":{\"color\":\"#2a3f5f\"},\"marker\":{\"line\":{\"color\":\"#E5ECF6\",\"width\":0.5},\"pattern\":{\"fillmode\":\"overlay\",\"size\":10,\"solidity\":0.2}},\"type\":\"bar\"}],\"scattergeo\":[{\"type\":\"scattergeo\",\"marker\":{\"colorbar\":{\"outlinewidth\":0,\"ticks\":\"\"}}}],\"scatterpolar\":[{\"type\":\"scatterpolar\",\"marker\":{\"colorbar\":{\"outlinewidth\":0,\"ticks\":\"\"}}}],\"histogram\":[{\"marker\":{\"pattern\":{\"fillmode\":\"overlay\",\"size\":10,\"solidity\":0.2}},\"type\":\"histogram\"}],\"scattergl\":[{\"type\":\"scattergl\",\"marker\":{\"colorbar\":{\"outlinewidth\":0,\"ticks\":\"\"}}}],\"scatter3d\":[{\"type\":\"scatter3d\",\"line\":{\"colorbar\":{\"outlinewidth\":0,\"ticks\":\"\"}},\"marker\":{\"colorbar\":{\"outlinewidth\":0,\"ticks\":\"\"}}}],\"scattermapbox\":[{\"type\":\"scattermapbox\",\"marker\":{\"colorbar\":{\"outlinewidth\":0,\"ticks\":\"\"}}}],\"scatterternary\":[{\"type\":\"scatterternary\",\"marker\":{\"colorbar\":{\"outlinewidth\":0,\"ticks\":\"\"}}}],\"scattercarpet\":[{\"type\":\"scattercarpet\",\"marker\":{\"colorbar\":{\"outlinewidth\":0,\"ticks\":\"\"}}}],\"carpet\":[{\"aaxis\":{\"endlinecolor\":\"#2a3f5f\",\"gridcolor\":\"white\",\"linecolor\":\"white\",\"minorgridcolor\":\"white\",\"startlinecolor\":\"#2a3f5f\"},\"baxis\":{\"endlinecolor\":\"#2a3f5f\",\"gridcolor\":\"white\",\"linecolor\":\"white\",\"minorgridcolor\":\"white\",\"startlinecolor\":\"#2a3f5f\"},\"type\":\"carpet\"}],\"table\":[{\"cells\":{\"fill\":{\"color\":\"#EBF0F8\"},\"line\":{\"color\":\"white\"}},\"header\":{\"fill\":{\"color\":\"#C8D4E3\"},\"line\":{\"color\":\"white\"}},\"type\":\"table\"}],\"barpolar\":[{\"marker\":{\"line\":{\"color\":\"#E5ECF6\",\"width\":0.5},\"pattern\":{\"fillmode\":\"overlay\",\"size\":10,\"solidity\":0.2}},\"type\":\"barpolar\"}],\"pie\":[{\"automargin\":true,\"type\":\"pie\"}]},\"layout\":{\"autotypenumbers\":\"strict\",\"colorway\":[\"#636efa\",\"#EF553B\",\"#00cc96\",\"#ab63fa\",\"#FFA15A\",\"#19d3f3\",\"#FF6692\",\"#B6E880\",\"#FF97FF\",\"#FECB52\"],\"font\":{\"color\":\"#2a3f5f\"},\"hovermode\":\"closest\",\"hoverlabel\":{\"align\":\"left\"},\"paper_bgcolor\":\"white\",\"plot_bgcolor\":\"#E5ECF6\",\"polar\":{\"bgcolor\":\"#E5ECF6\",\"angularaxis\":{\"gridcolor\":\"white\",\"linecolor\":\"white\",\"ticks\":\"\"},\"radialaxis\":{\"gridcolor\":\"white\",\"linecolor\":\"white\",\"ticks\":\"\"}},\"ternary\":{\"bgcolor\":\"#E5ECF6\",\"aaxis\":{\"gridcolor\":\"white\",\"linecolor\":\"white\",\"ticks\":\"\"},\"baxis\":{\"gridcolor\":\"white\",\"linecolor\":\"white\",\"ticks\":\"\"},\"caxis\":{\"gridcolor\":\"white\",\"linecolor\":\"white\",\"ticks\":\"\"}},\"coloraxis\":{\"colorbar\":{\"outlinewidth\":0,\"ticks\":\"\"}},\"colorscale\":{\"sequential\":[[0.0,\"#0d0887\"],[0.1111111111111111,\"#46039f\"],[0.2222222222222222,\"#7201a8\"],[0.3333333333333333,\"#9c179e\"],[0.4444444444444444,\"#bd3786\"],[0.5555555555555556,\"#d8576b\"],[0.6666666666666666,\"#ed7953\"],[0.7777777777777778,\"#fb9f3a\"],[0.8888888888888888,\"#fdca26\"],[1.0,\"#f0f921\"]],\"sequentialminus\":[[0.0,\"#0d0887\"],[0.1111111111111111,\"#46039f\"],[0.2222222222222222,\"#7201a8\"],[0.3333333333333333,\"#9c179e\"],[0.4444444444444444,\"#bd3786\"],[0.5555555555555556,\"#d8576b\"],[0.6666666666666666,\"#ed7953\"],[0.7777777777777778,\"#fb9f3a\"],[0.8888888888888888,\"#fdca26\"],[1.0,\"#f0f921\"]],\"diverging\":[[0,\"#8e0152\"],[0.1,\"#c51b7d\"],[0.2,\"#de77ae\"],[0.3,\"#f1b6da\"],[0.4,\"#fde0ef\"],[0.5,\"#f7f7f7\"],[0.6,\"#e6f5d0\"],[0.7,\"#b8e186\"],[0.8,\"#7fbc41\"],[0.9,\"#4d9221\"],[1,\"#276419\"]]},\"xaxis\":{\"gridcolor\":\"white\",\"linecolor\":\"white\",\"ticks\":\"\",\"title\":{\"standoff\":15},\"zerolinecolor\":\"white\",\"automargin\":true,\"zerolinewidth\":2},\"yaxis\":{\"gridcolor\":\"white\",\"linecolor\":\"white\",\"ticks\":\"\",\"title\":{\"standoff\":15},\"zerolinecolor\":\"white\",\"automargin\":true,\"zerolinewidth\":2},\"scene\":{\"xaxis\":{\"backgroundcolor\":\"#E5ECF6\",\"gridcolor\":\"white\",\"linecolor\":\"white\",\"showbackground\":true,\"ticks\":\"\",\"zerolinecolor\":\"white\",\"gridwidth\":2},\"yaxis\":{\"backgroundcolor\":\"#E5ECF6\",\"gridcolor\":\"white\",\"linecolor\":\"white\",\"showbackground\":true,\"ticks\":\"\",\"zerolinecolor\":\"white\",\"gridwidth\":2},\"zaxis\":{\"backgroundcolor\":\"#E5ECF6\",\"gridcolor\":\"white\",\"linecolor\":\"white\",\"showbackground\":true,\"ticks\":\"\",\"zerolinecolor\":\"white\",\"gridwidth\":2}},\"shapedefaults\":{\"line\":{\"color\":\"#2a3f5f\"}},\"annotationdefaults\":{\"arrowcolor\":\"#2a3f5f\",\"arrowhead\":0,\"arrowwidth\":1},\"geo\":{\"bgcolor\":\"white\",\"landcolor\":\"#E5ECF6\",\"subunitcolor\":\"white\",\"showland\":true,\"showlakes\":true,\"lakecolor\":\"white\"},\"title\":{\"x\":0.05},\"mapbox\":{\"style\":\"light\"}}},\"xaxis\":{\"anchor\":\"y\",\"domain\":[0.0,1.0],\"title\":{\"text\":\"input\"}},\"yaxis\":{\"anchor\":\"x\",\"domain\":[0.0,1.0],\"title\":{\"text\":\"output\"}},\"legend\":{\"tracegroupgap\":0},\"title\":{\"text\":\"Tanh function\"},\"height\":400,\"width\":700},                        {\"responsive\": true}                    ).then(function(){\n                            \nvar gd = document.getElementById('19030c8e-de56-42a5-a800-6bbacf2fe496');\nvar x = new MutationObserver(function (mutations, observer) {{\n        var display = window.getComputedStyle(gd).display;\n        if (!display || display === 'none') {{\n            console.log([gd, 'removed!']);\n            Plotly.purge(gd);\n            observer.disconnect();\n        }}\n}});\n\n// Listen for the removal of the full notebook cells\nvar notebookContainer = gd.closest('#notebook-container');\nif (notebookContainer) {{\n    x.observe(notebookContainer, {childList: true});\n}}\n\n// Listen for the clearing of the current output cell\nvar outputEl = gd.closest('.output');\nif (outputEl) {{\n    x.observe(outputEl, {childList: true});\n}}\n\n                        })                };                });            </script>        </div>"
     },
     "metadata": {},
     "output_type": "display_data"
    }
   ],
   "source": [
    "def tanh(x):\n",
    "    return (np.exp(x) - np.exp(-x)) / (np.exp(x) + np.exp(-x))\n",
    "\n",
    "\n",
    "data = 2 * np.random.randn(100)\n",
    "data = sorted(data)\n",
    "data\n",
    "\n",
    "tanh_data = [tanh(x) for x in sorted(data)]\n",
    "tanh_data\n",
    "\n",
    "df = pd.DataFrame({'input': data, 'output': tanh_data})\n",
    "df.head()\n",
    "\n",
    "px.line(df, x='input', y='output', width=700, height=400, title='Tanh function')"
   ],
   "metadata": {
    "collapsed": false,
    "ExecuteTime": {
     "end_time": "2024-01-12T14:55:13.695684200Z",
     "start_time": "2024-01-12T14:55:13.508949700Z"
    }
   },
   "id": "9767ec632a6553f4"
  }
 ],
 "metadata": {
  "kernelspec": {
   "display_name": "Python 3",
   "language": "python",
   "name": "python3"
  },
  "language_info": {
   "codemirror_mode": {
    "name": "ipython",
    "version": 2
   },
   "file_extension": ".py",
   "mimetype": "text/x-python",
   "name": "python",
   "nbconvert_exporter": "python",
   "pygments_lexer": "ipython2",
   "version": "2.7.6"
  }
 },
 "nbformat": 4,
 "nbformat_minor": 5
}
