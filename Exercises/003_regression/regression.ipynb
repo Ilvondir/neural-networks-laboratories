{
 "cells": [
  {
   "cell_type": "code",
   "execution_count": null,
   "id": "initial_id",
   "metadata": {
    "collapsed": true
   },
   "outputs": [],
   "source": [
    "import pandas as pd\n",
    "from keras import Sequential\n",
    "from keras.src.callbacks import ModelCheckpoint\n",
    "from keras.src.layers import Dense\n",
    "import plotly.graph_objects as go\n",
    "import plotly.express as px\n",
    "from keras.src.optimizers import Adam\n",
    "from sklearn.metrics import mean_absolute_error\n",
    "from sklearn.preprocessing import StandardScaler"
   ]
  },
  {
   "cell_type": "code",
   "execution_count": null,
   "outputs": [],
   "source": [
    "data = pd.read_csv(\"housing_price_dataset.csv\")\n",
    "labels = data[\"Price\"]\n",
    "data = data.drop(\"Price\", axis=1)\n",
    "data"
   ],
   "metadata": {
    "collapsed": false
   },
   "id": "2098da78d1d508c0"
  },
  {
   "cell_type": "code",
   "execution_count": null,
   "outputs": [],
   "source": [
    "plt = px.histogram(labels)\n",
    "plt"
   ],
   "metadata": {
    "collapsed": false
   },
   "id": "39b8341b08347f47"
  },
  {
   "cell_type": "code",
   "execution_count": null,
   "outputs": [],
   "source": [
    "data = pd.get_dummies(data, columns=[\"Neighborhood\"], dtype=int)\n",
    "data"
   ],
   "metadata": {
    "collapsed": false
   },
   "id": "55e5e49aead40c90"
  },
  {
   "cell_type": "code",
   "execution_count": null,
   "outputs": [],
   "source": [
    "scaler = StandardScaler()\n",
    "data = scaler.fit_transform(data)\n",
    "data"
   ],
   "metadata": {
    "collapsed": false
   },
   "id": "7e6a380dcefb502a"
  },
  {
   "cell_type": "code",
   "execution_count": null,
   "outputs": [],
   "source": [
    "model = Sequential()\n",
    "model.add(Dense(units=512, activation=\"relu\", input_shape=(7,)))\n",
    "model.add(Dense(units=12, activation=\"relu\"))\n",
    "model.add(Dense(units=1))\n",
    "\n",
    "model.summary()"
   ],
   "metadata": {
    "collapsed": false
   },
   "id": "feefcca166967598"
  },
  {
   "cell_type": "code",
   "execution_count": null,
   "outputs": [],
   "source": [
    "mc = ModelCheckpoint(filepath=\"best_model3.keras\", monitor=\"val_mae\", verbose=1, mode=\"min\", save_best_only=True)\n",
    "\n",
    "model.compile(optimizer=Adam(learning_rate=0.01, beta_1=0.8, beta_2=0.95),\n",
    "              loss=\"mse\",\n",
    "              metrics=[\"mae\"])\n",
    "\n",
    "history = model.fit(data, labels, epochs=10, batch_size=32, validation_split=0.2, callbacks=[mc])\n",
    "\n",
    "model.save(\"model_after_training.keras\")"
   ],
   "metadata": {
    "collapsed": false
   },
   "id": "2a74b2b1bf7cb146"
  },
  {
   "cell_type": "code",
   "execution_count": null,
   "outputs": [],
   "source": [
    "def draw_history(history):\n",
    "    fig = go.Figure()\n",
    "    fig.add_trace(go.Scatter(x=history.epoch, y=history.history[\"mae\"], name=\"mae\"))\n",
    "    fig.add_trace(go.Scatter(x=history.epoch, y=history.history[\"val_mae\"], name=\"val_mae\"))\n",
    "    fig.show()\n",
    "\n",
    "    fig2 = go.Figure()\n",
    "    fig2.add_trace(go.Scatter(x=history.epoch, y=history.history[\"loss\"], name=\"loss\"))\n",
    "    fig2.add_trace(go.Scatter(x=history.epoch, y=history.history[\"val_loss\"], name=\"val_loss\"))\n",
    "    fig2.show()\n",
    "\n",
    "\n",
    "draw_history(history)"
   ],
   "metadata": {
    "collapsed": false
   },
   "id": "c54c7530131b4d34"
  },
  {
   "cell_type": "code",
   "execution_count": null,
   "outputs": [],
   "source": [
    "# model.load_weights(\"model3.keras\")\n",
    "\n",
    "df = pd.DataFrame({\"value\": labels, \"prediction\": model.predict(data, verbose=1).ravel()})\n",
    "\n",
    "print(f\"Mean absolute error: {round(mean_absolute_error(df['value'], df['prediction']), 2)}\")\n",
    "df"
   ],
   "metadata": {
    "collapsed": false
   },
   "id": "89f342f9b5a349e6"
  }
 ],
 "metadata": {
  "kernelspec": {
   "display_name": "Python 3",
   "language": "python",
   "name": "python3"
  },
  "language_info": {
   "codemirror_mode": {
    "name": "ipython",
    "version": 2
   },
   "file_extension": ".py",
   "mimetype": "text/x-python",
   "name": "python",
   "nbconvert_exporter": "python",
   "pygments_lexer": "ipython2",
   "version": "2.7.6"
  }
 },
 "nbformat": 4,
 "nbformat_minor": 5
}
