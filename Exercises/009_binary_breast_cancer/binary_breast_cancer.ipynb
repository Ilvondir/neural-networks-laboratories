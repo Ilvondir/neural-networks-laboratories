{
 "cells": [
  {
   "cell_type": "code",
   "execution_count": 39,
   "id": "initial_id",
   "metadata": {
    "collapsed": true,
    "ExecuteTime": {
     "end_time": "2024-02-22T13:47:24.218117600Z",
     "start_time": "2024-02-22T13:47:23.731125200Z"
    }
   },
   "outputs": [],
   "source": [
    "import numpy as np\n",
    "import pandas as pd\n",
    "from keras import Sequential\n",
    "from keras.src.callbacks import ModelCheckpoint\n",
    "from keras.src.layers import Dense\n",
    "from sklearn.datasets import load_breast_cancer\n",
    "from sklearn.metrics import accuracy_score, confusion_matrix\n",
    "from sklearn.model_selection import train_test_split\n",
    "from sklearn.preprocessing import StandardScaler\n",
    "import plotly.graph_objects as go\n",
    "import plotly.express as px"
   ]
  },
  {
   "cell_type": "code",
   "execution_count": 42,
   "outputs": [],
   "source": [
    "data = load_breast_cancer()\n",
    "\n",
    "labels = data.target\n",
    "data = data.data"
   ],
   "metadata": {
    "collapsed": false,
    "ExecuteTime": {
     "end_time": "2024-02-22T13:53:10.218336Z",
     "start_time": "2024-02-22T13:53:10.149341700Z"
    }
   },
   "id": "791174cac523f98e"
  },
  {
   "cell_type": "code",
   "execution_count": 43,
   "outputs": [],
   "source": [
    "train_data, test_data, train_labels, test_labels = train_test_split(data, labels, test_size=0.2)\n",
    "\n",
    "scaler = StandardScaler()\n",
    "train_data = scaler.fit_transform(train_data)\n",
    "test_data = scaler.transform(test_data)"
   ],
   "metadata": {
    "collapsed": false,
    "ExecuteTime": {
     "end_time": "2024-02-22T13:53:11.870339800Z",
     "start_time": "2024-02-22T13:53:11.811341Z"
    }
   },
   "id": "ed3be8ed983e9717"
  },
  {
   "cell_type": "code",
   "execution_count": 47,
   "outputs": [
    {
     "name": "stdout",
     "output_type": "stream",
     "text": [
      "Model: \"sequential_7\"\n",
      "_________________________________________________________________\n",
      " Layer (type)                Output Shape              Param #   \n",
      "=================================================================\n",
      " dense_15 (Dense)            (None, 1)                 31        \n",
      "                                                                 \n",
      "=================================================================\n",
      "Total params: 31 (124.00 Byte)\n",
      "Trainable params: 31 (124.00 Byte)\n",
      "Non-trainable params: 0 (0.00 Byte)\n",
      "_________________________________________________________________\n"
     ]
    }
   ],
   "source": [
    "model = Sequential()\n",
    "model.add(Dense(units=1, input_shape=(30,), activation=\"sigmoid\"))\n",
    "\n",
    "model.summary()"
   ],
   "metadata": {
    "collapsed": false,
    "ExecuteTime": {
     "end_time": "2024-02-22T13:57:11.006773900Z",
     "start_time": "2024-02-22T13:57:10.892773200Z"
    }
   },
   "id": "951d6b642de0f66e"
  },
  {
   "cell_type": "code",
   "execution_count": 58,
   "outputs": [
    {
     "name": "stdout",
     "output_type": "stream",
     "text": [
      "Epoch 1/100\n",
      " 1/12 [=>............................] - ETA: 12s - loss: 0.0477 - accuracy: 1.0000\n",
      "Epoch 1: val_accuracy improved from -inf to 0.98901, saving model to best_model_breast.keras\n",
      "12/12 [==============================] - 2s 39ms/step - loss: 0.0711 - accuracy: 0.9808 - val_loss: 0.0595 - val_accuracy: 0.9890\n",
      "Epoch 2/100\n",
      " 1/12 [=>............................] - ETA: 0s - loss: 0.0705 - accuracy: 1.0000\n",
      "Epoch 2: val_accuracy did not improve from 0.98901\n",
      "12/12 [==============================] - 0s 9ms/step - loss: 0.0709 - accuracy: 0.9808 - val_loss: 0.0596 - val_accuracy: 0.9890\n",
      "Epoch 3/100\n",
      " 1/12 [=>............................] - ETA: 0s - loss: 0.0957 - accuracy: 0.9688\n",
      "Epoch 3: val_accuracy did not improve from 0.98901\n",
      "12/12 [==============================] - 0s 9ms/step - loss: 0.0707 - accuracy: 0.9808 - val_loss: 0.0592 - val_accuracy: 0.9890\n",
      "Epoch 4/100\n",
      " 1/12 [=>............................] - ETA: 0s - loss: 0.1004 - accuracy: 0.9375\n",
      "Epoch 4: val_accuracy did not improve from 0.98901\n",
      "12/12 [==============================] - 0s 8ms/step - loss: 0.0705 - accuracy: 0.9808 - val_loss: 0.0592 - val_accuracy: 0.9890\n",
      "Epoch 5/100\n",
      " 1/12 [=>............................] - ETA: 0s - loss: 0.0719 - accuracy: 0.9688\n",
      "Epoch 5: val_accuracy did not improve from 0.98901\n",
      "12/12 [==============================] - 0s 9ms/step - loss: 0.0703 - accuracy: 0.9808 - val_loss: 0.0586 - val_accuracy: 0.9890\n",
      "Epoch 6/100\n",
      " 1/12 [=>............................] - ETA: 0s - loss: 0.0359 - accuracy: 1.0000\n",
      "Epoch 6: val_accuracy did not improve from 0.98901\n",
      "12/12 [==============================] - 0s 10ms/step - loss: 0.0701 - accuracy: 0.9808 - val_loss: 0.0584 - val_accuracy: 0.9890\n",
      "Epoch 7/100\n",
      " 1/12 [=>............................] - ETA: 0s - loss: 0.0822 - accuracy: 0.9688\n",
      "Epoch 7: val_accuracy did not improve from 0.98901\n",
      "12/12 [==============================] - 0s 11ms/step - loss: 0.0699 - accuracy: 0.9808 - val_loss: 0.0585 - val_accuracy: 0.9890\n",
      "Epoch 8/100\n",
      " 6/12 [==============>...............] - ETA: 0s - loss: 0.0634 - accuracy: 0.9792\n",
      "Epoch 8: val_accuracy did not improve from 0.98901\n",
      "12/12 [==============================] - 0s 28ms/step - loss: 0.0697 - accuracy: 0.9808 - val_loss: 0.0585 - val_accuracy: 0.9890\n",
      "Epoch 9/100\n",
      " 1/12 [=>............................] - ETA: 0s - loss: 0.0255 - accuracy: 1.0000\n",
      "Epoch 9: val_accuracy did not improve from 0.98901\n",
      "12/12 [==============================] - 0s 9ms/step - loss: 0.0695 - accuracy: 0.9808 - val_loss: 0.0584 - val_accuracy: 0.9890\n",
      "Epoch 10/100\n",
      " 1/12 [=>............................] - ETA: 0s - loss: 0.0992 - accuracy: 0.9688\n",
      "Epoch 10: val_accuracy did not improve from 0.98901\n",
      "12/12 [==============================] - 0s 9ms/step - loss: 0.0694 - accuracy: 0.9808 - val_loss: 0.0584 - val_accuracy: 0.9890\n",
      "Epoch 11/100\n",
      " 1/12 [=>............................] - ETA: 0s - loss: 0.1632 - accuracy: 0.9375\n",
      "Epoch 11: val_accuracy did not improve from 0.98901\n",
      "12/12 [==============================] - 0s 9ms/step - loss: 0.0692 - accuracy: 0.9808 - val_loss: 0.0582 - val_accuracy: 0.9890\n",
      "Epoch 12/100\n",
      " 1/12 [=>............................] - ETA: 0s - loss: 0.1110 - accuracy: 0.9375\n",
      "Epoch 12: val_accuracy did not improve from 0.98901\n",
      "12/12 [==============================] - 0s 8ms/step - loss: 0.0691 - accuracy: 0.9808 - val_loss: 0.0582 - val_accuracy: 0.9890\n",
      "Epoch 13/100\n",
      " 1/12 [=>............................] - ETA: 0s - loss: 0.0279 - accuracy: 1.0000\n",
      "Epoch 13: val_accuracy did not improve from 0.98901\n",
      "12/12 [==============================] - 0s 8ms/step - loss: 0.0689 - accuracy: 0.9808 - val_loss: 0.0580 - val_accuracy: 0.9890\n",
      "Epoch 14/100\n",
      " 1/12 [=>............................] - ETA: 0s - loss: 0.1744 - accuracy: 0.9375\n",
      "Epoch 14: val_accuracy did not improve from 0.98901\n",
      "12/12 [==============================] - 0s 9ms/step - loss: 0.0687 - accuracy: 0.9808 - val_loss: 0.0579 - val_accuracy: 0.9890\n",
      "Epoch 15/100\n",
      " 1/12 [=>............................] - ETA: 0s - loss: 0.0477 - accuracy: 1.0000\n",
      "Epoch 15: val_accuracy did not improve from 0.98901\n",
      "12/12 [==============================] - 0s 9ms/step - loss: 0.0685 - accuracy: 0.9808 - val_loss: 0.0578 - val_accuracy: 0.9890\n",
      "Epoch 16/100\n",
      " 1/12 [=>............................] - ETA: 0s - loss: 0.1063 - accuracy: 0.9688\n",
      "Epoch 16: val_accuracy did not improve from 0.98901\n",
      "12/12 [==============================] - 0s 9ms/step - loss: 0.0684 - accuracy: 0.9808 - val_loss: 0.0577 - val_accuracy: 0.9890\n",
      "Epoch 17/100\n",
      " 1/12 [=>............................] - ETA: 0s - loss: 0.0674 - accuracy: 0.9688\n",
      "Epoch 17: val_accuracy did not improve from 0.98901\n",
      "12/12 [==============================] - 0s 9ms/step - loss: 0.0682 - accuracy: 0.9808 - val_loss: 0.0576 - val_accuracy: 0.9890\n",
      "Epoch 18/100\n",
      " 1/12 [=>............................] - ETA: 0s - loss: 0.2086 - accuracy: 0.9375\n",
      "Epoch 18: val_accuracy did not improve from 0.98901\n",
      "12/12 [==============================] - 0s 9ms/step - loss: 0.0681 - accuracy: 0.9808 - val_loss: 0.0575 - val_accuracy: 0.9890\n",
      "Epoch 19/100\n",
      " 1/12 [=>............................] - ETA: 0s - loss: 0.2323 - accuracy: 0.9375\n",
      "Epoch 19: val_accuracy did not improve from 0.98901\n",
      "12/12 [==============================] - 0s 10ms/step - loss: 0.0679 - accuracy: 0.9808 - val_loss: 0.0574 - val_accuracy: 0.9890\n",
      "Epoch 20/100\n",
      " 1/12 [=>............................] - ETA: 0s - loss: 0.0825 - accuracy: 0.9375\n",
      "Epoch 20: val_accuracy did not improve from 0.98901\n",
      "12/12 [==============================] - 0s 11ms/step - loss: 0.0678 - accuracy: 0.9808 - val_loss: 0.0572 - val_accuracy: 0.9890\n",
      "Epoch 21/100\n",
      " 1/12 [=>............................] - ETA: 0s - loss: 0.1579 - accuracy: 0.9688\n",
      "Epoch 21: val_accuracy did not improve from 0.98901\n",
      "12/12 [==============================] - 0s 8ms/step - loss: 0.0676 - accuracy: 0.9835 - val_loss: 0.0571 - val_accuracy: 0.9890\n",
      "Epoch 22/100\n",
      " 1/12 [=>............................] - ETA: 0s - loss: 0.0281 - accuracy: 1.0000\n",
      "Epoch 22: val_accuracy did not improve from 0.98901\n",
      "12/12 [==============================] - 0s 8ms/step - loss: 0.0675 - accuracy: 0.9835 - val_loss: 0.0569 - val_accuracy: 0.9890\n",
      "Epoch 23/100\n",
      " 1/12 [=>............................] - ETA: 0s - loss: 0.0242 - accuracy: 1.0000\n",
      "Epoch 23: val_accuracy did not improve from 0.98901\n",
      "12/12 [==============================] - 0s 8ms/step - loss: 0.0674 - accuracy: 0.9835 - val_loss: 0.0566 - val_accuracy: 0.9890\n",
      "Epoch 24/100\n",
      " 1/12 [=>............................] - ETA: 0s - loss: 0.0744 - accuracy: 0.9688\n",
      "Epoch 24: val_accuracy did not improve from 0.98901\n",
      "12/12 [==============================] - 0s 8ms/step - loss: 0.0672 - accuracy: 0.9835 - val_loss: 0.0567 - val_accuracy: 0.9890\n",
      "Epoch 25/100\n",
      " 1/12 [=>............................] - ETA: 0s - loss: 0.0203 - accuracy: 1.0000\n",
      "Epoch 25: val_accuracy did not improve from 0.98901\n",
      "12/12 [==============================] - 0s 8ms/step - loss: 0.0671 - accuracy: 0.9835 - val_loss: 0.0568 - val_accuracy: 0.9890\n",
      "Epoch 26/100\n",
      " 1/12 [=>............................] - ETA: 0s - loss: 0.0461 - accuracy: 0.9688\n",
      "Epoch 26: val_accuracy did not improve from 0.98901\n",
      "12/12 [==============================] - 0s 9ms/step - loss: 0.0670 - accuracy: 0.9835 - val_loss: 0.0566 - val_accuracy: 0.9890\n",
      "Epoch 27/100\n",
      " 1/12 [=>............................] - ETA: 0s - loss: 0.1475 - accuracy: 0.9688\n",
      "Epoch 27: val_accuracy did not improve from 0.98901\n",
      "12/12 [==============================] - 0s 10ms/step - loss: 0.0668 - accuracy: 0.9835 - val_loss: 0.0566 - val_accuracy: 0.9890\n",
      "Epoch 28/100\n",
      " 1/12 [=>............................] - ETA: 0s - loss: 0.0618 - accuracy: 0.9688\n",
      "Epoch 28: val_accuracy did not improve from 0.98901\n",
      "12/12 [==============================] - 0s 8ms/step - loss: 0.0667 - accuracy: 0.9835 - val_loss: 0.0565 - val_accuracy: 0.9890\n",
      "Epoch 29/100\n",
      " 1/12 [=>............................] - ETA: 0s - loss: 0.0690 - accuracy: 0.9688\n",
      "Epoch 29: val_accuracy did not improve from 0.98901\n",
      "12/12 [==============================] - 0s 11ms/step - loss: 0.0666 - accuracy: 0.9835 - val_loss: 0.0563 - val_accuracy: 0.9890\n",
      "Epoch 30/100\n",
      " 1/12 [=>............................] - ETA: 0s - loss: 0.1690 - accuracy: 0.9375\n",
      "Epoch 30: val_accuracy did not improve from 0.98901\n",
      "12/12 [==============================] - 0s 9ms/step - loss: 0.0665 - accuracy: 0.9835 - val_loss: 0.0565 - val_accuracy: 0.9890\n",
      "Epoch 31/100\n",
      " 1/12 [=>............................] - ETA: 0s - loss: 0.0367 - accuracy: 1.0000\n",
      "Epoch 31: val_accuracy did not improve from 0.98901\n",
      "12/12 [==============================] - 0s 8ms/step - loss: 0.0663 - accuracy: 0.9835 - val_loss: 0.0565 - val_accuracy: 0.9890\n",
      "Epoch 32/100\n",
      " 1/12 [=>............................] - ETA: 0s - loss: 0.0554 - accuracy: 1.0000\n",
      "Epoch 32: val_accuracy did not improve from 0.98901\n",
      "12/12 [==============================] - 0s 8ms/step - loss: 0.0662 - accuracy: 0.9835 - val_loss: 0.0560 - val_accuracy: 0.9890\n",
      "Epoch 33/100\n",
      " 1/12 [=>............................] - ETA: 0s - loss: 0.0640 - accuracy: 1.0000\n",
      "Epoch 33: val_accuracy did not improve from 0.98901\n",
      "12/12 [==============================] - 0s 21ms/step - loss: 0.0660 - accuracy: 0.9835 - val_loss: 0.0565 - val_accuracy: 0.9890\n",
      "Epoch 34/100\n",
      " 9/12 [=====================>........] - ETA: 0s - loss: 0.0704 - accuracy: 0.9826\n",
      "Epoch 34: val_accuracy did not improve from 0.98901\n",
      "12/12 [==============================] - 1s 45ms/step - loss: 0.0659 - accuracy: 0.9835 - val_loss: 0.0567 - val_accuracy: 0.9890\n",
      "Epoch 35/100\n",
      " 8/12 [===================>..........] - ETA: 0s - loss: 0.0600 - accuracy: 0.9844\n",
      "Epoch 35: val_accuracy did not improve from 0.98901\n",
      "12/12 [==============================] - 0s 22ms/step - loss: 0.0658 - accuracy: 0.9835 - val_loss: 0.0569 - val_accuracy: 0.9890\n",
      "Epoch 36/100\n",
      " 8/12 [===================>..........] - ETA: 0s - loss: 0.0598 - accuracy: 0.9922\n",
      "Epoch 36: val_accuracy did not improve from 0.98901\n",
      "12/12 [==============================] - 0s 21ms/step - loss: 0.0657 - accuracy: 0.9835 - val_loss: 0.0571 - val_accuracy: 0.9890\n",
      "Epoch 37/100\n",
      "10/12 [========================>.....] - ETA: 0s - loss: 0.0644 - accuracy: 0.9875\n",
      "Epoch 37: val_accuracy did not improve from 0.98901\n",
      "12/12 [==============================] - 0s 19ms/step - loss: 0.0656 - accuracy: 0.9835 - val_loss: 0.0570 - val_accuracy: 0.9890\n",
      "Epoch 38/100\n",
      " 1/12 [=>............................] - ETA: 0s - loss: 0.1018 - accuracy: 0.9688\n",
      "Epoch 38: val_accuracy did not improve from 0.98901\n",
      "12/12 [==============================] - 0s 10ms/step - loss: 0.0655 - accuracy: 0.9835 - val_loss: 0.0575 - val_accuracy: 0.9890\n",
      "Epoch 39/100\n",
      " 1/12 [=>............................] - ETA: 0s - loss: 0.0285 - accuracy: 1.0000\n",
      "Epoch 39: val_accuracy did not improve from 0.98901\n",
      "12/12 [==============================] - 0s 8ms/step - loss: 0.0654 - accuracy: 0.9835 - val_loss: 0.0573 - val_accuracy: 0.9890\n",
      "Epoch 40/100\n",
      " 1/12 [=>............................] - ETA: 0s - loss: 0.0213 - accuracy: 1.0000\n",
      "Epoch 40: val_accuracy did not improve from 0.98901\n",
      "12/12 [==============================] - 0s 9ms/step - loss: 0.0652 - accuracy: 0.9835 - val_loss: 0.0573 - val_accuracy: 0.9890\n",
      "Epoch 41/100\n",
      " 1/12 [=>............................] - ETA: 0s - loss: 0.0553 - accuracy: 1.0000\n",
      "Epoch 41: val_accuracy did not improve from 0.98901\n",
      "12/12 [==============================] - 0s 9ms/step - loss: 0.0651 - accuracy: 0.9835 - val_loss: 0.0572 - val_accuracy: 0.9890\n",
      "Epoch 42/100\n",
      " 1/12 [=>............................] - ETA: 0s - loss: 0.0131 - accuracy: 1.0000\n",
      "Epoch 42: val_accuracy did not improve from 0.98901\n",
      "12/12 [==============================] - 0s 9ms/step - loss: 0.0650 - accuracy: 0.9835 - val_loss: 0.0568 - val_accuracy: 0.9890\n",
      "Epoch 43/100\n",
      " 1/12 [=>............................] - ETA: 0s - loss: 0.1363 - accuracy: 0.9688\n",
      "Epoch 43: val_accuracy did not improve from 0.98901\n",
      "12/12 [==============================] - 0s 9ms/step - loss: 0.0649 - accuracy: 0.9835 - val_loss: 0.0569 - val_accuracy: 0.9890\n",
      "Epoch 44/100\n",
      " 1/12 [=>............................] - ETA: 0s - loss: 0.0309 - accuracy: 1.0000\n",
      "Epoch 44: val_accuracy did not improve from 0.98901\n",
      "12/12 [==============================] - 0s 9ms/step - loss: 0.0648 - accuracy: 0.9835 - val_loss: 0.0568 - val_accuracy: 0.9890\n",
      "Epoch 45/100\n",
      " 1/12 [=>............................] - ETA: 0s - loss: 0.0438 - accuracy: 1.0000\n",
      "Epoch 45: val_accuracy did not improve from 0.98901\n",
      "12/12 [==============================] - 0s 10ms/step - loss: 0.0647 - accuracy: 0.9835 - val_loss: 0.0569 - val_accuracy: 0.9890\n",
      "Epoch 46/100\n",
      " 1/12 [=>............................] - ETA: 0s - loss: 0.1297 - accuracy: 0.9375\n",
      "Epoch 46: val_accuracy did not improve from 0.98901\n",
      "12/12 [==============================] - 0s 9ms/step - loss: 0.0646 - accuracy: 0.9835 - val_loss: 0.0566 - val_accuracy: 0.9890\n",
      "Epoch 47/100\n",
      " 1/12 [=>............................] - ETA: 0s - loss: 0.1936 - accuracy: 0.9688\n",
      "Epoch 47: val_accuracy did not improve from 0.98901\n",
      "12/12 [==============================] - 0s 10ms/step - loss: 0.0646 - accuracy: 0.9835 - val_loss: 0.0572 - val_accuracy: 0.9890\n",
      "Epoch 48/100\n",
      " 1/12 [=>............................] - ETA: 0s - loss: 0.1670 - accuracy: 0.9688\n",
      "Epoch 48: val_accuracy did not improve from 0.98901\n",
      "12/12 [==============================] - 0s 9ms/step - loss: 0.0644 - accuracy: 0.9835 - val_loss: 0.0572 - val_accuracy: 0.9890\n",
      "Epoch 49/100\n",
      " 1/12 [=>............................] - ETA: 0s - loss: 0.0412 - accuracy: 1.0000\n",
      "Epoch 49: val_accuracy did not improve from 0.98901\n",
      "12/12 [==============================] - 0s 9ms/step - loss: 0.0643 - accuracy: 0.9835 - val_loss: 0.0574 - val_accuracy: 0.9890\n",
      "Epoch 50/100\n",
      " 1/12 [=>............................] - ETA: 0s - loss: 0.0302 - accuracy: 1.0000\n",
      "Epoch 50: val_accuracy did not improve from 0.98901\n",
      "12/12 [==============================] - 0s 9ms/step - loss: 0.0642 - accuracy: 0.9835 - val_loss: 0.0572 - val_accuracy: 0.9890\n",
      "Epoch 51/100\n",
      " 1/12 [=>............................] - ETA: 0s - loss: 0.0481 - accuracy: 1.0000\n",
      "Epoch 51: val_accuracy did not improve from 0.98901\n",
      "12/12 [==============================] - 0s 9ms/step - loss: 0.0641 - accuracy: 0.9835 - val_loss: 0.0577 - val_accuracy: 0.9890\n",
      "Epoch 52/100\n",
      " 1/12 [=>............................] - ETA: 0s - loss: 0.0251 - accuracy: 1.0000\n",
      "Epoch 52: val_accuracy did not improve from 0.98901\n",
      "12/12 [==============================] - 0s 8ms/step - loss: 0.0640 - accuracy: 0.9835 - val_loss: 0.0578 - val_accuracy: 0.9890\n",
      "Epoch 53/100\n",
      " 1/12 [=>............................] - ETA: 0s - loss: 0.0228 - accuracy: 1.0000\n",
      "Epoch 53: val_accuracy did not improve from 0.98901\n",
      "12/12 [==============================] - 0s 9ms/step - loss: 0.0639 - accuracy: 0.9835 - val_loss: 0.0580 - val_accuracy: 0.9780\n",
      "Epoch 54/100\n",
      " 1/12 [=>............................] - ETA: 0s - loss: 0.0351 - accuracy: 1.0000\n",
      "Epoch 54: val_accuracy did not improve from 0.98901\n",
      "12/12 [==============================] - 0s 9ms/step - loss: 0.0638 - accuracy: 0.9835 - val_loss: 0.0576 - val_accuracy: 0.9890\n",
      "Epoch 55/100\n",
      " 1/12 [=>............................] - ETA: 0s - loss: 0.1754 - accuracy: 0.9688\n",
      "Epoch 55: val_accuracy did not improve from 0.98901\n",
      "12/12 [==============================] - 0s 10ms/step - loss: 0.0638 - accuracy: 0.9835 - val_loss: 0.0583 - val_accuracy: 0.9780\n",
      "Epoch 56/100\n",
      " 1/12 [=>............................] - ETA: 0s - loss: 0.0452 - accuracy: 1.0000\n",
      "Epoch 56: val_accuracy did not improve from 0.98901\n",
      "12/12 [==============================] - 0s 9ms/step - loss: 0.0637 - accuracy: 0.9835 - val_loss: 0.0585 - val_accuracy: 0.9780\n",
      "Epoch 57/100\n",
      " 1/12 [=>............................] - ETA: 0s - loss: 0.0264 - accuracy: 1.0000\n",
      "Epoch 57: val_accuracy did not improve from 0.98901\n",
      "12/12 [==============================] - 0s 9ms/step - loss: 0.0636 - accuracy: 0.9835 - val_loss: 0.0578 - val_accuracy: 0.9780\n",
      "Epoch 58/100\n",
      " 1/12 [=>............................] - ETA: 0s - loss: 0.0581 - accuracy: 1.0000\n",
      "Epoch 58: val_accuracy did not improve from 0.98901\n",
      "12/12 [==============================] - 0s 8ms/step - loss: 0.0635 - accuracy: 0.9835 - val_loss: 0.0578 - val_accuracy: 0.9780\n",
      "Epoch 59/100\n",
      " 1/12 [=>............................] - ETA: 0s - loss: 0.0176 - accuracy: 1.0000\n",
      "Epoch 59: val_accuracy did not improve from 0.98901\n",
      "12/12 [==============================] - 0s 9ms/step - loss: 0.0634 - accuracy: 0.9835 - val_loss: 0.0576 - val_accuracy: 0.9780\n",
      "Epoch 60/100\n",
      " 1/12 [=>............................] - ETA: 0s - loss: 0.0575 - accuracy: 0.9688\n",
      "Epoch 60: val_accuracy did not improve from 0.98901\n",
      "12/12 [==============================] - 0s 8ms/step - loss: 0.0633 - accuracy: 0.9835 - val_loss: 0.0577 - val_accuracy: 0.9780\n",
      "Epoch 61/100\n",
      " 1/12 [=>............................] - ETA: 0s - loss: 0.0960 - accuracy: 0.9688\n",
      "Epoch 61: val_accuracy did not improve from 0.98901\n",
      "12/12 [==============================] - 0s 9ms/step - loss: 0.0632 - accuracy: 0.9835 - val_loss: 0.0575 - val_accuracy: 0.9780\n",
      "Epoch 62/100\n",
      " 1/12 [=>............................] - ETA: 0s - loss: 0.0537 - accuracy: 0.9688\n",
      "Epoch 62: val_accuracy did not improve from 0.98901\n",
      "12/12 [==============================] - 0s 10ms/step - loss: 0.0631 - accuracy: 0.9835 - val_loss: 0.0575 - val_accuracy: 0.9780\n",
      "Epoch 63/100\n",
      " 1/12 [=>............................] - ETA: 0s - loss: 0.0124 - accuracy: 1.0000\n",
      "Epoch 63: val_accuracy did not improve from 0.98901\n",
      "12/12 [==============================] - 0s 9ms/step - loss: 0.0630 - accuracy: 0.9835 - val_loss: 0.0576 - val_accuracy: 0.9780\n",
      "Epoch 64/100\n",
      " 1/12 [=>............................] - ETA: 0s - loss: 0.0034 - accuracy: 1.0000\n",
      "Epoch 64: val_accuracy did not improve from 0.98901\n",
      "12/12 [==============================] - 0s 9ms/step - loss: 0.0629 - accuracy: 0.9835 - val_loss: 0.0570 - val_accuracy: 0.9780\n",
      "Epoch 65/100\n",
      " 1/12 [=>............................] - ETA: 0s - loss: 0.0265 - accuracy: 1.0000\n",
      "Epoch 65: val_accuracy did not improve from 0.98901\n",
      "12/12 [==============================] - 0s 9ms/step - loss: 0.0628 - accuracy: 0.9835 - val_loss: 0.0572 - val_accuracy: 0.9780\n",
      "Epoch 66/100\n",
      " 1/12 [=>............................] - ETA: 0s - loss: 0.0750 - accuracy: 0.9688\n",
      "Epoch 66: val_accuracy did not improve from 0.98901\n",
      "12/12 [==============================] - 0s 9ms/step - loss: 0.0627 - accuracy: 0.9835 - val_loss: 0.0578 - val_accuracy: 0.9780\n",
      "Epoch 67/100\n",
      " 1/12 [=>............................] - ETA: 0s - loss: 0.0979 - accuracy: 0.9688\n",
      "Epoch 67: val_accuracy did not improve from 0.98901\n",
      "12/12 [==============================] - 0s 10ms/step - loss: 0.0627 - accuracy: 0.9835 - val_loss: 0.0583 - val_accuracy: 0.9780\n",
      "Epoch 68/100\n",
      " 1/12 [=>............................] - ETA: 0s - loss: 0.0576 - accuracy: 0.9688\n",
      "Epoch 68: val_accuracy did not improve from 0.98901\n",
      "12/12 [==============================] - 0s 9ms/step - loss: 0.0626 - accuracy: 0.9835 - val_loss: 0.0576 - val_accuracy: 0.9780\n",
      "Epoch 69/100\n",
      " 1/12 [=>............................] - ETA: 0s - loss: 0.0295 - accuracy: 1.0000\n",
      "Epoch 69: val_accuracy did not improve from 0.98901\n",
      "12/12 [==============================] - 0s 9ms/step - loss: 0.0625 - accuracy: 0.9835 - val_loss: 0.0570 - val_accuracy: 0.9780\n",
      "Epoch 70/100\n",
      " 1/12 [=>............................] - ETA: 0s - loss: 0.0284 - accuracy: 1.0000\n",
      "Epoch 70: val_accuracy did not improve from 0.98901\n",
      "12/12 [==============================] - 0s 10ms/step - loss: 0.0624 - accuracy: 0.9835 - val_loss: 0.0572 - val_accuracy: 0.9780\n",
      "Epoch 71/100\n",
      " 1/12 [=>............................] - ETA: 0s - loss: 0.0224 - accuracy: 1.0000\n",
      "Epoch 71: val_accuracy did not improve from 0.98901\n",
      "12/12 [==============================] - 0s 8ms/step - loss: 0.0623 - accuracy: 0.9835 - val_loss: 0.0569 - val_accuracy: 0.9780\n",
      "Epoch 72/100\n",
      " 1/12 [=>............................] - ETA: 0s - loss: 0.0138 - accuracy: 1.0000\n",
      "Epoch 72: val_accuracy did not improve from 0.98901\n",
      "12/12 [==============================] - 0s 8ms/step - loss: 0.0622 - accuracy: 0.9835 - val_loss: 0.0570 - val_accuracy: 0.9780\n",
      "Epoch 73/100\n",
      " 1/12 [=>............................] - ETA: 0s - loss: 0.0151 - accuracy: 1.0000\n",
      "Epoch 73: val_accuracy did not improve from 0.98901\n",
      "12/12 [==============================] - 0s 8ms/step - loss: 0.0622 - accuracy: 0.9835 - val_loss: 0.0568 - val_accuracy: 0.9780\n",
      "Epoch 74/100\n",
      " 1/12 [=>............................] - ETA: 0s - loss: 0.0186 - accuracy: 1.0000\n",
      "Epoch 74: val_accuracy did not improve from 0.98901\n",
      "12/12 [==============================] - 0s 9ms/step - loss: 0.0621 - accuracy: 0.9835 - val_loss: 0.0572 - val_accuracy: 0.9780\n",
      "Epoch 75/100\n",
      " 1/12 [=>............................] - ETA: 0s - loss: 0.0764 - accuracy: 0.9688\n",
      "Epoch 75: val_accuracy did not improve from 0.98901\n",
      "12/12 [==============================] - 0s 9ms/step - loss: 0.0620 - accuracy: 0.9835 - val_loss: 0.0576 - val_accuracy: 0.9780\n",
      "Epoch 76/100\n",
      " 1/12 [=>............................] - ETA: 0s - loss: 0.0199 - accuracy: 1.0000\n",
      "Epoch 76: val_accuracy did not improve from 0.98901\n",
      "12/12 [==============================] - 0s 9ms/step - loss: 0.0619 - accuracy: 0.9835 - val_loss: 0.0575 - val_accuracy: 0.9780\n",
      "Epoch 77/100\n",
      " 1/12 [=>............................] - ETA: 0s - loss: 0.0564 - accuracy: 0.9688\n",
      "Epoch 77: val_accuracy did not improve from 0.98901\n",
      "12/12 [==============================] - 0s 11ms/step - loss: 0.0618 - accuracy: 0.9835 - val_loss: 0.0573 - val_accuracy: 0.9780\n",
      "Epoch 78/100\n",
      "12/12 [==============================] - ETA: 0s - loss: 0.0618 - accuracy: 0.9835\n",
      "Epoch 78: val_accuracy did not improve from 0.98901\n",
      "12/12 [==============================] - 0s 13ms/step - loss: 0.0618 - accuracy: 0.9835 - val_loss: 0.0568 - val_accuracy: 0.9780\n",
      "Epoch 79/100\n",
      " 1/12 [=>............................] - ETA: 0s - loss: 0.1297 - accuracy: 0.9688\n",
      "Epoch 79: val_accuracy did not improve from 0.98901\n",
      "12/12 [==============================] - 0s 8ms/step - loss: 0.0618 - accuracy: 0.9835 - val_loss: 0.0573 - val_accuracy: 0.9780\n",
      "Epoch 80/100\n",
      " 1/12 [=>............................] - ETA: 0s - loss: 0.1600 - accuracy: 0.9688\n",
      "Epoch 80: val_accuracy did not improve from 0.98901\n",
      "12/12 [==============================] - 0s 8ms/step - loss: 0.0616 - accuracy: 0.9835 - val_loss: 0.0572 - val_accuracy: 0.9780\n",
      "Epoch 81/100\n",
      " 1/12 [=>............................] - ETA: 0s - loss: 0.0385 - accuracy: 1.0000\n",
      "Epoch 81: val_accuracy did not improve from 0.98901\n",
      "12/12 [==============================] - 0s 9ms/step - loss: 0.0616 - accuracy: 0.9835 - val_loss: 0.0569 - val_accuracy: 0.9780\n",
      "Epoch 82/100\n",
      " 1/12 [=>............................] - ETA: 0s - loss: 0.0987 - accuracy: 0.9688\n",
      "Epoch 82: val_accuracy did not improve from 0.98901\n",
      "12/12 [==============================] - 0s 9ms/step - loss: 0.0614 - accuracy: 0.9835 - val_loss: 0.0578 - val_accuracy: 0.9780\n",
      "Epoch 83/100\n",
      " 1/12 [=>............................] - ETA: 0s - loss: 0.0896 - accuracy: 0.9375\n",
      "Epoch 83: val_accuracy did not improve from 0.98901\n",
      "12/12 [==============================] - 0s 9ms/step - loss: 0.0614 - accuracy: 0.9835 - val_loss: 0.0586 - val_accuracy: 0.9780\n",
      "Epoch 84/100\n",
      " 1/12 [=>............................] - ETA: 0s - loss: 0.0420 - accuracy: 1.0000\n",
      "Epoch 84: val_accuracy did not improve from 0.98901\n",
      "12/12 [==============================] - 0s 10ms/step - loss: 0.0613 - accuracy: 0.9835 - val_loss: 0.0586 - val_accuracy: 0.9780\n",
      "Epoch 85/100\n",
      " 1/12 [=>............................] - ETA: 0s - loss: 0.0400 - accuracy: 0.9688\n",
      "Epoch 85: val_accuracy did not improve from 0.98901\n",
      "12/12 [==============================] - 0s 8ms/step - loss: 0.0613 - accuracy: 0.9835 - val_loss: 0.0585 - val_accuracy: 0.9780\n",
      "Epoch 86/100\n",
      " 1/12 [=>............................] - ETA: 0s - loss: 0.0621 - accuracy: 0.9688\n",
      "Epoch 86: val_accuracy did not improve from 0.98901\n",
      "12/12 [==============================] - 0s 9ms/step - loss: 0.0612 - accuracy: 0.9835 - val_loss: 0.0593 - val_accuracy: 0.9780\n",
      "Epoch 87/100\n",
      " 1/12 [=>............................] - ETA: 0s - loss: 0.0951 - accuracy: 0.9688\n",
      "Epoch 87: val_accuracy did not improve from 0.98901\n",
      "12/12 [==============================] - 0s 8ms/step - loss: 0.0611 - accuracy: 0.9835 - val_loss: 0.0594 - val_accuracy: 0.9780\n",
      "Epoch 88/100\n",
      " 1/12 [=>............................] - ETA: 0s - loss: 0.0532 - accuracy: 0.9688\n",
      "Epoch 88: val_accuracy did not improve from 0.98901\n",
      "12/12 [==============================] - 0s 11ms/step - loss: 0.0611 - accuracy: 0.9835 - val_loss: 0.0594 - val_accuracy: 0.9780\n",
      "Epoch 89/100\n",
      " 1/12 [=>............................] - ETA: 0s - loss: 0.0199 - accuracy: 1.0000\n",
      "Epoch 89: val_accuracy did not improve from 0.98901\n",
      "12/12 [==============================] - 0s 9ms/step - loss: 0.0610 - accuracy: 0.9835 - val_loss: 0.0597 - val_accuracy: 0.9780\n",
      "Epoch 90/100\n",
      " 1/12 [=>............................] - ETA: 0s - loss: 0.0210 - accuracy: 1.0000\n",
      "Epoch 90: val_accuracy did not improve from 0.98901\n",
      "12/12 [==============================] - 0s 9ms/step - loss: 0.0609 - accuracy: 0.9835 - val_loss: 0.0592 - val_accuracy: 0.9780\n",
      "Epoch 91/100\n",
      " 1/12 [=>............................] - ETA: 0s - loss: 0.0457 - accuracy: 0.9688\n",
      "Epoch 91: val_accuracy did not improve from 0.98901\n",
      "12/12 [==============================] - 1s 46ms/step - loss: 0.0608 - accuracy: 0.9835 - val_loss: 0.0593 - val_accuracy: 0.9780\n",
      "Epoch 92/100\n",
      " 1/12 [=>............................] - ETA: 0s - loss: 0.0382 - accuracy: 1.0000\n",
      "Epoch 92: val_accuracy did not improve from 0.98901\n",
      "12/12 [==============================] - 0s 10ms/step - loss: 0.0608 - accuracy: 0.9835 - val_loss: 0.0598 - val_accuracy: 0.9780\n",
      "Epoch 93/100\n",
      " 1/12 [=>............................] - ETA: 0s - loss: 0.0295 - accuracy: 0.9688\n",
      "Epoch 93: val_accuracy did not improve from 0.98901\n",
      "12/12 [==============================] - 0s 10ms/step - loss: 0.0607 - accuracy: 0.9835 - val_loss: 0.0600 - val_accuracy: 0.9670\n",
      "Epoch 94/100\n",
      " 1/12 [=>............................] - ETA: 0s - loss: 0.0655 - accuracy: 1.0000\n",
      "Epoch 94: val_accuracy did not improve from 0.98901\n",
      "12/12 [==============================] - 0s 8ms/step - loss: 0.0606 - accuracy: 0.9835 - val_loss: 0.0600 - val_accuracy: 0.9670\n",
      "Epoch 95/100\n",
      " 1/12 [=>............................] - ETA: 0s - loss: 0.0456 - accuracy: 1.0000\n",
      "Epoch 95: val_accuracy did not improve from 0.98901\n",
      "12/12 [==============================] - 0s 8ms/step - loss: 0.0606 - accuracy: 0.9835 - val_loss: 0.0599 - val_accuracy: 0.9670\n",
      "Epoch 96/100\n",
      " 1/12 [=>............................] - ETA: 0s - loss: 0.1112 - accuracy: 0.9688\n",
      "Epoch 96: val_accuracy did not improve from 0.98901\n",
      "12/12 [==============================] - 0s 8ms/step - loss: 0.0605 - accuracy: 0.9835 - val_loss: 0.0594 - val_accuracy: 0.9780\n",
      "Epoch 97/100\n",
      " 1/12 [=>............................] - ETA: 0s - loss: 0.0358 - accuracy: 1.0000\n",
      "Epoch 97: val_accuracy did not improve from 0.98901\n",
      "12/12 [==============================] - 0s 9ms/step - loss: 0.0604 - accuracy: 0.9835 - val_loss: 0.0596 - val_accuracy: 0.9670\n",
      "Epoch 98/100\n",
      " 1/12 [=>............................] - ETA: 0s - loss: 0.0317 - accuracy: 1.0000\n",
      "Epoch 98: val_accuracy did not improve from 0.98901\n",
      "12/12 [==============================] - 0s 9ms/step - loss: 0.0604 - accuracy: 0.9835 - val_loss: 0.0593 - val_accuracy: 0.9670\n",
      "Epoch 99/100\n",
      " 1/12 [=>............................] - ETA: 0s - loss: 0.0865 - accuracy: 0.9688\n",
      "Epoch 99: val_accuracy did not improve from 0.98901\n",
      "12/12 [==============================] - 0s 9ms/step - loss: 0.0603 - accuracy: 0.9835 - val_loss: 0.0592 - val_accuracy: 0.9670\n",
      "Epoch 100/100\n",
      " 1/12 [=>............................] - ETA: 0s - loss: 0.0584 - accuracy: 1.0000\n",
      "Epoch 100: val_accuracy did not improve from 0.98901\n",
      "12/12 [==============================] - 0s 9ms/step - loss: 0.0603 - accuracy: 0.9835 - val_loss: 0.0590 - val_accuracy: 0.9780\n"
     ]
    }
   ],
   "source": [
    "mc = ModelCheckpoint(\"best_model_breast.keras\", save_best_only=True, monitor=\"val_accuracy\", mode=\"max\", verbose=1)\n",
    "\n",
    "model.compile(optimizer=\"adam\",\n",
    "              loss=\"binary_crossentropy\",\n",
    "              metrics=[\"accuracy\"])\n",
    "\n",
    "history = model.fit(train_data, train_labels, epochs=100, batch_size=32, callbacks=[mc], validation_split=0.2)\n",
    "\n",
    "model.save(\"model_after_training.keras\")"
   ],
   "metadata": {
    "collapsed": false,
    "ExecuteTime": {
     "end_time": "2024-02-22T14:01:19.665021100Z",
     "start_time": "2024-02-22T14:01:05.229484Z"
    }
   },
   "id": "f05aea5e01da6a22"
  },
  {
   "cell_type": "code",
   "execution_count": 59,
   "outputs": [
    {
     "data": {
      "application/vnd.plotly.v1+json": {
       "data": [
        {
         "name": "accuracy",
         "x": [
          0,
          1,
          2,
          3,
          4,
          5,
          6,
          7,
          8,
          9,
          10,
          11,
          12,
          13,
          14,
          15,
          16,
          17,
          18,
          19,
          20,
          21,
          22,
          23,
          24,
          25,
          26,
          27,
          28,
          29,
          30,
          31,
          32,
          33,
          34,
          35,
          36,
          37,
          38,
          39,
          40,
          41,
          42,
          43,
          44,
          45,
          46,
          47,
          48,
          49,
          50,
          51,
          52,
          53,
          54,
          55,
          56,
          57,
          58,
          59,
          60,
          61,
          62,
          63,
          64,
          65,
          66,
          67,
          68,
          69,
          70,
          71,
          72,
          73,
          74,
          75,
          76,
          77,
          78,
          79,
          80,
          81,
          82,
          83,
          84,
          85,
          86,
          87,
          88,
          89,
          90,
          91,
          92,
          93,
          94,
          95,
          96,
          97,
          98,
          99
         ],
         "y": [
          0.9807692170143127,
          0.9807692170143127,
          0.9807692170143127,
          0.9807692170143127,
          0.9807692170143127,
          0.9807692170143127,
          0.9807692170143127,
          0.9807692170143127,
          0.9807692170143127,
          0.9807692170143127,
          0.9807692170143127,
          0.9807692170143127,
          0.9807692170143127,
          0.9807692170143127,
          0.9807692170143127,
          0.9807692170143127,
          0.9807692170143127,
          0.9807692170143127,
          0.9807692170143127,
          0.9807692170143127,
          0.9835164546966553,
          0.9835164546966553,
          0.9835164546966553,
          0.9835164546966553,
          0.9835164546966553,
          0.9835164546966553,
          0.9835164546966553,
          0.9835164546966553,
          0.9835164546966553,
          0.9835164546966553,
          0.9835164546966553,
          0.9835164546966553,
          0.9835164546966553,
          0.9835164546966553,
          0.9835164546966553,
          0.9835164546966553,
          0.9835164546966553,
          0.9835164546966553,
          0.9835164546966553,
          0.9835164546966553,
          0.9835164546966553,
          0.9835164546966553,
          0.9835164546966553,
          0.9835164546966553,
          0.9835164546966553,
          0.9835164546966553,
          0.9835164546966553,
          0.9835164546966553,
          0.9835164546966553,
          0.9835164546966553,
          0.9835164546966553,
          0.9835164546966553,
          0.9835164546966553,
          0.9835164546966553,
          0.9835164546966553,
          0.9835164546966553,
          0.9835164546966553,
          0.9835164546966553,
          0.9835164546966553,
          0.9835164546966553,
          0.9835164546966553,
          0.9835164546966553,
          0.9835164546966553,
          0.9835164546966553,
          0.9835164546966553,
          0.9835164546966553,
          0.9835164546966553,
          0.9835164546966553,
          0.9835164546966553,
          0.9835164546966553,
          0.9835164546966553,
          0.9835164546966553,
          0.9835164546966553,
          0.9835164546966553,
          0.9835164546966553,
          0.9835164546966553,
          0.9835164546966553,
          0.9835164546966553,
          0.9835164546966553,
          0.9835164546966553,
          0.9835164546966553,
          0.9835164546966553,
          0.9835164546966553,
          0.9835164546966553,
          0.9835164546966553,
          0.9835164546966553,
          0.9835164546966553,
          0.9835164546966553,
          0.9835164546966553,
          0.9835164546966553,
          0.9835164546966553,
          0.9835164546966553,
          0.9835164546966553,
          0.9835164546966553,
          0.9835164546966553,
          0.9835164546966553,
          0.9835164546966553,
          0.9835164546966553,
          0.9835164546966553,
          0.9835164546966553
         ],
         "type": "scatter"
        },
        {
         "name": "val_accuracy",
         "x": [
          0,
          1,
          2,
          3,
          4,
          5,
          6,
          7,
          8,
          9,
          10,
          11,
          12,
          13,
          14,
          15,
          16,
          17,
          18,
          19,
          20,
          21,
          22,
          23,
          24,
          25,
          26,
          27,
          28,
          29,
          30,
          31,
          32,
          33,
          34,
          35,
          36,
          37,
          38,
          39,
          40,
          41,
          42,
          43,
          44,
          45,
          46,
          47,
          48,
          49,
          50,
          51,
          52,
          53,
          54,
          55,
          56,
          57,
          58,
          59,
          60,
          61,
          62,
          63,
          64,
          65,
          66,
          67,
          68,
          69,
          70,
          71,
          72,
          73,
          74,
          75,
          76,
          77,
          78,
          79,
          80,
          81,
          82,
          83,
          84,
          85,
          86,
          87,
          88,
          89,
          90,
          91,
          92,
          93,
          94,
          95,
          96,
          97,
          98,
          99
         ],
         "y": [
          0.9890109896659851,
          0.9890109896659851,
          0.9890109896659851,
          0.9890109896659851,
          0.9890109896659851,
          0.9890109896659851,
          0.9890109896659851,
          0.9890109896659851,
          0.9890109896659851,
          0.9890109896659851,
          0.9890109896659851,
          0.9890109896659851,
          0.9890109896659851,
          0.9890109896659851,
          0.9890109896659851,
          0.9890109896659851,
          0.9890109896659851,
          0.9890109896659851,
          0.9890109896659851,
          0.9890109896659851,
          0.9890109896659851,
          0.9890109896659851,
          0.9890109896659851,
          0.9890109896659851,
          0.9890109896659851,
          0.9890109896659851,
          0.9890109896659851,
          0.9890109896659851,
          0.9890109896659851,
          0.9890109896659851,
          0.9890109896659851,
          0.9890109896659851,
          0.9890109896659851,
          0.9890109896659851,
          0.9890109896659851,
          0.9890109896659851,
          0.9890109896659851,
          0.9890109896659851,
          0.9890109896659851,
          0.9890109896659851,
          0.9890109896659851,
          0.9890109896659851,
          0.9890109896659851,
          0.9890109896659851,
          0.9890109896659851,
          0.9890109896659851,
          0.9890109896659851,
          0.9890109896659851,
          0.9890109896659851,
          0.9890109896659851,
          0.9890109896659851,
          0.9890109896659851,
          0.9780219793319702,
          0.9890109896659851,
          0.9780219793319702,
          0.9780219793319702,
          0.9780219793319702,
          0.9780219793319702,
          0.9780219793319702,
          0.9780219793319702,
          0.9780219793319702,
          0.9780219793319702,
          0.9780219793319702,
          0.9780219793319702,
          0.9780219793319702,
          0.9780219793319702,
          0.9780219793319702,
          0.9780219793319702,
          0.9780219793319702,
          0.9780219793319702,
          0.9780219793319702,
          0.9780219793319702,
          0.9780219793319702,
          0.9780219793319702,
          0.9780219793319702,
          0.9780219793319702,
          0.9780219793319702,
          0.9780219793319702,
          0.9780219793319702,
          0.9780219793319702,
          0.9780219793319702,
          0.9780219793319702,
          0.9780219793319702,
          0.9780219793319702,
          0.9780219793319702,
          0.9780219793319702,
          0.9780219793319702,
          0.9780219793319702,
          0.9780219793319702,
          0.9780219793319702,
          0.9780219793319702,
          0.9780219793319702,
          0.9670329689979553,
          0.9670329689979553,
          0.9670329689979553,
          0.9780219793319702,
          0.9670329689979553,
          0.9670329689979553,
          0.9670329689979553,
          0.9780219793319702
         ],
         "type": "scatter"
        }
       ],
       "layout": {
        "template": {
         "data": {
          "histogram2dcontour": [
           {
            "type": "histogram2dcontour",
            "colorbar": {
             "outlinewidth": 0,
             "ticks": ""
            },
            "colorscale": [
             [
              0.0,
              "#0d0887"
             ],
             [
              0.1111111111111111,
              "#46039f"
             ],
             [
              0.2222222222222222,
              "#7201a8"
             ],
             [
              0.3333333333333333,
              "#9c179e"
             ],
             [
              0.4444444444444444,
              "#bd3786"
             ],
             [
              0.5555555555555556,
              "#d8576b"
             ],
             [
              0.6666666666666666,
              "#ed7953"
             ],
             [
              0.7777777777777778,
              "#fb9f3a"
             ],
             [
              0.8888888888888888,
              "#fdca26"
             ],
             [
              1.0,
              "#f0f921"
             ]
            ]
           }
          ],
          "choropleth": [
           {
            "type": "choropleth",
            "colorbar": {
             "outlinewidth": 0,
             "ticks": ""
            }
           }
          ],
          "histogram2d": [
           {
            "type": "histogram2d",
            "colorbar": {
             "outlinewidth": 0,
             "ticks": ""
            },
            "colorscale": [
             [
              0.0,
              "#0d0887"
             ],
             [
              0.1111111111111111,
              "#46039f"
             ],
             [
              0.2222222222222222,
              "#7201a8"
             ],
             [
              0.3333333333333333,
              "#9c179e"
             ],
             [
              0.4444444444444444,
              "#bd3786"
             ],
             [
              0.5555555555555556,
              "#d8576b"
             ],
             [
              0.6666666666666666,
              "#ed7953"
             ],
             [
              0.7777777777777778,
              "#fb9f3a"
             ],
             [
              0.8888888888888888,
              "#fdca26"
             ],
             [
              1.0,
              "#f0f921"
             ]
            ]
           }
          ],
          "heatmap": [
           {
            "type": "heatmap",
            "colorbar": {
             "outlinewidth": 0,
             "ticks": ""
            },
            "colorscale": [
             [
              0.0,
              "#0d0887"
             ],
             [
              0.1111111111111111,
              "#46039f"
             ],
             [
              0.2222222222222222,
              "#7201a8"
             ],
             [
              0.3333333333333333,
              "#9c179e"
             ],
             [
              0.4444444444444444,
              "#bd3786"
             ],
             [
              0.5555555555555556,
              "#d8576b"
             ],
             [
              0.6666666666666666,
              "#ed7953"
             ],
             [
              0.7777777777777778,
              "#fb9f3a"
             ],
             [
              0.8888888888888888,
              "#fdca26"
             ],
             [
              1.0,
              "#f0f921"
             ]
            ]
           }
          ],
          "heatmapgl": [
           {
            "type": "heatmapgl",
            "colorbar": {
             "outlinewidth": 0,
             "ticks": ""
            },
            "colorscale": [
             [
              0.0,
              "#0d0887"
             ],
             [
              0.1111111111111111,
              "#46039f"
             ],
             [
              0.2222222222222222,
              "#7201a8"
             ],
             [
              0.3333333333333333,
              "#9c179e"
             ],
             [
              0.4444444444444444,
              "#bd3786"
             ],
             [
              0.5555555555555556,
              "#d8576b"
             ],
             [
              0.6666666666666666,
              "#ed7953"
             ],
             [
              0.7777777777777778,
              "#fb9f3a"
             ],
             [
              0.8888888888888888,
              "#fdca26"
             ],
             [
              1.0,
              "#f0f921"
             ]
            ]
           }
          ],
          "contourcarpet": [
           {
            "type": "contourcarpet",
            "colorbar": {
             "outlinewidth": 0,
             "ticks": ""
            }
           }
          ],
          "contour": [
           {
            "type": "contour",
            "colorbar": {
             "outlinewidth": 0,
             "ticks": ""
            },
            "colorscale": [
             [
              0.0,
              "#0d0887"
             ],
             [
              0.1111111111111111,
              "#46039f"
             ],
             [
              0.2222222222222222,
              "#7201a8"
             ],
             [
              0.3333333333333333,
              "#9c179e"
             ],
             [
              0.4444444444444444,
              "#bd3786"
             ],
             [
              0.5555555555555556,
              "#d8576b"
             ],
             [
              0.6666666666666666,
              "#ed7953"
             ],
             [
              0.7777777777777778,
              "#fb9f3a"
             ],
             [
              0.8888888888888888,
              "#fdca26"
             ],
             [
              1.0,
              "#f0f921"
             ]
            ]
           }
          ],
          "surface": [
           {
            "type": "surface",
            "colorbar": {
             "outlinewidth": 0,
             "ticks": ""
            },
            "colorscale": [
             [
              0.0,
              "#0d0887"
             ],
             [
              0.1111111111111111,
              "#46039f"
             ],
             [
              0.2222222222222222,
              "#7201a8"
             ],
             [
              0.3333333333333333,
              "#9c179e"
             ],
             [
              0.4444444444444444,
              "#bd3786"
             ],
             [
              0.5555555555555556,
              "#d8576b"
             ],
             [
              0.6666666666666666,
              "#ed7953"
             ],
             [
              0.7777777777777778,
              "#fb9f3a"
             ],
             [
              0.8888888888888888,
              "#fdca26"
             ],
             [
              1.0,
              "#f0f921"
             ]
            ]
           }
          ],
          "mesh3d": [
           {
            "type": "mesh3d",
            "colorbar": {
             "outlinewidth": 0,
             "ticks": ""
            }
           }
          ],
          "scatter": [
           {
            "fillpattern": {
             "fillmode": "overlay",
             "size": 10,
             "solidity": 0.2
            },
            "type": "scatter"
           }
          ],
          "parcoords": [
           {
            "type": "parcoords",
            "line": {
             "colorbar": {
              "outlinewidth": 0,
              "ticks": ""
             }
            }
           }
          ],
          "scatterpolargl": [
           {
            "type": "scatterpolargl",
            "marker": {
             "colorbar": {
              "outlinewidth": 0,
              "ticks": ""
             }
            }
           }
          ],
          "bar": [
           {
            "error_x": {
             "color": "#2a3f5f"
            },
            "error_y": {
             "color": "#2a3f5f"
            },
            "marker": {
             "line": {
              "color": "#E5ECF6",
              "width": 0.5
             },
             "pattern": {
              "fillmode": "overlay",
              "size": 10,
              "solidity": 0.2
             }
            },
            "type": "bar"
           }
          ],
          "scattergeo": [
           {
            "type": "scattergeo",
            "marker": {
             "colorbar": {
              "outlinewidth": 0,
              "ticks": ""
             }
            }
           }
          ],
          "scatterpolar": [
           {
            "type": "scatterpolar",
            "marker": {
             "colorbar": {
              "outlinewidth": 0,
              "ticks": ""
             }
            }
           }
          ],
          "histogram": [
           {
            "marker": {
             "pattern": {
              "fillmode": "overlay",
              "size": 10,
              "solidity": 0.2
             }
            },
            "type": "histogram"
           }
          ],
          "scattergl": [
           {
            "type": "scattergl",
            "marker": {
             "colorbar": {
              "outlinewidth": 0,
              "ticks": ""
             }
            }
           }
          ],
          "scatter3d": [
           {
            "type": "scatter3d",
            "line": {
             "colorbar": {
              "outlinewidth": 0,
              "ticks": ""
             }
            },
            "marker": {
             "colorbar": {
              "outlinewidth": 0,
              "ticks": ""
             }
            }
           }
          ],
          "scattermapbox": [
           {
            "type": "scattermapbox",
            "marker": {
             "colorbar": {
              "outlinewidth": 0,
              "ticks": ""
             }
            }
           }
          ],
          "scatterternary": [
           {
            "type": "scatterternary",
            "marker": {
             "colorbar": {
              "outlinewidth": 0,
              "ticks": ""
             }
            }
           }
          ],
          "scattercarpet": [
           {
            "type": "scattercarpet",
            "marker": {
             "colorbar": {
              "outlinewidth": 0,
              "ticks": ""
             }
            }
           }
          ],
          "carpet": [
           {
            "aaxis": {
             "endlinecolor": "#2a3f5f",
             "gridcolor": "white",
             "linecolor": "white",
             "minorgridcolor": "white",
             "startlinecolor": "#2a3f5f"
            },
            "baxis": {
             "endlinecolor": "#2a3f5f",
             "gridcolor": "white",
             "linecolor": "white",
             "minorgridcolor": "white",
             "startlinecolor": "#2a3f5f"
            },
            "type": "carpet"
           }
          ],
          "table": [
           {
            "cells": {
             "fill": {
              "color": "#EBF0F8"
             },
             "line": {
              "color": "white"
             }
            },
            "header": {
             "fill": {
              "color": "#C8D4E3"
             },
             "line": {
              "color": "white"
             }
            },
            "type": "table"
           }
          ],
          "barpolar": [
           {
            "marker": {
             "line": {
              "color": "#E5ECF6",
              "width": 0.5
             },
             "pattern": {
              "fillmode": "overlay",
              "size": 10,
              "solidity": 0.2
             }
            },
            "type": "barpolar"
           }
          ],
          "pie": [
           {
            "automargin": true,
            "type": "pie"
           }
          ]
         },
         "layout": {
          "autotypenumbers": "strict",
          "colorway": [
           "#636efa",
           "#EF553B",
           "#00cc96",
           "#ab63fa",
           "#FFA15A",
           "#19d3f3",
           "#FF6692",
           "#B6E880",
           "#FF97FF",
           "#FECB52"
          ],
          "font": {
           "color": "#2a3f5f"
          },
          "hovermode": "closest",
          "hoverlabel": {
           "align": "left"
          },
          "paper_bgcolor": "white",
          "plot_bgcolor": "#E5ECF6",
          "polar": {
           "bgcolor": "#E5ECF6",
           "angularaxis": {
            "gridcolor": "white",
            "linecolor": "white",
            "ticks": ""
           },
           "radialaxis": {
            "gridcolor": "white",
            "linecolor": "white",
            "ticks": ""
           }
          },
          "ternary": {
           "bgcolor": "#E5ECF6",
           "aaxis": {
            "gridcolor": "white",
            "linecolor": "white",
            "ticks": ""
           },
           "baxis": {
            "gridcolor": "white",
            "linecolor": "white",
            "ticks": ""
           },
           "caxis": {
            "gridcolor": "white",
            "linecolor": "white",
            "ticks": ""
           }
          },
          "coloraxis": {
           "colorbar": {
            "outlinewidth": 0,
            "ticks": ""
           }
          },
          "colorscale": {
           "sequential": [
            [
             0.0,
             "#0d0887"
            ],
            [
             0.1111111111111111,
             "#46039f"
            ],
            [
             0.2222222222222222,
             "#7201a8"
            ],
            [
             0.3333333333333333,
             "#9c179e"
            ],
            [
             0.4444444444444444,
             "#bd3786"
            ],
            [
             0.5555555555555556,
             "#d8576b"
            ],
            [
             0.6666666666666666,
             "#ed7953"
            ],
            [
             0.7777777777777778,
             "#fb9f3a"
            ],
            [
             0.8888888888888888,
             "#fdca26"
            ],
            [
             1.0,
             "#f0f921"
            ]
           ],
           "sequentialminus": [
            [
             0.0,
             "#0d0887"
            ],
            [
             0.1111111111111111,
             "#46039f"
            ],
            [
             0.2222222222222222,
             "#7201a8"
            ],
            [
             0.3333333333333333,
             "#9c179e"
            ],
            [
             0.4444444444444444,
             "#bd3786"
            ],
            [
             0.5555555555555556,
             "#d8576b"
            ],
            [
             0.6666666666666666,
             "#ed7953"
            ],
            [
             0.7777777777777778,
             "#fb9f3a"
            ],
            [
             0.8888888888888888,
             "#fdca26"
            ],
            [
             1.0,
             "#f0f921"
            ]
           ],
           "diverging": [
            [
             0,
             "#8e0152"
            ],
            [
             0.1,
             "#c51b7d"
            ],
            [
             0.2,
             "#de77ae"
            ],
            [
             0.3,
             "#f1b6da"
            ],
            [
             0.4,
             "#fde0ef"
            ],
            [
             0.5,
             "#f7f7f7"
            ],
            [
             0.6,
             "#e6f5d0"
            ],
            [
             0.7,
             "#b8e186"
            ],
            [
             0.8,
             "#7fbc41"
            ],
            [
             0.9,
             "#4d9221"
            ],
            [
             1,
             "#276419"
            ]
           ]
          },
          "xaxis": {
           "gridcolor": "white",
           "linecolor": "white",
           "ticks": "",
           "title": {
            "standoff": 15
           },
           "zerolinecolor": "white",
           "automargin": true,
           "zerolinewidth": 2
          },
          "yaxis": {
           "gridcolor": "white",
           "linecolor": "white",
           "ticks": "",
           "title": {
            "standoff": 15
           },
           "zerolinecolor": "white",
           "automargin": true,
           "zerolinewidth": 2
          },
          "scene": {
           "xaxis": {
            "backgroundcolor": "#E5ECF6",
            "gridcolor": "white",
            "linecolor": "white",
            "showbackground": true,
            "ticks": "",
            "zerolinecolor": "white",
            "gridwidth": 2
           },
           "yaxis": {
            "backgroundcolor": "#E5ECF6",
            "gridcolor": "white",
            "linecolor": "white",
            "showbackground": true,
            "ticks": "",
            "zerolinecolor": "white",
            "gridwidth": 2
           },
           "zaxis": {
            "backgroundcolor": "#E5ECF6",
            "gridcolor": "white",
            "linecolor": "white",
            "showbackground": true,
            "ticks": "",
            "zerolinecolor": "white",
            "gridwidth": 2
           }
          },
          "shapedefaults": {
           "line": {
            "color": "#2a3f5f"
           }
          },
          "annotationdefaults": {
           "arrowcolor": "#2a3f5f",
           "arrowhead": 0,
           "arrowwidth": 1
          },
          "geo": {
           "bgcolor": "white",
           "landcolor": "#E5ECF6",
           "subunitcolor": "white",
           "showland": true,
           "showlakes": true,
           "lakecolor": "white"
          },
          "title": {
           "x": 0.05
          },
          "mapbox": {
           "style": "light"
          }
         }
        }
       },
       "config": {
        "plotlyServerURL": "https://plot.ly"
       }
      },
      "text/html": "<div>                            <div id=\"fc71aeae-38fd-4dd3-b563-7c774f429569\" class=\"plotly-graph-div\" style=\"height:525px; width:100%;\"></div>            <script type=\"text/javascript\">                require([\"plotly\"], function(Plotly) {                    window.PLOTLYENV=window.PLOTLYENV || {};                                    if (document.getElementById(\"fc71aeae-38fd-4dd3-b563-7c774f429569\")) {                    Plotly.newPlot(                        \"fc71aeae-38fd-4dd3-b563-7c774f429569\",                        [{\"name\":\"accuracy\",\"x\":[0,1,2,3,4,5,6,7,8,9,10,11,12,13,14,15,16,17,18,19,20,21,22,23,24,25,26,27,28,29,30,31,32,33,34,35,36,37,38,39,40,41,42,43,44,45,46,47,48,49,50,51,52,53,54,55,56,57,58,59,60,61,62,63,64,65,66,67,68,69,70,71,72,73,74,75,76,77,78,79,80,81,82,83,84,85,86,87,88,89,90,91,92,93,94,95,96,97,98,99],\"y\":[0.9807692170143127,0.9807692170143127,0.9807692170143127,0.9807692170143127,0.9807692170143127,0.9807692170143127,0.9807692170143127,0.9807692170143127,0.9807692170143127,0.9807692170143127,0.9807692170143127,0.9807692170143127,0.9807692170143127,0.9807692170143127,0.9807692170143127,0.9807692170143127,0.9807692170143127,0.9807692170143127,0.9807692170143127,0.9807692170143127,0.9835164546966553,0.9835164546966553,0.9835164546966553,0.9835164546966553,0.9835164546966553,0.9835164546966553,0.9835164546966553,0.9835164546966553,0.9835164546966553,0.9835164546966553,0.9835164546966553,0.9835164546966553,0.9835164546966553,0.9835164546966553,0.9835164546966553,0.9835164546966553,0.9835164546966553,0.9835164546966553,0.9835164546966553,0.9835164546966553,0.9835164546966553,0.9835164546966553,0.9835164546966553,0.9835164546966553,0.9835164546966553,0.9835164546966553,0.9835164546966553,0.9835164546966553,0.9835164546966553,0.9835164546966553,0.9835164546966553,0.9835164546966553,0.9835164546966553,0.9835164546966553,0.9835164546966553,0.9835164546966553,0.9835164546966553,0.9835164546966553,0.9835164546966553,0.9835164546966553,0.9835164546966553,0.9835164546966553,0.9835164546966553,0.9835164546966553,0.9835164546966553,0.9835164546966553,0.9835164546966553,0.9835164546966553,0.9835164546966553,0.9835164546966553,0.9835164546966553,0.9835164546966553,0.9835164546966553,0.9835164546966553,0.9835164546966553,0.9835164546966553,0.9835164546966553,0.9835164546966553,0.9835164546966553,0.9835164546966553,0.9835164546966553,0.9835164546966553,0.9835164546966553,0.9835164546966553,0.9835164546966553,0.9835164546966553,0.9835164546966553,0.9835164546966553,0.9835164546966553,0.9835164546966553,0.9835164546966553,0.9835164546966553,0.9835164546966553,0.9835164546966553,0.9835164546966553,0.9835164546966553,0.9835164546966553,0.9835164546966553,0.9835164546966553,0.9835164546966553],\"type\":\"scatter\"},{\"name\":\"val_accuracy\",\"x\":[0,1,2,3,4,5,6,7,8,9,10,11,12,13,14,15,16,17,18,19,20,21,22,23,24,25,26,27,28,29,30,31,32,33,34,35,36,37,38,39,40,41,42,43,44,45,46,47,48,49,50,51,52,53,54,55,56,57,58,59,60,61,62,63,64,65,66,67,68,69,70,71,72,73,74,75,76,77,78,79,80,81,82,83,84,85,86,87,88,89,90,91,92,93,94,95,96,97,98,99],\"y\":[0.9890109896659851,0.9890109896659851,0.9890109896659851,0.9890109896659851,0.9890109896659851,0.9890109896659851,0.9890109896659851,0.9890109896659851,0.9890109896659851,0.9890109896659851,0.9890109896659851,0.9890109896659851,0.9890109896659851,0.9890109896659851,0.9890109896659851,0.9890109896659851,0.9890109896659851,0.9890109896659851,0.9890109896659851,0.9890109896659851,0.9890109896659851,0.9890109896659851,0.9890109896659851,0.9890109896659851,0.9890109896659851,0.9890109896659851,0.9890109896659851,0.9890109896659851,0.9890109896659851,0.9890109896659851,0.9890109896659851,0.9890109896659851,0.9890109896659851,0.9890109896659851,0.9890109896659851,0.9890109896659851,0.9890109896659851,0.9890109896659851,0.9890109896659851,0.9890109896659851,0.9890109896659851,0.9890109896659851,0.9890109896659851,0.9890109896659851,0.9890109896659851,0.9890109896659851,0.9890109896659851,0.9890109896659851,0.9890109896659851,0.9890109896659851,0.9890109896659851,0.9890109896659851,0.9780219793319702,0.9890109896659851,0.9780219793319702,0.9780219793319702,0.9780219793319702,0.9780219793319702,0.9780219793319702,0.9780219793319702,0.9780219793319702,0.9780219793319702,0.9780219793319702,0.9780219793319702,0.9780219793319702,0.9780219793319702,0.9780219793319702,0.9780219793319702,0.9780219793319702,0.9780219793319702,0.9780219793319702,0.9780219793319702,0.9780219793319702,0.9780219793319702,0.9780219793319702,0.9780219793319702,0.9780219793319702,0.9780219793319702,0.9780219793319702,0.9780219793319702,0.9780219793319702,0.9780219793319702,0.9780219793319702,0.9780219793319702,0.9780219793319702,0.9780219793319702,0.9780219793319702,0.9780219793319702,0.9780219793319702,0.9780219793319702,0.9780219793319702,0.9780219793319702,0.9670329689979553,0.9670329689979553,0.9670329689979553,0.9780219793319702,0.9670329689979553,0.9670329689979553,0.9670329689979553,0.9780219793319702],\"type\":\"scatter\"}],                        {\"template\":{\"data\":{\"histogram2dcontour\":[{\"type\":\"histogram2dcontour\",\"colorbar\":{\"outlinewidth\":0,\"ticks\":\"\"},\"colorscale\":[[0.0,\"#0d0887\"],[0.1111111111111111,\"#46039f\"],[0.2222222222222222,\"#7201a8\"],[0.3333333333333333,\"#9c179e\"],[0.4444444444444444,\"#bd3786\"],[0.5555555555555556,\"#d8576b\"],[0.6666666666666666,\"#ed7953\"],[0.7777777777777778,\"#fb9f3a\"],[0.8888888888888888,\"#fdca26\"],[1.0,\"#f0f921\"]]}],\"choropleth\":[{\"type\":\"choropleth\",\"colorbar\":{\"outlinewidth\":0,\"ticks\":\"\"}}],\"histogram2d\":[{\"type\":\"histogram2d\",\"colorbar\":{\"outlinewidth\":0,\"ticks\":\"\"},\"colorscale\":[[0.0,\"#0d0887\"],[0.1111111111111111,\"#46039f\"],[0.2222222222222222,\"#7201a8\"],[0.3333333333333333,\"#9c179e\"],[0.4444444444444444,\"#bd3786\"],[0.5555555555555556,\"#d8576b\"],[0.6666666666666666,\"#ed7953\"],[0.7777777777777778,\"#fb9f3a\"],[0.8888888888888888,\"#fdca26\"],[1.0,\"#f0f921\"]]}],\"heatmap\":[{\"type\":\"heatmap\",\"colorbar\":{\"outlinewidth\":0,\"ticks\":\"\"},\"colorscale\":[[0.0,\"#0d0887\"],[0.1111111111111111,\"#46039f\"],[0.2222222222222222,\"#7201a8\"],[0.3333333333333333,\"#9c179e\"],[0.4444444444444444,\"#bd3786\"],[0.5555555555555556,\"#d8576b\"],[0.6666666666666666,\"#ed7953\"],[0.7777777777777778,\"#fb9f3a\"],[0.8888888888888888,\"#fdca26\"],[1.0,\"#f0f921\"]]}],\"heatmapgl\":[{\"type\":\"heatmapgl\",\"colorbar\":{\"outlinewidth\":0,\"ticks\":\"\"},\"colorscale\":[[0.0,\"#0d0887\"],[0.1111111111111111,\"#46039f\"],[0.2222222222222222,\"#7201a8\"],[0.3333333333333333,\"#9c179e\"],[0.4444444444444444,\"#bd3786\"],[0.5555555555555556,\"#d8576b\"],[0.6666666666666666,\"#ed7953\"],[0.7777777777777778,\"#fb9f3a\"],[0.8888888888888888,\"#fdca26\"],[1.0,\"#f0f921\"]]}],\"contourcarpet\":[{\"type\":\"contourcarpet\",\"colorbar\":{\"outlinewidth\":0,\"ticks\":\"\"}}],\"contour\":[{\"type\":\"contour\",\"colorbar\":{\"outlinewidth\":0,\"ticks\":\"\"},\"colorscale\":[[0.0,\"#0d0887\"],[0.1111111111111111,\"#46039f\"],[0.2222222222222222,\"#7201a8\"],[0.3333333333333333,\"#9c179e\"],[0.4444444444444444,\"#bd3786\"],[0.5555555555555556,\"#d8576b\"],[0.6666666666666666,\"#ed7953\"],[0.7777777777777778,\"#fb9f3a\"],[0.8888888888888888,\"#fdca26\"],[1.0,\"#f0f921\"]]}],\"surface\":[{\"type\":\"surface\",\"colorbar\":{\"outlinewidth\":0,\"ticks\":\"\"},\"colorscale\":[[0.0,\"#0d0887\"],[0.1111111111111111,\"#46039f\"],[0.2222222222222222,\"#7201a8\"],[0.3333333333333333,\"#9c179e\"],[0.4444444444444444,\"#bd3786\"],[0.5555555555555556,\"#d8576b\"],[0.6666666666666666,\"#ed7953\"],[0.7777777777777778,\"#fb9f3a\"],[0.8888888888888888,\"#fdca26\"],[1.0,\"#f0f921\"]]}],\"mesh3d\":[{\"type\":\"mesh3d\",\"colorbar\":{\"outlinewidth\":0,\"ticks\":\"\"}}],\"scatter\":[{\"fillpattern\":{\"fillmode\":\"overlay\",\"size\":10,\"solidity\":0.2},\"type\":\"scatter\"}],\"parcoords\":[{\"type\":\"parcoords\",\"line\":{\"colorbar\":{\"outlinewidth\":0,\"ticks\":\"\"}}}],\"scatterpolargl\":[{\"type\":\"scatterpolargl\",\"marker\":{\"colorbar\":{\"outlinewidth\":0,\"ticks\":\"\"}}}],\"bar\":[{\"error_x\":{\"color\":\"#2a3f5f\"},\"error_y\":{\"color\":\"#2a3f5f\"},\"marker\":{\"line\":{\"color\":\"#E5ECF6\",\"width\":0.5},\"pattern\":{\"fillmode\":\"overlay\",\"size\":10,\"solidity\":0.2}},\"type\":\"bar\"}],\"scattergeo\":[{\"type\":\"scattergeo\",\"marker\":{\"colorbar\":{\"outlinewidth\":0,\"ticks\":\"\"}}}],\"scatterpolar\":[{\"type\":\"scatterpolar\",\"marker\":{\"colorbar\":{\"outlinewidth\":0,\"ticks\":\"\"}}}],\"histogram\":[{\"marker\":{\"pattern\":{\"fillmode\":\"overlay\",\"size\":10,\"solidity\":0.2}},\"type\":\"histogram\"}],\"scattergl\":[{\"type\":\"scattergl\",\"marker\":{\"colorbar\":{\"outlinewidth\":0,\"ticks\":\"\"}}}],\"scatter3d\":[{\"type\":\"scatter3d\",\"line\":{\"colorbar\":{\"outlinewidth\":0,\"ticks\":\"\"}},\"marker\":{\"colorbar\":{\"outlinewidth\":0,\"ticks\":\"\"}}}],\"scattermapbox\":[{\"type\":\"scattermapbox\",\"marker\":{\"colorbar\":{\"outlinewidth\":0,\"ticks\":\"\"}}}],\"scatterternary\":[{\"type\":\"scatterternary\",\"marker\":{\"colorbar\":{\"outlinewidth\":0,\"ticks\":\"\"}}}],\"scattercarpet\":[{\"type\":\"scattercarpet\",\"marker\":{\"colorbar\":{\"outlinewidth\":0,\"ticks\":\"\"}}}],\"carpet\":[{\"aaxis\":{\"endlinecolor\":\"#2a3f5f\",\"gridcolor\":\"white\",\"linecolor\":\"white\",\"minorgridcolor\":\"white\",\"startlinecolor\":\"#2a3f5f\"},\"baxis\":{\"endlinecolor\":\"#2a3f5f\",\"gridcolor\":\"white\",\"linecolor\":\"white\",\"minorgridcolor\":\"white\",\"startlinecolor\":\"#2a3f5f\"},\"type\":\"carpet\"}],\"table\":[{\"cells\":{\"fill\":{\"color\":\"#EBF0F8\"},\"line\":{\"color\":\"white\"}},\"header\":{\"fill\":{\"color\":\"#C8D4E3\"},\"line\":{\"color\":\"white\"}},\"type\":\"table\"}],\"barpolar\":[{\"marker\":{\"line\":{\"color\":\"#E5ECF6\",\"width\":0.5},\"pattern\":{\"fillmode\":\"overlay\",\"size\":10,\"solidity\":0.2}},\"type\":\"barpolar\"}],\"pie\":[{\"automargin\":true,\"type\":\"pie\"}]},\"layout\":{\"autotypenumbers\":\"strict\",\"colorway\":[\"#636efa\",\"#EF553B\",\"#00cc96\",\"#ab63fa\",\"#FFA15A\",\"#19d3f3\",\"#FF6692\",\"#B6E880\",\"#FF97FF\",\"#FECB52\"],\"font\":{\"color\":\"#2a3f5f\"},\"hovermode\":\"closest\",\"hoverlabel\":{\"align\":\"left\"},\"paper_bgcolor\":\"white\",\"plot_bgcolor\":\"#E5ECF6\",\"polar\":{\"bgcolor\":\"#E5ECF6\",\"angularaxis\":{\"gridcolor\":\"white\",\"linecolor\":\"white\",\"ticks\":\"\"},\"radialaxis\":{\"gridcolor\":\"white\",\"linecolor\":\"white\",\"ticks\":\"\"}},\"ternary\":{\"bgcolor\":\"#E5ECF6\",\"aaxis\":{\"gridcolor\":\"white\",\"linecolor\":\"white\",\"ticks\":\"\"},\"baxis\":{\"gridcolor\":\"white\",\"linecolor\":\"white\",\"ticks\":\"\"},\"caxis\":{\"gridcolor\":\"white\",\"linecolor\":\"white\",\"ticks\":\"\"}},\"coloraxis\":{\"colorbar\":{\"outlinewidth\":0,\"ticks\":\"\"}},\"colorscale\":{\"sequential\":[[0.0,\"#0d0887\"],[0.1111111111111111,\"#46039f\"],[0.2222222222222222,\"#7201a8\"],[0.3333333333333333,\"#9c179e\"],[0.4444444444444444,\"#bd3786\"],[0.5555555555555556,\"#d8576b\"],[0.6666666666666666,\"#ed7953\"],[0.7777777777777778,\"#fb9f3a\"],[0.8888888888888888,\"#fdca26\"],[1.0,\"#f0f921\"]],\"sequentialminus\":[[0.0,\"#0d0887\"],[0.1111111111111111,\"#46039f\"],[0.2222222222222222,\"#7201a8\"],[0.3333333333333333,\"#9c179e\"],[0.4444444444444444,\"#bd3786\"],[0.5555555555555556,\"#d8576b\"],[0.6666666666666666,\"#ed7953\"],[0.7777777777777778,\"#fb9f3a\"],[0.8888888888888888,\"#fdca26\"],[1.0,\"#f0f921\"]],\"diverging\":[[0,\"#8e0152\"],[0.1,\"#c51b7d\"],[0.2,\"#de77ae\"],[0.3,\"#f1b6da\"],[0.4,\"#fde0ef\"],[0.5,\"#f7f7f7\"],[0.6,\"#e6f5d0\"],[0.7,\"#b8e186\"],[0.8,\"#7fbc41\"],[0.9,\"#4d9221\"],[1,\"#276419\"]]},\"xaxis\":{\"gridcolor\":\"white\",\"linecolor\":\"white\",\"ticks\":\"\",\"title\":{\"standoff\":15},\"zerolinecolor\":\"white\",\"automargin\":true,\"zerolinewidth\":2},\"yaxis\":{\"gridcolor\":\"white\",\"linecolor\":\"white\",\"ticks\":\"\",\"title\":{\"standoff\":15},\"zerolinecolor\":\"white\",\"automargin\":true,\"zerolinewidth\":2},\"scene\":{\"xaxis\":{\"backgroundcolor\":\"#E5ECF6\",\"gridcolor\":\"white\",\"linecolor\":\"white\",\"showbackground\":true,\"ticks\":\"\",\"zerolinecolor\":\"white\",\"gridwidth\":2},\"yaxis\":{\"backgroundcolor\":\"#E5ECF6\",\"gridcolor\":\"white\",\"linecolor\":\"white\",\"showbackground\":true,\"ticks\":\"\",\"zerolinecolor\":\"white\",\"gridwidth\":2},\"zaxis\":{\"backgroundcolor\":\"#E5ECF6\",\"gridcolor\":\"white\",\"linecolor\":\"white\",\"showbackground\":true,\"ticks\":\"\",\"zerolinecolor\":\"white\",\"gridwidth\":2}},\"shapedefaults\":{\"line\":{\"color\":\"#2a3f5f\"}},\"annotationdefaults\":{\"arrowcolor\":\"#2a3f5f\",\"arrowhead\":0,\"arrowwidth\":1},\"geo\":{\"bgcolor\":\"white\",\"landcolor\":\"#E5ECF6\",\"subunitcolor\":\"white\",\"showland\":true,\"showlakes\":true,\"lakecolor\":\"white\"},\"title\":{\"x\":0.05},\"mapbox\":{\"style\":\"light\"}}}},                        {\"responsive\": true}                    ).then(function(){\n                            \nvar gd = document.getElementById('fc71aeae-38fd-4dd3-b563-7c774f429569');\nvar x = new MutationObserver(function (mutations, observer) {{\n        var display = window.getComputedStyle(gd).display;\n        if (!display || display === 'none') {{\n            console.log([gd, 'removed!']);\n            Plotly.purge(gd);\n            observer.disconnect();\n        }}\n}});\n\n// Listen for the removal of the full notebook cells\nvar notebookContainer = gd.closest('#notebook-container');\nif (notebookContainer) {{\n    x.observe(notebookContainer, {childList: true});\n}}\n\n// Listen for the clearing of the current output cell\nvar outputEl = gd.closest('.output');\nif (outputEl) {{\n    x.observe(outputEl, {childList: true});\n}}\n\n                        })                };                });            </script>        </div>"
     },
     "metadata": {},
     "output_type": "display_data"
    },
    {
     "data": {
      "application/vnd.plotly.v1+json": {
       "data": [
        {
         "name": "loss",
         "x": [
          0,
          1,
          2,
          3,
          4,
          5,
          6,
          7,
          8,
          9,
          10,
          11,
          12,
          13,
          14,
          15,
          16,
          17,
          18,
          19,
          20,
          21,
          22,
          23,
          24,
          25,
          26,
          27,
          28,
          29,
          30,
          31,
          32,
          33,
          34,
          35,
          36,
          37,
          38,
          39,
          40,
          41,
          42,
          43,
          44,
          45,
          46,
          47,
          48,
          49,
          50,
          51,
          52,
          53,
          54,
          55,
          56,
          57,
          58,
          59,
          60,
          61,
          62,
          63,
          64,
          65,
          66,
          67,
          68,
          69,
          70,
          71,
          72,
          73,
          74,
          75,
          76,
          77,
          78,
          79,
          80,
          81,
          82,
          83,
          84,
          85,
          86,
          87,
          88,
          89,
          90,
          91,
          92,
          93,
          94,
          95,
          96,
          97,
          98,
          99
         ],
         "y": [
          0.07112274318933487,
          0.07085689902305603,
          0.0706784650683403,
          0.07045568525791168,
          0.07027564197778702,
          0.07007306814193726,
          0.06991994380950928,
          0.06969223916530609,
          0.06953612715005875,
          0.06935285031795502,
          0.06920520216226578,
          0.06905076652765274,
          0.06889206916093826,
          0.06874271482229233,
          0.06854945421218872,
          0.06841160356998444,
          0.06824140250682831,
          0.06808660924434662,
          0.06794723868370056,
          0.06776107102632523,
          0.06763442605733871,
          0.06748181581497192,
          0.06736693531274796,
          0.06724786013364792,
          0.06713999807834625,
          0.06695885956287384,
          0.06684710085391998,
          0.06668587774038315,
          0.06659835577011108,
          0.06645607203245163,
          0.06631271541118622,
          0.06624161452054977,
          0.06604096293449402,
          0.06591688096523285,
          0.06581474840641022,
          0.06574442237615585,
          0.06560669094324112,
          0.06549985706806183,
          0.06535259634256363,
          0.06523680686950684,
          0.06511559337377548,
          0.06499950587749481,
          0.06490575522184372,
          0.06480158865451813,
          0.06471413373947144,
          0.0646313801407814,
          0.06455419212579727,
          0.06438971310853958,
          0.06430519372224808,
          0.06419828534126282,
          0.06405478715896606,
          0.06397693604230881,
          0.06389641761779785,
          0.06383469700813293,
          0.06379329413175583,
          0.06366406381130219,
          0.06356282532215118,
          0.06345794349908829,
          0.06335306167602539,
          0.0632905513048172,
          0.06318721920251846,
          0.06305231899023056,
          0.06300751864910126,
          0.06293027102947235,
          0.06282051652669907,
          0.06268646568059921,
          0.06271977722644806,
          0.06255364418029785,
          0.06253433227539062,
          0.06242351233959198,
          0.0623086579144001,
          0.062224749475717545,
          0.062179822474718094,
          0.062051769345998764,
          0.06200053170323372,
          0.06188766285777092,
          0.06183246895670891,
          0.06181630119681358,
          0.06178019940853119,
          0.061602771282196045,
          0.06162099912762642,
          0.061443693935871124,
          0.061395641416311264,
          0.06132171303033829,
          0.061253536492586136,
          0.06119809299707413,
          0.061136189848184586,
          0.061087727546691895,
          0.06098324432969093,
          0.060949187725782394,
          0.06083221361041069,
          0.06075034290552139,
          0.06071238964796066,
          0.06064779683947563,
          0.06056909263134003,
          0.06052446737885475,
          0.0604255273938179,
          0.060380611568689346,
          0.06029001250863075,
          0.06025080010294914
         ],
         "type": "scatter"
        },
        {
         "name": "val_loss",
         "x": [
          0,
          1,
          2,
          3,
          4,
          5,
          6,
          7,
          8,
          9,
          10,
          11,
          12,
          13,
          14,
          15,
          16,
          17,
          18,
          19,
          20,
          21,
          22,
          23,
          24,
          25,
          26,
          27,
          28,
          29,
          30,
          31,
          32,
          33,
          34,
          35,
          36,
          37,
          38,
          39,
          40,
          41,
          42,
          43,
          44,
          45,
          46,
          47,
          48,
          49,
          50,
          51,
          52,
          53,
          54,
          55,
          56,
          57,
          58,
          59,
          60,
          61,
          62,
          63,
          64,
          65,
          66,
          67,
          68,
          69,
          70,
          71,
          72,
          73,
          74,
          75,
          76,
          77,
          78,
          79,
          80,
          81,
          82,
          83,
          84,
          85,
          86,
          87,
          88,
          89,
          90,
          91,
          92,
          93,
          94,
          95,
          96,
          97,
          98,
          99
         ],
         "y": [
          0.05951477959752083,
          0.05956039950251579,
          0.05917655676603317,
          0.059209439903497696,
          0.058639638125896454,
          0.05836492404341698,
          0.05849388241767883,
          0.058471277356147766,
          0.058407727628946304,
          0.05838890001177788,
          0.05817510187625885,
          0.05822672322392464,
          0.058008771389722824,
          0.057922545820474625,
          0.057828567922115326,
          0.057651031762361526,
          0.057630039751529694,
          0.05751197412610054,
          0.057406749576330185,
          0.05715214088559151,
          0.05710647255182266,
          0.05693203955888748,
          0.056642625480890274,
          0.05665498226881027,
          0.05681164190173149,
          0.05662230774760246,
          0.05661305785179138,
          0.05654731020331383,
          0.05627920851111412,
          0.056501246988773346,
          0.0564911849796772,
          0.05603563413023949,
          0.05649775266647339,
          0.056697435677051544,
          0.056854624301195145,
          0.05707760155200958,
          0.05704653263092041,
          0.05749986320734024,
          0.05732642859220505,
          0.057347893714904785,
          0.057150956243276596,
          0.05684638395905495,
          0.05694607272744179,
          0.05678785219788551,
          0.05689064413309097,
          0.05658848583698273,
          0.057235896587371826,
          0.05722356215119362,
          0.05736924707889557,
          0.057224102318286896,
          0.05772807076573372,
          0.0577678419649601,
          0.057951197028160095,
          0.0576271116733551,
          0.05831679701805115,
          0.058477334678173065,
          0.05782070755958557,
          0.05778825283050537,
          0.057550713419914246,
          0.057724397629499435,
          0.05747796222567558,
          0.0575215145945549,
          0.0575723871588707,
          0.0569726936519146,
          0.057228412479162216,
          0.057824574410915375,
          0.058301497250795364,
          0.05759605020284653,
          0.056986693292856216,
          0.05717174708843231,
          0.05690703168511391,
          0.05703668296337128,
          0.05683787912130356,
          0.057246133685112,
          0.0575735867023468,
          0.057505495846271515,
          0.05730094388127327,
          0.05676473304629326,
          0.057295944541692734,
          0.05722566321492195,
          0.05690198391675949,
          0.057841844856739044,
          0.0585753358900547,
          0.058602552860975266,
          0.05850395932793617,
          0.05925389751791954,
          0.05941060185432434,
          0.05935528501868248,
          0.059675972908735275,
          0.059159643948078156,
          0.05929061397910118,
          0.05980474501848221,
          0.060021962970495224,
          0.059985291212797165,
          0.0598861463367939,
          0.059367891401052475,
          0.05955946072936058,
          0.059271279722452164,
          0.05921836569905281,
          0.058964937925338745
         ],
         "type": "scatter"
        }
       ],
       "layout": {
        "template": {
         "data": {
          "histogram2dcontour": [
           {
            "type": "histogram2dcontour",
            "colorbar": {
             "outlinewidth": 0,
             "ticks": ""
            },
            "colorscale": [
             [
              0.0,
              "#0d0887"
             ],
             [
              0.1111111111111111,
              "#46039f"
             ],
             [
              0.2222222222222222,
              "#7201a8"
             ],
             [
              0.3333333333333333,
              "#9c179e"
             ],
             [
              0.4444444444444444,
              "#bd3786"
             ],
             [
              0.5555555555555556,
              "#d8576b"
             ],
             [
              0.6666666666666666,
              "#ed7953"
             ],
             [
              0.7777777777777778,
              "#fb9f3a"
             ],
             [
              0.8888888888888888,
              "#fdca26"
             ],
             [
              1.0,
              "#f0f921"
             ]
            ]
           }
          ],
          "choropleth": [
           {
            "type": "choropleth",
            "colorbar": {
             "outlinewidth": 0,
             "ticks": ""
            }
           }
          ],
          "histogram2d": [
           {
            "type": "histogram2d",
            "colorbar": {
             "outlinewidth": 0,
             "ticks": ""
            },
            "colorscale": [
             [
              0.0,
              "#0d0887"
             ],
             [
              0.1111111111111111,
              "#46039f"
             ],
             [
              0.2222222222222222,
              "#7201a8"
             ],
             [
              0.3333333333333333,
              "#9c179e"
             ],
             [
              0.4444444444444444,
              "#bd3786"
             ],
             [
              0.5555555555555556,
              "#d8576b"
             ],
             [
              0.6666666666666666,
              "#ed7953"
             ],
             [
              0.7777777777777778,
              "#fb9f3a"
             ],
             [
              0.8888888888888888,
              "#fdca26"
             ],
             [
              1.0,
              "#f0f921"
             ]
            ]
           }
          ],
          "heatmap": [
           {
            "type": "heatmap",
            "colorbar": {
             "outlinewidth": 0,
             "ticks": ""
            },
            "colorscale": [
             [
              0.0,
              "#0d0887"
             ],
             [
              0.1111111111111111,
              "#46039f"
             ],
             [
              0.2222222222222222,
              "#7201a8"
             ],
             [
              0.3333333333333333,
              "#9c179e"
             ],
             [
              0.4444444444444444,
              "#bd3786"
             ],
             [
              0.5555555555555556,
              "#d8576b"
             ],
             [
              0.6666666666666666,
              "#ed7953"
             ],
             [
              0.7777777777777778,
              "#fb9f3a"
             ],
             [
              0.8888888888888888,
              "#fdca26"
             ],
             [
              1.0,
              "#f0f921"
             ]
            ]
           }
          ],
          "heatmapgl": [
           {
            "type": "heatmapgl",
            "colorbar": {
             "outlinewidth": 0,
             "ticks": ""
            },
            "colorscale": [
             [
              0.0,
              "#0d0887"
             ],
             [
              0.1111111111111111,
              "#46039f"
             ],
             [
              0.2222222222222222,
              "#7201a8"
             ],
             [
              0.3333333333333333,
              "#9c179e"
             ],
             [
              0.4444444444444444,
              "#bd3786"
             ],
             [
              0.5555555555555556,
              "#d8576b"
             ],
             [
              0.6666666666666666,
              "#ed7953"
             ],
             [
              0.7777777777777778,
              "#fb9f3a"
             ],
             [
              0.8888888888888888,
              "#fdca26"
             ],
             [
              1.0,
              "#f0f921"
             ]
            ]
           }
          ],
          "contourcarpet": [
           {
            "type": "contourcarpet",
            "colorbar": {
             "outlinewidth": 0,
             "ticks": ""
            }
           }
          ],
          "contour": [
           {
            "type": "contour",
            "colorbar": {
             "outlinewidth": 0,
             "ticks": ""
            },
            "colorscale": [
             [
              0.0,
              "#0d0887"
             ],
             [
              0.1111111111111111,
              "#46039f"
             ],
             [
              0.2222222222222222,
              "#7201a8"
             ],
             [
              0.3333333333333333,
              "#9c179e"
             ],
             [
              0.4444444444444444,
              "#bd3786"
             ],
             [
              0.5555555555555556,
              "#d8576b"
             ],
             [
              0.6666666666666666,
              "#ed7953"
             ],
             [
              0.7777777777777778,
              "#fb9f3a"
             ],
             [
              0.8888888888888888,
              "#fdca26"
             ],
             [
              1.0,
              "#f0f921"
             ]
            ]
           }
          ],
          "surface": [
           {
            "type": "surface",
            "colorbar": {
             "outlinewidth": 0,
             "ticks": ""
            },
            "colorscale": [
             [
              0.0,
              "#0d0887"
             ],
             [
              0.1111111111111111,
              "#46039f"
             ],
             [
              0.2222222222222222,
              "#7201a8"
             ],
             [
              0.3333333333333333,
              "#9c179e"
             ],
             [
              0.4444444444444444,
              "#bd3786"
             ],
             [
              0.5555555555555556,
              "#d8576b"
             ],
             [
              0.6666666666666666,
              "#ed7953"
             ],
             [
              0.7777777777777778,
              "#fb9f3a"
             ],
             [
              0.8888888888888888,
              "#fdca26"
             ],
             [
              1.0,
              "#f0f921"
             ]
            ]
           }
          ],
          "mesh3d": [
           {
            "type": "mesh3d",
            "colorbar": {
             "outlinewidth": 0,
             "ticks": ""
            }
           }
          ],
          "scatter": [
           {
            "fillpattern": {
             "fillmode": "overlay",
             "size": 10,
             "solidity": 0.2
            },
            "type": "scatter"
           }
          ],
          "parcoords": [
           {
            "type": "parcoords",
            "line": {
             "colorbar": {
              "outlinewidth": 0,
              "ticks": ""
             }
            }
           }
          ],
          "scatterpolargl": [
           {
            "type": "scatterpolargl",
            "marker": {
             "colorbar": {
              "outlinewidth": 0,
              "ticks": ""
             }
            }
           }
          ],
          "bar": [
           {
            "error_x": {
             "color": "#2a3f5f"
            },
            "error_y": {
             "color": "#2a3f5f"
            },
            "marker": {
             "line": {
              "color": "#E5ECF6",
              "width": 0.5
             },
             "pattern": {
              "fillmode": "overlay",
              "size": 10,
              "solidity": 0.2
             }
            },
            "type": "bar"
           }
          ],
          "scattergeo": [
           {
            "type": "scattergeo",
            "marker": {
             "colorbar": {
              "outlinewidth": 0,
              "ticks": ""
             }
            }
           }
          ],
          "scatterpolar": [
           {
            "type": "scatterpolar",
            "marker": {
             "colorbar": {
              "outlinewidth": 0,
              "ticks": ""
             }
            }
           }
          ],
          "histogram": [
           {
            "marker": {
             "pattern": {
              "fillmode": "overlay",
              "size": 10,
              "solidity": 0.2
             }
            },
            "type": "histogram"
           }
          ],
          "scattergl": [
           {
            "type": "scattergl",
            "marker": {
             "colorbar": {
              "outlinewidth": 0,
              "ticks": ""
             }
            }
           }
          ],
          "scatter3d": [
           {
            "type": "scatter3d",
            "line": {
             "colorbar": {
              "outlinewidth": 0,
              "ticks": ""
             }
            },
            "marker": {
             "colorbar": {
              "outlinewidth": 0,
              "ticks": ""
             }
            }
           }
          ],
          "scattermapbox": [
           {
            "type": "scattermapbox",
            "marker": {
             "colorbar": {
              "outlinewidth": 0,
              "ticks": ""
             }
            }
           }
          ],
          "scatterternary": [
           {
            "type": "scatterternary",
            "marker": {
             "colorbar": {
              "outlinewidth": 0,
              "ticks": ""
             }
            }
           }
          ],
          "scattercarpet": [
           {
            "type": "scattercarpet",
            "marker": {
             "colorbar": {
              "outlinewidth": 0,
              "ticks": ""
             }
            }
           }
          ],
          "carpet": [
           {
            "aaxis": {
             "endlinecolor": "#2a3f5f",
             "gridcolor": "white",
             "linecolor": "white",
             "minorgridcolor": "white",
             "startlinecolor": "#2a3f5f"
            },
            "baxis": {
             "endlinecolor": "#2a3f5f",
             "gridcolor": "white",
             "linecolor": "white",
             "minorgridcolor": "white",
             "startlinecolor": "#2a3f5f"
            },
            "type": "carpet"
           }
          ],
          "table": [
           {
            "cells": {
             "fill": {
              "color": "#EBF0F8"
             },
             "line": {
              "color": "white"
             }
            },
            "header": {
             "fill": {
              "color": "#C8D4E3"
             },
             "line": {
              "color": "white"
             }
            },
            "type": "table"
           }
          ],
          "barpolar": [
           {
            "marker": {
             "line": {
              "color": "#E5ECF6",
              "width": 0.5
             },
             "pattern": {
              "fillmode": "overlay",
              "size": 10,
              "solidity": 0.2
             }
            },
            "type": "barpolar"
           }
          ],
          "pie": [
           {
            "automargin": true,
            "type": "pie"
           }
          ]
         },
         "layout": {
          "autotypenumbers": "strict",
          "colorway": [
           "#636efa",
           "#EF553B",
           "#00cc96",
           "#ab63fa",
           "#FFA15A",
           "#19d3f3",
           "#FF6692",
           "#B6E880",
           "#FF97FF",
           "#FECB52"
          ],
          "font": {
           "color": "#2a3f5f"
          },
          "hovermode": "closest",
          "hoverlabel": {
           "align": "left"
          },
          "paper_bgcolor": "white",
          "plot_bgcolor": "#E5ECF6",
          "polar": {
           "bgcolor": "#E5ECF6",
           "angularaxis": {
            "gridcolor": "white",
            "linecolor": "white",
            "ticks": ""
           },
           "radialaxis": {
            "gridcolor": "white",
            "linecolor": "white",
            "ticks": ""
           }
          },
          "ternary": {
           "bgcolor": "#E5ECF6",
           "aaxis": {
            "gridcolor": "white",
            "linecolor": "white",
            "ticks": ""
           },
           "baxis": {
            "gridcolor": "white",
            "linecolor": "white",
            "ticks": ""
           },
           "caxis": {
            "gridcolor": "white",
            "linecolor": "white",
            "ticks": ""
           }
          },
          "coloraxis": {
           "colorbar": {
            "outlinewidth": 0,
            "ticks": ""
           }
          },
          "colorscale": {
           "sequential": [
            [
             0.0,
             "#0d0887"
            ],
            [
             0.1111111111111111,
             "#46039f"
            ],
            [
             0.2222222222222222,
             "#7201a8"
            ],
            [
             0.3333333333333333,
             "#9c179e"
            ],
            [
             0.4444444444444444,
             "#bd3786"
            ],
            [
             0.5555555555555556,
             "#d8576b"
            ],
            [
             0.6666666666666666,
             "#ed7953"
            ],
            [
             0.7777777777777778,
             "#fb9f3a"
            ],
            [
             0.8888888888888888,
             "#fdca26"
            ],
            [
             1.0,
             "#f0f921"
            ]
           ],
           "sequentialminus": [
            [
             0.0,
             "#0d0887"
            ],
            [
             0.1111111111111111,
             "#46039f"
            ],
            [
             0.2222222222222222,
             "#7201a8"
            ],
            [
             0.3333333333333333,
             "#9c179e"
            ],
            [
             0.4444444444444444,
             "#bd3786"
            ],
            [
             0.5555555555555556,
             "#d8576b"
            ],
            [
             0.6666666666666666,
             "#ed7953"
            ],
            [
             0.7777777777777778,
             "#fb9f3a"
            ],
            [
             0.8888888888888888,
             "#fdca26"
            ],
            [
             1.0,
             "#f0f921"
            ]
           ],
           "diverging": [
            [
             0,
             "#8e0152"
            ],
            [
             0.1,
             "#c51b7d"
            ],
            [
             0.2,
             "#de77ae"
            ],
            [
             0.3,
             "#f1b6da"
            ],
            [
             0.4,
             "#fde0ef"
            ],
            [
             0.5,
             "#f7f7f7"
            ],
            [
             0.6,
             "#e6f5d0"
            ],
            [
             0.7,
             "#b8e186"
            ],
            [
             0.8,
             "#7fbc41"
            ],
            [
             0.9,
             "#4d9221"
            ],
            [
             1,
             "#276419"
            ]
           ]
          },
          "xaxis": {
           "gridcolor": "white",
           "linecolor": "white",
           "ticks": "",
           "title": {
            "standoff": 15
           },
           "zerolinecolor": "white",
           "automargin": true,
           "zerolinewidth": 2
          },
          "yaxis": {
           "gridcolor": "white",
           "linecolor": "white",
           "ticks": "",
           "title": {
            "standoff": 15
           },
           "zerolinecolor": "white",
           "automargin": true,
           "zerolinewidth": 2
          },
          "scene": {
           "xaxis": {
            "backgroundcolor": "#E5ECF6",
            "gridcolor": "white",
            "linecolor": "white",
            "showbackground": true,
            "ticks": "",
            "zerolinecolor": "white",
            "gridwidth": 2
           },
           "yaxis": {
            "backgroundcolor": "#E5ECF6",
            "gridcolor": "white",
            "linecolor": "white",
            "showbackground": true,
            "ticks": "",
            "zerolinecolor": "white",
            "gridwidth": 2
           },
           "zaxis": {
            "backgroundcolor": "#E5ECF6",
            "gridcolor": "white",
            "linecolor": "white",
            "showbackground": true,
            "ticks": "",
            "zerolinecolor": "white",
            "gridwidth": 2
           }
          },
          "shapedefaults": {
           "line": {
            "color": "#2a3f5f"
           }
          },
          "annotationdefaults": {
           "arrowcolor": "#2a3f5f",
           "arrowhead": 0,
           "arrowwidth": 1
          },
          "geo": {
           "bgcolor": "white",
           "landcolor": "#E5ECF6",
           "subunitcolor": "white",
           "showland": true,
           "showlakes": true,
           "lakecolor": "white"
          },
          "title": {
           "x": 0.05
          },
          "mapbox": {
           "style": "light"
          }
         }
        }
       },
       "config": {
        "plotlyServerURL": "https://plot.ly"
       }
      },
      "text/html": "<div>                            <div id=\"71b33a67-b740-4be9-b468-fc3bdcdd9edf\" class=\"plotly-graph-div\" style=\"height:525px; width:100%;\"></div>            <script type=\"text/javascript\">                require([\"plotly\"], function(Plotly) {                    window.PLOTLYENV=window.PLOTLYENV || {};                                    if (document.getElementById(\"71b33a67-b740-4be9-b468-fc3bdcdd9edf\")) {                    Plotly.newPlot(                        \"71b33a67-b740-4be9-b468-fc3bdcdd9edf\",                        [{\"name\":\"loss\",\"x\":[0,1,2,3,4,5,6,7,8,9,10,11,12,13,14,15,16,17,18,19,20,21,22,23,24,25,26,27,28,29,30,31,32,33,34,35,36,37,38,39,40,41,42,43,44,45,46,47,48,49,50,51,52,53,54,55,56,57,58,59,60,61,62,63,64,65,66,67,68,69,70,71,72,73,74,75,76,77,78,79,80,81,82,83,84,85,86,87,88,89,90,91,92,93,94,95,96,97,98,99],\"y\":[0.07112274318933487,0.07085689902305603,0.0706784650683403,0.07045568525791168,0.07027564197778702,0.07007306814193726,0.06991994380950928,0.06969223916530609,0.06953612715005875,0.06935285031795502,0.06920520216226578,0.06905076652765274,0.06889206916093826,0.06874271482229233,0.06854945421218872,0.06841160356998444,0.06824140250682831,0.06808660924434662,0.06794723868370056,0.06776107102632523,0.06763442605733871,0.06748181581497192,0.06736693531274796,0.06724786013364792,0.06713999807834625,0.06695885956287384,0.06684710085391998,0.06668587774038315,0.06659835577011108,0.06645607203245163,0.06631271541118622,0.06624161452054977,0.06604096293449402,0.06591688096523285,0.06581474840641022,0.06574442237615585,0.06560669094324112,0.06549985706806183,0.06535259634256363,0.06523680686950684,0.06511559337377548,0.06499950587749481,0.06490575522184372,0.06480158865451813,0.06471413373947144,0.0646313801407814,0.06455419212579727,0.06438971310853958,0.06430519372224808,0.06419828534126282,0.06405478715896606,0.06397693604230881,0.06389641761779785,0.06383469700813293,0.06379329413175583,0.06366406381130219,0.06356282532215118,0.06345794349908829,0.06335306167602539,0.0632905513048172,0.06318721920251846,0.06305231899023056,0.06300751864910126,0.06293027102947235,0.06282051652669907,0.06268646568059921,0.06271977722644806,0.06255364418029785,0.06253433227539062,0.06242351233959198,0.0623086579144001,0.062224749475717545,0.062179822474718094,0.062051769345998764,0.06200053170323372,0.06188766285777092,0.06183246895670891,0.06181630119681358,0.06178019940853119,0.061602771282196045,0.06162099912762642,0.061443693935871124,0.061395641416311264,0.06132171303033829,0.061253536492586136,0.06119809299707413,0.061136189848184586,0.061087727546691895,0.06098324432969093,0.060949187725782394,0.06083221361041069,0.06075034290552139,0.06071238964796066,0.06064779683947563,0.06056909263134003,0.06052446737885475,0.0604255273938179,0.060380611568689346,0.06029001250863075,0.06025080010294914],\"type\":\"scatter\"},{\"name\":\"val_loss\",\"x\":[0,1,2,3,4,5,6,7,8,9,10,11,12,13,14,15,16,17,18,19,20,21,22,23,24,25,26,27,28,29,30,31,32,33,34,35,36,37,38,39,40,41,42,43,44,45,46,47,48,49,50,51,52,53,54,55,56,57,58,59,60,61,62,63,64,65,66,67,68,69,70,71,72,73,74,75,76,77,78,79,80,81,82,83,84,85,86,87,88,89,90,91,92,93,94,95,96,97,98,99],\"y\":[0.05951477959752083,0.05956039950251579,0.05917655676603317,0.059209439903497696,0.058639638125896454,0.05836492404341698,0.05849388241767883,0.058471277356147766,0.058407727628946304,0.05838890001177788,0.05817510187625885,0.05822672322392464,0.058008771389722824,0.057922545820474625,0.057828567922115326,0.057651031762361526,0.057630039751529694,0.05751197412610054,0.057406749576330185,0.05715214088559151,0.05710647255182266,0.05693203955888748,0.056642625480890274,0.05665498226881027,0.05681164190173149,0.05662230774760246,0.05661305785179138,0.05654731020331383,0.05627920851111412,0.056501246988773346,0.0564911849796772,0.05603563413023949,0.05649775266647339,0.056697435677051544,0.056854624301195145,0.05707760155200958,0.05704653263092041,0.05749986320734024,0.05732642859220505,0.057347893714904785,0.057150956243276596,0.05684638395905495,0.05694607272744179,0.05678785219788551,0.05689064413309097,0.05658848583698273,0.057235896587371826,0.05722356215119362,0.05736924707889557,0.057224102318286896,0.05772807076573372,0.0577678419649601,0.057951197028160095,0.0576271116733551,0.05831679701805115,0.058477334678173065,0.05782070755958557,0.05778825283050537,0.057550713419914246,0.057724397629499435,0.05747796222567558,0.0575215145945549,0.0575723871588707,0.0569726936519146,0.057228412479162216,0.057824574410915375,0.058301497250795364,0.05759605020284653,0.056986693292856216,0.05717174708843231,0.05690703168511391,0.05703668296337128,0.05683787912130356,0.057246133685112,0.0575735867023468,0.057505495846271515,0.05730094388127327,0.05676473304629326,0.057295944541692734,0.05722566321492195,0.05690198391675949,0.057841844856739044,0.0585753358900547,0.058602552860975266,0.05850395932793617,0.05925389751791954,0.05941060185432434,0.05935528501868248,0.059675972908735275,0.059159643948078156,0.05929061397910118,0.05980474501848221,0.060021962970495224,0.059985291212797165,0.0598861463367939,0.059367891401052475,0.05955946072936058,0.059271279722452164,0.05921836569905281,0.058964937925338745],\"type\":\"scatter\"}],                        {\"template\":{\"data\":{\"histogram2dcontour\":[{\"type\":\"histogram2dcontour\",\"colorbar\":{\"outlinewidth\":0,\"ticks\":\"\"},\"colorscale\":[[0.0,\"#0d0887\"],[0.1111111111111111,\"#46039f\"],[0.2222222222222222,\"#7201a8\"],[0.3333333333333333,\"#9c179e\"],[0.4444444444444444,\"#bd3786\"],[0.5555555555555556,\"#d8576b\"],[0.6666666666666666,\"#ed7953\"],[0.7777777777777778,\"#fb9f3a\"],[0.8888888888888888,\"#fdca26\"],[1.0,\"#f0f921\"]]}],\"choropleth\":[{\"type\":\"choropleth\",\"colorbar\":{\"outlinewidth\":0,\"ticks\":\"\"}}],\"histogram2d\":[{\"type\":\"histogram2d\",\"colorbar\":{\"outlinewidth\":0,\"ticks\":\"\"},\"colorscale\":[[0.0,\"#0d0887\"],[0.1111111111111111,\"#46039f\"],[0.2222222222222222,\"#7201a8\"],[0.3333333333333333,\"#9c179e\"],[0.4444444444444444,\"#bd3786\"],[0.5555555555555556,\"#d8576b\"],[0.6666666666666666,\"#ed7953\"],[0.7777777777777778,\"#fb9f3a\"],[0.8888888888888888,\"#fdca26\"],[1.0,\"#f0f921\"]]}],\"heatmap\":[{\"type\":\"heatmap\",\"colorbar\":{\"outlinewidth\":0,\"ticks\":\"\"},\"colorscale\":[[0.0,\"#0d0887\"],[0.1111111111111111,\"#46039f\"],[0.2222222222222222,\"#7201a8\"],[0.3333333333333333,\"#9c179e\"],[0.4444444444444444,\"#bd3786\"],[0.5555555555555556,\"#d8576b\"],[0.6666666666666666,\"#ed7953\"],[0.7777777777777778,\"#fb9f3a\"],[0.8888888888888888,\"#fdca26\"],[1.0,\"#f0f921\"]]}],\"heatmapgl\":[{\"type\":\"heatmapgl\",\"colorbar\":{\"outlinewidth\":0,\"ticks\":\"\"},\"colorscale\":[[0.0,\"#0d0887\"],[0.1111111111111111,\"#46039f\"],[0.2222222222222222,\"#7201a8\"],[0.3333333333333333,\"#9c179e\"],[0.4444444444444444,\"#bd3786\"],[0.5555555555555556,\"#d8576b\"],[0.6666666666666666,\"#ed7953\"],[0.7777777777777778,\"#fb9f3a\"],[0.8888888888888888,\"#fdca26\"],[1.0,\"#f0f921\"]]}],\"contourcarpet\":[{\"type\":\"contourcarpet\",\"colorbar\":{\"outlinewidth\":0,\"ticks\":\"\"}}],\"contour\":[{\"type\":\"contour\",\"colorbar\":{\"outlinewidth\":0,\"ticks\":\"\"},\"colorscale\":[[0.0,\"#0d0887\"],[0.1111111111111111,\"#46039f\"],[0.2222222222222222,\"#7201a8\"],[0.3333333333333333,\"#9c179e\"],[0.4444444444444444,\"#bd3786\"],[0.5555555555555556,\"#d8576b\"],[0.6666666666666666,\"#ed7953\"],[0.7777777777777778,\"#fb9f3a\"],[0.8888888888888888,\"#fdca26\"],[1.0,\"#f0f921\"]]}],\"surface\":[{\"type\":\"surface\",\"colorbar\":{\"outlinewidth\":0,\"ticks\":\"\"},\"colorscale\":[[0.0,\"#0d0887\"],[0.1111111111111111,\"#46039f\"],[0.2222222222222222,\"#7201a8\"],[0.3333333333333333,\"#9c179e\"],[0.4444444444444444,\"#bd3786\"],[0.5555555555555556,\"#d8576b\"],[0.6666666666666666,\"#ed7953\"],[0.7777777777777778,\"#fb9f3a\"],[0.8888888888888888,\"#fdca26\"],[1.0,\"#f0f921\"]]}],\"mesh3d\":[{\"type\":\"mesh3d\",\"colorbar\":{\"outlinewidth\":0,\"ticks\":\"\"}}],\"scatter\":[{\"fillpattern\":{\"fillmode\":\"overlay\",\"size\":10,\"solidity\":0.2},\"type\":\"scatter\"}],\"parcoords\":[{\"type\":\"parcoords\",\"line\":{\"colorbar\":{\"outlinewidth\":0,\"ticks\":\"\"}}}],\"scatterpolargl\":[{\"type\":\"scatterpolargl\",\"marker\":{\"colorbar\":{\"outlinewidth\":0,\"ticks\":\"\"}}}],\"bar\":[{\"error_x\":{\"color\":\"#2a3f5f\"},\"error_y\":{\"color\":\"#2a3f5f\"},\"marker\":{\"line\":{\"color\":\"#E5ECF6\",\"width\":0.5},\"pattern\":{\"fillmode\":\"overlay\",\"size\":10,\"solidity\":0.2}},\"type\":\"bar\"}],\"scattergeo\":[{\"type\":\"scattergeo\",\"marker\":{\"colorbar\":{\"outlinewidth\":0,\"ticks\":\"\"}}}],\"scatterpolar\":[{\"type\":\"scatterpolar\",\"marker\":{\"colorbar\":{\"outlinewidth\":0,\"ticks\":\"\"}}}],\"histogram\":[{\"marker\":{\"pattern\":{\"fillmode\":\"overlay\",\"size\":10,\"solidity\":0.2}},\"type\":\"histogram\"}],\"scattergl\":[{\"type\":\"scattergl\",\"marker\":{\"colorbar\":{\"outlinewidth\":0,\"ticks\":\"\"}}}],\"scatter3d\":[{\"type\":\"scatter3d\",\"line\":{\"colorbar\":{\"outlinewidth\":0,\"ticks\":\"\"}},\"marker\":{\"colorbar\":{\"outlinewidth\":0,\"ticks\":\"\"}}}],\"scattermapbox\":[{\"type\":\"scattermapbox\",\"marker\":{\"colorbar\":{\"outlinewidth\":0,\"ticks\":\"\"}}}],\"scatterternary\":[{\"type\":\"scatterternary\",\"marker\":{\"colorbar\":{\"outlinewidth\":0,\"ticks\":\"\"}}}],\"scattercarpet\":[{\"type\":\"scattercarpet\",\"marker\":{\"colorbar\":{\"outlinewidth\":0,\"ticks\":\"\"}}}],\"carpet\":[{\"aaxis\":{\"endlinecolor\":\"#2a3f5f\",\"gridcolor\":\"white\",\"linecolor\":\"white\",\"minorgridcolor\":\"white\",\"startlinecolor\":\"#2a3f5f\"},\"baxis\":{\"endlinecolor\":\"#2a3f5f\",\"gridcolor\":\"white\",\"linecolor\":\"white\",\"minorgridcolor\":\"white\",\"startlinecolor\":\"#2a3f5f\"},\"type\":\"carpet\"}],\"table\":[{\"cells\":{\"fill\":{\"color\":\"#EBF0F8\"},\"line\":{\"color\":\"white\"}},\"header\":{\"fill\":{\"color\":\"#C8D4E3\"},\"line\":{\"color\":\"white\"}},\"type\":\"table\"}],\"barpolar\":[{\"marker\":{\"line\":{\"color\":\"#E5ECF6\",\"width\":0.5},\"pattern\":{\"fillmode\":\"overlay\",\"size\":10,\"solidity\":0.2}},\"type\":\"barpolar\"}],\"pie\":[{\"automargin\":true,\"type\":\"pie\"}]},\"layout\":{\"autotypenumbers\":\"strict\",\"colorway\":[\"#636efa\",\"#EF553B\",\"#00cc96\",\"#ab63fa\",\"#FFA15A\",\"#19d3f3\",\"#FF6692\",\"#B6E880\",\"#FF97FF\",\"#FECB52\"],\"font\":{\"color\":\"#2a3f5f\"},\"hovermode\":\"closest\",\"hoverlabel\":{\"align\":\"left\"},\"paper_bgcolor\":\"white\",\"plot_bgcolor\":\"#E5ECF6\",\"polar\":{\"bgcolor\":\"#E5ECF6\",\"angularaxis\":{\"gridcolor\":\"white\",\"linecolor\":\"white\",\"ticks\":\"\"},\"radialaxis\":{\"gridcolor\":\"white\",\"linecolor\":\"white\",\"ticks\":\"\"}},\"ternary\":{\"bgcolor\":\"#E5ECF6\",\"aaxis\":{\"gridcolor\":\"white\",\"linecolor\":\"white\",\"ticks\":\"\"},\"baxis\":{\"gridcolor\":\"white\",\"linecolor\":\"white\",\"ticks\":\"\"},\"caxis\":{\"gridcolor\":\"white\",\"linecolor\":\"white\",\"ticks\":\"\"}},\"coloraxis\":{\"colorbar\":{\"outlinewidth\":0,\"ticks\":\"\"}},\"colorscale\":{\"sequential\":[[0.0,\"#0d0887\"],[0.1111111111111111,\"#46039f\"],[0.2222222222222222,\"#7201a8\"],[0.3333333333333333,\"#9c179e\"],[0.4444444444444444,\"#bd3786\"],[0.5555555555555556,\"#d8576b\"],[0.6666666666666666,\"#ed7953\"],[0.7777777777777778,\"#fb9f3a\"],[0.8888888888888888,\"#fdca26\"],[1.0,\"#f0f921\"]],\"sequentialminus\":[[0.0,\"#0d0887\"],[0.1111111111111111,\"#46039f\"],[0.2222222222222222,\"#7201a8\"],[0.3333333333333333,\"#9c179e\"],[0.4444444444444444,\"#bd3786\"],[0.5555555555555556,\"#d8576b\"],[0.6666666666666666,\"#ed7953\"],[0.7777777777777778,\"#fb9f3a\"],[0.8888888888888888,\"#fdca26\"],[1.0,\"#f0f921\"]],\"diverging\":[[0,\"#8e0152\"],[0.1,\"#c51b7d\"],[0.2,\"#de77ae\"],[0.3,\"#f1b6da\"],[0.4,\"#fde0ef\"],[0.5,\"#f7f7f7\"],[0.6,\"#e6f5d0\"],[0.7,\"#b8e186\"],[0.8,\"#7fbc41\"],[0.9,\"#4d9221\"],[1,\"#276419\"]]},\"xaxis\":{\"gridcolor\":\"white\",\"linecolor\":\"white\",\"ticks\":\"\",\"title\":{\"standoff\":15},\"zerolinecolor\":\"white\",\"automargin\":true,\"zerolinewidth\":2},\"yaxis\":{\"gridcolor\":\"white\",\"linecolor\":\"white\",\"ticks\":\"\",\"title\":{\"standoff\":15},\"zerolinecolor\":\"white\",\"automargin\":true,\"zerolinewidth\":2},\"scene\":{\"xaxis\":{\"backgroundcolor\":\"#E5ECF6\",\"gridcolor\":\"white\",\"linecolor\":\"white\",\"showbackground\":true,\"ticks\":\"\",\"zerolinecolor\":\"white\",\"gridwidth\":2},\"yaxis\":{\"backgroundcolor\":\"#E5ECF6\",\"gridcolor\":\"white\",\"linecolor\":\"white\",\"showbackground\":true,\"ticks\":\"\",\"zerolinecolor\":\"white\",\"gridwidth\":2},\"zaxis\":{\"backgroundcolor\":\"#E5ECF6\",\"gridcolor\":\"white\",\"linecolor\":\"white\",\"showbackground\":true,\"ticks\":\"\",\"zerolinecolor\":\"white\",\"gridwidth\":2}},\"shapedefaults\":{\"line\":{\"color\":\"#2a3f5f\"}},\"annotationdefaults\":{\"arrowcolor\":\"#2a3f5f\",\"arrowhead\":0,\"arrowwidth\":1},\"geo\":{\"bgcolor\":\"white\",\"landcolor\":\"#E5ECF6\",\"subunitcolor\":\"white\",\"showland\":true,\"showlakes\":true,\"lakecolor\":\"white\"},\"title\":{\"x\":0.05},\"mapbox\":{\"style\":\"light\"}}}},                        {\"responsive\": true}                    ).then(function(){\n                            \nvar gd = document.getElementById('71b33a67-b740-4be9-b468-fc3bdcdd9edf');\nvar x = new MutationObserver(function (mutations, observer) {{\n        var display = window.getComputedStyle(gd).display;\n        if (!display || display === 'none') {{\n            console.log([gd, 'removed!']);\n            Plotly.purge(gd);\n            observer.disconnect();\n        }}\n}});\n\n// Listen for the removal of the full notebook cells\nvar notebookContainer = gd.closest('#notebook-container');\nif (notebookContainer) {{\n    x.observe(notebookContainer, {childList: true});\n}}\n\n// Listen for the clearing of the current output cell\nvar outputEl = gd.closest('.output');\nif (outputEl) {{\n    x.observe(outputEl, {childList: true});\n}}\n\n                        })                };                });            </script>        </div>"
     },
     "metadata": {},
     "output_type": "display_data"
    }
   ],
   "source": [
    "def draw_history(history):\n",
    "    fig = go.Figure()\n",
    "    fig.add_trace(go.Scatter(x=history.epoch, y=history.history[\"accuracy\"], name=\"accuracy\"))\n",
    "    fig.add_trace(go.Scatter(x=history.epoch, y=history.history[\"val_accuracy\"], name=\"val_accuracy\"))\n",
    "    fig.show()\n",
    "\n",
    "    fig = go.Figure()\n",
    "    fig.add_trace(go.Scatter(x=history.epoch, y=history.history[\"loss\"], name=\"loss\"))\n",
    "    fig.add_trace(go.Scatter(x=history.epoch, y=history.history[\"val_loss\"], name=\"val_loss\"))\n",
    "    fig.show()\n",
    "\n",
    "\n",
    "draw_history(history)"
   ],
   "metadata": {
    "collapsed": false,
    "ExecuteTime": {
     "end_time": "2024-02-22T14:01:34.687969600Z",
     "start_time": "2024-02-22T14:01:34.616977400Z"
    }
   },
   "id": "b917567f862320f8"
  },
  {
   "cell_type": "code",
   "execution_count": 62,
   "outputs": [
    {
     "name": "stdout",
     "output_type": "stream",
     "text": [
      "4/4 [==============================] - 0s 3ms/step\n"
     ]
    },
    {
     "data": {
      "text/plain": "     true  preds\n0       0    0.0\n1       1    1.0\n2       1    1.0\n3       1    1.0\n4       1    1.0\n..    ...    ...\n109     1    1.0\n110     0    0.0\n111     1    1.0\n112     1    1.0\n113     1    1.0\n\n[114 rows x 2 columns]",
      "text/html": "<div>\n<style scoped>\n    .dataframe tbody tr th:only-of-type {\n        vertical-align: middle;\n    }\n\n    .dataframe tbody tr th {\n        vertical-align: top;\n    }\n\n    .dataframe thead th {\n        text-align: right;\n    }\n</style>\n<table border=\"1\" class=\"dataframe\">\n  <thead>\n    <tr style=\"text-align: right;\">\n      <th></th>\n      <th>true</th>\n      <th>preds</th>\n    </tr>\n  </thead>\n  <tbody>\n    <tr>\n      <th>0</th>\n      <td>0</td>\n      <td>0.0</td>\n    </tr>\n    <tr>\n      <th>1</th>\n      <td>1</td>\n      <td>1.0</td>\n    </tr>\n    <tr>\n      <th>2</th>\n      <td>1</td>\n      <td>1.0</td>\n    </tr>\n    <tr>\n      <th>3</th>\n      <td>1</td>\n      <td>1.0</td>\n    </tr>\n    <tr>\n      <th>4</th>\n      <td>1</td>\n      <td>1.0</td>\n    </tr>\n    <tr>\n      <th>...</th>\n      <td>...</td>\n      <td>...</td>\n    </tr>\n    <tr>\n      <th>109</th>\n      <td>1</td>\n      <td>1.0</td>\n    </tr>\n    <tr>\n      <th>110</th>\n      <td>0</td>\n      <td>0.0</td>\n    </tr>\n    <tr>\n      <th>111</th>\n      <td>1</td>\n      <td>1.0</td>\n    </tr>\n    <tr>\n      <th>112</th>\n      <td>1</td>\n      <td>1.0</td>\n    </tr>\n    <tr>\n      <th>113</th>\n      <td>1</td>\n      <td>1.0</td>\n    </tr>\n  </tbody>\n</table>\n<p>114 rows × 2 columns</p>\n</div>"
     },
     "execution_count": 62,
     "metadata": {},
     "output_type": "execute_result"
    }
   ],
   "source": [
    "model.load_weights(\"best_model_breast.keras\")\n",
    "\n",
    "preds = model.predict(test_data)\n",
    "preds = np.round(preds)\n",
    "\n",
    "df = pd.DataFrame({\n",
    "    \"true\": test_labels,\n",
    "    \"preds\": preds.ravel()\n",
    "})\n",
    "\n",
    "df"
   ],
   "metadata": {
    "collapsed": false,
    "ExecuteTime": {
     "end_time": "2024-02-22T14:02:07.371104Z",
     "start_time": "2024-02-22T14:02:07.132107Z"
    }
   },
   "id": "7a8dd531369eb707"
  },
  {
   "cell_type": "code",
   "execution_count": 63,
   "outputs": [
    {
     "name": "stdout",
     "output_type": "stream",
     "text": [
      "Accuracy: 98.24561403508771%\n"
     ]
    },
    {
     "data": {
      "application/vnd.plotly.v1+json": {
       "data": [
        {
         "coloraxis": "coloraxis",
         "name": "0",
         "texttemplate": "%{z}",
         "z": [
          [
           36,
           2
          ],
          [
           0,
           76
          ]
         ],
         "type": "heatmap",
         "xaxis": "x",
         "yaxis": "y",
         "hovertemplate": "x: %{x}<br>y: %{y}<br>color: %{z}<extra></extra>"
        }
       ],
       "layout": {
        "template": {
         "data": {
          "histogram2dcontour": [
           {
            "type": "histogram2dcontour",
            "colorbar": {
             "outlinewidth": 0,
             "ticks": ""
            },
            "colorscale": [
             [
              0.0,
              "#0d0887"
             ],
             [
              0.1111111111111111,
              "#46039f"
             ],
             [
              0.2222222222222222,
              "#7201a8"
             ],
             [
              0.3333333333333333,
              "#9c179e"
             ],
             [
              0.4444444444444444,
              "#bd3786"
             ],
             [
              0.5555555555555556,
              "#d8576b"
             ],
             [
              0.6666666666666666,
              "#ed7953"
             ],
             [
              0.7777777777777778,
              "#fb9f3a"
             ],
             [
              0.8888888888888888,
              "#fdca26"
             ],
             [
              1.0,
              "#f0f921"
             ]
            ]
           }
          ],
          "choropleth": [
           {
            "type": "choropleth",
            "colorbar": {
             "outlinewidth": 0,
             "ticks": ""
            }
           }
          ],
          "histogram2d": [
           {
            "type": "histogram2d",
            "colorbar": {
             "outlinewidth": 0,
             "ticks": ""
            },
            "colorscale": [
             [
              0.0,
              "#0d0887"
             ],
             [
              0.1111111111111111,
              "#46039f"
             ],
             [
              0.2222222222222222,
              "#7201a8"
             ],
             [
              0.3333333333333333,
              "#9c179e"
             ],
             [
              0.4444444444444444,
              "#bd3786"
             ],
             [
              0.5555555555555556,
              "#d8576b"
             ],
             [
              0.6666666666666666,
              "#ed7953"
             ],
             [
              0.7777777777777778,
              "#fb9f3a"
             ],
             [
              0.8888888888888888,
              "#fdca26"
             ],
             [
              1.0,
              "#f0f921"
             ]
            ]
           }
          ],
          "heatmap": [
           {
            "type": "heatmap",
            "colorbar": {
             "outlinewidth": 0,
             "ticks": ""
            },
            "colorscale": [
             [
              0.0,
              "#0d0887"
             ],
             [
              0.1111111111111111,
              "#46039f"
             ],
             [
              0.2222222222222222,
              "#7201a8"
             ],
             [
              0.3333333333333333,
              "#9c179e"
             ],
             [
              0.4444444444444444,
              "#bd3786"
             ],
             [
              0.5555555555555556,
              "#d8576b"
             ],
             [
              0.6666666666666666,
              "#ed7953"
             ],
             [
              0.7777777777777778,
              "#fb9f3a"
             ],
             [
              0.8888888888888888,
              "#fdca26"
             ],
             [
              1.0,
              "#f0f921"
             ]
            ]
           }
          ],
          "heatmapgl": [
           {
            "type": "heatmapgl",
            "colorbar": {
             "outlinewidth": 0,
             "ticks": ""
            },
            "colorscale": [
             [
              0.0,
              "#0d0887"
             ],
             [
              0.1111111111111111,
              "#46039f"
             ],
             [
              0.2222222222222222,
              "#7201a8"
             ],
             [
              0.3333333333333333,
              "#9c179e"
             ],
             [
              0.4444444444444444,
              "#bd3786"
             ],
             [
              0.5555555555555556,
              "#d8576b"
             ],
             [
              0.6666666666666666,
              "#ed7953"
             ],
             [
              0.7777777777777778,
              "#fb9f3a"
             ],
             [
              0.8888888888888888,
              "#fdca26"
             ],
             [
              1.0,
              "#f0f921"
             ]
            ]
           }
          ],
          "contourcarpet": [
           {
            "type": "contourcarpet",
            "colorbar": {
             "outlinewidth": 0,
             "ticks": ""
            }
           }
          ],
          "contour": [
           {
            "type": "contour",
            "colorbar": {
             "outlinewidth": 0,
             "ticks": ""
            },
            "colorscale": [
             [
              0.0,
              "#0d0887"
             ],
             [
              0.1111111111111111,
              "#46039f"
             ],
             [
              0.2222222222222222,
              "#7201a8"
             ],
             [
              0.3333333333333333,
              "#9c179e"
             ],
             [
              0.4444444444444444,
              "#bd3786"
             ],
             [
              0.5555555555555556,
              "#d8576b"
             ],
             [
              0.6666666666666666,
              "#ed7953"
             ],
             [
              0.7777777777777778,
              "#fb9f3a"
             ],
             [
              0.8888888888888888,
              "#fdca26"
             ],
             [
              1.0,
              "#f0f921"
             ]
            ]
           }
          ],
          "surface": [
           {
            "type": "surface",
            "colorbar": {
             "outlinewidth": 0,
             "ticks": ""
            },
            "colorscale": [
             [
              0.0,
              "#0d0887"
             ],
             [
              0.1111111111111111,
              "#46039f"
             ],
             [
              0.2222222222222222,
              "#7201a8"
             ],
             [
              0.3333333333333333,
              "#9c179e"
             ],
             [
              0.4444444444444444,
              "#bd3786"
             ],
             [
              0.5555555555555556,
              "#d8576b"
             ],
             [
              0.6666666666666666,
              "#ed7953"
             ],
             [
              0.7777777777777778,
              "#fb9f3a"
             ],
             [
              0.8888888888888888,
              "#fdca26"
             ],
             [
              1.0,
              "#f0f921"
             ]
            ]
           }
          ],
          "mesh3d": [
           {
            "type": "mesh3d",
            "colorbar": {
             "outlinewidth": 0,
             "ticks": ""
            }
           }
          ],
          "scatter": [
           {
            "fillpattern": {
             "fillmode": "overlay",
             "size": 10,
             "solidity": 0.2
            },
            "type": "scatter"
           }
          ],
          "parcoords": [
           {
            "type": "parcoords",
            "line": {
             "colorbar": {
              "outlinewidth": 0,
              "ticks": ""
             }
            }
           }
          ],
          "scatterpolargl": [
           {
            "type": "scatterpolargl",
            "marker": {
             "colorbar": {
              "outlinewidth": 0,
              "ticks": ""
             }
            }
           }
          ],
          "bar": [
           {
            "error_x": {
             "color": "#2a3f5f"
            },
            "error_y": {
             "color": "#2a3f5f"
            },
            "marker": {
             "line": {
              "color": "#E5ECF6",
              "width": 0.5
             },
             "pattern": {
              "fillmode": "overlay",
              "size": 10,
              "solidity": 0.2
             }
            },
            "type": "bar"
           }
          ],
          "scattergeo": [
           {
            "type": "scattergeo",
            "marker": {
             "colorbar": {
              "outlinewidth": 0,
              "ticks": ""
             }
            }
           }
          ],
          "scatterpolar": [
           {
            "type": "scatterpolar",
            "marker": {
             "colorbar": {
              "outlinewidth": 0,
              "ticks": ""
             }
            }
           }
          ],
          "histogram": [
           {
            "marker": {
             "pattern": {
              "fillmode": "overlay",
              "size": 10,
              "solidity": 0.2
             }
            },
            "type": "histogram"
           }
          ],
          "scattergl": [
           {
            "type": "scattergl",
            "marker": {
             "colorbar": {
              "outlinewidth": 0,
              "ticks": ""
             }
            }
           }
          ],
          "scatter3d": [
           {
            "type": "scatter3d",
            "line": {
             "colorbar": {
              "outlinewidth": 0,
              "ticks": ""
             }
            },
            "marker": {
             "colorbar": {
              "outlinewidth": 0,
              "ticks": ""
             }
            }
           }
          ],
          "scattermapbox": [
           {
            "type": "scattermapbox",
            "marker": {
             "colorbar": {
              "outlinewidth": 0,
              "ticks": ""
             }
            }
           }
          ],
          "scatterternary": [
           {
            "type": "scatterternary",
            "marker": {
             "colorbar": {
              "outlinewidth": 0,
              "ticks": ""
             }
            }
           }
          ],
          "scattercarpet": [
           {
            "type": "scattercarpet",
            "marker": {
             "colorbar": {
              "outlinewidth": 0,
              "ticks": ""
             }
            }
           }
          ],
          "carpet": [
           {
            "aaxis": {
             "endlinecolor": "#2a3f5f",
             "gridcolor": "white",
             "linecolor": "white",
             "minorgridcolor": "white",
             "startlinecolor": "#2a3f5f"
            },
            "baxis": {
             "endlinecolor": "#2a3f5f",
             "gridcolor": "white",
             "linecolor": "white",
             "minorgridcolor": "white",
             "startlinecolor": "#2a3f5f"
            },
            "type": "carpet"
           }
          ],
          "table": [
           {
            "cells": {
             "fill": {
              "color": "#EBF0F8"
             },
             "line": {
              "color": "white"
             }
            },
            "header": {
             "fill": {
              "color": "#C8D4E3"
             },
             "line": {
              "color": "white"
             }
            },
            "type": "table"
           }
          ],
          "barpolar": [
           {
            "marker": {
             "line": {
              "color": "#E5ECF6",
              "width": 0.5
             },
             "pattern": {
              "fillmode": "overlay",
              "size": 10,
              "solidity": 0.2
             }
            },
            "type": "barpolar"
           }
          ],
          "pie": [
           {
            "automargin": true,
            "type": "pie"
           }
          ]
         },
         "layout": {
          "autotypenumbers": "strict",
          "colorway": [
           "#636efa",
           "#EF553B",
           "#00cc96",
           "#ab63fa",
           "#FFA15A",
           "#19d3f3",
           "#FF6692",
           "#B6E880",
           "#FF97FF",
           "#FECB52"
          ],
          "font": {
           "color": "#2a3f5f"
          },
          "hovermode": "closest",
          "hoverlabel": {
           "align": "left"
          },
          "paper_bgcolor": "white",
          "plot_bgcolor": "#E5ECF6",
          "polar": {
           "bgcolor": "#E5ECF6",
           "angularaxis": {
            "gridcolor": "white",
            "linecolor": "white",
            "ticks": ""
           },
           "radialaxis": {
            "gridcolor": "white",
            "linecolor": "white",
            "ticks": ""
           }
          },
          "ternary": {
           "bgcolor": "#E5ECF6",
           "aaxis": {
            "gridcolor": "white",
            "linecolor": "white",
            "ticks": ""
           },
           "baxis": {
            "gridcolor": "white",
            "linecolor": "white",
            "ticks": ""
           },
           "caxis": {
            "gridcolor": "white",
            "linecolor": "white",
            "ticks": ""
           }
          },
          "coloraxis": {
           "colorbar": {
            "outlinewidth": 0,
            "ticks": ""
           }
          },
          "colorscale": {
           "sequential": [
            [
             0.0,
             "#0d0887"
            ],
            [
             0.1111111111111111,
             "#46039f"
            ],
            [
             0.2222222222222222,
             "#7201a8"
            ],
            [
             0.3333333333333333,
             "#9c179e"
            ],
            [
             0.4444444444444444,
             "#bd3786"
            ],
            [
             0.5555555555555556,
             "#d8576b"
            ],
            [
             0.6666666666666666,
             "#ed7953"
            ],
            [
             0.7777777777777778,
             "#fb9f3a"
            ],
            [
             0.8888888888888888,
             "#fdca26"
            ],
            [
             1.0,
             "#f0f921"
            ]
           ],
           "sequentialminus": [
            [
             0.0,
             "#0d0887"
            ],
            [
             0.1111111111111111,
             "#46039f"
            ],
            [
             0.2222222222222222,
             "#7201a8"
            ],
            [
             0.3333333333333333,
             "#9c179e"
            ],
            [
             0.4444444444444444,
             "#bd3786"
            ],
            [
             0.5555555555555556,
             "#d8576b"
            ],
            [
             0.6666666666666666,
             "#ed7953"
            ],
            [
             0.7777777777777778,
             "#fb9f3a"
            ],
            [
             0.8888888888888888,
             "#fdca26"
            ],
            [
             1.0,
             "#f0f921"
            ]
           ],
           "diverging": [
            [
             0,
             "#8e0152"
            ],
            [
             0.1,
             "#c51b7d"
            ],
            [
             0.2,
             "#de77ae"
            ],
            [
             0.3,
             "#f1b6da"
            ],
            [
             0.4,
             "#fde0ef"
            ],
            [
             0.5,
             "#f7f7f7"
            ],
            [
             0.6,
             "#e6f5d0"
            ],
            [
             0.7,
             "#b8e186"
            ],
            [
             0.8,
             "#7fbc41"
            ],
            [
             0.9,
             "#4d9221"
            ],
            [
             1,
             "#276419"
            ]
           ]
          },
          "xaxis": {
           "gridcolor": "white",
           "linecolor": "white",
           "ticks": "",
           "title": {
            "standoff": 15
           },
           "zerolinecolor": "white",
           "automargin": true,
           "zerolinewidth": 2
          },
          "yaxis": {
           "gridcolor": "white",
           "linecolor": "white",
           "ticks": "",
           "title": {
            "standoff": 15
           },
           "zerolinecolor": "white",
           "automargin": true,
           "zerolinewidth": 2
          },
          "scene": {
           "xaxis": {
            "backgroundcolor": "#E5ECF6",
            "gridcolor": "white",
            "linecolor": "white",
            "showbackground": true,
            "ticks": "",
            "zerolinecolor": "white",
            "gridwidth": 2
           },
           "yaxis": {
            "backgroundcolor": "#E5ECF6",
            "gridcolor": "white",
            "linecolor": "white",
            "showbackground": true,
            "ticks": "",
            "zerolinecolor": "white",
            "gridwidth": 2
           },
           "zaxis": {
            "backgroundcolor": "#E5ECF6",
            "gridcolor": "white",
            "linecolor": "white",
            "showbackground": true,
            "ticks": "",
            "zerolinecolor": "white",
            "gridwidth": 2
           }
          },
          "shapedefaults": {
           "line": {
            "color": "#2a3f5f"
           }
          },
          "annotationdefaults": {
           "arrowcolor": "#2a3f5f",
           "arrowhead": 0,
           "arrowwidth": 1
          },
          "geo": {
           "bgcolor": "white",
           "landcolor": "#E5ECF6",
           "subunitcolor": "white",
           "showland": true,
           "showlakes": true,
           "lakecolor": "white"
          },
          "title": {
           "x": 0.05
          },
          "mapbox": {
           "style": "light"
          }
         }
        },
        "xaxis": {
         "anchor": "y",
         "domain": [
          0.0,
          1.0
         ],
         "scaleanchor": "y",
         "constrain": "domain"
        },
        "yaxis": {
         "anchor": "x",
         "domain": [
          0.0,
          1.0
         ],
         "autorange": "reversed",
         "constrain": "domain"
        },
        "coloraxis": {
         "colorscale": [
          [
           0.0,
           "#0d0887"
          ],
          [
           0.1111111111111111,
           "#46039f"
          ],
          [
           0.2222222222222222,
           "#7201a8"
          ],
          [
           0.3333333333333333,
           "#9c179e"
          ],
          [
           0.4444444444444444,
           "#bd3786"
          ],
          [
           0.5555555555555556,
           "#d8576b"
          ],
          [
           0.6666666666666666,
           "#ed7953"
          ],
          [
           0.7777777777777778,
           "#fb9f3a"
          ],
          [
           0.8888888888888888,
           "#fdca26"
          ],
          [
           1.0,
           "#f0f921"
          ]
         ]
        },
        "margin": {
         "t": 60
        }
       },
       "config": {
        "plotlyServerURL": "https://plot.ly"
       }
      },
      "text/html": "<div>                            <div id=\"e45df2b5-4835-48e9-8cd1-cef855e6eee8\" class=\"plotly-graph-div\" style=\"height:525px; width:100%;\"></div>            <script type=\"text/javascript\">                require([\"plotly\"], function(Plotly) {                    window.PLOTLYENV=window.PLOTLYENV || {};                                    if (document.getElementById(\"e45df2b5-4835-48e9-8cd1-cef855e6eee8\")) {                    Plotly.newPlot(                        \"e45df2b5-4835-48e9-8cd1-cef855e6eee8\",                        [{\"coloraxis\":\"coloraxis\",\"name\":\"0\",\"texttemplate\":\"%{z}\",\"z\":[[36,2],[0,76]],\"type\":\"heatmap\",\"xaxis\":\"x\",\"yaxis\":\"y\",\"hovertemplate\":\"x: %{x}\\u003cbr\\u003ey: %{y}\\u003cbr\\u003ecolor: %{z}\\u003cextra\\u003e\\u003c\\u002fextra\\u003e\"}],                        {\"template\":{\"data\":{\"histogram2dcontour\":[{\"type\":\"histogram2dcontour\",\"colorbar\":{\"outlinewidth\":0,\"ticks\":\"\"},\"colorscale\":[[0.0,\"#0d0887\"],[0.1111111111111111,\"#46039f\"],[0.2222222222222222,\"#7201a8\"],[0.3333333333333333,\"#9c179e\"],[0.4444444444444444,\"#bd3786\"],[0.5555555555555556,\"#d8576b\"],[0.6666666666666666,\"#ed7953\"],[0.7777777777777778,\"#fb9f3a\"],[0.8888888888888888,\"#fdca26\"],[1.0,\"#f0f921\"]]}],\"choropleth\":[{\"type\":\"choropleth\",\"colorbar\":{\"outlinewidth\":0,\"ticks\":\"\"}}],\"histogram2d\":[{\"type\":\"histogram2d\",\"colorbar\":{\"outlinewidth\":0,\"ticks\":\"\"},\"colorscale\":[[0.0,\"#0d0887\"],[0.1111111111111111,\"#46039f\"],[0.2222222222222222,\"#7201a8\"],[0.3333333333333333,\"#9c179e\"],[0.4444444444444444,\"#bd3786\"],[0.5555555555555556,\"#d8576b\"],[0.6666666666666666,\"#ed7953\"],[0.7777777777777778,\"#fb9f3a\"],[0.8888888888888888,\"#fdca26\"],[1.0,\"#f0f921\"]]}],\"heatmap\":[{\"type\":\"heatmap\",\"colorbar\":{\"outlinewidth\":0,\"ticks\":\"\"},\"colorscale\":[[0.0,\"#0d0887\"],[0.1111111111111111,\"#46039f\"],[0.2222222222222222,\"#7201a8\"],[0.3333333333333333,\"#9c179e\"],[0.4444444444444444,\"#bd3786\"],[0.5555555555555556,\"#d8576b\"],[0.6666666666666666,\"#ed7953\"],[0.7777777777777778,\"#fb9f3a\"],[0.8888888888888888,\"#fdca26\"],[1.0,\"#f0f921\"]]}],\"heatmapgl\":[{\"type\":\"heatmapgl\",\"colorbar\":{\"outlinewidth\":0,\"ticks\":\"\"},\"colorscale\":[[0.0,\"#0d0887\"],[0.1111111111111111,\"#46039f\"],[0.2222222222222222,\"#7201a8\"],[0.3333333333333333,\"#9c179e\"],[0.4444444444444444,\"#bd3786\"],[0.5555555555555556,\"#d8576b\"],[0.6666666666666666,\"#ed7953\"],[0.7777777777777778,\"#fb9f3a\"],[0.8888888888888888,\"#fdca26\"],[1.0,\"#f0f921\"]]}],\"contourcarpet\":[{\"type\":\"contourcarpet\",\"colorbar\":{\"outlinewidth\":0,\"ticks\":\"\"}}],\"contour\":[{\"type\":\"contour\",\"colorbar\":{\"outlinewidth\":0,\"ticks\":\"\"},\"colorscale\":[[0.0,\"#0d0887\"],[0.1111111111111111,\"#46039f\"],[0.2222222222222222,\"#7201a8\"],[0.3333333333333333,\"#9c179e\"],[0.4444444444444444,\"#bd3786\"],[0.5555555555555556,\"#d8576b\"],[0.6666666666666666,\"#ed7953\"],[0.7777777777777778,\"#fb9f3a\"],[0.8888888888888888,\"#fdca26\"],[1.0,\"#f0f921\"]]}],\"surface\":[{\"type\":\"surface\",\"colorbar\":{\"outlinewidth\":0,\"ticks\":\"\"},\"colorscale\":[[0.0,\"#0d0887\"],[0.1111111111111111,\"#46039f\"],[0.2222222222222222,\"#7201a8\"],[0.3333333333333333,\"#9c179e\"],[0.4444444444444444,\"#bd3786\"],[0.5555555555555556,\"#d8576b\"],[0.6666666666666666,\"#ed7953\"],[0.7777777777777778,\"#fb9f3a\"],[0.8888888888888888,\"#fdca26\"],[1.0,\"#f0f921\"]]}],\"mesh3d\":[{\"type\":\"mesh3d\",\"colorbar\":{\"outlinewidth\":0,\"ticks\":\"\"}}],\"scatter\":[{\"fillpattern\":{\"fillmode\":\"overlay\",\"size\":10,\"solidity\":0.2},\"type\":\"scatter\"}],\"parcoords\":[{\"type\":\"parcoords\",\"line\":{\"colorbar\":{\"outlinewidth\":0,\"ticks\":\"\"}}}],\"scatterpolargl\":[{\"type\":\"scatterpolargl\",\"marker\":{\"colorbar\":{\"outlinewidth\":0,\"ticks\":\"\"}}}],\"bar\":[{\"error_x\":{\"color\":\"#2a3f5f\"},\"error_y\":{\"color\":\"#2a3f5f\"},\"marker\":{\"line\":{\"color\":\"#E5ECF6\",\"width\":0.5},\"pattern\":{\"fillmode\":\"overlay\",\"size\":10,\"solidity\":0.2}},\"type\":\"bar\"}],\"scattergeo\":[{\"type\":\"scattergeo\",\"marker\":{\"colorbar\":{\"outlinewidth\":0,\"ticks\":\"\"}}}],\"scatterpolar\":[{\"type\":\"scatterpolar\",\"marker\":{\"colorbar\":{\"outlinewidth\":0,\"ticks\":\"\"}}}],\"histogram\":[{\"marker\":{\"pattern\":{\"fillmode\":\"overlay\",\"size\":10,\"solidity\":0.2}},\"type\":\"histogram\"}],\"scattergl\":[{\"type\":\"scattergl\",\"marker\":{\"colorbar\":{\"outlinewidth\":0,\"ticks\":\"\"}}}],\"scatter3d\":[{\"type\":\"scatter3d\",\"line\":{\"colorbar\":{\"outlinewidth\":0,\"ticks\":\"\"}},\"marker\":{\"colorbar\":{\"outlinewidth\":0,\"ticks\":\"\"}}}],\"scattermapbox\":[{\"type\":\"scattermapbox\",\"marker\":{\"colorbar\":{\"outlinewidth\":0,\"ticks\":\"\"}}}],\"scatterternary\":[{\"type\":\"scatterternary\",\"marker\":{\"colorbar\":{\"outlinewidth\":0,\"ticks\":\"\"}}}],\"scattercarpet\":[{\"type\":\"scattercarpet\",\"marker\":{\"colorbar\":{\"outlinewidth\":0,\"ticks\":\"\"}}}],\"carpet\":[{\"aaxis\":{\"endlinecolor\":\"#2a3f5f\",\"gridcolor\":\"white\",\"linecolor\":\"white\",\"minorgridcolor\":\"white\",\"startlinecolor\":\"#2a3f5f\"},\"baxis\":{\"endlinecolor\":\"#2a3f5f\",\"gridcolor\":\"white\",\"linecolor\":\"white\",\"minorgridcolor\":\"white\",\"startlinecolor\":\"#2a3f5f\"},\"type\":\"carpet\"}],\"table\":[{\"cells\":{\"fill\":{\"color\":\"#EBF0F8\"},\"line\":{\"color\":\"white\"}},\"header\":{\"fill\":{\"color\":\"#C8D4E3\"},\"line\":{\"color\":\"white\"}},\"type\":\"table\"}],\"barpolar\":[{\"marker\":{\"line\":{\"color\":\"#E5ECF6\",\"width\":0.5},\"pattern\":{\"fillmode\":\"overlay\",\"size\":10,\"solidity\":0.2}},\"type\":\"barpolar\"}],\"pie\":[{\"automargin\":true,\"type\":\"pie\"}]},\"layout\":{\"autotypenumbers\":\"strict\",\"colorway\":[\"#636efa\",\"#EF553B\",\"#00cc96\",\"#ab63fa\",\"#FFA15A\",\"#19d3f3\",\"#FF6692\",\"#B6E880\",\"#FF97FF\",\"#FECB52\"],\"font\":{\"color\":\"#2a3f5f\"},\"hovermode\":\"closest\",\"hoverlabel\":{\"align\":\"left\"},\"paper_bgcolor\":\"white\",\"plot_bgcolor\":\"#E5ECF6\",\"polar\":{\"bgcolor\":\"#E5ECF6\",\"angularaxis\":{\"gridcolor\":\"white\",\"linecolor\":\"white\",\"ticks\":\"\"},\"radialaxis\":{\"gridcolor\":\"white\",\"linecolor\":\"white\",\"ticks\":\"\"}},\"ternary\":{\"bgcolor\":\"#E5ECF6\",\"aaxis\":{\"gridcolor\":\"white\",\"linecolor\":\"white\",\"ticks\":\"\"},\"baxis\":{\"gridcolor\":\"white\",\"linecolor\":\"white\",\"ticks\":\"\"},\"caxis\":{\"gridcolor\":\"white\",\"linecolor\":\"white\",\"ticks\":\"\"}},\"coloraxis\":{\"colorbar\":{\"outlinewidth\":0,\"ticks\":\"\"}},\"colorscale\":{\"sequential\":[[0.0,\"#0d0887\"],[0.1111111111111111,\"#46039f\"],[0.2222222222222222,\"#7201a8\"],[0.3333333333333333,\"#9c179e\"],[0.4444444444444444,\"#bd3786\"],[0.5555555555555556,\"#d8576b\"],[0.6666666666666666,\"#ed7953\"],[0.7777777777777778,\"#fb9f3a\"],[0.8888888888888888,\"#fdca26\"],[1.0,\"#f0f921\"]],\"sequentialminus\":[[0.0,\"#0d0887\"],[0.1111111111111111,\"#46039f\"],[0.2222222222222222,\"#7201a8\"],[0.3333333333333333,\"#9c179e\"],[0.4444444444444444,\"#bd3786\"],[0.5555555555555556,\"#d8576b\"],[0.6666666666666666,\"#ed7953\"],[0.7777777777777778,\"#fb9f3a\"],[0.8888888888888888,\"#fdca26\"],[1.0,\"#f0f921\"]],\"diverging\":[[0,\"#8e0152\"],[0.1,\"#c51b7d\"],[0.2,\"#de77ae\"],[0.3,\"#f1b6da\"],[0.4,\"#fde0ef\"],[0.5,\"#f7f7f7\"],[0.6,\"#e6f5d0\"],[0.7,\"#b8e186\"],[0.8,\"#7fbc41\"],[0.9,\"#4d9221\"],[1,\"#276419\"]]},\"xaxis\":{\"gridcolor\":\"white\",\"linecolor\":\"white\",\"ticks\":\"\",\"title\":{\"standoff\":15},\"zerolinecolor\":\"white\",\"automargin\":true,\"zerolinewidth\":2},\"yaxis\":{\"gridcolor\":\"white\",\"linecolor\":\"white\",\"ticks\":\"\",\"title\":{\"standoff\":15},\"zerolinecolor\":\"white\",\"automargin\":true,\"zerolinewidth\":2},\"scene\":{\"xaxis\":{\"backgroundcolor\":\"#E5ECF6\",\"gridcolor\":\"white\",\"linecolor\":\"white\",\"showbackground\":true,\"ticks\":\"\",\"zerolinecolor\":\"white\",\"gridwidth\":2},\"yaxis\":{\"backgroundcolor\":\"#E5ECF6\",\"gridcolor\":\"white\",\"linecolor\":\"white\",\"showbackground\":true,\"ticks\":\"\",\"zerolinecolor\":\"white\",\"gridwidth\":2},\"zaxis\":{\"backgroundcolor\":\"#E5ECF6\",\"gridcolor\":\"white\",\"linecolor\":\"white\",\"showbackground\":true,\"ticks\":\"\",\"zerolinecolor\":\"white\",\"gridwidth\":2}},\"shapedefaults\":{\"line\":{\"color\":\"#2a3f5f\"}},\"annotationdefaults\":{\"arrowcolor\":\"#2a3f5f\",\"arrowhead\":0,\"arrowwidth\":1},\"geo\":{\"bgcolor\":\"white\",\"landcolor\":\"#E5ECF6\",\"subunitcolor\":\"white\",\"showland\":true,\"showlakes\":true,\"lakecolor\":\"white\"},\"title\":{\"x\":0.05},\"mapbox\":{\"style\":\"light\"}}},\"xaxis\":{\"anchor\":\"y\",\"domain\":[0.0,1.0],\"scaleanchor\":\"y\",\"constrain\":\"domain\"},\"yaxis\":{\"anchor\":\"x\",\"domain\":[0.0,1.0],\"autorange\":\"reversed\",\"constrain\":\"domain\"},\"coloraxis\":{\"colorscale\":[[0.0,\"#0d0887\"],[0.1111111111111111,\"#46039f\"],[0.2222222222222222,\"#7201a8\"],[0.3333333333333333,\"#9c179e\"],[0.4444444444444444,\"#bd3786\"],[0.5555555555555556,\"#d8576b\"],[0.6666666666666666,\"#ed7953\"],[0.7777777777777778,\"#fb9f3a\"],[0.8888888888888888,\"#fdca26\"],[1.0,\"#f0f921\"]]},\"margin\":{\"t\":60}},                        {\"responsive\": true}                    ).then(function(){\n                            \nvar gd = document.getElementById('e45df2b5-4835-48e9-8cd1-cef855e6eee8');\nvar x = new MutationObserver(function (mutations, observer) {{\n        var display = window.getComputedStyle(gd).display;\n        if (!display || display === 'none') {{\n            console.log([gd, 'removed!']);\n            Plotly.purge(gd);\n            observer.disconnect();\n        }}\n}});\n\n// Listen for the removal of the full notebook cells\nvar notebookContainer = gd.closest('#notebook-container');\nif (notebookContainer) {{\n    x.observe(notebookContainer, {childList: true});\n}}\n\n// Listen for the clearing of the current output cell\nvar outputEl = gd.closest('.output');\nif (outputEl) {{\n    x.observe(outputEl, {childList: true});\n}}\n\n                        })                };                });            </script>        </div>"
     },
     "metadata": {},
     "output_type": "display_data"
    }
   ],
   "source": [
    "print(f\"Accuracy: {accuracy_score(df['true'], df['preds']) * 100}%\")\n",
    "\n",
    "cm = confusion_matrix(df['true'], df['preds'])\n",
    "px.imshow(cm, text_auto=True)"
   ],
   "metadata": {
    "collapsed": false,
    "ExecuteTime": {
     "end_time": "2024-02-22T14:02:09.876104900Z",
     "start_time": "2024-02-22T14:02:09.722108800Z"
    }
   },
   "id": "ee118962cc5def05"
  }
 ],
 "metadata": {
  "kernelspec": {
   "display_name": "Python 3",
   "language": "python",
   "name": "python3"
  },
  "language_info": {
   "codemirror_mode": {
    "name": "ipython",
    "version": 2
   },
   "file_extension": ".py",
   "mimetype": "text/x-python",
   "name": "python",
   "nbconvert_exporter": "python",
   "pygments_lexer": "ipython2",
   "version": "2.7.6"
  }
 },
 "nbformat": 4,
 "nbformat_minor": 5
}
