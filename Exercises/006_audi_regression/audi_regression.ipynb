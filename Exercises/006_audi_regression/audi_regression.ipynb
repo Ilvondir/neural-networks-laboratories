{
 "cells": [
  {
   "cell_type": "code",
   "execution_count": null,
   "id": "initial_id",
   "metadata": {
    "collapsed": true
   },
   "outputs": [],
   "source": [
    "import pandas as pd\n",
    "from keras import Sequential\n",
    "from keras.src.callbacks import ModelCheckpoint\n",
    "from keras.src.layers import Dense\n",
    "from sklearn.metrics import mean_absolute_error\n",
    "from sklearn.preprocessing import StandardScaler\n",
    "import plotly.graph_objects as go"
   ]
  },
  {
   "cell_type": "code",
   "execution_count": null,
   "outputs": [],
   "source": [
    "data = pd.read_csv(\"audi.csv\").drop(\"model\", axis=1)\n",
    "\n",
    "test_labels = data[\"price\"][-1000:-1]\n",
    "labels = data[\"price\"][0:-1000]\n",
    "\n",
    "data = data.drop(\"price\", axis=1)\n",
    "data = pd.get_dummies(data, columns=[\"transmission\"], dtype=int)\n",
    "data = pd.get_dummies(data, columns=[\"fuelType\"], dtype=int)\n",
    "data"
   ],
   "metadata": {
    "collapsed": false
   },
   "id": "29989647aad079ee"
  },
  {
   "cell_type": "code",
   "execution_count": null,
   "outputs": [],
   "source": [
    "scaler = StandardScaler()\n",
    "data = scaler.fit_transform(data)\n",
    "test_data = data[-1000:-1]\n",
    "data = data[:-1000]"
   ],
   "metadata": {
    "collapsed": false
   },
   "id": "74cd038a020ddbd3"
  },
  {
   "cell_type": "code",
   "execution_count": null,
   "outputs": [],
   "source": [
    "model = Sequential()\n",
    "model.add(Dense(units=32, input_shape=(11,)))\n",
    "model.add(Dense(units=8, activation=\"relu\"))\n",
    "model.add(Dense(units=1, activation=\"relu\"))\n",
    "model.summary()"
   ],
   "metadata": {
    "collapsed": false
   },
   "id": "cd5f20655064e245"
  },
  {
   "cell_type": "code",
   "execution_count": null,
   "outputs": [],
   "source": [
    "mc = ModelCheckpoint(\"best_model_audi.keras\", monitor=\"val_mae\", save_best_only=True, mode=\"min\", verbose=1)\n",
    "\n",
    "model.compile(optimizer=\"adam\",\n",
    "              loss=\"mse\",\n",
    "              metrics=[\"mae\"])\n",
    "\n",
    "history = model.fit(data, labels, validation_split=0.25, callbacks=[mc], epochs=20, batch_size=32)\n",
    "\n",
    "model.save(\"model_after_training_audi.keras\")"
   ],
   "metadata": {
    "collapsed": false
   },
   "id": "674a3914d31669b1"
  },
  {
   "cell_type": "code",
   "execution_count": null,
   "outputs": [],
   "source": [
    "def draw_history(history):\n",
    "    fig = go.Figure()\n",
    "    fig.add_trace(go.Scatter(x=history.epoch, y=history.history[\"mae\"], name=\"mae\"))\n",
    "    fig.add_trace(go.Scatter(x=history.epoch, y=history.history[\"val_mae\"], name=\"val_mae\"))\n",
    "    fig.show()\n",
    "\n",
    "    fig = go.Figure()\n",
    "    fig.add_trace(go.Scatter(x=history.epoch, y=history.history[\"loss\"], name=\"loss\"))\n",
    "    fig.add_trace(go.Scatter(x=history.epoch, y=history.history[\"val_loss\"], name=\"val_loss\"))\n",
    "    fig.show()\n",
    "\n",
    "\n",
    "draw_history(history)"
   ],
   "metadata": {
    "collapsed": false
   },
   "id": "e0f259814b11dc08"
  },
  {
   "cell_type": "code",
   "execution_count": null,
   "outputs": [],
   "source": [
    "model.load_weights(\"model_after_training_audi.keras\")\n",
    "\n",
    "preds = model.predict(test_data, verbose=0)\n",
    "\n",
    "df = pd.DataFrame(\n",
    "    {\"price\": test_labels, \"predictions\": preds.ravel(), \"error\": abs(test_labels - preds.ravel())}\n",
    ").reset_index().drop(\"index\", axis=1)\n",
    "\n",
    "print(f\"Mean absolute error: {mean_absolute_error(df['price'], df['predictions'])}\")\n",
    "\n",
    "df"
   ],
   "metadata": {
    "collapsed": false
   },
   "id": "4c945fe0e2b7b3b8"
  }
 ],
 "metadata": {
  "kernelspec": {
   "display_name": "Python 3",
   "language": "python",
   "name": "python3"
  },
  "language_info": {
   "codemirror_mode": {
    "name": "ipython",
    "version": 2
   },
   "file_extension": ".py",
   "mimetype": "text/x-python",
   "name": "python",
   "nbconvert_exporter": "python",
   "pygments_lexer": "ipython2",
   "version": "2.7.6"
  }
 },
 "nbformat": 4,
 "nbformat_minor": 5
}
