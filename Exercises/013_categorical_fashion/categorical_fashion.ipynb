{
 "cells": [
  {
   "cell_type": "code",
   "execution_count": null,
   "id": "initial_id",
   "metadata": {
    "collapsed": true
   },
   "outputs": [],
   "source": [
    "import numpy as np\n",
    "import pandas as pd\n",
    "from keras import Sequential\n",
    "from keras.src.callbacks import ModelCheckpoint\n",
    "from keras.src.datasets import fashion_mnist\n",
    "from keras.src.layers import Dense, Flatten, Dropout\n",
    "from keras.src.utils import to_categorical\n",
    "from matplotlib import pyplot as plt\n",
    "from plotly import graph_objects as go\n",
    "from plotly import express as px\n",
    "from sklearn.metrics import accuracy_score, confusion_matrix"
   ]
  },
  {
   "cell_type": "code",
   "execution_count": null,
   "outputs": [],
   "source": [
    "(data, labels), (test_data, test_labels) = fashion_mnist.load_data()\n",
    "data = data / 255.\n",
    "test_data = test_data / 255.\n",
    "\n",
    "data[0]"
   ],
   "metadata": {
    "collapsed": false
   },
   "id": "a3e564a85798b973"
  },
  {
   "cell_type": "code",
   "execution_count": null,
   "outputs": [],
   "source": [
    "def show_data(start_id):\n",
    "    plt.figure(figsize=(16, 16))\n",
    "\n",
    "    i = 1\n",
    "    for img in test_data[start_id:start_id + 16]:\n",
    "        plt.subplot(4, 4, i)\n",
    "        plt.imshow(img, cmap=\"gray_r\")\n",
    "\n",
    "        if i > 16:\n",
    "            break\n",
    "\n",
    "        i += 1\n",
    "\n",
    "    plt.show()\n",
    "\n",
    "\n",
    "show_data(1)"
   ],
   "metadata": {
    "collapsed": false
   },
   "id": "c2db151523c5986d"
  },
  {
   "cell_type": "code",
   "execution_count": null,
   "outputs": [],
   "source": [
    "model = Sequential()\n",
    "model.add(Flatten(input_shape=(28, 28)))\n",
    "model.add(Dense(units=256, activation=\"elu\"))\n",
    "model.add(Dense(units=10, activation=\"softmax\"))\n",
    "\n",
    "model.summary()"
   ],
   "metadata": {
    "collapsed": false
   },
   "id": "a8c3f26a8655ef9c"
  },
  {
   "cell_type": "code",
   "execution_count": null,
   "outputs": [],
   "source": [
    "mc = ModelCheckpoint(\"best_model_fashion.keras\", monitor=\"val_accuracy\", mode=\"max\", save_best_only=True, verbose=1)\n",
    "\n",
    "model.compile(loss=\"categorical_crossentropy\", optimizer=\"adam\", metrics=[\"accuracy\"])\n",
    "\n",
    "r = model.fit(data, to_categorical(labels), validation_split=0.15, epochs=25, callbacks=[mc], batch_size=32 * 4)\n",
    "\n",
    "model.save_weights(\"model_after_training.keras\")"
   ],
   "metadata": {
    "collapsed": false
   },
   "id": "5e6087f5fce99b71"
  },
  {
   "cell_type": "code",
   "execution_count": null,
   "outputs": [],
   "source": [
    "def draw_history(r):\n",
    "    fig = go.Figure()\n",
    "    fig.add_trace(go.Scatter(x=r.epoch, y=r.history[\"accuracy\"], name=\"accuracy\"))\n",
    "    fig.add_trace(go.Scatter(x=r.epoch, y=r.history[\"val_accuracy\"], name=\"val_accuracy\"))\n",
    "    fig.show()\n",
    "\n",
    "    fig = go.Figure()\n",
    "    fig.add_trace(go.Scatter(x=r.epoch, y=r.history[\"loss\"], name=\"loss\"))\n",
    "    fig.add_trace(go.Scatter(x=r.epoch, y=r.history[\"val_loss\"], name=\"val_loss\"))\n",
    "    fig.show()\n",
    "\n",
    "\n",
    "draw_history(r)"
   ],
   "metadata": {
    "collapsed": false
   },
   "id": "ad564e3f6fcdae8a"
  },
  {
   "cell_type": "code",
   "execution_count": null,
   "outputs": [],
   "source": [
    "model.load_weights(\"model_after_training.keras\")\n",
    "\n",
    "preds = model.predict(test_data)\n",
    "preds = np.argmax(preds, axis=1)\n",
    "\n",
    "df = pd.DataFrame({\n",
    "    \"true\": test_labels,\n",
    "    \"predict\": preds\n",
    "})\n",
    "\n",
    "df"
   ],
   "metadata": {
    "collapsed": false
   },
   "id": "b951841e057db9f2"
  },
  {
   "cell_type": "code",
   "execution_count": null,
   "outputs": [],
   "source": [
    "print(f\"Accuracy: {accuracy_score(df.true, df.predict) * 100}%\")\n",
    "\n",
    "classes_indices = [\"T-shirt/top\", \"Trouser\", \"Pullover\", \"Dress\", \"Coat\", \"Sandal\", \"Shirt\", \"Sneaker\", \"Bag\",\n",
    "                   \"Ankle boot\"]\n",
    "\n",
    "cm = confusion_matrix(df.true, df.predict)\n",
    "\n",
    "px.imshow(cm, text_auto=True, x=[\"p_\" + c for c in classes_indices], y=[\"t_\" + c for c in classes_indices])"
   ],
   "metadata": {
    "collapsed": false
   },
   "id": "1264a364f86ae3c8"
  },
  {
   "cell_type": "code",
   "execution_count": null,
   "outputs": [],
   "source": [
    "indexes = np.where(df.true == 5)\n",
    "\n",
    "plt.imshow(test_data[indexes[0][67]], cmap=\"gray_r\")"
   ],
   "metadata": {
    "collapsed": false
   },
   "id": "b588a19011b2af56"
  }
 ],
 "metadata": {
  "kernelspec": {
   "display_name": "Python 3",
   "language": "python",
   "name": "python3"
  },
  "language_info": {
   "codemirror_mode": {
    "name": "ipython",
    "version": 2
   },
   "file_extension": ".py",
   "mimetype": "text/x-python",
   "name": "python",
   "nbconvert_exporter": "python",
   "pygments_lexer": "ipython2",
   "version": "2.7.6"
  }
 },
 "nbformat": 4,
 "nbformat_minor": 5
}
