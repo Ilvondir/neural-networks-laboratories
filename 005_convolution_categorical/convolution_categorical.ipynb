{
 "cells": [
  {
   "cell_type": "code",
   "execution_count": null,
   "id": "initial_id",
   "metadata": {
    "collapsed": true
   },
   "outputs": [],
   "source": [
    "import numpy as np\n",
    "import os\n",
    "\n",
    "import pandas as pd\n",
    "from keras import Sequential\n",
    "from keras.src.applications import VGG19\n",
    "from keras.src.callbacks import ModelCheckpoint\n",
    "from keras.src.layers import Conv2D, MaxPooling2D, Flatten, Dense\n",
    "from keras.src.preprocessing.image import ImageDataGenerator\n",
    "from matplotlib import pyplot as plt\n",
    "from plotly.subplots import make_subplots\n",
    "from sklearn.metrics import confusion_matrix, accuracy_score\n",
    "from tensorflow.keras.preprocessing import image\n",
    "import plotly.graph_objects as go\n",
    "import plotly.express as px\n",
    "from tensorflow.keras.models import load_model"
   ]
  },
  {
   "cell_type": "code",
   "execution_count": null,
   "outputs": [],
   "source": [
    "root = \"./img\"\n",
    "\n",
    "train_catalog = \"./img/train\"\n",
    "validation_catalog = \"./img/validation\"\n",
    "test_catalog = \"./img/test\"\n",
    "\n",
    "train_catalogs = [train_catalog + e for e in [\"/bicycle\", \"/car\", \"/ship\", \"/tank\"]]\n",
    "validation_catalogs = [validation_catalog + e for e in [\"/bicycle\", \"/car\", \"/ship\", \"/tank\"]]\n",
    "test_catalogs = [test_catalog + e for e in [\"/bicycle\", \"/car\", \"/ship\", \"/tank\"]]\n",
    "\n"
   ],
   "metadata": {
    "collapsed": false
   },
   "id": "fa4d1255e8413199"
  },
  {
   "cell_type": "code",
   "execution_count": null,
   "outputs": [],
   "source": [
    "train_images = 0\n",
    "validation_images = 0\n",
    "test_images = 0\n",
    "\n",
    "for e in train_catalogs:\n",
    "    temp = len(os.listdir(e))\n",
    "    print(f\"{e} images: {temp}\")\n",
    "    train_images += temp\n",
    "\n",
    "print(f\"Train set size: {train_images}\\n\")\n",
    "\n",
    "for e in validation_catalogs:\n",
    "    temp = len(os.listdir(e))\n",
    "    print(f\"{e} images: {temp}\")\n",
    "    validation_images += temp\n",
    "\n",
    "print(f\"Validation set size: {validation_images}\\n\")\n",
    "\n",
    "for e in test_catalogs:\n",
    "    temp = len(os.listdir(e))\n",
    "    print(f\"{e} images: {temp}\")\n",
    "    test_images += temp\n",
    "\n",
    "print(f\"Test set size: {test_images}\\n\")"
   ],
   "metadata": {
    "collapsed": false
   },
   "id": "ae1c436f7d5ccbf2"
  },
  {
   "cell_type": "code",
   "execution_count": null,
   "outputs": [],
   "source": [
    "train_datagen = ImageDataGenerator(rescale=1. / 255.,\n",
    "                                   horizontal_flip=True,\n",
    "                                   brightness_range=[0.4, 1.4],\n",
    "                                   zoom_range=0.2,\n",
    "                                   width_shift_range=0.2,\n",
    "                                   height_shift_range=0.2,\n",
    "                                   shear_range=0.1,\n",
    "                                   rotation_range=30,\n",
    "                                   fill_mode=\"nearest\")\n",
    "\n",
    "validation_datagen = ImageDataGenerator(rescale=1. / 255.)\n",
    "\n",
    "train_generator = train_datagen.flow_from_directory(directory=train_catalog,\n",
    "                                                    target_size=(150, 150),\n",
    "                                                    batch_size=32,\n",
    "                                                    class_mode=\"categorical\")\n",
    "\n",
    "validation_generator = train_datagen.flow_from_directory(directory=validation_catalog,\n",
    "                                                         target_size=(150, 150),\n",
    "                                                         batch_size=32,\n",
    "                                                         class_mode=\"categorical\")\n",
    "\n",
    "train_filenames = train_generator.filepaths\n",
    "validation_filenames = validation_generator.filepaths"
   ],
   "metadata": {
    "collapsed": false
   },
   "id": "391993c52d8a46a0"
  },
  {
   "cell_type": "code",
   "execution_count": null,
   "outputs": [],
   "source": [
    "def show_augmented_image(id):\n",
    "    img = image.load_img(train_filenames[id], target_size=(150, 150))\n",
    "    img = image.img_to_array(img)\n",
    "    img = img.reshape((1,) + img.shape)\n",
    "\n",
    "    rows, cols = 3, 3\n",
    "    fig = make_subplots(rows=rows, cols=cols)\n",
    "\n",
    "    i = 0\n",
    "    for batch in train_datagen.flow(img, batch_size=1):\n",
    "\n",
    "        img = image.array_to_img(batch[0])\n",
    "\n",
    "        fig.add_trace(go.Image(z=img), row=i // cols + 1, col=i % cols + 1)\n",
    "\n",
    "        i += 1\n",
    "        if i >= rows * cols:\n",
    "            break\n",
    "\n",
    "    fig.update_layout(width=1000, height=800, grid={\"rows\": rows, \"columns\": cols},\n",
    "                      margin={\"l\": 0, \"r\": 0, \"t\": 0, \"b\": 0})\n",
    "\n",
    "    fig.show()\n",
    "\n",
    "# show_augmented_image(556)"
   ],
   "metadata": {
    "collapsed": false
   },
   "id": "ccc43556ab38b0dc"
  },
  {
   "cell_type": "code",
   "execution_count": null,
   "outputs": [],
   "source": [
    "model = load_model(\"model5.keras\")\n",
    "\n",
    "# model = Sequential()\n",
    "# model.add(Conv2D(filters=16, kernel_size=(3, 3), activation=\"relu\", input_shape=(150, 150, 3)))\n",
    "# model.add(MaxPooling2D(pool_size=(2, 2)))\n",
    "# model.add(Conv2D(filters=32, kernel_size=(3, 3), activation=\"relu\"))\n",
    "# model.add(MaxPooling2D(pool_size=(2, 2)))\n",
    "# model.add(Conv2D(filters=64, kernel_size=(3, 3), activation=\"relu\"))\n",
    "# model.add(MaxPooling2D(pool_size=(2, 2)))\n",
    "# model.add(Conv2D(filters=128, kernel_size=(3, 3), activation=\"relu\"))\n",
    "# model.add(MaxPooling2D(pool_size=(2, 2)))\n",
    "\n",
    "\n",
    "base = VGG19(weights=\"imagenet\", input_shape=(150, 150, 3), include_top=False)\n",
    "model.add(base)\n",
    "\n",
    "model.add(Flatten())\n",
    "model.add(Dense(units=256, activation=\"relu\"))\n",
    "model.add(Dense(units=128, activation=\"relu\"))\n",
    "model.add(Dense(units=128, activation=\"relu\"))\n",
    "model.add(Dense(units=4, activation=\"softmax\"))\n",
    "base.trainable = False\n",
    "\n",
    "model.summary()\n",
    "\n"
   ],
   "metadata": {
    "collapsed": false
   },
   "id": "70959aeae5564762"
  },
  {
   "cell_type": "code",
   "execution_count": null,
   "outputs": [],
   "source": [
    "mc = ModelCheckpoint(filepath=\"model5.keras\", monitor=\"val_accuracy\", mode=\"max\", save_best_only=True)\n",
    "\n",
    "model.compile(optimizer=\"adam\", loss=\"categorical_crossentropy\", metrics=[\"accuracy\"])\n",
    "\n",
    "history = model.fit(train_generator, epochs=20, validation_data=validation_generator, callbacks=[mc])\n",
    "\n",
    "model.save(\"model_after_training.keras\")"
   ],
   "metadata": {
    "collapsed": false
   },
   "id": "c08114dc95aa1f5"
  },
  {
   "cell_type": "code",
   "execution_count": null,
   "outputs": [],
   "source": [
    "def draw_history(history):\n",
    "    fig1 = go.Figure()\n",
    "    fig1.add_trace(go.Scatter(x=history.epoch, y=history.history[\"accuracy\"], name=\"accuracy\"))\n",
    "    fig1.add_trace(go.Scatter(x=history.epoch, y=history.history[\"val_accuracy\"], name=\"val_accuracy\"))\n",
    "    fig1.show()\n",
    "\n",
    "    fig1 = go.Figure()\n",
    "    fig1.add_trace(go.Scatter(x=history.epoch, y=history.history[\"loss\"], name=\"loss\"))\n",
    "    fig1.add_trace(go.Scatter(x=history.epoch, y=history.history[\"val_loss\"], name=\"val_loss\"))\n",
    "    fig1.show()\n",
    "\n",
    "\n",
    "draw_history(history)"
   ],
   "metadata": {
    "collapsed": false
   },
   "id": "c9e40f893e362d41"
  },
  {
   "cell_type": "code",
   "execution_count": null,
   "outputs": [],
   "source": [
    "test_datagen = ImageDataGenerator(rescale=1. / 255.)\n",
    "test_generator = test_datagen.flow_from_directory(directory=test_catalog,\n",
    "                                                  target_size=(150, 150),\n",
    "                                                  batch_size=1,\n",
    "                                                  class_mode=\"categorical\",\n",
    "                                                  shuffle=False)\n",
    "\n",
    "model.load_weights(\"model_after_training.keras\")\n",
    "# model.load_weights(\"model5.keras\")\n",
    "\n",
    "probs = model.predict(test_generator)\n",
    "\n",
    "df = pd.DataFrame({\"filepath\": test_generator.filepaths,\n",
    "                   \"class\": test_generator.classes,\n",
    "                   \"predict\": np.argmax(probs, axis=1)})\n",
    "df"
   ],
   "metadata": {
    "collapsed": false
   },
   "id": "7474a4bbaee6d484"
  },
  {
   "cell_type": "code",
   "execution_count": null,
   "outputs": [],
   "source": [
    "print(f\"Accuracy: {accuracy_score(df['class'], df['predict'])}\")\n",
    "\n",
    "print(test_generator.class_indices)\n",
    "cm = confusion_matrix(df[\"class\"], df[\"predict\"])\n",
    "px.imshow(cm, text_auto=True, x=[\"p_bicycle\", \"p_car\", \"p_ship\", \"p_tank\"],\n",
    "          y=[\"t_bicycle\", \"t_car\", \"t_ship\", \"t_tank\"], title=\"Confussion Matrix\")"
   ],
   "metadata": {
    "collapsed": false
   },
   "id": "9c6ae9f7391d046b"
  },
  {
   "cell_type": "code",
   "execution_count": null,
   "outputs": [],
   "source": [
    "print(df.index[df[\"class\"] != df[\"predict\"]].tolist())\n",
    "\n",
    "classes = list(test_generator.class_indices.keys())\n",
    "\n",
    "\n",
    "def show_image(id):\n",
    "    img = image.load_img(test_generator.filepaths[id], target_size=[150, 150])\n",
    "    plt.imshow(img)\n",
    "    print(f\"This is {classes[df['class'][id]]} photo- predicted {classes[df['predict'][id]]}\")\n",
    "    print(df[\"filepath\"][id])\n",
    "\n",
    "\n",
    "show_image(83)\n"
   ],
   "metadata": {
    "collapsed": false
   },
   "id": "17e2b6bb1a716732"
  }
 ],
 "metadata": {
  "kernelspec": {
   "display_name": "Python 3",
   "language": "python",
   "name": "python3"
  },
  "language_info": {
   "codemirror_mode": {
    "name": "ipython",
    "version": 2
   },
   "file_extension": ".py",
   "mimetype": "text/x-python",
   "name": "python",
   "nbconvert_exporter": "python",
   "pygments_lexer": "ipython2",
   "version": "2.7.6"
  }
 },
 "nbformat": 4,
 "nbformat_minor": 5
}
