{
 "cells": [
  {
   "cell_type": "markdown",
   "source": [
    "# Implementacja stochastycznego spadku wzdłuż Gradientu (Gradient Descent)\n",
    "Użyjemy algorytmu stochastycznego spadku do znalezienia minimum funkcji straty określonej wzorem:  L(w)=w^2 − 4w .\n",
    "Pochodna tej funkcji to  dL/dw = 2w−4"
   ],
   "metadata": {
    "collapsed": false
   }
  },
  {
   "cell_type": "code",
   "execution_count": null,
   "outputs": [],
   "source": [
    "import tensorflow as tf\n",
    "import numpy as np\n",
    "import pandas as pd\n",
    "import plotly.graph_objects as go\n",
    "tf.__version__"
   ],
   "metadata": {
    "collapsed": false
   }
  },
  {
   "cell_type": "code",
   "execution_count": null,
   "outputs": [],
   "source": [
    "function = lambda w: w ** 2 - 4 * w\n",
    "derivative = lambda w: 2 * w - 4"
   ],
   "metadata": {
    "collapsed": false
   }
  },
  {
   "cell_type": "code",
   "execution_count": null,
   "outputs": [],
   "source": [
    "w = np.arange(-10, 14, 0.1)\n",
    "loss = function(w)\n",
    "w_0 = -8\n",
    "\n",
    "tangent_line = lambda w: derivative(w_0) * (w - w_0) + function(w_0)\n",
    "tangent_line_values = tangent_line(w)"
   ],
   "metadata": {
    "collapsed": false
   }
  },
  {
   "cell_type": "code",
   "execution_count": null,
   "outputs": [],
   "source": [
    "df = pd.DataFrame({'w': w, 'loss': loss,'tangent_line': tangent_line_values})\n",
    "df.head()"
   ],
   "metadata": {
    "collapsed": false
   }
  },
  {
   "cell_type": "code",
   "execution_count": null,
   "outputs": [],
   "source": [
    "fig = go.Figure(data=[go.Scatter(x=df['w'], y=df['loss'], name='function'),\n",
    "                      go.Scatter(x=df['w'][:100], y=df['tangent_line'][:100], name='tangent line'),\n",
    "                      go.Scatter(x=[w_0], y=[function(w_0)], marker_size=10, name='point')],\n",
    "                layout=go.Layout(width=800, title='Loss Function'))\n",
    "fig.show()"
   ],
   "metadata": {
    "collapsed": false
   }
  },
  {
   "cell_type": "code",
   "execution_count": null,
   "outputs": [],
   "source": [
    "max_iters = 10000\n",
    "iters = 0\n",
    "w_0 = -1\n",
    "previous_step_size = 1\n",
    "learning_rate = 0.01\n",
    "precision = 0.000001\n",
    "derivative = lambda w: 2 * w - 4\n",
    "points = []\n",
    "\n",
    "while previous_step_size > precision and iters < max_iters:\n",
    "    w_prev = w_0\n",
    "    w_0 = w_0 - learning_rate * derivative(w_prev)\n",
    "    previous_step_size = abs(w_0 - w_prev)\n",
    "    iters += 1\n",
    "    points.append(w_0)\n",
    "    print(f'Iteracja # {iters}: obecny punkt: {w_0}')\n",
    "\n",
    "print(f'Minimum lokalne w punkcie: {w_0}')"
   ],
   "metadata": {
    "collapsed": false
   }
  },
  {
   "cell_type": "code",
   "execution_count": null,
   "outputs": [],
   "source": [
    "def gradient_descent(derivative_func, learning_rate=0.01, max_iters=10000,\n",
    "                     precision=0.000001, w_0=-8, verbose=True):\n",
    "    iters = 0\n",
    "    previous_step_size = 1\n",
    "    points = []\n",
    "\n",
    "    while previous_step_size > precision and iters < max_iters:\n",
    "        w_prev = w_0\n",
    "        w_0 = w_0 - learning_rate * derivative_func(w_prev)\n",
    "        previous_step_size = abs(w_0 - w_prev)\n",
    "        iters += 1\n",
    "        points.append(w_0)\n",
    "        if verbose:\n",
    "            print(f'Iteracja # {iters}: obecny punkt: {w_0}')\n",
    "\n",
    "\n",
    "    print(f'Minimum lokalne w punkcie: {w_0}')\n",
    "    return points\n",
    "\n",
    "points = gradient_descent(derivative)"
   ],
   "metadata": {
    "collapsed": false
   }
  },
  {
   "cell_type": "code",
   "execution_count": null,
   "outputs": [],
   "source": [
    "points = pd.DataFrame({'point': points})\n",
    "# points = points.reset_index()\n",
    "points['value'] = function(points['point'])\n",
    "points.head()"
   ],
   "metadata": {
    "collapsed": false
   }
  },
  {
   "cell_type": "code",
   "execution_count": null,
   "outputs": [],
   "source": [
    "fig = go.Figure(data=[go.Scatter(x=df['w'], y=df['loss'], name='function'),\n",
    "                      go.Scatter(x=points['point'], y=points['value'], marker_size=5, name='point', mode='markers')],\n",
    "                layout=go.Layout(width=1000, title='Loss Function'))\n",
    "fig.show()"
   ],
   "metadata": {
    "collapsed": false
   }
  },
  {
   "cell_type": "code",
   "execution_count": null,
   "outputs": [],
   "source": [
    "def test_lr(func, derivative_func, learning_rate, w_0=-8):\n",
    "    points = gradient_descent(derivative_func, learning_rate=learning_rate, w_0=w_0, verbose=False)\n",
    "    points = pd.DataFrame({'point': points})\n",
    "    points = points.reset_index()\n",
    "    points['value'] = func(points['point'])\n",
    "\n",
    "    fig = go.Figure(data=[go.Scatter(x=df['w'], y=df['loss'], name='function'),\n",
    "                          go.Scatter(x=points['point'], y=points['value'], marker_size=5, name='point', mode='markers+lines')],\n",
    "                    layout=go.Layout(width=1000, title=f'Loss Function learning_rate:{learning_rate}'))\n",
    "    fig.show()\n",
    "\n",
    "test_lr(function, derivative, 0.01)"
   ],
   "metadata": {
    "collapsed": false
   }
  },
  {
   "cell_type": "code",
   "execution_count": null,
   "outputs": [],
   "source": [
    "test_lr(function, derivative, 0.1)"
   ],
   "metadata": {
    "collapsed": false
   }
  },
  {
   "cell_type": "code",
   "execution_count": null,
   "outputs": [],
   "source": [
    "test_lr(function, derivative, 0.055)"
   ],
   "metadata": {
    "collapsed": false
   }
  },
  {
   "cell_type": "code",
   "execution_count": null,
   "outputs": [],
   "source": [
    "test_lr(function, derivative, 0.001)"
   ],
   "metadata": {
    "collapsed": false
   }
  },
  {
   "cell_type": "code",
   "execution_count": null,
   "outputs": [],
   "source": [
    "function_2 = lambda w: (w + 8) * (w - 5) * (w - 10) * (w + 5) * (w + 5) * (w - 2)\n",
    "\n",
    "from sympy import Symbol, lambdify\n",
    "\n",
    "w = Symbol('w')\n",
    "f = (w + 8) * (w - 5) * (w - 10) * (w + 5) * (w + 5) * (w - 2)\n",
    "f_diff = f.diff(w)\n",
    "derivative_2 = lambdify(w, f_diff)\n",
    "del w"
   ],
   "metadata": {
    "collapsed": false
   }
  },
  {
   "cell_type": "code",
   "execution_count": null,
   "outputs": [],
   "source": [
    "w = np.arange(-9, 10, 0.1)\n",
    "loss = function_2(w)\n",
    "w_0 = -4\n",
    "\n",
    "tangent_line = lambda w: derivative_2(w_0) * (w - w_0) + function_2(w_0)\n",
    "tangent_line_values = tangent_line(w)\n",
    "\n",
    "df = pd.DataFrame({'w': w, 'loss': loss,'tangent_line': tangent_line_values})\n",
    "df.head()\n",
    "\n",
    "fig = go.Figure(data=[go.Scatter(x=df['w'], y=df['loss'], name='function_2'),\n",
    "                      go.Scatter(x=df['w'][20:80], y=df['tangent_line'][20:80], name='tangent line'),\n",
    "                      go.Scatter(x=[w_0], y=[function_2(w_0)], marker_size=10, name='point')],\n",
    "                layout=go.Layout(width=800, title='Loss Function'))\n",
    "fig.show()"
   ],
   "metadata": {
    "collapsed": false
   }
  },
  {
   "cell_type": "code",
   "execution_count": null,
   "outputs": [],
   "source": [
    "gradient_descent(derivative_2, learning_rate=0.01, w_0=-4)"
   ],
   "metadata": {
    "collapsed": false
   }
  },
  {
   "cell_type": "code",
   "execution_count": null,
   "outputs": [],
   "source": [
    "gradient_descent(derivative_2, learning_rate=0.0001, w_0=-4)"
   ],
   "metadata": {
    "collapsed": false
   }
  },
  {
   "cell_type": "code",
   "execution_count": null,
   "outputs": [],
   "source": [
    "test_lr(function_2, derivative_2, learning_rate=0.0001, w_0=-4)"
   ],
   "metadata": {
    "collapsed": false
   }
  },
  {
   "cell_type": "code",
   "execution_count": null,
   "outputs": [],
   "source": [
    "gradient_descent(derivative_2, learning_rate=0.0001, w_0=3)"
   ],
   "metadata": {
    "collapsed": false
   }
  },
  {
   "cell_type": "code",
   "execution_count": null,
   "outputs": [],
   "source": [
    "test_lr(function_2, derivative_2, learning_rate=0.0001, w_0=3)"
   ],
   "metadata": {
    "collapsed": false
   }
  },
  {
   "cell_type": "code",
   "execution_count": null,
   "outputs": [],
   "source": [
    "gradient_descent(derivative_2, learning_rate=0.0001, w_0=4)"
   ],
   "metadata": {
    "collapsed": false
   }
  },
  {
   "cell_type": "code",
   "execution_count": null,
   "outputs": [],
   "source": [
    "test_lr(function_2, derivative_2, learning_rate=0.0001, w_0=4)"
   ],
   "metadata": {
    "collapsed": false
   }
  },
  {
   "cell_type": "code",
   "execution_count": null,
   "outputs": [],
   "source": [
    "test_lr(function_2, derivative_2, learning_rate=0.00001, w_0=4)"
   ],
   "metadata": {
    "collapsed": false
   }
  }
 ],
 "metadata": {
  "kernelspec": {
   "display_name": "Python 3",
   "language": "python",
   "name": "python3"
  },
  "language_info": {
   "codemirror_mode": {
    "name": "ipython",
    "version": 2
   },
   "file_extension": ".py",
   "mimetype": "text/x-python",
   "name": "python",
   "nbconvert_exporter": "python",
   "pygments_lexer": "ipython2",
   "version": "2.7.6"
  }
 },
 "nbformat": 4,
 "nbformat_minor": 0
}
