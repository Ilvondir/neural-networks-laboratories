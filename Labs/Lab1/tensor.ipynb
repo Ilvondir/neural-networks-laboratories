{
 "nbformat": 4,
 "nbformat_minor": 0,
 "metadata": {
  "colab": {
   "provenance": []
  },
  "kernelspec": {
   "name": "python3",
   "language": "python",
   "display_name": "Python 3 (ipykernel)"
  },
  "language_info": {
   "name": "python"
  }
 },
 "cells": [
  {
   "cell_type": "markdown",
   "source": [
    "# Import bibliotek"
   ],
   "metadata": {
    "id": "zhAh4DKTze_a"
   }
  },
  {
   "cell_type": "code",
   "execution_count": null,
   "metadata": {
    "id": "d66Bw6P9zXxd"
   },
   "outputs": [],
   "source": [
    "import numpy as np"
   ]
  },
  {
   "cell_type": "markdown",
   "source": [
    "# Skalar"
   ],
   "metadata": {
    "id": "iVzpYIoUzfd2"
   }
  },
  {
   "cell_type": "code",
   "source": [
    "scalar = 5\n",
    "print(scalar)\n",
    "print(type(scalar))"
   ],
   "metadata": {
    "id": "F7oCddV7z1CH"
   },
   "execution_count": null,
   "outputs": []
  },
  {
   "cell_type": "code",
   "source": [
    "scalar = 5.0\n",
    "print(scalar)\n",
    "print(type(scalar))"
   ],
   "metadata": {
    "id": "UTn1XiTtz6rI"
   },
   "execution_count": null,
   "outputs": []
  },
  {
   "cell_type": "markdown",
   "source": [
    "# Wektor"
   ],
   "metadata": {
    "id": "q9R3VXVtzfzL"
   }
  },
  {
   "cell_type": "code",
   "source": [
    "vector = np.array([2, 4, -6, 5])\n",
    "print(vector)\n",
    "print(type(vector))\n",
    "print(f'Rozmiar wektora: {vector.shape}')\n",
    "print(f'Typ danych wektora: {vector.dtype}')\n",
    "print(f'Rząd: {vector.ndim}')\n",
    "print(f'Długość: {len(vector)}')"
   ],
   "metadata": {
    "id": "lck4UQVz0Mdh"
   },
   "execution_count": null,
   "outputs": []
  },
  {
   "cell_type": "code",
   "source": [
    "vector = np.array([2, 4, -6, 5], dtype='float')\n",
    "print(vector)\n",
    "print(f'Typ danych wektora: {vector.dtype}')"
   ],
   "metadata": {
    "id": "yYCUTJXa0PLU"
   },
   "execution_count": null,
   "outputs": []
  },
  {
   "cell_type": "markdown",
   "source": [
    "# Macierz"
   ],
   "metadata": {
    "id": "0ul09vcYzgIy"
   }
  },
  {
   "cell_type": "code",
   "source": [
    "array = np.array([[2, 6, 3],\n",
    "                  [5, -3, 4]])\n",
    "print(array)\n",
    "print(type(array))\n",
    "print(f'Rozmiar macierzy: {array.shape}')\n",
    "print(f'Typ danych macierzy: {array.dtype}')\n",
    "print(f'Rząd: {array.ndim}')\n",
    "print(f'Długosc: {len(array)}')"
   ],
   "metadata": {
    "id": "SLOxCMcR0kMY"
   },
   "execution_count": null,
   "outputs": []
  },
  {
   "cell_type": "code",
   "source": [
    "array = np.array([[2, 6, 3],\n",
    "                  [5, 3, 4],\n",
    "                  [4, 2, 1]], dtype='float')\n",
    "print(array)\n",
    "print(f'Rozmiar macierzy: {array.shape}')\n",
    "print(f'Typ danych macierzy: {array.dtype}')\n",
    "print(f'Rząd: {array.ndim}')\n",
    "print(f'Długosc: {len(array)}')"
   ],
   "metadata": {
    "id": "kP8loTG40mUK"
   },
   "execution_count": null,
   "outputs": []
  },
  {
   "cell_type": "markdown",
   "source": [
    "# Tensor"
   ],
   "metadata": {
    "id": "axFW83GnzgdE"
   }
  },
  {
   "cell_type": "code",
   "source": [
    "tensor = np.array([\n",
    "    [[1, 2, 3],\n",
    "     [4, 5, 6]],\n",
    "    [[7, 8, 9],\n",
    "     [3, 7, 3]]\n",
    "])\n",
    "\n",
    "print(tensor)\n",
    "print(type(tensor))\n",
    "print(f'Rozmiar macierzy: {tensor.shape}')\n",
    "print(f'Typ danych macierzy: {tensor.dtype}')\n",
    "print(f'Rząd: {tensor.ndim}')\n",
    "print(f'Długosc: {len(tensor)}')"
   ],
   "metadata": {
    "id": "-gLpN3Il01lI"
   },
   "execution_count": null,
   "outputs": []
  },
  {
   "cell_type": "code",
   "source": [
    "tensor = np.array([\n",
    "    [[1, 2, 3],\n",
    "     [4, 5, 6]],\n",
    "    [[7, 8, 9],\n",
    "     [3, 7, 3]],\n",
    "    [[2, 3, 5],\n",
    "     [7, 2, 5]]\n",
    "])\n",
    "\n",
    "print(tensor)\n",
    "print(type(tensor))\n",
    "print(f'Rozmiar macierzy: {tensor.shape}')\n",
    "print(f'Typ danych macierzy: {tensor.dtype}')\n",
    "print(f'Rząd: {tensor.ndim}')\n",
    "print(f'Długosc: {len(tensor)}')"
   ],
   "metadata": {
    "id": "9mDXzb2a0-JC"
   },
   "execution_count": null,
   "outputs": []
  },
  {
   "cell_type": "code",
   "source": [
    "tensor = np.array([\n",
    "    [[1, 2, 3, 4],\n",
    "     [4, 5, 6, 4],\n",
    "     [4, 2, 5, 2]],\n",
    "    [[7, 8, 9, 8],\n",
    "     [3, 7, 3, 9],\n",
    "     [5, 2, 4, 3]],\n",
    "    [[2, 3, 5, 4],\n",
    "     [7, 2, 5, 1],\n",
    "     [8, 2, 7, 2]],\n",
    "    [[2, 3, 5, 7],\n",
    "     [7, 2, 5, 9],\n",
    "     [8, 2, 7, 0]],\n",
    "    [[2, 3, 5, 7],\n",
    "     [7, 2, 5, 9],\n",
    "     [8, 2, 7, 0]]\n",
    "])\n",
    "\n",
    "print(tensor)\n",
    "print(type(tensor))\n",
    "print(f'Rozmiar macierzy: {tensor.shape}')\n",
    "print(f'Typ danych macierzy: {tensor.dtype}')\n",
    "print(f'Rząd: {tensor.ndim}')\n",
    "print(f'Długosc: {len(tensor)}')"
   ],
   "metadata": {
    "id": "mIQHbrps1T5t"
   },
   "execution_count": null,
   "outputs": []
  },
  {
   "cell_type": "code",
   "source": [
    "tensor"
   ],
   "metadata": {
    "id": "nDx6nDNd1lFM"
   },
   "execution_count": null,
   "outputs": []
  },
  {
   "cell_type": "code",
   "source": [
    "tensor[0]"
   ],
   "metadata": {
    "id": "0G6o3kun1mp_"
   },
   "execution_count": null,
   "outputs": []
  },
  {
   "cell_type": "code",
   "source": [
    "tensor[0:2]"
   ],
   "metadata": {
    "id": "1UQJlcEu1n12"
   },
   "execution_count": null,
   "outputs": []
  }
 ]
}
