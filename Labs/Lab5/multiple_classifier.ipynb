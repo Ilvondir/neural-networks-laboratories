{
 "nbformat": 4,
 "nbformat_minor": 0,
 "metadata": {
  "colab": {
   "name": "Untitled0.ipynb",
   "provenance": [],
   "include_colab_link": true
  },
  "kernelspec": {
   "name": "python3",
   "language": "python",
   "display_name": "Python 3 (ipykernel)"
  },
  "accelerator": "GPU"
 },
 "cells": [
  {
   "cell_type": "markdown",
   "metadata": {
    "id": "IIdpP7X9RCUV"
   },
   "source": [
    "# Klasyfikator wieloklasowy - Image Classification - Drone vs. Passenger Plane vs. Helicopter\n"
   ]
  },
  {
   "cell_type": "markdown",
   "metadata": {
    "id": "9e3IYdbSRdan"
   },
   "source": [
    "# Import bibliotek"
   ]
  },
  {
   "cell_type": "code",
   "metadata": {
    "id": "nRlS7FxOeNaB"
   },
   "source": [
    "import os\n",
    "import numpy as np\n",
    "import pandas as pd\n",
    "import matplotlib.pyplot as plt\n",
    "import shutil\n",
    "import plotly.graph_objects as go\n",
    "from sklearn.metrics import confusion_matrix, classification_report\n",
    "\n",
    "from tensorflow.keras.preprocessing import image\n",
    "from tensorflow.keras.preprocessing.image import ImageDataGenerator\n",
    "from tensorflow.keras.models import Sequential\n",
    "from tensorflow.keras import layers\n",
    "from tensorflow.keras import optimizers\n",
    "from tensorflow.keras.callbacks import TensorBoard\n",
    "from tensorflow.keras.applications import VGG19\n",
    "\n",
    "np.set_printoptions(precision=6, suppress=True)"
   ],
   "execution_count": null,
   "outputs": []
  },
  {
   "cell_type": "markdown",
   "metadata": {
    "id": "XNLF91kARsfZ"
   },
   "source": [
    "# Przygotowanie zbiorów: treningowego, walidacyjnego i testowego"
   ]
  },
  {
   "cell_type": "code",
   "metadata": {
    "id": "Ogqrx2pMl4eP"
   },
   "source": [
    "!rm -rf ./images"
   ],
   "execution_count": null,
   "outputs": []
  },
  {
   "cell_type": "code",
   "metadata": {
    "id": "QWeLG3GHlfhu",
    "colab": {
     "base_uri": "https://localhost:8080/",
     "height": 54
    },
    "outputId": "19c3fbdc-e724-496b-bd76-e9b73d9c08e7"
   },
   "source": [
    "base_dir = './data/planes'\n",
    "raw_no_of_files = {}\n",
    "classes = ['drone', 'fighter-jet', 'helicopter', 'missile', 'passenger-plane', 'rocket']\n",
    "for dir in classes:\n",
    "    raw_no_of_files[dir] = len(os.listdir(os.path.join(base_dir, dir)))\n",
    "\n",
    "raw_no_of_files.items()"
   ],
   "execution_count": null,
   "outputs": []
  },
  {
   "cell_type": "code",
   "metadata": {
    "id": "ytp_UfCwo08K"
   },
   "source": [
    "data_dir = './images'\n",
    "\n",
    "if not os.path.exists(data_dir):\n",
    "    os.mkdir(data_dir)\n",
    "\n",
    "train_dir = os.path.join(data_dir, 'train')    # katalog zbioru treningowego\n",
    "valid_dir = os.path.join(data_dir, 'valid')    # katalog zbioru walidacyjnego\n",
    "test_dir = os.path.join(data_dir, 'test')      # katalog zbioru testowego\n",
    "\n",
    "train_drone_dir = os.path.join(train_dir, 'drone')\n",
    "train_passenger_dir = os.path.join(train_dir, 'passenger')\n",
    "train_helicopter_dir = os.path.join(train_dir, 'helicopter')\n",
    "\n",
    "valid_drone_dir = os.path.join(valid_dir, 'drone')\n",
    "valid_passenger_dir = os.path.join(valid_dir, 'passenger')\n",
    "valid_helicopter_dir = os.path.join(valid_dir, 'helicopter')\n",
    "\n",
    "test_drone_dir = os.path.join(test_dir, 'drone')\n",
    "test_passenger_dir = os.path.join(test_dir, 'passenger')\n",
    "test_helicopter_dir = os.path.join(test_dir, 'helicopter')\n",
    "\n",
    "for directory in (train_dir, valid_dir, test_dir):\n",
    "    if not os.path.exists(directory):\n",
    "        os.mkdir(directory)\n",
    "\n",
    "dirs = [train_drone_dir, train_passenger_dir, train_helicopter_dir,\n",
    "        valid_drone_dir, valid_passenger_dir, valid_helicopter_dir,\n",
    "        test_drone_dir, test_passenger_dir, test_helicopter_dir]\n",
    "\n",
    "for dir in dirs:\n",
    "    if not os.path.exists(dir):\n",
    "        os.mkdir(dir)        "
   ],
   "execution_count": null,
   "outputs": []
  },
  {
   "cell_type": "code",
   "metadata": {
    "id": "qusrhKHHuOSb"
   },
   "source": [
    "drone_fnames = os.listdir(os.path.join(base_dir, 'drone'))\n",
    "passenger_fnames = os.listdir(os.path.join(base_dir, 'passenger-plane'))\n",
    "helicopter_fnames = os.listdir(os.path.join(base_dir, 'helicopter'))\n",
    "\n",
    "drone_fnames = [fname for fname in drone_fnames if fname.split('.')[1].lower() in ['jpg', 'png', 'jpeg']]\n",
    "passenger_fnames = [fname for fname in passenger_fnames if fname.split('.')[1].lower() in ['jpg', 'png', 'jpeg']]\n",
    "helicopter_fnames = [fname for fname in helicopter_fnames if fname.split('.')[1].lower() in ['jpg', 'png', 'jpeg']]"
   ],
   "execution_count": null,
   "outputs": []
  },
  {
   "cell_type": "code",
   "metadata": {
    "id": "DfuC6DFgqh-A"
   },
   "source": [
    "size = min(len(drone_fnames), len(passenger_fnames), len(helicopter_fnames))\n",
    "\n",
    "train_size = int(np.floor(0.7 * size))\n",
    "valid_size = int(np.floor(0.2 * size))\n",
    "test_size = size - train_size - valid_size\n",
    "\n",
    "train_idx = train_size\n",
    "valid_idx = train_size + valid_size\n",
    "test_idx = train_size + valid_size + test_size"
   ],
   "execution_count": null,
   "outputs": []
  },
  {
   "cell_type": "code",
   "metadata": {
    "id": "BHKBORIZsfoa",
    "colab": {
     "base_uri": "https://localhost:8080/",
     "height": 171
    },
    "outputId": "ce3a3ba9-03de-4d8e-b5d9-b4972c1aa7ad"
   },
   "source": [
    "for i, fname in enumerate(drone_fnames):\n",
    "    if i <= train_idx:\n",
    "        src = os.path.join(base_dir, 'drone', fname)\n",
    "        dst = os.path.join(train_drone_dir, fname)\n",
    "        shutil.copyfile(src, dst)\n",
    "    elif train_idx < i <= valid_idx:\n",
    "        src = os.path.join(base_dir, 'drone', fname)\n",
    "        dst = os.path.join(valid_drone_dir, fname)\n",
    "        shutil.copyfile(src, dst)\n",
    "    elif valid_idx < i < test_idx:\n",
    "        src = os.path.join(base_dir, 'drone', fname)\n",
    "        dst = os.path.join(test_drone_dir, fname)\n",
    "        shutil.copyfile(src, dst)\n",
    "\n",
    "for i, fname in enumerate(passenger_fnames):\n",
    "    if i <= train_idx:\n",
    "        src = os.path.join(base_dir, 'passenger-plane', fname)\n",
    "        dst = os.path.join(train_passenger_dir, fname)\n",
    "        shutil.copyfile(src, dst)\n",
    "    elif train_idx < i <= valid_idx:\n",
    "        src = os.path.join(base_dir, 'passenger-plane', fname)\n",
    "        dst = os.path.join(valid_passenger_dir, fname)\n",
    "        shutil.copyfile(src, dst)\n",
    "    elif valid_idx < i < test_idx:\n",
    "        src = os.path.join(base_dir, 'passenger-plane', fname)\n",
    "        dst = os.path.join(test_passenger_dir, fname)\n",
    "        shutil.copyfile(src, dst) \n",
    "\n",
    "for i, fname in enumerate(helicopter_fnames):\n",
    "    if i <= train_idx:\n",
    "        src = os.path.join(base_dir, 'helicopter', fname)\n",
    "        dst = os.path.join(train_helicopter_dir, fname)\n",
    "        shutil.copyfile(src, dst)\n",
    "    elif train_idx < i <= valid_idx:\n",
    "        src = os.path.join(base_dir, 'helicopter', fname)\n",
    "        dst = os.path.join(valid_helicopter_dir, fname)\n",
    "        shutil.copyfile(src, dst)\n",
    "    elif valid_idx < i < test_idx:\n",
    "        src = os.path.join(base_dir, 'helicopter', fname)\n",
    "        dst = os.path.join(test_helicopter_dir, fname)\n",
    "        shutil.copyfile(src, dst)        \n",
    "\n",
    "print('drone - zbiór treningowy', len(os.listdir(train_drone_dir)))\n",
    "print('drone - zbiór walidacyjny', len(os.listdir(valid_drone_dir)))\n",
    "print('drone - zbiór testowy', len(os.listdir(test_drone_dir)))\n",
    "\n",
    "print('passenger - zbiór treningowy', len(os.listdir(train_passenger_dir)))\n",
    "print('passenger - zbiór walidacyjny', len(os.listdir(valid_passenger_dir)))\n",
    "print('passenger - zbiór testowy', len(os.listdir(test_passenger_dir))) \n",
    "\n",
    "print('helicopter - zbiór treningowy', len(os.listdir(train_helicopter_dir)))\n",
    "print('helicopter - zbiór walidacyjny', len(os.listdir(valid_helicopter_dir)))\n",
    "print('helicopter - zbiór testowy', len(os.listdir(test_helicopter_dir))) "
   ],
   "execution_count": null,
   "outputs": []
  },
  {
   "cell_type": "markdown",
   "metadata": {
    "id": "9G13IStuRzm1"
   },
   "source": [
    "# Eksploracja danych"
   ]
  },
  {
   "cell_type": "code",
   "metadata": {
    "id": "NqwDDsEMzX_0",
    "colab": {
     "base_uri": "https://localhost:8080/",
     "height": 592
    },
    "outputId": "05c91a65-d83e-44c5-b318-8b5d5bc08a72"
   },
   "source": [
    "idx = 13\n",
    "names_mapping = dict(enumerate(drone_fnames))\n",
    "img_path = os.path.join(train_drone_dir, names_mapping[idx])\n",
    "\n",
    "img = image.load_img(img_path)\n",
    "\n",
    "plt.figure(figsize=(10, 10))\n",
    "plt.imshow(img)\n",
    "plt.grid(False)\n",
    "plt.axis(False)"
   ],
   "execution_count": null,
   "outputs": []
  },
  {
   "cell_type": "code",
   "metadata": {
    "id": "ydPVGEL63vLR",
    "colab": {
     "base_uri": "https://localhost:8080/",
     "height": 362
    },
    "outputId": "a49a8595-32cc-4b2f-8b23-5a371929c305"
   },
   "source": [
    "idx = 11\n",
    "names_mapping = dict(enumerate(passenger_fnames))\n",
    "img_path = os.path.join(train_passenger_dir, names_mapping[idx])\n",
    "\n",
    "img = image.load_img(img_path)\n",
    "\n",
    "plt.figure(figsize=(10, 10))\n",
    "plt.imshow(img)\n",
    "plt.grid(False)\n",
    "plt.axis(False)"
   ],
   "execution_count": null,
   "outputs": []
  },
  {
   "cell_type": "code",
   "metadata": {
    "id": "_DXaTXUenSwG",
    "colab": {
     "base_uri": "https://localhost:8080/",
     "height": 494
    },
    "outputId": "2ad509bb-349a-4ea9-ca99-0c98c79cbb15"
   },
   "source": [
    "idx=100\n",
    "names_mapping = dict(enumerate(helicopter_fnames))\n",
    "img_path = os.path.join(train_helicopter_dir, names_mapping[idx])\n",
    "\n",
    "img = image.load_img(img_path)\n",
    "\n",
    "plt.figure(figsize=(10, 10))\n",
    "plt.imshow(img)\n",
    "plt.grid(False)\n",
    "plt.axis(False)"
   ],
   "execution_count": null,
   "outputs": []
  },
  {
   "cell_type": "markdown",
   "metadata": {
    "id": "WG2z-bSaSCom"
   },
   "source": [
    "# Augmentacja danych"
   ]
  },
  {
   "cell_type": "code",
   "metadata": {
    "id": "7mfRlYv35F43",
    "colab": {
     "base_uri": "https://localhost:8080/",
     "height": 51
    },
    "outputId": "5e06f46a-7428-4ffc-dd68-d8568e6c39b9"
   },
   "source": [
    "train_datagen = ImageDataGenerator(\n",
    "    rotation_range=40,      # zakres kąta o który losowo zostanie wykonany obrót obrazów\n",
    "    rescale=1./255.,\n",
    "    width_shift_range=0.2,  # pionowe przekształcenia obrazu\n",
    "    height_shift_range=0.2, # poziome przekształcenia obrazu\n",
    "    shear_range=0.2,        # zares losowego przycianania obrazu\n",
    "    zoom_range=0.2,         # zakres losowego przybliżania obrazu\n",
    "    horizontal_flip=True,   # losowe odbicie połowy obrazu w płaszczyźnie poziomej\n",
    "    fill_mode='nearest'     # strategia wypełniania nowo utworzonych pikseli, któe mogą powstać w wyniku przekształceń\n",
    ")\n",
    "\n",
    "# przeskalowujemy wszystkie obrazy o współczynnik 1/255\n",
    "valid_datagen = ImageDataGenerator(rescale=1./255.)\n",
    "\n",
    "train_generator = train_datagen.flow_from_directory(directory=train_dir,\n",
    "                                                   target_size=(150, 150),\n",
    "                                                   batch_size=32,\n",
    "                                                   class_mode='categorical')\n",
    "\n",
    "valid_generator = valid_datagen.flow_from_directory(directory=valid_dir,\n",
    "                                                   target_size=(150, 150),\n",
    "                                                   batch_size=32,\n",
    "                                                   class_mode='categorical')"
   ],
   "execution_count": null,
   "outputs": []
  },
  {
   "cell_type": "code",
   "metadata": {
    "id": "mklMG1tG6LdE"
   },
   "source": [
    "def display_augmented_images(directory, idx):\n",
    "    \"\"\"\n",
    "    Funkcja zwraca wykres przykładowych obrazów uzyskanych za pomocą techniki\n",
    "    augmentacji danych.\n",
    "    \"\"\"\n",
    "    fnames = [os.path.join(directory, fname) for fname in os.listdir(directory)]\n",
    "    img_path = fnames[idx]\n",
    "    img = image.load_img(img_path, target_size=(150, 150))\n",
    "\n",
    "    x = image.img_to_array(img)\n",
    "    x = x.reshape((1, ) + x.shape)\n",
    "\n",
    "    i = 1\n",
    "    plt.figure(figsize=(16, 8))\n",
    "    for batch in train_datagen.flow(x, batch_size=1):\n",
    "        plt.subplot(3, 4, i)\n",
    "        plt.grid(False)\n",
    "        imgplot = plt.imshow(image.array_to_img(batch[0]))\n",
    "        i += 1\n",
    "        if i % 13 == 0:\n",
    "            break"
   ],
   "execution_count": null,
   "outputs": []
  },
  {
   "cell_type": "code",
   "metadata": {
    "id": "dk0owHTC6BNh",
    "colab": {
     "base_uri": "https://localhost:8080/",
     "height": 486
    },
    "outputId": "f19f059a-e9b8-4205-fbcb-7151ea1f7c15"
   },
   "source": [
    "idx=88\n",
    "display_augmented_images(train_drone_dir, idx)"
   ],
   "execution_count": null,
   "outputs": []
  },
  {
   "cell_type": "code",
   "metadata": {
    "id": "oeiUp5qS6MvD",
    "colab": {
     "base_uri": "https://localhost:8080/",
     "height": 486
    },
    "outputId": "15bab725-08a5-4c64-a261-ed58a0a46a0b"
   },
   "source": [
    "idx=111\n",
    "display_augmented_images(train_passenger_dir, idx)"
   ],
   "execution_count": null,
   "outputs": []
  },
  {
   "cell_type": "code",
   "metadata": {
    "id": "IVcxEjdBn4xp",
    "colab": {
     "base_uri": "https://localhost:8080/",
     "height": 486
    },
    "outputId": "71bfcd1e-c5b6-454e-b370-5164a4903084"
   },
   "source": [
    "#@title Zbiór treningowy passenger:\n",
    "idx = 567 #@param {type:'slider', min:0, max:919}\n",
    "display_augmented_images(train_helicopter_dir, idx)"
   ],
   "execution_count": null,
   "outputs": []
  },
  {
   "cell_type": "markdown",
   "metadata": {
    "id": "jQsXMmm2SNoS"
   },
   "source": [
    "# Budowa modelu"
   ]
  },
  {
   "cell_type": "code",
   "metadata": {
    "id": "DzLUqI486qFr"
   },
   "source": [
    "batch_size = 64\n",
    "steps_per_epoch = train_size // batch_size\n",
    "validation_steps = valid_size // batch_size"
   ],
   "execution_count": null,
   "outputs": []
  },
  {
   "cell_type": "markdown",
   "metadata": {
    "id": "tfurXIoOj_yc"
   },
   "source": [
    "# Transfer learning - model VGG19 - odmrożenie kilku ostatnich warstw"
   ]
  },
  {
   "cell_type": "code",
   "metadata": {
    "id": "JToulUvDVZCQ",
    "colab": {
     "base_uri": "https://localhost:8080/",
     "height": 448
    },
    "outputId": "0b201043-77db-406d-c647-fe64ae07738f"
   },
   "source": [
    "conv_base = VGG19(weights='imagenet', include_top=False, input_shape=(150, 150, 3))\n",
    "conv_base.trainable = True\n",
    "\n",
    "def print_layers(model):\n",
    "    for layer in model.layers:\n",
    "        print(f'layer_name: {layer.name:13} trainable: {layer.trainable}')\n",
    "\n",
    "print_layers(conv_base)"
   ],
   "execution_count": null,
   "outputs": []
  },
  {
   "cell_type": "code",
   "metadata": {
    "id": "GUtDUJzxWL8r",
    "colab": {
     "base_uri": "https://localhost:8080/",
     "height": 394
    },
    "outputId": "e74be590-b7ae-4f3d-a12c-0cce425dcb2c"
   },
   "source": [
    "set_trainable = False\n",
    "for layer in conv_base.layers:\n",
    "    if layer.name == 'block5_conv1':\n",
    "        set_trainable = True\n",
    "    if set_trainable:\n",
    "        layer.trainable = True\n",
    "    else:\n",
    "        layer.trainable = False\n",
    "\n",
    "print_layers(conv_base)"
   ],
   "execution_count": null,
   "outputs": []
  },
  {
   "cell_type": "code",
   "metadata": {
    "id": "IGUM0ABqWo3a",
    "colab": {
     "base_uri": "https://localhost:8080/",
     "height": 291
    },
    "outputId": "8f1a8ee3-909d-43ba-cf8f-52df20b374f3"
   },
   "source": [
    "model = Sequential()\n",
    "model.add(conv_base)\n",
    "model.add(layers.Flatten())\n",
    "model.add(layers.Dense(units=256, activation='relu'))\n",
    "model.add(layers.Dense(units=3, activation='softmax'))\n",
    "\n",
    "model.compile(optimizer=optimizers.RMSprop(lr=1e-5),\n",
    "             loss='categorical_crossentropy',\n",
    "             metrics=['accuracy'])\n",
    "\n",
    "model.summary()"
   ],
   "execution_count": null,
   "outputs": []
  },
  {
   "cell_type": "code",
   "metadata": {
    "id": "XAZM9a0CWshR",
    "colab": {
     "base_uri": "https://localhost:8080/",
     "height": 1000
    },
    "outputId": "3ae71853-4aea-4d25-fe7f-afba0a709cba"
   },
   "source": [
    "history = model.fit_generator(generator=train_generator,\n",
    "                             steps_per_epoch=steps_per_epoch,\n",
    "                             epochs=5,    # 100\n",
    "                             validation_data=valid_generator,\n",
    "                             validation_steps=validation_steps)"
   ],
   "execution_count": null,
   "outputs": []
  },
  {
   "cell_type": "code",
   "metadata": {
    "id": "Gyrujp8iIXYF",
    "colab": {
     "base_uri": "https://localhost:8080/",
     "height": 1000
    },
    "outputId": "3ddc9c06-4be5-43ea-efee-1cd24900a0bf"
   },
   "source": [
    "def plot_hist(history):\n",
    "    hist = pd.DataFrame(history.history)\n",
    "    hist['epoch'] = history.epoch\n",
    "\n",
    "    fig = go.Figure()\n",
    "    fig.add_trace(go.Scatter(x=hist['epoch'], y=hist['accuracy'], name='accuracy', mode='markers+lines'))\n",
    "    fig.add_trace(go.Scatter(x=hist['epoch'], y=hist['val_accuracy'], name='val_accuracy', mode='markers+lines'))\n",
    "    fig.update_layout(width=1000, height=500, title='Accuracy vs. Val Accuracy', xaxis_title='Epoki', yaxis_title='Accuracy', yaxis_type='log')\n",
    "    fig.show()\n",
    "\n",
    "    fig = go.Figure()\n",
    "    fig.add_trace(go.Scatter(x=hist['epoch'], y=hist['loss'], name='loss', mode='markers+lines'))\n",
    "    fig.add_trace(go.Scatter(x=hist['epoch'], y=hist['val_loss'], name='val_loss', mode='markers+lines'))\n",
    "    fig.update_layout(width=1000, height=500, title='Loss vs. Val Loss', xaxis_title='Epoki', yaxis_title='Loss', yaxis_type='log')\n",
    "    fig.show()\n",
    "\n",
    "plot_hist(history)"
   ],
   "execution_count": null,
   "outputs": []
  },
  {
   "cell_type": "markdown",
   "metadata": {
    "id": "yTnjXA3-kNuS"
   },
   "source": [
    "# Ocena modelu na zbiorze testowym"
   ]
  },
  {
   "cell_type": "code",
   "metadata": {
    "id": "M2TeM5kPYqOY",
    "colab": {
     "base_uri": "https://localhost:8080/",
     "height": 154
    },
    "outputId": "fdd77cf7-1409-4e6d-c625-b2343261772d"
   },
   "source": [
    "test_datagen = ImageDataGenerator(rescale=1./255.)\n",
    "test_generator = test_datagen.flow_from_directory(\n",
    "    test_dir,\n",
    "    target_size=(150, 150),\n",
    "    batch_size=1,\n",
    "    class_mode='categorical',\n",
    "    shuffle=False\n",
    ")\n",
    "\n",
    "y_prob = model.predict_generator(test_generator, test_generator.samples)\n",
    "y_prob"
   ],
   "execution_count": null,
   "outputs": []
  },
  {
   "cell_type": "code",
   "metadata": {
    "id": "dMsEFutCtTVZ",
    "colab": {
     "base_uri": "https://localhost:8080/",
     "height": 326
    },
    "outputId": "36060df0-e761-4b32-80b8-f70f211d78c9"
   },
   "source": [
    "y_pred = np.argmax(y_prob, axis=1)\n",
    "y_pred"
   ],
   "execution_count": null,
   "outputs": []
  },
  {
   "cell_type": "code",
   "metadata": {
    "id": "FRd_qXyZdcJ0",
    "colab": {
     "base_uri": "https://localhost:8080/",
     "height": 417
    },
    "outputId": "2a03cf23-86c4-4513-995d-720078de02e9"
   },
   "source": [
    "predictions  = pd.DataFrame({'class': y_pred})\n",
    "predictions"
   ],
   "execution_count": null,
   "outputs": []
  },
  {
   "cell_type": "code",
   "metadata": {
    "id": "t1sVQ2EoceXS",
    "colab": {
     "base_uri": "https://localhost:8080/",
     "height": 343
    },
    "outputId": "7533e423-0bdd-4433-fa67-9a1718041ec2"
   },
   "source": [
    "y_true = test_generator.classes\n",
    "y_true"
   ],
   "execution_count": null,
   "outputs": []
  },
  {
   "cell_type": "code",
   "metadata": {
    "id": "I8LF-nzMfOHT",
    "colab": {
     "base_uri": "https://localhost:8080/",
     "height": 326
    },
    "outputId": "d5d0718c-072f-4a53-8160-87c3594f18ae"
   },
   "source": [
    "y_pred = predictions['class'].values\n",
    "y_pred"
   ],
   "execution_count": null,
   "outputs": []
  },
  {
   "cell_type": "code",
   "metadata": {
    "id": "uDDjGdjJcjH6",
    "colab": {
     "base_uri": "https://localhost:8080/",
     "height": 34
    },
    "outputId": "b325180e-6b61-4cef-b051-d40db7f7afb3"
   },
   "source": [
    "test_generator.class_indices"
   ],
   "execution_count": null,
   "outputs": []
  },
  {
   "cell_type": "code",
   "metadata": {
    "id": "A4v_WkEBuoE0",
    "colab": {
     "base_uri": "https://localhost:8080/",
     "height": 34
    },
    "outputId": "5d4806db-3dea-49fa-d92b-77986079cb67"
   },
   "source": [
    "classes = list(test_generator.class_indices.keys())\n",
    "classes"
   ],
   "execution_count": null,
   "outputs": []
  },
  {
   "cell_type": "code",
   "metadata": {
    "id": "ls5YJ7yEZbzJ",
    "colab": {
     "base_uri": "https://localhost:8080/",
     "height": 68
    },
    "outputId": "d3d8bfdf-48b9-4975-869d-08b362ec19d2"
   },
   "source": [
    "cm = confusion_matrix(y_true, y_pred)\n",
    "cm"
   ],
   "execution_count": null,
   "outputs": []
  },
  {
   "cell_type": "code",
   "metadata": {
    "id": "63Y_Ea-wuaLM",
    "colab": {
     "base_uri": "https://localhost:8080/",
     "height": 517
    },
    "outputId": "99af3f3d-ae41-476b-a866-bff33e0c9ad8"
   },
   "source": [
    "def plot_confusion_matrix(cm):\n",
    "    # Mulitclass classification, 3 classes\n",
    "    cm = cm[::-1]\n",
    "    cm = pd.DataFrame(cm, columns=classes, index=classes[::-1])\n",
    "\n",
    "    fig = ff.create_annotated_heatmap(z=cm.values, x=list(cm.columns), y=list(cm.index), colorscale='ice', showscale=True, reversescale=True)\n",
    "    fig.update_layout(width=500, height=500, title='Confusion Matrix', font_size=16)\n",
    "    fig.show()\n",
    "\n",
    "import plotly.figure_factory as ff\n",
    "plot_confusion_matrix(cm)"
   ],
   "execution_count": null,
   "outputs": []
  },
  {
   "cell_type": "code",
   "metadata": {
    "id": "eXwA7MTDb9_S",
    "colab": {
     "base_uri": "https://localhost:8080/",
     "height": 188
    },
    "outputId": "c402d5e0-4958-49b7-e87e-3b7b9155a047"
   },
   "source": [
    "print(classification_report(y_true, y_pred, target_names=test_generator.class_indices.keys()))"
   ],
   "execution_count": null,
   "outputs": []
  },
  {
   "cell_type": "markdown",
   "metadata": {
    "id": "Qxvj1wjpk5OD"
   },
   "source": [
    "### <a name='a9'></a> Wyświetlenie błędów predykcji"
   ]
  },
  {
   "cell_type": "code",
   "metadata": {
    "id": "oxxzOOaDgpf8",
    "colab": {
     "base_uri": "https://localhost:8080/",
     "height": 417
    },
    "outputId": "c3c23dcc-9a15-4833-cdf7-01ad913efd02"
   },
   "source": [
    "errors = pd.DataFrame({'y_true': y_true, 'y_pred': y_pred}, index=test_generator.filenames)\n",
    "errors"
   ],
   "execution_count": null,
   "outputs": []
  },
  {
   "cell_type": "code",
   "metadata": {
    "id": "m0sHWZWngmxO",
    "colab": {
     "base_uri": "https://localhost:8080/",
     "height": 417
    },
    "outputId": "28d52fd6-66e7-412d-9955-050d50ae1038"
   },
   "source": [
    "errors['is_incorrect'] = (errors['y_true'] != errors['y_pred']) * 1\n",
    "errors"
   ],
   "execution_count": null,
   "outputs": []
  },
  {
   "cell_type": "code",
   "metadata": {
    "id": "xibbTxr1hGN6",
    "colab": {
     "base_uri": "https://localhost:8080/",
     "height": 583
    },
    "outputId": "3da461d9-e25e-447a-c04c-2568581ffc11"
   },
   "source": [
    "errors[errors['is_incorrect'] == 1].index"
   ],
   "execution_count": null,
   "outputs": []
  },
  {
   "cell_type": "code",
   "metadata": {
    "id": "INkHfjDbhctA",
    "colab": {
     "base_uri": "https://localhost:8080/",
     "height": 466
    },
    "outputId": "f6285663-cf96-41f5-dea8-cea3a3d23cc3"
   },
   "source": [
    "img_path = os.path.join(test_drone_dir, '00000745.jpg')\n",
    "\n",
    "img = image.load_img(img_path)\n",
    "\n",
    "plt.figure(figsize=(10, 10))\n",
    "plt.imshow(img)\n",
    "plt.grid(False)\n",
    "plt.axis(False)"
   ],
   "execution_count": null,
   "outputs": []
  },
  {
   "cell_type": "code",
   "metadata": {
    "id": "9S5wgRc6-9KV",
    "colab": {
     "base_uri": "https://localhost:8080/",
     "height": 583
    },
    "outputId": "60283a7f-4041-4913-d750-0c0ceea41934"
   },
   "source": [
    "errors[errors['is_incorrect'] == 1].index"
   ],
   "execution_count": null,
   "outputs": []
  },
  {
   "cell_type": "code",
   "metadata": {
    "id": "g2jExnyhhz3o",
    "colab": {
     "base_uri": "https://localhost:8080/",
     "height": 362
    },
    "outputId": "70f23fa3-ad87-44ee-9366-b0a148bf222d"
   },
   "source": [
    "img_path = os.path.join(test_passenger_dir, '00000972.jpg')\n",
    "\n",
    "img = image.load_img(img_path)\n",
    "\n",
    "plt.figure(figsize=(10, 10))\n",
    "plt.imshow(img)\n",
    "plt.grid(False)\n",
    "plt.axis(False)"
   ],
   "execution_count": null,
   "outputs": []
  },
  {
   "cell_type": "code",
   "metadata": {
    "id": "qn57AR71_VRi",
    "colab": {
     "base_uri": "https://localhost:8080/",
     "height": 583
    },
    "outputId": "ffd219d6-e273-4bc3-cc99-25a4d2b98587"
   },
   "source": [
    "errors[errors['is_incorrect'] == 1].index"
   ],
   "execution_count": null,
   "outputs": []
  },
  {
   "cell_type": "code",
   "metadata": {
    "id": "jpJBG51iuDz4",
    "colab": {
     "base_uri": "https://localhost:8080/",
     "height": 362
    },
    "outputId": "e4fe0b0f-4a0e-44ae-88c6-fa4479c80d6c"
   },
   "source": [
    "img_path = os.path.join(test_helicopter_dir, '00001457.jpg')\n",
    "\n",
    "img = image.load_img(img_path)\n",
    "\n",
    "plt.figure(figsize=(10, 10))\n",
    "plt.imshow(img)\n",
    "plt.grid(False)\n",
    "plt.axis(False)"
   ],
   "execution_count": null,
   "outputs": []
  },
  {
   "cell_type": "code",
   "metadata": {
    "id": "JbFmJSS6_X--"
   },
   "source": [],
   "execution_count": null,
   "outputs": []
  }
 ]
}
