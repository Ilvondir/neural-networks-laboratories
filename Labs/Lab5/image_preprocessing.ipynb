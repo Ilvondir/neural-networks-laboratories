{
 "cells": [
  {
   "cell_type": "markdown",
   "source": [
    "# Image Preprocessing - przygotowanie obrazów\n",
    "**Augmentacja danych** - technika pozwalająca na zwiększenie zbioru treningowego przez odpowiednie przekształcenia danych wejsciowych. Technika bardzo przydtna zwłaszcza gdy nie mamy wystarczającej ilości danych do wytrenowania sieci. W uczeniu głębokim im więcej posiadamy danych treningowych tym teoretycznie lepiej jesteśmy w stanie wytrenować sieć. Wykorzystamy tą technikę do trenowania problemów związanych z przetwarzaniem obrazu.\n",
    "\n",
    "Biblioteka Keras dostarcza narzędzia do augmentacji danych, które działają automatycznie podczas trenowania sieci. Możemy to zrobić dzięki klasie **ImageDataGenerator**."
   ],
   "metadata": {
    "collapsed": false
   }
  },
  {
   "cell_type": "code",
   "execution_count": null,
   "metadata": {
    "collapsed": true
   },
   "outputs": [],
   "source": [
    "import matplotlib.pyplot as plt\n",
    "from numpy import expand_dims\n",
    "\n",
    "from tensorflow.keras.preprocessing.image import load_img\n",
    "from tensorflow.keras.preprocessing.image import img_to_array\n",
    "from tensorflow.keras.preprocessing.image import ImageDataGenerator"
   ]
  },
  {
   "cell_type": "code",
   "execution_count": null,
   "outputs": [],
   "source": [
    "img = load_img('files/cat.jpg')\n",
    "img"
   ],
   "metadata": {
    "collapsed": false
   }
  },
  {
   "cell_type": "code",
   "execution_count": null,
   "outputs": [],
   "source": [
    "data = img_to_array(img)\n",
    "data.shape"
   ],
   "metadata": {
    "collapsed": false
   }
  },
  {
   "cell_type": "code",
   "execution_count": null,
   "outputs": [],
   "source": [
    "data"
   ],
   "metadata": {
    "collapsed": false
   }
  },
  {
   "cell_type": "code",
   "execution_count": null,
   "outputs": [],
   "source": [
    "data[:, :, 0]"
   ],
   "metadata": {
    "collapsed": false
   }
  },
  {
   "cell_type": "code",
   "execution_count": null,
   "outputs": [],
   "source": [
    "data[:, :, 1]"
   ],
   "metadata": {
    "collapsed": false
   }
  },
  {
   "cell_type": "code",
   "execution_count": null,
   "outputs": [],
   "source": [
    "data[:, :, 2]"
   ],
   "metadata": {
    "collapsed": false
   }
  },
  {
   "cell_type": "code",
   "execution_count": null,
   "outputs": [],
   "source": [
    "samples = expand_dims(data, 0)\n",
    "samples"
   ],
   "metadata": {
    "collapsed": false
   }
  },
  {
   "cell_type": "code",
   "execution_count": null,
   "outputs": [],
   "source": [
    "samples.shape"
   ],
   "metadata": {
    "collapsed": false
   }
  },
  {
   "cell_type": "code",
   "execution_count": null,
   "outputs": [],
   "source": [
    "datagen = ImageDataGenerator()\n",
    "\n",
    "iterator = datagen.flow(samples, batch_size=1)\n",
    "\n",
    "plt.figure(figsize=(16, 8))\n",
    "for i in range(9):\n",
    "    plt.subplot(330 + i + 1)\n",
    "    batch = iterator.next()\n",
    "    image = batch[0].astype('uint8')\n",
    "    plt.imshow(image)\n",
    "plt.show()"
   ],
   "metadata": {
    "collapsed": false
   }
  },
  {
   "cell_type": "code",
   "execution_count": null,
   "outputs": [],
   "source": [
    "datagen = ImageDataGenerator(width_shift_range=0.3)\n",
    "\n",
    "iterator = datagen.flow(samples, batch_size=1)\n",
    "\n",
    "plt.figure(figsize=(16, 8))\n",
    "for i in range(9):\n",
    "    plt.subplot(330 + i + 1)\n",
    "    batch = iterator.next()\n",
    "    image = batch[0].astype('uint8')\n",
    "    plt.imshow(image)\n",
    "plt.show()"
   ],
   "metadata": {
    "collapsed": false
   }
  },
  {
   "cell_type": "code",
   "execution_count": null,
   "outputs": [],
   "source": [
    "datagen = ImageDataGenerator(height_shift_range=0.3)\n",
    "\n",
    "iterator = datagen.flow(samples, batch_size=1)\n",
    "\n",
    "plt.figure(figsize=(16, 8))\n",
    "for i in range(9):\n",
    "    plt.subplot(330 + i + 1)\n",
    "    batch = iterator.next()\n",
    "    image = batch[0].astype('uint8')\n",
    "    plt.imshow(image)\n",
    "plt.show()"
   ],
   "metadata": {
    "collapsed": false
   }
  },
  {
   "cell_type": "code",
   "execution_count": null,
   "outputs": [],
   "source": [
    "datagen = ImageDataGenerator(rotation_range=45)\n",
    "\n",
    "iterator = datagen.flow(samples, batch_size=1)\n",
    "\n",
    "plt.figure(figsize=(16, 8))\n",
    "for i in range(9):\n",
    "    plt.subplot(330 + i + 1)\n",
    "    batch = iterator.next()\n",
    "    image = batch[0].astype('uint8')\n",
    "    plt.imshow(image)\n",
    "plt.show()"
   ],
   "metadata": {
    "collapsed": false
   }
  },
  {
   "cell_type": "code",
   "execution_count": null,
   "outputs": [],
   "source": [
    "datagen = ImageDataGenerator(brightness_range=[0.4, 1.5])\n",
    "\n",
    "iterator = datagen.flow(samples, batch_size=1)\n",
    "\n",
    "plt.figure(figsize=(16, 8))\n",
    "for i in range(9):\n",
    "    plt.subplot(330 + i + 1)\n",
    "    batch = iterator.next()\n",
    "    image = batch[0].astype('uint8')\n",
    "    plt.imshow(image)\n",
    "plt.show()"
   ],
   "metadata": {
    "collapsed": false
   }
  },
  {
   "cell_type": "code",
   "execution_count": null,
   "outputs": [],
   "source": [
    "datagen = ImageDataGenerator(shear_range=30)\n",
    "\n",
    "iterator = datagen.flow(samples, batch_size=1)\n",
    "\n",
    "plt.figure(figsize=(16, 8))\n",
    "for i in range(9):\n",
    "    plt.subplot(330 + i + 1)\n",
    "    batch = iterator.next()\n",
    "    image = batch[0].astype('uint8')\n",
    "    plt.imshow(image)\n",
    "plt.show()"
   ],
   "metadata": {
    "collapsed": false
   }
  },
  {
   "cell_type": "code",
   "execution_count": null,
   "outputs": [],
   "source": [
    "datagen = ImageDataGenerator(zoom_range=0.5)\n",
    "\n",
    "iterator = datagen.flow(samples, batch_size=1)\n",
    "\n",
    "plt.figure(figsize=(16, 8))\n",
    "for i in range(9):\n",
    "    plt.subplot(330 + i + 1)\n",
    "    batch = iterator.next()\n",
    "    image = batch[0].astype('uint8')\n",
    "    plt.imshow(image)\n",
    "plt.show()"
   ],
   "metadata": {
    "collapsed": false
   }
  },
  {
   "cell_type": "code",
   "execution_count": null,
   "outputs": [],
   "source": [
    "datagen = ImageDataGenerator(horizontal_flip=True)\n",
    "\n",
    "iterator = datagen.flow(samples, batch_size=1)\n",
    "\n",
    "plt.figure(figsize=(16, 8))\n",
    "for i in range(9):\n",
    "    plt.subplot(330 + i + 1)\n",
    "    batch = iterator.next()\n",
    "    image = batch[0].astype('uint8')\n",
    "    plt.imshow(image)\n",
    "plt.show()"
   ],
   "metadata": {
    "collapsed": false
   }
  },
  {
   "cell_type": "code",
   "execution_count": null,
   "outputs": [],
   "source": [
    "datagen = ImageDataGenerator(vertical_flip=True)\n",
    "\n",
    "iterator = datagen.flow(samples, batch_size=1)\n",
    "\n",
    "plt.figure(figsize=(16, 8))\n",
    "for i in range(9):\n",
    "    plt.subplot(330 + i + 1)\n",
    "    batch = iterator.next()\n",
    "    image = batch[0].astype('uint8')\n",
    "    plt.imshow(image)\n",
    "plt.show()"
   ],
   "metadata": {
    "collapsed": false
   }
  },
  {
   "cell_type": "code",
   "execution_count": null,
   "outputs": [],
   "source": [
    "datagen = ImageDataGenerator(width_shift_range=0.2,\n",
    "                             height_shift_range=0.2,\n",
    "                             rotation_range=30,\n",
    "                             brightness_range=[0.4, 1.5],\n",
    "                             shear_range=20,\n",
    "                             zoom_range=0.1,\n",
    "                             horizontal_flip=True)\n",
    "\n",
    "iterator = datagen.flow(samples, batch_size=1)\n",
    "\n",
    "plt.figure(figsize=(16, 8))\n",
    "for i in range(9):\n",
    "    plt.subplot(330 + i + 1)\n",
    "    batch = iterator.next()\n",
    "    image = batch[0].astype('uint8')\n",
    "    plt.imshow(image)\n",
    "plt.show()"
   ],
   "metadata": {
    "collapsed": false
   }
  }
 ],
 "metadata": {
  "kernelspec": {
   "display_name": "Python 3",
   "language": "python",
   "name": "python3"
  },
  "language_info": {
   "codemirror_mode": {
    "name": "ipython",
    "version": 2
   },
   "file_extension": ".py",
   "mimetype": "text/x-python",
   "name": "python",
   "nbconvert_exporter": "python",
   "pygments_lexer": "ipython2",
   "version": "2.7.6"
  }
 },
 "nbformat": 4,
 "nbformat_minor": 0
}
