{
 "cells": [
  {
   "cell_type": "markdown",
   "source": [
    "# Import bibliotek i przygotowanie danych"
   ],
   "metadata": {
    "collapsed": false
   }
  },
  {
   "cell_type": "code",
   "execution_count": 1,
   "metadata": {
    "collapsed": true,
    "ExecuteTime": {
     "end_time": "2023-07-12T12:59:39.739039200Z",
     "start_time": "2023-07-12T12:59:28.901464900Z"
    }
   },
   "outputs": [
    {
     "name": "stdout",
     "output_type": "stream",
     "text": [
      "2.12.0\n"
     ]
    }
   ],
   "source": [
    "import numpy as np\n",
    "import pandas as pd\n",
    "import matplotlib.pyplot as plt\n",
    "\n",
    "import tensorflow as tf\n",
    "from tensorflow.keras.datasets.mnist import load_data\n",
    "from tensorflow.keras.models import Sequential\n",
    "from tensorflow.keras.layers import Flatten, Dense, Dropout\n",
    "\n",
    "import plotly.express as px\n",
    "from plotly.subplots import make_subplots\n",
    "import plotly.graph_objects as go\n",
    "\n",
    "np.set_printoptions(precision=12, suppress=True, linewidth=120)\n",
    "print(tf.__version__)"
   ]
  },
  {
   "cell_type": "code",
   "execution_count": 2,
   "outputs": [
    {
     "name": "stdout",
     "output_type": "stream",
     "text": [
      "X_train shape: (60000, 28, 28)\n",
      "y_train shape: (60000,)\n",
      "X_test shape: (10000, 28, 28)\n",
      "y_test shape: (10000,)\n"
     ]
    }
   ],
   "source": [
    "(X_train, y_train), (X_test, y_test) = load_data()\n",
    "\n",
    "print(f'X_train shape: {X_train.shape}')\n",
    "print(f'y_train shape: {y_train.shape}')\n",
    "print(f'X_test shape: {X_test.shape}')\n",
    "print(f'y_test shape: {y_test.shape}')"
   ],
   "metadata": {
    "collapsed": false,
    "ExecuteTime": {
     "end_time": "2023-07-12T12:59:41.369784300Z",
     "start_time": "2023-07-12T12:59:39.750175700Z"
    }
   }
  },
  {
   "cell_type": "code",
   "execution_count": 3,
   "outputs": [],
   "source": [
    "X_train = X_train / 255.\n",
    "X_test = X_test / 255."
   ],
   "metadata": {
    "collapsed": false,
    "ExecuteTime": {
     "end_time": "2023-07-12T12:59:41.630960500Z",
     "start_time": "2023-07-12T12:59:41.319458200Z"
    }
   }
  },
  {
   "cell_type": "markdown",
   "source": [
    "# Budowa sieci neuronowej"
   ],
   "metadata": {
    "collapsed": false
   }
  },
  {
   "cell_type": "code",
   "execution_count": 6,
   "outputs": [
    {
     "name": "stdout",
     "output_type": "stream",
     "text": [
      "Model: \"sequential_2\"\n",
      "_________________________________________________________________\n",
      " Layer (type)                Output Shape              Param #   \n",
      "=================================================================\n",
      " flatten_2 (Flatten)         (None, 784)               0         \n",
      "                                                                 \n",
      " dense_4 (Dense)             (None, 128)               100480    \n",
      "                                                                 \n",
      " dropout_2 (Dropout)         (None, 128)               0         \n",
      "                                                                 \n",
      " dense_5 (Dense)             (None, 10)                1290      \n",
      "                                                                 \n",
      "=================================================================\n",
      "Total params: 101,770\n",
      "Trainable params: 101,770\n",
      "Non-trainable params: 0\n",
      "_________________________________________________________________\n"
     ]
    }
   ],
   "source": [
    "def build_model():\n",
    "    model = Sequential()\n",
    "    model.add(Flatten(input_shape=(28, 28)))\n",
    "    model.add(Dense(units=128, activation='relu'))\n",
    "    model.add(Dropout(0.2))\n",
    "    model.add(Dense(units=10, activation='softmax'))\n",
    "\n",
    "    model.compile(optimizer='adam',\n",
    "                  loss='sparse_categorical_crossentropy',\n",
    "                  metrics=['accuracy'])\n",
    "    return model\n",
    "\n",
    "model = build_model()\n",
    "model.summary()"
   ],
   "metadata": {
    "collapsed": false,
    "ExecuteTime": {
     "end_time": "2023-07-12T12:59:59.418719800Z",
     "start_time": "2023-07-12T12:59:59.224954100Z"
    }
   }
  },
  {
   "cell_type": "markdown",
   "source": [
    "# Trenowanie modelu - Tensorboard"
   ],
   "metadata": {
    "collapsed": false
   }
  },
  {
   "cell_type": "code",
   "execution_count": 8,
   "outputs": [],
   "source": [
    "from tensorflow.keras.callbacks import TensorBoard\n",
    "from datetime import datetime as dt\n",
    "\n",
    "log_dir = 'logs/fit/' + dt.now().strftime('%Y%m%d-%H%M%S')\n",
    "tensorboard = TensorBoard(log_dir=log_dir)"
   ],
   "metadata": {
    "collapsed": false,
    "ExecuteTime": {
     "end_time": "2023-07-12T13:00:26.102224600Z",
     "start_time": "2023-07-12T13:00:26.101228Z"
    }
   }
  },
  {
   "cell_type": "code",
   "execution_count": 9,
   "outputs": [
    {
     "name": "stdout",
     "output_type": "stream",
     "text": [
      "Epoch 1/8\n",
      "1500/1500 [==============================] - 10s 5ms/step - loss: 0.3351 - accuracy: 0.9037 - val_loss: 0.1707 - val_accuracy: 0.9527\n",
      "Epoch 2/8\n",
      "1500/1500 [==============================] - 10s 6ms/step - loss: 0.1646 - accuracy: 0.9509 - val_loss: 0.1235 - val_accuracy: 0.9634\n",
      "Epoch 3/8\n",
      "1500/1500 [==============================] - 10s 7ms/step - loss: 0.1217 - accuracy: 0.9632 - val_loss: 0.1105 - val_accuracy: 0.9663\n",
      "Epoch 4/8\n",
      "1500/1500 [==============================] - 8s 5ms/step - loss: 0.0996 - accuracy: 0.9687 - val_loss: 0.0942 - val_accuracy: 0.9714\n",
      "Epoch 5/8\n",
      "1500/1500 [==============================] - 7s 5ms/step - loss: 0.0829 - accuracy: 0.9737 - val_loss: 0.0940 - val_accuracy: 0.9710\n",
      "Epoch 6/8\n",
      "1500/1500 [==============================] - 9s 6ms/step - loss: 0.0719 - accuracy: 0.9772 - val_loss: 0.0833 - val_accuracy: 0.9760\n",
      "Epoch 7/8\n",
      "1500/1500 [==============================] - 7s 5ms/step - loss: 0.0642 - accuracy: 0.9800 - val_loss: 0.0859 - val_accuracy: 0.9755\n",
      "Epoch 8/8\n",
      "1500/1500 [==============================] - 7s 5ms/step - loss: 0.0562 - accuracy: 0.9819 - val_loss: 0.0829 - val_accuracy: 0.9768\n"
     ]
    }
   ],
   "source": [
    "model = build_model()\n",
    "history = model.fit(X_train, y_train, epochs=8, validation_split=0.2, batch_size=32, callbacks=[tensorboard])"
   ],
   "metadata": {
    "collapsed": false,
    "ExecuteTime": {
     "end_time": "2023-07-12T13:01:36.191551300Z",
     "start_time": "2023-07-12T13:00:28.759295900Z"
    }
   }
  },
  {
   "cell_type": "markdown",
   "source": [
    "# Tensorboard Dev"
   ],
   "metadata": {
    "collapsed": false
   }
  },
  {
   "cell_type": "code",
   "execution_count": 14,
   "outputs": [
    {
     "name": "stdout",
     "output_type": "stream",
     "text": [
      "The tensorboard extension is already loaded. To reload it, use:\n",
      "  %reload_ext tensorboard\n"
     ]
    }
   ],
   "source": [
    "%load_ext tensorboard"
   ],
   "metadata": {
    "collapsed": false,
    "ExecuteTime": {
     "end_time": "2023-07-12T13:06:48.291327200Z",
     "start_time": "2023-07-12T13:06:48.239676400Z"
    }
   }
  },
  {
   "cell_type": "code",
   "execution_count": null,
   "outputs": [],
   "source": [
    "!tensorboard dev upload --logdir logs"
   ],
   "metadata": {
    "collapsed": false
   }
  }
 ],
 "metadata": {
  "kernelspec": {
   "display_name": "Python 3",
   "language": "python",
   "name": "python3"
  },
  "language_info": {
   "codemirror_mode": {
    "name": "ipython",
    "version": 2
   },
   "file_extension": ".py",
   "mimetype": "text/x-python",
   "name": "python",
   "nbconvert_exporter": "python",
   "pygments_lexer": "ipython2",
   "version": "2.7.6"
  }
 },
 "nbformat": 4,
 "nbformat_minor": 0
}
