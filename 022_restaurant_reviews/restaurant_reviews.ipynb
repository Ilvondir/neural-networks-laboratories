{
 "cells": [
  {
   "cell_type": "code",
   "execution_count": null,
   "outputs": [],
   "source": [
    "import string\n",
    "import re\n",
    "import nltk\n",
    "\n",
    "import pandas as pd\n",
    "from keras import Sequential\n",
    "from keras.src.layers import LSTM, Dense, Embedding, GlobalMaxPooling1D\n",
    "from keras_preprocessing.sequence import pad_sequences\n",
    "from keras_preprocessing.text import Tokenizer\n",
    "from nltk import PorterStemmer\n",
    "import plotly.graph_objects as go"
   ],
   "metadata": {
    "collapsed": false
   },
   "id": "initial_id"
  },
  {
   "cell_type": "code",
   "execution_count": null,
   "outputs": [],
   "source": [
    "data = pd.read_csv(\"Restaurant_Reviews.tsv\", encoding_errors=\"ignore\", sep=\"\\t\")\n",
    "data.columns = [\"review\", \"label\"]\n",
    "data"
   ],
   "metadata": {
    "collapsed": false
   },
   "id": "a22503138436189d"
  },
  {
   "cell_type": "markdown",
   "source": [
    "# Stemmed data"
   ],
   "metadata": {
    "collapsed": false
   },
   "id": "71f24a7c6d587b63"
  },
  {
   "cell_type": "code",
   "execution_count": null,
   "outputs": [],
   "source": [
    "stemmed_data = data.copy()"
   ],
   "metadata": {
    "collapsed": false
   },
   "id": "545ffbe9efecf139"
  },
  {
   "cell_type": "code",
   "execution_count": null,
   "outputs": [],
   "source": [
    "stopwords = nltk.corpus.stopwords.words(\"english\")\n",
    "ps = PorterStemmer()\n",
    "\n",
    "\n",
    "def stemm_text(text):\n",
    "    text_without_punctuations = \"\".join([c for c in text if c not in string.punctuation])\n",
    "    tokens = re.split(r\"\\W\", text_without_punctuations)\n",
    "    text = \"\".join([ps.stem(word) + \" \" for word in tokens if word.lower() not in stopwords])\n",
    "    return text"
   ],
   "metadata": {
    "collapsed": false
   },
   "id": "44032d31f541eaa1"
  },
  {
   "cell_type": "code",
   "execution_count": null,
   "outputs": [],
   "source": [
    "stemmed_data[\"review\"] = stemmed_data[\"review\"].apply(lambda text: stemm_text(text))\n",
    "stemmed_data = stemmed_data.drop_duplicates()\n",
    "stemmed_data"
   ],
   "metadata": {
    "collapsed": false
   },
   "id": "8a83b2a39749a51f"
  },
  {
   "cell_type": "markdown",
   "source": [
    "# Lemmatized data"
   ],
   "metadata": {
    "collapsed": false
   },
   "id": "9904790969209639"
  },
  {
   "cell_type": "code",
   "execution_count": null,
   "outputs": [],
   "source": [
    "lemmatized_data = data.copy()"
   ],
   "metadata": {
    "collapsed": false
   },
   "id": "edf320d220fe6fdf"
  },
  {
   "cell_type": "code",
   "execution_count": null,
   "outputs": [],
   "source": [
    "wnl = nltk.WordNetLemmatizer()\n",
    "\n",
    "\n",
    "def lemmatize_text(text):\n",
    "    text_without_punctuations = \"\".join([c for c in text if c not in string.punctuation])\n",
    "    tokens = re.split(r\"\\W\", text_without_punctuations)\n",
    "    text = \"\".join([wnl.lemmatize(word).lower() + \" \" for word in tokens if word.lower() not in stopwords])\n",
    "    return text"
   ],
   "metadata": {
    "collapsed": false
   },
   "id": "c1f5b0f49ab91a6b"
  },
  {
   "cell_type": "code",
   "execution_count": null,
   "outputs": [],
   "source": [
    "lemmatized_data[\"review\"] = lemmatized_data[\"review\"].apply(lambda text: lemmatize_text(text))\n",
    "lemmatized_data = lemmatized_data.drop_duplicates()\n",
    "lemmatized_data"
   ],
   "metadata": {
    "collapsed": false
   },
   "id": "d67603d00c1e3cf8"
  },
  {
   "cell_type": "markdown",
   "source": [
    "# Raw data"
   ],
   "metadata": {
    "collapsed": false
   },
   "id": "fb0a322179f772cf"
  },
  {
   "cell_type": "code",
   "execution_count": null,
   "outputs": [],
   "source": [
    "raw_data = data.copy()"
   ],
   "metadata": {
    "collapsed": false
   },
   "id": "aa65305f8c34e354"
  },
  {
   "cell_type": "markdown",
   "source": [
    "# Model"
   ],
   "metadata": {
    "collapsed": false
   },
   "id": "b97ea3ceae8f089b"
  },
  {
   "cell_type": "code",
   "execution_count": null,
   "outputs": [],
   "source": [
    "results = []\n",
    "\n",
    "for data in [stemmed_data, lemmatized_data, raw_data]:\n",
    "    MAX_WORDS = max([len(re.split(r\"\\W\", review)) for review in data[\"review\"]])\n",
    "    tokenizer = Tokenizer(num_words=2500, lower=True)\n",
    "\n",
    "    tokenizer.fit_on_texts(data[\"review\"])\n",
    "    sequences = tokenizer.texts_to_sequences(data[\"review\"])\n",
    "\n",
    "    padded_sequences = pad_sequences(sequences, maxlen=MAX_WORDS, padding='pre')\n",
    "\n",
    "    V = len(tokenizer.word_index)\n",
    "    D = 40\n",
    "\n",
    "    model = Sequential()\n",
    "    model.add(Embedding(V + 1, D, input_shape=(MAX_WORDS,)))\n",
    "    model.add(LSTM(units=8, return_sequences=True))\n",
    "    model.add(GlobalMaxPooling1D())\n",
    "    model.add(Dense(units=1, activation=\"sigmoid\"))\n",
    "\n",
    "    # model.summary()\n",
    "\n",
    "    model.compile(optimizer=\"adam\", loss=\"binary_crossentropy\", metrics=[\"accuracy\"])\n",
    "\n",
    "    history = model.fit(padded_sequences, data[\"label\"], epochs=50, validation_split=.35, verbose=0)\n",
    "\n",
    "    fig = go.Figure()\n",
    "    fig.add_trace(go.Scatter(x=history.epoch, y=history.history['accuracy'], name='accuracy'))\n",
    "    fig.add_trace(go.Scatter(x=history.epoch, y=history.history['val_accuracy'], name='val_accuracy'))\n",
    "    fig.show()\n",
    "\n",
    "    fig = go.Figure()\n",
    "    fig.add_trace(go.Scatter(x=history.epoch, y=history.history['loss'], name='loss'))\n",
    "    fig.add_trace(go.Scatter(x=history.epoch, y=history.history['val_loss'], name='val_loss'))\n",
    "    fig.show()\n",
    "\n",
    "    results.append(model.evaluate(padded_sequences, data[\"label\"]))\n"
   ],
   "metadata": {
    "collapsed": false
   },
   "id": "3aa160680d1f48cd"
  }
 ],
 "metadata": {
  "kernelspec": {
   "display_name": "Python 3",
   "language": "python",
   "name": "python3"
  },
  "language_info": {
   "codemirror_mode": {
    "name": "ipython",
    "version": 2
   },
   "file_extension": ".py",
   "mimetype": "text/x-python",
   "name": "python",
   "nbconvert_exporter": "python",
   "pygments_lexer": "ipython2",
   "version": "2.7.6"
  }
 },
 "nbformat": 4,
 "nbformat_minor": 5
}
