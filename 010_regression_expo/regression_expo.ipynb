{
 "cells": [
  {
   "cell_type": "code",
   "execution_count": 25,
   "id": "initial_id",
   "metadata": {
    "collapsed": true,
    "ExecuteTime": {
     "end_time": "2024-02-24T12:28:30.073107700Z",
     "start_time": "2024-02-24T12:28:29.959000600Z"
    }
   },
   "outputs": [],
   "source": [
    "import pandas as pd\n",
    "import numpy as np\n",
    "from keras import Sequential\n",
    "from keras.src.callbacks import LearningRateScheduler\n",
    "from keras.src.layers import Dense\n",
    "from keras.src.optimizers import SGD\n",
    "from sklearn.model_selection import train_test_split\n",
    "import plotly.graph_objects as go"
   ]
  },
  {
   "cell_type": "code",
   "execution_count": 26,
   "outputs": [],
   "source": [
    "data = pd.read_csv(\"data.csv\").drop(\"Unnamed: 0\", axis=1)\n",
    "labels = data[\"value\"]\n",
    "data = data[\"year\"]\n",
    "temp = data\n",
    "\n",
    "labels = np.log2(labels)\n",
    "\n",
    "mean, std = data.mean(), data.std()\n",
    "data = data - data.mean()\n",
    "data = data / data.std()\n",
    "\n",
    "train_data, test_data, train_labels, test_labels = train_test_split(data, labels, test_size=0.2)"
   ],
   "metadata": {
    "collapsed": false,
    "ExecuteTime": {
     "end_time": "2024-02-24T12:28:30.186069800Z",
     "start_time": "2024-02-24T12:28:30.064069900Z"
    }
   },
   "id": "eefaec50e20ef584"
  },
  {
   "cell_type": "code",
   "execution_count": 27,
   "outputs": [
    {
     "name": "stdout",
     "output_type": "stream",
     "text": [
      "Model: \"sequential_4\"\n",
      "_________________________________________________________________\n",
      " Layer (type)                Output Shape              Param #   \n",
      "=================================================================\n",
      " dense_6 (Dense)             (None, 1)                 2         \n",
      "                                                                 \n",
      "=================================================================\n",
      "Total params: 2 (8.00 Byte)\n",
      "Trainable params: 2 (8.00 Byte)\n",
      "Non-trainable params: 0 (0.00 Byte)\n",
      "_________________________________________________________________\n"
     ]
    }
   ],
   "source": [
    "model = Sequential()\n",
    "model.add(Dense(units=1, input_shape=(1,)))\n",
    "\n",
    "model.summary()"
   ],
   "metadata": {
    "collapsed": false,
    "ExecuteTime": {
     "end_time": "2024-02-24T12:28:30.416310Z",
     "start_time": "2024-02-24T12:28:30.109069800Z"
    }
   },
   "id": "22991aaa050d462b"
  },
  {
   "cell_type": "code",
   "execution_count": 28,
   "outputs": [
    {
     "name": "stdout",
     "output_type": "stream",
     "text": [
      "Epoch 1/50\n",
      "9/9 [==============================] - 1s 4ms/step - loss: 83.0854 - lr: 0.0010\n",
      "Epoch 2/50\n",
      "9/9 [==============================] - 0s 5ms/step - loss: 67.3596 - lr: 0.0010\n",
      "Epoch 3/50\n",
      "9/9 [==============================] - 0s 5ms/step - loss: 49.0119 - lr: 0.0010\n",
      "Epoch 4/50\n",
      "9/9 [==============================] - 0s 5ms/step - loss: 33.5428 - lr: 0.0010\n",
      "Epoch 5/50\n",
      "9/9 [==============================] - 0s 5ms/step - loss: 22.4462 - lr: 0.0010\n",
      "Epoch 6/50\n",
      "9/9 [==============================] - 0s 5ms/step - loss: 14.7776 - lr: 0.0010\n",
      "Epoch 7/50\n",
      "9/9 [==============================] - 0s 9ms/step - loss: 9.5940 - lr: 0.0010\n",
      "Epoch 8/50\n",
      "9/9 [==============================] - 0s 6ms/step - loss: 6.3630 - lr: 0.0010\n",
      "Epoch 9/50\n",
      "9/9 [==============================] - 0s 6ms/step - loss: 4.3217 - lr: 0.0010\n",
      "Epoch 10/50\n",
      "9/9 [==============================] - 0s 4ms/step - loss: 3.0432 - lr: 0.0010\n",
      "Epoch 11/50\n",
      "9/9 [==============================] - 0s 3ms/step - loss: 2.2167 - lr: 0.0010\n",
      "Epoch 12/50\n",
      "9/9 [==============================] - 0s 4ms/step - loss: 1.7261 - lr: 0.0010\n",
      "Epoch 13/50\n",
      "9/9 [==============================] - 0s 4ms/step - loss: 1.4163 - lr: 0.0010\n",
      "Epoch 14/50\n",
      "9/9 [==============================] - 0s 4ms/step - loss: 1.2196 - lr: 0.0010\n",
      "Epoch 15/50\n",
      "9/9 [==============================] - 0s 5ms/step - loss: 1.1020 - lr: 0.0010\n",
      "Epoch 16/50\n",
      "9/9 [==============================] - 0s 4ms/step - loss: 1.0261 - lr: 0.0010\n",
      "Epoch 17/50\n",
      "9/9 [==============================] - 0s 4ms/step - loss: 0.9820 - lr: 0.0010\n",
      "Epoch 18/50\n",
      "9/9 [==============================] - 0s 4ms/step - loss: 0.9506 - lr: 0.0010\n",
      "Epoch 19/50\n",
      "9/9 [==============================] - 0s 4ms/step - loss: 0.9364 - lr: 0.0010\n",
      "Epoch 20/50\n",
      "9/9 [==============================] - 0s 4ms/step - loss: 0.9239 - lr: 0.0010\n",
      "Epoch 21/50\n",
      "9/9 [==============================] - 0s 4ms/step - loss: 0.9162 - lr: 0.0010\n",
      "Epoch 22/50\n",
      "9/9 [==============================] - 0s 4ms/step - loss: 0.9120 - lr: 0.0010\n",
      "Epoch 23/50\n",
      "9/9 [==============================] - 0s 4ms/step - loss: 0.9090 - lr: 0.0010\n",
      "Epoch 24/50\n",
      "9/9 [==============================] - 0s 6ms/step - loss: 0.9069 - lr: 0.0010\n",
      "Epoch 25/50\n",
      "9/9 [==============================] - 0s 5ms/step - loss: 0.9061 - lr: 0.0010\n",
      "Epoch 26/50\n",
      "9/9 [==============================] - 0s 4ms/step - loss: 0.9053 - lr: 1.0000e-04\n",
      "Epoch 27/50\n",
      "9/9 [==============================] - 0s 4ms/step - loss: 0.9049 - lr: 1.0000e-04\n",
      "Epoch 28/50\n",
      "9/9 [==============================] - 0s 3ms/step - loss: 0.9048 - lr: 1.0000e-04\n",
      "Epoch 29/50\n",
      "9/9 [==============================] - 0s 5ms/step - loss: 0.9048 - lr: 1.0000e-04\n",
      "Epoch 30/50\n",
      "9/9 [==============================] - 0s 4ms/step - loss: 0.9047 - lr: 1.0000e-04\n",
      "Epoch 31/50\n",
      "9/9 [==============================] - 0s 4ms/step - loss: 0.9047 - lr: 1.0000e-04\n",
      "Epoch 32/50\n",
      "9/9 [==============================] - 0s 4ms/step - loss: 0.9046 - lr: 1.0000e-04\n",
      "Epoch 33/50\n",
      "9/9 [==============================] - 0s 4ms/step - loss: 0.9046 - lr: 1.0000e-04\n",
      "Epoch 34/50\n",
      "9/9 [==============================] - 0s 4ms/step - loss: 0.9046 - lr: 1.0000e-04\n",
      "Epoch 35/50\n",
      "9/9 [==============================] - 0s 4ms/step - loss: 0.9045 - lr: 1.0000e-04\n",
      "Epoch 36/50\n",
      "9/9 [==============================] - 0s 3ms/step - loss: 0.9045 - lr: 1.0000e-04\n",
      "Epoch 37/50\n",
      "9/9 [==============================] - 0s 4ms/step - loss: 0.9045 - lr: 1.0000e-04\n",
      "Epoch 38/50\n",
      "9/9 [==============================] - 0s 4ms/step - loss: 0.9044 - lr: 1.0000e-04\n",
      "Epoch 39/50\n",
      "9/9 [==============================] - 0s 4ms/step - loss: 0.9044 - lr: 1.0000e-04\n",
      "Epoch 40/50\n",
      "9/9 [==============================] - 0s 4ms/step - loss: 0.9044 - lr: 1.0000e-04\n",
      "Epoch 41/50\n",
      "9/9 [==============================] - 0s 5ms/step - loss: 0.9043 - lr: 1.0000e-04\n",
      "Epoch 42/50\n",
      "9/9 [==============================] - 0s 4ms/step - loss: 0.9044 - lr: 1.0000e-04\n",
      "Epoch 43/50\n",
      "9/9 [==============================] - 0s 4ms/step - loss: 0.9043 - lr: 1.0000e-04\n",
      "Epoch 44/50\n",
      "9/9 [==============================] - 0s 4ms/step - loss: 0.9043 - lr: 1.0000e-04\n",
      "Epoch 45/50\n",
      "9/9 [==============================] - 0s 4ms/step - loss: 0.9042 - lr: 1.0000e-04\n",
      "Epoch 46/50\n",
      "9/9 [==============================] - 0s 4ms/step - loss: 0.9042 - lr: 1.0000e-04\n",
      "Epoch 47/50\n",
      "9/9 [==============================] - 0s 3ms/step - loss: 0.9042 - lr: 1.0000e-04\n",
      "Epoch 48/50\n",
      "9/9 [==============================] - 0s 4ms/step - loss: 0.9042 - lr: 1.0000e-04\n",
      "Epoch 49/50\n",
      "9/9 [==============================] - 0s 5ms/step - loss: 0.9041 - lr: 1.0000e-04\n",
      "Epoch 50/50\n",
      "9/9 [==============================] - 0s 5ms/step - loss: 0.9041 - lr: 1.0000e-04\n"
     ]
    }
   ],
   "source": [
    "model.compile(optimizer=SGD(0.001, 0.9),\n",
    "              loss='mse')\n",
    "\n",
    "\n",
    "def schedule(epoch, lr):\n",
    "    if epoch < 25:\n",
    "        return 0.001\n",
    "    else:\n",
    "        return 0.0001\n",
    "\n",
    "\n",
    "lrs = LearningRateScheduler(schedule)\n",
    "\n",
    "history = model.fit(train_data, train_labels, epochs=50, callbacks=[lrs])"
   ],
   "metadata": {
    "collapsed": false,
    "ExecuteTime": {
     "end_time": "2024-02-24T12:28:34.183397500Z",
     "start_time": "2024-02-24T12:28:30.274162900Z"
    }
   },
   "id": "149464f4b48ed610"
  },
  {
   "cell_type": "code",
   "execution_count": 29,
   "outputs": [
    {
     "data": {
      "application/vnd.plotly.v1+json": {
       "data": [
        {
         "name": "mse",
         "x": [
          0,
          1,
          2,
          3,
          4,
          5,
          6,
          7,
          8,
          9,
          10,
          11,
          12,
          13,
          14,
          15,
          16,
          17,
          18,
          19,
          20,
          21,
          22,
          23,
          24,
          25,
          26,
          27,
          28,
          29,
          30,
          31,
          32,
          33,
          34,
          35,
          36,
          37,
          38,
          39,
          40,
          41,
          42,
          43,
          44,
          45,
          46,
          47,
          48,
          49
         ],
         "y": [
          83.08540344238281,
          67.35964965820312,
          49.011898040771484,
          33.5428466796875,
          22.44620132446289,
          14.777572631835938,
          9.59397029876709,
          6.363039970397949,
          4.321696758270264,
          3.0431535243988037,
          2.216669797897339,
          1.726061463356018,
          1.4163485765457153,
          1.219586730003357,
          1.1019890308380127,
          1.026120901107788,
          0.9819865226745605,
          0.9506484866142273,
          0.9364421367645264,
          0.9238830804824829,
          0.9161770939826965,
          0.9120185971260071,
          0.9089784026145935,
          0.9069418907165527,
          0.9060512185096741,
          0.905302882194519,
          0.9049424529075623,
          0.9047863483428955,
          0.9047530889511108,
          0.9046924710273743,
          0.9046647548675537,
          0.9046326875686646,
          0.9045892357826233,
          0.9045653343200684,
          0.9045317769050598,
          0.9045449495315552,
          0.9044737219810486,
          0.904423713684082,
          0.9043787121772766,
          0.9044175148010254,
          0.9043416380882263,
          0.9043956995010376,
          0.9043202996253967,
          0.9042645692825317,
          0.9042379856109619,
          0.9042380452156067,
          0.9042267799377441,
          0.9041691422462463,
          0.9041472673416138,
          0.904141902923584
         ],
         "type": "scatter"
        }
       ],
       "layout": {
        "template": {
         "data": {
          "histogram2dcontour": [
           {
            "type": "histogram2dcontour",
            "colorbar": {
             "outlinewidth": 0,
             "ticks": ""
            },
            "colorscale": [
             [
              0.0,
              "#0d0887"
             ],
             [
              0.1111111111111111,
              "#46039f"
             ],
             [
              0.2222222222222222,
              "#7201a8"
             ],
             [
              0.3333333333333333,
              "#9c179e"
             ],
             [
              0.4444444444444444,
              "#bd3786"
             ],
             [
              0.5555555555555556,
              "#d8576b"
             ],
             [
              0.6666666666666666,
              "#ed7953"
             ],
             [
              0.7777777777777778,
              "#fb9f3a"
             ],
             [
              0.8888888888888888,
              "#fdca26"
             ],
             [
              1.0,
              "#f0f921"
             ]
            ]
           }
          ],
          "choropleth": [
           {
            "type": "choropleth",
            "colorbar": {
             "outlinewidth": 0,
             "ticks": ""
            }
           }
          ],
          "histogram2d": [
           {
            "type": "histogram2d",
            "colorbar": {
             "outlinewidth": 0,
             "ticks": ""
            },
            "colorscale": [
             [
              0.0,
              "#0d0887"
             ],
             [
              0.1111111111111111,
              "#46039f"
             ],
             [
              0.2222222222222222,
              "#7201a8"
             ],
             [
              0.3333333333333333,
              "#9c179e"
             ],
             [
              0.4444444444444444,
              "#bd3786"
             ],
             [
              0.5555555555555556,
              "#d8576b"
             ],
             [
              0.6666666666666666,
              "#ed7953"
             ],
             [
              0.7777777777777778,
              "#fb9f3a"
             ],
             [
              0.8888888888888888,
              "#fdca26"
             ],
             [
              1.0,
              "#f0f921"
             ]
            ]
           }
          ],
          "heatmap": [
           {
            "type": "heatmap",
            "colorbar": {
             "outlinewidth": 0,
             "ticks": ""
            },
            "colorscale": [
             [
              0.0,
              "#0d0887"
             ],
             [
              0.1111111111111111,
              "#46039f"
             ],
             [
              0.2222222222222222,
              "#7201a8"
             ],
             [
              0.3333333333333333,
              "#9c179e"
             ],
             [
              0.4444444444444444,
              "#bd3786"
             ],
             [
              0.5555555555555556,
              "#d8576b"
             ],
             [
              0.6666666666666666,
              "#ed7953"
             ],
             [
              0.7777777777777778,
              "#fb9f3a"
             ],
             [
              0.8888888888888888,
              "#fdca26"
             ],
             [
              1.0,
              "#f0f921"
             ]
            ]
           }
          ],
          "heatmapgl": [
           {
            "type": "heatmapgl",
            "colorbar": {
             "outlinewidth": 0,
             "ticks": ""
            },
            "colorscale": [
             [
              0.0,
              "#0d0887"
             ],
             [
              0.1111111111111111,
              "#46039f"
             ],
             [
              0.2222222222222222,
              "#7201a8"
             ],
             [
              0.3333333333333333,
              "#9c179e"
             ],
             [
              0.4444444444444444,
              "#bd3786"
             ],
             [
              0.5555555555555556,
              "#d8576b"
             ],
             [
              0.6666666666666666,
              "#ed7953"
             ],
             [
              0.7777777777777778,
              "#fb9f3a"
             ],
             [
              0.8888888888888888,
              "#fdca26"
             ],
             [
              1.0,
              "#f0f921"
             ]
            ]
           }
          ],
          "contourcarpet": [
           {
            "type": "contourcarpet",
            "colorbar": {
             "outlinewidth": 0,
             "ticks": ""
            }
           }
          ],
          "contour": [
           {
            "type": "contour",
            "colorbar": {
             "outlinewidth": 0,
             "ticks": ""
            },
            "colorscale": [
             [
              0.0,
              "#0d0887"
             ],
             [
              0.1111111111111111,
              "#46039f"
             ],
             [
              0.2222222222222222,
              "#7201a8"
             ],
             [
              0.3333333333333333,
              "#9c179e"
             ],
             [
              0.4444444444444444,
              "#bd3786"
             ],
             [
              0.5555555555555556,
              "#d8576b"
             ],
             [
              0.6666666666666666,
              "#ed7953"
             ],
             [
              0.7777777777777778,
              "#fb9f3a"
             ],
             [
              0.8888888888888888,
              "#fdca26"
             ],
             [
              1.0,
              "#f0f921"
             ]
            ]
           }
          ],
          "surface": [
           {
            "type": "surface",
            "colorbar": {
             "outlinewidth": 0,
             "ticks": ""
            },
            "colorscale": [
             [
              0.0,
              "#0d0887"
             ],
             [
              0.1111111111111111,
              "#46039f"
             ],
             [
              0.2222222222222222,
              "#7201a8"
             ],
             [
              0.3333333333333333,
              "#9c179e"
             ],
             [
              0.4444444444444444,
              "#bd3786"
             ],
             [
              0.5555555555555556,
              "#d8576b"
             ],
             [
              0.6666666666666666,
              "#ed7953"
             ],
             [
              0.7777777777777778,
              "#fb9f3a"
             ],
             [
              0.8888888888888888,
              "#fdca26"
             ],
             [
              1.0,
              "#f0f921"
             ]
            ]
           }
          ],
          "mesh3d": [
           {
            "type": "mesh3d",
            "colorbar": {
             "outlinewidth": 0,
             "ticks": ""
            }
           }
          ],
          "scatter": [
           {
            "fillpattern": {
             "fillmode": "overlay",
             "size": 10,
             "solidity": 0.2
            },
            "type": "scatter"
           }
          ],
          "parcoords": [
           {
            "type": "parcoords",
            "line": {
             "colorbar": {
              "outlinewidth": 0,
              "ticks": ""
             }
            }
           }
          ],
          "scatterpolargl": [
           {
            "type": "scatterpolargl",
            "marker": {
             "colorbar": {
              "outlinewidth": 0,
              "ticks": ""
             }
            }
           }
          ],
          "bar": [
           {
            "error_x": {
             "color": "#2a3f5f"
            },
            "error_y": {
             "color": "#2a3f5f"
            },
            "marker": {
             "line": {
              "color": "#E5ECF6",
              "width": 0.5
             },
             "pattern": {
              "fillmode": "overlay",
              "size": 10,
              "solidity": 0.2
             }
            },
            "type": "bar"
           }
          ],
          "scattergeo": [
           {
            "type": "scattergeo",
            "marker": {
             "colorbar": {
              "outlinewidth": 0,
              "ticks": ""
             }
            }
           }
          ],
          "scatterpolar": [
           {
            "type": "scatterpolar",
            "marker": {
             "colorbar": {
              "outlinewidth": 0,
              "ticks": ""
             }
            }
           }
          ],
          "histogram": [
           {
            "marker": {
             "pattern": {
              "fillmode": "overlay",
              "size": 10,
              "solidity": 0.2
             }
            },
            "type": "histogram"
           }
          ],
          "scattergl": [
           {
            "type": "scattergl",
            "marker": {
             "colorbar": {
              "outlinewidth": 0,
              "ticks": ""
             }
            }
           }
          ],
          "scatter3d": [
           {
            "type": "scatter3d",
            "line": {
             "colorbar": {
              "outlinewidth": 0,
              "ticks": ""
             }
            },
            "marker": {
             "colorbar": {
              "outlinewidth": 0,
              "ticks": ""
             }
            }
           }
          ],
          "scattermapbox": [
           {
            "type": "scattermapbox",
            "marker": {
             "colorbar": {
              "outlinewidth": 0,
              "ticks": ""
             }
            }
           }
          ],
          "scatterternary": [
           {
            "type": "scatterternary",
            "marker": {
             "colorbar": {
              "outlinewidth": 0,
              "ticks": ""
             }
            }
           }
          ],
          "scattercarpet": [
           {
            "type": "scattercarpet",
            "marker": {
             "colorbar": {
              "outlinewidth": 0,
              "ticks": ""
             }
            }
           }
          ],
          "carpet": [
           {
            "aaxis": {
             "endlinecolor": "#2a3f5f",
             "gridcolor": "white",
             "linecolor": "white",
             "minorgridcolor": "white",
             "startlinecolor": "#2a3f5f"
            },
            "baxis": {
             "endlinecolor": "#2a3f5f",
             "gridcolor": "white",
             "linecolor": "white",
             "minorgridcolor": "white",
             "startlinecolor": "#2a3f5f"
            },
            "type": "carpet"
           }
          ],
          "table": [
           {
            "cells": {
             "fill": {
              "color": "#EBF0F8"
             },
             "line": {
              "color": "white"
             }
            },
            "header": {
             "fill": {
              "color": "#C8D4E3"
             },
             "line": {
              "color": "white"
             }
            },
            "type": "table"
           }
          ],
          "barpolar": [
           {
            "marker": {
             "line": {
              "color": "#E5ECF6",
              "width": 0.5
             },
             "pattern": {
              "fillmode": "overlay",
              "size": 10,
              "solidity": 0.2
             }
            },
            "type": "barpolar"
           }
          ],
          "pie": [
           {
            "automargin": true,
            "type": "pie"
           }
          ]
         },
         "layout": {
          "autotypenumbers": "strict",
          "colorway": [
           "#636efa",
           "#EF553B",
           "#00cc96",
           "#ab63fa",
           "#FFA15A",
           "#19d3f3",
           "#FF6692",
           "#B6E880",
           "#FF97FF",
           "#FECB52"
          ],
          "font": {
           "color": "#2a3f5f"
          },
          "hovermode": "closest",
          "hoverlabel": {
           "align": "left"
          },
          "paper_bgcolor": "white",
          "plot_bgcolor": "#E5ECF6",
          "polar": {
           "bgcolor": "#E5ECF6",
           "angularaxis": {
            "gridcolor": "white",
            "linecolor": "white",
            "ticks": ""
           },
           "radialaxis": {
            "gridcolor": "white",
            "linecolor": "white",
            "ticks": ""
           }
          },
          "ternary": {
           "bgcolor": "#E5ECF6",
           "aaxis": {
            "gridcolor": "white",
            "linecolor": "white",
            "ticks": ""
           },
           "baxis": {
            "gridcolor": "white",
            "linecolor": "white",
            "ticks": ""
           },
           "caxis": {
            "gridcolor": "white",
            "linecolor": "white",
            "ticks": ""
           }
          },
          "coloraxis": {
           "colorbar": {
            "outlinewidth": 0,
            "ticks": ""
           }
          },
          "colorscale": {
           "sequential": [
            [
             0.0,
             "#0d0887"
            ],
            [
             0.1111111111111111,
             "#46039f"
            ],
            [
             0.2222222222222222,
             "#7201a8"
            ],
            [
             0.3333333333333333,
             "#9c179e"
            ],
            [
             0.4444444444444444,
             "#bd3786"
            ],
            [
             0.5555555555555556,
             "#d8576b"
            ],
            [
             0.6666666666666666,
             "#ed7953"
            ],
            [
             0.7777777777777778,
             "#fb9f3a"
            ],
            [
             0.8888888888888888,
             "#fdca26"
            ],
            [
             1.0,
             "#f0f921"
            ]
           ],
           "sequentialminus": [
            [
             0.0,
             "#0d0887"
            ],
            [
             0.1111111111111111,
             "#46039f"
            ],
            [
             0.2222222222222222,
             "#7201a8"
            ],
            [
             0.3333333333333333,
             "#9c179e"
            ],
            [
             0.4444444444444444,
             "#bd3786"
            ],
            [
             0.5555555555555556,
             "#d8576b"
            ],
            [
             0.6666666666666666,
             "#ed7953"
            ],
            [
             0.7777777777777778,
             "#fb9f3a"
            ],
            [
             0.8888888888888888,
             "#fdca26"
            ],
            [
             1.0,
             "#f0f921"
            ]
           ],
           "diverging": [
            [
             0,
             "#8e0152"
            ],
            [
             0.1,
             "#c51b7d"
            ],
            [
             0.2,
             "#de77ae"
            ],
            [
             0.3,
             "#f1b6da"
            ],
            [
             0.4,
             "#fde0ef"
            ],
            [
             0.5,
             "#f7f7f7"
            ],
            [
             0.6,
             "#e6f5d0"
            ],
            [
             0.7,
             "#b8e186"
            ],
            [
             0.8,
             "#7fbc41"
            ],
            [
             0.9,
             "#4d9221"
            ],
            [
             1,
             "#276419"
            ]
           ]
          },
          "xaxis": {
           "gridcolor": "white",
           "linecolor": "white",
           "ticks": "",
           "title": {
            "standoff": 15
           },
           "zerolinecolor": "white",
           "automargin": true,
           "zerolinewidth": 2
          },
          "yaxis": {
           "gridcolor": "white",
           "linecolor": "white",
           "ticks": "",
           "title": {
            "standoff": 15
           },
           "zerolinecolor": "white",
           "automargin": true,
           "zerolinewidth": 2
          },
          "scene": {
           "xaxis": {
            "backgroundcolor": "#E5ECF6",
            "gridcolor": "white",
            "linecolor": "white",
            "showbackground": true,
            "ticks": "",
            "zerolinecolor": "white",
            "gridwidth": 2
           },
           "yaxis": {
            "backgroundcolor": "#E5ECF6",
            "gridcolor": "white",
            "linecolor": "white",
            "showbackground": true,
            "ticks": "",
            "zerolinecolor": "white",
            "gridwidth": 2
           },
           "zaxis": {
            "backgroundcolor": "#E5ECF6",
            "gridcolor": "white",
            "linecolor": "white",
            "showbackground": true,
            "ticks": "",
            "zerolinecolor": "white",
            "gridwidth": 2
           }
          },
          "shapedefaults": {
           "line": {
            "color": "#2a3f5f"
           }
          },
          "annotationdefaults": {
           "arrowcolor": "#2a3f5f",
           "arrowhead": 0,
           "arrowwidth": 1
          },
          "geo": {
           "bgcolor": "white",
           "landcolor": "#E5ECF6",
           "subunitcolor": "white",
           "showland": true,
           "showlakes": true,
           "lakecolor": "white"
          },
          "title": {
           "x": 0.05
          },
          "mapbox": {
           "style": "light"
          }
         }
        }
       },
       "config": {
        "plotlyServerURL": "https://plot.ly"
       }
      },
      "text/html": "<div>                            <div id=\"94ae7a5c-3a2f-43bf-bd84-3b22ed64e7d2\" class=\"plotly-graph-div\" style=\"height:525px; width:100%;\"></div>            <script type=\"text/javascript\">                require([\"plotly\"], function(Plotly) {                    window.PLOTLYENV=window.PLOTLYENV || {};                                    if (document.getElementById(\"94ae7a5c-3a2f-43bf-bd84-3b22ed64e7d2\")) {                    Plotly.newPlot(                        \"94ae7a5c-3a2f-43bf-bd84-3b22ed64e7d2\",                        [{\"name\":\"mse\",\"x\":[0,1,2,3,4,5,6,7,8,9,10,11,12,13,14,15,16,17,18,19,20,21,22,23,24,25,26,27,28,29,30,31,32,33,34,35,36,37,38,39,40,41,42,43,44,45,46,47,48,49],\"y\":[83.08540344238281,67.35964965820312,49.011898040771484,33.5428466796875,22.44620132446289,14.777572631835938,9.59397029876709,6.363039970397949,4.321696758270264,3.0431535243988037,2.216669797897339,1.726061463356018,1.4163485765457153,1.219586730003357,1.1019890308380127,1.026120901107788,0.9819865226745605,0.9506484866142273,0.9364421367645264,0.9238830804824829,0.9161770939826965,0.9120185971260071,0.9089784026145935,0.9069418907165527,0.9060512185096741,0.905302882194519,0.9049424529075623,0.9047863483428955,0.9047530889511108,0.9046924710273743,0.9046647548675537,0.9046326875686646,0.9045892357826233,0.9045653343200684,0.9045317769050598,0.9045449495315552,0.9044737219810486,0.904423713684082,0.9043787121772766,0.9044175148010254,0.9043416380882263,0.9043956995010376,0.9043202996253967,0.9042645692825317,0.9042379856109619,0.9042380452156067,0.9042267799377441,0.9041691422462463,0.9041472673416138,0.904141902923584],\"type\":\"scatter\"}],                        {\"template\":{\"data\":{\"histogram2dcontour\":[{\"type\":\"histogram2dcontour\",\"colorbar\":{\"outlinewidth\":0,\"ticks\":\"\"},\"colorscale\":[[0.0,\"#0d0887\"],[0.1111111111111111,\"#46039f\"],[0.2222222222222222,\"#7201a8\"],[0.3333333333333333,\"#9c179e\"],[0.4444444444444444,\"#bd3786\"],[0.5555555555555556,\"#d8576b\"],[0.6666666666666666,\"#ed7953\"],[0.7777777777777778,\"#fb9f3a\"],[0.8888888888888888,\"#fdca26\"],[1.0,\"#f0f921\"]]}],\"choropleth\":[{\"type\":\"choropleth\",\"colorbar\":{\"outlinewidth\":0,\"ticks\":\"\"}}],\"histogram2d\":[{\"type\":\"histogram2d\",\"colorbar\":{\"outlinewidth\":0,\"ticks\":\"\"},\"colorscale\":[[0.0,\"#0d0887\"],[0.1111111111111111,\"#46039f\"],[0.2222222222222222,\"#7201a8\"],[0.3333333333333333,\"#9c179e\"],[0.4444444444444444,\"#bd3786\"],[0.5555555555555556,\"#d8576b\"],[0.6666666666666666,\"#ed7953\"],[0.7777777777777778,\"#fb9f3a\"],[0.8888888888888888,\"#fdca26\"],[1.0,\"#f0f921\"]]}],\"heatmap\":[{\"type\":\"heatmap\",\"colorbar\":{\"outlinewidth\":0,\"ticks\":\"\"},\"colorscale\":[[0.0,\"#0d0887\"],[0.1111111111111111,\"#46039f\"],[0.2222222222222222,\"#7201a8\"],[0.3333333333333333,\"#9c179e\"],[0.4444444444444444,\"#bd3786\"],[0.5555555555555556,\"#d8576b\"],[0.6666666666666666,\"#ed7953\"],[0.7777777777777778,\"#fb9f3a\"],[0.8888888888888888,\"#fdca26\"],[1.0,\"#f0f921\"]]}],\"heatmapgl\":[{\"type\":\"heatmapgl\",\"colorbar\":{\"outlinewidth\":0,\"ticks\":\"\"},\"colorscale\":[[0.0,\"#0d0887\"],[0.1111111111111111,\"#46039f\"],[0.2222222222222222,\"#7201a8\"],[0.3333333333333333,\"#9c179e\"],[0.4444444444444444,\"#bd3786\"],[0.5555555555555556,\"#d8576b\"],[0.6666666666666666,\"#ed7953\"],[0.7777777777777778,\"#fb9f3a\"],[0.8888888888888888,\"#fdca26\"],[1.0,\"#f0f921\"]]}],\"contourcarpet\":[{\"type\":\"contourcarpet\",\"colorbar\":{\"outlinewidth\":0,\"ticks\":\"\"}}],\"contour\":[{\"type\":\"contour\",\"colorbar\":{\"outlinewidth\":0,\"ticks\":\"\"},\"colorscale\":[[0.0,\"#0d0887\"],[0.1111111111111111,\"#46039f\"],[0.2222222222222222,\"#7201a8\"],[0.3333333333333333,\"#9c179e\"],[0.4444444444444444,\"#bd3786\"],[0.5555555555555556,\"#d8576b\"],[0.6666666666666666,\"#ed7953\"],[0.7777777777777778,\"#fb9f3a\"],[0.8888888888888888,\"#fdca26\"],[1.0,\"#f0f921\"]]}],\"surface\":[{\"type\":\"surface\",\"colorbar\":{\"outlinewidth\":0,\"ticks\":\"\"},\"colorscale\":[[0.0,\"#0d0887\"],[0.1111111111111111,\"#46039f\"],[0.2222222222222222,\"#7201a8\"],[0.3333333333333333,\"#9c179e\"],[0.4444444444444444,\"#bd3786\"],[0.5555555555555556,\"#d8576b\"],[0.6666666666666666,\"#ed7953\"],[0.7777777777777778,\"#fb9f3a\"],[0.8888888888888888,\"#fdca26\"],[1.0,\"#f0f921\"]]}],\"mesh3d\":[{\"type\":\"mesh3d\",\"colorbar\":{\"outlinewidth\":0,\"ticks\":\"\"}}],\"scatter\":[{\"fillpattern\":{\"fillmode\":\"overlay\",\"size\":10,\"solidity\":0.2},\"type\":\"scatter\"}],\"parcoords\":[{\"type\":\"parcoords\",\"line\":{\"colorbar\":{\"outlinewidth\":0,\"ticks\":\"\"}}}],\"scatterpolargl\":[{\"type\":\"scatterpolargl\",\"marker\":{\"colorbar\":{\"outlinewidth\":0,\"ticks\":\"\"}}}],\"bar\":[{\"error_x\":{\"color\":\"#2a3f5f\"},\"error_y\":{\"color\":\"#2a3f5f\"},\"marker\":{\"line\":{\"color\":\"#E5ECF6\",\"width\":0.5},\"pattern\":{\"fillmode\":\"overlay\",\"size\":10,\"solidity\":0.2}},\"type\":\"bar\"}],\"scattergeo\":[{\"type\":\"scattergeo\",\"marker\":{\"colorbar\":{\"outlinewidth\":0,\"ticks\":\"\"}}}],\"scatterpolar\":[{\"type\":\"scatterpolar\",\"marker\":{\"colorbar\":{\"outlinewidth\":0,\"ticks\":\"\"}}}],\"histogram\":[{\"marker\":{\"pattern\":{\"fillmode\":\"overlay\",\"size\":10,\"solidity\":0.2}},\"type\":\"histogram\"}],\"scattergl\":[{\"type\":\"scattergl\",\"marker\":{\"colorbar\":{\"outlinewidth\":0,\"ticks\":\"\"}}}],\"scatter3d\":[{\"type\":\"scatter3d\",\"line\":{\"colorbar\":{\"outlinewidth\":0,\"ticks\":\"\"}},\"marker\":{\"colorbar\":{\"outlinewidth\":0,\"ticks\":\"\"}}}],\"scattermapbox\":[{\"type\":\"scattermapbox\",\"marker\":{\"colorbar\":{\"outlinewidth\":0,\"ticks\":\"\"}}}],\"scatterternary\":[{\"type\":\"scatterternary\",\"marker\":{\"colorbar\":{\"outlinewidth\":0,\"ticks\":\"\"}}}],\"scattercarpet\":[{\"type\":\"scattercarpet\",\"marker\":{\"colorbar\":{\"outlinewidth\":0,\"ticks\":\"\"}}}],\"carpet\":[{\"aaxis\":{\"endlinecolor\":\"#2a3f5f\",\"gridcolor\":\"white\",\"linecolor\":\"white\",\"minorgridcolor\":\"white\",\"startlinecolor\":\"#2a3f5f\"},\"baxis\":{\"endlinecolor\":\"#2a3f5f\",\"gridcolor\":\"white\",\"linecolor\":\"white\",\"minorgridcolor\":\"white\",\"startlinecolor\":\"#2a3f5f\"},\"type\":\"carpet\"}],\"table\":[{\"cells\":{\"fill\":{\"color\":\"#EBF0F8\"},\"line\":{\"color\":\"white\"}},\"header\":{\"fill\":{\"color\":\"#C8D4E3\"},\"line\":{\"color\":\"white\"}},\"type\":\"table\"}],\"barpolar\":[{\"marker\":{\"line\":{\"color\":\"#E5ECF6\",\"width\":0.5},\"pattern\":{\"fillmode\":\"overlay\",\"size\":10,\"solidity\":0.2}},\"type\":\"barpolar\"}],\"pie\":[{\"automargin\":true,\"type\":\"pie\"}]},\"layout\":{\"autotypenumbers\":\"strict\",\"colorway\":[\"#636efa\",\"#EF553B\",\"#00cc96\",\"#ab63fa\",\"#FFA15A\",\"#19d3f3\",\"#FF6692\",\"#B6E880\",\"#FF97FF\",\"#FECB52\"],\"font\":{\"color\":\"#2a3f5f\"},\"hovermode\":\"closest\",\"hoverlabel\":{\"align\":\"left\"},\"paper_bgcolor\":\"white\",\"plot_bgcolor\":\"#E5ECF6\",\"polar\":{\"bgcolor\":\"#E5ECF6\",\"angularaxis\":{\"gridcolor\":\"white\",\"linecolor\":\"white\",\"ticks\":\"\"},\"radialaxis\":{\"gridcolor\":\"white\",\"linecolor\":\"white\",\"ticks\":\"\"}},\"ternary\":{\"bgcolor\":\"#E5ECF6\",\"aaxis\":{\"gridcolor\":\"white\",\"linecolor\":\"white\",\"ticks\":\"\"},\"baxis\":{\"gridcolor\":\"white\",\"linecolor\":\"white\",\"ticks\":\"\"},\"caxis\":{\"gridcolor\":\"white\",\"linecolor\":\"white\",\"ticks\":\"\"}},\"coloraxis\":{\"colorbar\":{\"outlinewidth\":0,\"ticks\":\"\"}},\"colorscale\":{\"sequential\":[[0.0,\"#0d0887\"],[0.1111111111111111,\"#46039f\"],[0.2222222222222222,\"#7201a8\"],[0.3333333333333333,\"#9c179e\"],[0.4444444444444444,\"#bd3786\"],[0.5555555555555556,\"#d8576b\"],[0.6666666666666666,\"#ed7953\"],[0.7777777777777778,\"#fb9f3a\"],[0.8888888888888888,\"#fdca26\"],[1.0,\"#f0f921\"]],\"sequentialminus\":[[0.0,\"#0d0887\"],[0.1111111111111111,\"#46039f\"],[0.2222222222222222,\"#7201a8\"],[0.3333333333333333,\"#9c179e\"],[0.4444444444444444,\"#bd3786\"],[0.5555555555555556,\"#d8576b\"],[0.6666666666666666,\"#ed7953\"],[0.7777777777777778,\"#fb9f3a\"],[0.8888888888888888,\"#fdca26\"],[1.0,\"#f0f921\"]],\"diverging\":[[0,\"#8e0152\"],[0.1,\"#c51b7d\"],[0.2,\"#de77ae\"],[0.3,\"#f1b6da\"],[0.4,\"#fde0ef\"],[0.5,\"#f7f7f7\"],[0.6,\"#e6f5d0\"],[0.7,\"#b8e186\"],[0.8,\"#7fbc41\"],[0.9,\"#4d9221\"],[1,\"#276419\"]]},\"xaxis\":{\"gridcolor\":\"white\",\"linecolor\":\"white\",\"ticks\":\"\",\"title\":{\"standoff\":15},\"zerolinecolor\":\"white\",\"automargin\":true,\"zerolinewidth\":2},\"yaxis\":{\"gridcolor\":\"white\",\"linecolor\":\"white\",\"ticks\":\"\",\"title\":{\"standoff\":15},\"zerolinecolor\":\"white\",\"automargin\":true,\"zerolinewidth\":2},\"scene\":{\"xaxis\":{\"backgroundcolor\":\"#E5ECF6\",\"gridcolor\":\"white\",\"linecolor\":\"white\",\"showbackground\":true,\"ticks\":\"\",\"zerolinecolor\":\"white\",\"gridwidth\":2},\"yaxis\":{\"backgroundcolor\":\"#E5ECF6\",\"gridcolor\":\"white\",\"linecolor\":\"white\",\"showbackground\":true,\"ticks\":\"\",\"zerolinecolor\":\"white\",\"gridwidth\":2},\"zaxis\":{\"backgroundcolor\":\"#E5ECF6\",\"gridcolor\":\"white\",\"linecolor\":\"white\",\"showbackground\":true,\"ticks\":\"\",\"zerolinecolor\":\"white\",\"gridwidth\":2}},\"shapedefaults\":{\"line\":{\"color\":\"#2a3f5f\"}},\"annotationdefaults\":{\"arrowcolor\":\"#2a3f5f\",\"arrowhead\":0,\"arrowwidth\":1},\"geo\":{\"bgcolor\":\"white\",\"landcolor\":\"#E5ECF6\",\"subunitcolor\":\"white\",\"showland\":true,\"showlakes\":true,\"lakecolor\":\"white\"},\"title\":{\"x\":0.05},\"mapbox\":{\"style\":\"light\"}}}},                        {\"responsive\": true}                    ).then(function(){\n                            \nvar gd = document.getElementById('94ae7a5c-3a2f-43bf-bd84-3b22ed64e7d2');\nvar x = new MutationObserver(function (mutations, observer) {{\n        var display = window.getComputedStyle(gd).display;\n        if (!display || display === 'none') {{\n            console.log([gd, 'removed!']);\n            Plotly.purge(gd);\n            observer.disconnect();\n        }}\n}});\n\n// Listen for the removal of the full notebook cells\nvar notebookContainer = gd.closest('#notebook-container');\nif (notebookContainer) {{\n    x.observe(notebookContainer, {childList: true});\n}}\n\n// Listen for the clearing of the current output cell\nvar outputEl = gd.closest('.output');\nif (outputEl) {{\n    x.observe(outputEl, {childList: true});\n}}\n\n                        })                };                });            </script>        </div>"
     },
     "metadata": {},
     "output_type": "display_data"
    }
   ],
   "source": [
    "def draw_history(history):\n",
    "    fig = go.Figure()\n",
    "    fig.add_trace(go.Scatter(x=history.epoch, y=history.history[\"loss\"], name=\"mse\"))\n",
    "    # fig.add_trace(go.Scatter(x=history.epoch, y=history.history[\"val_loss\"], name=\"val_mse\"))\n",
    "    fig.show()\n",
    "\n",
    "\n",
    "draw_history(history)"
   ],
   "metadata": {
    "collapsed": false,
    "ExecuteTime": {
     "end_time": "2024-02-24T12:28:34.235392300Z",
     "start_time": "2024-02-24T12:28:34.187392200Z"
    }
   },
   "id": "4f87a1b51c0a057f"
  },
  {
   "cell_type": "code",
   "execution_count": 30,
   "outputs": [
    {
     "name": "stdout",
     "output_type": "stream",
     "text": [
      "3/3 [==============================] - 0s 4ms/step - loss: 0.7725\n"
     ]
    },
    {
     "data": {
      "text/plain": "0.7725247144699097"
     },
     "execution_count": 30,
     "metadata": {},
     "output_type": "execute_result"
    }
   ],
   "source": [
    "model.evaluate(test_data, test_labels)"
   ],
   "metadata": {
    "collapsed": false,
    "ExecuteTime": {
     "end_time": "2024-02-24T12:28:34.563389500Z",
     "start_time": "2024-02-24T12:28:34.233389500Z"
    }
   },
   "id": "21a2d65efc9668de"
  },
  {
   "cell_type": "code",
   "execution_count": 31,
   "outputs": [
    {
     "name": "stdout",
     "output_type": "stream",
     "text": [
      "y = ax + b\n",
      "a = 3.1568052768707275\n",
      "b = 8.320748329162598\n"
     ]
    },
    {
     "data": {
      "application/vnd.plotly.v1+json": {
       "data": [
        {
         "mode": "markers",
         "name": "data",
         "x": [
          -1.9803181606632987,
          -1.952558212756278,
          -1.9247982648492572,
          -1.8970383169422365,
          -1.869278369035216,
          -1.8415184211281952,
          -1.8137584732211744,
          -1.7859985253141537,
          -1.758238577407133,
          -1.7304786295001122,
          -1.7027186815930917,
          -1.674958733686071,
          -1.6471987857790502,
          -1.6194388378720295,
          -1.5916788899650087,
          -1.5639189420579882,
          -1.5361589941509675,
          -1.5083990462439467,
          -1.480639098336926,
          -1.4528791504299052,
          -1.4251192025228847,
          -1.397359254615864,
          -1.3695993067088432,
          -1.3418393588018225,
          -1.3140794108948017,
          -1.286319462987781,
          -1.2585595150807605,
          -1.2307995671737397,
          -1.203039619266719,
          -1.1752796713596982,
          -1.1475197234526775,
          -1.119759775545657,
          -1.0919998276386362,
          -1.0642398797316155,
          -1.0364799318245947,
          -1.008719983917574,
          -0.9809600360105534,
          -0.9532000881035326,
          -0.925440140196512,
          -0.8976801922894913,
          -0.8699202443824706,
          -0.8421602964754499,
          -0.8144003485684291,
          -0.7866404006614085,
          -0.7588804527543878,
          -0.731120504847367,
          -0.7033605569403464,
          -0.6756006090333256,
          -0.647840661126305,
          -0.6200807132192843,
          -0.5923207653122635,
          -0.5645608174052429,
          -0.5368008694982221,
          -0.5090409215912014,
          -0.48128097368418077,
          -0.45352102577716,
          -0.42576107787013934,
          -0.39800112996311865,
          -0.37024118205609796,
          -0.3424812341490772,
          -0.31472128624205653,
          -0.28696133833503584,
          -0.25920139042801515,
          -0.23144144252099444,
          -0.20368149461397372,
          -0.17592154670695304,
          -0.14816159879993232,
          -0.12040165089291163,
          -0.09264170298589093,
          -0.06488175507887023,
          -0.03712180717184953,
          -0.009361859264828826,
          0.018398088642191876,
          0.04615803654921258,
          0.07391798445623328,
          0.10167793236325398,
          0.12943788027027467,
          0.15719782817729538,
          0.18495777608431607,
          0.2127177239913368,
          0.24047767189835748,
          0.2682376198053782,
          0.2959975677123989,
          0.32375751561941957,
          0.3515174635264403,
          0.379277411433461,
          0.4070373593404817,
          0.4347973072475024,
          0.4625572551545231,
          0.4903172030615438,
          0.5180771509685645,
          0.5458370988755852,
          0.5735970467826059,
          0.6013569946896266,
          0.6291169425966473,
          0.656876890503668,
          0.6846368384106887,
          0.7123967863177094,
          0.7401567342247302,
          0.7679166821317508,
          0.7956766300387715,
          0.8234365779457922,
          0.8511965258528129,
          0.8789564737598337,
          0.9067164216668543,
          0.934476369573875,
          0.9622363174808958,
          0.9899962653879164,
          1.0177562132949372,
          1.045516161201958,
          1.0732761091089786,
          1.1010360570159992,
          1.12879600492302,
          1.1565559528300406,
          1.1843159007370614,
          1.2120758486440821,
          1.2398357965511027,
          1.2675957444581234,
          1.2953556923651441,
          1.3231156402721649,
          1.3508755881791856,
          1.3786355360862061,
          1.406395483993227,
          1.4341554319002476,
          1.4619153798072684,
          -0.31472128624205653,
          -0.28696133833503584,
          -0.25920139042801515,
          -0.23144144252099444,
          -0.20368149461397372,
          -0.17592154670695304,
          -0.14816159879993232,
          -0.12040165089291163,
          -0.09264170298589093,
          -0.06488175507887023,
          -0.03712180717184953,
          -0.009361859264828826,
          0.018398088642191876,
          0.04615803654921258,
          0.07391798445623328,
          0.10167793236325398,
          0.12943788027027467,
          0.15719782817729538,
          0.18495777608431607,
          0.2127177239913368,
          0.24047767189835748,
          0.2682376198053782,
          0.2959975677123989,
          0.32375751561941957,
          0.3515174635264403,
          0.379277411433461,
          0.4070373593404817,
          0.4347973072475024,
          0.4625572551545231,
          0.4903172030615438,
          0.5180771509685645,
          0.5458370988755852,
          0.5735970467826059,
          0.6013569946896266,
          0.6291169425966473,
          0.656876890503668,
          0.6846368384106887,
          0.7123967863177094,
          0.7401567342247302,
          0.7679166821317508,
          0.7956766300387715,
          0.8234365779457922,
          0.8511965258528129,
          0.8789564737598337,
          0.9067164216668543,
          0.934476369573875,
          0.9622363174808958,
          0.9899962653879164,
          1.0177562132949372,
          1.045516161201958,
          1.0732761091089786,
          1.1010360570159992,
          1.12879600492302,
          1.1565559528300406,
          1.1843159007370614,
          1.2120758486440821,
          1.2398357965511027,
          1.2675957444581234,
          1.2953556923651441,
          1.3231156402721649,
          1.3508755881791856,
          1.3786355360862061,
          1.406395483993227,
          1.4341554319002476,
          1.4619153798072684,
          0.7956766300387715,
          0.8234365779457922,
          0.8511965258528129,
          0.8789564737598337,
          0.9067164216668543,
          0.934476369573875,
          0.9622363174808958,
          0.9899962653879164,
          1.0177562132949372,
          1.045516161201958,
          1.0732761091089786,
          1.1010360570159992,
          1.12879600492302,
          1.1565559528300406,
          1.1843159007370614,
          1.2120758486440821,
          1.2398357965511027,
          1.2675957444581234,
          1.2953556923651441,
          1.3231156402721649,
          1.3508755881791856,
          1.3786355360862061,
          1.406395483993227,
          1.4341554319002476,
          1.4619153798072684,
          -1.9803181606632987,
          -1.952558212756278,
          -1.9247982648492572,
          -1.8970383169422365,
          -1.869278369035216,
          -1.8415184211281952,
          -1.8137584732211744,
          -1.7859985253141537,
          -1.758238577407133,
          -1.7304786295001122,
          -1.7027186815930917,
          -1.674958733686071,
          -1.6471987857790502,
          -1.6194388378720295,
          -1.5916788899650087,
          -1.5639189420579882,
          -1.5361589941509675,
          -1.5083990462439467,
          -1.480639098336926,
          -1.4528791504299052,
          -1.4251192025228847,
          -1.397359254615864,
          -1.3695993067088432,
          -1.3418393588018225,
          -1.3140794108948017,
          -1.286319462987781,
          -1.2585595150807605,
          -1.2307995671737397,
          -1.203039619266719,
          -1.1752796713596982,
          -1.1475197234526775,
          -1.119759775545657,
          -1.0919998276386362,
          -1.0642398797316155,
          -1.0364799318245947,
          -1.008719983917574,
          -0.9809600360105534,
          -0.9532000881035326,
          -0.925440140196512,
          -0.8976801922894913,
          -0.8699202443824706,
          -0.8421602964754499,
          -0.8144003485684291,
          -0.7866404006614085,
          -0.7588804527543878,
          -0.731120504847367,
          -0.7033605569403464,
          -0.7033605569403464,
          -0.6756006090333256,
          -0.647840661126305,
          -0.6200807132192843,
          -0.5923207653122635,
          -0.5645608174052429,
          -0.5368008694982221,
          -0.5090409215912014,
          -0.48128097368418077,
          -0.45352102577716,
          -0.42576107787013934,
          -0.39800112996311865,
          -0.37024118205609796,
          -0.3424812341490772,
          -0.31472128624205653,
          -0.28696133833503584,
          -0.25920139042801515,
          -0.23144144252099444,
          -0.20368149461397372,
          -0.17592154670695304,
          -0.14816159879993232,
          -0.12040165089291163,
          -0.09264170298589093,
          -0.06488175507887023,
          -0.03712180717184953,
          -0.009361859264828826,
          0.018398088642191876,
          0.04615803654921258,
          0.07391798445623328,
          0.10167793236325398,
          0.12943788027027467,
          0.15719782817729538,
          0.18495777608431607,
          0.2127177239913368,
          0.24047767189835748,
          0.2682376198053782,
          0.2959975677123989,
          0.32375751561941957,
          0.3515174635264403,
          0.379277411433461,
          0.4070373593404817,
          0.4347973072475024,
          0.4625572551545231,
          0.4903172030615438,
          0.5180771509685645,
          0.5458370988755852,
          0.5735970467826059,
          0.6013569946896266,
          0.6291169425966473,
          0.656876890503668,
          0.6846368384106887,
          0.7123967863177094,
          0.7401567342247302,
          0.7679166821317508,
          0.7956766300387715,
          0.8234365779457922,
          0.8511965258528129,
          0.8789564737598337,
          0.9067164216668543,
          0.934476369573875,
          0.9622363174808958,
          0.9899962653879164,
          1.0177562132949372,
          1.045516161201958,
          1.0732761091089786,
          1.1010360570159992,
          1.12879600492302,
          1.1565559528300406,
          1.1843159007370614,
          1.2120758486440821,
          1.2398357965511027,
          1.2675957444581234,
          1.2953556923651441,
          1.3231156402721649,
          1.3508755881791856,
          1.3786355360862061,
          1.406395483993227,
          1.4341554319002476,
          1.4619153798072684
         ],
         "y": [
          1.0,
          1.1000000000000023,
          1.2000000000000002,
          1.2999999999999985,
          1.4000000000000008,
          1.4999999999999998,
          1.6000000000000019,
          1.699999999999999,
          1.8000000000000014,
          1.9000000000000001,
          2.0,
          2.099999999999999,
          2.2,
          2.2999999999999985,
          2.400000000000001,
          2.5,
          2.5999999999999996,
          2.6999999999999993,
          2.7999999999999994,
          2.9000000000000004,
          3.0,
          3.100000000000001,
          3.2,
          3.3,
          3.400000000000006,
          3.500000000000005,
          3.600000000000002,
          3.7000000000000033,
          3.8000000000000016,
          3.899999999999998,
          4.0,
          4.1000000000000005,
          4.200000000000003,
          4.3000000000000025,
          4.3999999999999995,
          4.499999999999999,
          4.600000000000001,
          4.6999999999999975,
          4.800000000000002,
          4.899999999999999,
          5.0,
          5.1000000000000005,
          5.199999999999999,
          5.299999999999999,
          5.3999999999999995,
          5.499999999999999,
          8.0,
          8.050000000000002,
          8.1,
          8.149999999999999,
          8.2,
          8.250000000000002,
          8.300000000000002,
          8.35,
          8.4,
          8.45,
          8.499999999999998,
          8.549999999999999,
          8.6,
          8.649999999999999,
          8.699999999999998,
          8.75,
          8.8,
          8.85,
          8.900000000000002,
          8.950000000000001,
          9.0,
          9.050000000000002,
          9.1,
          9.15,
          9.2,
          9.25,
          9.299999999999999,
          9.35,
          9.4,
          9.45,
          9.5,
          9.55,
          9.6,
          9.65,
          9.7,
          9.75,
          9.8,
          9.85,
          9.9,
          9.95,
          10.0,
          10.049999999999999,
          10.099999999999994,
          10.149999999999995,
          10.199999999999996,
          10.250000000000004,
          10.299999999999995,
          10.349999999999994,
          10.399999999999997,
          10.45,
          10.5,
          10.549999999999999,
          10.600000000000001,
          10.650000000000004,
          10.7,
          10.750000000000002,
          10.799999999999999,
          10.85,
          10.899999999999999,
          10.949999999999998,
          11.0,
          11.049999999999999,
          11.100000000000001,
          11.150000000000002,
          11.200000000000001,
          11.249999999999998,
          11.3,
          11.350000000000001,
          11.400000000000002,
          11.45,
          11.5,
          11.549999999999999,
          11.599999999999998,
          11.65,
          11.7,
          11.749999999999998,
          11.800000000000002,
          11.85,
          11.899999999999999,
          8.0,
          8.079999999999998,
          8.159999999999998,
          8.24,
          8.320000000000002,
          8.4,
          8.48,
          8.56,
          8.64,
          8.720000000000002,
          8.8,
          8.879999999999999,
          8.959999999999999,
          9.04,
          9.120000000000001,
          9.2,
          9.28,
          9.36,
          9.44,
          9.52,
          9.6,
          9.68,
          9.76,
          9.84,
          9.92,
          10.0,
          10.079999999999995,
          10.159999999999997,
          10.24,
          10.32,
          10.399999999999997,
          10.480000000000006,
          10.560000000000002,
          10.639999999999997,
          10.72,
          10.799999999999999,
          10.5,
          10.540000000000003,
          10.580000000000004,
          10.619999999999996,
          10.660000000000004,
          10.7,
          10.74,
          10.780000000000001,
          10.819999999999999,
          10.859999999999996,
          10.899999999999999,
          10.94,
          10.98,
          11.02,
          11.060000000000002,
          11.100000000000001,
          11.14,
          11.179999999999996,
          11.22,
          11.260000000000002,
          11.3,
          11.339999999999998,
          11.38,
          11.420000000000002,
          11.460000000000003,
          11.5,
          11.539999999999997,
          11.579999999999998,
          11.620000000000001,
          10.299999999999995,
          10.350000000000007,
          10.399999999999997,
          10.45,
          10.5,
          10.549999999999999,
          10.600000000000001,
          10.650000000000004,
          10.7,
          10.750000000000002,
          10.799999999999999,
          10.85,
          10.899999999999999,
          10.950000000000005,
          11.0,
          11.049999999999999,
          11.100000000000001,
          11.150000000000002,
          11.200000000000001,
          11.249999999999998,
          11.3,
          11.350000000000001,
          11.400000000000002,
          11.45,
          11.5,
          0.0,
          0.16000000000000006,
          0.3199999999999979,
          0.48000000000000476,
          0.6400000000000002,
          0.8000000000000015,
          0.9599999999999992,
          1.1200000000000025,
          1.2799999999999978,
          1.439999999999998,
          1.6000000000000019,
          1.7600000000000005,
          1.9199999999999986,
          2.0799999999999996,
          2.2399999999999998,
          2.400000000000001,
          2.5599999999999987,
          2.720000000000001,
          2.88,
          3.0399999999999996,
          3.2,
          3.3599999999999954,
          3.519999999999998,
          3.680000000000005,
          3.8400000000000043,
          4.0,
          4.159999999999998,
          4.32,
          4.48,
          4.640000000000001,
          4.800000000000002,
          4.959999999999998,
          5.120000000000002,
          5.28,
          5.4399999999999995,
          5.600000000000001,
          5.759999999999999,
          5.919999999999999,
          6.080000000000001,
          6.240000000000001,
          6.400000000000001,
          6.5600000000000005,
          6.719999999999995,
          6.88,
          7.040000000000005,
          7.199999999999996,
          7.360000000000002,
          8.2,
          8.250000000000002,
          8.299999999999997,
          8.35,
          8.4,
          8.45,
          8.499999999999998,
          8.549999999999999,
          8.6,
          8.649999999999999,
          8.699999999999998,
          8.75,
          8.799999999999999,
          8.85,
          8.899999999999999,
          8.950000000000001,
          9.0,
          9.049999999999999,
          9.1,
          9.149999999999999,
          9.2,
          9.25,
          9.299999999999999,
          9.35,
          9.399999999999999,
          9.45,
          9.5,
          9.549999999999999,
          9.6,
          9.649999999999999,
          9.7,
          9.75,
          9.799999999999999,
          9.85,
          9.899999999999999,
          9.95,
          10.0,
          10.049999999999999,
          10.099999999999994,
          10.149999999999995,
          10.199999999999996,
          10.250000000000004,
          10.299999999999995,
          10.349999999999994,
          10.399999999999997,
          10.45,
          10.5,
          10.549999999999999,
          10.600000000000001,
          10.649999999999995,
          10.7,
          10.750000000000002,
          10.799999999999999,
          10.85,
          10.899999999999999,
          10.949999999999998,
          11.0,
          11.049999999999999,
          11.100000000000001,
          11.149999999999995,
          11.200000000000001,
          11.249999999999998,
          11.3,
          11.350000000000001,
          11.399999999999997,
          11.45,
          11.5,
          11.549999999999999,
          11.599999999999998,
          11.65,
          11.7,
          11.749999999999998,
          11.799999999999999,
          11.85,
          11.899999999999999,
          11.950000000000001,
          12.0,
          12.049999999999999,
          12.100000000000001
         ],
         "type": "scatter"
        },
        {
         "mode": "lines",
         "name": "approximation",
         "x": [
          -2.0,
          -1.9882943143812708,
          -1.9765886287625418,
          -1.9648829431438126,
          -1.9531772575250836,
          -1.9414715719063544,
          -1.9297658862876255,
          -1.9180602006688963,
          -1.9063545150501673,
          -1.894648829431438,
          -1.882943143812709,
          -1.87123745819398,
          -1.859531772575251,
          -1.8478260869565217,
          -1.8361204013377925,
          -1.8244147157190636,
          -1.8127090301003346,
          -1.8010033444816054,
          -1.7892976588628762,
          -1.7775919732441472,
          -1.765886287625418,
          -1.754180602006689,
          -1.7424749163879598,
          -1.7307692307692308,
          -1.7190635451505016,
          -1.7073578595317727,
          -1.6956521739130435,
          -1.6839464882943145,
          -1.6722408026755853,
          -1.660535117056856,
          -1.648829431438127,
          -1.6371237458193981,
          -1.625418060200669,
          -1.6137123745819397,
          -1.6020066889632107,
          -1.5903010033444818,
          -1.5785953177257526,
          -1.5668896321070234,
          -1.5551839464882944,
          -1.5434782608695652,
          -1.5317725752508362,
          -1.520066889632107,
          -1.508361204013378,
          -1.4966555183946488,
          -1.4849498327759196,
          -1.4732441471571907,
          -1.4615384615384617,
          -1.4498327759197325,
          -1.4381270903010033,
          -1.4264214046822743,
          -1.4147157190635453,
          -1.4030100334448161,
          -1.391304347826087,
          -1.379598662207358,
          -1.367892976588629,
          -1.3561872909698998,
          -1.3444816053511706,
          -1.3327759197324416,
          -1.3210702341137124,
          -1.3093645484949832,
          -1.2976588628762542,
          -1.2859531772575252,
          -1.274247491638796,
          -1.2625418060200668,
          -1.2508361204013378,
          -1.2391304347826089,
          -1.2274247491638797,
          -1.2157190635451505,
          -1.2040133779264215,
          -1.1923076923076925,
          -1.1806020066889633,
          -1.1688963210702341,
          -1.1571906354515051,
          -1.145484949832776,
          -1.1337792642140467,
          -1.1220735785953178,
          -1.1103678929765888,
          -1.0986622073578596,
          -1.0869565217391304,
          -1.0752508361204014,
          -1.0635451505016724,
          -1.0518394648829432,
          -1.040133779264214,
          -1.028428093645485,
          -1.016722408026756,
          -1.0050167224080269,
          -0.9933110367892977,
          -0.9816053511705687,
          -0.9698996655518395,
          -0.9581939799331105,
          -0.9464882943143813,
          -0.9347826086956523,
          -0.9230769230769231,
          -0.9113712374581941,
          -0.899665551839465,
          -0.887959866220736,
          -0.8762541806020068,
          -0.8645484949832776,
          -0.8528428093645486,
          -0.8411371237458194,
          -0.8294314381270904,
          -0.8177257525083612,
          -0.8060200668896322,
          -0.794314381270903,
          -0.7826086956521741,
          -0.7709030100334449,
          -0.7591973244147159,
          -0.7474916387959867,
          -0.7357859531772577,
          -0.7240802675585285,
          -0.7123745819397995,
          -0.7006688963210703,
          -0.6889632107023411,
          -0.6772575250836121,
          -0.6655518394648829,
          -0.653846153846154,
          -0.6421404682274248,
          -0.6304347826086958,
          -0.6187290969899666,
          -0.6070234113712376,
          -0.5953177257525084,
          -0.5836120401337794,
          -0.5719063545150502,
          -0.5602006688963213,
          -0.548494983277592,
          -0.5367892976588631,
          -0.5250836120401339,
          -0.5133779264214049,
          -0.5016722408026757,
          -0.4899665551839465,
          -0.4782608695652175,
          -0.4665551839464883,
          -0.45484949832775934,
          -0.44314381270903014,
          -0.43143812709030116,
          -0.41973244147157196,
          -0.408026755852843,
          -0.3963210702341138,
          -0.3846153846153848,
          -0.3729096989966556,
          -0.3612040133779266,
          -0.3494983277591974,
          -0.33779264214046845,
          -0.32608695652173925,
          -0.31438127090301027,
          -0.30267558528428107,
          -0.29096989966555187,
          -0.2792642140468229,
          -0.2675585284280937,
          -0.2558528428093647,
          -0.2441471571906355,
          -0.23244147157190653,
          -0.22073578595317733,
          -0.20903010033444835,
          -0.19732441471571915,
          -0.18561872909699018,
          -0.17391304347826098,
          -0.162207357859532,
          -0.1505016722408028,
          -0.13879598662207382,
          -0.12709030100334462,
          -0.11538461538461542,
          -0.10367892976588644,
          -0.09197324414715724,
          -0.08026755852842826,
          -0.06856187290969906,
          -0.056856187290970084,
          -0.045150501672240884,
          -0.033444816053511905,
          -0.021739130434782705,
          -0.010033444816053727,
          0.001672240802675251,
          0.013377926421404673,
          0.02508361204013365,
          0.03678929765886263,
          0.04849498327759161,
          0.06020066889632103,
          0.07190635451505001,
          0.08361204013377899,
          0.09531772575250841,
          0.10702341137123739,
          0.11872909698996637,
          0.13043478260869534,
          0.14214046822742477,
          0.15384615384615374,
          0.16555183946488272,
          0.1772575250836117,
          0.18896321070234112,
          0.2006688963210701,
          0.21237458193979908,
          0.22408026755852806,
          0.23578595317725748,
          0.24749163879598646,
          0.25919732441471544,
          0.27090301003344486,
          0.28260869565217384,
          0.2943143812709028,
          0.3060200668896318,
          0.3177257525083612,
          0.3294314381270902,
          0.34113712374581917,
          0.35284280936454815,
          0.36454849498327757,
          0.37625418060200655,
          0.3879598662207355,
          0.3996655518394645,
          0.41137123745819393,
          0.4230769230769229,
          0.4347826086956519,
          0.4464882943143813,
          0.4581939799331103,
          0.46989966555183926,
          0.48160535117056824,
          0.49331103678929766,
          0.5050167224080266,
          0.5167224080267556,
          0.5284280936454846,
          0.540133779264214,
          0.551839464882943,
          0.563545150501672,
          0.575250836120401,
          0.5869565217391304,
          0.5986622073578594,
          0.6103678929765883,
          0.6220735785953178,
          0.6337792642140467,
          0.6454849498327757,
          0.6571906354515047,
          0.6688963210702341,
          0.6806020066889631,
          0.6923076923076921,
          0.704013377926421,
          0.7157190635451505,
          0.7274247491638794,
          0.7391304347826084,
          0.7508361204013374,
          0.7625418060200668,
          0.7742474916387958,
          0.7859531772575248,
          0.7976588628762538,
          0.8093645484949832,
          0.8210702341137122,
          0.8327759197324411,
          0.8444816053511706,
          0.8561872909698995,
          0.8678929765886285,
          0.8795986622073575,
          0.8913043478260869,
          0.9030100334448159,
          0.9147157190635449,
          0.9264214046822739,
          0.9381270903010033,
          0.9498327759197323,
          0.9615384615384612,
          0.9732441471571902,
          0.9849498327759196,
          0.9966555183946486,
          1.0083612040133776,
          1.020066889632107,
          1.031772575250836,
          1.043478260869565,
          1.055183946488294,
          1.0668896321070234,
          1.0785953177257523,
          1.0903010033444813,
          1.1020066889632103,
          1.1137123745819397,
          1.1254180602006687,
          1.1371237458193977,
          1.1488294314381267,
          1.160535117056856,
          1.172240802675585,
          1.183946488294314,
          1.1956521739130435,
          1.2073578595317724,
          1.2190635451505014,
          1.2307692307692304,
          1.2424749163879598,
          1.2541806020066888,
          1.2658862876254178,
          1.2775919732441468,
          1.2892976588628762,
          1.3010033444816052,
          1.3127090301003341,
          1.324414715719063,
          1.3361204013377925,
          1.3478260869565215,
          1.3595317725752505,
          1.3712374581939795,
          1.3829431438127089,
          1.3946488294314379,
          1.4063545150501668,
          1.4180602006688963,
          1.4297658862876252,
          1.4414715719063542,
          1.4531772575250832,
          1.4648829431438126,
          1.4765886287625416,
          1.4882943143812706,
          1.5
         ],
         "y": [
          2.0071377754211426,
          2.0440903455517363,
          2.08104291568233,
          2.1179954858129246,
          2.1549480559435175,
          2.191900626074112,
          2.228853196204705,
          2.2658057663352995,
          2.3027583364658932,
          2.339710906596487,
          2.3766634767270807,
          2.4136160468576744,
          2.450568616988268,
          2.487521187118862,
          2.5244737572494564,
          2.5614263273800493,
          2.598378897510643,
          2.6353314676412367,
          2.6722840377718313,
          2.709236607902425,
          2.7461891780330188,
          2.7831417481636125,
          2.820094318294206,
          2.8570468884248,
          2.8939994585553936,
          2.9309520286859874,
          2.967904598816581,
          3.004857168947175,
          3.0418097390777694,
          3.078762309208363,
          3.115714879338957,
          3.1526674494695497,
          3.1896200196001443,
          3.226572589730738,
          3.2635251598613317,
          3.3004777299919255,
          3.337430300122519,
          3.374382870253113,
          3.4113354403837066,
          3.4482880105143012,
          3.485240580644894,
          3.5221931507754887,
          3.5591457209060815,
          3.596098291036676,
          3.63305086116727,
          3.6700034312978635,
          3.7069560014284573,
          3.743908571559051,
          3.7808611416896456,
          3.8178137118202384,
          3.854766281950832,
          3.891718852081426,
          3.9286714222120205,
          3.965623992342614,
          4.002576562473207,
          4.039529132603802,
          4.076481702734395,
          4.113434272864989,
          4.150386842995583,
          4.187339413126177,
          4.22429198325677,
          4.261244553387364,
          4.298197123517958,
          4.335149693648552,
          4.372102263779146,
          4.409054833909739,
          4.4460074040403335,
          4.482959974170927,
          4.519912544301521,
          4.556865114432114,
          4.593817684562708,
          4.630770254693303,
          4.667722824823896,
          4.70467539495449,
          4.741627965085084,
          4.778580535215678,
          4.815533105346271,
          4.852485675476865,
          4.889438245607459,
          4.926390815738053,
          4.9633433858686455,
          5.00029595599924,
          5.037248526129835,
          5.074201096260428,
          5.111153666391021,
          5.148106236521615,
          5.18505880665221,
          5.2220113767828025,
          5.258963946913397,
          5.29591651704399,
          5.3328690871745845,
          5.369821657305177,
          5.406774227435772,
          5.443726797566366,
          5.480679367696959,
          5.517631937827553,
          5.554584507958147,
          5.5915370780887415,
          5.628489648219334,
          5.665442218349929,
          5.702394788480522,
          5.739347358611116,
          5.77629992874171,
          5.813252498872304,
          5.8502050690028975,
          5.887157639133491,
          5.924110209264085,
          5.961062779394679,
          5.998015349525272,
          6.034967919655866,
          6.071920489786461,
          6.1088730599170535,
          6.145825630047648,
          6.182778200178242,
          6.219730770308836,
          6.256683340439429,
          6.293635910570023,
          6.330588480700617,
          6.3675410508312105,
          6.404493620961804,
          6.441446191092399,
          6.478398761222992,
          6.515351331353586,
          6.55230390148418,
          6.589256471614774,
          6.626209041745367,
          6.663161611875961,
          6.700114182006555,
          6.737066752137149,
          6.774019322267743,
          6.810971892398336,
          6.847924462528931,
          6.884877032659524,
          6.921829602790118,
          6.958782172920712,
          6.9957347430513055,
          7.032687313181899,
          7.069639883312493,
          7.106592453443087,
          7.14354502357368,
          7.180497593704274,
          7.217450163834869,
          7.2544027339654615,
          7.291355304096056,
          7.328307874226649,
          7.365260444357244,
          7.402213014487837,
          7.439165584618431,
          7.476118154749025,
          7.5130707248796185,
          7.550023295010212,
          7.586975865140806,
          7.6239284352714005,
          7.660881005401993,
          7.697833575532588,
          7.734786145663181,
          7.771738715793775,
          7.808691285924368,
          7.845643856054963,
          7.882596426185556,
          7.91954899631615,
          7.956501566446744,
          7.993454136577338,
          8.030406706707932,
          8.067359276838525,
          8.10431184696912,
          8.141264417099713,
          8.178216987230307,
          8.2151695573609,
          8.252122127491495,
          8.289074697622087,
          8.326027267752682,
          8.362979837883277,
          8.39993240801387,
          8.436884978144462,
          8.473837548275057,
          8.510790118405652,
          8.547742688536244,
          8.584695258666839,
          8.621647828797434,
          8.658600398928026,
          8.69555296905862,
          8.732505539189214,
          8.769458109319809,
          8.806410679450401,
          8.843363249580994,
          8.880315819711589,
          8.917268389842183,
          8.954220959972776,
          8.99117353010337,
          9.028126100233964,
          9.065078670364558,
          9.102031240495151,
          9.138983810625746,
          9.17593638075634,
          9.212888950886933,
          9.249841521017526,
          9.28679409114812,
          9.323746661278715,
          9.360699231409308,
          9.397651801539903,
          9.434604371670495,
          9.47155694180109,
          9.508509511931683,
          9.545462082062278,
          9.58241465219287,
          9.619367222323465,
          9.65631979245406,
          9.693272362584652,
          9.730224932715247,
          9.76717750284584,
          9.804130072976434,
          9.841082643107027,
          9.878035213237622,
          9.914987783368215,
          9.95194035349881,
          9.988892923629402,
          10.025845493759997,
          10.062798063890591,
          10.099750634021184,
          10.136703204151777,
          10.173655774282372,
          10.210608344412966,
          10.247560914543559,
          10.284513484674154,
          10.321466054804748,
          10.358418624935341,
          10.395371195065934,
          10.432323765196529,
          10.469276335327123,
          10.506228905457716,
          10.543181475588309,
          10.580134045718903,
          10.617086615849498,
          10.654039185980091,
          10.690991756110684,
          10.727944326241278,
          10.764896896371873,
          10.801849466502466,
          10.838802036633059,
          10.875754606763655,
          10.912707176894248,
          10.94965974702484,
          10.986612317155437,
          11.02356488728603,
          11.060517457416623,
          11.097470027547217,
          11.134422597677812,
          11.171375167808405,
          11.208327737938998,
          11.245280308069592,
          11.282232878200187,
          11.31918544833078,
          11.356138018461372,
          11.393090588591967,
          11.430043158722562,
          11.466995728853155,
          11.503948298983747,
          11.540900869114344,
          11.577853439244937,
          11.61480600937553,
          11.651758579506124,
          11.688711149636719,
          11.725663719767311,
          11.762616289897906,
          11.799568860028499,
          11.836521430159094,
          11.873474000289686,
          11.910426570420281,
          11.947379140550874,
          11.984331710681468,
          12.021284280812061,
          12.058236850942656,
          12.09518942107325,
          12.132141991203843,
          12.169094561334436,
          12.20604713146503,
          12.242999701595625,
          12.279952271726218,
          12.316904841856811,
          12.353857411987406,
          12.390809982118,
          12.427762552248595,
          12.464715122379186,
          12.50166769250978,
          12.538620262640375,
          12.57557283277097,
          12.612525402901563,
          12.649477973032155,
          12.68643054316275,
          12.723383113293345,
          12.760335683423937,
          12.797288253554532,
          12.834240823685125,
          12.87119339381572,
          12.908145963946312,
          12.945098534076907,
          12.9820511042075,
          13.019003674338094,
          13.055956244468689
         ],
         "type": "scatter"
        }
       ],
       "layout": {
        "template": {
         "data": {
          "histogram2dcontour": [
           {
            "type": "histogram2dcontour",
            "colorbar": {
             "outlinewidth": 0,
             "ticks": ""
            },
            "colorscale": [
             [
              0.0,
              "#0d0887"
             ],
             [
              0.1111111111111111,
              "#46039f"
             ],
             [
              0.2222222222222222,
              "#7201a8"
             ],
             [
              0.3333333333333333,
              "#9c179e"
             ],
             [
              0.4444444444444444,
              "#bd3786"
             ],
             [
              0.5555555555555556,
              "#d8576b"
             ],
             [
              0.6666666666666666,
              "#ed7953"
             ],
             [
              0.7777777777777778,
              "#fb9f3a"
             ],
             [
              0.8888888888888888,
              "#fdca26"
             ],
             [
              1.0,
              "#f0f921"
             ]
            ]
           }
          ],
          "choropleth": [
           {
            "type": "choropleth",
            "colorbar": {
             "outlinewidth": 0,
             "ticks": ""
            }
           }
          ],
          "histogram2d": [
           {
            "type": "histogram2d",
            "colorbar": {
             "outlinewidth": 0,
             "ticks": ""
            },
            "colorscale": [
             [
              0.0,
              "#0d0887"
             ],
             [
              0.1111111111111111,
              "#46039f"
             ],
             [
              0.2222222222222222,
              "#7201a8"
             ],
             [
              0.3333333333333333,
              "#9c179e"
             ],
             [
              0.4444444444444444,
              "#bd3786"
             ],
             [
              0.5555555555555556,
              "#d8576b"
             ],
             [
              0.6666666666666666,
              "#ed7953"
             ],
             [
              0.7777777777777778,
              "#fb9f3a"
             ],
             [
              0.8888888888888888,
              "#fdca26"
             ],
             [
              1.0,
              "#f0f921"
             ]
            ]
           }
          ],
          "heatmap": [
           {
            "type": "heatmap",
            "colorbar": {
             "outlinewidth": 0,
             "ticks": ""
            },
            "colorscale": [
             [
              0.0,
              "#0d0887"
             ],
             [
              0.1111111111111111,
              "#46039f"
             ],
             [
              0.2222222222222222,
              "#7201a8"
             ],
             [
              0.3333333333333333,
              "#9c179e"
             ],
             [
              0.4444444444444444,
              "#bd3786"
             ],
             [
              0.5555555555555556,
              "#d8576b"
             ],
             [
              0.6666666666666666,
              "#ed7953"
             ],
             [
              0.7777777777777778,
              "#fb9f3a"
             ],
             [
              0.8888888888888888,
              "#fdca26"
             ],
             [
              1.0,
              "#f0f921"
             ]
            ]
           }
          ],
          "heatmapgl": [
           {
            "type": "heatmapgl",
            "colorbar": {
             "outlinewidth": 0,
             "ticks": ""
            },
            "colorscale": [
             [
              0.0,
              "#0d0887"
             ],
             [
              0.1111111111111111,
              "#46039f"
             ],
             [
              0.2222222222222222,
              "#7201a8"
             ],
             [
              0.3333333333333333,
              "#9c179e"
             ],
             [
              0.4444444444444444,
              "#bd3786"
             ],
             [
              0.5555555555555556,
              "#d8576b"
             ],
             [
              0.6666666666666666,
              "#ed7953"
             ],
             [
              0.7777777777777778,
              "#fb9f3a"
             ],
             [
              0.8888888888888888,
              "#fdca26"
             ],
             [
              1.0,
              "#f0f921"
             ]
            ]
           }
          ],
          "contourcarpet": [
           {
            "type": "contourcarpet",
            "colorbar": {
             "outlinewidth": 0,
             "ticks": ""
            }
           }
          ],
          "contour": [
           {
            "type": "contour",
            "colorbar": {
             "outlinewidth": 0,
             "ticks": ""
            },
            "colorscale": [
             [
              0.0,
              "#0d0887"
             ],
             [
              0.1111111111111111,
              "#46039f"
             ],
             [
              0.2222222222222222,
              "#7201a8"
             ],
             [
              0.3333333333333333,
              "#9c179e"
             ],
             [
              0.4444444444444444,
              "#bd3786"
             ],
             [
              0.5555555555555556,
              "#d8576b"
             ],
             [
              0.6666666666666666,
              "#ed7953"
             ],
             [
              0.7777777777777778,
              "#fb9f3a"
             ],
             [
              0.8888888888888888,
              "#fdca26"
             ],
             [
              1.0,
              "#f0f921"
             ]
            ]
           }
          ],
          "surface": [
           {
            "type": "surface",
            "colorbar": {
             "outlinewidth": 0,
             "ticks": ""
            },
            "colorscale": [
             [
              0.0,
              "#0d0887"
             ],
             [
              0.1111111111111111,
              "#46039f"
             ],
             [
              0.2222222222222222,
              "#7201a8"
             ],
             [
              0.3333333333333333,
              "#9c179e"
             ],
             [
              0.4444444444444444,
              "#bd3786"
             ],
             [
              0.5555555555555556,
              "#d8576b"
             ],
             [
              0.6666666666666666,
              "#ed7953"
             ],
             [
              0.7777777777777778,
              "#fb9f3a"
             ],
             [
              0.8888888888888888,
              "#fdca26"
             ],
             [
              1.0,
              "#f0f921"
             ]
            ]
           }
          ],
          "mesh3d": [
           {
            "type": "mesh3d",
            "colorbar": {
             "outlinewidth": 0,
             "ticks": ""
            }
           }
          ],
          "scatter": [
           {
            "fillpattern": {
             "fillmode": "overlay",
             "size": 10,
             "solidity": 0.2
            },
            "type": "scatter"
           }
          ],
          "parcoords": [
           {
            "type": "parcoords",
            "line": {
             "colorbar": {
              "outlinewidth": 0,
              "ticks": ""
             }
            }
           }
          ],
          "scatterpolargl": [
           {
            "type": "scatterpolargl",
            "marker": {
             "colorbar": {
              "outlinewidth": 0,
              "ticks": ""
             }
            }
           }
          ],
          "bar": [
           {
            "error_x": {
             "color": "#2a3f5f"
            },
            "error_y": {
             "color": "#2a3f5f"
            },
            "marker": {
             "line": {
              "color": "#E5ECF6",
              "width": 0.5
             },
             "pattern": {
              "fillmode": "overlay",
              "size": 10,
              "solidity": 0.2
             }
            },
            "type": "bar"
           }
          ],
          "scattergeo": [
           {
            "type": "scattergeo",
            "marker": {
             "colorbar": {
              "outlinewidth": 0,
              "ticks": ""
             }
            }
           }
          ],
          "scatterpolar": [
           {
            "type": "scatterpolar",
            "marker": {
             "colorbar": {
              "outlinewidth": 0,
              "ticks": ""
             }
            }
           }
          ],
          "histogram": [
           {
            "marker": {
             "pattern": {
              "fillmode": "overlay",
              "size": 10,
              "solidity": 0.2
             }
            },
            "type": "histogram"
           }
          ],
          "scattergl": [
           {
            "type": "scattergl",
            "marker": {
             "colorbar": {
              "outlinewidth": 0,
              "ticks": ""
             }
            }
           }
          ],
          "scatter3d": [
           {
            "type": "scatter3d",
            "line": {
             "colorbar": {
              "outlinewidth": 0,
              "ticks": ""
             }
            },
            "marker": {
             "colorbar": {
              "outlinewidth": 0,
              "ticks": ""
             }
            }
           }
          ],
          "scattermapbox": [
           {
            "type": "scattermapbox",
            "marker": {
             "colorbar": {
              "outlinewidth": 0,
              "ticks": ""
             }
            }
           }
          ],
          "scatterternary": [
           {
            "type": "scatterternary",
            "marker": {
             "colorbar": {
              "outlinewidth": 0,
              "ticks": ""
             }
            }
           }
          ],
          "scattercarpet": [
           {
            "type": "scattercarpet",
            "marker": {
             "colorbar": {
              "outlinewidth": 0,
              "ticks": ""
             }
            }
           }
          ],
          "carpet": [
           {
            "aaxis": {
             "endlinecolor": "#2a3f5f",
             "gridcolor": "white",
             "linecolor": "white",
             "minorgridcolor": "white",
             "startlinecolor": "#2a3f5f"
            },
            "baxis": {
             "endlinecolor": "#2a3f5f",
             "gridcolor": "white",
             "linecolor": "white",
             "minorgridcolor": "white",
             "startlinecolor": "#2a3f5f"
            },
            "type": "carpet"
           }
          ],
          "table": [
           {
            "cells": {
             "fill": {
              "color": "#EBF0F8"
             },
             "line": {
              "color": "white"
             }
            },
            "header": {
             "fill": {
              "color": "#C8D4E3"
             },
             "line": {
              "color": "white"
             }
            },
            "type": "table"
           }
          ],
          "barpolar": [
           {
            "marker": {
             "line": {
              "color": "#E5ECF6",
              "width": 0.5
             },
             "pattern": {
              "fillmode": "overlay",
              "size": 10,
              "solidity": 0.2
             }
            },
            "type": "barpolar"
           }
          ],
          "pie": [
           {
            "automargin": true,
            "type": "pie"
           }
          ]
         },
         "layout": {
          "autotypenumbers": "strict",
          "colorway": [
           "#636efa",
           "#EF553B",
           "#00cc96",
           "#ab63fa",
           "#FFA15A",
           "#19d3f3",
           "#FF6692",
           "#B6E880",
           "#FF97FF",
           "#FECB52"
          ],
          "font": {
           "color": "#2a3f5f"
          },
          "hovermode": "closest",
          "hoverlabel": {
           "align": "left"
          },
          "paper_bgcolor": "white",
          "plot_bgcolor": "#E5ECF6",
          "polar": {
           "bgcolor": "#E5ECF6",
           "angularaxis": {
            "gridcolor": "white",
            "linecolor": "white",
            "ticks": ""
           },
           "radialaxis": {
            "gridcolor": "white",
            "linecolor": "white",
            "ticks": ""
           }
          },
          "ternary": {
           "bgcolor": "#E5ECF6",
           "aaxis": {
            "gridcolor": "white",
            "linecolor": "white",
            "ticks": ""
           },
           "baxis": {
            "gridcolor": "white",
            "linecolor": "white",
            "ticks": ""
           },
           "caxis": {
            "gridcolor": "white",
            "linecolor": "white",
            "ticks": ""
           }
          },
          "coloraxis": {
           "colorbar": {
            "outlinewidth": 0,
            "ticks": ""
           }
          },
          "colorscale": {
           "sequential": [
            [
             0.0,
             "#0d0887"
            ],
            [
             0.1111111111111111,
             "#46039f"
            ],
            [
             0.2222222222222222,
             "#7201a8"
            ],
            [
             0.3333333333333333,
             "#9c179e"
            ],
            [
             0.4444444444444444,
             "#bd3786"
            ],
            [
             0.5555555555555556,
             "#d8576b"
            ],
            [
             0.6666666666666666,
             "#ed7953"
            ],
            [
             0.7777777777777778,
             "#fb9f3a"
            ],
            [
             0.8888888888888888,
             "#fdca26"
            ],
            [
             1.0,
             "#f0f921"
            ]
           ],
           "sequentialminus": [
            [
             0.0,
             "#0d0887"
            ],
            [
             0.1111111111111111,
             "#46039f"
            ],
            [
             0.2222222222222222,
             "#7201a8"
            ],
            [
             0.3333333333333333,
             "#9c179e"
            ],
            [
             0.4444444444444444,
             "#bd3786"
            ],
            [
             0.5555555555555556,
             "#d8576b"
            ],
            [
             0.6666666666666666,
             "#ed7953"
            ],
            [
             0.7777777777777778,
             "#fb9f3a"
            ],
            [
             0.8888888888888888,
             "#fdca26"
            ],
            [
             1.0,
             "#f0f921"
            ]
           ],
           "diverging": [
            [
             0,
             "#8e0152"
            ],
            [
             0.1,
             "#c51b7d"
            ],
            [
             0.2,
             "#de77ae"
            ],
            [
             0.3,
             "#f1b6da"
            ],
            [
             0.4,
             "#fde0ef"
            ],
            [
             0.5,
             "#f7f7f7"
            ],
            [
             0.6,
             "#e6f5d0"
            ],
            [
             0.7,
             "#b8e186"
            ],
            [
             0.8,
             "#7fbc41"
            ],
            [
             0.9,
             "#4d9221"
            ],
            [
             1,
             "#276419"
            ]
           ]
          },
          "xaxis": {
           "gridcolor": "white",
           "linecolor": "white",
           "ticks": "",
           "title": {
            "standoff": 15
           },
           "zerolinecolor": "white",
           "automargin": true,
           "zerolinewidth": 2
          },
          "yaxis": {
           "gridcolor": "white",
           "linecolor": "white",
           "ticks": "",
           "title": {
            "standoff": 15
           },
           "zerolinecolor": "white",
           "automargin": true,
           "zerolinewidth": 2
          },
          "scene": {
           "xaxis": {
            "backgroundcolor": "#E5ECF6",
            "gridcolor": "white",
            "linecolor": "white",
            "showbackground": true,
            "ticks": "",
            "zerolinecolor": "white",
            "gridwidth": 2
           },
           "yaxis": {
            "backgroundcolor": "#E5ECF6",
            "gridcolor": "white",
            "linecolor": "white",
            "showbackground": true,
            "ticks": "",
            "zerolinecolor": "white",
            "gridwidth": 2
           },
           "zaxis": {
            "backgroundcolor": "#E5ECF6",
            "gridcolor": "white",
            "linecolor": "white",
            "showbackground": true,
            "ticks": "",
            "zerolinecolor": "white",
            "gridwidth": 2
           }
          },
          "shapedefaults": {
           "line": {
            "color": "#2a3f5f"
           }
          },
          "annotationdefaults": {
           "arrowcolor": "#2a3f5f",
           "arrowhead": 0,
           "arrowwidth": 1
          },
          "geo": {
           "bgcolor": "white",
           "landcolor": "#E5ECF6",
           "subunitcolor": "white",
           "showland": true,
           "showlakes": true,
           "lakecolor": "white"
          },
          "title": {
           "x": 0.05
          },
          "mapbox": {
           "style": "light"
          }
         }
        }
       },
       "config": {
        "plotlyServerURL": "https://plot.ly"
       }
      },
      "text/html": "<div>                            <div id=\"cbe1f8df-4b16-41e3-8eeb-80e4ee7fb225\" class=\"plotly-graph-div\" style=\"height:525px; width:100%;\"></div>            <script type=\"text/javascript\">                require([\"plotly\"], function(Plotly) {                    window.PLOTLYENV=window.PLOTLYENV || {};                                    if (document.getElementById(\"cbe1f8df-4b16-41e3-8eeb-80e4ee7fb225\")) {                    Plotly.newPlot(                        \"cbe1f8df-4b16-41e3-8eeb-80e4ee7fb225\",                        [{\"mode\":\"markers\",\"name\":\"data\",\"x\":[-1.9803181606632987,-1.952558212756278,-1.9247982648492572,-1.8970383169422365,-1.869278369035216,-1.8415184211281952,-1.8137584732211744,-1.7859985253141537,-1.758238577407133,-1.7304786295001122,-1.7027186815930917,-1.674958733686071,-1.6471987857790502,-1.6194388378720295,-1.5916788899650087,-1.5639189420579882,-1.5361589941509675,-1.5083990462439467,-1.480639098336926,-1.4528791504299052,-1.4251192025228847,-1.397359254615864,-1.3695993067088432,-1.3418393588018225,-1.3140794108948017,-1.286319462987781,-1.2585595150807605,-1.2307995671737397,-1.203039619266719,-1.1752796713596982,-1.1475197234526775,-1.119759775545657,-1.0919998276386362,-1.0642398797316155,-1.0364799318245947,-1.008719983917574,-0.9809600360105534,-0.9532000881035326,-0.925440140196512,-0.8976801922894913,-0.8699202443824706,-0.8421602964754499,-0.8144003485684291,-0.7866404006614085,-0.7588804527543878,-0.731120504847367,-0.7033605569403464,-0.6756006090333256,-0.647840661126305,-0.6200807132192843,-0.5923207653122635,-0.5645608174052429,-0.5368008694982221,-0.5090409215912014,-0.48128097368418077,-0.45352102577716,-0.42576107787013934,-0.39800112996311865,-0.37024118205609796,-0.3424812341490772,-0.31472128624205653,-0.28696133833503584,-0.25920139042801515,-0.23144144252099444,-0.20368149461397372,-0.17592154670695304,-0.14816159879993232,-0.12040165089291163,-0.09264170298589093,-0.06488175507887023,-0.03712180717184953,-0.009361859264828826,0.018398088642191876,0.04615803654921258,0.07391798445623328,0.10167793236325398,0.12943788027027467,0.15719782817729538,0.18495777608431607,0.2127177239913368,0.24047767189835748,0.2682376198053782,0.2959975677123989,0.32375751561941957,0.3515174635264403,0.379277411433461,0.4070373593404817,0.4347973072475024,0.4625572551545231,0.4903172030615438,0.5180771509685645,0.5458370988755852,0.5735970467826059,0.6013569946896266,0.6291169425966473,0.656876890503668,0.6846368384106887,0.7123967863177094,0.7401567342247302,0.7679166821317508,0.7956766300387715,0.8234365779457922,0.8511965258528129,0.8789564737598337,0.9067164216668543,0.934476369573875,0.9622363174808958,0.9899962653879164,1.0177562132949372,1.045516161201958,1.0732761091089786,1.1010360570159992,1.12879600492302,1.1565559528300406,1.1843159007370614,1.2120758486440821,1.2398357965511027,1.2675957444581234,1.2953556923651441,1.3231156402721649,1.3508755881791856,1.3786355360862061,1.406395483993227,1.4341554319002476,1.4619153798072684,-0.31472128624205653,-0.28696133833503584,-0.25920139042801515,-0.23144144252099444,-0.20368149461397372,-0.17592154670695304,-0.14816159879993232,-0.12040165089291163,-0.09264170298589093,-0.06488175507887023,-0.03712180717184953,-0.009361859264828826,0.018398088642191876,0.04615803654921258,0.07391798445623328,0.10167793236325398,0.12943788027027467,0.15719782817729538,0.18495777608431607,0.2127177239913368,0.24047767189835748,0.2682376198053782,0.2959975677123989,0.32375751561941957,0.3515174635264403,0.379277411433461,0.4070373593404817,0.4347973072475024,0.4625572551545231,0.4903172030615438,0.5180771509685645,0.5458370988755852,0.5735970467826059,0.6013569946896266,0.6291169425966473,0.656876890503668,0.6846368384106887,0.7123967863177094,0.7401567342247302,0.7679166821317508,0.7956766300387715,0.8234365779457922,0.8511965258528129,0.8789564737598337,0.9067164216668543,0.934476369573875,0.9622363174808958,0.9899962653879164,1.0177562132949372,1.045516161201958,1.0732761091089786,1.1010360570159992,1.12879600492302,1.1565559528300406,1.1843159007370614,1.2120758486440821,1.2398357965511027,1.2675957444581234,1.2953556923651441,1.3231156402721649,1.3508755881791856,1.3786355360862061,1.406395483993227,1.4341554319002476,1.4619153798072684,0.7956766300387715,0.8234365779457922,0.8511965258528129,0.8789564737598337,0.9067164216668543,0.934476369573875,0.9622363174808958,0.9899962653879164,1.0177562132949372,1.045516161201958,1.0732761091089786,1.1010360570159992,1.12879600492302,1.1565559528300406,1.1843159007370614,1.2120758486440821,1.2398357965511027,1.2675957444581234,1.2953556923651441,1.3231156402721649,1.3508755881791856,1.3786355360862061,1.406395483993227,1.4341554319002476,1.4619153798072684,-1.9803181606632987,-1.952558212756278,-1.9247982648492572,-1.8970383169422365,-1.869278369035216,-1.8415184211281952,-1.8137584732211744,-1.7859985253141537,-1.758238577407133,-1.7304786295001122,-1.7027186815930917,-1.674958733686071,-1.6471987857790502,-1.6194388378720295,-1.5916788899650087,-1.5639189420579882,-1.5361589941509675,-1.5083990462439467,-1.480639098336926,-1.4528791504299052,-1.4251192025228847,-1.397359254615864,-1.3695993067088432,-1.3418393588018225,-1.3140794108948017,-1.286319462987781,-1.2585595150807605,-1.2307995671737397,-1.203039619266719,-1.1752796713596982,-1.1475197234526775,-1.119759775545657,-1.0919998276386362,-1.0642398797316155,-1.0364799318245947,-1.008719983917574,-0.9809600360105534,-0.9532000881035326,-0.925440140196512,-0.8976801922894913,-0.8699202443824706,-0.8421602964754499,-0.8144003485684291,-0.7866404006614085,-0.7588804527543878,-0.731120504847367,-0.7033605569403464,-0.7033605569403464,-0.6756006090333256,-0.647840661126305,-0.6200807132192843,-0.5923207653122635,-0.5645608174052429,-0.5368008694982221,-0.5090409215912014,-0.48128097368418077,-0.45352102577716,-0.42576107787013934,-0.39800112996311865,-0.37024118205609796,-0.3424812341490772,-0.31472128624205653,-0.28696133833503584,-0.25920139042801515,-0.23144144252099444,-0.20368149461397372,-0.17592154670695304,-0.14816159879993232,-0.12040165089291163,-0.09264170298589093,-0.06488175507887023,-0.03712180717184953,-0.009361859264828826,0.018398088642191876,0.04615803654921258,0.07391798445623328,0.10167793236325398,0.12943788027027467,0.15719782817729538,0.18495777608431607,0.2127177239913368,0.24047767189835748,0.2682376198053782,0.2959975677123989,0.32375751561941957,0.3515174635264403,0.379277411433461,0.4070373593404817,0.4347973072475024,0.4625572551545231,0.4903172030615438,0.5180771509685645,0.5458370988755852,0.5735970467826059,0.6013569946896266,0.6291169425966473,0.656876890503668,0.6846368384106887,0.7123967863177094,0.7401567342247302,0.7679166821317508,0.7956766300387715,0.8234365779457922,0.8511965258528129,0.8789564737598337,0.9067164216668543,0.934476369573875,0.9622363174808958,0.9899962653879164,1.0177562132949372,1.045516161201958,1.0732761091089786,1.1010360570159992,1.12879600492302,1.1565559528300406,1.1843159007370614,1.2120758486440821,1.2398357965511027,1.2675957444581234,1.2953556923651441,1.3231156402721649,1.3508755881791856,1.3786355360862061,1.406395483993227,1.4341554319002476,1.4619153798072684],\"y\":[1.0,1.1000000000000023,1.2000000000000002,1.2999999999999985,1.4000000000000008,1.4999999999999998,1.6000000000000019,1.699999999999999,1.8000000000000014,1.9000000000000001,2.0,2.099999999999999,2.2,2.2999999999999985,2.400000000000001,2.5,2.5999999999999996,2.6999999999999993,2.7999999999999994,2.9000000000000004,3.0,3.100000000000001,3.2,3.3,3.400000000000006,3.500000000000005,3.600000000000002,3.7000000000000033,3.8000000000000016,3.899999999999998,4.0,4.1000000000000005,4.200000000000003,4.3000000000000025,4.3999999999999995,4.499999999999999,4.600000000000001,4.6999999999999975,4.800000000000002,4.899999999999999,5.0,5.1000000000000005,5.199999999999999,5.299999999999999,5.3999999999999995,5.499999999999999,8.0,8.050000000000002,8.1,8.149999999999999,8.2,8.250000000000002,8.300000000000002,8.35,8.4,8.45,8.499999999999998,8.549999999999999,8.6,8.649999999999999,8.699999999999998,8.75,8.8,8.85,8.900000000000002,8.950000000000001,9.0,9.050000000000002,9.1,9.15,9.2,9.25,9.299999999999999,9.35,9.4,9.45,9.5,9.55,9.6,9.65,9.7,9.75,9.8,9.85,9.9,9.95,10.0,10.049999999999999,10.099999999999994,10.149999999999995,10.199999999999996,10.250000000000004,10.299999999999995,10.349999999999994,10.399999999999997,10.45,10.5,10.549999999999999,10.600000000000001,10.650000000000004,10.7,10.750000000000002,10.799999999999999,10.85,10.899999999999999,10.949999999999998,11.0,11.049999999999999,11.100000000000001,11.150000000000002,11.200000000000001,11.249999999999998,11.3,11.350000000000001,11.400000000000002,11.45,11.5,11.549999999999999,11.599999999999998,11.65,11.7,11.749999999999998,11.800000000000002,11.85,11.899999999999999,8.0,8.079999999999998,8.159999999999998,8.24,8.320000000000002,8.4,8.48,8.56,8.64,8.720000000000002,8.8,8.879999999999999,8.959999999999999,9.04,9.120000000000001,9.2,9.28,9.36,9.44,9.52,9.6,9.68,9.76,9.84,9.92,10.0,10.079999999999995,10.159999999999997,10.24,10.32,10.399999999999997,10.480000000000006,10.560000000000002,10.639999999999997,10.72,10.799999999999999,10.5,10.540000000000003,10.580000000000004,10.619999999999996,10.660000000000004,10.7,10.74,10.780000000000001,10.819999999999999,10.859999999999996,10.899999999999999,10.94,10.98,11.02,11.060000000000002,11.100000000000001,11.14,11.179999999999996,11.22,11.260000000000002,11.3,11.339999999999998,11.38,11.420000000000002,11.460000000000003,11.5,11.539999999999997,11.579999999999998,11.620000000000001,10.299999999999995,10.350000000000007,10.399999999999997,10.45,10.5,10.549999999999999,10.600000000000001,10.650000000000004,10.7,10.750000000000002,10.799999999999999,10.85,10.899999999999999,10.950000000000005,11.0,11.049999999999999,11.100000000000001,11.150000000000002,11.200000000000001,11.249999999999998,11.3,11.350000000000001,11.400000000000002,11.45,11.5,0.0,0.16000000000000006,0.3199999999999979,0.48000000000000476,0.6400000000000002,0.8000000000000015,0.9599999999999992,1.1200000000000025,1.2799999999999978,1.439999999999998,1.6000000000000019,1.7600000000000005,1.9199999999999986,2.0799999999999996,2.2399999999999998,2.400000000000001,2.5599999999999987,2.720000000000001,2.88,3.0399999999999996,3.2,3.3599999999999954,3.519999999999998,3.680000000000005,3.8400000000000043,4.0,4.159999999999998,4.32,4.48,4.640000000000001,4.800000000000002,4.959999999999998,5.120000000000002,5.28,5.4399999999999995,5.600000000000001,5.759999999999999,5.919999999999999,6.080000000000001,6.240000000000001,6.400000000000001,6.5600000000000005,6.719999999999995,6.88,7.040000000000005,7.199999999999996,7.360000000000002,8.2,8.250000000000002,8.299999999999997,8.35,8.4,8.45,8.499999999999998,8.549999999999999,8.6,8.649999999999999,8.699999999999998,8.75,8.799999999999999,8.85,8.899999999999999,8.950000000000001,9.0,9.049999999999999,9.1,9.149999999999999,9.2,9.25,9.299999999999999,9.35,9.399999999999999,9.45,9.5,9.549999999999999,9.6,9.649999999999999,9.7,9.75,9.799999999999999,9.85,9.899999999999999,9.95,10.0,10.049999999999999,10.099999999999994,10.149999999999995,10.199999999999996,10.250000000000004,10.299999999999995,10.349999999999994,10.399999999999997,10.45,10.5,10.549999999999999,10.600000000000001,10.649999999999995,10.7,10.750000000000002,10.799999999999999,10.85,10.899999999999999,10.949999999999998,11.0,11.049999999999999,11.100000000000001,11.149999999999995,11.200000000000001,11.249999999999998,11.3,11.350000000000001,11.399999999999997,11.45,11.5,11.549999999999999,11.599999999999998,11.65,11.7,11.749999999999998,11.799999999999999,11.85,11.899999999999999,11.950000000000001,12.0,12.049999999999999,12.100000000000001],\"type\":\"scatter\"},{\"mode\":\"lines\",\"name\":\"approximation\",\"x\":[-2.0,-1.9882943143812708,-1.9765886287625418,-1.9648829431438126,-1.9531772575250836,-1.9414715719063544,-1.9297658862876255,-1.9180602006688963,-1.9063545150501673,-1.894648829431438,-1.882943143812709,-1.87123745819398,-1.859531772575251,-1.8478260869565217,-1.8361204013377925,-1.8244147157190636,-1.8127090301003346,-1.8010033444816054,-1.7892976588628762,-1.7775919732441472,-1.765886287625418,-1.754180602006689,-1.7424749163879598,-1.7307692307692308,-1.7190635451505016,-1.7073578595317727,-1.6956521739130435,-1.6839464882943145,-1.6722408026755853,-1.660535117056856,-1.648829431438127,-1.6371237458193981,-1.625418060200669,-1.6137123745819397,-1.6020066889632107,-1.5903010033444818,-1.5785953177257526,-1.5668896321070234,-1.5551839464882944,-1.5434782608695652,-1.5317725752508362,-1.520066889632107,-1.508361204013378,-1.4966555183946488,-1.4849498327759196,-1.4732441471571907,-1.4615384615384617,-1.4498327759197325,-1.4381270903010033,-1.4264214046822743,-1.4147157190635453,-1.4030100334448161,-1.391304347826087,-1.379598662207358,-1.367892976588629,-1.3561872909698998,-1.3444816053511706,-1.3327759197324416,-1.3210702341137124,-1.3093645484949832,-1.2976588628762542,-1.2859531772575252,-1.274247491638796,-1.2625418060200668,-1.2508361204013378,-1.2391304347826089,-1.2274247491638797,-1.2157190635451505,-1.2040133779264215,-1.1923076923076925,-1.1806020066889633,-1.1688963210702341,-1.1571906354515051,-1.145484949832776,-1.1337792642140467,-1.1220735785953178,-1.1103678929765888,-1.0986622073578596,-1.0869565217391304,-1.0752508361204014,-1.0635451505016724,-1.0518394648829432,-1.040133779264214,-1.028428093645485,-1.016722408026756,-1.0050167224080269,-0.9933110367892977,-0.9816053511705687,-0.9698996655518395,-0.9581939799331105,-0.9464882943143813,-0.9347826086956523,-0.9230769230769231,-0.9113712374581941,-0.899665551839465,-0.887959866220736,-0.8762541806020068,-0.8645484949832776,-0.8528428093645486,-0.8411371237458194,-0.8294314381270904,-0.8177257525083612,-0.8060200668896322,-0.794314381270903,-0.7826086956521741,-0.7709030100334449,-0.7591973244147159,-0.7474916387959867,-0.7357859531772577,-0.7240802675585285,-0.7123745819397995,-0.7006688963210703,-0.6889632107023411,-0.6772575250836121,-0.6655518394648829,-0.653846153846154,-0.6421404682274248,-0.6304347826086958,-0.6187290969899666,-0.6070234113712376,-0.5953177257525084,-0.5836120401337794,-0.5719063545150502,-0.5602006688963213,-0.548494983277592,-0.5367892976588631,-0.5250836120401339,-0.5133779264214049,-0.5016722408026757,-0.4899665551839465,-0.4782608695652175,-0.4665551839464883,-0.45484949832775934,-0.44314381270903014,-0.43143812709030116,-0.41973244147157196,-0.408026755852843,-0.3963210702341138,-0.3846153846153848,-0.3729096989966556,-0.3612040133779266,-0.3494983277591974,-0.33779264214046845,-0.32608695652173925,-0.31438127090301027,-0.30267558528428107,-0.29096989966555187,-0.2792642140468229,-0.2675585284280937,-0.2558528428093647,-0.2441471571906355,-0.23244147157190653,-0.22073578595317733,-0.20903010033444835,-0.19732441471571915,-0.18561872909699018,-0.17391304347826098,-0.162207357859532,-0.1505016722408028,-0.13879598662207382,-0.12709030100334462,-0.11538461538461542,-0.10367892976588644,-0.09197324414715724,-0.08026755852842826,-0.06856187290969906,-0.056856187290970084,-0.045150501672240884,-0.033444816053511905,-0.021739130434782705,-0.010033444816053727,0.001672240802675251,0.013377926421404673,0.02508361204013365,0.03678929765886263,0.04849498327759161,0.06020066889632103,0.07190635451505001,0.08361204013377899,0.09531772575250841,0.10702341137123739,0.11872909698996637,0.13043478260869534,0.14214046822742477,0.15384615384615374,0.16555183946488272,0.1772575250836117,0.18896321070234112,0.2006688963210701,0.21237458193979908,0.22408026755852806,0.23578595317725748,0.24749163879598646,0.25919732441471544,0.27090301003344486,0.28260869565217384,0.2943143812709028,0.3060200668896318,0.3177257525083612,0.3294314381270902,0.34113712374581917,0.35284280936454815,0.36454849498327757,0.37625418060200655,0.3879598662207355,0.3996655518394645,0.41137123745819393,0.4230769230769229,0.4347826086956519,0.4464882943143813,0.4581939799331103,0.46989966555183926,0.48160535117056824,0.49331103678929766,0.5050167224080266,0.5167224080267556,0.5284280936454846,0.540133779264214,0.551839464882943,0.563545150501672,0.575250836120401,0.5869565217391304,0.5986622073578594,0.6103678929765883,0.6220735785953178,0.6337792642140467,0.6454849498327757,0.6571906354515047,0.6688963210702341,0.6806020066889631,0.6923076923076921,0.704013377926421,0.7157190635451505,0.7274247491638794,0.7391304347826084,0.7508361204013374,0.7625418060200668,0.7742474916387958,0.7859531772575248,0.7976588628762538,0.8093645484949832,0.8210702341137122,0.8327759197324411,0.8444816053511706,0.8561872909698995,0.8678929765886285,0.8795986622073575,0.8913043478260869,0.9030100334448159,0.9147157190635449,0.9264214046822739,0.9381270903010033,0.9498327759197323,0.9615384615384612,0.9732441471571902,0.9849498327759196,0.9966555183946486,1.0083612040133776,1.020066889632107,1.031772575250836,1.043478260869565,1.055183946488294,1.0668896321070234,1.0785953177257523,1.0903010033444813,1.1020066889632103,1.1137123745819397,1.1254180602006687,1.1371237458193977,1.1488294314381267,1.160535117056856,1.172240802675585,1.183946488294314,1.1956521739130435,1.2073578595317724,1.2190635451505014,1.2307692307692304,1.2424749163879598,1.2541806020066888,1.2658862876254178,1.2775919732441468,1.2892976588628762,1.3010033444816052,1.3127090301003341,1.324414715719063,1.3361204013377925,1.3478260869565215,1.3595317725752505,1.3712374581939795,1.3829431438127089,1.3946488294314379,1.4063545150501668,1.4180602006688963,1.4297658862876252,1.4414715719063542,1.4531772575250832,1.4648829431438126,1.4765886287625416,1.4882943143812706,1.5],\"y\":[2.0071377754211426,2.0440903455517363,2.08104291568233,2.1179954858129246,2.1549480559435175,2.191900626074112,2.228853196204705,2.2658057663352995,2.3027583364658932,2.339710906596487,2.3766634767270807,2.4136160468576744,2.450568616988268,2.487521187118862,2.5244737572494564,2.5614263273800493,2.598378897510643,2.6353314676412367,2.6722840377718313,2.709236607902425,2.7461891780330188,2.7831417481636125,2.820094318294206,2.8570468884248,2.8939994585553936,2.9309520286859874,2.967904598816581,3.004857168947175,3.0418097390777694,3.078762309208363,3.115714879338957,3.1526674494695497,3.1896200196001443,3.226572589730738,3.2635251598613317,3.3004777299919255,3.337430300122519,3.374382870253113,3.4113354403837066,3.4482880105143012,3.485240580644894,3.5221931507754887,3.5591457209060815,3.596098291036676,3.63305086116727,3.6700034312978635,3.7069560014284573,3.743908571559051,3.7808611416896456,3.8178137118202384,3.854766281950832,3.891718852081426,3.9286714222120205,3.965623992342614,4.002576562473207,4.039529132603802,4.076481702734395,4.113434272864989,4.150386842995583,4.187339413126177,4.22429198325677,4.261244553387364,4.298197123517958,4.335149693648552,4.372102263779146,4.409054833909739,4.4460074040403335,4.482959974170927,4.519912544301521,4.556865114432114,4.593817684562708,4.630770254693303,4.667722824823896,4.70467539495449,4.741627965085084,4.778580535215678,4.815533105346271,4.852485675476865,4.889438245607459,4.926390815738053,4.9633433858686455,5.00029595599924,5.037248526129835,5.074201096260428,5.111153666391021,5.148106236521615,5.18505880665221,5.2220113767828025,5.258963946913397,5.29591651704399,5.3328690871745845,5.369821657305177,5.406774227435772,5.443726797566366,5.480679367696959,5.517631937827553,5.554584507958147,5.5915370780887415,5.628489648219334,5.665442218349929,5.702394788480522,5.739347358611116,5.77629992874171,5.813252498872304,5.8502050690028975,5.887157639133491,5.924110209264085,5.961062779394679,5.998015349525272,6.034967919655866,6.071920489786461,6.1088730599170535,6.145825630047648,6.182778200178242,6.219730770308836,6.256683340439429,6.293635910570023,6.330588480700617,6.3675410508312105,6.404493620961804,6.441446191092399,6.478398761222992,6.515351331353586,6.55230390148418,6.589256471614774,6.626209041745367,6.663161611875961,6.700114182006555,6.737066752137149,6.774019322267743,6.810971892398336,6.847924462528931,6.884877032659524,6.921829602790118,6.958782172920712,6.9957347430513055,7.032687313181899,7.069639883312493,7.106592453443087,7.14354502357368,7.180497593704274,7.217450163834869,7.2544027339654615,7.291355304096056,7.328307874226649,7.365260444357244,7.402213014487837,7.439165584618431,7.476118154749025,7.5130707248796185,7.550023295010212,7.586975865140806,7.6239284352714005,7.660881005401993,7.697833575532588,7.734786145663181,7.771738715793775,7.808691285924368,7.845643856054963,7.882596426185556,7.91954899631615,7.956501566446744,7.993454136577338,8.030406706707932,8.067359276838525,8.10431184696912,8.141264417099713,8.178216987230307,8.2151695573609,8.252122127491495,8.289074697622087,8.326027267752682,8.362979837883277,8.39993240801387,8.436884978144462,8.473837548275057,8.510790118405652,8.547742688536244,8.584695258666839,8.621647828797434,8.658600398928026,8.69555296905862,8.732505539189214,8.769458109319809,8.806410679450401,8.843363249580994,8.880315819711589,8.917268389842183,8.954220959972776,8.99117353010337,9.028126100233964,9.065078670364558,9.102031240495151,9.138983810625746,9.17593638075634,9.212888950886933,9.249841521017526,9.28679409114812,9.323746661278715,9.360699231409308,9.397651801539903,9.434604371670495,9.47155694180109,9.508509511931683,9.545462082062278,9.58241465219287,9.619367222323465,9.65631979245406,9.693272362584652,9.730224932715247,9.76717750284584,9.804130072976434,9.841082643107027,9.878035213237622,9.914987783368215,9.95194035349881,9.988892923629402,10.025845493759997,10.062798063890591,10.099750634021184,10.136703204151777,10.173655774282372,10.210608344412966,10.247560914543559,10.284513484674154,10.321466054804748,10.358418624935341,10.395371195065934,10.432323765196529,10.469276335327123,10.506228905457716,10.543181475588309,10.580134045718903,10.617086615849498,10.654039185980091,10.690991756110684,10.727944326241278,10.764896896371873,10.801849466502466,10.838802036633059,10.875754606763655,10.912707176894248,10.94965974702484,10.986612317155437,11.02356488728603,11.060517457416623,11.097470027547217,11.134422597677812,11.171375167808405,11.208327737938998,11.245280308069592,11.282232878200187,11.31918544833078,11.356138018461372,11.393090588591967,11.430043158722562,11.466995728853155,11.503948298983747,11.540900869114344,11.577853439244937,11.61480600937553,11.651758579506124,11.688711149636719,11.725663719767311,11.762616289897906,11.799568860028499,11.836521430159094,11.873474000289686,11.910426570420281,11.947379140550874,11.984331710681468,12.021284280812061,12.058236850942656,12.09518942107325,12.132141991203843,12.169094561334436,12.20604713146503,12.242999701595625,12.279952271726218,12.316904841856811,12.353857411987406,12.390809982118,12.427762552248595,12.464715122379186,12.50166769250978,12.538620262640375,12.57557283277097,12.612525402901563,12.649477973032155,12.68643054316275,12.723383113293345,12.760335683423937,12.797288253554532,12.834240823685125,12.87119339381572,12.908145963946312,12.945098534076907,12.9820511042075,13.019003674338094,13.055956244468689],\"type\":\"scatter\"}],                        {\"template\":{\"data\":{\"histogram2dcontour\":[{\"type\":\"histogram2dcontour\",\"colorbar\":{\"outlinewidth\":0,\"ticks\":\"\"},\"colorscale\":[[0.0,\"#0d0887\"],[0.1111111111111111,\"#46039f\"],[0.2222222222222222,\"#7201a8\"],[0.3333333333333333,\"#9c179e\"],[0.4444444444444444,\"#bd3786\"],[0.5555555555555556,\"#d8576b\"],[0.6666666666666666,\"#ed7953\"],[0.7777777777777778,\"#fb9f3a\"],[0.8888888888888888,\"#fdca26\"],[1.0,\"#f0f921\"]]}],\"choropleth\":[{\"type\":\"choropleth\",\"colorbar\":{\"outlinewidth\":0,\"ticks\":\"\"}}],\"histogram2d\":[{\"type\":\"histogram2d\",\"colorbar\":{\"outlinewidth\":0,\"ticks\":\"\"},\"colorscale\":[[0.0,\"#0d0887\"],[0.1111111111111111,\"#46039f\"],[0.2222222222222222,\"#7201a8\"],[0.3333333333333333,\"#9c179e\"],[0.4444444444444444,\"#bd3786\"],[0.5555555555555556,\"#d8576b\"],[0.6666666666666666,\"#ed7953\"],[0.7777777777777778,\"#fb9f3a\"],[0.8888888888888888,\"#fdca26\"],[1.0,\"#f0f921\"]]}],\"heatmap\":[{\"type\":\"heatmap\",\"colorbar\":{\"outlinewidth\":0,\"ticks\":\"\"},\"colorscale\":[[0.0,\"#0d0887\"],[0.1111111111111111,\"#46039f\"],[0.2222222222222222,\"#7201a8\"],[0.3333333333333333,\"#9c179e\"],[0.4444444444444444,\"#bd3786\"],[0.5555555555555556,\"#d8576b\"],[0.6666666666666666,\"#ed7953\"],[0.7777777777777778,\"#fb9f3a\"],[0.8888888888888888,\"#fdca26\"],[1.0,\"#f0f921\"]]}],\"heatmapgl\":[{\"type\":\"heatmapgl\",\"colorbar\":{\"outlinewidth\":0,\"ticks\":\"\"},\"colorscale\":[[0.0,\"#0d0887\"],[0.1111111111111111,\"#46039f\"],[0.2222222222222222,\"#7201a8\"],[0.3333333333333333,\"#9c179e\"],[0.4444444444444444,\"#bd3786\"],[0.5555555555555556,\"#d8576b\"],[0.6666666666666666,\"#ed7953\"],[0.7777777777777778,\"#fb9f3a\"],[0.8888888888888888,\"#fdca26\"],[1.0,\"#f0f921\"]]}],\"contourcarpet\":[{\"type\":\"contourcarpet\",\"colorbar\":{\"outlinewidth\":0,\"ticks\":\"\"}}],\"contour\":[{\"type\":\"contour\",\"colorbar\":{\"outlinewidth\":0,\"ticks\":\"\"},\"colorscale\":[[0.0,\"#0d0887\"],[0.1111111111111111,\"#46039f\"],[0.2222222222222222,\"#7201a8\"],[0.3333333333333333,\"#9c179e\"],[0.4444444444444444,\"#bd3786\"],[0.5555555555555556,\"#d8576b\"],[0.6666666666666666,\"#ed7953\"],[0.7777777777777778,\"#fb9f3a\"],[0.8888888888888888,\"#fdca26\"],[1.0,\"#f0f921\"]]}],\"surface\":[{\"type\":\"surface\",\"colorbar\":{\"outlinewidth\":0,\"ticks\":\"\"},\"colorscale\":[[0.0,\"#0d0887\"],[0.1111111111111111,\"#46039f\"],[0.2222222222222222,\"#7201a8\"],[0.3333333333333333,\"#9c179e\"],[0.4444444444444444,\"#bd3786\"],[0.5555555555555556,\"#d8576b\"],[0.6666666666666666,\"#ed7953\"],[0.7777777777777778,\"#fb9f3a\"],[0.8888888888888888,\"#fdca26\"],[1.0,\"#f0f921\"]]}],\"mesh3d\":[{\"type\":\"mesh3d\",\"colorbar\":{\"outlinewidth\":0,\"ticks\":\"\"}}],\"scatter\":[{\"fillpattern\":{\"fillmode\":\"overlay\",\"size\":10,\"solidity\":0.2},\"type\":\"scatter\"}],\"parcoords\":[{\"type\":\"parcoords\",\"line\":{\"colorbar\":{\"outlinewidth\":0,\"ticks\":\"\"}}}],\"scatterpolargl\":[{\"type\":\"scatterpolargl\",\"marker\":{\"colorbar\":{\"outlinewidth\":0,\"ticks\":\"\"}}}],\"bar\":[{\"error_x\":{\"color\":\"#2a3f5f\"},\"error_y\":{\"color\":\"#2a3f5f\"},\"marker\":{\"line\":{\"color\":\"#E5ECF6\",\"width\":0.5},\"pattern\":{\"fillmode\":\"overlay\",\"size\":10,\"solidity\":0.2}},\"type\":\"bar\"}],\"scattergeo\":[{\"type\":\"scattergeo\",\"marker\":{\"colorbar\":{\"outlinewidth\":0,\"ticks\":\"\"}}}],\"scatterpolar\":[{\"type\":\"scatterpolar\",\"marker\":{\"colorbar\":{\"outlinewidth\":0,\"ticks\":\"\"}}}],\"histogram\":[{\"marker\":{\"pattern\":{\"fillmode\":\"overlay\",\"size\":10,\"solidity\":0.2}},\"type\":\"histogram\"}],\"scattergl\":[{\"type\":\"scattergl\",\"marker\":{\"colorbar\":{\"outlinewidth\":0,\"ticks\":\"\"}}}],\"scatter3d\":[{\"type\":\"scatter3d\",\"line\":{\"colorbar\":{\"outlinewidth\":0,\"ticks\":\"\"}},\"marker\":{\"colorbar\":{\"outlinewidth\":0,\"ticks\":\"\"}}}],\"scattermapbox\":[{\"type\":\"scattermapbox\",\"marker\":{\"colorbar\":{\"outlinewidth\":0,\"ticks\":\"\"}}}],\"scatterternary\":[{\"type\":\"scatterternary\",\"marker\":{\"colorbar\":{\"outlinewidth\":0,\"ticks\":\"\"}}}],\"scattercarpet\":[{\"type\":\"scattercarpet\",\"marker\":{\"colorbar\":{\"outlinewidth\":0,\"ticks\":\"\"}}}],\"carpet\":[{\"aaxis\":{\"endlinecolor\":\"#2a3f5f\",\"gridcolor\":\"white\",\"linecolor\":\"white\",\"minorgridcolor\":\"white\",\"startlinecolor\":\"#2a3f5f\"},\"baxis\":{\"endlinecolor\":\"#2a3f5f\",\"gridcolor\":\"white\",\"linecolor\":\"white\",\"minorgridcolor\":\"white\",\"startlinecolor\":\"#2a3f5f\"},\"type\":\"carpet\"}],\"table\":[{\"cells\":{\"fill\":{\"color\":\"#EBF0F8\"},\"line\":{\"color\":\"white\"}},\"header\":{\"fill\":{\"color\":\"#C8D4E3\"},\"line\":{\"color\":\"white\"}},\"type\":\"table\"}],\"barpolar\":[{\"marker\":{\"line\":{\"color\":\"#E5ECF6\",\"width\":0.5},\"pattern\":{\"fillmode\":\"overlay\",\"size\":10,\"solidity\":0.2}},\"type\":\"barpolar\"}],\"pie\":[{\"automargin\":true,\"type\":\"pie\"}]},\"layout\":{\"autotypenumbers\":\"strict\",\"colorway\":[\"#636efa\",\"#EF553B\",\"#00cc96\",\"#ab63fa\",\"#FFA15A\",\"#19d3f3\",\"#FF6692\",\"#B6E880\",\"#FF97FF\",\"#FECB52\"],\"font\":{\"color\":\"#2a3f5f\"},\"hovermode\":\"closest\",\"hoverlabel\":{\"align\":\"left\"},\"paper_bgcolor\":\"white\",\"plot_bgcolor\":\"#E5ECF6\",\"polar\":{\"bgcolor\":\"#E5ECF6\",\"angularaxis\":{\"gridcolor\":\"white\",\"linecolor\":\"white\",\"ticks\":\"\"},\"radialaxis\":{\"gridcolor\":\"white\",\"linecolor\":\"white\",\"ticks\":\"\"}},\"ternary\":{\"bgcolor\":\"#E5ECF6\",\"aaxis\":{\"gridcolor\":\"white\",\"linecolor\":\"white\",\"ticks\":\"\"},\"baxis\":{\"gridcolor\":\"white\",\"linecolor\":\"white\",\"ticks\":\"\"},\"caxis\":{\"gridcolor\":\"white\",\"linecolor\":\"white\",\"ticks\":\"\"}},\"coloraxis\":{\"colorbar\":{\"outlinewidth\":0,\"ticks\":\"\"}},\"colorscale\":{\"sequential\":[[0.0,\"#0d0887\"],[0.1111111111111111,\"#46039f\"],[0.2222222222222222,\"#7201a8\"],[0.3333333333333333,\"#9c179e\"],[0.4444444444444444,\"#bd3786\"],[0.5555555555555556,\"#d8576b\"],[0.6666666666666666,\"#ed7953\"],[0.7777777777777778,\"#fb9f3a\"],[0.8888888888888888,\"#fdca26\"],[1.0,\"#f0f921\"]],\"sequentialminus\":[[0.0,\"#0d0887\"],[0.1111111111111111,\"#46039f\"],[0.2222222222222222,\"#7201a8\"],[0.3333333333333333,\"#9c179e\"],[0.4444444444444444,\"#bd3786\"],[0.5555555555555556,\"#d8576b\"],[0.6666666666666666,\"#ed7953\"],[0.7777777777777778,\"#fb9f3a\"],[0.8888888888888888,\"#fdca26\"],[1.0,\"#f0f921\"]],\"diverging\":[[0,\"#8e0152\"],[0.1,\"#c51b7d\"],[0.2,\"#de77ae\"],[0.3,\"#f1b6da\"],[0.4,\"#fde0ef\"],[0.5,\"#f7f7f7\"],[0.6,\"#e6f5d0\"],[0.7,\"#b8e186\"],[0.8,\"#7fbc41\"],[0.9,\"#4d9221\"],[1,\"#276419\"]]},\"xaxis\":{\"gridcolor\":\"white\",\"linecolor\":\"white\",\"ticks\":\"\",\"title\":{\"standoff\":15},\"zerolinecolor\":\"white\",\"automargin\":true,\"zerolinewidth\":2},\"yaxis\":{\"gridcolor\":\"white\",\"linecolor\":\"white\",\"ticks\":\"\",\"title\":{\"standoff\":15},\"zerolinecolor\":\"white\",\"automargin\":true,\"zerolinewidth\":2},\"scene\":{\"xaxis\":{\"backgroundcolor\":\"#E5ECF6\",\"gridcolor\":\"white\",\"linecolor\":\"white\",\"showbackground\":true,\"ticks\":\"\",\"zerolinecolor\":\"white\",\"gridwidth\":2},\"yaxis\":{\"backgroundcolor\":\"#E5ECF6\",\"gridcolor\":\"white\",\"linecolor\":\"white\",\"showbackground\":true,\"ticks\":\"\",\"zerolinecolor\":\"white\",\"gridwidth\":2},\"zaxis\":{\"backgroundcolor\":\"#E5ECF6\",\"gridcolor\":\"white\",\"linecolor\":\"white\",\"showbackground\":true,\"ticks\":\"\",\"zerolinecolor\":\"white\",\"gridwidth\":2}},\"shapedefaults\":{\"line\":{\"color\":\"#2a3f5f\"}},\"annotationdefaults\":{\"arrowcolor\":\"#2a3f5f\",\"arrowhead\":0,\"arrowwidth\":1},\"geo\":{\"bgcolor\":\"white\",\"landcolor\":\"#E5ECF6\",\"subunitcolor\":\"white\",\"showland\":true,\"showlakes\":true,\"lakecolor\":\"white\"},\"title\":{\"x\":0.05},\"mapbox\":{\"style\":\"light\"}}}},                        {\"responsive\": true}                    ).then(function(){\n                            \nvar gd = document.getElementById('cbe1f8df-4b16-41e3-8eeb-80e4ee7fb225');\nvar x = new MutationObserver(function (mutations, observer) {{\n        var display = window.getComputedStyle(gd).display;\n        if (!display || display === 'none') {{\n            console.log([gd, 'removed!']);\n            Plotly.purge(gd);\n            observer.disconnect();\n        }}\n}});\n\n// Listen for the removal of the full notebook cells\nvar notebookContainer = gd.closest('#notebook-container');\nif (notebookContainer) {{\n    x.observe(notebookContainer, {childList: true});\n}}\n\n// Listen for the clearing of the current output cell\nvar outputEl = gd.closest('.output');\nif (outputEl) {{\n    x.observe(outputEl, {childList: true});\n}}\n\n                        })                };                });            </script>        </div>"
     },
     "metadata": {},
     "output_type": "display_data"
    },
    {
     "data": {
      "application/vnd.plotly.v1+json": {
       "data": [
        {
         "mode": "markers",
         "x": [
          1900,
          1901,
          1902,
          1903,
          1904,
          1905,
          1906,
          1907,
          1908,
          1909,
          1910,
          1911,
          1912,
          1913,
          1914,
          1915,
          1916,
          1917,
          1918,
          1919,
          1920,
          1921,
          1922,
          1923,
          1924,
          1925,
          1926,
          1927,
          1928,
          1929,
          1930,
          1931,
          1932,
          1933,
          1934,
          1935,
          1936,
          1937,
          1938,
          1939,
          1940,
          1941,
          1942,
          1943,
          1944,
          1945,
          1946,
          1947,
          1948,
          1949,
          1950,
          1951,
          1952,
          1953,
          1954,
          1955,
          1956,
          1957,
          1958,
          1959,
          1960,
          1961,
          1962,
          1963,
          1964,
          1965,
          1966,
          1967,
          1968,
          1969,
          1970,
          1971,
          1972,
          1973,
          1974,
          1975,
          1976,
          1977,
          1978,
          1979,
          1980,
          1981,
          1982,
          1983,
          1984,
          1985,
          1986,
          1987,
          1988,
          1989,
          1990,
          1991,
          1992,
          1993,
          1994,
          1995,
          1996,
          1997,
          1998,
          1999,
          2000,
          2001,
          2002,
          2003,
          2004,
          2005,
          2006,
          2007,
          2008,
          2009,
          2010,
          2011,
          2012,
          2013,
          2014,
          2015,
          2016,
          2017,
          2018,
          2019,
          2020,
          2021,
          2022,
          2023,
          2024,
          1960,
          1961,
          1962,
          1963,
          1964,
          1965,
          1966,
          1967,
          1968,
          1969,
          1970,
          1971,
          1972,
          1973,
          1974,
          1975,
          1976,
          1977,
          1978,
          1979,
          1980,
          1981,
          1982,
          1983,
          1984,
          1985,
          1986,
          1987,
          1988,
          1989,
          1990,
          1991,
          1992,
          1993,
          1994,
          1995,
          1996,
          1997,
          1998,
          1999,
          2000,
          2001,
          2002,
          2003,
          2004,
          2005,
          2006,
          2007,
          2008,
          2009,
          2010,
          2011,
          2012,
          2013,
          2014,
          2015,
          2016,
          2017,
          2018,
          2019,
          2020,
          2021,
          2022,
          2023,
          2024,
          2000,
          2001,
          2002,
          2003,
          2004,
          2005,
          2006,
          2007,
          2008,
          2009,
          2010,
          2011,
          2012,
          2013,
          2014,
          2015,
          2016,
          2017,
          2018,
          2019,
          2020,
          2021,
          2022,
          2023,
          2024,
          1900,
          1901,
          1902,
          1903,
          1904,
          1905,
          1906,
          1907,
          1908,
          1909,
          1910,
          1911,
          1912,
          1913,
          1914,
          1915,
          1916,
          1917,
          1918,
          1919,
          1920,
          1921,
          1922,
          1923,
          1924,
          1925,
          1926,
          1927,
          1928,
          1929,
          1930,
          1931,
          1932,
          1933,
          1934,
          1935,
          1936,
          1937,
          1938,
          1939,
          1940,
          1941,
          1942,
          1943,
          1944,
          1945,
          1946,
          1946,
          1947,
          1948,
          1949,
          1950,
          1951,
          1952,
          1953,
          1954,
          1955,
          1956,
          1957,
          1958,
          1959,
          1960,
          1961,
          1962,
          1963,
          1964,
          1965,
          1966,
          1967,
          1968,
          1969,
          1970,
          1971,
          1972,
          1973,
          1974,
          1975,
          1976,
          1977,
          1978,
          1979,
          1980,
          1981,
          1982,
          1983,
          1984,
          1985,
          1986,
          1987,
          1988,
          1989,
          1990,
          1991,
          1992,
          1993,
          1994,
          1995,
          1996,
          1997,
          1998,
          1999,
          2000,
          2001,
          2002,
          2003,
          2004,
          2005,
          2006,
          2007,
          2008,
          2009,
          2010,
          2011,
          2012,
          2013,
          2014,
          2015,
          2016,
          2017,
          2018,
          2019,
          2020,
          2021,
          2022,
          2023,
          2024
         ],
         "y": [
          2.0,
          2.14354692507259,
          2.29739670999407,
          2.46228882668983,
          2.63901582154579,
          2.82842712474619,
          3.0314331330208,
          3.24900958542494,
          3.4822022531845,
          3.73213196614723,
          4.0,
          4.28709385014517,
          4.59479341998814,
          4.92457765337966,
          5.27803164309158,
          5.656854249492381,
          6.062866266041591,
          6.498019170849881,
          6.96440450636899,
          7.464263932294461,
          8.0,
          8.57418770029035,
          9.18958683997628,
          9.849155306759329,
          10.5560632861832,
          11.313708498984798,
          12.1257325320832,
          12.996038341699798,
          13.928809012738002,
          14.928527864588899,
          16.0,
          17.148375400580697,
          18.379173679952597,
          19.698310613518693,
          21.1121265723663,
          22.627416997969508,
          24.251465064166393,
          25.992076683399493,
          27.857618025476004,
          29.85705572917781,
          32.0,
          34.296750801161394,
          36.7583473599051,
          39.39662122703729,
          42.2242531447326,
          45.254833995939016,
          256.0,
          265.0278205033931,
          274.374006409291,
          284.04978484936805,
          294.0667788792408,
          304.437021440697,
          315.1729698162991,
          326.287520593731,
          337.79402515786103,
          349.70630572912506,
          362.0386719675119,
          374.8059381620798,
          388.0234410266618,
          401.707058123136,
          415.8732269343919,
          430.5389646099018,
          445.7218884076158,
          461.44023685674495,
          477.7128916668461,
          494.5594004095213,
          512.0,
          530.0556410067862,
          548.748012818582,
          568.0995696987368,
          588.1335577584816,
          608.8740428813932,
          630.3459396325967,
          652.575041187462,
          675.5880503157221,
          699.4126114582501,
          724.0773439350247,
          749.6118763241606,
          776.0468820533237,
          803.4141162462729,
          831.7464538687848,
          861.0779292198037,
          891.4437768152316,
          922.8804737134899,
          955.425783333691,
          989.1188008190413,
          1024.0,
          1060.1112820135697,
          1097.4960256371598,
          1136.1991393974695,
          1176.2671155169603,
          1217.7480857627893,
          1260.6918792651902,
          1305.1500823749193,
          1351.1761006314407,
          1398.8252229165003,
          1448.1546878700494,
          1499.2237526483193,
          1552.0937641066491,
          1606.82823249255,
          1663.4929077375696,
          1722.1558584396096,
          1782.8875536304608,
          1845.7609474269798,
          1910.8515666673798,
          1978.2376016380804,
          2048.0,
          2120.2225640271395,
          2194.9920512743306,
          2272.39827879495,
          2352.5342310339292,
          2435.49617152557,
          2521.38375853039,
          2610.3001647498513,
          2702.3522012628914,
          2797.6504458330005,
          2896.309375740099,
          2998.4475052966386,
          3104.1875282132905,
          3213.6564649850916,
          3326.985815475139,
          3444.3117168792105,
          3565.775107260931,
          3691.5218948539596,
          3821.7031333347595,
          256.0,
          270.59661838371306,
          286.025507346488,
          302.3341213259598,
          319.5726205188131,
          337.79402515786103,
          357.0543785857039,
          377.41291962652207,
          398.93226478617606,
          421.6786008409982,
          445.7218884076158,
          471.1360771199357,
          497.99933307508985,
          526.3942792479057,
          556.4082496133422,
          588.1335577584816,
          621.6677808102637,
          657.1140595522066,
          694.5814156532077,
          734.1850869841034,
          776.0468820533237,
          820.2955546517728,
          867.0671998592277,
          916.5056726302437,
          968.7630302470102,
          1024.0,
          1082.3864735348495,
          1144.1020293859506,
          1209.3364853038393,
          1278.2904820752508,
          1351.1761006314407,
          1428.2175143428208,
          1509.65167850609,
          1595.7290591447004,
          1686.7144033639904,
          1782.8875536304608,
          1448.1546878700494,
          1488.8678577360008,
          1530.7256306021807,
          1573.76018563892,
          1618.0046066962007,
          1663.4929077375696,
          1710.2600589893007,
          1758.342013824521,
          1807.7757364032593,
          1858.59923008954,
          1910.8515666673798,
          1964.5729163781407,
          2019.8045788024,
          2076.589014609979,
          2134.96987820262,
          2194.9920512743306,
          2256.7016773152995,
          2320.1461970857895,
          2385.3743850873984,
          2452.4363870595685,
          2521.38375853039,
          2592.2695044511297,
          2665.1481199450814,
          2740.0756322019606,
          2817.1096435502004,
          2896.309375740099,
          2977.7357154719907,
          3061.4512612043504,
          3147.5203712778516,
          1260.6918792651902,
          1305.1500823749304,
          1351.1761006314407,
          1398.8252229165003,
          1448.1546878700494,
          1499.2237526483193,
          1552.0937641066491,
          1606.82823249255,
          1663.4929077375696,
          1722.1558584396096,
          1782.8875536304608,
          1845.7609474269798,
          1910.8515666673798,
          1978.23760163809,
          2048.0,
          2120.2225640271395,
          2194.9920512743306,
          2272.39827879495,
          2352.5342310339292,
          2435.49617152557,
          2521.38375853039,
          2610.3001647498513,
          2702.3522012628914,
          2797.6504458330005,
          2896.309375740099,
          1.0,
          1.11728713807222,
          1.24833054890161,
          1.39474366635041,
          1.558329159321,
          1.74110112659225,
          1.94530989482457,
          2.17346972505212,
          2.42838976879009,
          2.71320865489534,
          3.0314331330208,
          3.38698124945011,
          3.78423058690238,
          4.22807216224552,
          4.723970645718121,
          5.27803164309158,
          5.897076869164399,
          6.58872813814059,
          7.3615012049990005,
          8.22491061324853,
          9.18958683997628,
          10.2674071805032,
          11.471641984126602,
          12.817118041433998,
          14.320401134847602,
          16.0,
          17.8765942091555,
          19.973288782425794,
          22.315898661606493,
          24.933266549136004,
          27.857618025476004,
          31.124958317193098,
          34.775515600833906,
          38.8542363006415,
          43.41133847832548,
          48.502930128332785,
          54.191699991201695,
          60.547689390438094,
          67.6491545959284,
          75.58353033149001,
          84.4485062894653,
          94.35322990663052,
          105.41965021024902,
          117.78401927998401,
          131.598569811977,
          147.03338943962004,
          164.27851488805197,
          294.0667788792408,
          304.437021440697,
          315.17296981629795,
          326.287520593731,
          337.79402515786103,
          349.70630572912506,
          362.0386719675119,
          374.8059381620798,
          388.0234410266618,
          401.707058123136,
          415.8732269343919,
          430.5389646099018,
          445.7218884076152,
          461.44023685674495,
          477.71289166684494,
          494.5594004095213,
          512.0,
          530.0556410067849,
          548.748012818582,
          568.0995696987361,
          588.1335577584816,
          608.8740428813932,
          630.3459396325967,
          652.575041187462,
          675.5880503157211,
          699.4126114582501,
          724.0773439350247,
          749.6118763241597,
          776.0468820533237,
          803.414116246272,
          831.7464538687848,
          861.0779292198037,
          891.4437768152304,
          922.8804737134899,
          955.4257833336899,
          989.1188008190413,
          1024.0,
          1060.1112820135697,
          1097.4960256371598,
          1136.1991393974695,
          1176.2671155169603,
          1217.7480857627893,
          1260.6918792651902,
          1305.1500823749193,
          1351.1761006314407,
          1398.8252229165003,
          1448.1546878700494,
          1499.2237526483193,
          1552.0937641066491,
          1606.8282324925399,
          1663.4929077375696,
          1722.1558584396096,
          1782.8875536304608,
          1845.7609474269798,
          1910.8515666673798,
          1978.2376016380804,
          2048.0,
          2120.2225640271395,
          2194.9920512743306,
          2272.398278794939,
          2352.5342310339292,
          2435.49617152557,
          2521.38375853039,
          2610.3001647498513,
          2702.3522012628814,
          2797.6504458330005,
          2896.309375740099,
          2998.4475052966386,
          3104.1875282132905,
          3213.6564649850916,
          3326.985815475139,
          3444.3117168792105,
          3565.7751072609217,
          3691.5218948539596,
          3821.7031333347595,
          3956.4752032761703,
          4096.0,
          4240.445128054279,
          4389.984102548661
         ],
         "type": "scatter"
        },
        {
         "mode": "lines",
         "name": "approximation",
         "x": [
          1899.290998693419,
          1899.7126740387018,
          1900.1343493839847,
          1900.5560247292676,
          1900.9777000745505,
          1901.3993754198336,
          1901.8210507651165,
          1902.2427261103994,
          1902.6644014556823,
          1903.0860768009652,
          1903.507752146248,
          1903.9294274915312,
          1904.351102836814,
          1904.772778182097,
          1905.19445352738,
          1905.6161288726628,
          1906.0378042179457,
          1906.4594795632288,
          1906.8811549085117,
          1907.3028302537946,
          1907.7245055990775,
          1908.1461809443604,
          1908.5678562896433,
          1908.9895316349262,
          1909.4112069802093,
          1909.8328823254922,
          1910.254557670775,
          1910.676233016058,
          1911.0979083613408,
          1911.519583706624,
          1911.9412590519069,
          1912.3629343971897,
          1912.7846097424726,
          1913.2062850877555,
          1913.6279604330384,
          1914.0496357783213,
          1914.4713111236044,
          1914.8929864688873,
          1915.3146618141702,
          1915.7363371594531,
          1916.158012504736,
          1916.579687850019,
          1917.001363195302,
          1917.423038540585,
          1917.8447138858678,
          1918.2663892311507,
          1918.6880645764336,
          1919.1097399217165,
          1919.5314152669996,
          1919.9530906122825,
          1920.3747659575654,
          1920.7964413028483,
          1921.2181166481312,
          1921.639791993414,
          1922.0614673386972,
          1922.48314268398,
          1922.904818029263,
          1923.3264933745459,
          1923.7481687198288,
          1924.1698440651116,
          1924.5915194103948,
          1925.0131947556777,
          1925.4348701009606,
          1925.8565454462434,
          1926.2782207915263,
          1926.6998961368092,
          1927.1215714820923,
          1927.5432468273752,
          1927.9649221726581,
          1928.386597517941,
          1928.808272863224,
          1929.2299482085068,
          1929.65162355379,
          1930.0732988990728,
          1930.4949742443557,
          1930.9166495896386,
          1931.3383249349215,
          1931.7600002802044,
          1932.1816756254875,
          1932.6033509707704,
          1933.0250263160533,
          1933.4467016613362,
          1933.868377006619,
          1934.290052351902,
          1934.7117276971849,
          1935.133403042468,
          1935.5550783877509,
          1935.9767537330338,
          1936.3984290783167,
          1936.8201044235996,
          1937.2417797688825,
          1937.6634551141656,
          1938.0851304594485,
          1938.5068058047314,
          1938.9284811500142,
          1939.3501564952971,
          1939.77183184058,
          1940.1935071858632,
          1940.615182531146,
          1941.036857876429,
          1941.4585332217118,
          1941.8802085669947,
          1942.3018839122776,
          1942.7235592575607,
          1943.1452346028436,
          1943.5669099481265,
          1943.9885852934094,
          1944.4102606386923,
          1944.8319359839752,
          1945.2536113292583,
          1945.6752866745412,
          1946.096962019824,
          1946.518637365107,
          1946.94031271039,
          1947.3619880556728,
          1947.783663400956,
          1948.2053387462388,
          1948.6270140915217,
          1949.0486894368046,
          1949.4703647820875,
          1949.8920401273704,
          1950.3137154726535,
          1950.7353908179364,
          1951.1570661632193,
          1951.5787415085022,
          1952.000416853785,
          1952.422092199068,
          1952.843767544351,
          1953.265442889634,
          1953.6871182349169,
          1954.1087935801997,
          1954.5304689254826,
          1954.9521442707655,
          1955.3738196160486,
          1955.7954949613315,
          1956.2171703066144,
          1956.6388456518973,
          1957.0605209971802,
          1957.482196342463,
          1957.903871687746,
          1958.3255470330291,
          1958.747222378312,
          1959.168897723595,
          1959.5905730688778,
          1960.0122484141607,
          1960.4339237594436,
          1960.8555991047267,
          1961.2772744500096,
          1961.6989497952925,
          1962.1206251405754,
          1962.5423004858583,
          1962.9639758311412,
          1963.3856511764243,
          1963.8073265217072,
          1964.22900186699,
          1964.650677212273,
          1965.0723525575559,
          1965.4940279028388,
          1965.9157032481219,
          1966.3373785934048,
          1966.7590539386877,
          1967.1807292839705,
          1967.6024046292534,
          1968.0240799745363,
          1968.4457553198195,
          1968.8674306651023,
          1969.2891060103852,
          1969.7107813556681,
          1970.132456700951,
          1970.554132046234,
          1970.975807391517,
          1971.3974827368,
          1971.8191580820828,
          1972.2408334273657,
          1972.6625087726486,
          1973.0841841179315,
          1973.5058594632146,
          1973.9275348084975,
          1974.3492101537804,
          1974.7708854990633,
          1975.1925608443462,
          1975.614236189629,
          1976.035911534912,
          1976.457586880195,
          1976.879262225478,
          1977.3009375707609,
          1977.7226129160438,
          1978.1442882613267,
          1978.5659636066098,
          1978.9876389518927,
          1979.4093142971756,
          1979.8309896424585,
          1980.2526649877414,
          1980.6743403330242,
          1981.0960156783074,
          1981.5176910235903,
          1981.9393663688732,
          1982.361041714156,
          1982.782717059439,
          1983.2043924047218,
          1983.6260677500047,
          1984.0477430952878,
          1984.4694184405707,
          1984.8910937858536,
          1985.3127691311365,
          1985.7344444764194,
          1986.1561198217023,
          1986.5777951669854,
          1986.9994705122683,
          1987.4211458575512,
          1987.842821202834,
          1988.264496548117,
          1988.6861718934,
          1989.107847238683,
          1989.529522583966,
          1989.9511979292488,
          1990.3728732745317,
          1990.7945486198146,
          1991.2162239650975,
          1991.6378993103806,
          1992.0595746556635,
          1992.4812500009464,
          1992.9029253462293,
          1993.3246006915122,
          1993.746276036795,
          1994.1679513820782,
          1994.589626727361,
          1995.011302072644,
          1995.4329774179268,
          1995.8546527632097,
          1996.2763281084926,
          1996.6980034537755,
          1997.1196787990586,
          1997.5413541443415,
          1997.9630294896244,
          1998.3847048349073,
          1998.8063801801902,
          1999.2280555254733,
          1999.6497308707562,
          2000.0714062160391,
          2000.493081561322,
          2000.914756906605,
          2001.3364322518878,
          2001.758107597171,
          2002.1797829424538,
          2002.6014582877367,
          2003.0231336330196,
          2003.4448089783025,
          2003.8664843235854,
          2004.2881596688683,
          2004.7098350141514,
          2005.1315103594343,
          2005.5531857047172,
          2005.97486105,
          2006.396536395283,
          2006.8182117405659,
          2007.239887085849,
          2007.6615624311319,
          2008.0832377764148,
          2008.5049131216977,
          2008.9265884669805,
          2009.3482638122634,
          2009.7699391575466,
          2010.1916145028295,
          2010.6132898481123,
          2011.0349651933952,
          2011.4566405386781,
          2011.878315883961,
          2012.2999912292441,
          2012.721666574527,
          2013.14334191981,
          2013.5650172650928,
          2013.9866926103757,
          2014.4083679556586,
          2014.8300433009417,
          2015.2517186462246,
          2015.6733939915075,
          2016.0950693367904,
          2016.5167446820733,
          2016.9384200273562,
          2017.360095372639,
          2017.7817707179222,
          2018.203446063205,
          2018.625121408488,
          2019.0467967537709,
          2019.4684720990538,
          2019.890147444337,
          2020.3118227896198,
          2020.7334981349027,
          2021.1551734801856,
          2021.5768488254685,
          2021.9985241707514,
          2022.4201995160345,
          2022.8418748613174,
          2023.2635502066003,
          2023.6852255518831,
          2024.106900897166,
          2024.528576242449,
          2024.9502515877318,
          2025.371926933015
         ],
         "y": [
          4.01983915255632,
          4.12413153161022,
          4.231129715527433,
          4.340903904834834,
          4.453526121370955,
          4.569070255538888,
          4.687612114785052,
          4.809229473335813,
          4.934002123224396,
          5.062011926641738,
          5.1933428696455035,
          5.328081117262577,
          5.466315070021135,
          5.608135421949434,
          5.753635220079324,
          5.902909925493537,
          6.05605747595687,
          6.21317835017221,
          6.374375633703714,
          6.539755086610284,
          6.709425212833792,
          6.883497331387509,
          7.062085649391489,
          7.245307337002813,
          7.433282604289857,
          7.6261347801010135,
          7.823990392979614,
          8.026979254178153,
          8.235234542826255,
          8.44889289330827,
          8.668094484907865,
          8.892983133778335,
          9.123706387299107,
          9.360415620880152,
          9.603266137278073,
          9.852417268488779,
          10.108032480283756,
          10.37027947945846,
          10.639330323863213,
          10.915361535288774,
          11.198554215280645,
          11.489094163958196,
          11.787172001916332,
          12.092983295290013,
          12.406728684063301,
          12.728614013707494,
          13.058850470234411,
          13.397654718753609,
          13.745249045624373,
          14.101861504295726,
          14.467726064930284,
          14.843082767909848,
          15.228177881323745,
          15.62326406254303,
          16.028600523986693,
          16.444453203188584,
          16.87109493727648,
          17.30880564197815,
          17.7578724952714,
          18.218590125798972,
          18.691260806171623,
          19.176194651286526,
          19.673709821790684,
          20.184132732823297,
          20.707798268173683,
          21.245049999995498,
          21.796240414221305,
          22.361731141825253,
          22.941893196085946,
          23.537107216004795,
          24.14776371603985,
          24.774263342318623,
          25.4170171354984,
          26.07644680044637,
          26.752984982916075,
          27.447075553402527,
          28.159173898361445,
          28.88974721898426,
          29.639274837724336,
          30.40824851277622,
          31.19717276071356,
          32.00656518749794,
          32.83695682807521,
          33.688892494782735,
          34.56293113479589,
          35.459646196847984,
          36.379626007464836,
          37.32347415696026,
          38.291809895446434,
          39.2852685391178,
          40.304501887076654,
          41.350178648972076,
          42.422984883734664,
          43.5236244496931,
          44.65281946636943,
          45.81131078825491,
          46.999858490877884,
          48.2192423694824,
          49.470262450644555,
          50.75373951716293,
          52.07051564656617,
          53.421454763592884,
          54.807443207004205,
          56.22939031110289,
          57.68822900233908,
          59.18491641139477,
          60.72043450114851,
          62.29579071093222,
          63.91201861750291,
          65.57017861316287,
          67.27135860147342,
          69.01667471101825,
          70.80727202768553,
          72.64432534594775,
          74.52903993963405,
          76.46265235269904,
          78.44643121050808,
          80.48167805217071,
          82.56972818446847,
          84.7119515579375,
          86.90975366568054,
          89.16457646549779,
          91.47789932594279,
          93.85123999692179,
          96.28615560547621,
          98.78424367739899,
          101.3471431853568,
          103.9765356242049,
          106.6741461142005,
          109.44174453283838,
          112.28114667605107,
          115.19421544953639,
          118.18286209099212,
          121.24904742406207,
          124.39478314481426,
          127.62213314159622,
          130.93321484913332,
          134.33020063775817,
          137.8153192386829,
          141.39085720624928,
          145.05916041811602,
          148.82263561436767,
          152.68375197655433,
          156.64504274769988,
          160.7091068943382,
          164.87861081167276,
          169.15629007297264,
          173.54495122435804,
          178.04747362614904,
          182.66681134198754,
          187.4059950769713,
          192.26813416607183,
          197.25641861414059,
          202.3741211888413,
          207.6245995678842,
          213.01129854196563,
          218.53775227486568,
          224.20758662217858,
          230.0245215102054,
          235.9923733765613,
          242.11505767410762,
          248.39659143984233,
          254.8410959304428,
          261.45279932618394,
          268.2360395050077,
          275.195266888567,
          282.335047362104,
          289.66006527008796,
          297.1751264895683,
          304.88516158326905,
          312.795229034483,
          320.910518565899,
          329.23635454452904,
          337.7781994749775,
          346.5416575833412,
          355.53247849408984,
          364.7565610023413,
          374.2199569440075,
          383.9288751663499,
          393.88968560154467,
          404.1089234459378,
          414.59329344772874,
          425.34967430589313,
          436.3851231832329,
          447.7068803365174,
          459.32237386675007,
          471.2392245926768,
          483.46525105073374,
          496.00847462471836,
          508.87712480854793,
          522.0796446055505,
          535.6246960678468,
          549.5211659794383,
          563.7781716867499,
          578.4050670804324,
          593.4114487323666,
          608.807162191887,
          624.6023084453558,
          640.8072505433252,
          657.4326203996416,
          674.489325766949,
          691.9885573931599,
          709.9417963636089,
          728.3608216336806,
          747.2577177568813,
          766.6448828133964,
          786.5350365443644,
          806.9412286971761,
          827.8768475872965,
          849.3556288822192,
          871.3916646133043,
          893.9994124214397,
          917.1937050425578,
          940.9897600392661,
          965.4031897849421,
          990.4500117068765,
          1016.1466587951517,
          1042.509990384185,
          1069.5573032139746,
          1097.3063427783366,
          1125.7753149675618,
          1154.982898013132,
          1184.9482547423333,
          1215.6910451508136,
          1247.23143930133,
          1279.590130557133,
          1312.788349158697,
          1346.8478761526894,
          1381.7910576823122,
          1417.640819648398,
          1454.4206827508874,
          1492.154777920547,
          1530.867862151049,
          1570.5853347418029,
          1611.3332539622074,
          1653.1383541482458,
          1696.0280632426343,
          1740.0305207900396,
          1785.17459639918,
          1831.4899086839155,
          1879.006844695746,
          1927.756579860462,
          1977.7710984320818,
          2029.0832144774145,
          2081.726593405053,
          2135.7357740529687,
          2191.14619134911,
          2247.9941995599297,
          2306.3170961420915,
          2366.153146212994,
          2427.5416076561596,
          2490.522756877963,
          2555.1379152326194,
          2621.429476132752,
          2689.440932863316,
          2759.2169071171347,
          2830.8031782707917,
          2904.246713420065,
          2979.5956981946065,
          3056.8995683720636,
          3136.2090423124864,
          3217.576154234149,
          3301.0542883527214,
          3386.698213906171,
          3474.5641210883687,
          3564.7096579149306,
          3657.1939680455866,
          3752.077729587758,
          3849.4231949069426,
          3949.2942314698853,
          4051.7563637474723,
          4156.876816204698,
          4264.724557406062,
          4375.370345265169,
          4488.88677346837,
          4605.348319102821,
          4724.831391520206,
          4847.4143824682,
          4973.177717522588,
          5102.203908853759,
          5234.577609362171,
          5370.385668218332,
          5509.717187843763,
          5652.663582370253,
          5799.318637615897,
          5949.778572617021,
          6104.142102756669,
          6262.510504530833,
          6424.9876819950605,
          6591.680234934938,
          6762.697528805211,
          6938.151766483475,
          7118.1580618854805,
          7302.834515490254,
          7492.30229182481,
          7686.685698959016,
          7886.1122700630485,
          8090.712847080659,
          8300.621666573456,
          8515.976447792202
         ],
         "type": "scatter"
        }
       ],
       "layout": {
        "template": {
         "data": {
          "histogram2dcontour": [
           {
            "type": "histogram2dcontour",
            "colorbar": {
             "outlinewidth": 0,
             "ticks": ""
            },
            "colorscale": [
             [
              0.0,
              "#0d0887"
             ],
             [
              0.1111111111111111,
              "#46039f"
             ],
             [
              0.2222222222222222,
              "#7201a8"
             ],
             [
              0.3333333333333333,
              "#9c179e"
             ],
             [
              0.4444444444444444,
              "#bd3786"
             ],
             [
              0.5555555555555556,
              "#d8576b"
             ],
             [
              0.6666666666666666,
              "#ed7953"
             ],
             [
              0.7777777777777778,
              "#fb9f3a"
             ],
             [
              0.8888888888888888,
              "#fdca26"
             ],
             [
              1.0,
              "#f0f921"
             ]
            ]
           }
          ],
          "choropleth": [
           {
            "type": "choropleth",
            "colorbar": {
             "outlinewidth": 0,
             "ticks": ""
            }
           }
          ],
          "histogram2d": [
           {
            "type": "histogram2d",
            "colorbar": {
             "outlinewidth": 0,
             "ticks": ""
            },
            "colorscale": [
             [
              0.0,
              "#0d0887"
             ],
             [
              0.1111111111111111,
              "#46039f"
             ],
             [
              0.2222222222222222,
              "#7201a8"
             ],
             [
              0.3333333333333333,
              "#9c179e"
             ],
             [
              0.4444444444444444,
              "#bd3786"
             ],
             [
              0.5555555555555556,
              "#d8576b"
             ],
             [
              0.6666666666666666,
              "#ed7953"
             ],
             [
              0.7777777777777778,
              "#fb9f3a"
             ],
             [
              0.8888888888888888,
              "#fdca26"
             ],
             [
              1.0,
              "#f0f921"
             ]
            ]
           }
          ],
          "heatmap": [
           {
            "type": "heatmap",
            "colorbar": {
             "outlinewidth": 0,
             "ticks": ""
            },
            "colorscale": [
             [
              0.0,
              "#0d0887"
             ],
             [
              0.1111111111111111,
              "#46039f"
             ],
             [
              0.2222222222222222,
              "#7201a8"
             ],
             [
              0.3333333333333333,
              "#9c179e"
             ],
             [
              0.4444444444444444,
              "#bd3786"
             ],
             [
              0.5555555555555556,
              "#d8576b"
             ],
             [
              0.6666666666666666,
              "#ed7953"
             ],
             [
              0.7777777777777778,
              "#fb9f3a"
             ],
             [
              0.8888888888888888,
              "#fdca26"
             ],
             [
              1.0,
              "#f0f921"
             ]
            ]
           }
          ],
          "heatmapgl": [
           {
            "type": "heatmapgl",
            "colorbar": {
             "outlinewidth": 0,
             "ticks": ""
            },
            "colorscale": [
             [
              0.0,
              "#0d0887"
             ],
             [
              0.1111111111111111,
              "#46039f"
             ],
             [
              0.2222222222222222,
              "#7201a8"
             ],
             [
              0.3333333333333333,
              "#9c179e"
             ],
             [
              0.4444444444444444,
              "#bd3786"
             ],
             [
              0.5555555555555556,
              "#d8576b"
             ],
             [
              0.6666666666666666,
              "#ed7953"
             ],
             [
              0.7777777777777778,
              "#fb9f3a"
             ],
             [
              0.8888888888888888,
              "#fdca26"
             ],
             [
              1.0,
              "#f0f921"
             ]
            ]
           }
          ],
          "contourcarpet": [
           {
            "type": "contourcarpet",
            "colorbar": {
             "outlinewidth": 0,
             "ticks": ""
            }
           }
          ],
          "contour": [
           {
            "type": "contour",
            "colorbar": {
             "outlinewidth": 0,
             "ticks": ""
            },
            "colorscale": [
             [
              0.0,
              "#0d0887"
             ],
             [
              0.1111111111111111,
              "#46039f"
             ],
             [
              0.2222222222222222,
              "#7201a8"
             ],
             [
              0.3333333333333333,
              "#9c179e"
             ],
             [
              0.4444444444444444,
              "#bd3786"
             ],
             [
              0.5555555555555556,
              "#d8576b"
             ],
             [
              0.6666666666666666,
              "#ed7953"
             ],
             [
              0.7777777777777778,
              "#fb9f3a"
             ],
             [
              0.8888888888888888,
              "#fdca26"
             ],
             [
              1.0,
              "#f0f921"
             ]
            ]
           }
          ],
          "surface": [
           {
            "type": "surface",
            "colorbar": {
             "outlinewidth": 0,
             "ticks": ""
            },
            "colorscale": [
             [
              0.0,
              "#0d0887"
             ],
             [
              0.1111111111111111,
              "#46039f"
             ],
             [
              0.2222222222222222,
              "#7201a8"
             ],
             [
              0.3333333333333333,
              "#9c179e"
             ],
             [
              0.4444444444444444,
              "#bd3786"
             ],
             [
              0.5555555555555556,
              "#d8576b"
             ],
             [
              0.6666666666666666,
              "#ed7953"
             ],
             [
              0.7777777777777778,
              "#fb9f3a"
             ],
             [
              0.8888888888888888,
              "#fdca26"
             ],
             [
              1.0,
              "#f0f921"
             ]
            ]
           }
          ],
          "mesh3d": [
           {
            "type": "mesh3d",
            "colorbar": {
             "outlinewidth": 0,
             "ticks": ""
            }
           }
          ],
          "scatter": [
           {
            "fillpattern": {
             "fillmode": "overlay",
             "size": 10,
             "solidity": 0.2
            },
            "type": "scatter"
           }
          ],
          "parcoords": [
           {
            "type": "parcoords",
            "line": {
             "colorbar": {
              "outlinewidth": 0,
              "ticks": ""
             }
            }
           }
          ],
          "scatterpolargl": [
           {
            "type": "scatterpolargl",
            "marker": {
             "colorbar": {
              "outlinewidth": 0,
              "ticks": ""
             }
            }
           }
          ],
          "bar": [
           {
            "error_x": {
             "color": "#2a3f5f"
            },
            "error_y": {
             "color": "#2a3f5f"
            },
            "marker": {
             "line": {
              "color": "#E5ECF6",
              "width": 0.5
             },
             "pattern": {
              "fillmode": "overlay",
              "size": 10,
              "solidity": 0.2
             }
            },
            "type": "bar"
           }
          ],
          "scattergeo": [
           {
            "type": "scattergeo",
            "marker": {
             "colorbar": {
              "outlinewidth": 0,
              "ticks": ""
             }
            }
           }
          ],
          "scatterpolar": [
           {
            "type": "scatterpolar",
            "marker": {
             "colorbar": {
              "outlinewidth": 0,
              "ticks": ""
             }
            }
           }
          ],
          "histogram": [
           {
            "marker": {
             "pattern": {
              "fillmode": "overlay",
              "size": 10,
              "solidity": 0.2
             }
            },
            "type": "histogram"
           }
          ],
          "scattergl": [
           {
            "type": "scattergl",
            "marker": {
             "colorbar": {
              "outlinewidth": 0,
              "ticks": ""
             }
            }
           }
          ],
          "scatter3d": [
           {
            "type": "scatter3d",
            "line": {
             "colorbar": {
              "outlinewidth": 0,
              "ticks": ""
             }
            },
            "marker": {
             "colorbar": {
              "outlinewidth": 0,
              "ticks": ""
             }
            }
           }
          ],
          "scattermapbox": [
           {
            "type": "scattermapbox",
            "marker": {
             "colorbar": {
              "outlinewidth": 0,
              "ticks": ""
             }
            }
           }
          ],
          "scatterternary": [
           {
            "type": "scatterternary",
            "marker": {
             "colorbar": {
              "outlinewidth": 0,
              "ticks": ""
             }
            }
           }
          ],
          "scattercarpet": [
           {
            "type": "scattercarpet",
            "marker": {
             "colorbar": {
              "outlinewidth": 0,
              "ticks": ""
             }
            }
           }
          ],
          "carpet": [
           {
            "aaxis": {
             "endlinecolor": "#2a3f5f",
             "gridcolor": "white",
             "linecolor": "white",
             "minorgridcolor": "white",
             "startlinecolor": "#2a3f5f"
            },
            "baxis": {
             "endlinecolor": "#2a3f5f",
             "gridcolor": "white",
             "linecolor": "white",
             "minorgridcolor": "white",
             "startlinecolor": "#2a3f5f"
            },
            "type": "carpet"
           }
          ],
          "table": [
           {
            "cells": {
             "fill": {
              "color": "#EBF0F8"
             },
             "line": {
              "color": "white"
             }
            },
            "header": {
             "fill": {
              "color": "#C8D4E3"
             },
             "line": {
              "color": "white"
             }
            },
            "type": "table"
           }
          ],
          "barpolar": [
           {
            "marker": {
             "line": {
              "color": "#E5ECF6",
              "width": 0.5
             },
             "pattern": {
              "fillmode": "overlay",
              "size": 10,
              "solidity": 0.2
             }
            },
            "type": "barpolar"
           }
          ],
          "pie": [
           {
            "automargin": true,
            "type": "pie"
           }
          ]
         },
         "layout": {
          "autotypenumbers": "strict",
          "colorway": [
           "#636efa",
           "#EF553B",
           "#00cc96",
           "#ab63fa",
           "#FFA15A",
           "#19d3f3",
           "#FF6692",
           "#B6E880",
           "#FF97FF",
           "#FECB52"
          ],
          "font": {
           "color": "#2a3f5f"
          },
          "hovermode": "closest",
          "hoverlabel": {
           "align": "left"
          },
          "paper_bgcolor": "white",
          "plot_bgcolor": "#E5ECF6",
          "polar": {
           "bgcolor": "#E5ECF6",
           "angularaxis": {
            "gridcolor": "white",
            "linecolor": "white",
            "ticks": ""
           },
           "radialaxis": {
            "gridcolor": "white",
            "linecolor": "white",
            "ticks": ""
           }
          },
          "ternary": {
           "bgcolor": "#E5ECF6",
           "aaxis": {
            "gridcolor": "white",
            "linecolor": "white",
            "ticks": ""
           },
           "baxis": {
            "gridcolor": "white",
            "linecolor": "white",
            "ticks": ""
           },
           "caxis": {
            "gridcolor": "white",
            "linecolor": "white",
            "ticks": ""
           }
          },
          "coloraxis": {
           "colorbar": {
            "outlinewidth": 0,
            "ticks": ""
           }
          },
          "colorscale": {
           "sequential": [
            [
             0.0,
             "#0d0887"
            ],
            [
             0.1111111111111111,
             "#46039f"
            ],
            [
             0.2222222222222222,
             "#7201a8"
            ],
            [
             0.3333333333333333,
             "#9c179e"
            ],
            [
             0.4444444444444444,
             "#bd3786"
            ],
            [
             0.5555555555555556,
             "#d8576b"
            ],
            [
             0.6666666666666666,
             "#ed7953"
            ],
            [
             0.7777777777777778,
             "#fb9f3a"
            ],
            [
             0.8888888888888888,
             "#fdca26"
            ],
            [
             1.0,
             "#f0f921"
            ]
           ],
           "sequentialminus": [
            [
             0.0,
             "#0d0887"
            ],
            [
             0.1111111111111111,
             "#46039f"
            ],
            [
             0.2222222222222222,
             "#7201a8"
            ],
            [
             0.3333333333333333,
             "#9c179e"
            ],
            [
             0.4444444444444444,
             "#bd3786"
            ],
            [
             0.5555555555555556,
             "#d8576b"
            ],
            [
             0.6666666666666666,
             "#ed7953"
            ],
            [
             0.7777777777777778,
             "#fb9f3a"
            ],
            [
             0.8888888888888888,
             "#fdca26"
            ],
            [
             1.0,
             "#f0f921"
            ]
           ],
           "diverging": [
            [
             0,
             "#8e0152"
            ],
            [
             0.1,
             "#c51b7d"
            ],
            [
             0.2,
             "#de77ae"
            ],
            [
             0.3,
             "#f1b6da"
            ],
            [
             0.4,
             "#fde0ef"
            ],
            [
             0.5,
             "#f7f7f7"
            ],
            [
             0.6,
             "#e6f5d0"
            ],
            [
             0.7,
             "#b8e186"
            ],
            [
             0.8,
             "#7fbc41"
            ],
            [
             0.9,
             "#4d9221"
            ],
            [
             1,
             "#276419"
            ]
           ]
          },
          "xaxis": {
           "gridcolor": "white",
           "linecolor": "white",
           "ticks": "",
           "title": {
            "standoff": 15
           },
           "zerolinecolor": "white",
           "automargin": true,
           "zerolinewidth": 2
          },
          "yaxis": {
           "gridcolor": "white",
           "linecolor": "white",
           "ticks": "",
           "title": {
            "standoff": 15
           },
           "zerolinecolor": "white",
           "automargin": true,
           "zerolinewidth": 2
          },
          "scene": {
           "xaxis": {
            "backgroundcolor": "#E5ECF6",
            "gridcolor": "white",
            "linecolor": "white",
            "showbackground": true,
            "ticks": "",
            "zerolinecolor": "white",
            "gridwidth": 2
           },
           "yaxis": {
            "backgroundcolor": "#E5ECF6",
            "gridcolor": "white",
            "linecolor": "white",
            "showbackground": true,
            "ticks": "",
            "zerolinecolor": "white",
            "gridwidth": 2
           },
           "zaxis": {
            "backgroundcolor": "#E5ECF6",
            "gridcolor": "white",
            "linecolor": "white",
            "showbackground": true,
            "ticks": "",
            "zerolinecolor": "white",
            "gridwidth": 2
           }
          },
          "shapedefaults": {
           "line": {
            "color": "#2a3f5f"
           }
          },
          "annotationdefaults": {
           "arrowcolor": "#2a3f5f",
           "arrowhead": 0,
           "arrowwidth": 1
          },
          "geo": {
           "bgcolor": "white",
           "landcolor": "#E5ECF6",
           "subunitcolor": "white",
           "showland": true,
           "showlakes": true,
           "lakecolor": "white"
          },
          "title": {
           "x": 0.05
          },
          "mapbox": {
           "style": "light"
          }
         }
        }
       },
       "config": {
        "plotlyServerURL": "https://plot.ly"
       }
      },
      "text/html": "<div>                            <div id=\"337a96bd-b918-4210-9a87-5b1fa8cd25f8\" class=\"plotly-graph-div\" style=\"height:525px; width:100%;\"></div>            <script type=\"text/javascript\">                require([\"plotly\"], function(Plotly) {                    window.PLOTLYENV=window.PLOTLYENV || {};                                    if (document.getElementById(\"337a96bd-b918-4210-9a87-5b1fa8cd25f8\")) {                    Plotly.newPlot(                        \"337a96bd-b918-4210-9a87-5b1fa8cd25f8\",                        [{\"mode\":\"markers\",\"x\":[1900,1901,1902,1903,1904,1905,1906,1907,1908,1909,1910,1911,1912,1913,1914,1915,1916,1917,1918,1919,1920,1921,1922,1923,1924,1925,1926,1927,1928,1929,1930,1931,1932,1933,1934,1935,1936,1937,1938,1939,1940,1941,1942,1943,1944,1945,1946,1947,1948,1949,1950,1951,1952,1953,1954,1955,1956,1957,1958,1959,1960,1961,1962,1963,1964,1965,1966,1967,1968,1969,1970,1971,1972,1973,1974,1975,1976,1977,1978,1979,1980,1981,1982,1983,1984,1985,1986,1987,1988,1989,1990,1991,1992,1993,1994,1995,1996,1997,1998,1999,2000,2001,2002,2003,2004,2005,2006,2007,2008,2009,2010,2011,2012,2013,2014,2015,2016,2017,2018,2019,2020,2021,2022,2023,2024,1960,1961,1962,1963,1964,1965,1966,1967,1968,1969,1970,1971,1972,1973,1974,1975,1976,1977,1978,1979,1980,1981,1982,1983,1984,1985,1986,1987,1988,1989,1990,1991,1992,1993,1994,1995,1996,1997,1998,1999,2000,2001,2002,2003,2004,2005,2006,2007,2008,2009,2010,2011,2012,2013,2014,2015,2016,2017,2018,2019,2020,2021,2022,2023,2024,2000,2001,2002,2003,2004,2005,2006,2007,2008,2009,2010,2011,2012,2013,2014,2015,2016,2017,2018,2019,2020,2021,2022,2023,2024,1900,1901,1902,1903,1904,1905,1906,1907,1908,1909,1910,1911,1912,1913,1914,1915,1916,1917,1918,1919,1920,1921,1922,1923,1924,1925,1926,1927,1928,1929,1930,1931,1932,1933,1934,1935,1936,1937,1938,1939,1940,1941,1942,1943,1944,1945,1946,1946,1947,1948,1949,1950,1951,1952,1953,1954,1955,1956,1957,1958,1959,1960,1961,1962,1963,1964,1965,1966,1967,1968,1969,1970,1971,1972,1973,1974,1975,1976,1977,1978,1979,1980,1981,1982,1983,1984,1985,1986,1987,1988,1989,1990,1991,1992,1993,1994,1995,1996,1997,1998,1999,2000,2001,2002,2003,2004,2005,2006,2007,2008,2009,2010,2011,2012,2013,2014,2015,2016,2017,2018,2019,2020,2021,2022,2023,2024],\"y\":[2.0,2.14354692507259,2.29739670999407,2.46228882668983,2.63901582154579,2.82842712474619,3.0314331330208,3.24900958542494,3.4822022531845,3.73213196614723,4.0,4.28709385014517,4.59479341998814,4.92457765337966,5.27803164309158,5.656854249492381,6.062866266041591,6.498019170849881,6.96440450636899,7.464263932294461,8.0,8.57418770029035,9.18958683997628,9.849155306759329,10.5560632861832,11.313708498984798,12.1257325320832,12.996038341699798,13.928809012738002,14.928527864588899,16.0,17.148375400580697,18.379173679952597,19.698310613518693,21.1121265723663,22.627416997969508,24.251465064166393,25.992076683399493,27.857618025476004,29.85705572917781,32.0,34.296750801161394,36.7583473599051,39.39662122703729,42.2242531447326,45.254833995939016,256.0,265.0278205033931,274.374006409291,284.04978484936805,294.0667788792408,304.437021440697,315.1729698162991,326.287520593731,337.79402515786103,349.70630572912506,362.0386719675119,374.8059381620798,388.0234410266618,401.707058123136,415.8732269343919,430.5389646099018,445.7218884076158,461.44023685674495,477.7128916668461,494.5594004095213,512.0,530.0556410067862,548.748012818582,568.0995696987368,588.1335577584816,608.8740428813932,630.3459396325967,652.575041187462,675.5880503157221,699.4126114582501,724.0773439350247,749.6118763241606,776.0468820533237,803.4141162462729,831.7464538687848,861.0779292198037,891.4437768152316,922.8804737134899,955.425783333691,989.1188008190413,1024.0,1060.1112820135697,1097.4960256371598,1136.1991393974695,1176.2671155169603,1217.7480857627893,1260.6918792651902,1305.1500823749193,1351.1761006314407,1398.8252229165003,1448.1546878700494,1499.2237526483193,1552.0937641066491,1606.82823249255,1663.4929077375696,1722.1558584396096,1782.8875536304608,1845.7609474269798,1910.8515666673798,1978.2376016380804,2048.0,2120.2225640271395,2194.9920512743306,2272.39827879495,2352.5342310339292,2435.49617152557,2521.38375853039,2610.3001647498513,2702.3522012628914,2797.6504458330005,2896.309375740099,2998.4475052966386,3104.1875282132905,3213.6564649850916,3326.985815475139,3444.3117168792105,3565.775107260931,3691.5218948539596,3821.7031333347595,256.0,270.59661838371306,286.025507346488,302.3341213259598,319.5726205188131,337.79402515786103,357.0543785857039,377.41291962652207,398.93226478617606,421.6786008409982,445.7218884076158,471.1360771199357,497.99933307508985,526.3942792479057,556.4082496133422,588.1335577584816,621.6677808102637,657.1140595522066,694.5814156532077,734.1850869841034,776.0468820533237,820.2955546517728,867.0671998592277,916.5056726302437,968.7630302470102,1024.0,1082.3864735348495,1144.1020293859506,1209.3364853038393,1278.2904820752508,1351.1761006314407,1428.2175143428208,1509.65167850609,1595.7290591447004,1686.7144033639904,1782.8875536304608,1448.1546878700494,1488.8678577360008,1530.7256306021807,1573.76018563892,1618.0046066962007,1663.4929077375696,1710.2600589893007,1758.342013824521,1807.7757364032593,1858.59923008954,1910.8515666673798,1964.5729163781407,2019.8045788024,2076.589014609979,2134.96987820262,2194.9920512743306,2256.7016773152995,2320.1461970857895,2385.3743850873984,2452.4363870595685,2521.38375853039,2592.2695044511297,2665.1481199450814,2740.0756322019606,2817.1096435502004,2896.309375740099,2977.7357154719907,3061.4512612043504,3147.5203712778516,1260.6918792651902,1305.1500823749304,1351.1761006314407,1398.8252229165003,1448.1546878700494,1499.2237526483193,1552.0937641066491,1606.82823249255,1663.4929077375696,1722.1558584396096,1782.8875536304608,1845.7609474269798,1910.8515666673798,1978.23760163809,2048.0,2120.2225640271395,2194.9920512743306,2272.39827879495,2352.5342310339292,2435.49617152557,2521.38375853039,2610.3001647498513,2702.3522012628914,2797.6504458330005,2896.309375740099,1.0,1.11728713807222,1.24833054890161,1.39474366635041,1.558329159321,1.74110112659225,1.94530989482457,2.17346972505212,2.42838976879009,2.71320865489534,3.0314331330208,3.38698124945011,3.78423058690238,4.22807216224552,4.723970645718121,5.27803164309158,5.897076869164399,6.58872813814059,7.3615012049990005,8.22491061324853,9.18958683997628,10.2674071805032,11.471641984126602,12.817118041433998,14.320401134847602,16.0,17.8765942091555,19.973288782425794,22.315898661606493,24.933266549136004,27.857618025476004,31.124958317193098,34.775515600833906,38.8542363006415,43.41133847832548,48.502930128332785,54.191699991201695,60.547689390438094,67.6491545959284,75.58353033149001,84.4485062894653,94.35322990663052,105.41965021024902,117.78401927998401,131.598569811977,147.03338943962004,164.27851488805197,294.0667788792408,304.437021440697,315.17296981629795,326.287520593731,337.79402515786103,349.70630572912506,362.0386719675119,374.8059381620798,388.0234410266618,401.707058123136,415.8732269343919,430.5389646099018,445.7218884076152,461.44023685674495,477.71289166684494,494.5594004095213,512.0,530.0556410067849,548.748012818582,568.0995696987361,588.1335577584816,608.8740428813932,630.3459396325967,652.575041187462,675.5880503157211,699.4126114582501,724.0773439350247,749.6118763241597,776.0468820533237,803.414116246272,831.7464538687848,861.0779292198037,891.4437768152304,922.8804737134899,955.4257833336899,989.1188008190413,1024.0,1060.1112820135697,1097.4960256371598,1136.1991393974695,1176.2671155169603,1217.7480857627893,1260.6918792651902,1305.1500823749193,1351.1761006314407,1398.8252229165003,1448.1546878700494,1499.2237526483193,1552.0937641066491,1606.8282324925399,1663.4929077375696,1722.1558584396096,1782.8875536304608,1845.7609474269798,1910.8515666673798,1978.2376016380804,2048.0,2120.2225640271395,2194.9920512743306,2272.398278794939,2352.5342310339292,2435.49617152557,2521.38375853039,2610.3001647498513,2702.3522012628814,2797.6504458330005,2896.309375740099,2998.4475052966386,3104.1875282132905,3213.6564649850916,3326.985815475139,3444.3117168792105,3565.7751072609217,3691.5218948539596,3821.7031333347595,3956.4752032761703,4096.0,4240.445128054279,4389.984102548661],\"type\":\"scatter\"},{\"mode\":\"lines\",\"name\":\"approximation\",\"x\":[1899.290998693419,1899.7126740387018,1900.1343493839847,1900.5560247292676,1900.9777000745505,1901.3993754198336,1901.8210507651165,1902.2427261103994,1902.6644014556823,1903.0860768009652,1903.507752146248,1903.9294274915312,1904.351102836814,1904.772778182097,1905.19445352738,1905.6161288726628,1906.0378042179457,1906.4594795632288,1906.8811549085117,1907.3028302537946,1907.7245055990775,1908.1461809443604,1908.5678562896433,1908.9895316349262,1909.4112069802093,1909.8328823254922,1910.254557670775,1910.676233016058,1911.0979083613408,1911.519583706624,1911.9412590519069,1912.3629343971897,1912.7846097424726,1913.2062850877555,1913.6279604330384,1914.0496357783213,1914.4713111236044,1914.8929864688873,1915.3146618141702,1915.7363371594531,1916.158012504736,1916.579687850019,1917.001363195302,1917.423038540585,1917.8447138858678,1918.2663892311507,1918.6880645764336,1919.1097399217165,1919.5314152669996,1919.9530906122825,1920.3747659575654,1920.7964413028483,1921.2181166481312,1921.639791993414,1922.0614673386972,1922.48314268398,1922.904818029263,1923.3264933745459,1923.7481687198288,1924.1698440651116,1924.5915194103948,1925.0131947556777,1925.4348701009606,1925.8565454462434,1926.2782207915263,1926.6998961368092,1927.1215714820923,1927.5432468273752,1927.9649221726581,1928.386597517941,1928.808272863224,1929.2299482085068,1929.65162355379,1930.0732988990728,1930.4949742443557,1930.9166495896386,1931.3383249349215,1931.7600002802044,1932.1816756254875,1932.6033509707704,1933.0250263160533,1933.4467016613362,1933.868377006619,1934.290052351902,1934.7117276971849,1935.133403042468,1935.5550783877509,1935.9767537330338,1936.3984290783167,1936.8201044235996,1937.2417797688825,1937.6634551141656,1938.0851304594485,1938.5068058047314,1938.9284811500142,1939.3501564952971,1939.77183184058,1940.1935071858632,1940.615182531146,1941.036857876429,1941.4585332217118,1941.8802085669947,1942.3018839122776,1942.7235592575607,1943.1452346028436,1943.5669099481265,1943.9885852934094,1944.4102606386923,1944.8319359839752,1945.2536113292583,1945.6752866745412,1946.096962019824,1946.518637365107,1946.94031271039,1947.3619880556728,1947.783663400956,1948.2053387462388,1948.6270140915217,1949.0486894368046,1949.4703647820875,1949.8920401273704,1950.3137154726535,1950.7353908179364,1951.1570661632193,1951.5787415085022,1952.000416853785,1952.422092199068,1952.843767544351,1953.265442889634,1953.6871182349169,1954.1087935801997,1954.5304689254826,1954.9521442707655,1955.3738196160486,1955.7954949613315,1956.2171703066144,1956.6388456518973,1957.0605209971802,1957.482196342463,1957.903871687746,1958.3255470330291,1958.747222378312,1959.168897723595,1959.5905730688778,1960.0122484141607,1960.4339237594436,1960.8555991047267,1961.2772744500096,1961.6989497952925,1962.1206251405754,1962.5423004858583,1962.9639758311412,1963.3856511764243,1963.8073265217072,1964.22900186699,1964.650677212273,1965.0723525575559,1965.4940279028388,1965.9157032481219,1966.3373785934048,1966.7590539386877,1967.1807292839705,1967.6024046292534,1968.0240799745363,1968.4457553198195,1968.8674306651023,1969.2891060103852,1969.7107813556681,1970.132456700951,1970.554132046234,1970.975807391517,1971.3974827368,1971.8191580820828,1972.2408334273657,1972.6625087726486,1973.0841841179315,1973.5058594632146,1973.9275348084975,1974.3492101537804,1974.7708854990633,1975.1925608443462,1975.614236189629,1976.035911534912,1976.457586880195,1976.879262225478,1977.3009375707609,1977.7226129160438,1978.1442882613267,1978.5659636066098,1978.9876389518927,1979.4093142971756,1979.8309896424585,1980.2526649877414,1980.6743403330242,1981.0960156783074,1981.5176910235903,1981.9393663688732,1982.361041714156,1982.782717059439,1983.2043924047218,1983.6260677500047,1984.0477430952878,1984.4694184405707,1984.8910937858536,1985.3127691311365,1985.7344444764194,1986.1561198217023,1986.5777951669854,1986.9994705122683,1987.4211458575512,1987.842821202834,1988.264496548117,1988.6861718934,1989.107847238683,1989.529522583966,1989.9511979292488,1990.3728732745317,1990.7945486198146,1991.2162239650975,1991.6378993103806,1992.0595746556635,1992.4812500009464,1992.9029253462293,1993.3246006915122,1993.746276036795,1994.1679513820782,1994.589626727361,1995.011302072644,1995.4329774179268,1995.8546527632097,1996.2763281084926,1996.6980034537755,1997.1196787990586,1997.5413541443415,1997.9630294896244,1998.3847048349073,1998.8063801801902,1999.2280555254733,1999.6497308707562,2000.0714062160391,2000.493081561322,2000.914756906605,2001.3364322518878,2001.758107597171,2002.1797829424538,2002.6014582877367,2003.0231336330196,2003.4448089783025,2003.8664843235854,2004.2881596688683,2004.7098350141514,2005.1315103594343,2005.5531857047172,2005.97486105,2006.396536395283,2006.8182117405659,2007.239887085849,2007.6615624311319,2008.0832377764148,2008.5049131216977,2008.9265884669805,2009.3482638122634,2009.7699391575466,2010.1916145028295,2010.6132898481123,2011.0349651933952,2011.4566405386781,2011.878315883961,2012.2999912292441,2012.721666574527,2013.14334191981,2013.5650172650928,2013.9866926103757,2014.4083679556586,2014.8300433009417,2015.2517186462246,2015.6733939915075,2016.0950693367904,2016.5167446820733,2016.9384200273562,2017.360095372639,2017.7817707179222,2018.203446063205,2018.625121408488,2019.0467967537709,2019.4684720990538,2019.890147444337,2020.3118227896198,2020.7334981349027,2021.1551734801856,2021.5768488254685,2021.9985241707514,2022.4201995160345,2022.8418748613174,2023.2635502066003,2023.6852255518831,2024.106900897166,2024.528576242449,2024.9502515877318,2025.371926933015],\"y\":[4.01983915255632,4.12413153161022,4.231129715527433,4.340903904834834,4.453526121370955,4.569070255538888,4.687612114785052,4.809229473335813,4.934002123224396,5.062011926641738,5.1933428696455035,5.328081117262577,5.466315070021135,5.608135421949434,5.753635220079324,5.902909925493537,6.05605747595687,6.21317835017221,6.374375633703714,6.539755086610284,6.709425212833792,6.883497331387509,7.062085649391489,7.245307337002813,7.433282604289857,7.6261347801010135,7.823990392979614,8.026979254178153,8.235234542826255,8.44889289330827,8.668094484907865,8.892983133778335,9.123706387299107,9.360415620880152,9.603266137278073,9.852417268488779,10.108032480283756,10.37027947945846,10.639330323863213,10.915361535288774,11.198554215280645,11.489094163958196,11.787172001916332,12.092983295290013,12.406728684063301,12.728614013707494,13.058850470234411,13.397654718753609,13.745249045624373,14.101861504295726,14.467726064930284,14.843082767909848,15.228177881323745,15.62326406254303,16.028600523986693,16.444453203188584,16.87109493727648,17.30880564197815,17.7578724952714,18.218590125798972,18.691260806171623,19.176194651286526,19.673709821790684,20.184132732823297,20.707798268173683,21.245049999995498,21.796240414221305,22.361731141825253,22.941893196085946,23.537107216004795,24.14776371603985,24.774263342318623,25.4170171354984,26.07644680044637,26.752984982916075,27.447075553402527,28.159173898361445,28.88974721898426,29.639274837724336,30.40824851277622,31.19717276071356,32.00656518749794,32.83695682807521,33.688892494782735,34.56293113479589,35.459646196847984,36.379626007464836,37.32347415696026,38.291809895446434,39.2852685391178,40.304501887076654,41.350178648972076,42.422984883734664,43.5236244496931,44.65281946636943,45.81131078825491,46.999858490877884,48.2192423694824,49.470262450644555,50.75373951716293,52.07051564656617,53.421454763592884,54.807443207004205,56.22939031110289,57.68822900233908,59.18491641139477,60.72043450114851,62.29579071093222,63.91201861750291,65.57017861316287,67.27135860147342,69.01667471101825,70.80727202768553,72.64432534594775,74.52903993963405,76.46265235269904,78.44643121050808,80.48167805217071,82.56972818446847,84.7119515579375,86.90975366568054,89.16457646549779,91.47789932594279,93.85123999692179,96.28615560547621,98.78424367739899,101.3471431853568,103.9765356242049,106.6741461142005,109.44174453283838,112.28114667605107,115.19421544953639,118.18286209099212,121.24904742406207,124.39478314481426,127.62213314159622,130.93321484913332,134.33020063775817,137.8153192386829,141.39085720624928,145.05916041811602,148.82263561436767,152.68375197655433,156.64504274769988,160.7091068943382,164.87861081167276,169.15629007297264,173.54495122435804,178.04747362614904,182.66681134198754,187.4059950769713,192.26813416607183,197.25641861414059,202.3741211888413,207.6245995678842,213.01129854196563,218.53775227486568,224.20758662217858,230.0245215102054,235.9923733765613,242.11505767410762,248.39659143984233,254.8410959304428,261.45279932618394,268.2360395050077,275.195266888567,282.335047362104,289.66006527008796,297.1751264895683,304.88516158326905,312.795229034483,320.910518565899,329.23635454452904,337.7781994749775,346.5416575833412,355.53247849408984,364.7565610023413,374.2199569440075,383.9288751663499,393.88968560154467,404.1089234459378,414.59329344772874,425.34967430589313,436.3851231832329,447.7068803365174,459.32237386675007,471.2392245926768,483.46525105073374,496.00847462471836,508.87712480854793,522.0796446055505,535.6246960678468,549.5211659794383,563.7781716867499,578.4050670804324,593.4114487323666,608.807162191887,624.6023084453558,640.8072505433252,657.4326203996416,674.489325766949,691.9885573931599,709.9417963636089,728.3608216336806,747.2577177568813,766.6448828133964,786.5350365443644,806.9412286971761,827.8768475872965,849.3556288822192,871.3916646133043,893.9994124214397,917.1937050425578,940.9897600392661,965.4031897849421,990.4500117068765,1016.1466587951517,1042.509990384185,1069.5573032139746,1097.3063427783366,1125.7753149675618,1154.982898013132,1184.9482547423333,1215.6910451508136,1247.23143930133,1279.590130557133,1312.788349158697,1346.8478761526894,1381.7910576823122,1417.640819648398,1454.4206827508874,1492.154777920547,1530.867862151049,1570.5853347418029,1611.3332539622074,1653.1383541482458,1696.0280632426343,1740.0305207900396,1785.17459639918,1831.4899086839155,1879.006844695746,1927.756579860462,1977.7710984320818,2029.0832144774145,2081.726593405053,2135.7357740529687,2191.14619134911,2247.9941995599297,2306.3170961420915,2366.153146212994,2427.5416076561596,2490.522756877963,2555.1379152326194,2621.429476132752,2689.440932863316,2759.2169071171347,2830.8031782707917,2904.246713420065,2979.5956981946065,3056.8995683720636,3136.2090423124864,3217.576154234149,3301.0542883527214,3386.698213906171,3474.5641210883687,3564.7096579149306,3657.1939680455866,3752.077729587758,3849.4231949069426,3949.2942314698853,4051.7563637474723,4156.876816204698,4264.724557406062,4375.370345265169,4488.88677346837,4605.348319102821,4724.831391520206,4847.4143824682,4973.177717522588,5102.203908853759,5234.577609362171,5370.385668218332,5509.717187843763,5652.663582370253,5799.318637615897,5949.778572617021,6104.142102756669,6262.510504530833,6424.9876819950605,6591.680234934938,6762.697528805211,6938.151766483475,7118.1580618854805,7302.834515490254,7492.30229182481,7686.685698959016,7886.1122700630485,8090.712847080659,8300.621666573456,8515.976447792202],\"type\":\"scatter\"}],                        {\"template\":{\"data\":{\"histogram2dcontour\":[{\"type\":\"histogram2dcontour\",\"colorbar\":{\"outlinewidth\":0,\"ticks\":\"\"},\"colorscale\":[[0.0,\"#0d0887\"],[0.1111111111111111,\"#46039f\"],[0.2222222222222222,\"#7201a8\"],[0.3333333333333333,\"#9c179e\"],[0.4444444444444444,\"#bd3786\"],[0.5555555555555556,\"#d8576b\"],[0.6666666666666666,\"#ed7953\"],[0.7777777777777778,\"#fb9f3a\"],[0.8888888888888888,\"#fdca26\"],[1.0,\"#f0f921\"]]}],\"choropleth\":[{\"type\":\"choropleth\",\"colorbar\":{\"outlinewidth\":0,\"ticks\":\"\"}}],\"histogram2d\":[{\"type\":\"histogram2d\",\"colorbar\":{\"outlinewidth\":0,\"ticks\":\"\"},\"colorscale\":[[0.0,\"#0d0887\"],[0.1111111111111111,\"#46039f\"],[0.2222222222222222,\"#7201a8\"],[0.3333333333333333,\"#9c179e\"],[0.4444444444444444,\"#bd3786\"],[0.5555555555555556,\"#d8576b\"],[0.6666666666666666,\"#ed7953\"],[0.7777777777777778,\"#fb9f3a\"],[0.8888888888888888,\"#fdca26\"],[1.0,\"#f0f921\"]]}],\"heatmap\":[{\"type\":\"heatmap\",\"colorbar\":{\"outlinewidth\":0,\"ticks\":\"\"},\"colorscale\":[[0.0,\"#0d0887\"],[0.1111111111111111,\"#46039f\"],[0.2222222222222222,\"#7201a8\"],[0.3333333333333333,\"#9c179e\"],[0.4444444444444444,\"#bd3786\"],[0.5555555555555556,\"#d8576b\"],[0.6666666666666666,\"#ed7953\"],[0.7777777777777778,\"#fb9f3a\"],[0.8888888888888888,\"#fdca26\"],[1.0,\"#f0f921\"]]}],\"heatmapgl\":[{\"type\":\"heatmapgl\",\"colorbar\":{\"outlinewidth\":0,\"ticks\":\"\"},\"colorscale\":[[0.0,\"#0d0887\"],[0.1111111111111111,\"#46039f\"],[0.2222222222222222,\"#7201a8\"],[0.3333333333333333,\"#9c179e\"],[0.4444444444444444,\"#bd3786\"],[0.5555555555555556,\"#d8576b\"],[0.6666666666666666,\"#ed7953\"],[0.7777777777777778,\"#fb9f3a\"],[0.8888888888888888,\"#fdca26\"],[1.0,\"#f0f921\"]]}],\"contourcarpet\":[{\"type\":\"contourcarpet\",\"colorbar\":{\"outlinewidth\":0,\"ticks\":\"\"}}],\"contour\":[{\"type\":\"contour\",\"colorbar\":{\"outlinewidth\":0,\"ticks\":\"\"},\"colorscale\":[[0.0,\"#0d0887\"],[0.1111111111111111,\"#46039f\"],[0.2222222222222222,\"#7201a8\"],[0.3333333333333333,\"#9c179e\"],[0.4444444444444444,\"#bd3786\"],[0.5555555555555556,\"#d8576b\"],[0.6666666666666666,\"#ed7953\"],[0.7777777777777778,\"#fb9f3a\"],[0.8888888888888888,\"#fdca26\"],[1.0,\"#f0f921\"]]}],\"surface\":[{\"type\":\"surface\",\"colorbar\":{\"outlinewidth\":0,\"ticks\":\"\"},\"colorscale\":[[0.0,\"#0d0887\"],[0.1111111111111111,\"#46039f\"],[0.2222222222222222,\"#7201a8\"],[0.3333333333333333,\"#9c179e\"],[0.4444444444444444,\"#bd3786\"],[0.5555555555555556,\"#d8576b\"],[0.6666666666666666,\"#ed7953\"],[0.7777777777777778,\"#fb9f3a\"],[0.8888888888888888,\"#fdca26\"],[1.0,\"#f0f921\"]]}],\"mesh3d\":[{\"type\":\"mesh3d\",\"colorbar\":{\"outlinewidth\":0,\"ticks\":\"\"}}],\"scatter\":[{\"fillpattern\":{\"fillmode\":\"overlay\",\"size\":10,\"solidity\":0.2},\"type\":\"scatter\"}],\"parcoords\":[{\"type\":\"parcoords\",\"line\":{\"colorbar\":{\"outlinewidth\":0,\"ticks\":\"\"}}}],\"scatterpolargl\":[{\"type\":\"scatterpolargl\",\"marker\":{\"colorbar\":{\"outlinewidth\":0,\"ticks\":\"\"}}}],\"bar\":[{\"error_x\":{\"color\":\"#2a3f5f\"},\"error_y\":{\"color\":\"#2a3f5f\"},\"marker\":{\"line\":{\"color\":\"#E5ECF6\",\"width\":0.5},\"pattern\":{\"fillmode\":\"overlay\",\"size\":10,\"solidity\":0.2}},\"type\":\"bar\"}],\"scattergeo\":[{\"type\":\"scattergeo\",\"marker\":{\"colorbar\":{\"outlinewidth\":0,\"ticks\":\"\"}}}],\"scatterpolar\":[{\"type\":\"scatterpolar\",\"marker\":{\"colorbar\":{\"outlinewidth\":0,\"ticks\":\"\"}}}],\"histogram\":[{\"marker\":{\"pattern\":{\"fillmode\":\"overlay\",\"size\":10,\"solidity\":0.2}},\"type\":\"histogram\"}],\"scattergl\":[{\"type\":\"scattergl\",\"marker\":{\"colorbar\":{\"outlinewidth\":0,\"ticks\":\"\"}}}],\"scatter3d\":[{\"type\":\"scatter3d\",\"line\":{\"colorbar\":{\"outlinewidth\":0,\"ticks\":\"\"}},\"marker\":{\"colorbar\":{\"outlinewidth\":0,\"ticks\":\"\"}}}],\"scattermapbox\":[{\"type\":\"scattermapbox\",\"marker\":{\"colorbar\":{\"outlinewidth\":0,\"ticks\":\"\"}}}],\"scatterternary\":[{\"type\":\"scatterternary\",\"marker\":{\"colorbar\":{\"outlinewidth\":0,\"ticks\":\"\"}}}],\"scattercarpet\":[{\"type\":\"scattercarpet\",\"marker\":{\"colorbar\":{\"outlinewidth\":0,\"ticks\":\"\"}}}],\"carpet\":[{\"aaxis\":{\"endlinecolor\":\"#2a3f5f\",\"gridcolor\":\"white\",\"linecolor\":\"white\",\"minorgridcolor\":\"white\",\"startlinecolor\":\"#2a3f5f\"},\"baxis\":{\"endlinecolor\":\"#2a3f5f\",\"gridcolor\":\"white\",\"linecolor\":\"white\",\"minorgridcolor\":\"white\",\"startlinecolor\":\"#2a3f5f\"},\"type\":\"carpet\"}],\"table\":[{\"cells\":{\"fill\":{\"color\":\"#EBF0F8\"},\"line\":{\"color\":\"white\"}},\"header\":{\"fill\":{\"color\":\"#C8D4E3\"},\"line\":{\"color\":\"white\"}},\"type\":\"table\"}],\"barpolar\":[{\"marker\":{\"line\":{\"color\":\"#E5ECF6\",\"width\":0.5},\"pattern\":{\"fillmode\":\"overlay\",\"size\":10,\"solidity\":0.2}},\"type\":\"barpolar\"}],\"pie\":[{\"automargin\":true,\"type\":\"pie\"}]},\"layout\":{\"autotypenumbers\":\"strict\",\"colorway\":[\"#636efa\",\"#EF553B\",\"#00cc96\",\"#ab63fa\",\"#FFA15A\",\"#19d3f3\",\"#FF6692\",\"#B6E880\",\"#FF97FF\",\"#FECB52\"],\"font\":{\"color\":\"#2a3f5f\"},\"hovermode\":\"closest\",\"hoverlabel\":{\"align\":\"left\"},\"paper_bgcolor\":\"white\",\"plot_bgcolor\":\"#E5ECF6\",\"polar\":{\"bgcolor\":\"#E5ECF6\",\"angularaxis\":{\"gridcolor\":\"white\",\"linecolor\":\"white\",\"ticks\":\"\"},\"radialaxis\":{\"gridcolor\":\"white\",\"linecolor\":\"white\",\"ticks\":\"\"}},\"ternary\":{\"bgcolor\":\"#E5ECF6\",\"aaxis\":{\"gridcolor\":\"white\",\"linecolor\":\"white\",\"ticks\":\"\"},\"baxis\":{\"gridcolor\":\"white\",\"linecolor\":\"white\",\"ticks\":\"\"},\"caxis\":{\"gridcolor\":\"white\",\"linecolor\":\"white\",\"ticks\":\"\"}},\"coloraxis\":{\"colorbar\":{\"outlinewidth\":0,\"ticks\":\"\"}},\"colorscale\":{\"sequential\":[[0.0,\"#0d0887\"],[0.1111111111111111,\"#46039f\"],[0.2222222222222222,\"#7201a8\"],[0.3333333333333333,\"#9c179e\"],[0.4444444444444444,\"#bd3786\"],[0.5555555555555556,\"#d8576b\"],[0.6666666666666666,\"#ed7953\"],[0.7777777777777778,\"#fb9f3a\"],[0.8888888888888888,\"#fdca26\"],[1.0,\"#f0f921\"]],\"sequentialminus\":[[0.0,\"#0d0887\"],[0.1111111111111111,\"#46039f\"],[0.2222222222222222,\"#7201a8\"],[0.3333333333333333,\"#9c179e\"],[0.4444444444444444,\"#bd3786\"],[0.5555555555555556,\"#d8576b\"],[0.6666666666666666,\"#ed7953\"],[0.7777777777777778,\"#fb9f3a\"],[0.8888888888888888,\"#fdca26\"],[1.0,\"#f0f921\"]],\"diverging\":[[0,\"#8e0152\"],[0.1,\"#c51b7d\"],[0.2,\"#de77ae\"],[0.3,\"#f1b6da\"],[0.4,\"#fde0ef\"],[0.5,\"#f7f7f7\"],[0.6,\"#e6f5d0\"],[0.7,\"#b8e186\"],[0.8,\"#7fbc41\"],[0.9,\"#4d9221\"],[1,\"#276419\"]]},\"xaxis\":{\"gridcolor\":\"white\",\"linecolor\":\"white\",\"ticks\":\"\",\"title\":{\"standoff\":15},\"zerolinecolor\":\"white\",\"automargin\":true,\"zerolinewidth\":2},\"yaxis\":{\"gridcolor\":\"white\",\"linecolor\":\"white\",\"ticks\":\"\",\"title\":{\"standoff\":15},\"zerolinecolor\":\"white\",\"automargin\":true,\"zerolinewidth\":2},\"scene\":{\"xaxis\":{\"backgroundcolor\":\"#E5ECF6\",\"gridcolor\":\"white\",\"linecolor\":\"white\",\"showbackground\":true,\"ticks\":\"\",\"zerolinecolor\":\"white\",\"gridwidth\":2},\"yaxis\":{\"backgroundcolor\":\"#E5ECF6\",\"gridcolor\":\"white\",\"linecolor\":\"white\",\"showbackground\":true,\"ticks\":\"\",\"zerolinecolor\":\"white\",\"gridwidth\":2},\"zaxis\":{\"backgroundcolor\":\"#E5ECF6\",\"gridcolor\":\"white\",\"linecolor\":\"white\",\"showbackground\":true,\"ticks\":\"\",\"zerolinecolor\":\"white\",\"gridwidth\":2}},\"shapedefaults\":{\"line\":{\"color\":\"#2a3f5f\"}},\"annotationdefaults\":{\"arrowcolor\":\"#2a3f5f\",\"arrowhead\":0,\"arrowwidth\":1},\"geo\":{\"bgcolor\":\"white\",\"landcolor\":\"#E5ECF6\",\"subunitcolor\":\"white\",\"showland\":true,\"showlakes\":true,\"lakecolor\":\"white\"},\"title\":{\"x\":0.05},\"mapbox\":{\"style\":\"light\"}}}},                        {\"responsive\": true}                    ).then(function(){\n                            \nvar gd = document.getElementById('337a96bd-b918-4210-9a87-5b1fa8cd25f8');\nvar x = new MutationObserver(function (mutations, observer) {{\n        var display = window.getComputedStyle(gd).display;\n        if (!display || display === 'none') {{\n            console.log([gd, 'removed!']);\n            Plotly.purge(gd);\n            observer.disconnect();\n        }}\n}});\n\n// Listen for the removal of the full notebook cells\nvar notebookContainer = gd.closest('#notebook-container');\nif (notebookContainer) {{\n    x.observe(notebookContainer, {childList: true});\n}}\n\n// Listen for the clearing of the current output cell\nvar outputEl = gd.closest('.output');\nif (outputEl) {{\n    x.observe(outputEl, {childList: true});\n}}\n\n                        })                };                });            </script>        </div>"
     },
     "metadata": {},
     "output_type": "display_data"
    }
   ],
   "source": [
    "weights = model.layers[0].get_weights()\n",
    "\n",
    "x = np.linspace(-2, 1.5, 300)\n",
    "y = weights[0][0, 0] * x + weights[1][0]\n",
    "\n",
    "print(\"y = ax + b\")\n",
    "print(f\"a = {weights[0][0, 0]}\")\n",
    "print(f\"b = {weights[1][0]}\")\n",
    "\n",
    "fig = go.Figure()\n",
    "fig.add_trace(go.Scatter(x=data, y=labels, name=\"data\", mode=\"markers\"))\n",
    "fig.add_trace(go.Scatter(x=x, y=y, name=\"approximation\", mode=\"lines\"))\n",
    "fig.show()\n",
    "\n",
    "go.Figure(\n",
    "    [go.Scatter(x=temp, y=2 ** labels, mode=\"markers\"),\n",
    "     go.Scatter(x=(x * std) + mean, y=2 ** y, name=\"approximation\", mode=\"lines\")]\n",
    ").show()"
   ],
   "metadata": {
    "collapsed": false,
    "ExecuteTime": {
     "end_time": "2024-02-24T12:28:34.622389100Z",
     "start_time": "2024-02-24T12:28:34.519388600Z"
    }
   },
   "id": "77565e51a8e00ca8"
  },
  {
   "cell_type": "code",
   "execution_count": 33,
   "outputs": [
    {
     "data": {
      "text/plain": "   year_to_predict  stded_year       pred  exponential\n0             1900   -1.980318   2.069270     4.196742\n1             1950   -0.592321   6.450907    87.481575\n2             2000    0.795677  10.832544  1823.562988\n3             2020    1.350876  12.585199  6145.008789",
      "text/html": "<div>\n<style scoped>\n    .dataframe tbody tr th:only-of-type {\n        vertical-align: middle;\n    }\n\n    .dataframe tbody tr th {\n        vertical-align: top;\n    }\n\n    .dataframe thead th {\n        text-align: right;\n    }\n</style>\n<table border=\"1\" class=\"dataframe\">\n  <thead>\n    <tr style=\"text-align: right;\">\n      <th></th>\n      <th>year_to_predict</th>\n      <th>stded_year</th>\n      <th>pred</th>\n      <th>exponential</th>\n    </tr>\n  </thead>\n  <tbody>\n    <tr>\n      <th>0</th>\n      <td>1900</td>\n      <td>-1.980318</td>\n      <td>2.069270</td>\n      <td>4.196742</td>\n    </tr>\n    <tr>\n      <th>1</th>\n      <td>1950</td>\n      <td>-0.592321</td>\n      <td>6.450907</td>\n      <td>87.481575</td>\n    </tr>\n    <tr>\n      <th>2</th>\n      <td>2000</td>\n      <td>0.795677</td>\n      <td>10.832544</td>\n      <td>1823.562988</td>\n    </tr>\n    <tr>\n      <th>3</th>\n      <td>2020</td>\n      <td>1.350876</td>\n      <td>12.585199</td>\n      <td>6145.008789</td>\n    </tr>\n  </tbody>\n</table>\n</div>"
     },
     "execution_count": 33,
     "metadata": {},
     "output_type": "execute_result"
    }
   ],
   "source": [
    "data_to_predict = [1900, 1950, 2000, 2020]\n",
    "\n",
    "standarized_data = (data_to_predict - mean) / std\n",
    "\n",
    "preds = model.predict(standarized_data, verbose=0).ravel()\n",
    "\n",
    "df = pd.DataFrame({\n",
    "    \"year_to_predict\": data_to_predict,\n",
    "    \"stded_year\": standarized_data,\n",
    "    \"pred\": preds,\n",
    "    \"exponential\": 2 ** preds\n",
    "})\n",
    "\n",
    "df"
   ],
   "metadata": {
    "collapsed": false,
    "ExecuteTime": {
     "end_time": "2024-02-24T12:28:46.370810300Z",
     "start_time": "2024-02-24T12:28:46.130807400Z"
    }
   },
   "id": "80cc29757a942b74"
  }
 ],
 "metadata": {
  "kernelspec": {
   "display_name": "Python 3",
   "language": "python",
   "name": "python3"
  },
  "language_info": {
   "codemirror_mode": {
    "name": "ipython",
    "version": 2
   },
   "file_extension": ".py",
   "mimetype": "text/x-python",
   "name": "python",
   "nbconvert_exporter": "python",
   "pygments_lexer": "ipython2",
   "version": "2.7.6"
  }
 },
 "nbformat": 4,
 "nbformat_minor": 5
}
