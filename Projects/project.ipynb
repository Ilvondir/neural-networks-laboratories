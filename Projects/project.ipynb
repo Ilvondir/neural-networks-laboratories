{
 "cells": [
  {
   "cell_type": "code",
   "execution_count": null,
   "metadata": {
    "collapsed": true
   },
   "outputs": [],
   "source": [
    "import os\n",
    "import numpy as np\n",
    "import pandas as pd\n",
    "import matplotlib.pyplot as plt\n",
    "import shutil\n",
    "import plotly.graph_objects as go\n",
    "from sklearn.metrics import confusion_matrix, classification_report\n",
    "\n",
    "from tensorflow.keras.preprocessing import image\n",
    "from tensorflow.keras.preprocessing.image import ImageDataGenerator\n",
    "from tensorflow.keras.models import Sequential\n",
    "from tensorflow.keras import layers\n",
    "from tensorflow.keras import optimizers\n",
    "\n",
    "np.set_printoptions(precision=6, suppress=True)"
   ]
  },
  {
   "cell_type": "code",
   "execution_count": null,
   "outputs": [],
   "source": [
    "base_dir = \"./data/planes\"\n",
    "data_dir = './images'\n",
    "\n",
    "if not os.path.exists(data_dir):\n",
    "    os.mkdir(data_dir)\n",
    "\n",
    "train_dir = os.path.join(data_dir, 'train')    # katalog zbioru treningowego\n",
    "valid_dir = os.path.join(data_dir, 'valid')    # katalog zbioru walidacyjnego\n",
    "test_dir = os.path.join(data_dir, 'test')      # katalog zbioru testowego\n",
    "\n",
    "train_fighter_dir = os.path.join(train_dir, 'fighter-jet')\n",
    "train_rocket_dir = os.path.join(train_dir, 'rocket')\n",
    "train_missile_dir = os.path.join(train_dir, 'missile')\n",
    "\n",
    "valid_fighter_dir = os.path.join(valid_dir, 'fighter-jet')\n",
    "valid_rocket_dir = os.path.join(valid_dir, 'rocket')\n",
    "valid_missile_dir = os.path.join(valid_dir, 'missile')\n",
    "\n",
    "test_fighter_dir = os.path.join(test_dir, 'fighter-jet')\n",
    "test_rocket_dir = os.path.join(test_dir, 'rocket')\n",
    "test_missile_dir = os.path.join(test_dir, 'missile')\n",
    "\n",
    "for directory in (train_dir, valid_dir, test_dir):\n",
    "    if not os.path.exists(directory):\n",
    "        os.mkdir(directory)\n",
    "\n",
    "dirs = [train_fighter_dir, train_rocket_dir, train_missile_dir, valid_fighter_dir, valid_rocket_dir, valid_missile_dir, test_fighter_dir, test_rocket_dir, test_missile_dir]\n",
    "\n",
    "for dir in dirs:\n",
    "    if not os.path.exists(dir):\n",
    "        os.mkdir(dir)"
   ],
   "metadata": {
    "collapsed": false
   }
  },
  {
   "cell_type": "code",
   "execution_count": null,
   "outputs": [],
   "source": [
    "fighter_fnames = os.listdir(os.path.join(base_dir, 'fighter-jet'))\n",
    "rocket_fnames = os.listdir(os.path.join(base_dir, 'rocket'))\n",
    "missile_fnames = os.listdir(os.path.join(base_dir, 'missile'))\n",
    "\n",
    "fighter_fnames = [fname for fname in fighter_fnames if fname.split('.')[1].lower() in ['jpg', 'png', 'jpeg']]\n",
    "rocket_fnames = [fname for fname in rocket_fnames if fname.split('.')[1].lower() in ['jpg', 'png', 'jpeg']]\n",
    "missile_fnames = [fname for fname in missile_fnames if fname.split('.')[1].lower() in ['jpg', 'png', 'jpeg']]"
   ],
   "metadata": {
    "collapsed": false
   }
  },
  {
   "cell_type": "code",
   "execution_count": null,
   "outputs": [],
   "source": [
    "print(f\"Fighters: {len(fighter_fnames)}\")\n",
    "print(f\"Rockets: {len(rocket_fnames)}\")\n",
    "print(f\"Missiles: {len(missile_fnames)}\")"
   ],
   "metadata": {
    "collapsed": false
   }
  },
  {
   "cell_type": "code",
   "execution_count": null,
   "outputs": [],
   "source": [
    "size = min(len(fighter_fnames), len(rocket_fnames), len(missile_fnames))\n",
    "\n",
    "train_size = int(np.floor(0.65 * size))\n",
    "valid_size = int(np.floor(0.2 * size))\n",
    "test_size = size - train_size - valid_size\n",
    "\n",
    "train_idx = train_size\n",
    "valid_idx = train_size + valid_size\n",
    "test_idx = train_size + valid_size + test_size"
   ],
   "metadata": {
    "collapsed": false
   }
  },
  {
   "cell_type": "code",
   "execution_count": null,
   "outputs": [],
   "source": [
    "for i, fname in enumerate(fighter_fnames):\n",
    "    if i <= train_idx:\n",
    "        src = os.path.join(base_dir, 'fighter-jet', fname)\n",
    "        dst = os.path.join(train_fighter_dir, fname)\n",
    "        shutil.copyfile(src, dst)\n",
    "    elif train_idx < i <= valid_idx:\n",
    "        src = os.path.join(base_dir, 'fighter-jet', fname)\n",
    "        dst = os.path.join(valid_fighter_dir, fname)\n",
    "        shutil.copyfile(src, dst)\n",
    "    elif valid_idx < i < test_idx:\n",
    "        src = os.path.join(base_dir, 'fighter-jet', fname)\n",
    "        dst = os.path.join(test_fighter_dir, fname)\n",
    "        shutil.copyfile(src, dst)\n",
    "\n",
    "for i, fname in enumerate(rocket_fnames):\n",
    "    if i <= train_idx:\n",
    "        src = os.path.join(base_dir, 'rocket', fname)\n",
    "        dst = os.path.join(train_rocket_dir, fname)\n",
    "        shutil.copyfile(src, dst)\n",
    "    elif train_idx < i <= valid_idx:\n",
    "        src = os.path.join(base_dir, 'rocket', fname)\n",
    "        dst = os.path.join(valid_rocket_dir, fname)\n",
    "        shutil.copyfile(src, dst)\n",
    "    elif valid_idx < i < test_idx:\n",
    "        src = os.path.join(base_dir, 'rocket', fname)\n",
    "        dst = os.path.join(test_rocket_dir, fname)\n",
    "        shutil.copyfile(src, dst)\n",
    "\n",
    "for i, fname in enumerate(missile_fnames):\n",
    "    if i <= train_idx:\n",
    "        src = os.path.join(base_dir, 'missile', fname)\n",
    "        dst = os.path.join(train_missile_dir, fname)\n",
    "        shutil.copyfile(src, dst)\n",
    "    elif train_idx < i <= valid_idx:\n",
    "        src = os.path.join(base_dir, 'missile', fname)\n",
    "        dst = os.path.join(valid_missile_dir, fname)\n",
    "        shutil.copyfile(src, dst)\n",
    "    elif valid_idx < i < test_idx:\n",
    "        src = os.path.join(base_dir, 'missile', fname)\n",
    "        dst = os.path.join(test_missile_dir, fname)\n",
    "        shutil.copyfile(src, dst)\n",
    "\n",
    "print('fighter jet - zbiór treningowy', len(os.listdir(train_fighter_dir)))\n",
    "print('fighter jet - zbiór walidacyjny', len(os.listdir(valid_fighter_dir)))\n",
    "print('fighter jet - zbiór testowy', len(os.listdir(test_fighter_dir)))\n",
    "\n",
    "print('rocket - zbiór treningowy', len(os.listdir(train_rocket_dir)))\n",
    "print('rocket - zbiór walidacyjny', len(os.listdir(valid_rocket_dir)))\n",
    "print('rocket - zbiór testowy', len(os.listdir(test_rocket_dir)))\n",
    "\n",
    "print('missile - zbiór treningowy', len(os.listdir(train_missile_dir)))\n",
    "print('missile - zbiór walidacyjny', len(os.listdir(valid_missile_dir)))\n",
    "print('missile - zbiór testowy', len(os.listdir(test_missile_dir)))"
   ],
   "metadata": {
    "collapsed": false
   }
  },
  {
   "cell_type": "code",
   "execution_count": null,
   "outputs": [],
   "source": [
    "train_datagen = ImageDataGenerator(\n",
    "    rotation_range=45,  # zakres kąta o który losowo zostanie wykonany obrót obrazów\n",
    "    rescale=1. / 255.,\n",
    "    width_shift_range=0.25,  # pionowe przekształcenia obrazu\n",
    "    height_shift_range=0.25,  # poziome przekształcenia obrazu\n",
    "    shear_range=0.25,  # zares losowego przycianania obrazu\n",
    "    zoom_range=0.25,  # zakres losowego przybliżania obrazu\n",
    "    horizontal_flip=True,  # losowe odbicie połowy obrazu w płaszczyźnie poziomej\n",
    "    fill_mode='nearest'  # strategia wypełniania nowo utworzonych pikseli, któe mogą powstać w wyniku przekształceń\n",
    ")\n",
    "\n",
    "# przeskalowujemy wszystkie obrazy o współczynnik 1/255\n",
    "valid_datagen = ImageDataGenerator(rescale=1. / 255.)\n",
    "\n",
    "train_generator = train_datagen.flow_from_directory(directory=train_dir,\n",
    "                                                    target_size=(150, 150),\n",
    "                                                    batch_size=32,\n",
    "                                                    class_mode='categorical')\n",
    "\n",
    "valid_generator = valid_datagen.flow_from_directory(directory=valid_dir,\n",
    "                                                    target_size=(150, 150),\n",
    "                                                    batch_size=32,\n",
    "                                                    class_mode='categorical')"
   ],
   "metadata": {
    "collapsed": false
   }
  },
  {
   "cell_type": "code",
   "execution_count": null,
   "outputs": [],
   "source": [
    "def display_augmented_images(directory, idx):\n",
    "\n",
    "    fnames = [os.path.join(directory, fname) for fname in os.listdir(directory)]\n",
    "    img_path = fnames[idx]\n",
    "    img = image.load_img(img_path, target_size=(150, 150))\n",
    "\n",
    "    x = image.img_to_array(img)\n",
    "    x = x.reshape((1, ) + x.shape)\n",
    "\n",
    "    i = 1\n",
    "    plt.figure(figsize=(16, 8))\n",
    "    for batch in train_datagen.flow(x, batch_size=1):\n",
    "        plt.subplot(3, 4, i)\n",
    "        plt.grid(False)\n",
    "        imgplot = plt.imshow(image.array_to_img(batch[0]))\n",
    "        i += 1\n",
    "        if i % 13 == 0:\n",
    "            break"
   ],
   "metadata": {
    "collapsed": false
   }
  },
  {
   "cell_type": "code",
   "execution_count": null,
   "outputs": [],
   "source": [
    "idx = 1\n",
    "display_augmented_images(train_fighter_dir, idx)"
   ],
   "metadata": {
    "collapsed": false
   }
  },
  {
   "cell_type": "code",
   "execution_count": null,
   "outputs": [],
   "source": [
    "idx = 111\n",
    "display_augmented_images(train_rocket_dir, idx)"
   ],
   "metadata": {
    "collapsed": false
   }
  },
  {
   "cell_type": "code",
   "execution_count": null,
   "outputs": [],
   "source": [
    "idx = 1\n",
    "display_augmented_images(train_missile_dir, idx)"
   ],
   "metadata": {
    "collapsed": false
   }
  },
  {
   "cell_type": "code",
   "execution_count": null,
   "outputs": [],
   "source": [
    "from tensorflow.keras.applications import VGG16\n",
    "\n",
    "conv_base = VGG16(weights='imagenet', include_top=False, input_shape=(150, 150, 3))\n",
    "conv_base.summary()"
   ],
   "metadata": {
    "collapsed": false
   }
  },
  {
   "cell_type": "code",
   "execution_count": null,
   "outputs": [],
   "source": [
    "model = Sequential()\n",
    "model.add(conv_base)\n",
    "model.add(layers.Flatten())\n",
    "model.add(layers.Dense(units=256, activation='relu'))\n",
    "model.add(layers.Dense(units=3, activation='softmax'))\n",
    "model.summary()\n",
    "\n",
    "conv_base.trainable = False"
   ],
   "metadata": {
    "collapsed": false
   }
  },
  {
   "cell_type": "code",
   "execution_count": null,
   "outputs": [],
   "source": [
    "model.compile(optimizer = optimizers.legacy.RMSprop(learning_rate=1e-3),\n",
    "              loss = \"categorical_crossentropy\",\n",
    "              metrics = [\"accuracy\"])"
   ],
   "metadata": {
    "collapsed": false
   }
  },
  {
   "cell_type": "code",
   "execution_count": null,
   "outputs": [],
   "source": [
    "from tensorflow.keras.callbacks import EarlyStopping\n",
    "from tensorflow.keras.callbacks import ModelCheckpoint\n",
    "\n",
    "\n",
    "es = EarlyStopping(monitor=\"val_accuracy\", mode=\"max\", verbose=0, patience=3)\n",
    "mc = ModelCheckpoint(filepath=\"best_weights.hdf5\", monitor=\"val_accuracy\", mode=\"max\", verbose=1, save_best_only=True)"
   ],
   "metadata": {
    "collapsed": false
   }
  },
  {
   "cell_type": "code",
   "execution_count": null,
   "outputs": [],
   "source": [
    "batch_size = 32\n",
    "steps_per_epoch = train_size // batch_size\n",
    "validation_steps = valid_size // batch_size"
   ],
   "metadata": {
    "collapsed": false
   }
  },
  {
   "cell_type": "code",
   "execution_count": null,
   "outputs": [],
   "source": [
    "history = model.fit(train_generator,\n",
    "                    steps_per_epoch=steps_per_epoch,\n",
    "                    epochs=15,    # 100\n",
    "                    validation_data=valid_generator,\n",
    "                    validation_steps=validation_steps,\n",
    "                    callbacks=[es, mc])"
   ],
   "metadata": {
    "collapsed": false
   }
  },
  {
   "cell_type": "code",
   "execution_count": null,
   "outputs": [],
   "source": [
    "def plot_hist(history):\n",
    "    hist = pd.DataFrame(history.history)\n",
    "    hist['epoch'] = history.epoch\n",
    "\n",
    "    fig = go.Figure()\n",
    "    fig.add_trace(go.Scatter(x=hist['epoch'], y=hist['accuracy'], name='accuracy', mode='markers+lines'))\n",
    "    fig.add_trace(go.Scatter(x=hist['epoch'], y=hist['val_accuracy'], name='val_accuracy', mode='markers+lines'))\n",
    "    fig.update_layout(width=1000, height=500, title='Accuracy vs. Val Accuracy', xaxis_title='Epoki', yaxis_title='Accuracy', yaxis_type='log')\n",
    "    fig.show()\n",
    "\n",
    "    fig = go.Figure()\n",
    "    fig.add_trace(go.Scatter(x=hist['epoch'], y=hist['loss'], name='loss', mode='markers+lines'))\n",
    "    fig.add_trace(go.Scatter(x=hist['epoch'], y=hist['val_loss'], name='val_loss', mode='markers+lines'))\n",
    "    fig.update_layout(width=1000, height=500, title='Loss vs. Val Loss', xaxis_title='Epoki', yaxis_title='Loss', yaxis_type='log')\n",
    "    fig.show()\n",
    "\n",
    "plot_hist(history)"
   ],
   "metadata": {
    "collapsed": false
   }
  },
  {
   "cell_type": "code",
   "execution_count": null,
   "outputs": [],
   "source": [
    "model.load_weights(\"best_weights.hdf5\")"
   ],
   "metadata": {
    "collapsed": false
   }
  },
  {
   "cell_type": "code",
   "execution_count": null,
   "outputs": [],
   "source": [
    "test_datagen = ImageDataGenerator(rescale=1./255.)\n",
    "test_generator = test_datagen.flow_from_directory(\n",
    "    test_dir,\n",
    "    target_size=(150, 150),\n",
    "    batch_size=1,\n",
    "    class_mode='categorical',\n",
    "    shuffle=False\n",
    ")\n",
    "\n",
    "y_prob = model.predict(test_generator, test_generator.samples)\n",
    "y_prob"
   ],
   "metadata": {
    "collapsed": false
   }
  },
  {
   "cell_type": "code",
   "execution_count": null,
   "outputs": [],
   "source": [
    "y_pred = np.argmax(y_prob, axis=1)\n",
    "y_pred"
   ],
   "metadata": {
    "collapsed": false
   }
  },
  {
   "cell_type": "code",
   "execution_count": null,
   "outputs": [],
   "source": [
    "predictions  = pd.DataFrame({'class': y_pred})\n",
    "predictions"
   ],
   "metadata": {
    "collapsed": false
   }
  },
  {
   "cell_type": "code",
   "execution_count": null,
   "outputs": [],
   "source": [
    "y_true = test_generator.classes\n",
    "y_true"
   ],
   "metadata": {
    "collapsed": false
   }
  },
  {
   "cell_type": "code",
   "execution_count": null,
   "outputs": [],
   "source": [
    "y_pred = predictions['class'].values\n",
    "y_pred"
   ],
   "metadata": {
    "collapsed": false
   }
  },
  {
   "cell_type": "code",
   "execution_count": null,
   "outputs": [],
   "source": [
    "test_generator.class_indices"
   ],
   "metadata": {
    "collapsed": false
   }
  },
  {
   "cell_type": "code",
   "execution_count": null,
   "outputs": [],
   "source": [
    "cm = confusion_matrix(y_true, y_pred)\n",
    "cm"
   ],
   "metadata": {
    "collapsed": false
   }
  },
  {
   "cell_type": "code",
   "execution_count": null,
   "outputs": [],
   "source": [
    "print(classification_report(y_true, y_pred, target_names=test_generator.class_indices.keys()))"
   ],
   "metadata": {
    "collapsed": false
   }
  }
 ],
 "metadata": {
  "kernelspec": {
   "display_name": "Python 3",
   "language": "python",
   "name": "python3"
  },
  "language_info": {
   "codemirror_mode": {
    "name": "ipython",
    "version": 2
   },
   "file_extension": ".py",
   "mimetype": "text/x-python",
   "name": "python",
   "nbconvert_exporter": "python",
   "pygments_lexer": "ipython2",
   "version": "2.7.6"
  }
 },
 "nbformat": 4,
 "nbformat_minor": 0
}
