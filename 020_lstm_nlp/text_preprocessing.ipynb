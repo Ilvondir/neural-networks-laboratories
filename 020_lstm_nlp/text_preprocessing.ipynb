{
 "cells": [
  {
   "cell_type": "code",
   "execution_count": 35,
   "id": "initial_id",
   "metadata": {
    "collapsed": true,
    "ExecuteTime": {
     "end_time": "2024-04-02T10:42:44.267624100Z",
     "start_time": "2024-04-02T10:42:44.252622900Z"
    }
   },
   "outputs": [],
   "source": [
    "from keras.src.preprocessing.text import Tokenizer\n",
    "from keras.src.utils import pad_sequences"
   ]
  },
  {
   "cell_type": "code",
   "execution_count": 19,
   "outputs": [],
   "source": [
    "sentences = [\n",
    "    \"I like cats.\",\n",
    "    \"Do you like cats?\",\n",
    "    \"I love cats and chocolate!\",\n",
    "    \"I am from Poland!\",\n",
    "    \"Poland is beautiful country!\"\n",
    "]"
   ],
   "metadata": {
    "collapsed": false,
    "ExecuteTime": {
     "end_time": "2024-04-02T10:27:09.297901400Z",
     "start_time": "2024-04-02T10:27:09.277896400Z"
    }
   },
   "id": "aed5331f613b72ce"
  },
  {
   "cell_type": "code",
   "execution_count": 30,
   "outputs": [],
   "source": [
    "MAX_VOCAB_SIZE = 20000\n",
    "tokenizer = Tokenizer(num_words=MAX_VOCAB_SIZE)\n",
    "tokenizer.fit_on_texts(sentences)\n",
    "sequences = tokenizer.texts_to_sequences(sentences)"
   ],
   "metadata": {
    "collapsed": false,
    "ExecuteTime": {
     "end_time": "2024-04-02T10:36:37.312568100Z",
     "start_time": "2024-04-02T10:36:37.281568300Z"
    }
   },
   "id": "c81eab009fd614be"
  },
  {
   "cell_type": "code",
   "execution_count": 31,
   "outputs": [
    {
     "name": "stdout",
     "output_type": "stream",
     "text": [
      "[[1, 3, 2], [5, 6, 3, 2], [1, 7, 2, 8, 9], [1, 10, 11, 4], [4, 12, 13, 14]]\n"
     ]
    }
   ],
   "source": [
    "print(sequences)"
   ],
   "metadata": {
    "collapsed": false,
    "ExecuteTime": {
     "end_time": "2024-04-02T10:36:40.191596800Z",
     "start_time": "2024-04-02T10:36:40.166610600Z"
    }
   },
   "id": "ff386f5de798a746"
  },
  {
   "cell_type": "code",
   "execution_count": 33,
   "outputs": [
    {
     "name": "stdout",
     "output_type": "stream",
     "text": [
      "{'i': 1, 'cats': 2, 'like': 3, 'poland': 4, 'do': 5, 'you': 6, 'love': 7, 'and': 8, 'chocolate': 9, 'am': 10, 'from': 11, 'is': 12, 'beautiful': 13, 'country': 14}\n"
     ]
    }
   ],
   "source": [
    "print(tokenizer.word_index)"
   ],
   "metadata": {
    "collapsed": false,
    "ExecuteTime": {
     "end_time": "2024-04-02T10:37:07.310579300Z",
     "start_time": "2024-04-02T10:37:07.298573Z"
    }
   },
   "id": "122b66a4ce6b8ac5"
  },
  {
   "cell_type": "code",
   "execution_count": 38,
   "outputs": [
    {
     "data": {
      "text/plain": "array([[ 1,  3,  2,  0,  0],\n       [ 5,  6,  3,  2,  0],\n       [ 1,  7,  2,  8,  9],\n       [ 1, 10, 11,  4,  0],\n       [ 4, 12, 13, 14,  0]])"
     },
     "execution_count": 38,
     "metadata": {},
     "output_type": "execute_result"
    }
   ],
   "source": [
    "data = pad_sequences(sequences)\n",
    "data"
   ],
   "metadata": {
    "collapsed": false,
    "ExecuteTime": {
     "end_time": "2024-04-02T10:43:19.345120100Z",
     "start_time": "2024-04-02T10:43:19.300154400Z"
    }
   },
   "id": "5384c8ce8c2848ef"
  },
  {
   "cell_type": "code",
   "execution_count": 44,
   "outputs": [
    {
     "data": {
      "text/plain": "array([[ 1,  3,  2,  0,  0],\n       [ 5,  6,  3,  2,  0],\n       [ 1,  7,  2,  8,  9],\n       [ 1, 10, 11,  4,  0],\n       [ 4, 12, 13, 14,  0]])"
     },
     "execution_count": 44,
     "metadata": {},
     "output_type": "execute_result"
    }
   ],
   "source": [
    "MAX_LEN = max(len(n) for n in sequences)\n",
    "data = pad_sequences(sequences, maxlen=MAX_LEN, padding='post')\n",
    "data"
   ],
   "metadata": {
    "collapsed": false,
    "ExecuteTime": {
     "end_time": "2024-04-02T10:47:30.828674200Z",
     "start_time": "2024-04-02T10:47:30.761681100Z"
    }
   },
   "id": "a01fb30e9cae019f"
  },
  {
   "cell_type": "code",
   "execution_count": 46,
   "outputs": [
    {
     "data": {
      "text/plain": "array([[ 0,  1,  3,  2],\n       [ 5,  6,  3,  2],\n       [ 1,  7,  2,  8],\n       [ 1, 10, 11,  4],\n       [ 4, 12, 13, 14]])"
     },
     "execution_count": 46,
     "metadata": {},
     "output_type": "execute_result"
    }
   ],
   "source": [
    "data = pad_sequences(sequences, maxlen=MAX_LEN - 1, truncating='post')\n",
    "data"
   ],
   "metadata": {
    "collapsed": false,
    "ExecuteTime": {
     "end_time": "2024-04-02T10:47:42.805731500Z",
     "start_time": "2024-04-02T10:47:42.750733700Z"
    }
   },
   "id": "79d2b406c8086595"
  }
 ],
 "metadata": {
  "kernelspec": {
   "display_name": "Python 3",
   "language": "python",
   "name": "python3"
  },
  "language_info": {
   "codemirror_mode": {
    "name": "ipython",
    "version": 2
   },
   "file_extension": ".py",
   "mimetype": "text/x-python",
   "name": "python",
   "nbconvert_exporter": "python",
   "pygments_lexer": "ipython2",
   "version": "2.7.6"
  }
 },
 "nbformat": 4,
 "nbformat_minor": 5
}
