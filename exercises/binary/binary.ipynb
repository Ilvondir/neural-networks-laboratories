{
 "cells": [
  {
   "cell_type": "code",
   "execution_count": null,
   "id": "initial_id",
   "metadata": {
    "collapsed": true
   },
   "outputs": [],
   "source": [
    "import pandas as pd\n",
    "import numpy as np\n",
    "from keras import Sequential\n",
    "from keras.src.callbacks import ModelCheckpoint\n",
    "from keras.src.layers import Dense\n",
    "import plotly.graph_objects as go\n",
    "import plotly.express as exp\n",
    "from sklearn.metrics import confusion_matrix, accuracy_score\n",
    "from sklearn.preprocessing import StandardScaler"
   ]
  },
  {
   "cell_type": "code",
   "execution_count": null,
   "outputs": [],
   "source": [
    "data = pd.read_csv(\"dataset.txt\")\n",
    "labels = data[\"Plec\"]\n",
    "data = data.drop('Plec', axis=1)\n",
    "\n",
    "scaler = StandardScaler()\n",
    "data = scaler.fit_transform(data)\n",
    "\n",
    "labels"
   ],
   "metadata": {
    "collapsed": false
   },
   "id": "354ef1b957eb2a6f"
  },
  {
   "cell_type": "code",
   "execution_count": null,
   "outputs": [],
   "source": [
    "model = Sequential()\n",
    "model.add(Dense(units=2, input_shape=(5,)))\n",
    "model.add(Dense(units=2))\n",
    "model.add(Dense(units=1, activation=\"sigmoid\"))\n",
    "\n",
    "model.summary()"
   ],
   "metadata": {
    "collapsed": false
   },
   "id": "bffb49463d2b9c12"
  },
  {
   "cell_type": "code",
   "execution_count": null,
   "outputs": [],
   "source": [
    "mc = ModelCheckpoint(filepath=\"model1.keras\", monitor=\"val_accuracy\", save_best_only=True, mode=\"max\", verbose=1)\n",
    "\n",
    "model.compile(optimizer=\"rmsprop\",\n",
    "              loss=\"binary_crossentropy\",\n",
    "              metrics=[\"accuracy\"])\n",
    "\n",
    "history = model.fit(data, labels, epochs=30, batch_size=1, validation_split=0.25, callbacks=[mc])"
   ],
   "metadata": {
    "collapsed": false
   },
   "id": "11209129944857aa"
  },
  {
   "cell_type": "code",
   "execution_count": null,
   "outputs": [],
   "source": [
    "# model.save_weights(\"model_after_training.keras\")\n",
    "# model.load_weights(\"model1.keras\")\n",
    "\n",
    "probs = model.predict(data, verbose=0)\n",
    "classes = probs.round()\n",
    "\n",
    "cm = confusion_matrix(labels, classes)\n",
    "\n",
    "print(f\"Accuracy: {round(accuracy_score(labels, classes) * 100, 2)}%\")\n",
    "\n",
    "exp.imshow(cm, text_auto=True, x=[\"p_men\", \"p_wom\"], y=[\"t_men\", \"t_wom\"])"
   ],
   "metadata": {
    "collapsed": false
   },
   "id": "51185d0c442b8603"
  },
  {
   "cell_type": "code",
   "execution_count": null,
   "outputs": [],
   "source": [
    "test_data = np.random.randint(0, 100, size=(500, 5))\n",
    "\n",
    "probs = model.predict(scaler.fit_transform(test_data))\n",
    "pd.DataFrame({\"probs\": probs.ravel(), \"labels\": probs.ravel().round()})\n"
   ],
   "metadata": {
    "collapsed": false
   },
   "id": "e1ec4bf72cce38e9"
  }
 ],
 "metadata": {
  "kernelspec": {
   "display_name": "Python 3",
   "language": "python",
   "name": "python3"
  },
  "language_info": {
   "codemirror_mode": {
    "name": "ipython",
    "version": 2
   },
   "file_extension": ".py",
   "mimetype": "text/x-python",
   "name": "python",
   "nbconvert_exporter": "python",
   "pygments_lexer": "ipython2",
   "version": "2.7.6"
  }
 },
 "nbformat": 4,
 "nbformat_minor": 5
}
