{
 "cells": [
  {
   "cell_type": "markdown",
   "source": [
    "# Inicjalizacja parametrów sieci"
   ],
   "metadata": {
    "collapsed": false
   }
  },
  {
   "cell_type": "code",
   "execution_count": null,
   "metadata": {
    "collapsed": true
   },
   "outputs": [],
   "source": [
    "import numpy as np\n",
    "import pandas as pd\n",
    "\n",
    "X = np.array([0.1, 0.05])\n",
    "y_true = np.array([256.441])"
   ]
  },
  {
   "cell_type": "code",
   "execution_count": null,
   "outputs": [],
   "source": [
    "def initialize_parameters(n_x, n_h, n_y):\n",
    "    W1 = np.random.rand(n_h, n_x)\n",
    "    W2 = np.random.rand(n_h, n_y)\n",
    "    return W1, W2"
   ],
   "metadata": {
    "collapsed": false
   }
  },
  {
   "cell_type": "markdown",
   "source": [
    "# Propagacja wprzód"
   ],
   "metadata": {
    "collapsed": false
   }
  },
  {
   "cell_type": "code",
   "execution_count": null,
   "outputs": [],
   "source": [
    "def forward_propagation(X, W1, W2):\n",
    "    H1 = np.dot(X, W1)\n",
    "    y_pred = np.dot(H1, W2)\n",
    "    return H1, y_pred"
   ],
   "metadata": {
    "collapsed": false
   }
  },
  {
   "cell_type": "markdown",
   "source": [
    "# Obliczenie błędu predykcji"
   ],
   "metadata": {
    "collapsed": false
   }
  },
  {
   "cell_type": "code",
   "execution_count": null,
   "outputs": [],
   "source": [
    "def calculate_error(y_pred, y_true):\n",
    "    return y_pred - y_true"
   ],
   "metadata": {
    "collapsed": false
   }
  },
  {
   "cell_type": "code",
   "execution_count": null,
   "outputs": [],
   "source": [
    "def predict(X, W1, W2):\n",
    "    _, y_pred = forward_propagation(X, W1, W2)\n",
    "    return y_pred[0]"
   ],
   "metadata": {
    "collapsed": false
   }
  },
  {
   "cell_type": "markdown",
   "source": [
    "# Propagacja wsteczna"
   ],
   "metadata": {
    "collapsed": false
   }
  },
  {
   "cell_type": "code",
   "execution_count": null,
   "outputs": [],
   "source": [
    "def backpropagation(X, W1, W2, learning_rate, iters=500, precision=0.00000001):\n",
    "\n",
    "    H1, y_pred = forward_propagation(X, W1, W2)\n",
    "    train_loss = []\n",
    "\n",
    "    for i in range(iters):\n",
    "        error = calculate_error(y_pred, y_true)\n",
    "        W2 = W2 - learning_rate * error * H1.T\n",
    "        W1 = W1 - learning_rate * error * np.dot(X.T, W2.T)\n",
    "\n",
    "        y_pred = predict(X, W1, W2)\n",
    "        print(f'Iter #{i}: y_pred {y_pred}: loss: {abs(calculate_error(y_pred, y_true[0]))}')\n",
    "        train_loss.append(abs(calculate_error(y_pred, y_true[0])))\n",
    "\n",
    "        if abs(error) < precision:\n",
    "            break\n",
    "\n",
    "    return W1, W2, train_loss"
   ],
   "metadata": {
    "collapsed": false
   }
  },
  {
   "cell_type": "markdown",
   "source": [
    "# Testowanie modelu"
   ],
   "metadata": {
    "collapsed": false
   }
  },
  {
   "cell_type": "code",
   "execution_count": null,
   "outputs": [],
   "source": [
    "def build_model():\n",
    "\n",
    "    W1, W2 = initialize_parameters(2, 2, 1)\n",
    "\n",
    "    W1, W2, train_loss = backpropagation(X, W1, W2, 0.01, iters=200)\n",
    "\n",
    "    model = {'W1': W1, 'W2': W2, 'train_loss': train_loss}\n",
    "\n",
    "    return model"
   ],
   "metadata": {
    "collapsed": false
   }
  },
  {
   "cell_type": "code",
   "execution_count": null,
   "outputs": [],
   "source": [
    "model = build_model()"
   ],
   "metadata": {
    "collapsed": false
   }
  },
  {
   "cell_type": "code",
   "execution_count": null,
   "outputs": [],
   "source": [
    "loss = pd.DataFrame({'train_loss': model['train_loss']})\n",
    "loss = loss.reset_index().rename(columns={'index': 'iter'})\n",
    "loss['iter'] += 1\n",
    "loss.head()"
   ],
   "metadata": {
    "collapsed": false
   }
  },
  {
   "cell_type": "code",
   "execution_count": null,
   "outputs": [],
   "source": [
    "import plotly.graph_objects as go\n",
    "\n",
    "fig = go.Figure(data=go.Scatter(x=loss['iter'], y=loss['train_loss'], mode='markers+lines'))\n",
    "fig.show()"
   ],
   "metadata": {
    "collapsed": false
   }
  }
 ],
 "metadata": {
  "kernelspec": {
   "display_name": "Python 3",
   "language": "python",
   "name": "python3"
  },
  "language_info": {
   "codemirror_mode": {
    "name": "ipython",
    "version": 2
   },
   "file_extension": ".py",
   "mimetype": "text/x-python",
   "name": "python",
   "nbconvert_exporter": "python",
   "pygments_lexer": "ipython2",
   "version": "2.7.6"
  }
 },
 "nbformat": 4,
 "nbformat_minor": 0
}
