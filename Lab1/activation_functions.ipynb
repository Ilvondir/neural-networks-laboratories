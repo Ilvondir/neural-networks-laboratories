{
 "nbformat": 4,
 "nbformat_minor": 0,
 "metadata": {
  "colab": {
   "provenance": [],
   "collapsed_sections": [
    "Lsp0Q3RW3B28",
    "NIrZsyDd3CIc",
    "SeIjl-mZ3ChJ",
    "Ofr4LyKX3Cxv",
    "dZ6zxDGf3DCb"
   ]
  },
  "kernelspec": {
   "name": "python3",
   "language": "python",
   "display_name": "Python 3 (ipykernel)"
  },
  "language_info": {
   "name": "python"
  }
 },
 "cells": [
  {
   "cell_type": "markdown",
   "source": [
    "# Import bibliotek"
   ],
   "metadata": {
    "id": "Lsp0Q3RW3B28"
   }
  },
  {
   "cell_type": "code",
   "execution_count": null,
   "metadata": {
    "id": "IOXjv6-z28T5"
   },
   "outputs": [],
   "source": [
    "import numpy as np\n",
    "import pandas as pd\n",
    "import matplotlib.pyplot as plt\n",
    "import plotly.graph_objects as go\n",
    "import plotly.express as px\n",
    "import math\n",
    "\n",
    "np.set_printoptions(precision=6)"
   ]
  },
  {
   "cell_type": "markdown",
   "source": [
    "# ReLU Function - Rectified Linear Unit"
   ],
   "metadata": {
    "id": "NIrZsyDd3CIc"
   }
  },
  {
   "cell_type": "code",
   "source": [
    "def max_relu(x):\n",
    "    return max(x, 0.0)"
   ],
   "metadata": {
    "id": "DhdhcUnx3cZy"
   },
   "execution_count": null,
   "outputs": []
  },
  {
   "cell_type": "code",
   "source": [
    "for i in [-8., 5., -1., 4., -10.]:\n",
    "    print(max_relu(i))"
   ],
   "metadata": {
    "id": "lIAPRO2m3e7N"
   },
   "execution_count": null,
   "outputs": []
  },
  {
   "cell_type": "code",
   "source": [
    "data = np.random.randn(50)\n",
    "data = sorted(data)\n",
    "data"
   ],
   "metadata": {
    "id": "SV9_xwS73msV"
   },
   "execution_count": null,
   "outputs": []
  },
  {
   "cell_type": "code",
   "source": [
    "max_relu_data = np.array([max_relu(x) for x in data])\n",
    "max_relu_data"
   ],
   "metadata": {
    "id": "RkUjUJLG3pTK"
   },
   "execution_count": null,
   "outputs": []
  },
  {
   "cell_type": "code",
   "source": [
    "df = pd.DataFrame({'data': data, 'max_relu_data': max_relu_data})\n",
    "df.head()"
   ],
   "metadata": {
    "id": "fO4hhV8Z35b4"
   },
   "execution_count": null,
   "outputs": []
  },
  {
   "cell_type": "code",
   "source": [
    "px.line(df, x='data', y='max_relu_data', width=700, height=400, title='ReLU Function')"
   ],
   "metadata": {
    "id": "rFtvnXUn37WQ"
   },
   "execution_count": null,
   "outputs": []
  },
  {
   "cell_type": "markdown",
   "source": [
    "# Sigmoid function"
   ],
   "metadata": {
    "id": "SeIjl-mZ3ChJ"
   }
  },
  {
   "cell_type": "code",
   "source": [
    "def sigmoid(x):\n",
    "    return 1 / (1 + np.exp(-x))"
   ],
   "metadata": {
    "id": "c1wb7buI4F-P"
   },
   "execution_count": null,
   "outputs": []
  },
  {
   "cell_type": "code",
   "source": [
    "for i in [-5., -3., -1., 0., 1., 3., 5.]:\n",
    "    print(sigmoid(i))"
   ],
   "metadata": {
    "id": "gBNtDVA14Hzh"
   },
   "execution_count": null,
   "outputs": []
  },
  {
   "cell_type": "code",
   "source": [
    "data = 3 * np.random.randn(50)\n",
    "data = sorted(data)\n",
    "data"
   ],
   "metadata": {
    "id": "Cgaywv7t4JQh"
   },
   "execution_count": null,
   "outputs": []
  },
  {
   "cell_type": "code",
   "source": [
    "sigmoid_data = [sigmoid(x) for x in sorted(data)]\n",
    "sigmoid_data"
   ],
   "metadata": {
    "id": "sOfB1YQy4K23"
   },
   "execution_count": null,
   "outputs": []
  },
  {
   "cell_type": "code",
   "source": [
    "df = pd.DataFrame({'data': data, 'sigmoid_data': sigmoid_data})\n",
    "df.head()"
   ],
   "metadata": {
    "id": "FihS1bHs4MXg"
   },
   "execution_count": null,
   "outputs": []
  },
  {
   "cell_type": "code",
   "source": [
    "px.line(df, x='data', y='sigmoid_data', width=700, height=400, title='Sigmoid Function')"
   ],
   "metadata": {
    "id": "JlFano3Q4N4X"
   },
   "execution_count": null,
   "outputs": []
  },
  {
   "cell_type": "markdown",
   "source": [
    "# Tanh function"
   ],
   "metadata": {
    "id": "Ofr4LyKX3Cxv"
   }
  },
  {
   "cell_type": "code",
   "source": [
    "def tanh(x):\n",
    "    return (np.exp(x) - np.exp(-x)) / (np.exp(x) + np.exp(-x))"
   ],
   "metadata": {
    "id": "uumFOdaK4Xzf"
   },
   "execution_count": null,
   "outputs": []
  },
  {
   "cell_type": "code",
   "source": [
    "data = 2 * np.random.randn(100)\n",
    "data = sorted(data)\n",
    "data"
   ],
   "metadata": {
    "id": "jq0UAKQX4bLY"
   },
   "execution_count": null,
   "outputs": []
  },
  {
   "cell_type": "code",
   "source": [
    "tanh_data = [tanh(x) for x in sorted(data)]\n",
    "tanh_data"
   ],
   "metadata": {
    "id": "-B_t6ARo4fCX"
   },
   "execution_count": null,
   "outputs": []
  },
  {
   "cell_type": "code",
   "source": [
    "df = pd.DataFrame({'data': data, 'tanh_data': tanh_data})\n",
    "df.head()"
   ],
   "metadata": {
    "id": "nDkyj31i4gwn"
   },
   "execution_count": null,
   "outputs": []
  },
  {
   "cell_type": "code",
   "source": [
    "px.line(df, x='data', y='tanh_data', width=700, height=400, title='Tanh Function')"
   ],
   "metadata": {
    "id": "UfFPRGjf4iTY"
   },
   "execution_count": null,
   "outputs": []
  },
  {
   "cell_type": "markdown",
   "source": [
    "# Softmax function"
   ],
   "metadata": {
    "id": "dZ6zxDGf3DCb"
   }
  },
  {
   "cell_type": "code",
   "source": [
    "def softmax(x):\n",
    "    e_x = np.exp(x)\n",
    "    denominator = np.sum(e_x, axis=1)\n",
    "    denominator = denominator[:, np.newaxis]\n",
    "    return e_x / denominator"
   ],
   "metadata": {
    "id": "MHEMwltE4qIh"
   },
   "execution_count": null,
   "outputs": []
  },
  {
   "cell_type": "code",
   "source": [
    "data = np.random.randn(4, 5)\n",
    "data"
   ],
   "metadata": {
    "id": "EPA3Drp04uii"
   },
   "execution_count": null,
   "outputs": []
  },
  {
   "cell_type": "code",
   "source": [
    "result = softmax(data)\n",
    "result"
   ],
   "metadata": {
    "id": "xTNeO9xY4vkt"
   },
   "execution_count": null,
   "outputs": []
  },
  {
   "cell_type": "code",
   "source": [
    "result.sum(axis=1)"
   ],
   "metadata": {
    "id": "zPIGYvwK4w_q"
   },
   "execution_count": null,
   "outputs": []
  }
 ]
}
