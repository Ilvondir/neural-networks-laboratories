{
 "nbformat": 4,
 "nbformat_minor": 0,
 "metadata": {
  "colab": {
   "provenance": [],
   "collapsed_sections": [
    "6PELBBVgsqjJ",
    "QcwLhV_Sto-I",
    "3aPenfE6tpPI",
    "0dvBRfmQtpgn",
    "PnzH7cOttp0I",
    "WV_YX1qmtqEv",
    "74l0UDmbdZ9W"
   ]
  },
  "kernelspec": {
   "name": "python3",
   "language": "python",
   "display_name": "Python 3 (ipykernel)"
  },
  "language_info": {
   "name": "python"
  }
 },
 "cells": [
  {
   "cell_type": "markdown",
   "source": [
    "# Import bibliotek"
   ],
   "metadata": {
    "id": "6PELBBVgsqjJ"
   }
  },
  {
   "cell_type": "code",
   "execution_count": null,
   "metadata": {
    "id": "cHTJgTBpscbm"
   },
   "outputs": [],
   "source": [
    "import numpy as np\n",
    "import pandas as pd\n",
    "import plotly.graph_objects as go\n",
    "import plotly.express as px\n",
    "from plotly.subplots import make_subplots"
   ]
  },
  {
   "cell_type": "markdown",
   "source": [
    "# Accurancy (klasyfikacja binarna)"
   ],
   "metadata": {
    "id": "QcwLhV_Sto-I"
   }
  },
  {
   "cell_type": "code",
   "source": [
    "y_true = np.array([1, 0, 1, 1, 0, 1, 1, 0, 1, 0, 1, 1, 0, 1])\n",
    "y_pred = np.array([0, 0, 1, 1, 0, 1, 0, 0, 1, 1, 0, 1, 0, 1])"
   ],
   "metadata": {
    "id": "lUM4Hd5vuY1P"
   },
   "execution_count": null,
   "outputs": []
  },
  {
   "cell_type": "code",
   "source": [
    "def accuracy(y_true, y_pred):\n",
    "    correct = 0\n",
    "    for idx, _ in enumerate(y_true):\n",
    "        if y_true[idx] == y_pred[idx]:\n",
    "            correct += 1\n",
    "    return correct / len(y_true) * 100"
   ],
   "metadata": {
    "id": "4JASPE9UuZS8"
   },
   "execution_count": null,
   "outputs": []
  },
  {
   "cell_type": "code",
   "source": [
    "accuracy(y_true, y_pred)"
   ],
   "metadata": {
    "id": "BlrUQzr7ubrE"
   },
   "execution_count": null,
   "outputs": []
  },
  {
   "cell_type": "code",
   "source": [
    "results = pd.DataFrame({'y_true': y_true, 'y_pred': y_pred})\n",
    "results = results.sort_values(by='y_true')\n",
    "results['sample'] = range(1, len(y_true) + 1)\n",
    "results"
   ],
   "metadata": {
    "id": "aJETM_ixuc7E"
   },
   "execution_count": null,
   "outputs": []
  },
  {
   "cell_type": "code",
   "source": [
    "fig = make_subplots(rows=2, cols=1)\n",
    "fig.add_trace(go.Scatter(x=results['sample'], y=results['y_true'], mode='markers', name='y_true'), row=1, col=1)\n",
    "fig.add_trace(go.Scatter(x=results['sample'], y=results['y_pred'], mode='markers', name='y_pred'), row=2, col=1)\n",
    "fig.update_layout(width=1000, height=800, title='Binary classifier predictions')\n",
    "fig.show()"
   ],
   "metadata": {
    "id": "5dOn4wAiueBf"
   },
   "execution_count": null,
   "outputs": []
  },
  {
   "cell_type": "markdown",
   "source": [
    "# Macierz konfuzji/pomyłek (klasyfikacja binarna)"
   ],
   "metadata": {
    "id": "3aPenfE6tpPI"
   }
  },
  {
   "cell_type": "code",
   "source": [
    "from sklearn.metrics import confusion_matrix\n",
    "\n",
    "cm = confusion_matrix(y_true, y_pred)\n",
    "cm"
   ],
   "metadata": {
    "id": "j2jFsFlVv2yM"
   },
   "execution_count": null,
   "outputs": []
  },
  {
   "cell_type": "code",
   "source": [
    "import plotly.figure_factory as ff\n",
    "\n",
    "def plot_confusion_matrix(cm):\n",
    "    cm = cm[::-1]\n",
    "    cm = pd.DataFrame(cm, columns=['pred_0', 'pred_1'], index=['true_1', 'true_0'])\n",
    "\n",
    "    fig = ff.create_annotated_heatmap(z=cm.values, x=list(cm.columns), y=list(cm.index), colorscale='ice', showscale=True, reversescale=True)\n",
    "    fig.update_layout(width=500, height=500, title='Confusion Matrix', font_size=16)\n",
    "    fig.show()\n",
    "\n",
    "plot_confusion_matrix(cm)"
   ],
   "metadata": {
    "id": "C1-OX483v3Dw"
   },
   "execution_count": null,
   "outputs": []
  },
  {
   "cell_type": "code",
   "source": [
    "cm = confusion_matrix(y_true, y_pred)\n",
    "cm_df = pd.DataFrame(cm, columns=['pred_0', 'pred_1'], index=['true_0', 'true_1'])\n",
    "cm_df"
   ],
   "metadata": {
    "id": "vI2KNXF-v3UC"
   },
   "execution_count": null,
   "outputs": []
  },
  {
   "cell_type": "code",
   "source": [
    "tn, fp, fn, tp = cm.ravel()\n",
    "print(f'TN - True Negative: {tn}')\n",
    "print(f'FP - False Positive: {fp}')\n",
    "print(f'FN - False Negative: {fn}')\n",
    "print(f'TP - True Positive: {tp}')"
   ],
   "metadata": {
    "id": "p0QVZbhEv3oH"
   },
   "execution_count": null,
   "outputs": []
  },
  {
   "cell_type": "code",
   "source": [
    "# False Positive Rate - Type I error\n",
    "fpr = fp / (fp + tn)\n",
    "print(fpr)"
   ],
   "metadata": {
    "id": "bhHRDTlQwAWN"
   },
   "execution_count": null,
   "outputs": []
  },
  {
   "cell_type": "code",
   "source": [
    "# False Negative Rate - Type II error\n",
    "fnr = fn / (fn + tp)\n",
    "print(fnr)"
   ],
   "metadata": {
    "id": "Aiue9_TmwAko"
   },
   "execution_count": null,
   "outputs": []
  },
  {
   "cell_type": "code",
   "source": [
    "# Precision - ile obserwacji przewidywanych jako pozytywne są w rzeczywistości pozytywne\n",
    "precision = tp / (tp + fp)\n",
    "print(precision)"
   ],
   "metadata": {
    "id": "2EOhjbyxwAz7"
   },
   "execution_count": null,
   "outputs": []
  },
  {
   "cell_type": "code",
   "source": [
    "# Recall - jak wiele obserwacji z wzystkich poytywnych sklasyfikowaliśmy jako pozytywne\n",
    "recall = tp / (tp + fn)\n",
    "print(recall)"
   ],
   "metadata": {
    "id": "xDLZMq0uwFJs"
   },
   "execution_count": null,
   "outputs": []
  },
  {
   "cell_type": "markdown",
   "source": [
    "# Krzywa ROC"
   ],
   "metadata": {
    "id": "0dvBRfmQtpgn"
   }
  },
  {
   "cell_type": "code",
   "source": [
    "from sklearn.metrics import roc_curve\n",
    "fpr, tpr, tresh = roc_curve(y_true, y_pred, pos_label=1)"
   ],
   "metadata": {
    "id": "QYT92RGFcIdm"
   },
   "execution_count": null,
   "outputs": []
  },
  {
   "cell_type": "code",
   "source": [
    "roc = pd.DataFrame({'fpr': fpr, 'tpr': tpr})\n",
    "roc"
   ],
   "metadata": {
    "id": "NU073TSmcIQ8"
   },
   "execution_count": null,
   "outputs": []
  },
  {
   "cell_type": "code",
   "source": [
    "def plot_roc_curve(y_true, y_pred):\n",
    "    # Binary classification\n",
    "    from sklearn.metrics import roc_curve\n",
    "    fpr, tpr, tresh = roc_curve(y_true, y_pred, pos_label=1)\n",
    "\n",
    "    fig = go.Figure(data=[go.Scatter(x=roc['fpr'], y=roc['tpr'], line_color='red', name='ROC Curve'),\n",
    "                        go.Scatter(x=[0, 1], y=[0, 1], mode='lines', line_dash='dash', line_color='navy')],\n",
    "                    layout=go.Layout(xaxis_title='False Positive Rate',\n",
    "                                    yaxis_title='True Positive Rate',\n",
    "                                    title='ROC Curve',\n",
    "                                    showlegend=False,\n",
    "                                    width=800))\n",
    "    fig.show()\n",
    "plot_roc_curve(y_true, y_pred)"
   ],
   "metadata": {
    "id": "MLngJ-BlcHxM"
   },
   "execution_count": null,
   "outputs": []
  },
  {
   "cell_type": "code",
   "source": [
    "# AUC Score\n",
    "from sklearn.metrics import roc_auc_score\n",
    "\n",
    "roc_auc = roc_auc_score(y_true, y_pred)\n",
    "roc_auc"
   ],
   "metadata": {
    "id": "gO6BaK2wcoBt"
   },
   "execution_count": null,
   "outputs": []
  },
  {
   "cell_type": "code",
   "source": [
    "# Gini coefficient\n",
    "gini = roc_auc * 2 - 1\n",
    "print(gini)"
   ],
   "metadata": {
    "id": "TUsvysLUcsSJ"
   },
   "execution_count": null,
   "outputs": []
  },
  {
   "cell_type": "markdown",
   "source": [
    "# Accurancy (klasyfikacja wieloklasowa)"
   ],
   "metadata": {
    "id": "PnzH7cOttp0I"
   }
  },
  {
   "cell_type": "code",
   "source": [
    "y_true = np.array([1, 1, 1, 2, 1, 0, 1, 1, 0, 1, 0, 1, 1, 0, 2, 1, 1, 2, 2])\n",
    "y_pred = np.array([0, 0, 1, 2, 1, 0, 1, 0, 0, 1, 1, 0, 1, 0, 2, 1, 2, 1, 2])\n",
    "\n",
    "from sklearn.metrics import accuracy_score\n",
    "\n",
    "accuracy_score(y_true, y_pred)"
   ],
   "metadata": {
    "id": "kKbuYGkMdKO7"
   },
   "execution_count": null,
   "outputs": []
  },
  {
   "cell_type": "markdown",
   "source": [
    "# Macierz konfuzji/pomyłek (klasyfikacja wieloklasowa)"
   ],
   "metadata": {
    "id": "WV_YX1qmtqEv"
   }
  },
  {
   "cell_type": "code",
   "source": [
    "cm = confusion_matrix(y_true, y_pred)\n",
    "cm"
   ],
   "metadata": {
    "id": "JrlDBoXbdKFG"
   },
   "execution_count": null,
   "outputs": []
  },
  {
   "cell_type": "code",
   "source": [
    "def plot_confusion_matrix(cm):\n",
    "    cm = cm[::-1]\n",
    "    cm = pd.DataFrame(cm, columns=['pred_0', 'pred_1', 'pred_2'], index=['true_2','true_1', 'true_0'])\n",
    "\n",
    "    fig = ff.create_annotated_heatmap(z=cm.values, x=list(cm.columns), y=list(cm.index), colorscale='ice', showscale=True, reversescale=True)\n",
    "    fig.update_layout(width=500, height=500, title='Confusion Matrix', font_size=16)\n",
    "    fig.show()\n",
    "\n",
    "plot_confusion_matrix(cm)"
   ],
   "metadata": {
    "id": "ARWgre3rdJ8Y"
   },
   "execution_count": null,
   "outputs": []
  },
  {
   "cell_type": "code",
   "execution_count": null,
   "outputs": [],
   "source": [],
   "metadata": {
    "collapsed": false
   }
  },
  {
   "cell_type": "markdown",
   "source": [
    "# Raport klasyfikacji"
   ],
   "metadata": {
    "id": "74l0UDmbdZ9W"
   }
  },
  {
   "cell_type": "code",
   "source": [
    "from sklearn.metrics import classification_report\n",
    "\n",
    "print(classification_report(y_true, y_pred))"
   ],
   "metadata": {
    "id": "lMlepspmdJxX"
   },
   "execution_count": null,
   "outputs": []
  }
 ]
}
