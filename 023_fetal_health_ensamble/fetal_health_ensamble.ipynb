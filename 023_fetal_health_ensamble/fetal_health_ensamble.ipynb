{
 "cells": [
  {
   "cell_type": "code",
   "execution_count": null,
   "id": "initial_id",
   "metadata": {
    "collapsed": true
   },
   "outputs": [],
   "source": [
    "import numpy as np\n",
    "import pandas as pd\n",
    "from keras import Sequential, Input\n",
    "from keras.src.layers import Dense\n",
    "from keras.src.utils import to_categorical\n",
    "from sklearn.metrics import accuracy_score\n",
    "from sklearn.model_selection import train_test_split\n",
    "from sklearn.preprocessing import StandardScaler\n",
    "import plotly.express as px"
   ]
  },
  {
   "cell_type": "code",
   "execution_count": null,
   "outputs": [],
   "source": [
    "data = pd.read_csv(\"fetal_health.csv\")\n",
    "labels = data[\"fetal_health\"].values - 1\n",
    "data = data.drop(data.columns[-1], axis=1)\n",
    "\n",
    "# display(px.histogram(labels))\n",
    "\n",
    "data, test_data, labels, test_labels = train_test_split(data, labels, test_size=0.25)\n",
    "\n",
    "scaler = StandardScaler()\n",
    "scaler.fit(data)\n",
    "data = scaler.transform(data)\n",
    "test_data = scaler.transform(test_data)"
   ],
   "metadata": {
    "collapsed": false
   },
   "id": "d696df9f8aa4a162"
  },
  {
   "cell_type": "code",
   "execution_count": null,
   "outputs": [],
   "source": [
    "NUMBER_OF_SUBSETS_TO_CROSS_VALIDATION = 9\n",
    "one_cluster_size = len(data) // NUMBER_OF_SUBSETS_TO_CROSS_VALIDATION\n",
    "print(f\"Data shape: {data.shape}\")\n",
    "print(f\"One-cluster size: {one_cluster_size}\")"
   ],
   "metadata": {
    "collapsed": false
   },
   "id": "41d3080e1c684c8b"
  },
  {
   "cell_type": "code",
   "execution_count": null,
   "outputs": [],
   "source": [
    "def create_model():\n",
    "    model = Sequential()\n",
    "    model.add(Input(shape=(21,)))\n",
    "    model.add(Dense(units=3, activation=\"softmax\"))\n",
    "\n",
    "    model.compile(optimizer=\"adam\", loss=\"categorical_crossentropy\", metrics=[\"accuracy\"])\n",
    "\n",
    "    return model"
   ],
   "metadata": {
    "collapsed": false
   },
   "id": "8339a9ed3006cce2"
  },
  {
   "cell_type": "code",
   "execution_count": null,
   "outputs": [],
   "source": [
    "data_subsets = []\n",
    "labels_subsets = []\n",
    "\n",
    "for i in range(NUMBER_OF_SUBSETS_TO_CROSS_VALIDATION):\n",
    "    first_elem_index = one_cluster_size * i\n",
    "    last_elem_index = first_elem_index + one_cluster_size\n",
    "\n",
    "    data_subsets.append(data[first_elem_index:last_elem_index])\n",
    "    labels_subsets.append(labels[first_elem_index:last_elem_index])"
   ],
   "metadata": {
    "collapsed": false
   },
   "id": "d4650bd8856107c9"
  },
  {
   "cell_type": "code",
   "execution_count": null,
   "outputs": [],
   "source": [
    "models = []\n",
    "stats = pd.DataFrame(columns=[\"#\", \"accuracy\", \"loss\", \"val_accuracy\", \"val_loss\"])\n",
    "\n",
    "for i in range(NUMBER_OF_SUBSETS_TO_CROSS_VALIDATION):\n",
    "    model = create_model()\n",
    "\n",
    "    data_to_train = np.concatenate([data_subsets[j] for j in range(len(data_subsets)) if i != j])\n",
    "    labels_to_train = np.concatenate([labels_subsets[j] for j in range(len(labels_subsets)) if i != j])\n",
    "    data_to_validate = data_subsets[i]\n",
    "    labels_to_validate = labels_subsets[i]\n",
    "\n",
    "    labels_to_train = to_categorical(labels_to_train)\n",
    "    labels_to_validate = to_categorical(labels_to_validate)\n",
    "\n",
    "    r = model.fit(data_to_train, labels_to_train, epochs=10, batch_size=16,\n",
    "                  validation_data=(data_to_validate, labels_to_validate), verbose=0)\n",
    "\n",
    "    models.append(model)\n",
    "\n",
    "    stat = [\n",
    "        i + 1,\n",
    "        r.history[\"accuracy\"][-1],\n",
    "        r.history[\"loss\"][-1],\n",
    "        r.history[\"val_accuracy\"][-1],\n",
    "        r.history[\"val_loss\"][-1]\n",
    "    ]\n",
    "\n",
    "    stats.loc[len(stats)] = stat\n",
    "\n",
    "    print(f\"{i + 1}/{NUMBER_OF_SUBSETS_TO_CROSS_VALIDATION} models trained\")\n",
    "\n",
    "stats"
   ],
   "metadata": {
    "collapsed": false
   },
   "id": "a43b78d365879aeb"
  },
  {
   "cell_type": "code",
   "execution_count": null,
   "outputs": [],
   "source": [
    "comparision = pd.DataFrame({\n",
    "    \"true\": test_labels\n",
    "})\n",
    "\n",
    "i = 1\n",
    "for model in models:\n",
    "    preds = model.predict(test_data, verbose=0)\n",
    "    classes = np.argmax(preds, axis=1)\n",
    "    comparision[f\"Model #{i}\"] = classes\n",
    "\n",
    "    print(f\"Model #{i} accuracy: {accuracy_score(comparision['true'], classes)}\")\n",
    "\n",
    "    i += 1\n",
    "\n",
    "# Majority voting\n",
    "voting = comparision[comparision.columns[1:]].mode(axis=1)\n",
    "comparision[\"Majority Vote\"] = voting[0]\n",
    "\n",
    "print(f\"Majority voting accuracy: {accuracy_score(comparision['true'], comparision['Majority Vote'])}\")"
   ],
   "metadata": {
    "collapsed": false
   },
   "id": "ff17164473c43b40"
  },
  {
   "cell_type": "code",
   "execution_count": null,
   "outputs": [],
   "source": [
    "comparision"
   ],
   "metadata": {
    "collapsed": false
   },
   "id": "b18bbadc9a3e0652"
  },
  {
   "cell_type": "markdown",
   "source": [
    "# Conclusions\n",
    "Sometimes majority voting is more accurate than all models, but never have accuracy lower than worst model.\n",
    "\n",
    "Some tests:\n",
    "- ***3 folds:*** For 5 pipelines, majority voting is better than any model in 3 attempts.\n",
    "- ***5 folds:*** For 5 pipelines, majority voting is better than any model in 0 attempt, but in 3 attempts MV have accuracy equals to best model.\n",
    "\n"
   ],
   "metadata": {
    "collapsed": false
   },
   "id": "756aa582446b1013"
  }
 ],
 "metadata": {
  "kernelspec": {
   "display_name": "Python 3",
   "language": "python",
   "name": "python3"
  },
  "language_info": {
   "codemirror_mode": {
    "name": "ipython",
    "version": 2
   },
   "file_extension": ".py",
   "mimetype": "text/x-python",
   "name": "python",
   "nbconvert_exporter": "python",
   "pygments_lexer": "ipython2",
   "version": "2.7.6"
  }
 },
 "nbformat": 4,
 "nbformat_minor": 5
}
